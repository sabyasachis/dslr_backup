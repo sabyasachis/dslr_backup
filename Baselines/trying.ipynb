{
 "cells": [
  {
   "cell_type": "code",
   "execution_count": 3,
   "id": "141c60a1",
   "metadata": {
    "ExecuteTime": {
     "end_time": "2021-05-20T18:49:55.161121Z",
     "start_time": "2021-05-20T18:49:51.733381Z"
    }
   },
   "outputs": [],
   "source": [
    "import pandas as pd\n",
    "import numpy as np\n",
    "import gc\n",
    "import os\n",
    "import sys\n",
    "import matplotlib.pyplot as plt\n",
    "from tqdm import tqdm_notebook\n",
    "from sklearn.neighbors import NearestNeighbors"
   ]
  },
  {
   "cell_type": "code",
   "execution_count": 4,
   "id": "7ed0edb8",
   "metadata": {
    "ExecuteTime": {
     "end_time": "2021-05-20T18:49:57.573379Z",
     "start_time": "2021-05-20T18:49:57.548693Z"
    }
   },
   "outputs": [],
   "source": [
    "%matplotlib notebook"
   ]
  },
  {
   "cell_type": "code",
   "execution_count": 12,
   "id": "f44310d3",
   "metadata": {
    "ExecuteTime": {
     "end_time": "2021-05-20T18:55:19.031681Z",
     "start_time": "2021-05-20T18:55:19.026588Z"
    }
   },
   "outputs": [],
   "source": [
    "BASE_PATH = \"/home/saby/Projects/ati/data/data/datasets/ARD/dynamic/\"\n",
    "BASE_1_PATH = os.path.join(BASE_PATH, \"1\", \"_out\")\n",
    "BASE_2_PATH = os.path.join(BASE_PATH, \"2\", \"_out\")"
   ]
  },
  {
   "cell_type": "code",
   "execution_count": 13,
   "id": "337649ca",
   "metadata": {
    "ExecuteTime": {
     "end_time": "2021-05-20T18:55:19.557297Z",
     "start_time": "2021-05-20T18:55:19.552493Z"
    }
   },
   "outputs": [],
   "source": [
    "def draw_pcd(pcd):    \n",
    "    visualizer = o3d.JVisualizer()\n",
    "    visualizer.add_geometry(pcd)\n",
    "    visualizer.show()"
   ]
  },
  {
   "cell_type": "code",
   "execution_count": 21,
   "id": "b50b1859",
   "metadata": {
    "ExecuteTime": {
     "end_time": "2021-05-20T18:59:14.635987Z",
     "start_time": "2021-05-20T18:59:14.262191Z"
    }
   },
   "outputs": [
    {
     "data": {
      "application/vnd.jupyter.widget-view+json": {
       "model_id": "24ac611e6b034476b7ca8eb132e31193",
       "version_major": 2,
       "version_minor": 0
      },
      "text/plain": [
       "JVisualizer with 1 geometries"
      ]
     },
     "metadata": {},
     "output_type": "display_data"
    }
   ],
   "source": [
    "dynamic_1_pcd = o3d.io.read_point_cloud(os.path.join(BASE_1_PATH, \"100.pcd\"))\n",
    "draw_pcd(dynamic_1_pcd)"
   ]
  },
  {
   "cell_type": "code",
   "execution_count": null,
   "id": "f5d17599",
   "metadata": {},
   "outputs": [],
   "source": []
  }
 ],
 "metadata": {
  "kernelspec": {
   "display_name": "Python 3",
   "language": "python",
   "name": "python3"
  },
  "language_info": {
   "codemirror_mode": {
    "name": "ipython",
    "version": 3
   },
   "file_extension": ".py",
   "mimetype": "text/x-python",
   "name": "python",
   "nbconvert_exporter": "python",
   "pygments_lexer": "ipython3",
   "version": "3.6.10"
  },
  "toc": {
   "base_numbering": 1,
   "nav_menu": {},
   "number_sections": true,
   "sideBar": true,
   "skip_h1_title": false,
   "title_cell": "Table of Contents",
   "title_sidebar": "Contents",
   "toc_cell": false,
   "toc_position": {},
   "toc_section_display": true,
   "toc_window_display": false
  }
 },
 "nbformat": 4,
 "nbformat_minor": 5
}
