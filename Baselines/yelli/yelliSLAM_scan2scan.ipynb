{
 "cells": [
  {
   "cell_type": "markdown",
   "metadata": {},
   "source": [
    "It is a Grid Search based SLAM implementation using LIDAR data using the following:\n",
    " - basic : we rotate the destination (later) pcd to destination's (local) grid points to score against source (former) pcd\n",
    " - adaptive grid : grid is interpolated based on velocity instead of distance ; this assumes that there are no sudden acceleration or impulsive forces or jerks\n",
    " - 2d map : creates a 2d map of the environment instead of 3d\n",
    " - parallel : the grid search for every pose has been parallelized on CPU cores"
   ]
  },
  {
   "cell_type": "markdown",
   "metadata": {},
   "source": [
    "### Imports"
   ]
  },
  {
   "cell_type": "code",
   "execution_count": 1,
   "metadata": {
    "ExecuteTime": {
     "end_time": "2019-11-01T17:59:21.948031Z",
     "start_time": "2019-11-01T17:59:20.866170Z"
    }
   },
   "outputs": [],
   "source": [
    "import numpy as np\n",
    "import pandas as pd\n",
    "import gc\n",
    "from tqdm import *\n",
    "import os\n",
    "import copy\n",
    "import sys\n",
    "import time\n",
    "from collections import Counter, deque\n",
    "from multiprocessing import Pool, cpu_count\n",
    "\n",
    "import transforms3d\n",
    "\n",
    "from sklearn.manifold import TSNE, LocallyLinearEmbedding\n",
    "from sklearn.cluster import MeanShift\n",
    "\n",
    "import matplotlib.pyplot as plt\n",
    "from mpl_toolkits.mplot3d import Axes3D\n",
    "# import ipyvolume as ipv\n",
    "import open3d as o3d\n",
    "\n",
    "import warnings\n",
    "warnings.filterwarnings(\"ignore\")\n",
    "\n",
    "%matplotlib inline\n",
    "# %matplotlib notebook"
   ]
  },
  {
   "cell_type": "markdown",
   "metadata": {},
   "source": [
    "### Set paths and file names"
   ]
  },
  {
   "cell_type": "raw",
   "metadata": {
    "ExecuteTime": {
     "end_time": "2019-11-01T16:19:42.819072Z",
     "start_time": "2019-11-01T16:19:42.814899Z"
    }
   },
   "source": [
    "INVERT_Z = False\n",
    "X_GRID = np.arange(-0.2, 0.25, 0.05)\n",
    "Y_GRID = np.arange(-0.2, 0.25, 0.05)\n",
    "THETA_GRID = np.arange(-2, 2.5, 0.5)\n",
    "\n",
    "# LIDAR_PCD_PATH = \"/home/sabyasachi/Projects/ati/data/data/datasets/IISC/2019-06-12/10-00-14-P1-6-auto-ccw_5loops_0.6_no_numba/complete_extracted\"\n",
    "LIDAR_PCD_PATH = \"/home/sabyasachi/Projects/ati/data/data/datasets/IISC/2019-02-26/ref_run_ccw_r/complete_extracted\"\n",
    "\n",
    "\n",
    "\n",
    "MAP_FILE = 'map_2019-02-26_ref_run_ccw_r.pcd'\n",
    "POSE_FILE = 'pose_2019-02-26_ref_run_ccw_r.json'"
   ]
  },
  {
   "cell_type": "code",
   "execution_count": 2,
   "metadata": {
    "ExecuteTime": {
     "end_time": "2019-11-01T17:59:21.953985Z",
     "start_time": "2019-11-01T17:59:21.950283Z"
    }
   },
   "outputs": [],
   "source": [
    "INVERT_Z = True\n",
    "X_GRID = np.arange(-6, 7, 3)\n",
    "Y_GRID = np.arange(-6, 7, 3)\n",
    "THETA_GRID = np.arange(-12, 12, 4)\n",
    "\n",
    "\n",
    "FIRST_PCD = 2\n",
    "FINAL_PCD = 1200\n",
    "LIDAR_PCD_PATH = \"/home/sabyasachi/Projects/ati/data/data/datasets/Carla/currentDataforCVPR/template3/static/1/_out\"\n",
    "\n",
    "\n",
    "POSE_FILE = 'trial_pose_template3_1.json'"
   ]
  },
  {
   "cell_type": "markdown",
   "metadata": {},
   "source": [
    "### Set constants and flags"
   ]
  },
  {
   "cell_type": "code",
   "execution_count": 3,
   "metadata": {
    "ExecuteTime": {
     "end_time": "2019-11-01T17:59:21.959795Z",
     "start_time": "2019-11-01T17:59:21.955943Z"
    }
   },
   "outputs": [
    {
     "name": "stdout",
     "output_type": "stream",
     "text": [
      "No of grid pts to evaluate per pose: 150\n"
     ]
    }
   ],
   "source": [
    "# FIRST_PCD = 2\n",
    "# FINAL_PCD = 809\n",
    "# FIRST_PCD = 2\n",
    "# FINAL_PCD = 879\n",
    "\n",
    "VOXEL_SZ = 0.8\n",
    "MAKE_2D = True\n",
    "\n",
    "plt.rcParams['figure.figsize'] = [10, 10]\n",
    "\n",
    "\n",
    "print(\"No of grid pts to evaluate per pose: {}\".format(X_GRID.shape[0]*Y_GRID.shape[0]*THETA_GRID.shape[0]))"
   ]
  },
  {
   "cell_type": "markdown",
   "metadata": {},
   "source": [
    "### Functions for pcd io"
   ]
  },
  {
   "cell_type": "code",
   "execution_count": 4,
   "metadata": {
    "ExecuteTime": {
     "end_time": "2019-11-01T17:59:21.977898Z",
     "start_time": "2019-11-01T17:59:21.961465Z"
    },
    "code_folding": [
     0
    ]
   },
   "outputs": [],
   "source": [
    "def pose2matrix(translation_list, rotation_angle_list):\n",
    "    trans_vec = np.array(translation_list)\n",
    "    rot_ang = [np.deg2rad(ang) for ang in rotation_angle_list ]\n",
    "    rot_mat = transforms3d.euler.euler2mat(rot_ang[0], rot_ang[1], rot_ang[2])\n",
    "    zoom = np.ones(3)\n",
    "    transform_mat = transforms3d.affines.compose(trans_vec, rot_mat, zoom)\n",
    "    return transform_mat\n",
    "\n",
    "def filter_pcd(old_pcd,\n",
    "               make_2d = MAKE_2D,\n",
    "               apply_downsample = True,\n",
    "               apply_outlier_removal = False,\n",
    "               apply_crop = True,\n",
    "               invert_z = INVERT_Z,\n",
    "               \n",
    "               downsample_voxel_size = VOXEL_SZ,\n",
    "               \n",
    "               downsample_radius = 1,\n",
    "               downsample_neighbors = 20,\n",
    "               \n",
    "               crop_min_arr = np.array([-100,-100,-2]),\n",
    "               crop_max_arr = np.array([100,100,100]),\n",
    "               ):\n",
    "    np.random.seed(0)\n",
    "    pcd = copy.deepcopy(old_pcd)\n",
    "    \n",
    "    if invert_z:\n",
    "        some_arr = np.asarray(pcd.points)\n",
    "        some_arr = np.array([(x,y,-z) for x, y, z in some_arr])\n",
    "        pcd.points = o3d.utility.Vector3dVector(some_arr)\n",
    "        \n",
    "    if apply_crop:\n",
    "        cropped_pcd = o3d.geometry.crop_point_cloud(pcd, crop_min_arr, crop_max_arr)\n",
    "        pcd = cropped_pcd\n",
    "    \n",
    "    if apply_outlier_removal:\n",
    "        denser_pcd, ind = o3d.geometry.radius_outlier_removal(pcd,\n",
    "                                                              nb_points = downsample_neighbors,\n",
    "                                                              radius    = downsample_radius)\n",
    "        pcd = denser_pcd\n",
    "    \n",
    "    if make_2d:\n",
    "        new_pts = np.concatenate([np.asarray(pcd.points)[:,:-1],np.zeros((len(pcd.points),1))], axis=1)\n",
    "        pcd.points = o3d.utility.Vector3dVector(new_pts)\n",
    "    \n",
    "        \n",
    "    if apply_downsample:\n",
    "        voxel_down_pcd = o3d.geometry.voxel_down_sample(pcd, voxel_size = downsample_voxel_size)\n",
    "        pcd = voxel_down_pcd\n",
    "\n",
    "    return pcd\n",
    "\n",
    "# def make_2d(pcd):\n",
    "#     new_pcd = copy.deepcopy(pcd)\n",
    "#     new_pts = np.concatenate([np.asarray(pcd.points)[:,:-1],np.zeros((len(pcd.points),1))], axis=1)\n",
    "#     new_pcd.points = o3d.utility.Vector3dVector(new_pts)\n",
    "#     return new_pcd\n",
    "\n",
    "def read_pcd(pcd_id):\n",
    "    pcd_file = str(pcd_id) + \".ply\"\n",
    "    pcd = o3d.io.read_point_cloud(os.path.join(LIDAR_PCD_PATH, pcd_file))\n",
    "    return pcd\n",
    "\n",
    "def draw_pcd(pcd, where='mat_3d'):\n",
    "    if where is 'opn_nb':\n",
    "        visualizer = o3d.JVisualizer()\n",
    "        visualizer.add_geometry(pcd)\n",
    "        visualizer.show()\n",
    "    elif where is 'opn_view':\n",
    "        o3d.visualization.draw_geometries([pcd], width=1280, height=800)\n",
    "    elif where is 'mat_3d':\n",
    "        pts = np.asarray(pcd.points)\n",
    "        plt.scatter(pts[:,0], pts[:,1], pts[:,2])\n",
    "        plt.show()\n",
    "    elif where is 'mat_2d':\n",
    "        pts = np.asarray(pcd.points)\n",
    "        plt.scatter(pts[:,0], pts[:,1])\n",
    "        plt.show()\n",
    "        \n",
    "def draw_registration_result(src_pcd, dst_pcd, x_pt, y_pt, theta):    \n",
    "    src_pcd_tmp = copy.deepcopy(src_pcd)\n",
    "    dst_pcd_tmp = copy.deepcopy(dst_pcd)\n",
    "    \n",
    "    src_pcd_tmp.paint_uniform_color([1, 0, 0])  # red source\n",
    "    dst_pcd_tmp.paint_uniform_color([0, 0, 1])  # blue target\n",
    "    \n",
    "    transform_mat = pose2matrix([x_pt, y_pt, 0], [0,0,theta])\n",
    "    dst_pcd_tmp.transform(transform_mat)\n",
    "    \n",
    "    visualizer = o3d.JVisualizer()\n",
    "    visualizer.add_geometry(src_pcd_tmp)\n",
    "    visualizer.add_geometry(dst_pcd_tmp)\n",
    "    visualizer.show()"
   ]
  },
  {
   "cell_type": "code",
   "execution_count": null,
   "metadata": {},
   "outputs": [],
   "source": []
  },
  {
   "cell_type": "markdown",
   "metadata": {},
   "source": [
    "### Functions for pose estimation and scoring"
   ]
  },
  {
   "cell_type": "code",
   "execution_count": 5,
   "metadata": {
    "ExecuteTime": {
     "end_time": "2019-11-01T17:59:21.987719Z",
     "start_time": "2019-11-01T17:59:21.979543Z"
    },
    "code_folding": []
   },
   "outputs": [],
   "source": [
    "def score_pts(src_pcd, dst_pcd, trans_arr=np.zeros(3), rot_ang=np.zeros(3)):\n",
    "    NEIGHB_RADIUS = VOXEL_SZ\n",
    "    \n",
    "    src_tmp_pcd = copy.deepcopy(src_pcd)\n",
    "    dst_tmp_pcd = copy.deepcopy(dst_pcd)\n",
    "    \n",
    "    transform_mat = pose2matrix(trans_arr, rot_ang)\n",
    "    # Note: we apply transformation on target pcd to directly get pose (without sign change)\n",
    "    dst_tmp_pcd.transform(transform_mat)\n",
    "    \n",
    "    score = o3d.registration.evaluate_registration(src_tmp_pcd, dst_tmp_pcd, NEIGHB_RADIUS)\n",
    "    \n",
    "    fit = score.fitness\n",
    "    rmse = score.inlier_rmse\n",
    "    n_pairs = np.asarray(score.correspondence_set).shape[0]\n",
    "    return rmse, fit, n_pairs\n",
    "\n",
    "def parallel_thread(parallel_arg):\n",
    "    grid_pts, previous_pose, previous_velocity = parallel_arg[0], parallel_arg[1], parallel_arg[2]\n",
    "    x_pt, y_pt, theta_pt = grid_pts[0], grid_pts[1], grid_pts[2]\n",
    "    x_src, y_src, theta_src = previous_pose[0], previous_pose[1], previous_pose[2]\n",
    "    x_vel, y_vel, theta_vel = previous_velocity[0], previous_velocity[1], previous_velocity[2]\n",
    "    \n",
    "    x = x_src + x_vel + x_pt\n",
    "    y = y_src + y_vel + y_pt\n",
    "    t = theta_src + theta_vel + theta_pt\n",
    "    rmse, fit, n_pairs = score_pts(map_pcd, new_pcd,\n",
    "                                   trans_arr = [x, y, 0],\n",
    "                                   rot_ang   = [0, 0, t])\n",
    "    result = {'x' : x,\n",
    "              'y' : y,\n",
    "              'theta' : t,\n",
    "              \n",
    "              'x_vel' : x_vel + x_pt,\n",
    "              'y_vel' : y_vel + y_pt,\n",
    "              'theta_vel' : theta_vel + theta_pt,\n",
    "              \n",
    "              'rmse' : rmse,\n",
    "              'fit' : fit,\n",
    "              'n_pairs' : n_pairs}\n",
    "    return result"
   ]
  },
  {
   "cell_type": "markdown",
   "metadata": {},
   "source": [
    "### Implementation"
   ]
  },
  {
   "cell_type": "markdown",
   "metadata": {},
   "source": [
    "#### Create initial map"
   ]
  },
  {
   "cell_type": "code",
   "execution_count": 6,
   "metadata": {
    "ExecuteTime": {
     "end_time": "2019-11-01T17:59:22.180933Z",
     "start_time": "2019-11-01T17:59:21.990218Z"
    }
   },
   "outputs": [
    {
     "name": "stdout",
     "output_type": "stream",
     "text": [
      "geometry::PointCloud with 281 points.\n"
     ]
    }
   ],
   "source": [
    "map_pcd = read_pcd(FIRST_PCD)\n",
    "map_pcd = filter_pcd(map_pcd)\n",
    "print(map_pcd)"
   ]
  },
  {
   "cell_type": "markdown",
   "metadata": {},
   "source": [
    "#### Initialize pose arrays"
   ]
  },
  {
   "cell_type": "code",
   "execution_count": 7,
   "metadata": {
    "ExecuteTime": {
     "end_time": "2019-11-01T17:59:22.187137Z",
     "start_time": "2019-11-01T17:59:22.183407Z"
    }
   },
   "outputs": [],
   "source": [
    "pose_list = []\n",
    "global_origin_pt = {'x' : 0,\n",
    "                    'y' : 0,\n",
    "                    'theta' : 0,\n",
    "                    \n",
    "                    'x_vel' : 0,\n",
    "                    'y_vel' : 0,\n",
    "                    'theta_vel' : 0,\n",
    "                    \n",
    "                    'rmse' : 0,\n",
    "                    'fit' : 1,\n",
    "                    'n_pairs' : np.asarray(map_pcd.points).shape[0]}\n",
    "pose_list.append(global_origin_pt)"
   ]
  },
  {
   "cell_type": "code",
   "execution_count": null,
   "metadata": {},
   "outputs": [],
   "source": []
  },
  {
   "cell_type": "markdown",
   "metadata": {
    "ExecuteTime": {
     "end_time": "2019-06-09T18:48:57.692133Z",
     "start_time": "2019-06-09T18:48:57.653704Z"
    }
   },
   "source": [
    "#### Iterate over all subsequent pcds for local pose estimation and building the map"
   ]
  },
  {
   "cell_type": "code",
   "execution_count": 8,
   "metadata": {
    "ExecuteTime": {
     "end_time": "2019-11-01T18:05:59.356051Z",
     "start_time": "2019-11-01T17:59:22.190073Z"
    },
    "scrolled": true
   },
   "outputs": [
    {
     "data": {
      "application/vnd.jupyter.widget-view+json": {
       "model_id": "83f507ee62034caf9e557bde910128ef",
       "version_major": 2,
       "version_minor": 0
      },
      "text/plain": [
       "HBox(children=(IntProgress(value=0, max=1198), HTML(value='')))"
      ]
     },
     "metadata": {},
     "output_type": "display_data"
    },
    {
     "ename": "KeyboardInterrupt",
     "evalue": "",
     "output_type": "error",
     "traceback": [
      "\u001b[0;31m---------------------------------------------------------------------------\u001b[0m",
      "\u001b[0;31mKeyboardInterrupt\u001b[0m                         Traceback (most recent call last)",
      "\u001b[0;32m<ipython-input-8-b57a19c29343>\u001b[0m in \u001b[0;36m<module>\u001b[0;34m\u001b[0m\n\u001b[1;32m     25\u001b[0m     \u001b[0mpd\u001b[0m\u001b[0;34m.\u001b[0m\u001b[0mDataFrame\u001b[0m\u001b[0;34m(\u001b[0m\u001b[0mpose_list\u001b[0m\u001b[0;34m)\u001b[0m\u001b[0;34m.\u001b[0m\u001b[0mto_json\u001b[0m\u001b[0;34m(\u001b[0m\u001b[0mPOSE_FILE\u001b[0m\u001b[0;34m,\u001b[0m \u001b[0morient\u001b[0m\u001b[0;34m=\u001b[0m\u001b[0;34m'records'\u001b[0m\u001b[0;34m,\u001b[0m \u001b[0mlines\u001b[0m\u001b[0;34m=\u001b[0m\u001b[0;32mTrue\u001b[0m\u001b[0;34m)\u001b[0m\u001b[0;34m\u001b[0m\u001b[0;34m\u001b[0m\u001b[0m\n\u001b[1;32m     26\u001b[0m \u001b[0;34m\u001b[0m\u001b[0m\n\u001b[0;32m---> 27\u001b[0;31m     \u001b[0mgc\u001b[0m\u001b[0;34m.\u001b[0m\u001b[0mcollect\u001b[0m\u001b[0;34m(\u001b[0m\u001b[0;34m)\u001b[0m\u001b[0;34m\u001b[0m\u001b[0;34m\u001b[0m\u001b[0m\n\u001b[0m",
      "\u001b[0;31mKeyboardInterrupt\u001b[0m: "
     ]
    }
   ],
   "source": [
    "for pcd_idx in tqdm_notebook(range(FIRST_PCD+1, FINAL_PCD+1)):\n",
    "    # Read next pcd and filter it\n",
    "    new_pcd = read_pcd(pcd_idx)\n",
    "    new_pcd = filter_pcd(new_pcd)\n",
    "\n",
    "    # Extract last pose\n",
    "    x_src, y_src, theta_src = pose_list[-1]['x'], pose_list[-1]['y'], pose_list[-1]['theta']\n",
    "    x_vel, y_vel, theta_vel = pose_list[-1]['x_vel'], pose_list[-1]['y_vel'], pose_list[-1]['theta_vel']\n",
    "    \n",
    "    # Extract all grid pts\n",
    "    parallel_args = [([x_pt, y_pt, theta], [x_src, y_src, theta_src], [x_vel, y_vel, theta_vel])\\\n",
    "                     for x_pt in X_GRID for y_pt in Y_GRID for theta in THETA_GRID]\n",
    "    \n",
    "    # Score on all grid pts\n",
    "    process_pool = Pool(cpu_count()-1)\n",
    "    score_list = [each for each in process_pool.imap_unordered(parallel_thread, parallel_args)]\n",
    "    process_pool.terminate()\n",
    "    \n",
    "    # Extract pose with best matching score\n",
    "    df_score = pd.DataFrame(score_list)\n",
    "    new_pose_pt = df_score.iloc[df_score.fit.argmax()].to_dict()\n",
    "    pose_list.append(new_pose_pt)\n",
    "\n",
    "    # Checkpoint the new map and pose array to files\n",
    "    pd.DataFrame(pose_list).to_json(POSE_FILE, orient='records', lines=True)\n",
    "    \n",
    "    gc.collect()"
   ]
  },
  {
   "cell_type": "code",
   "execution_count": null,
   "metadata": {},
   "outputs": [],
   "source": []
  },
  {
   "cell_type": "markdown",
   "metadata": {},
   "source": [
    "#### Verifying completing of SLAM iterations"
   ]
  },
  {
   "cell_type": "code",
   "execution_count": null,
   "metadata": {
    "ExecuteTime": {
     "end_time": "2019-11-01T18:05:59.357933Z",
     "start_time": "2019-11-01T17:59:20.915Z"
    }
   },
   "outputs": [],
   "source": [
    "pcd_idx"
   ]
  },
  {
   "cell_type": "code",
   "execution_count": null,
   "metadata": {
    "ExecuteTime": {
     "end_time": "2019-11-01T18:05:59.359005Z",
     "start_time": "2019-11-01T17:59:20.917Z"
    }
   },
   "outputs": [],
   "source": [
    "map_pcd"
   ]
  },
  {
   "cell_type": "code",
   "execution_count": null,
   "metadata": {},
   "outputs": [],
   "source": []
  },
  {
   "cell_type": "markdown",
   "metadata": {},
   "source": [
    "### Analysis"
   ]
  },
  {
   "cell_type": "markdown",
   "metadata": {},
   "source": [
    "#### Look at the Map"
   ]
  },
  {
   "cell_type": "code",
   "execution_count": null,
   "metadata": {
    "ExecuteTime": {
     "end_time": "2019-11-01T18:05:59.360082Z",
     "start_time": "2019-11-01T17:59:20.921Z"
    },
    "scrolled": true
   },
   "outputs": [],
   "source": [
    "map_pcd"
   ]
  },
  {
   "cell_type": "code",
   "execution_count": null,
   "metadata": {
    "ExecuteTime": {
     "end_time": "2019-11-01T18:05:59.361106Z",
     "start_time": "2019-11-01T17:59:20.923Z"
    }
   },
   "outputs": [],
   "source": [
    "draw_pcd(map_pcd, where='mat_3d')\n",
    "draw_pcd(map_pcd, where='mat_2d')"
   ]
  },
  {
   "cell_type": "code",
   "execution_count": null,
   "metadata": {
    "ExecuteTime": {
     "end_time": "2019-11-01T18:05:59.362107Z",
     "start_time": "2019-11-01T17:59:20.925Z"
    }
   },
   "outputs": [],
   "source": [
    "draw_pcd(map_pcd, where='opn_nb')"
   ]
  },
  {
   "cell_type": "code",
   "execution_count": null,
   "metadata": {},
   "outputs": [],
   "source": []
  },
  {
   "cell_type": "markdown",
   "metadata": {},
   "source": [
    "#### Look at the Poses"
   ]
  },
  {
   "cell_type": "code",
   "execution_count": null,
   "metadata": {
    "ExecuteTime": {
     "end_time": "2019-11-01T18:05:59.363181Z",
     "start_time": "2019-11-01T17:59:20.929Z"
    }
   },
   "outputs": [],
   "source": [
    "df_pose = pd.DataFrame(pose_list)"
   ]
  },
  {
   "cell_type": "code",
   "execution_count": null,
   "metadata": {
    "ExecuteTime": {
     "end_time": "2019-11-01T18:05:59.364208Z",
     "start_time": "2019-11-01T17:59:20.931Z"
    }
   },
   "outputs": [],
   "source": [
    "plt.scatter(df_pose['x'], df_pose['y'])"
   ]
  },
  {
   "cell_type": "markdown",
   "metadata": {},
   "source": [
    "#### Did we hit the velocity boundary ?"
   ]
  },
  {
   "cell_type": "code",
   "execution_count": null,
   "metadata": {
    "ExecuteTime": {
     "end_time": "2019-11-01T18:05:59.365414Z",
     "start_time": "2019-11-01T17:59:20.933Z"
    }
   },
   "outputs": [],
   "source": [
    "df_pose['x_abs'] = [0] + [df_pose.iloc[idx]['x_vel']- df_pose.iloc[idx-1]['x_vel'] for idx in range(df_pose.shape[0]) if idx != 0]\n",
    "df_pose['y_abs'] = [0] + [df_pose.iloc[idx]['y_vel']- df_pose.iloc[idx-1]['y_vel'] for idx in range(df_pose.shape[0]) if idx != 0]\n",
    "df_pose['theta_abs'] = [0] + [df_pose.iloc[idx]['theta_vel']- df_pose.iloc[idx-1]['theta_vel'] for idx in range(df_pose.shape[0]) if idx != 0]"
   ]
  },
  {
   "cell_type": "raw",
   "metadata": {
    "ExecuteTime": {
     "end_time": "2019-06-20T07:56:04.487439Z",
     "start_time": "2019-06-20T07:56:04.472083Z"
    }
   },
   "source": [
    "print(X_GRID[0], X_GRID[-1])\n",
    "print(df_pose['x_abs'].min(), df_pose['x_abs'].max())\n",
    "print(\"\")\n",
    "print(Y_GRID[0], Y_GRID[-1])\n",
    "print(df_pose['y_abs'].min(), df_pose['y_abs'].max())\n",
    "print(\"\")\n",
    "print(THETA_GRID[0], THETA_GRID[-1])\n",
    "print(df_pose['theta_abs'].min(), df_pose['theta_abs'].max())"
   ]
  },
  {
   "cell_type": "code",
   "execution_count": null,
   "metadata": {
    "ExecuteTime": {
     "end_time": "2019-11-01T18:05:59.366547Z",
     "start_time": "2019-11-01T17:59:20.957Z"
    }
   },
   "outputs": [],
   "source": [
    "if df_pose['x_abs'].min() <= X_GRID[0]:\n",
    "    print(\"Velocity boundary hit in -X direction\")\n",
    "    print(\"Expected: {} | Real : {}\".format(X_GRID[0], df_pose['x_abs'].min()))\n",
    "\n",
    "if df_pose['y_abs'].min() <= Y_GRID[0]:\n",
    "    print(\"Velocity boundary hit in -Y direction\")\n",
    "    print(\"Expected: {} | Real : {}\".format(Y_GRID[0], df_pose['y_abs'].min()))\n",
    "    \n",
    "if df_pose['theta_abs'].min() <= THETA_GRID[0]:\n",
    "    print(\"Velocity boundary hit in -THETA direction\")\n",
    "    print(\"Expected: {} | Real : {}\".format(THETA_GRID[0], df_pose['theta_abs'].min()))\n",
    "    \n",
    "if df_pose['x_abs'].max() >= X_GRID[-1]:\n",
    "    print(\"Velocity boundary hit in +X direction\")\n",
    "    print(\"Expected: {} | Real : {}\".format(X_GRID[-1], df_pose['x_abs'].max()))\n",
    "    \n",
    "if df_pose['y_abs'].max() >= Y_GRID[-1]:\n",
    "    print(\"Velocity boundary hit in +Y direction\")\n",
    "    print(\"Expected: {} | Real : {}\".format(Y_GRID[-1], df_pose['y_abs'].max()))\n",
    "\n",
    "if df_pose['theta_abs'].max() >= THETA_GRID[-1]:\n",
    "    print(\"Velocity boundary hit in +THETA direction\")\n",
    "    print(\"Expected: {} | Real : {}\".format(THETA_GRID[-1], df_pose['theta_abs'].max()))\n",
    "    \n",
    "print(\"All clear?\")"
   ]
  },
  {
   "cell_type": "code",
   "execution_count": null,
   "metadata": {},
   "outputs": [],
   "source": []
  },
  {
   "cell_type": "code",
   "execution_count": null,
   "metadata": {},
   "outputs": [],
   "source": []
  },
  {
   "cell_type": "code",
   "execution_count": null,
   "metadata": {},
   "outputs": [],
   "source": []
  },
  {
   "cell_type": "code",
   "execution_count": null,
   "metadata": {},
   "outputs": [],
   "source": []
  },
  {
   "cell_type": "code",
   "execution_count": null,
   "metadata": {},
   "outputs": [],
   "source": []
  },
  {
   "cell_type": "code",
   "execution_count": null,
   "metadata": {},
   "outputs": [],
   "source": []
  },
  {
   "cell_type": "code",
   "execution_count": null,
   "metadata": {},
   "outputs": [],
   "source": []
  },
  {
   "cell_type": "code",
   "execution_count": null,
   "metadata": {},
   "outputs": [],
   "source": []
  },
  {
   "cell_type": "code",
   "execution_count": null,
   "metadata": {},
   "outputs": [],
   "source": []
  },
  {
   "cell_type": "code",
   "execution_count": null,
   "metadata": {},
   "outputs": [],
   "source": []
  },
  {
   "cell_type": "code",
   "execution_count": null,
   "metadata": {},
   "outputs": [],
   "source": []
  },
  {
   "cell_type": "code",
   "execution_count": null,
   "metadata": {},
   "outputs": [],
   "source": []
  },
  {
   "cell_type": "code",
   "execution_count": null,
   "metadata": {},
   "outputs": [],
   "source": []
  },
  {
   "cell_type": "code",
   "execution_count": null,
   "metadata": {},
   "outputs": [],
   "source": []
  },
  {
   "cell_type": "code",
   "execution_count": null,
   "metadata": {},
   "outputs": [],
   "source": []
  }
 ],
 "metadata": {
  "kernelspec": {
   "display_name": "Python 3",
   "language": "python",
   "name": "python3"
  },
  "language_info": {
   "codemirror_mode": {
    "name": "ipython",
    "version": 3
   },
   "file_extension": ".py",
   "mimetype": "text/x-python",
   "name": "python",
   "nbconvert_exporter": "python",
   "pygments_lexer": "ipython3",
   "version": "3.7.3"
  },
  "toc": {
   "base_numbering": 1,
   "nav_menu": {},
   "number_sections": true,
   "sideBar": true,
   "skip_h1_title": false,
   "title_cell": "Table of Contents",
   "title_sidebar": "Contents",
   "toc_cell": false,
   "toc_position": {},
   "toc_section_display": true,
   "toc_window_display": false
  },
  "varInspector": {
   "cols": {
    "lenName": 16,
    "lenType": 16,
    "lenVar": 40
   },
   "kernels_config": {
    "python": {
     "delete_cmd_postfix": "",
     "delete_cmd_prefix": "del ",
     "library": "var_list.py",
     "varRefreshCmd": "print(var_dic_list())"
    },
    "r": {
     "delete_cmd_postfix": ") ",
     "delete_cmd_prefix": "rm(",
     "library": "var_list.r",
     "varRefreshCmd": "cat(var_dic_list()) "
    }
   },
   "types_to_exclude": [
    "module",
    "function",
    "builtin_function_or_method",
    "instance",
    "_Feature"
   ],
   "window_display": false
  }
 },
 "nbformat": 4,
 "nbformat_minor": 2
}
