{
 "cells": [
  {
   "cell_type": "code",
   "execution_count": 1,
   "metadata": {
    "ExecuteTime": {
     "end_time": "2019-12-17T12:09:04.980660Z",
     "start_time": "2019-12-17T12:08:58.120894Z"
    }
   },
   "outputs": [],
   "source": [
    "import sys\n",
    "import os, shutil\n",
    "import gc\n",
    "import torch\n",
    "import copy\n",
    "import numpy as np\n",
    "from matplotlib import pyplot as plt\n",
    "import matplotlib.cm as cm\n",
    "import open3d\n",
    "import transforms3d\n",
    "import open3d as o3d\n",
    "from sklearn.neighbors import NearestNeighbors\n",
    "import glob\n",
    "from torch.utils.data import Dataset\n",
    "from open3d import read_point_cloud\n",
    "from tqdm import tqdm_notebook\n",
    "import pandas as pd\n",
    "from multiprocessing import Pool, cpu_count"
   ]
  },
  {
   "cell_type": "code",
   "execution_count": 2,
   "metadata": {
    "ExecuteTime": {
     "end_time": "2019-12-17T12:09:05.015523Z",
     "start_time": "2019-12-17T12:09:04.982710Z"
    }
   },
   "outputs": [],
   "source": [
    "%matplotlib notebook"
   ]
  },
  {
   "cell_type": "code",
   "execution_count": 3,
   "metadata": {
    "ExecuteTime": {
     "end_time": "2019-12-17T12:09:05.019634Z",
     "start_time": "2019-12-17T12:09:05.017123Z"
    }
   },
   "outputs": [],
   "source": [
    "def getint(name):\n",
    "    return int(name.split('.')[0])"
   ]
  },
  {
   "cell_type": "code",
   "execution_count": 4,
   "metadata": {
    "ExecuteTime": {
     "end_time": "2019-12-17T12:09:05.087944Z",
     "start_time": "2019-12-17T12:09:05.022157Z"
    }
   },
   "outputs": [],
   "source": [
    "# pcd_folder_path = \"/home/sabyasachi/Projects/ati/data/data/datasets/Carla/small_map/110k/dynamic_4_times/16\"\n",
    "pcd_path = \"/home/sabyasachi/Projects/ati/ati_motors/adversarial_based/Baselines/data/recons_16_pcd\"\n",
    "# pcd_folder = \"_out\"\n",
    "# pcd_path = os.path.join(pcd_folder_path, pcd_folder)\n",
    "pcd_files = sorted(os.listdir(pcd_path), key=getint)"
   ]
  },
  {
   "cell_type": "code",
   "execution_count": 5,
   "metadata": {
    "ExecuteTime": {
     "end_time": "2019-12-17T12:09:05.091906Z",
     "start_time": "2019-12-17T12:09:05.089500Z"
    }
   },
   "outputs": [],
   "source": [
    "VOXEL_SZ=0.2/25"
   ]
  },
  {
   "cell_type": "code",
   "execution_count": null,
   "metadata": {},
   "outputs": [],
   "source": []
  },
  {
   "cell_type": "code",
   "execution_count": 6,
   "metadata": {
    "ExecuteTime": {
     "end_time": "2019-12-17T12:09:05.099550Z",
     "start_time": "2019-12-17T12:09:05.093482Z"
    }
   },
   "outputs": [],
   "source": [
    "def pose2matrix(translation_list, rotation_angle_list, zoom_list=[1,1,1]):\n",
    "    trans_vec = np.array(translation_list)\n",
    "    rot_ang = [np.deg2rad(ang) for ang in rotation_angle_list ]\n",
    "    rot_mat = transforms3d.euler.euler2mat(rot_ang[0], rot_ang[1], rot_ang[2])\n",
    "    zoom_vec = np.array(zoom_list)\n",
    "    transform_mat = transforms3d.affines.compose(trans_vec, rot_mat, zoom_vec)\n",
    "    return transform_mat\n",
    "\n",
    "def draw_registration_result(src, dst, transformation):\n",
    "    source = copy.deepcopy(src)\n",
    "    target = copy.deepcopy(dst)\n",
    "    \n",
    "    source.paint_uniform_color([1, 0, 0]) # red\n",
    "    target.paint_uniform_color([0, 0, 1]) # blue\n",
    "    source.transform(transformation)\n",
    "    o3d.visualization.draw_geometries([source, target], width=1280, height=800)\n",
    "#     visualizer = o3d.JVisualizer()\n",
    "#     visualizer.add_geometry(source)\n",
    "#     visualizer.add_geometry(target)\n",
    "#     visualizer.show()"
   ]
  },
  {
   "cell_type": "code",
   "execution_count": 7,
   "metadata": {
    "ExecuteTime": {
     "end_time": "2019-12-17T12:09:05.125802Z",
     "start_time": "2019-12-17T12:09:05.102934Z"
    }
   },
   "outputs": [],
   "source": [
    "def transform_lidar_to_gt_frame(src, dst):\n",
    "    source = copy.deepcopy(src)\n",
    "    target = copy.deepcopy(dst)\n",
    "    transformation_lidar2gt = pose2matrix([0,0,0], [0,0,90],[1,1,-1])\n",
    "    source.transform(transformation_lidar2gt)\n",
    "    target.transform(transformation_lidar2gt)\n",
    "    return source, target\n",
    "\n",
    "def get_gt_pose(df_gt, idx):\n",
    "    # get_gt_pose execution starts here\n",
    "    prev_gt = df_gt[df_gt['step'] == idx +1].iloc[0]\n",
    "    next_gt = df_gt[df_gt['step'] == idx+1 +1].iloc[0]\n",
    "\n",
    "    prev_inv_mat = np.linalg.inv(pose2matrix([prev_gt['location_x'],\n",
    "                                              prev_gt['location_y'],\n",
    "                                              prev_gt['location_z']],\n",
    "                                             [prev_gt['rotation_roll'],\n",
    "                                              prev_gt['rotation_pitch'],\n",
    "                                              prev_gt['rotation_yaw']]))\n",
    "    next_mat = pose2matrix([next_gt['location_x'],\n",
    "                            next_gt['location_y'],\n",
    "                            next_gt['location_z']],\n",
    "                           [next_gt['rotation_roll'],\n",
    "                            next_gt['rotation_pitch'],\n",
    "                            next_gt['rotation_yaw']])\n",
    "    transformation_gt = np.matmul(prev_inv_mat, next_mat)\n",
    "    transformation_gt = np.linalg.inv(transformation_gt) # Open 3d assumes transform is applied on source and not target\n",
    "    return transformation_gt\n",
    "\n",
    "def get_icp_pose(src, dst):\n",
    "    def crop_pcd(old_pcd, crop_min_arr=np.array([-100,-100,-2]), crop_max_arr=np.array([100,100,100])):\n",
    "        np.random.seed(0)\n",
    "        pcd = copy.deepcopy(old_pcd)\n",
    "\n",
    "        cropped_pcd = o3d.geometry.crop_point_cloud(pcd, crop_min_arr, crop_max_arr)\n",
    "        pcd = cropped_pcd\n",
    "        return pcd\n",
    "\n",
    "    def prepare_dataset(source, target, voxel_size):\n",
    "        def preprocess_point_cloud(pcd, voxel_size):\n",
    "            pcd_down = o3d.geometry.voxel_down_sample(pcd, voxel_size)\n",
    "            radius_normal = voxel_size * 2\n",
    "            o3d.geometry.estimate_normals(\n",
    "                pcd_down,\n",
    "                o3d.geometry.KDTreeSearchParamHybrid(radius=radius_normal, max_nn=30))\n",
    "            radius_feature = voxel_size * 5\n",
    "            pcd_fpfh = o3d.registration.compute_fpfh_feature(\n",
    "                pcd_down,\n",
    "                o3d.geometry.KDTreeSearchParamHybrid(radius=radius_feature, max_nn=100))\n",
    "            return pcd_down, pcd_fpfh\n",
    "        source_down, source_fpfh = preprocess_point_cloud(source, voxel_size)\n",
    "        target_down, target_fpfh = preprocess_point_cloud(target, voxel_size)\n",
    "        return source_down, target_down, source_fpfh, target_fpfh\n",
    "\n",
    "    def execute_global_registration(source_down, target_down, source_fpfh,\n",
    "                                    target_fpfh, voxel_size):\n",
    "        distance_threshold = voxel_size * 1.5\n",
    "        result = o3d.registration.registration_ransac_based_on_feature_matching(\n",
    "            source_down, target_down, source_fpfh, target_fpfh, distance_threshold,\n",
    "            o3d.registration.TransformationEstimationPointToPoint(False), 4, [\n",
    "                o3d.registration.CorrespondenceCheckerBasedOnEdgeLength(0.9),\n",
    "                o3d.registration.CorrespondenceCheckerBasedOnDistance(\n",
    "                    distance_threshold)\n",
    "            ], o3d.registration.RANSACConvergenceCriteria(4000000, 500))\n",
    "        return result\n",
    "\n",
    "    def refine_registration(source, target, voxel_size, trans_init):\n",
    "        distance_threshold = voxel_size * 0.4\n",
    "        result = o3d.registration.registration_icp(\n",
    "                    source, target, distance_threshold, trans_init,\n",
    "                    o3d.registration.TransformationEstimationPointToPlane())\n",
    "        return result\n",
    "\n",
    "    # get_icp_pose execution starts here\n",
    "    source = crop_pcd(src)\n",
    "    target = crop_pcd(dst)\n",
    "\n",
    "    voxel_size = VOXEL_SZ\n",
    "    source_down, target_down, source_fpfh, target_fpfh = prepare_dataset(source, target, voxel_size)\n",
    "\n",
    "    result_ransac = execute_global_registration(source_down, target_down,\n",
    "                                                source_fpfh, target_fpfh,\n",
    "                                                voxel_size)\n",
    "\n",
    "    result_icp = refine_registration(source_down, target_down, voxel_size, result_ransac.transformation)\n",
    "\n",
    "\n",
    "    evaluation = o3d.registration.evaluate_registration(source_down, target_down, voxel_size * 5, result_icp.transformation)\n",
    "    return result_icp.transformation, evaluation\n",
    "\n",
    "def get_rpe(transform1, transform2, angle_err_wt=1):\n",
    "    transformation_rpe =  np.matmul(np.linalg.inv(transform1), transform2)\n",
    "    trans_arr, rot_mat, scale_mat, shear_mat = transforms3d.affines.decompose44(transformation_rpe)\n",
    "    rot_list = transforms3d.euler.mat2euler(rot_mat, axes='sxyz')\n",
    "    rot_arr = np.array(rot_list)\n",
    "    rpe_total = np.linalg.norm(trans_arr) + (np.linalg.norm(rot_arr)*angle_err_wt)\n",
    "    return rpe_total\n",
    "\n",
    "\n"
   ]
  },
  {
   "cell_type": "code",
   "execution_count": null,
   "metadata": {},
   "outputs": [],
   "source": []
  },
  {
   "cell_type": "code",
   "execution_count": 8,
   "metadata": {
    "ExecuteTime": {
     "end_time": "2019-12-17T12:09:05.238543Z",
     "start_time": "2019-12-17T12:09:05.127450Z"
    }
   },
   "outputs": [],
   "source": [
    "df_gt = pd.read_csv(os.path.join(\"/home/sabyasachi/Projects/ati/data/data/datasets/Carla/small_map/110k/dynamic_4_times/16\", \"groundTruth.csv\"))"
   ]
  },
  {
   "cell_type": "code",
   "execution_count": 10,
   "metadata": {
    "ExecuteTime": {
     "end_time": "2019-12-17T12:29:36.751022Z",
     "start_time": "2019-12-17T12:28:39.550401Z"
    }
   },
   "outputs": [
    {
     "data": {
      "application/vnd.jupyter.widget-view+json": {
       "model_id": "d9095a9c48ce4dafb1c848a0b60043c6",
       "version_major": 2,
       "version_minor": 0
      },
      "text/plain": [
       "HBox(children=(IntProgress(value=0, max=2257), HTML(value='')))"
      ]
     },
     "metadata": {},
     "output_type": "display_data"
    },
    {
     "ename": "KeyboardInterrupt",
     "evalue": "",
     "output_type": "error",
     "traceback": [
      "\u001b[0;31m---------------------------------------------------------------------------\u001b[0m",
      "\u001b[0;31mKeyboardInterrupt\u001b[0m                         Traceback (most recent call last)",
      "\u001b[0;32m<ipython-input-10-8685ad786c18>\u001b[0m in \u001b[0;36m<module>\u001b[0;34m\u001b[0m\n\u001b[1;32m     12\u001b[0m     \u001b[0mtransformation_gt\u001b[0m \u001b[0;34m=\u001b[0m \u001b[0mget_gt_pose\u001b[0m\u001b[0;34m(\u001b[0m\u001b[0mdf_gt\u001b[0m\u001b[0;34m,\u001b[0m \u001b[0midx\u001b[0m\u001b[0;34m)\u001b[0m\u001b[0;34m\u001b[0m\u001b[0;34m\u001b[0m\u001b[0m\n\u001b[1;32m     13\u001b[0m     \u001b[0mdata_dict\u001b[0m\u001b[0;34m[\u001b[0m\u001b[0;34m'gt_transform'\u001b[0m\u001b[0;34m]\u001b[0m \u001b[0;34m=\u001b[0m \u001b[0mtransformation_gt\u001b[0m\u001b[0;34m\u001b[0m\u001b[0;34m\u001b[0m\u001b[0m\n\u001b[0;32m---> 14\u001b[0;31m     \u001b[0mdraw_registration_result\u001b[0m\u001b[0;34m(\u001b[0m\u001b[0mprev_pcd\u001b[0m\u001b[0;34m,\u001b[0m \u001b[0mnext_pcd\u001b[0m\u001b[0;34m,\u001b[0m \u001b[0mtransformation_gt\u001b[0m\u001b[0;34m)\u001b[0m\u001b[0;34m\u001b[0m\u001b[0;34m\u001b[0m\u001b[0m\n\u001b[0m\u001b[1;32m     15\u001b[0m \u001b[0;34m\u001b[0m\u001b[0m\n\u001b[1;32m     16\u001b[0m     \u001b[0mtransformation_icp\u001b[0m\u001b[0;34m,\u001b[0m \u001b[0mevaluation_icp\u001b[0m \u001b[0;34m=\u001b[0m \u001b[0mget_icp_pose\u001b[0m\u001b[0;34m(\u001b[0m\u001b[0mprev_pcd\u001b[0m\u001b[0;34m,\u001b[0m \u001b[0mnext_pcd\u001b[0m\u001b[0;34m)\u001b[0m\u001b[0;34m\u001b[0m\u001b[0;34m\u001b[0m\u001b[0m\n",
      "\u001b[0;32m<ipython-input-6-f0931d052e9f>\u001b[0m in \u001b[0;36mdraw_registration_result\u001b[0;34m(src, dst, transformation)\u001b[0m\n\u001b[1;32m     14\u001b[0m     \u001b[0mtarget\u001b[0m\u001b[0;34m.\u001b[0m\u001b[0mpaint_uniform_color\u001b[0m\u001b[0;34m(\u001b[0m\u001b[0;34m[\u001b[0m\u001b[0;36m0\u001b[0m\u001b[0;34m,\u001b[0m \u001b[0;36m0\u001b[0m\u001b[0;34m,\u001b[0m \u001b[0;36m1\u001b[0m\u001b[0;34m]\u001b[0m\u001b[0;34m)\u001b[0m \u001b[0;31m# blue\u001b[0m\u001b[0;34m\u001b[0m\u001b[0;34m\u001b[0m\u001b[0m\n\u001b[1;32m     15\u001b[0m     \u001b[0msource\u001b[0m\u001b[0;34m.\u001b[0m\u001b[0mtransform\u001b[0m\u001b[0;34m(\u001b[0m\u001b[0mtransformation\u001b[0m\u001b[0;34m)\u001b[0m\u001b[0;34m\u001b[0m\u001b[0;34m\u001b[0m\u001b[0m\n\u001b[0;32m---> 16\u001b[0;31m     \u001b[0mo3d\u001b[0m\u001b[0;34m.\u001b[0m\u001b[0mvisualization\u001b[0m\u001b[0;34m.\u001b[0m\u001b[0mdraw_geometries\u001b[0m\u001b[0;34m(\u001b[0m\u001b[0;34m[\u001b[0m\u001b[0msource\u001b[0m\u001b[0;34m,\u001b[0m \u001b[0mtarget\u001b[0m\u001b[0;34m]\u001b[0m\u001b[0;34m,\u001b[0m \u001b[0mwidth\u001b[0m\u001b[0;34m=\u001b[0m\u001b[0;36m1280\u001b[0m\u001b[0;34m,\u001b[0m \u001b[0mheight\u001b[0m\u001b[0;34m=\u001b[0m\u001b[0;36m800\u001b[0m\u001b[0;34m)\u001b[0m\u001b[0;34m\u001b[0m\u001b[0;34m\u001b[0m\u001b[0m\n\u001b[0m\u001b[1;32m     17\u001b[0m \u001b[0;31m#     visualizer = o3d.JVisualizer()\u001b[0m\u001b[0;34m\u001b[0m\u001b[0;34m\u001b[0m\u001b[0;34m\u001b[0m\u001b[0m\n\u001b[1;32m     18\u001b[0m \u001b[0;31m#     visualizer.add_geometry(source)\u001b[0m\u001b[0;34m\u001b[0m\u001b[0;34m\u001b[0m\u001b[0;34m\u001b[0m\u001b[0m\n",
      "\u001b[0;31mKeyboardInterrupt\u001b[0m: "
     ]
    }
   ],
   "source": [
    "pose_list = []\n",
    "for idx in tqdm_notebook(range(len(pcd_files)-1)):\n",
    "    data_dict = {}\n",
    "    prev_pcd_file = pcd_files[idx]\n",
    "    next_pcd_file = pcd_files[idx+1]\n",
    "\n",
    "    prev_pcd = o3d.io.read_point_cloud(os.path.join(pcd_path, prev_pcd_file))\n",
    "    next_pcd = o3d.io.read_point_cloud(os.path.join(pcd_path, next_pcd_file))\n",
    "\n",
    "    prev_pcd, next_pcd = transform_lidar_to_gt_frame(prev_pcd, next_pcd)\n",
    "\n",
    "    transformation_gt = get_gt_pose(df_gt, idx)\n",
    "    data_dict['gt_transform'] = transformation_gt\n",
    "    draw_registration_result(prev_pcd, next_pcd, transformation_gt)\n",
    "\n",
    "    transformation_icp, evaluation_icp = get_icp_pose(prev_pcd, next_pcd)\n",
    "    data_dict['icp_transform'] = transformation_icp\n",
    "    draw_registration_result(prev_pcd, next_pcd, transformation_icp)\n",
    "\n",
    "    rpe_loss = get_rpe(transformation_gt, transformation_icp)\n",
    "    data_dict['rpe'] = rpe_loss\n",
    "    \n",
    "    pose_list.append(data_dict)"
   ]
  },
  {
   "cell_type": "code",
   "execution_count": null,
   "metadata": {
    "ExecuteTime": {
     "end_time": "2019-12-17T12:28:20.697074Z",
     "start_time": "2019-12-17T12:08:58.139Z"
    }
   },
   "outputs": [],
   "source": [
    "df_pose_mat = pd.DataFrame(pose_list)\n",
    "df_pose_mat.shape"
   ]
  },
  {
   "cell_type": "code",
   "execution_count": null,
   "metadata": {
    "ExecuteTime": {
     "end_time": "2019-12-17T10:53:12.911344Z",
     "start_time": "2019-12-17T10:53:12.905071Z"
    }
   },
   "outputs": [],
   "source": []
  },
  {
   "cell_type": "code",
   "execution_count": null,
   "metadata": {
    "ExecuteTime": {
     "end_time": "2019-12-17T12:28:20.698209Z",
     "start_time": "2019-12-17T12:08:58.142Z"
    }
   },
   "outputs": [],
   "source": [
    "def decompose_transform_mat(transform_mat):\n",
    "    trans_arr, rot_mat, scale_mat, shear_mat = transforms3d.affines.decompose44(transform_mat)\n",
    "    rot_list = transforms3d.euler.mat2euler(rot_mat, axes='sxyz')\n",
    "    rot_arr = np.array(rot_list)\n",
    "    return trans_arr, rot_arr"
   ]
  },
  {
   "cell_type": "code",
   "execution_count": null,
   "metadata": {
    "ExecuteTime": {
     "end_time": "2019-12-17T12:28:20.699352Z",
     "start_time": "2019-12-17T12:08:58.145Z"
    }
   },
   "outputs": [],
   "source": [
    "origin_trans = np.array([0,0,0])\n",
    "origin_rot = np.array([0,0,0])\n",
    "origin_hc_pt = np.array([0,0,0,1])\n",
    "\n",
    "actual_pose_list = [{'gt_transform_mat':pose2matrix(origin_trans, origin_rot),\n",
    "                     'icp_trans':origin_trans, 'icp_rot':origin_rot,\n",
    "                     'icp_x':origin_trans[0],'icp_y':origin_trans[1],'icp_z':origin_trans[2],\n",
    "                     'icp_transform_mat':pose2matrix(origin_trans, origin_rot)}]\n",
    "\n",
    "for idx, row in df_pose_mat.iterrows():\n",
    "    new_dict = {}\n",
    "    prev_dict = actual_pose_list[-1]\n",
    "    new_dict['gt_transform_mat'] = np.matmul(prev_dict['gt_transform_mat'], row['gt_transform'])\n",
    "    new_dict['icp_transform_mat'] = np.matmul(prev_dict['icp_transform_mat'], row['icp_transform'])\n",
    "    \n",
    "    icp_trans_arr, icp_rot_arr = decompose_transform_mat(new_dict['icp_transform_mat'])\n",
    "    new_dict['icp_trans'] = icp_trans_arr\n",
    "    new_dict['icp_x'] = icp_trans_arr[0]\n",
    "    new_dict['icp_y'] = icp_trans_arr[1]\n",
    "    new_dict['icp_z'] = icp_trans_arr[2]\n",
    "    new_dict['icp_rot']   = icp_rot_arr\n",
    "    actual_pose_list.append(new_dict)\n",
    "    \n",
    "    \n",
    "    "
   ]
  },
  {
   "cell_type": "code",
   "execution_count": null,
   "metadata": {
    "ExecuteTime": {
     "end_time": "2019-12-17T12:28:20.700448Z",
     "start_time": "2019-12-17T12:08:58.147Z"
    }
   },
   "outputs": [],
   "source": [
    "df_icp = pd.DataFrame(actual_pose_list)\n",
    "df_icp.shape"
   ]
  },
  {
   "cell_type": "code",
   "execution_count": null,
   "metadata": {
    "ExecuteTime": {
     "end_time": "2019-12-17T12:28:20.701563Z",
     "start_time": "2019-12-17T12:08:58.151Z"
    }
   },
   "outputs": [],
   "source": [
    "df_gt.shape"
   ]
  },
  {
   "cell_type": "code",
   "execution_count": null,
   "metadata": {
    "ExecuteTime": {
     "end_time": "2019-12-17T12:28:20.702664Z",
     "start_time": "2019-12-17T12:08:58.155Z"
    }
   },
   "outputs": [],
   "source": [
    "plt.figure()\n",
    "plt.grid()\n",
    "plt.plot(-df_icp['icp_y'].values, -df_icp['icp_x'].values, c='r', label='icp')\n",
    "plt.plot(df_gt['location_x'].values - np.ones(df_gt.shape[0])*df_gt['location_x'][0],\n",
    "         df_gt['location_y'].values - np.ones(df_gt.shape[0])*df_gt['location_y'][0], c='b', label='gt')\n",
    "plt.legend()"
   ]
  },
  {
   "cell_type": "code",
   "execution_count": null,
   "metadata": {},
   "outputs": [],
   "source": []
  }
 ],
 "metadata": {
  "kernelspec": {
   "display_name": "Python 3",
   "language": "python",
   "name": "python3"
  },
  "language_info": {
   "codemirror_mode": {
    "name": "ipython",
    "version": 3
   },
   "file_extension": ".py",
   "mimetype": "text/x-python",
   "name": "python",
   "nbconvert_exporter": "python",
   "pygments_lexer": "ipython3",
   "version": "3.7.3"
  },
  "toc": {
   "base_numbering": 1,
   "nav_menu": {},
   "number_sections": true,
   "sideBar": true,
   "skip_h1_title": false,
   "title_cell": "Table of Contents",
   "title_sidebar": "Contents",
   "toc_cell": false,
   "toc_position": {},
   "toc_section_display": true,
   "toc_window_display": false
  }
 },
 "nbformat": 4,
 "nbformat_minor": 2
}
