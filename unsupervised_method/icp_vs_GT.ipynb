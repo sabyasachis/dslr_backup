{
 "cells": [
  {
   "cell_type": "markdown",
   "metadata": {},
   "source": [
    "### Imports"
   ]
  },
  {
   "cell_type": "code",
   "execution_count": 1,
   "metadata": {
    "ExecuteTime": {
     "end_time": "2019-12-17T06:34:22.024710Z",
     "start_time": "2019-12-17T06:34:20.615736Z"
    }
   },
   "outputs": [],
   "source": [
    "import sys\n",
    "import os, shutil\n",
    "import gc\n",
    "import torch\n",
    "import copy\n",
    "import numpy as np\n",
    "from matplotlib import pyplot as plt\n",
    "import matplotlib.cm as cm\n",
    "import open3d\n",
    "import transforms3d\n",
    "import open3d as o3d\n",
    "from sklearn.neighbors import NearestNeighbors\n",
    "import glob\n",
    "from torch.utils.data import Dataset\n",
    "from open3d import read_point_cloud\n",
    "from tqdm import tqdm_notebook\n",
    "import pandas as pd\n",
    "from multiprocessing import Pool, cpu_count"
   ]
  },
  {
   "cell_type": "code",
   "execution_count": 2,
   "metadata": {
    "ExecuteTime": {
     "end_time": "2019-12-17T06:34:22.032425Z",
     "start_time": "2019-12-17T06:34:22.026687Z"
    }
   },
   "outputs": [],
   "source": [
    "%matplotlib notebook"
   ]
  },
  {
   "cell_type": "code",
   "execution_count": 3,
   "metadata": {
    "ExecuteTime": {
     "end_time": "2019-12-17T06:34:22.036453Z",
     "start_time": "2019-12-17T06:34:22.034072Z"
    }
   },
   "outputs": [],
   "source": [
    "def getint(name):\n",
    "    return int(name.split('.')[0])"
   ]
  },
  {
   "cell_type": "code",
   "execution_count": null,
   "metadata": {},
   "outputs": [],
   "source": []
  },
  {
   "cell_type": "markdown",
   "metadata": {},
   "source": [
    "### Setting paths and constants"
   ]
  },
  {
   "cell_type": "code",
   "execution_count": 4,
   "metadata": {
    "ExecuteTime": {
     "end_time": "2019-12-17T06:34:22.043657Z",
     "start_time": "2019-12-17T06:34:22.037852Z"
    }
   },
   "outputs": [],
   "source": [
    "VOXEL_SZ = 0.2"
   ]
  },
  {
   "cell_type": "code",
   "execution_count": 5,
   "metadata": {
    "ExecuteTime": {
     "end_time": "2019-12-17T06:34:22.103066Z",
     "start_time": "2019-12-17T06:34:22.092002Z"
    }
   },
   "outputs": [],
   "source": [
    "pcd_folder_path = \"/home/sabyasachi/Projects/ati/data/data/datasets/Carla/small_map/110k/static/1\"\n",
    "\n",
    "pcd_folder = \"_out\"\n",
    "pcd_path = os.path.join(pcd_folder_path, pcd_folder)\n",
    "pcd_files = sorted(os.listdir(pcd_path), key=getint)"
   ]
  },
  {
   "cell_type": "code",
   "execution_count": 6,
   "metadata": {
    "ExecuteTime": {
     "end_time": "2019-12-17T06:34:22.112253Z",
     "start_time": "2019-12-17T06:34:22.106311Z"
    }
   },
   "outputs": [
    {
     "data": {
      "text/plain": [
       "(3029, 1)"
      ]
     },
     "execution_count": 6,
     "metadata": {},
     "output_type": "execute_result"
    }
   ],
   "source": [
    "idx = np.random.choice(len(pcd_files))\n",
    "# idx = 2925\n",
    "# idx = 1841\n",
    "# idx = 3062\n",
    "step = 1\n",
    "idx, step"
   ]
  },
  {
   "cell_type": "code",
   "execution_count": 7,
   "metadata": {
    "ExecuteTime": {
     "end_time": "2019-12-17T06:34:22.117807Z",
     "start_time": "2019-12-17T06:34:22.114842Z"
    }
   },
   "outputs": [],
   "source": [
    "prev_pcd_file = pcd_files[idx]\n",
    "next_pcd_file = pcd_files[idx+step]"
   ]
  },
  {
   "cell_type": "markdown",
   "metadata": {},
   "source": [
    "### My I/O functions"
   ]
  },
  {
   "cell_type": "code",
   "execution_count": 8,
   "metadata": {
    "ExecuteTime": {
     "end_time": "2019-12-17T06:34:22.151624Z",
     "start_time": "2019-12-17T06:34:22.119923Z"
    },
    "code_folding": [
     48,
     54,
     60,
     78
    ]
   },
   "outputs": [],
   "source": [
    "def filter_pcd(old_pcd,\n",
    "               apply_downsample = False,\n",
    "               downsample_voxel_size = 0.2,\n",
    "               \n",
    "               apply_outlier_removal = False,\n",
    "               downsample_radius = 1,\n",
    "               downsample_neighbors = 20,\n",
    "               \n",
    "               apply_crop = True,\n",
    "               crop_min_arr = np.array([-100,-100,-2]),\n",
    "               crop_max_arr = np.array([100,100,100]),\n",
    "#                crop_min_arr = np.array([-100,-100,-100]),\n",
    "#                crop_max_arr = np.array([100,100,2]),\n",
    "               \n",
    "               apply_cluster = False,\n",
    "               cluster_neighbours = 30,\n",
    "               cluster_labels = 2):\n",
    "    np.random.seed(0)\n",
    "    pcd = copy.deepcopy(old_pcd)\n",
    "    \n",
    "    if apply_outlier_removal:\n",
    "        denser_pcd, ind = o3d.geometry.radius_outlier_removal(pcd,\n",
    "                                                              nb_points = downsample_neighbors,\n",
    "                                                              radius    = downsample_radius)\n",
    "        pcd = denser_pcd\n",
    "    \n",
    "    if apply_downsample:\n",
    "        voxel_down_pcd = o3d.geometry.voxel_down_sample(pcd, voxel_size = downsample_voxel_size)\n",
    "        pcd = voxel_down_pcd\n",
    "    \n",
    "    if apply_crop:\n",
    "        cropped_pcd = o3d.geometry.crop_point_cloud(pcd, crop_min_arr, crop_max_arr)\n",
    "        pcd = cropped_pcd\n",
    "\n",
    "    if apply_cluster:\n",
    "        few_pts = np.asarray(pcd.points)\n",
    "        try:\n",
    "            few_pts_reduced = LocallyLinearEmbedding(n_neighbors=cluster_neighbours, n_components=2).fit_transform(few_pts)\n",
    "        except Exception as e:\n",
    "            try:\n",
    "                few_pts_reduced = LocallyLinearEmbedding(n_neighbors=cluster_neighbours, n_components=2, eigen_solver='dense').fit_transform(few_pts)\n",
    "            except Exception as e:\n",
    "                few_pts_reduced = few_pts\n",
    "        clf = MeanShift().fit(few_pts_reduced)\n",
    "        pcd.points = o3d.utility.Vector3dVector(few_pts[clf.labels_ < cluster_labels])\n",
    "    \n",
    "    return pcd\n",
    "\n",
    "def make_2d(pcd):\n",
    "    new_pcd = copy.deepcopy(pcd)\n",
    "    new_pts = np.concatenate([np.asarray(pcd.points)[:,:-1],np.zeros((len(pcd.points),1))], axis=1)\n",
    "    new_pcd.points = o3d.utility.Vector3dVector(new_pts)\n",
    "    return new_pcd\n",
    "\n",
    "def read_pcd(pcd_id):\n",
    "#     prefix = \"\".join([\"0\" for _ in range(3 - len(str(pcd_id)))])\n",
    "    pcd_file = str(pcd_id) + PCD_TYPE\n",
    "    pcd = o3d.io.read_point_cloud(os.path.join(pcd_path, pcd_file))\n",
    "    return pcd\n",
    "\n",
    "def draw_pcd(pcd, where='mat_2d'):    \n",
    "    if where is 'opn_nb':\n",
    "        visualizer = o3d.JVisualizer()\n",
    "        visualizer.add_geometry(pcd)\n",
    "        visualizer.show()\n",
    "    elif where is 'opn_view':\n",
    "        o3d.visualization.draw_geometries([pcd], width=1280, height=800)\n",
    "    elif where is 'mat_3d':\n",
    "        plt.figure()\n",
    "        pts = np.asarray(pcd.points)\n",
    "        plt.scatter(pts[:,0], pts[:,1], pts[:,2])\n",
    "        plt.show()\n",
    "    elif where is 'mat_2d':\n",
    "        plt.figure()\n",
    "        pts = np.asarray(pcd.points)\n",
    "        plt.scatter(pts[:,0], pts[:,1], s=1)\n",
    "        plt.show()\n",
    "        \n",
    "def pose2matrix(translation_list, rotation_angle_list, zoom_list=[1,1,1]):\n",
    "    trans_vec = np.array(translation_list)\n",
    "    rot_ang = [np.deg2rad(ang) for ang in rotation_angle_list ]\n",
    "    rot_mat = transforms3d.euler.euler2mat(rot_ang[0], rot_ang[1], rot_ang[2])\n",
    "    zoom_vec = np.array(zoom_list)\n",
    "    transform_mat = transforms3d.affines.compose(trans_vec, rot_mat, zoom_vec)\n",
    "    return transform_mat\n",
    "  \n",
    "def draw_registration_result(src, dst, transformation):\n",
    "    source = copy.deepcopy(src)\n",
    "    target = copy.deepcopy(dst)\n",
    "    \n",
    "    source.paint_uniform_color([1, 0, 0]) # red\n",
    "    target.paint_uniform_color([0, 0, 1]) # blue\n",
    "    target.transform(transformation)\n",
    "#     o3d.visualization.draw_geometries([source, target], width=1280, height=800)\n",
    "    visualizer = o3d.JVisualizer()\n",
    "    visualizer.add_geometry(source)\n",
    "    visualizer.add_geometry(target)\n",
    "    visualizer.show()"
   ]
  },
  {
   "cell_type": "code",
   "execution_count": 9,
   "metadata": {
    "ExecuteTime": {
     "end_time": "2019-12-17T06:34:22.200316Z",
     "start_time": "2019-12-17T06:34:22.153796Z"
    }
   },
   "outputs": [],
   "source": [
    "prev_pcd = o3d.io.read_point_cloud(os.path.join(pcd_path, prev_pcd_file))\n",
    "next_pcd = o3d.io.read_point_cloud(os.path.join(pcd_path, next_pcd_file))"
   ]
  },
  {
   "cell_type": "code",
   "execution_count": null,
   "metadata": {},
   "outputs": [],
   "source": []
  },
  {
   "cell_type": "markdown",
   "metadata": {},
   "source": [
    "### Ground Truth Transformation"
   ]
  },
  {
   "cell_type": "code",
   "execution_count": 10,
   "metadata": {
    "ExecuteTime": {
     "end_time": "2019-12-17T06:34:22.242282Z",
     "start_time": "2019-12-17T06:34:22.202524Z"
    }
   },
   "outputs": [],
   "source": [
    "df_gt = pd.read_csv(os.path.join(pcd_folder_path, \"groundTruth.csv\"))"
   ]
  },
  {
   "cell_type": "code",
   "execution_count": 11,
   "metadata": {
    "ExecuteTime": {
     "end_time": "2019-12-17T06:34:22.248076Z",
     "start_time": "2019-12-17T06:34:22.244407Z"
    }
   },
   "outputs": [
    {
     "data": {
      "text/plain": [
       "('3030.ply', '3031.ply')"
      ]
     },
     "execution_count": 11,
     "metadata": {},
     "output_type": "execute_result"
    }
   ],
   "source": [
    "prev_pcd_file,next_pcd_file"
   ]
  },
  {
   "cell_type": "code",
   "execution_count": 12,
   "metadata": {
    "ExecuteTime": {
     "end_time": "2019-12-17T06:34:22.257434Z",
     "start_time": "2019-12-17T06:34:22.250102Z"
    }
   },
   "outputs": [],
   "source": [
    "prev_gt = df_gt[df_gt['step'] == idx+1].iloc[0]\n",
    "next_gt = df_gt[df_gt['step'] == idx+1+step].iloc[0]"
   ]
  },
  {
   "cell_type": "code",
   "execution_count": 13,
   "metadata": {
    "ExecuteTime": {
     "end_time": "2019-12-17T06:34:22.263677Z",
     "start_time": "2019-12-17T06:34:22.259532Z"
    }
   },
   "outputs": [
    {
     "data": {
      "text/plain": [
       "(3030.0, 3031.0)"
      ]
     },
     "execution_count": 13,
     "metadata": {},
     "output_type": "execute_result"
    }
   ],
   "source": [
    "prev_gt['step'], next_gt['step']"
   ]
  },
  {
   "cell_type": "code",
   "execution_count": 14,
   "metadata": {
    "ExecuteTime": {
     "end_time": "2019-12-17T06:34:22.272514Z",
     "start_time": "2019-12-17T06:34:22.265796Z"
    }
   },
   "outputs": [
    {
     "data": {
      "text/plain": [
       "geometry::PointCloud with 7876 points."
      ]
     },
     "execution_count": 14,
     "metadata": {},
     "output_type": "execute_result"
    }
   ],
   "source": [
    "transformation_lidar2gt = pose2matrix([0,0,0], [0,0,90],[1,1,-1])\n",
    "transformation_gt2lidar = np.linalg.inv(transformation_lidar2gt)\n",
    "prev_pcd.transform(transformation_lidar2gt)\n",
    "next_pcd.transform(transformation_lidar2gt)"
   ]
  },
  {
   "cell_type": "code",
   "execution_count": 15,
   "metadata": {
    "ExecuteTime": {
     "end_time": "2019-12-17T06:34:22.280834Z",
     "start_time": "2019-12-17T06:34:22.274610Z"
    }
   },
   "outputs": [],
   "source": [
    "prev_inv_mat = np.linalg.inv(pose2matrix([prev_gt['location_x'],\n",
    "                                          prev_gt['location_y'],\n",
    "                                          prev_gt['location_z']],\n",
    "                                         [prev_gt['rotation_roll'],\n",
    "                                          prev_gt['rotation_pitch'],\n",
    "                                          prev_gt['rotation_yaw']]))\n",
    "next_mat = pose2matrix([next_gt['location_x'],\n",
    "                        next_gt['location_y'],\n",
    "                        next_gt['location_z']],\n",
    "                       [next_gt['rotation_roll'],\n",
    "                        next_gt['rotation_pitch'],\n",
    "                        next_gt['rotation_yaw']])\n",
    "transformation_gt = np.matmul(prev_inv_mat, next_mat)"
   ]
  },
  {
   "cell_type": "code",
   "execution_count": 16,
   "metadata": {
    "ExecuteTime": {
     "end_time": "2019-12-17T06:34:22.788245Z",
     "start_time": "2019-12-17T06:34:22.282708Z"
    }
   },
   "outputs": [
    {
     "data": {
      "application/vnd.jupyter.widget-view+json": {
       "model_id": "f2481fb584634e17a49ab1189e98f062",
       "version_major": 2,
       "version_minor": 0
      },
      "text/plain": [
       "JVisualizer with 2 geometries"
      ]
     },
     "metadata": {},
     "output_type": "display_data"
    }
   ],
   "source": [
    "draw_registration_result(prev_pcd, next_pcd, transformation_gt)"
   ]
  },
  {
   "cell_type": "code",
   "execution_count": null,
   "metadata": {},
   "outputs": [],
   "source": []
  },
  {
   "cell_type": "code",
   "execution_count": null,
   "metadata": {},
   "outputs": [],
   "source": []
  },
  {
   "cell_type": "code",
   "execution_count": null,
   "metadata": {},
   "outputs": [],
   "source": []
  },
  {
   "cell_type": "code",
   "execution_count": null,
   "metadata": {},
   "outputs": [],
   "source": []
  },
  {
   "cell_type": "markdown",
   "metadata": {},
   "source": [
    "### Open 3d ICP transformation"
   ]
  },
  {
   "cell_type": "code",
   "execution_count": 17,
   "metadata": {
    "ExecuteTime": {
     "end_time": "2019-12-17T06:34:22.807324Z",
     "start_time": "2019-12-17T06:34:22.790276Z"
    },
    "code_folding": [
     0,
     12,
     17
    ]
   },
   "outputs": [],
   "source": [
    "def preprocess_point_cloud(pcd, voxel_size):\n",
    "    pcd_down = o3d.geometry.voxel_down_sample(pcd, voxel_size)\n",
    "    radius_normal = voxel_size * 2\n",
    "    o3d.geometry.estimate_normals(\n",
    "        pcd_down,\n",
    "        o3d.geometry.KDTreeSearchParamHybrid(radius=radius_normal, max_nn=30))\n",
    "    radius_feature = voxel_size * 5\n",
    "    pcd_fpfh = o3d.registration.compute_fpfh_feature(\n",
    "        pcd_down,\n",
    "        o3d.geometry.KDTreeSearchParamHybrid(radius=radius_feature, max_nn=100))\n",
    "    return pcd_down, pcd_fpfh\n",
    "\n",
    "def prepare_dataset(source, target, voxel_size):\n",
    "    source_down, source_fpfh = preprocess_point_cloud(source, voxel_size)\n",
    "    target_down, target_fpfh = preprocess_point_cloud(target, voxel_size)\n",
    "    return source_down, target_down, source_fpfh, target_fpfh\n",
    "\n",
    "def execute_global_registration(source_down, target_down, source_fpfh,\n",
    "                                target_fpfh, voxel_size):\n",
    "    distance_threshold = voxel_size * 1.5\n",
    "    result = o3d.registration.registration_ransac_based_on_feature_matching(\n",
    "        source_down, target_down, source_fpfh, target_fpfh, distance_threshold,\n",
    "        o3d.registration.TransformationEstimationPointToPoint(False), 4, [\n",
    "            o3d.registration.CorrespondenceCheckerBasedOnEdgeLength(0.9),\n",
    "            o3d.registration.CorrespondenceCheckerBasedOnDistance(\n",
    "                distance_threshold)\n",
    "        ], o3d.registration.RANSACConvergenceCriteria(4000000, 500))\n",
    "    return result\n",
    "\n",
    "def refine_registration(source, target, voxel_size, trans_init):\n",
    "    distance_threshold = voxel_size * 0.4\n",
    "    result = o3d.registration.registration_icp(\n",
    "                source, target, distance_threshold, trans_init,\n",
    "                o3d.registration.TransformationEstimationPointToPlane())\n",
    "    return result\n",
    "\n",
    "def get_pose(src, dst):\n",
    "    source = filter_pcd(src)\n",
    "    target = filter_pcd(dst)\n",
    "#     source result_icptransform_mat= copy.deepcopy(src)\n",
    "#     target = copy.deepcopy(dst)\n",
    "\n",
    "    voxel_size = VOXEL_SZ\n",
    "    source_down, target_down, source_fpfh, target_fpfh = prepare_dataset(source, target, voxel_size)\n",
    "\n",
    "    result_ransac = execute_global_registration(source_down, target_down,\n",
    "                                                source_fpfh, target_fpfh,\n",
    "                                                voxel_size)\n",
    "\n",
    "    result_icp = refine_registration(source, target, voxel_size, result_ransac.transformation)\n",
    "    \n",
    "    \n",
    "    evaluation = o3d.registration.evaluate_registration(source, target, voxel_size * 5, result_icp.transformation)\n",
    "    return result_icp.transformation, evaluation"
   ]
  },
  {
   "cell_type": "code",
   "execution_count": 18,
   "metadata": {
    "ExecuteTime": {
     "end_time": "2019-12-17T06:34:22.983722Z",
     "start_time": "2019-12-17T06:34:22.810944Z"
    }
   },
   "outputs": [
    {
     "data": {
      "text/plain": [
       "array([[ 9.99999154e-01,  1.04319981e-03, -7.77410150e-04,\n",
       "         8.54151355e-01],\n",
       "       [-1.04272485e-03,  9.99999270e-01,  6.11095859e-04,\n",
       "         1.74943629e-02],\n",
       "       [ 7.78047077e-04, -6.10284717e-04,  9.99999511e-01,\n",
       "         1.32364908e-02],\n",
       "       [ 0.00000000e+00,  0.00000000e+00,  0.00000000e+00,\n",
       "         1.00000000e+00]])"
      ]
     },
     "execution_count": 18,
     "metadata": {},
     "output_type": "execute_result"
    }
   ],
   "source": [
    "transformation_icp, evaluation_icp = get_pose(prev_pcd, next_pcd)\n",
    "\n",
    "transformation_icp = np.linalg.inv(transformation_icp)\n",
    "transformation_icp"
   ]
  },
  {
   "cell_type": "code",
   "execution_count": 19,
   "metadata": {
    "ExecuteTime": {
     "end_time": "2019-12-17T06:34:22.999525Z",
     "start_time": "2019-12-17T06:34:22.990935Z"
    }
   },
   "outputs": [
    {
     "data": {
      "text/plain": [
       "registration::RegistrationResult with fitness = 0.998175, inlier_rmse = 0.139801, and correspondence_set size of 1641\n",
       "Access transformation to get result."
      ]
     },
     "execution_count": 19,
     "metadata": {},
     "output_type": "execute_result"
    }
   ],
   "source": [
    "evaluation_icp"
   ]
  },
  {
   "cell_type": "code",
   "execution_count": 20,
   "metadata": {
    "ExecuteTime": {
     "end_time": "2019-12-17T06:34:23.531742Z",
     "start_time": "2019-12-17T06:34:23.006156Z"
    }
   },
   "outputs": [
    {
     "data": {
      "application/vnd.jupyter.widget-view+json": {
       "model_id": "753a533e00244be2b93b008f5f6e853a",
       "version_major": 2,
       "version_minor": 0
      },
      "text/plain": [
       "JVisualizer with 2 geometries"
      ]
     },
     "metadata": {},
     "output_type": "display_data"
    }
   ],
   "source": [
    "draw_registration_result(prev_pcd, next_pcd, transformation_icp)"
   ]
  },
  {
   "cell_type": "code",
   "execution_count": null,
   "metadata": {},
   "outputs": [],
   "source": []
  },
  {
   "cell_type": "code",
   "execution_count": null,
   "metadata": {},
   "outputs": [],
   "source": []
  },
  {
   "cell_type": "markdown",
   "metadata": {},
   "source": [
    "### RPE error"
   ]
  },
  {
   "cell_type": "code",
   "execution_count": 21,
   "metadata": {
    "ExecuteTime": {
     "end_time": "2019-12-17T06:34:23.536924Z",
     "start_time": "2019-12-17T06:34:23.533771Z"
    }
   },
   "outputs": [],
   "source": [
    "transformation_rpe =  np.matmul(np.linalg.inv(transformation_gt), transformation_icp)"
   ]
  },
  {
   "cell_type": "code",
   "execution_count": 22,
   "metadata": {
    "ExecuteTime": {
     "end_time": "2019-12-17T06:34:23.546148Z",
     "start_time": "2019-12-17T06:34:23.538782Z"
    }
   },
   "outputs": [
    {
     "data": {
      "text/plain": [
       "0.04999179065060968"
      ]
     },
     "execution_count": 22,
     "metadata": {},
     "output_type": "execute_result"
    }
   ],
   "source": [
    "trans_arr, rot_mat, scale_mat, shear_mat = transforms3d.affines.decompose44(transformation_rpe)\n",
    "rot_list = transforms3d.euler.mat2euler(rot_mat, axes='sxyz')\n",
    "rot_arr = np.array(rot_list)\n",
    "np.linalg.norm(trans_arr)+np.linalg.norm(rot_arr)# ,np.linalg.norm(trans_arr), np.linalg.norm(rot_arr)"
   ]
  },
  {
   "cell_type": "code",
   "execution_count": null,
   "metadata": {},
   "outputs": [],
   "source": []
  },
  {
   "cell_type": "code",
   "execution_count": null,
   "metadata": {},
   "outputs": [],
   "source": []
  },
  {
   "cell_type": "code",
   "execution_count": null,
   "metadata": {},
   "outputs": [],
   "source": []
  },
  {
   "cell_type": "code",
   "execution_count": null,
   "metadata": {},
   "outputs": [],
   "source": []
  }
 ],
 "metadata": {
  "kernelspec": {
   "display_name": "Python 3",
   "language": "python",
   "name": "python3"
  },
  "language_info": {
   "codemirror_mode": {
    "name": "ipython",
    "version": 3
   },
   "file_extension": ".py",
   "mimetype": "text/x-python",
   "name": "python",
   "nbconvert_exporter": "python",
   "pygments_lexer": "ipython3",
   "version": "3.7.3"
  },
  "toc": {
   "base_numbering": 1,
   "nav_menu": {},
   "number_sections": true,
   "sideBar": true,
   "skip_h1_title": false,
   "title_cell": "Table of Contents",
   "title_sidebar": "Contents",
   "toc_cell": false,
   "toc_position": {},
   "toc_section_display": true,
   "toc_window_display": false
  }
 },
 "nbformat": 4,
 "nbformat_minor": 2
}
