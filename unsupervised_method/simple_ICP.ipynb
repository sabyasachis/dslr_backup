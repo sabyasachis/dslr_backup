{
 "cells": [
  {
   "cell_type": "markdown",
   "metadata": {},
   "source": [
    "### Imports"
   ]
  },
  {
   "cell_type": "code",
   "execution_count": null,
   "metadata": {
    "ExecuteTime": {
     "end_time": "2019-12-09T13:03:19.029876Z",
     "start_time": "2019-12-09T13:03:17.689792Z"
    }
   },
   "outputs": [],
   "source": [
    "import sys\n",
    "import os, shutil\n",
    "import gc\n",
    "import torch\n",
    "import copy\n",
    "import numpy as np\n",
    "from matplotlib import pyplot as plt\n",
    "import matplotlib.cm as cm\n",
    "import open3d\n",
    "import transforms3d\n",
    "import open3d as o3d\n",
    "from sklearn.neighbors import NearestNeighbors\n",
    "import glob\n",
    "from torch.utils.data import Dataset\n",
    "from open3d import read_point_cloud\n",
    "from tqdm import tqdm_notebook\n",
    "import pandas as pd\n",
    "from multiprocessing import Pool, cpu_count"
   ]
  },
  {
   "cell_type": "code",
   "execution_count": null,
   "metadata": {
    "ExecuteTime": {
     "end_time": "2019-12-09T13:03:19.037869Z",
     "start_time": "2019-12-09T13:03:19.032291Z"
    }
   },
   "outputs": [],
   "source": [
    "%matplotlib notebook"
   ]
  },
  {
   "cell_type": "code",
   "execution_count": null,
   "metadata": {
    "ExecuteTime": {
     "end_time": "2019-12-09T13:03:19.042355Z",
     "start_time": "2019-12-09T13:03:19.039682Z"
    }
   },
   "outputs": [],
   "source": [
    "def getint(name):\n",
    "    return int(name.split('.')[0])"
   ]
  },
  {
   "cell_type": "code",
   "execution_count": null,
   "metadata": {},
   "outputs": [],
   "source": []
  },
  {
   "cell_type": "markdown",
   "metadata": {},
   "source": [
    "### Setting paths and constants"
   ]
  },
  {
   "cell_type": "code",
   "execution_count": null,
   "metadata": {
    "ExecuteTime": {
     "end_time": "2019-12-09T13:03:19.087240Z",
     "start_time": "2019-12-09T13:03:19.043712Z"
    }
   },
   "outputs": [],
   "source": [
    "# VOXEL_SZ = 0.2\n",
    "# Z_MIN = 0\n",
    "# INVERT_Z = False\n",
    "# USE_GT = False\n",
    "# EVERY_NTH_COUNT = 10\n",
    "# PCD_TYPE = \".pcd\"\n",
    "# pcd_folder = \"complete_extracted\"\n",
    "\n",
    "# VOXEL_SZ = 0.2\n",
    "# Z_MIN = -2\n",
    "# Z_MIN = 0\n",
    "# INVERT_Z = True\n",
    "# USE_GT = True\n",
    "# EVERY_NTH_COUNT = 1\n",
    "# PCD_TYPE = \".ply\"\n",
    "pcd_folder = \"_out\""
   ]
  },
  {
   "cell_type": "code",
   "execution_count": null,
   "metadata": {
    "ExecuteTime": {
     "end_time": "2019-12-09T13:03:19.091227Z",
     "start_time": "2019-12-09T13:03:19.089169Z"
    }
   },
   "outputs": [],
   "source": [
    "# pcd_folder_path = \"/home/sabyasachi/Projects/ati/data/data/datasets/IISC/2019-06-12/10-00-14-P1-6-auto-ccw_5loops_0.6_no_numba/\"\n",
    "pcd_folder_path = \"/home/sabyasachi/Projects/ati/data/data/datasets/Carla/small_map/110k/static/1\""
   ]
  },
  {
   "cell_type": "code",
   "execution_count": null,
   "metadata": {
    "ExecuteTime": {
     "end_time": "2019-12-09T13:03:19.100249Z",
     "start_time": "2019-12-09T13:03:19.092870Z"
    }
   },
   "outputs": [],
   "source": [
    "pcd_path = os.path.join(pcd_folder_path, pcd_folder)\n",
    "\n",
    "pcd_files = sorted(os.listdir(pcd_path), key=getint)\n",
    "# FIRST_PCD = 100\n",
    "# FIRST_PCD = int(pcd_files[0][:-4])\n",
    "# FINAL_PCD = int(pcd_files[-1][:-4])\n",
    "\n",
    "# OUTPUT_DIR = \"./temp_save_parallel_dataset\""
   ]
  },
  {
   "cell_type": "code",
   "execution_count": null,
   "metadata": {
    "ExecuteTime": {
     "end_time": "2019-12-09T13:03:19.104894Z",
     "start_time": "2019-12-09T13:03:19.102771Z"
    }
   },
   "outputs": [],
   "source": [
    "VOXEL_SZ = 0.2"
   ]
  },
  {
   "cell_type": "code",
   "execution_count": null,
   "metadata": {
    "ExecuteTime": {
     "end_time": "2019-12-09T13:03:19.109744Z",
     "start_time": "2019-12-09T13:03:19.106949Z"
    }
   },
   "outputs": [],
   "source": [
    "idx = np.random.choice(len(pcd_files))\n",
    "idx = 2925\n",
    "prev_pcd_file = pcd_files[idx]\n",
    "next_pcd_file = pcd_files[idx+10]"
   ]
  },
  {
   "cell_type": "code",
   "execution_count": null,
   "metadata": {
    "ExecuteTime": {
     "end_time": "2019-12-09T13:03:19.114695Z",
     "start_time": "2019-12-09T13:03:19.111359Z"
    }
   },
   "outputs": [],
   "source": [
    "idx"
   ]
  },
  {
   "cell_type": "markdown",
   "metadata": {},
   "source": [
    "### My I/O fn"
   ]
  },
  {
   "cell_type": "code",
   "execution_count": null,
   "metadata": {
    "ExecuteTime": {
     "end_time": "2019-12-09T13:03:19.139385Z",
     "start_time": "2019-12-09T13:03:19.116366Z"
    },
    "code_folding": [
     46,
     52,
     58,
     76,
     84,
     99,
     114
    ]
   },
   "outputs": [],
   "source": [
    "def filter_pcd(old_pcd,\n",
    "               apply_downsample = False,\n",
    "               downsample_voxel_size = 0.2,\n",
    "               \n",
    "               apply_outlier_removal = False,\n",
    "               downsample_radius = 1,\n",
    "               downsample_neighbors = 20,\n",
    "               \n",
    "               apply_crop = True,\n",
    "               crop_min_arr = np.array([-100,-100,-100]),\n",
    "               crop_max_arr = np.array([100,100,2]),\n",
    "               \n",
    "               apply_cluster = False,\n",
    "               cluster_neighbours = 30,\n",
    "               cluster_labels = 2):\n",
    "    np.random.seed(0)\n",
    "    pcd = copy.deepcopy(old_pcd)\n",
    "    \n",
    "    if apply_outlier_removal:\n",
    "        denser_pcd, ind = o3d.geometry.radius_outlier_removal(pcd,\n",
    "                                                              nb_points = downsample_neighbors,\n",
    "                                                              radius    = downsample_radius)\n",
    "        pcd = denser_pcd\n",
    "    \n",
    "    if apply_downsample:\n",
    "        voxel_down_pcd = o3d.geometry.voxel_down_sample(pcd, voxel_size = downsample_voxel_size)\n",
    "        pcd = voxel_down_pcd\n",
    "    \n",
    "    if apply_crop:\n",
    "        cropped_pcd = o3d.geometry.crop_point_cloud(pcd, crop_min_arr, crop_max_arr)\n",
    "        pcd = cropped_pcd\n",
    "\n",
    "    if apply_cluster:\n",
    "        few_pts = np.asarray(pcd.points)\n",
    "        try:\n",
    "            few_pts_reduced = LocallyLinearEmbedding(n_neighbors=cluster_neighbours, n_components=2).fit_transform(few_pts)\n",
    "        except Exception as e:\n",
    "            try:\n",
    "                few_pts_reduced = LocallyLinearEmbedding(n_neighbors=cluster_neighbours, n_components=2, eigen_solver='dense').fit_transform(few_pts)\n",
    "            except Exception as e:\n",
    "                few_pts_reduced = few_pts\n",
    "        clf = MeanShift().fit(few_pts_reduced)\n",
    "        pcd.points = o3d.utility.Vector3dVector(few_pts[clf.labels_ < cluster_labels])\n",
    "    \n",
    "    return pcd\n",
    "\n",
    "def make_2d(pcd):\n",
    "    new_pcd = copy.deepcopy(pcd)\n",
    "    new_pts = np.concatenate([np.asarray(pcd.points)[:,:-1],np.zeros((len(pcd.points),1))], axis=1)\n",
    "    new_pcd.points = o3d.utility.Vector3dVector(new_pts)\n",
    "    return new_pcd\n",
    "\n",
    "def read_pcd(pcd_id):\n",
    "#     prefix = \"\".join([\"0\" for _ in range(3 - len(str(pcd_id)))])\n",
    "    pcd_file = str(pcd_id) + PCD_TYPE\n",
    "    pcd = o3d.io.read_point_cloud(os.path.join(pcd_path, pcd_file))\n",
    "    return pcd\n",
    "\n",
    "def draw_pcd(pcd, where='mat_2d'):    \n",
    "    if where is 'opn_nb':\n",
    "        visualizer = o3d.JVisualizer()\n",
    "        visualizer.add_geometry(pcd)\n",
    "        visualizer.show()\n",
    "    elif where is 'opn_view':\n",
    "        o3d.visualization.draw_geometries([pcd], width=1280, height=800)\n",
    "    elif where is 'mat_3d':\n",
    "        plt.figure()\n",
    "        pts = np.asarray(pcd.points)\n",
    "        plt.scatter(pts[:,0], pts[:,1], pts[:,2])\n",
    "        plt.show()\n",
    "    elif where is 'mat_2d':\n",
    "        plt.figure()\n",
    "        pts = np.asarray(pcd.points)\n",
    "        plt.scatter(pts[:,0], pts[:,1], s=1)\n",
    "        plt.show()\n",
    "        \n",
    "def pose2matrix(translation_list, rotation_angle_list):\n",
    "    trans_vec = np.array(translation_list)\n",
    "    rot_ang = [np.deg2rad(ang) for ang in rotation_angle_list ]\n",
    "    rot_mat = transforms3d.euler.euler2mat(rot_ang[0], rot_ang[1], rot_ang[2])\n",
    "    zoom = np.ones(3)\n",
    "    transform_mat = transforms3d.affines.compose(trans_vec, rot_mat, zoom)\n",
    "    return transform_mat\n",
    "\n",
    "def draw_registration_result_2d(src_pcd, dst_pcd, x_pt, y_pt, theta):    \n",
    "    src_pcd_tmp = copy.deepcopy(src_pcd)\n",
    "    dst_pcd_tmp = copy.deepcopy(dst_pcd)\n",
    "    \n",
    "    src_pcd_tmp.paint_uniform_color([1, 0, 0])  # red source\n",
    "    dst_pcd_tmp.paint_uniform_color([0, 0, 1])  # blue target\n",
    "    \n",
    "    transform_mat = pose2matrix([x_pt, y_pt, 0], [0,0,theta])\n",
    "    dst_pcd_tmp.transform(transform_mat)\n",
    "    \n",
    "    visualizer = o3d.JVisualizer()\n",
    "    visualizer.add_geometry(src_pcd_tmp)\n",
    "    visualizer.add_geometry(dst_pcd_tmp)\n",
    "    visualizer.show()\n",
    "    \n",
    "def draw_registration_result_3d(src, dst, trans_arr, rot_arr):\n",
    "    source = copy.deepcopy(src)\n",
    "    target = copy.deepcopy(dst)\n",
    "    \n",
    "    transform_mat = pose2matrix(trans_arr, rot_arr)\n",
    "    \n",
    "    source.paint_uniform_color([1, 0, 0]) # red\n",
    "    target.paint_uniform_color([0, 0, 1]) # blue\n",
    "    source.transform(transform_mat)\n",
    "    \n",
    "    visualizer = o3d.JVisualizer()\n",
    "    visualizer.add_geometry(source)\n",
    "    visualizer.add_geometry(target)\n",
    "    visualizer.show()\n",
    "    \n",
    "def draw_registration_result(src, dst, transformation):\n",
    "    source = copy.deepcopy(src)\n",
    "    target = copy.deepcopy(dst)\n",
    "    \n",
    "    source.paint_uniform_color([1, 0, 0]) # red\n",
    "    target.paint_uniform_color([0, 0, 1]) # blue\n",
    "    source.transform(transformation)\n",
    "#     o3d.visualization.draw_geometries([source_temp, target_temp], width=1280, height=800)\n",
    "    visualizer = o3d.JVisualizer()\n",
    "    visualizer.add_geometry(source)\n",
    "    visualizer.add_geometry(target)\n",
    "    visualizer.show()"
   ]
  },
  {
   "cell_type": "code",
   "execution_count": null,
   "metadata": {},
   "outputs": [],
   "source": []
  },
  {
   "cell_type": "code",
   "execution_count": null,
   "metadata": {},
   "outputs": [],
   "source": []
  },
  {
   "cell_type": "code",
   "execution_count": null,
   "metadata": {},
   "outputs": [],
   "source": []
  },
  {
   "cell_type": "code",
   "execution_count": null,
   "metadata": {
    "ExecuteTime": {
     "end_time": "2019-12-09T13:03:19.154037Z",
     "start_time": "2019-12-09T13:03:19.141120Z"
    }
   },
   "outputs": [],
   "source": [
    "prev_pcd = o3d.io.read_point_cloud(os.path.join(pcd_path, prev_pcd_file))\n",
    "next_pcd = o3d.io.read_point_cloud(os.path.join(pcd_path, next_pcd_file))"
   ]
  },
  {
   "cell_type": "code",
   "execution_count": null,
   "metadata": {
    "ExecuteTime": {
     "end_time": "2019-12-09T13:03:19.166362Z",
     "start_time": "2019-12-09T13:03:19.155805Z"
    },
    "code_folding": [
     0,
     12,
     17,
     29
    ]
   },
   "outputs": [],
   "source": [
    "def preprocess_point_cloud(pcd, voxel_size):\n",
    "    pcd_down = o3d.geometry.voxel_down_sample(pcd, voxel_size)\n",
    "    radius_normal = voxel_size * 2\n",
    "    o3d.geometry.estimate_normals(\n",
    "        pcd_down,\n",
    "        o3d.geometry.KDTreeSearchParamHybrid(radius=radius_normal, max_nn=30))\n",
    "    radius_feature = voxel_size * 5\n",
    "    pcd_fpfh = o3d.registration.compute_fpfh_feature(\n",
    "        pcd_down,\n",
    "        o3d.geometry.KDTreeSearchParamHybrid(radius=radius_feature, max_nn=100))\n",
    "    return pcd_down, pcd_fpfh\n",
    "\n",
    "def prepare_dataset(source, target, voxel_size):\n",
    "    source_down, source_fpfh = preprocess_point_cloud(source, voxel_size)\n",
    "    target_down, target_fpfh = preprocess_point_cloud(target, voxel_size)\n",
    "    return source_down, target_down, source_fpfh, target_fpfh\n",
    "\n",
    "def execute_global_registration(source_down, target_down, source_fpfh,\n",
    "                                target_fpfh, voxel_size):\n",
    "    distance_threshold = voxel_size * 1.5\n",
    "    result = o3d.registration.registration_ransac_based_on_feature_matching(\n",
    "        source_down, target_down, source_fpfh, target_fpfh, distance_threshold,\n",
    "        o3d.registration.TransformationEstimationPointToPoint(False), 4, [\n",
    "            o3d.registration.CorrespondenceCheckerBasedOnEdgeLength(0.9),\n",
    "            o3d.registration.CorrespondenceCheckerBasedOnDistance(\n",
    "                distance_threshold)\n",
    "        ], o3d.registration.RANSACConvergenceCriteria(4000000, 500))\n",
    "    return result\n",
    "\n",
    "def refine_registration(source, target, voxel_size, trans_init):\n",
    "    distance_threshold = voxel_size * 0.4\n",
    "    result = o3d.registration.registration_icp(\n",
    "                source, target, distance_threshold, trans_init,\n",
    "                o3d.registration.TransformationEstimationPointToPlane())\n",
    "    return result\n",
    "\n",
    "def get_pose(src, dst):\n",
    "    \n",
    "    source = filter_pcd(src)\n",
    "    target = filter_pcd(dst)\n",
    "\n",
    "    voxel_size = VOXEL_SZ\n",
    "    source_down, target_down, source_fpfh, target_fpfh = prepare_dataset(source, target, voxel_size)\n",
    "\n",
    "    result_ransac = execute_global_registration(source_down, target_down,\n",
    "                                                source_fpfh, target_fpfh,\n",
    "                                                voxel_size)\n",
    "\n",
    "    result_icp = refine_registration(source, target, voxel_size, result_ransac.transformation)\n",
    "    \n",
    "    transform_mat = result_icp.transformation\n",
    "    trans_arr, rot_mat, scale_mat, shear_mat = transforms3d.affines.decompose44(transform_mat)\n",
    "    rot_list = transforms3d.euler.mat2euler(rot_mat, axes='sxyz')\n",
    "    rot_arr = np.array(rot_list)\n",
    "    \n",
    "    evaluation = o3d.registration.evaluate_registration(source, target, voxel_size * 5, pose2matrix(trans_arr, rot_arr))\n",
    "    return trans_arr, rot_arr, evaluation.inlier_rmse"
   ]
  },
  {
   "cell_type": "code",
   "execution_count": null,
   "metadata": {
    "ExecuteTime": {
     "end_time": "2019-12-09T13:03:22.781084Z",
     "start_time": "2019-12-09T13:03:19.167799Z"
    }
   },
   "outputs": [],
   "source": [
    "trans_arr, rot_arr, rmse = get_pose(prev_pcd, next_pcd)"
   ]
  },
  {
   "cell_type": "code",
   "execution_count": null,
   "metadata": {
    "ExecuteTime": {
     "end_time": "2019-12-09T13:03:22.786809Z",
     "start_time": "2019-12-09T13:03:22.783155Z"
    }
   },
   "outputs": [],
   "source": [
    "rmse"
   ]
  },
  {
   "cell_type": "code",
   "execution_count": null,
   "metadata": {
    "ExecuteTime": {
     "end_time": "2019-12-09T13:03:23.265161Z",
     "start_time": "2019-12-09T13:03:22.788327Z"
    }
   },
   "outputs": [],
   "source": [
    "draw_registration_result(prev_pcd, next_pcd, pose2matrix(trans_arr, rot_arr))"
   ]
  },
  {
   "cell_type": "code",
   "execution_count": null,
   "metadata": {},
   "outputs": [],
   "source": []
  },
  {
   "cell_type": "code",
   "execution_count": null,
   "metadata": {},
   "outputs": [],
   "source": []
  }
 ],
 "metadata": {
  "kernelspec": {
   "display_name": "Python 3",
   "language": "python",
   "name": "python3"
  },
  "language_info": {
   "codemirror_mode": {
    "name": "ipython",
    "version": 3
   },
   "file_extension": ".py",
   "mimetype": "text/x-python",
   "name": "python",
   "nbconvert_exporter": "python",
   "pygments_lexer": "ipython3",
   "version": "3.7.3"
  },
  "toc": {
   "base_numbering": 1,
   "nav_menu": {},
   "number_sections": true,
   "sideBar": true,
   "skip_h1_title": false,
   "title_cell": "Table of Contents",
   "title_sidebar": "Contents",
   "toc_cell": false,
   "toc_position": {},
   "toc_section_display": true,
   "toc_window_display": false
  }
 },
 "nbformat": 4,
 "nbformat_minor": 2
}
