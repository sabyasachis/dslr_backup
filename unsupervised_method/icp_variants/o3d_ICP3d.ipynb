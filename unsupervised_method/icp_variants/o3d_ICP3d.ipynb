{
 "cells": [
  {
   "cell_type": "code",
   "execution_count": 1,
   "metadata": {
    "ExecuteTime": {
     "end_time": "2019-12-03T11:41:18.588394Z",
     "start_time": "2019-12-03T11:41:17.405133Z"
    }
   },
   "outputs": [],
   "source": [
    "import numpy as np\n",
    "import pandas as pd\n",
    "import gc\n",
    "from tqdm import *\n",
    "import os\n",
    "import copy\n",
    "import sys\n",
    "import time\n",
    "from collections import Counter, deque\n",
    "from multiprocessing import Pool, cpu_count\n",
    "\n",
    "import transforms3d\n",
    "\n",
    "from sklearn.manifold import TSNE, LocallyLinearEmbedding\n",
    "from sklearn.cluster import MeanShift\n",
    "\n",
    "import matplotlib.pyplot as plt\n",
    "from mpl_toolkits.mplot3d import Axes3D\n",
    "# import ipyvolume as ipv\n",
    "import open3d as o3d\n",
    "\n",
    "import warnings\n",
    "warnings.filterwarnings(\"ignore\")\n",
    "\n",
    "# %matplotlib inline\n",
    "%matplotlib notebook"
   ]
  },
  {
   "cell_type": "code",
   "execution_count": 2,
   "metadata": {
    "ExecuteTime": {
     "end_time": "2019-12-03T11:41:18.594742Z",
     "start_time": "2019-12-03T11:41:18.590690Z"
    }
   },
   "outputs": [],
   "source": [
    "# ATM_PATH = \"/Users/saby/Projects/atm/\"\n",
    "ATM_PATH = \"/home/sabyasachi/Projects/ati/\"\n",
    "DATA_PATH = os.path.join(ATM_PATH, \"data\", \"data\", \"datasets\")\n",
    "\n",
    "IISC_DATA_PATH = os.path.join(DATA_PATH, \"IISC\")\n",
    "EXP_PATH = os.path.join(IISC_DATA_PATH, \"2019-06-12\",\"10-00-14-P1-6-auto-ccw_5loops_0.6_no_numba\")\n",
    "\n",
    "LIDAR_PCD_PATH = os.path.join(EXP_PATH, \"complete_extracted\")\n",
    "LIDAR_CSV_PATH = os.path.join(IISC_DATA_PATH, \"lidar.csv\")\n",
    "\n",
    "# MAP_FILE = 'map_default_r.pcd'\n",
    "# POSE_FILE = 'pose_default_r.json'"
   ]
  },
  {
   "cell_type": "code",
   "execution_count": 3,
   "metadata": {
    "ExecuteTime": {
     "end_time": "2019-12-03T11:41:18.599814Z",
     "start_time": "2019-12-03T11:41:18.596471Z"
    }
   },
   "outputs": [],
   "source": [
    "FIRST_PCD = 200\n",
    "FINAL_PCD = 600\n",
    "\n",
    "VOXEL_SZ = 0.2\n",
    "MAKE_2D = False\n",
    "APPLY_CLUSTER = False\n",
    "\n",
    "plt.rcParams['figure.figsize'] = [7, 7]"
   ]
  },
  {
   "cell_type": "code",
   "execution_count": 4,
   "metadata": {
    "ExecuteTime": {
     "end_time": "2019-12-03T11:41:18.612715Z",
     "start_time": "2019-12-03T11:41:18.601323Z"
    },
    "code_folding": [
     0,
     15,
     32
    ]
   },
   "outputs": [],
   "source": [
    "def draw_registration_result(src, dst, transformation):\n",
    "    src_pcd = str(src) + \".pcd\"\n",
    "    dst_pcd = str(dst) + \".pcd\"\n",
    "    source, target = read_pcd(src_pcd=os.path.join(LIDAR_PCD_PATH, src_pcd),\n",
    "                              dst_pcd=os.path.join(LIDAR_PCD_PATH, dst_pcd))\n",
    "    \n",
    "    source.paint_uniform_color([1, 0, 0]) # red\n",
    "    target.paint_uniform_color([0, 0, 1]) # blue\n",
    "    source.transform(transformation)\n",
    "#     o3d.visualization.draw_geometries([source_temp, target_temp], width=1280, height=800)\n",
    "    visualizer = JVisualizer()\n",
    "    visualizer.add_geometry(source)\n",
    "    visualizer.add_geometry(target)\n",
    "    visualizer.show()\n",
    "    \n",
    "def preprocess_point_cloud(pcd, voxel_size):\n",
    "    pcd_down = o3d.geometry.voxel_down_sample(pcd, voxel_size)\n",
    "    radius_normal = voxel_size * 2\n",
    "    o3d.geometry.estimate_normals(\n",
    "        pcd_down,\n",
    "        o3d.geometry.KDTreeSearchParamHybrid(radius=radius_normal, max_nn=30))\n",
    "    radius_feature = voxel_size * 5\n",
    "    pcd_fpfh = o3d.registration.compute_fpfh_feature(\n",
    "        pcd_down,\n",
    "        o3d.geometry.KDTreeSearchParamHybrid(radius=radius_feature, max_nn=100))\n",
    "    return pcd_down, pcd_fpfh\n",
    "\n",
    "def read_pcd(src_pcd, dst_pcd):\n",
    "    source = o3d.io.read_point_cloud(src_pcd)\n",
    "    target = o3d.io.read_point_cloud(dst_pcd)\n",
    "    return source, target\n",
    "\n",
    "def prepare_dataset(source, target, voxel_size):\n",
    "    source_down, source_fpfh = preprocess_point_cloud(source, voxel_size)\n",
    "    target_down, target_fpfh = preprocess_point_cloud(target, voxel_size)\n",
    "    return source_down, target_down, source_fpfh, target_fpfh\n",
    "\n",
    "\n",
    "def execute_global_registration(source_down, target_down, source_fpfh,\n",
    "                                target_fpfh, voxel_size):\n",
    "    distance_threshold = voxel_size * 1.5\n",
    "    result = o3d.registration.registration_ransac_based_on_feature_matching(\n",
    "        source_down, target_down, source_fpfh, target_fpfh, distance_threshold,\n",
    "        o3d.registration.TransformationEstimationPointToPoint(False), 4, [\n",
    "            o3d.registration.CorrespondenceCheckerBasedOnEdgeLength(0.9),\n",
    "            o3d.registration.CorrespondenceCheckerBasedOnDistance(\n",
    "                distance_threshold)\n",
    "        ], o3d.registration.RANSACConvergenceCriteria(4000000, 500))\n",
    "    return result\n",
    "\n",
    "def refine_registration(source, target, voxel_size, trans_init):\n",
    "    distance_threshold = voxel_size * 0.4\n",
    "#     result = o3d.registration.registration_icp(\n",
    "#                 source, target, distance_threshold, trans_init,\n",
    "#                 o3d.registration.TransformationEstimationPointToPoint())\n",
    "    result = o3d.registration.registration_icp(\n",
    "                source, target, distance_threshold, trans_init,\n",
    "                o3d.registration.TransformationEstimationPointToPlane())\n",
    "    return result"
   ]
  },
  {
   "cell_type": "code",
   "execution_count": 5,
   "metadata": {
    "ExecuteTime": {
     "end_time": "2019-12-03T11:41:18.632367Z",
     "start_time": "2019-12-03T11:41:18.614147Z"
    },
    "code_folding": [
     0,
     11,
     27
    ]
   },
   "outputs": [],
   "source": [
    "def make_2d(pcd):\n",
    "    new_pcd = copy.deepcopy(pcd)\n",
    "    new_pts = np.concatenate([np.asarray(pcd.points)[:,:-1],np.zeros((len(pcd.points),1))], axis=1)\n",
    "    new_pcd.points = o3d.utility.Vector3dVector(new_pts)\n",
    "    return new_pcd\n",
    "\n",
    "# def read_pcd(pcd_id):\n",
    "#     pcd_file = str(pcd_id) + \".pcd\"\n",
    "#     pcd = o3d.io.read_point_cloud(os.path.join(LIDAR_PCD_PATH, pcd_file))\n",
    "#     return pcd\n",
    "\n",
    "def draw_pcd(pcd, where='mat_3d'):\n",
    "    if where is 'opn_nb':\n",
    "        visualizer = o3d.JVisualizer()\n",
    "        visualizer.add_geometry(pcd)\n",
    "        visualizer.show()\n",
    "    elif where is 'opn_view':\n",
    "        o3d.visualization.draw_geometries([pcd], width=1280, height=800)\n",
    "    elif where is 'mat_3d':\n",
    "        pts = np.asarray(pcd.points)\n",
    "        plt.scatter(pts[:,0], pts[:,1], pts[:,2])\n",
    "        plt.show()\n",
    "    elif where is 'mat_2d':\n",
    "        pts = np.asarray(pcd.points)\n",
    "        plt.scatter(pts[:,0], pts[:,1])\n",
    "        plt.show()\n",
    "\n",
    "def filter_pcd(old_pcd,\n",
    "               apply_downsample = True,\n",
    "               downsample_voxel_size = VOXEL_SZ,\n",
    "               \n",
    "               apply_outlier_removal = True,\n",
    "               downsample_radius = 1,\n",
    "               downsample_neighbors = 20,\n",
    "               \n",
    "               apply_crop = True,\n",
    "               crop_min_arr = np.array([-100,-100,0]),\n",
    "               crop_max_arr = np.array([100,100,100]),\n",
    "               \n",
    "               apply_cluster = False,\n",
    "               cluster_neighbours = 30,\n",
    "               cluster_labels = 2):\n",
    "    np.random.seed(0)\n",
    "    pcd = copy.deepcopy(old_pcd)\n",
    "    \n",
    "    if apply_downsample:\n",
    "        voxel_down_pcd = o3d.geometry.voxel_down_sample(pcd, voxel_size = downsample_voxel_size)\n",
    "        pcd = voxel_down_pcd\n",
    "\n",
    "    if apply_outlier_removal:\n",
    "        denser_pcd, ind = o3d.geometry.radius_outlier_removal(pcd,\n",
    "                                                              nb_points = downsample_neighbors,\n",
    "                                                              radius    = downsample_radius)\n",
    "        pcd = denser_pcd\n",
    "    \n",
    "    if apply_crop:\n",
    "        cropped_pcd = o3d.geometry.crop_point_cloud(pcd, crop_min_arr, crop_max_arr)\n",
    "        pcd = cropped_pcd\n",
    "\n",
    "    if apply_cluster:\n",
    "        few_pts = np.asarray(pcd.points)\n",
    "        try:\n",
    "            few_pts_reduced = LocallyLinearEmbedding(n_neighbors=cluster_neighbours, n_components=2).fit_transform(few_pts)\n",
    "        except Exception as e:\n",
    "            try:\n",
    "                few_pts_reduced = LocallyLinearEmbedding(n_neighbors=cluster_neighbours, n_components=2, eigen_solver='dense').fit_transform(few_pts)\n",
    "            except Exception as e:\n",
    "                few_pts_reduced = few_pts\n",
    "        clf = MeanShift().fit(few_pts_reduced)\n",
    "        pcd.points = o3d.utility.Vector3dVector(few_pts[clf.labels_ < cluster_labels])\n",
    "    \n",
    "    return pcd\n",
    "\n",
    "def get_pose(src, dst):\n",
    "    src_pcd = str(src) + \".pcd\"\n",
    "    dst_pcd = str(dst) + \".pcd\"\n",
    "#     src_pcd = str(src) + \".ply\"\n",
    "#     dst_pcd = str(dst) + \".ply\"\n",
    "    source, target = read_pcd(src_pcd=os.path.join(LIDAR_PCD_PATH, src_pcd),\n",
    "                              dst_pcd=os.path.join(LIDAR_PCD_PATH, dst_pcd))\n",
    "    \n",
    "    source = filter_pcd(source)\n",
    "    source = make_2d(source)\n",
    "    \n",
    "    target = filter_pcd(target)\n",
    "    target = make_2d(target)\n",
    "\n",
    "    voxel_size = VOXEL_SZ\n",
    "    source_down, target_down, source_fpfh, target_fpfh = prepare_dataset(source, target, voxel_size)\n",
    "\n",
    "    result_ransac = execute_global_registration(source_down, target_down,\n",
    "                                                source_fpfh, target_fpfh,\n",
    "                                                voxel_size)\n",
    "\n",
    "    result_icp = refine_registration(source, target, voxel_size, result_ransac.transformation)\n",
    "    return result_icp.transformation\n",
    "\n",
    "\n",
    "def visualize_transform(pose):\n",
    "    rot_mat = transforms3d.euler.euler2mat(pose['rot'][0],\n",
    "                                             pose['rot'][1],\n",
    "                                             pose['rot'][2],\n",
    "                                             axes='sxyz')\n",
    "    trans_vec = np.array(pose['trans'])\n",
    "    scale_vec = np.ones(3)\n",
    "    transform_mat = transforms3d.affines.compose(trans_vec, rot_mat, scale_vec)\n",
    "    draw_registration_result(src=pose['src'],\n",
    "                             dst=pose['dst'],\n",
    "                             transformation=transform_mat)"
   ]
  },
  {
   "cell_type": "code",
   "execution_count": 6,
   "metadata": {
    "ExecuteTime": {
     "end_time": "2019-12-03T11:41:18.637090Z",
     "start_time": "2019-12-03T11:41:18.633858Z"
    }
   },
   "outputs": [],
   "source": [
    "def parallel_thread(file_idx):\n",
    "    transform_mat = get_pose(src=file_idx + 1, dst=file_idx)\n",
    "    pose = {\"transform_mat\":transform_mat,\n",
    "            \"src\":file_idx+1,\n",
    "            \"dst\":file_idx}\n",
    "    return pose"
   ]
  },
  {
   "cell_type": "code",
   "execution_count": 7,
   "metadata": {
    "ExecuteTime": {
     "end_time": "2019-12-03T11:41:18.642364Z",
     "start_time": "2019-12-03T11:41:18.638466Z"
    }
   },
   "outputs": [],
   "source": [
    "from multiprocessing import Pool, cpu_count"
   ]
  },
  {
   "cell_type": "code",
   "execution_count": 8,
   "metadata": {
    "ExecuteTime": {
     "end_time": "2019-12-03T11:41:18.673630Z",
     "start_time": "2019-12-03T11:41:18.646811Z"
    }
   },
   "outputs": [
    {
     "data": {
      "application/vnd.jupyter.widget-view+json": {
       "model_id": "d98cf890de504189a0103cb3c9691f60",
       "version_major": 2,
       "version_minor": 0
      },
      "text/plain": [
       "HBox(children=(IntProgress(value=0, max=400), HTML(value='')))"
      ]
     },
     "metadata": {},
     "output_type": "display_data"
    },
    {
     "name": "stdout",
     "output_type": "stream",
     "text": [
      "\n"
     ]
    }
   ],
   "source": [
    "file_indices = [idx for idx in tqdm_notebook(range(FIRST_PCD, FINAL_PCD)) if idx > 0]"
   ]
  },
  {
   "cell_type": "code",
   "execution_count": 9,
   "metadata": {
    "ExecuteTime": {
     "end_time": "2019-12-03T11:41:18.826964Z",
     "start_time": "2019-12-03T11:41:18.675492Z"
    }
   },
   "outputs": [],
   "source": [
    "process_pool = Pool(cpu_count()-1)"
   ]
  },
  {
   "cell_type": "code",
   "execution_count": 10,
   "metadata": {
    "ExecuteTime": {
     "end_time": "2019-12-03T11:42:48.202420Z",
     "start_time": "2019-12-03T11:41:18.829747Z"
    }
   },
   "outputs": [
    {
     "data": {
      "application/vnd.jupyter.widget-view+json": {
       "model_id": "b52aac523c884de7a70d131e4a09879e",
       "version_major": 2,
       "version_minor": 0
      },
      "text/plain": [
       "HBox(children=(IntProgress(value=0, max=400), HTML(value='')))"
      ]
     },
     "metadata": {},
     "output_type": "display_data"
    },
    {
     "name": "stdout",
     "output_type": "stream",
     "text": [
      "\n"
     ]
    }
   ],
   "source": [
    "pose_list = [each for each in \\\n",
    "            tqdm_notebook(process_pool.imap( parallel_thread, file_indices), total=len(file_indices))]"
   ]
  },
  {
   "cell_type": "code",
   "execution_count": null,
   "metadata": {},
   "outputs": [],
   "source": []
  },
  {
   "cell_type": "code",
   "execution_count": 11,
   "metadata": {
    "ExecuteTime": {
     "end_time": "2019-12-03T11:42:48.211381Z",
     "start_time": "2019-12-03T11:42:48.204234Z"
    }
   },
   "outputs": [],
   "source": [
    "df = pd.DataFrame(pose_list)"
   ]
  },
  {
   "cell_type": "code",
   "execution_count": null,
   "metadata": {
    "ExecuteTime": {
     "start_time": "2019-12-03T11:41:17.419Z"
    }
   },
   "outputs": [
    {
     "data": {
      "text/html": [
       "<div>\n",
       "<style scoped>\n",
       "    .dataframe tbody tr th:only-of-type {\n",
       "        vertical-align: middle;\n",
       "    }\n",
       "\n",
       "    .dataframe tbody tr th {\n",
       "        vertical-align: top;\n",
       "    }\n",
       "\n",
       "    .dataframe thead th {\n",
       "        text-align: right;\n",
       "    }\n",
       "</style>\n",
       "<table border=\"1\" class=\"dataframe\">\n",
       "  <thead>\n",
       "    <tr style=\"text-align: right;\">\n",
       "      <th></th>\n",
       "      <th>dst</th>\n",
       "      <th>src</th>\n",
       "      <th>transform_mat</th>\n",
       "    </tr>\n",
       "  </thead>\n",
       "  <tbody>\n",
       "    <tr>\n",
       "      <th>0</th>\n",
       "      <td>200</td>\n",
       "      <td>201</td>\n",
       "      <td>[[0.999993459058796, -0.003616882583708625, 0....</td>\n",
       "    </tr>\n",
       "    <tr>\n",
       "      <th>1</th>\n",
       "      <td>201</td>\n",
       "      <td>202</td>\n",
       "      <td>[[0.9999980307873925, 0.001984545624824585, 0....</td>\n",
       "    </tr>\n",
       "    <tr>\n",
       "      <th>2</th>\n",
       "      <td>202</td>\n",
       "      <td>203</td>\n",
       "      <td>[[0.9999993712581224, 0.00112137565510384, 0.0...</td>\n",
       "    </tr>\n",
       "    <tr>\n",
       "      <th>3</th>\n",
       "      <td>203</td>\n",
       "      <td>204</td>\n",
       "      <td>[[0.9999861348190109, -0.005265944334609751, 0...</td>\n",
       "    </tr>\n",
       "    <tr>\n",
       "      <th>4</th>\n",
       "      <td>204</td>\n",
       "      <td>205</td>\n",
       "      <td>[[0.9999348553247337, -0.011414250159524908, 0...</td>\n",
       "    </tr>\n",
       "  </tbody>\n",
       "</table>\n",
       "</div>"
      ],
      "text/plain": [
       "   dst  src                                      transform_mat\n",
       "0  200  201  [[0.999993459058796, -0.003616882583708625, 0....\n",
       "1  201  202  [[0.9999980307873925, 0.001984545624824585, 0....\n",
       "2  202  203  [[0.9999993712581224, 0.00112137565510384, 0.0...\n",
       "3  203  204  [[0.9999861348190109, -0.005265944334609751, 0...\n",
       "4  204  205  [[0.9999348553247337, -0.011414250159524908, 0..."
      ]
     },
     "execution_count": 12,
     "metadata": {},
     "output_type": "execute_result"
    }
   ],
   "source": [
    "df.head()"
   ]
  },
  {
   "cell_type": "code",
   "execution_count": null,
   "metadata": {
    "ExecuteTime": {
     "start_time": "2019-12-03T11:41:17.421Z"
    }
   },
   "outputs": [],
   "source": [
    "pt_list = [np.array([[0,0,0]]).T]\n",
    "\n",
    "# for idx, pose in tqdm_notebook(enumerate(pose_list)):\n",
    "for idx, row in tqdm_notebook(df.iterrows()):\n",
    "    sample_mat = row['transform_mat']\n",
    "    trans_vec, rot_mat, scale_mat, shear_mat = transforms3d.affines.decompose44(sample_mat)\n",
    "    old_pt = pt_list[idx]\n",
    "    new_pt = old_pt + np.array([trans_vec]).T\n",
    "#     new_pt = np.matmul(sample_mat, old_pt)\n",
    "    pt_list.append(new_pt)"
   ]
  },
  {
   "cell_type": "code",
   "execution_count": null,
   "metadata": {
    "ExecuteTime": {
     "start_time": "2019-12-03T11:41:17.423Z"
    }
   },
   "outputs": [],
   "source": [
    "X = [vec[0] for vec in pt_list]\n",
    "Y = [vec[1] for vec in pt_list]\n",
    "Z = [vec[2] for vec in pt_list]"
   ]
  },
  {
   "cell_type": "code",
   "execution_count": null,
   "metadata": {
    "ExecuteTime": {
     "start_time": "2019-12-03T11:41:17.425Z"
    }
   },
   "outputs": [],
   "source": [
    "%matplotlib notebook"
   ]
  },
  {
   "cell_type": "code",
   "execution_count": null,
   "metadata": {
    "ExecuteTime": {
     "start_time": "2019-12-03T11:41:17.427Z"
    }
   },
   "outputs": [],
   "source": [
    "strt_idx = 0\n",
    "last_idx = -1\n",
    "\n",
    "plt.figure()\n",
    "plt.plot(X[strt_idx:last_idx],\n",
    "            Y[strt_idx:last_idx])\n",
    "plt.show()\n",
    "\n",
    "fig = plt.figure()\n",
    "ax = fig.add_subplot(111, projection='3d')\n",
    "ax.scatter(X[strt_idx:last_idx],\n",
    "           Y[strt_idx:last_idx],\n",
    "           Z[strt_idx:last_idx])\n",
    "#            c='r', marker='o')\n",
    "\n",
    "ax.set_xlabel('X Label')\n",
    "ax.set_ylabel('Y Label')\n",
    "ax.set_zlabel('Z Label')\n",
    "\n",
    "plt.show()"
   ]
  },
  {
   "cell_type": "code",
   "execution_count": null,
   "metadata": {},
   "outputs": [],
   "source": []
  },
  {
   "cell_type": "code",
   "execution_count": null,
   "metadata": {},
   "outputs": [],
   "source": []
  },
  {
   "cell_type": "code",
   "execution_count": null,
   "metadata": {},
   "outputs": [],
   "source": []
  },
  {
   "cell_type": "code",
   "execution_count": null,
   "metadata": {},
   "outputs": [],
   "source": []
  },
  {
   "cell_type": "code",
   "execution_count": null,
   "metadata": {},
   "outputs": [],
   "source": []
  },
  {
   "cell_type": "code",
   "execution_count": null,
   "metadata": {},
   "outputs": [],
   "source": []
  },
  {
   "cell_type": "code",
   "execution_count": null,
   "metadata": {},
   "outputs": [],
   "source": []
  },
  {
   "cell_type": "code",
   "execution_count": null,
   "metadata": {},
   "outputs": [],
   "source": []
  }
 ],
 "metadata": {
  "kernelspec": {
   "display_name": "Python 3",
   "language": "python",
   "name": "python3"
  },
  "language_info": {
   "codemirror_mode": {
    "name": "ipython",
    "version": 3
   },
   "file_extension": ".py",
   "mimetype": "text/x-python",
   "name": "python",
   "nbconvert_exporter": "python",
   "pygments_lexer": "ipython3",
   "version": "3.7.3"
  },
  "toc": {
   "base_numbering": 1,
   "nav_menu": {},
   "number_sections": true,
   "sideBar": true,
   "skip_h1_title": false,
   "title_cell": "Table of Contents",
   "title_sidebar": "Contents",
   "toc_cell": false,
   "toc_position": {},
   "toc_section_display": true,
   "toc_window_display": false
  }
 },
 "nbformat": 4,
 "nbformat_minor": 2
}
