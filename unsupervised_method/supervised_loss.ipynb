{
 "cells": [
  {
   "cell_type": "markdown",
   "metadata": {},
   "source": [
    "### Imports"
   ]
  },
  {
   "cell_type": "code",
   "execution_count": 1,
   "metadata": {
    "ExecuteTime": {
     "end_time": "2019-12-17T13:03:50.405758Z",
     "start_time": "2019-12-17T13:03:49.114147Z"
    }
   },
   "outputs": [],
   "source": [
    "import sys\n",
    "import os, shutil\n",
    "import gc\n",
    "import torch\n",
    "import copy\n",
    "import numpy as np\n",
    "from matplotlib import pyplot as plt\n",
    "import matplotlib.cm as cm\n",
    "import open3d\n",
    "import transforms3d\n",
    "import open3d as o3d\n",
    "from sklearn.neighbors import NearestNeighbors\n",
    "import glob\n",
    "from torch.utils.data import Dataset\n",
    "from open3d import read_point_cloud\n",
    "from tqdm import tqdm_notebook\n",
    "import pandas as pd\n",
    "from multiprocessing import Pool, cpu_count"
   ]
  },
  {
   "cell_type": "code",
   "execution_count": 2,
   "metadata": {
    "ExecuteTime": {
     "end_time": "2019-12-17T13:03:50.414031Z",
     "start_time": "2019-12-17T13:03:50.408278Z"
    }
   },
   "outputs": [],
   "source": [
    "%matplotlib notebook"
   ]
  },
  {
   "cell_type": "code",
   "execution_count": 3,
   "metadata": {
    "ExecuteTime": {
     "end_time": "2019-12-17T13:03:50.418375Z",
     "start_time": "2019-12-17T13:03:50.415751Z"
    }
   },
   "outputs": [],
   "source": [
    "def getint(name):\n",
    "    return int(name.split('.')[0])"
   ]
  },
  {
   "cell_type": "code",
   "execution_count": null,
   "metadata": {},
   "outputs": [],
   "source": []
  },
  {
   "cell_type": "markdown",
   "metadata": {},
   "source": [
    "### Setting paths and constants"
   ]
  },
  {
   "cell_type": "code",
   "execution_count": 4,
   "metadata": {
    "ExecuteTime": {
     "end_time": "2019-12-17T13:03:50.465991Z",
     "start_time": "2019-12-17T13:03:50.419812Z"
    }
   },
   "outputs": [],
   "source": [
    "# pcd_folder_path = \"/home/sabyasachi/Projects/ati/data/data/datasets/Carla/small_map/110k/static/1\"\n",
    "\n",
    "# pcd_folder = \"_out\"\n",
    "# pcd_path = os.path.join(pcd_folder_path, pcd_folder)\n",
    "pcd_path = \"/home/sabyasachi/Projects/ati/ati_motors/adversarial_based/Baselines/data/recons_16_pcd\"\n",
    "pcd_files = sorted(os.listdir(pcd_path), key=getint)"
   ]
  },
  {
   "cell_type": "code",
   "execution_count": 5,
   "metadata": {
    "ExecuteTime": {
     "end_time": "2019-12-17T13:03:50.470537Z",
     "start_time": "2019-12-17T13:03:50.467713Z"
    }
   },
   "outputs": [],
   "source": [
    "idx = np.random.choice(len(pcd_files))\n",
    "# idx = 2925\n",
    "# idx = 1841\n",
    "# idx = 3062\n",
    "# step = 10\n",
    "# idx, step"
   ]
  },
  {
   "cell_type": "code",
   "execution_count": 6,
   "metadata": {
    "ExecuteTime": {
     "end_time": "2019-12-17T13:03:50.475212Z",
     "start_time": "2019-12-17T13:03:50.472922Z"
    }
   },
   "outputs": [],
   "source": [
    "prev_pcd_file = pcd_files[idx]\n",
    "next_pcd_file = pcd_files[idx+1]"
   ]
  },
  {
   "cell_type": "markdown",
   "metadata": {},
   "source": [
    "### My I/O functions"
   ]
  },
  {
   "cell_type": "code",
   "execution_count": 7,
   "metadata": {
    "ExecuteTime": {
     "end_time": "2019-12-17T13:03:50.483099Z",
     "start_time": "2019-12-17T13:03:50.476882Z"
    },
    "code_folding": []
   },
   "outputs": [],
   "source": [
    "def pose2matrix(translation_list, rotation_angle_list, zoom_list=[1,1,1]):\n",
    "    trans_vec = np.array(translation_list)\n",
    "    rot_ang = [np.deg2rad(ang) for ang in rotation_angle_list ]\n",
    "    rot_mat = transforms3d.euler.euler2mat(rot_ang[0], rot_ang[1], rot_ang[2])\n",
    "    zoom_vec = np.array(zoom_list)\n",
    "    transform_mat = transforms3d.affines.compose(trans_vec, rot_mat, zoom_vec)\n",
    "    return transform_mat\n",
    "\n",
    "def draw_registration_result(src, dst, transformation):\n",
    "    source = copy.deepcopy(src)\n",
    "    target = copy.deepcopy(dst)\n",
    "    \n",
    "    source.paint_uniform_color([1, 0, 0]) # red\n",
    "    target.paint_uniform_color([0, 0, 1]) # blue\n",
    "    source.transform(transformation)\n",
    "    o3d.visualization.draw_geometries([source, target], width=1280, height=800)\n",
    "#     visualizer = o3d.JVisualizer()\n",
    "#     visualizer.add_geometry(source)\n",
    "#     visualizer.add_geometry(target)\n",
    "#     visualizer.show()"
   ]
  },
  {
   "cell_type": "code",
   "execution_count": 8,
   "metadata": {
    "ExecuteTime": {
     "end_time": "2019-12-17T13:03:50.490916Z",
     "start_time": "2019-12-17T13:03:50.484621Z"
    }
   },
   "outputs": [],
   "source": [
    "prev_pcd = o3d.io.read_point_cloud(os.path.join(pcd_path, prev_pcd_file))\n",
    "next_pcd = o3d.io.read_point_cloud(os.path.join(pcd_path, next_pcd_file))"
   ]
  },
  {
   "cell_type": "code",
   "execution_count": 9,
   "metadata": {
    "ExecuteTime": {
     "end_time": "2019-12-17T13:03:50.519063Z",
     "start_time": "2019-12-17T13:03:50.492996Z"
    }
   },
   "outputs": [],
   "source": [
    "# df_gt = pd.read_csv(os.path.join(pcd_folder_path, \"groundTruth.csv\"))\n",
    "df_gt = pd.read_csv(os.path.join(\"/home/sabyasachi/Projects/ati/data/data/datasets/Carla/small_map/110k/static/1\", \"groundTruth.csv\"))"
   ]
  },
  {
   "cell_type": "code",
   "execution_count": null,
   "metadata": {},
   "outputs": [],
   "source": []
  },
  {
   "cell_type": "code",
   "execution_count": 12,
   "metadata": {
    "ExecuteTime": {
     "end_time": "2019-12-17T13:05:17.042323Z",
     "start_time": "2019-12-17T13:05:17.011744Z"
    },
    "code_folding": []
   },
   "outputs": [],
   "source": [
    "def slam_loss_fn(prev_pcd, next_pcd, idx, VOXEL_SZ=0.2):\n",
    "    def transform_lidar_to_gt_frame(src, dst):\n",
    "        source = copy.deepcopy(src)\n",
    "        target = copy.deepcopy(dst)\n",
    "        transformation_lidar2gt = pose2matrix([0,0,0], [0,0,90],[1,1,-1])\n",
    "        source.transform(transformation_lidar2gt)\n",
    "        target.transform(transformation_lidar2gt)\n",
    "        return source, target\n",
    "    \n",
    "    def get_gt_pose(df_gt, idx):\n",
    "        # get_gt_pose execution starts here\n",
    "        prev_gt = df_gt[df_gt['step'] == idx +1].iloc[0]\n",
    "        next_gt = df_gt[df_gt['step'] == idx+1 +1].iloc[0]\n",
    "\n",
    "        prev_inv_mat = np.linalg.inv(pose2matrix([prev_gt['location_x'],\n",
    "                                                  prev_gt['location_y'],\n",
    "                                                  prev_gt['location_z']],\n",
    "                                                 [prev_gt['rotation_roll'],\n",
    "                                                  prev_gt['rotation_pitch'],\n",
    "                                                  prev_gt['rotation_yaw']]))\n",
    "        next_mat = pose2matrix([next_gt['location_x'],\n",
    "                                next_gt['location_y'],\n",
    "                                next_gt['location_z']],\n",
    "                               [next_gt['rotation_roll'],\n",
    "                                next_gt['rotation_pitch'],\n",
    "                                next_gt['rotation_yaw']])\n",
    "        transformation_gt = np.matmul(prev_inv_mat, next_mat)\n",
    "        transformation_gt = np.linalg.inv(transformation_gt) # Open 3d assumes transform is applied on source and not target\n",
    "        return transformation_gt\n",
    "    \n",
    "    def get_icp_pose(src, dst):\n",
    "        def crop_pcd(old_pcd, crop_min_arr=np.array([-100,-100,-2]), crop_max_arr=np.array([100,100,100])):\n",
    "            np.random.seed(0)\n",
    "            pcd = copy.deepcopy(old_pcd)\n",
    "\n",
    "            cropped_pcd = o3d.geometry.crop_point_cloud(pcd, crop_min_arr, crop_max_arr)\n",
    "            pcd = cropped_pcd\n",
    "            return pcd\n",
    "\n",
    "        def prepare_dataset(source, target, voxel_size):\n",
    "            def preprocess_point_cloud(pcd, voxel_size):\n",
    "                pcd_down = o3d.geometry.voxel_down_sample(pcd, voxel_size)\n",
    "                radius_normal = voxel_size * 2\n",
    "                o3d.geometry.estimate_normals(\n",
    "                    pcd_down,\n",
    "                    o3d.geometry.KDTreeSearchParamHybrid(radius=radius_normal, max_nn=30))\n",
    "                radius_feature = voxel_size * 5\n",
    "                pcd_fpfh = o3d.registration.compute_fpfh_feature(\n",
    "                    pcd_down,\n",
    "                    o3d.geometry.KDTreeSearchParamHybrid(radius=radius_feature, max_nn=100))\n",
    "                return pcd_down, pcd_fpfh\n",
    "            source_down, source_fpfh = preprocess_point_cloud(source, voxel_size)\n",
    "            target_down, target_fpfh = preprocess_point_cloud(target, voxel_size)\n",
    "            return source_down, target_down, source_fpfh, target_fpfh\n",
    "\n",
    "        def execute_global_registration(source_down, target_down, source_fpfh,\n",
    "                                        target_fpfh, voxel_size):\n",
    "            distance_threshold = voxel_size * 1.5\n",
    "            result = o3d.registration.registration_ransac_based_on_feature_matching(\n",
    "                source_down, target_down, source_fpfh, target_fpfh, distance_threshold,\n",
    "                o3d.registration.TransformationEstimationPointToPoint(False), 4, [\n",
    "                    o3d.registration.CorrespondenceCheckerBasedOnEdgeLength(0.9),\n",
    "                    o3d.registration.CorrespondenceCheckerBasedOnDistance(\n",
    "                        distance_threshold)\n",
    "                ], o3d.registration.RANSACConvergenceCriteria(4000000, 500))\n",
    "            return result\n",
    "\n",
    "        def refine_registration(source, target, voxel_size, trans_init):\n",
    "            distance_threshold = voxel_size * 0.4\n",
    "            result = o3d.registration.registration_icp(\n",
    "                        source, target, distance_threshold, trans_init,\n",
    "                        o3d.registration.TransformationEstimationPointToPlane())\n",
    "            return result\n",
    "\n",
    "        # get_icp_pose execution starts here\n",
    "        source = crop_pcd(src)\n",
    "        target = crop_pcd(dst)\n",
    "\n",
    "        voxel_size = VOXEL_SZ\n",
    "        source_down, target_down, source_fpfh, target_fpfh = prepare_dataset(source, target, voxel_size)\n",
    "\n",
    "        result_ransac = execute_global_registration(source_down, target_down,\n",
    "                                                    source_fpfh, target_fpfh,\n",
    "                                                    voxel_size)\n",
    "\n",
    "        result_icp = refine_registration(source, target, voxel_size, result_ransac.transformation)\n",
    "\n",
    "\n",
    "        evaluation = o3d.registration.evaluate_registration(source, target, voxel_size * 5, result_icp.transformation)\n",
    "        return result_icp.transformation, evaluation\n",
    "    \n",
    "    def get_rpe(transform1, transform2, angle_err_wt=1):\n",
    "        transformation_rpe =  np.matmul(np.linalg.inv(transform1), transform2)\n",
    "        trans_arr, rot_mat, scale_mat, shear_mat = transforms3d.affines.decompose44(transformation_rpe)\n",
    "        rot_list = transforms3d.euler.mat2euler(rot_mat, axes='sxyz')\n",
    "        rot_arr = np.array(rot_list)\n",
    "        rpe_total = np.linalg.norm(trans_arr) + (np.linalg.norm(rot_arr)*angle_err_wt)\n",
    "        return rpe_total\n",
    "\n",
    "    \n",
    "    # icp_loss_fn starts here\n",
    "    prev_pcd, next_pcd = transform_lidar_to_gt_frame(prev_pcd, next_pcd)\n",
    "\n",
    "    transformation_gt = get_gt_pose(df_gt, idx)\n",
    "#     draw_registration_result(prev_pcd, next_pcd, transformation_gt)\n",
    "    \n",
    "    transformation_icp, evaluation_icp = get_icp_pose(prev_pcd, next_pcd)\n",
    "#     draw_registration_result(prev_pcd, next_pcd, transformation_icp)\n",
    "    \n",
    "    rpe_loss = get_rpe(transformation_gt, transformation_icp)\n",
    "    \n",
    "    return rpe_loss"
   ]
  },
  {
   "cell_type": "code",
   "execution_count": 13,
   "metadata": {
    "ExecuteTime": {
     "end_time": "2019-12-17T13:05:51.588061Z",
     "start_time": "2019-12-17T13:05:17.512073Z"
    }
   },
   "outputs": [
    {
     "ename": "NameError",
     "evalue": "name 'transformation_gt' is not defined",
     "output_type": "error",
     "traceback": [
      "\u001b[0;31m---------------------------------------------------------------------------\u001b[0m",
      "\u001b[0;31mNameError\u001b[0m                                 Traceback (most recent call last)",
      "\u001b[0;32m<ipython-input-13-6c9c6371c74f>\u001b[0m in \u001b[0;36m<module>\u001b[0;34m\u001b[0m\n\u001b[0;32m----> 1\u001b[0;31m \u001b[0mloss\u001b[0m \u001b[0;34m=\u001b[0m \u001b[0mslam_loss_fn\u001b[0m\u001b[0;34m(\u001b[0m\u001b[0mprev_pcd\u001b[0m\u001b[0;34m,\u001b[0m \u001b[0mnext_pcd\u001b[0m\u001b[0;34m,\u001b[0m \u001b[0midx\u001b[0m\u001b[0;34m)\u001b[0m\u001b[0;34m\u001b[0m\u001b[0;34m\u001b[0m\u001b[0m\n\u001b[0m\u001b[1;32m      2\u001b[0m \u001b[0mloss\u001b[0m\u001b[0;34m\u001b[0m\u001b[0;34m\u001b[0m\u001b[0m\n",
      "\u001b[0;32m<ipython-input-12-e18d8702692a>\u001b[0m in \u001b[0;36mslam_loss_fn\u001b[0;34m(prev_pcd, next_pcd, idx, VOXEL_SZ)\u001b[0m\n\u001b[1;32m    108\u001b[0m     \u001b[0mdraw_registration_result\u001b[0m\u001b[0;34m(\u001b[0m\u001b[0mprev_pcd\u001b[0m\u001b[0;34m,\u001b[0m \u001b[0mnext_pcd\u001b[0m\u001b[0;34m,\u001b[0m \u001b[0mtransformation_icp\u001b[0m\u001b[0;34m)\u001b[0m\u001b[0;34m\u001b[0m\u001b[0;34m\u001b[0m\u001b[0m\n\u001b[1;32m    109\u001b[0m \u001b[0;34m\u001b[0m\u001b[0m\n\u001b[0;32m--> 110\u001b[0;31m     \u001b[0mrpe_loss\u001b[0m \u001b[0;34m=\u001b[0m \u001b[0mget_rpe\u001b[0m\u001b[0;34m(\u001b[0m\u001b[0mtransformation_gt\u001b[0m\u001b[0;34m,\u001b[0m \u001b[0mtransformation_icp\u001b[0m\u001b[0;34m)\u001b[0m\u001b[0;34m\u001b[0m\u001b[0;34m\u001b[0m\u001b[0m\n\u001b[0m\u001b[1;32m    111\u001b[0m \u001b[0;34m\u001b[0m\u001b[0m\n\u001b[1;32m    112\u001b[0m     \u001b[0;32mreturn\u001b[0m \u001b[0mrpe_loss\u001b[0m\u001b[0;34m\u001b[0m\u001b[0;34m\u001b[0m\u001b[0m\n",
      "\u001b[0;31mNameError\u001b[0m: name 'transformation_gt' is not defined"
     ]
    }
   ],
   "source": [
    "loss = slam_loss_fn(prev_pcd, next_pcd, idx)\n",
    "loss"
   ]
  },
  {
   "cell_type": "code",
   "execution_count": null,
   "metadata": {},
   "outputs": [],
   "source": []
  }
 ],
 "metadata": {
  "kernelspec": {
   "display_name": "Python 3",
   "language": "python",
   "name": "python3"
  },
  "language_info": {
   "codemirror_mode": {
    "name": "ipython",
    "version": 3
   },
   "file_extension": ".py",
   "mimetype": "text/x-python",
   "name": "python",
   "nbconvert_exporter": "python",
   "pygments_lexer": "ipython3",
   "version": "3.7.3"
  },
  "toc": {
   "base_numbering": 1,
   "nav_menu": {},
   "number_sections": true,
   "sideBar": true,
   "skip_h1_title": false,
   "title_cell": "Table of Contents",
   "title_sidebar": "Contents",
   "toc_cell": false,
   "toc_position": {},
   "toc_section_display": true,
   "toc_window_display": false
  }
 },
 "nbformat": 4,
 "nbformat_minor": 2
}
