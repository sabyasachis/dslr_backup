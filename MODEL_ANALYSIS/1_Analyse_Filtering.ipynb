{
 "cells": [
  {
   "cell_type": "code",
   "execution_count": 1,
   "metadata": {
    "ExecuteTime": {
     "end_time": "2020-02-17T17:52:25.826295Z",
     "start_time": "2020-02-17T17:52:24.879200Z"
    }
   },
   "outputs": [],
   "source": [
    "import pandas as pd\n",
    "import numpy as np\n",
    "import gc\n",
    "from tqdm.notebook import tqdm_notebook\n",
    "import open3d as o3d\n",
    "import copy\n",
    "import matplotlib.pyplot as plt\n",
    "import transforms3d\n",
    "import os"
   ]
  },
  {
   "cell_type": "code",
   "execution_count": 2,
   "metadata": {
    "ExecuteTime": {
     "end_time": "2020-02-17T17:52:25.834350Z",
     "start_time": "2020-02-17T17:52:25.828542Z"
    }
   },
   "outputs": [],
   "source": [
    "%matplotlib notebook"
   ]
  },
  {
   "cell_type": "code",
   "execution_count": 3,
   "metadata": {
    "ExecuteTime": {
     "end_time": "2020-02-17T17:52:25.845823Z",
     "start_time": "2020-02-17T17:52:25.836155Z"
    }
   },
   "outputs": [],
   "source": [
    "def draw_registration_result(src_pcd, dst_pcd, x_pt, y_pt, theta):    \n",
    "    src_pcd_tmp = copy.deepcopy(src_pcd)\n",
    "    dst_pcd_tmp = copy.deepcopy(dst_pcd)\n",
    "    \n",
    "    src_pcd_tmp.paint_uniform_color([1, 0, 0])  # red source\n",
    "    dst_pcd_tmp.paint_uniform_color([0, 0, 1])  # blue target\n",
    "    \n",
    "    transform_mat = pose2matrix([x_pt, y_pt, 0], [0,0,theta])\n",
    "    dst_pcd_tmp.transform(transform_mat)\n",
    "    \n",
    "    visualizer = o3d.JVisualizer()\n",
    "    visualizer.add_geometry(src_pcd_tmp)\n",
    "    visualizer.add_geometry(dst_pcd_tmp)\n",
    "    visualizer.show()\n",
    "    \n",
    "def draw_pcd(pcd, where='opn_nb'):\n",
    "    if where is 'opn_nb':\n",
    "        visualizer = o3d.JVisualizer()\n",
    "        visualizer.add_geometry(pcd)\n",
    "        visualizer.show()\n",
    "    elif where is 'opn_view':\n",
    "        o3d.visualization.draw_geometries([pcd], width=1280, height=800)\n",
    "    elif where is 'mat_3d':\n",
    "        plt.figure()\n",
    "        pts = np.asarray(pcd.points)\n",
    "        plt.scatter(pts[:,0], pts[:,1], pts[:,2])\n",
    "        plt.grid()\n",
    "        plt.show()\n",
    "    elif where is 'mat_2d':\n",
    "        plt.figure()\n",
    "        pts = np.asarray(pcd.points)\n",
    "        plt.scatter(pts[:,0], pts[:,1])\n",
    "        plt.grid()\n",
    "        plt.show()\n",
    "\n",
    "def pose2matrix(translation_list, rotation_angle_list):\n",
    "    trans_vec = np.array(translation_list)\n",
    "    rot_ang = [np.deg2rad(ang) for ang in rotation_angle_list ]\n",
    "    rot_mat = transforms3d.euler.euler2mat(rot_ang[0], rot_ang[1], rot_ang[2])\n",
    "    zoom = np.ones(3)\n",
    "    transform_mat = transforms3d.affines.compose(trans_vec, rot_mat, zoom)\n",
    "    return transform_mat"
   ]
  },
  {
   "cell_type": "markdown",
   "metadata": {},
   "source": [
    "### GT filtering : Extract the GT mask from segment pcd "
   ]
  },
  {
   "cell_type": "code",
   "execution_count": 4,
   "metadata": {
    "ExecuteTime": {
     "end_time": "2020-02-17T17:52:25.854874Z",
     "start_time": "2020-02-17T17:52:25.847405Z"
    }
   },
   "outputs": [],
   "source": [
    "BASE_TESTING_PATH = \"/home/saby/Projects/ati/data/data/datasets/Carla/16beam-Data/small_map/testing\"\n",
    "FOLDER_OF_INTEREST = \"8\"\n",
    "\n",
    "DYNAMIC_PCD_FOLDER = \"_out\"\n",
    "DYNAMIC_NPY_FOLDER = \"_out_out_npy\"\n",
    "SEGMENT_PCD_FOLDER = \"_segment\"\n",
    "SEGMENT_NPY_FOLDER = \"_segment_out_npy\"\n",
    "CORR_STATIC_PCD_FOLDER = \"corr_static\"\n",
    "CORR_STATIC_NPY_FOLDER = \"corr_static_out_npy\"\n",
    "# UNET_PCD_FOLDER = \"unet_pcd\"\n",
    "# UNET_NPY_FOLDER = \"unet_pcd_out_npy\"\n",
    "UNET_LEARN_FILTER_PCD_FOLDER = \"first_new_attempt_new_unet_64f_gen_125_pcd\"\n",
    "UNET_LEARN_FILTER_NPY_FOLDER = \"first_new_attempt_new_unet_64f_gen_125_pcd_out_npy\"\n",
    "\n",
    "TEST_PATH = os.path.join(BASE_TESTING_PATH, FOLDER_OF_INTEREST)\n",
    "TEST_DYNAMIC_PCD_PATH = os.path.join(TEST_PATH, DYNAMIC_PCD_FOLDER)\n",
    "TEST_DYNAMIC_NPY_PATH = os.path.join(TEST_PATH, DYNAMIC_NPY_FOLDER)\n",
    "TEST_SEGMENT_PCD_PATH = os.path.join(TEST_PATH, SEGMENT_PCD_FOLDER)\n",
    "TEST_SEGMENT_NPY_PATH = os.path.join(TEST_PATH, SEGMENT_NPY_FOLDER)\n",
    "TEST_CORR_STATIC_PCD_PATH = os.path.join(TEST_PATH, CORR_STATIC_PCD_FOLDER)\n",
    "TEST_CORR_STATIC_NPY_PATH = os.path.join(TEST_PATH, CORR_STATIC_NPY_FOLDER)\n",
    "# TEST_UNET_PCD_PATH = os.path.join(TEST_PATH, UNET_PCD_FOLDER)\n",
    "# TEST_UNET_NPY_PATH = os.path.join(TEST_PATH, UNET_NPY_FOLDER)\n",
    "TEST_UNET_LEARN_FILTER_PCD_PATH = os.path.join(TEST_PATH, UNET_LEARN_FILTER_PCD_FOLDER)\n",
    "TEST_UNET_LEARN_FILTER_NPY_PATH = os.path.join(TEST_PATH, UNET_LEARN_FILTER_NPY_FOLDER)\n"
   ]
  },
  {
   "cell_type": "code",
   "execution_count": 5,
   "metadata": {
    "ExecuteTime": {
     "end_time": "2020-02-17T17:52:26.198115Z",
     "start_time": "2020-02-17T17:52:25.856132Z"
    }
   },
   "outputs": [
    {
     "data": {
      "text/plain": [
       "(2827, 16, 1024, 4)"
      ]
     },
     "execution_count": 5,
     "metadata": {},
     "output_type": "execute_result"
    }
   ],
   "source": [
    "segment_arr = np.load(os.path.join(TEST_SEGMENT_NPY_PATH, \"0.npy\"))\n",
    "segment_arr.shape"
   ]
  },
  {
   "cell_type": "code",
   "execution_count": 6,
   "metadata": {
    "ExecuteTime": {
     "end_time": "2020-02-17T17:52:26.549601Z",
     "start_time": "2020-02-17T17:52:26.199546Z"
    }
   },
   "outputs": [
    {
     "data": {
      "text/plain": [
       "(2827, 16, 1024, 4)"
      ]
     },
     "execution_count": 6,
     "metadata": {},
     "output_type": "execute_result"
    }
   ],
   "source": [
    "corr_static_arr = np.load(os.path.join(TEST_CORR_STATIC_NPY_PATH, \"0.npy\"))\n",
    "corr_static_arr.shape"
   ]
  },
  {
   "cell_type": "code",
   "execution_count": 7,
   "metadata": {
    "ExecuteTime": {
     "end_time": "2020-02-17T17:52:28.651318Z",
     "start_time": "2020-02-17T17:52:26.551030Z"
    }
   },
   "outputs": [
    {
     "data": {
      "text/plain": [
       "(2827, 16, 1024, 4)"
      ]
     },
     "execution_count": 7,
     "metadata": {},
     "output_type": "execute_result"
    }
   ],
   "source": [
    "dynamic_arr = np.load(os.path.join(TEST_DYNAMIC_NPY_PATH, \"0.npy\"))\n",
    "dynamic_arr.shape"
   ]
  },
  {
   "cell_type": "code",
   "execution_count": null,
   "metadata": {},
   "outputs": [],
   "source": []
  },
  {
   "cell_type": "code",
   "execution_count": null,
   "metadata": {},
   "outputs": [],
   "source": []
  },
  {
   "cell_type": "code",
   "execution_count": null,
   "metadata": {},
   "outputs": [],
   "source": []
  },
  {
   "cell_type": "code",
   "execution_count": null,
   "metadata": {},
   "outputs": [],
   "source": []
  },
  {
   "cell_type": "code",
   "execution_count": null,
   "metadata": {},
   "outputs": [],
   "source": []
  },
  {
   "cell_type": "code",
   "execution_count": null,
   "metadata": {},
   "outputs": [],
   "source": []
  },
  {
   "cell_type": "markdown",
   "metadata": {
    "heading_collapsed": true
   },
   "source": [
    "### Rule Based Manual Filtering (Baseline)"
   ]
  },
  {
   "cell_type": "markdown",
   "metadata": {
    "hidden": true
   },
   "source": [
    "#### Optimal filter value range for each pcd in the run"
   ]
  },
  {
   "cell_type": "code",
   "execution_count": null,
   "metadata": {
    "hidden": true
   },
   "outputs": [],
   "source": []
  },
  {
   "cell_type": "code",
   "execution_count": null,
   "metadata": {
    "hidden": true
   },
   "outputs": [],
   "source": []
  },
  {
   "cell_type": "code",
   "execution_count": null,
   "metadata": {
    "hidden": true
   },
   "outputs": [],
   "source": []
  },
  {
   "cell_type": "code",
   "execution_count": null,
   "metadata": {
    "hidden": true
   },
   "outputs": [],
   "source": []
  },
  {
   "cell_type": "code",
   "execution_count": null,
   "metadata": {
    "hidden": true
   },
   "outputs": [],
   "source": []
  },
  {
   "cell_type": "code",
   "execution_count": null,
   "metadata": {
    "hidden": true
   },
   "outputs": [],
   "source": []
  },
  {
   "cell_type": "code",
   "execution_count": null,
   "metadata": {
    "hidden": true
   },
   "outputs": [],
   "source": []
  },
  {
   "cell_type": "code",
   "execution_count": null,
   "metadata": {
    "hidden": true
   },
   "outputs": [],
   "source": []
  },
  {
   "cell_type": "code",
   "execution_count": null,
   "metadata": {
    "hidden": true
   },
   "outputs": [],
   "source": []
  },
  {
   "cell_type": "code",
   "execution_count": null,
   "metadata": {
    "hidden": true
   },
   "outputs": [],
   "source": []
  },
  {
   "cell_type": "code",
   "execution_count": null,
   "metadata": {
    "hidden": true
   },
   "outputs": [],
   "source": []
  },
  {
   "cell_type": "code",
   "execution_count": null,
   "metadata": {
    "hidden": true
   },
   "outputs": [],
   "source": []
  },
  {
   "cell_type": "code",
   "execution_count": null,
   "metadata": {
    "hidden": true
   },
   "outputs": [],
   "source": []
  },
  {
   "cell_type": "code",
   "execution_count": null,
   "metadata": {
    "hidden": true
   },
   "outputs": [],
   "source": []
  },
  {
   "cell_type": "code",
   "execution_count": null,
   "metadata": {
    "hidden": true
   },
   "outputs": [],
   "source": []
  },
  {
   "cell_type": "code",
   "execution_count": null,
   "metadata": {
    "hidden": true
   },
   "outputs": [],
   "source": []
  },
  {
   "cell_type": "code",
   "execution_count": null,
   "metadata": {
    "hidden": true
   },
   "outputs": [],
   "source": []
  },
  {
   "cell_type": "markdown",
   "metadata": {
    "hidden": true
   },
   "source": [
    "#### Overall best optimal filter value on complete run for manual filtering "
   ]
  },
  {
   "cell_type": "code",
   "execution_count": null,
   "metadata": {
    "hidden": true
   },
   "outputs": [],
   "source": []
  },
  {
   "cell_type": "code",
   "execution_count": null,
   "metadata": {
    "hidden": true
   },
   "outputs": [],
   "source": []
  },
  {
   "cell_type": "code",
   "execution_count": null,
   "metadata": {
    "hidden": true
   },
   "outputs": [],
   "source": []
  },
  {
   "cell_type": "code",
   "execution_count": null,
   "metadata": {
    "hidden": true
   },
   "outputs": [],
   "source": []
  },
  {
   "cell_type": "code",
   "execution_count": null,
   "metadata": {
    "hidden": true
   },
   "outputs": [],
   "source": []
  },
  {
   "cell_type": "code",
   "execution_count": null,
   "metadata": {
    "hidden": true
   },
   "outputs": [],
   "source": []
  },
  {
   "cell_type": "code",
   "execution_count": null,
   "metadata": {
    "hidden": true
   },
   "outputs": [],
   "source": []
  },
  {
   "cell_type": "code",
   "execution_count": null,
   "metadata": {
    "hidden": true
   },
   "outputs": [],
   "source": []
  },
  {
   "cell_type": "markdown",
   "metadata": {},
   "source": [
    "### Model filtering"
   ]
  },
  {
   "cell_type": "markdown",
   "metadata": {},
   "source": [
    "#### Extract the mask by learnt filter models"
   ]
  },
  {
   "cell_type": "code",
   "execution_count": 8,
   "metadata": {
    "ExecuteTime": {
     "end_time": "2020-02-17T17:52:31.387448Z",
     "start_time": "2020-02-17T17:52:28.653808Z"
    }
   },
   "outputs": [
    {
     "data": {
      "text/plain": [
       "(2827, 16, 1024, 4)"
      ]
     },
     "execution_count": 8,
     "metadata": {},
     "output_type": "execute_result"
    }
   ],
   "source": [
    "unet_learn_filter_arr = np.load(os.path.join(TEST_UNET_LEARN_FILTER_NPY_PATH, \"0.npy\"))\n",
    "unet_learn_filter_arr.shape"
   ]
  },
  {
   "cell_type": "code",
   "execution_count": null,
   "metadata": {
    "ExecuteTime": {
     "end_time": "2020-02-10T15:57:49.583699Z",
     "start_time": "2020-02-10T15:57:49.230889Z"
    }
   },
   "outputs": [],
   "source": []
  },
  {
   "cell_type": "code",
   "execution_count": null,
   "metadata": {},
   "outputs": [],
   "source": []
  },
  {
   "cell_type": "code",
   "execution_count": null,
   "metadata": {},
   "outputs": [],
   "source": []
  },
  {
   "cell_type": "code",
   "execution_count": null,
   "metadata": {},
   "outputs": [],
   "source": []
  },
  {
   "cell_type": "code",
   "execution_count": 9,
   "metadata": {
    "ExecuteTime": {
     "end_time": "2020-02-17T17:52:31.820587Z",
     "start_time": "2020-02-17T17:52:31.389388Z"
    }
   },
   "outputs": [
    {
     "data": {
      "text/plain": [
       "1877"
      ]
     },
     "execution_count": 9,
     "metadata": {},
     "output_type": "execute_result"
    }
   ],
   "source": [
    "idx = np.random.choice(unet_learn_filter_arr.shape[0], 1)[0]\n",
    "idx"
   ]
  },
  {
   "cell_type": "code",
   "execution_count": 10,
   "metadata": {
    "ExecuteTime": {
     "end_time": "2020-02-17T17:52:31.884420Z",
     "start_time": "2020-02-17T17:52:31.823637Z"
    }
   },
   "outputs": [
    {
     "data": {
      "text/plain": [
       "geometry::PointCloud with 20855 points."
      ]
     },
     "execution_count": 10,
     "metadata": {},
     "output_type": "execute_result"
    }
   ],
   "source": [
    "segment_pcd = o3d.io.read_point_cloud(os.path.join(TEST_SEGMENT_PCD_PATH, str(idx+1)+\".ply\"))\n",
    "segment_pcd"
   ]
  },
  {
   "cell_type": "code",
   "execution_count": 11,
   "metadata": {
    "ExecuteTime": {
     "end_time": "2020-02-17T17:52:31.930520Z",
     "start_time": "2020-02-17T17:52:31.888210Z"
    }
   },
   "outputs": [
    {
     "data": {
      "text/plain": [
       "geometry::PointCloud with 20722 points."
      ]
     },
     "execution_count": 11,
     "metadata": {},
     "output_type": "execute_result"
    }
   ],
   "source": [
    "corr_static_pcd = o3d.io.read_point_cloud(os.path.join(TEST_CORR_STATIC_PCD_PATH, str(idx+1)+\".ply\"))\n",
    "corr_static_pcd"
   ]
  },
  {
   "cell_type": "code",
   "execution_count": 12,
   "metadata": {
    "ExecuteTime": {
     "end_time": "2020-02-17T17:52:32.455229Z",
     "start_time": "2020-02-17T17:52:31.932628Z"
    }
   },
   "outputs": [
    {
     "name": "stdout",
     "output_type": "stream",
     "text": [
      "Dynamic PCD with segmentation\n"
     ]
    },
    {
     "data": {
      "application/vnd.jupyter.widget-view+json": {
       "model_id": "08be791cd9d14ad3b478493af884a396",
       "version_major": 2,
       "version_minor": 0
      },
      "text/plain": [
       "JVisualizer with 1 geometries"
      ]
     },
     "metadata": {},
     "output_type": "display_data"
    }
   ],
   "source": [
    "print(\"Dynamic PCD with segmentation\")\n",
    "draw_pcd(segment_pcd)"
   ]
  },
  {
   "cell_type": "code",
   "execution_count": 13,
   "metadata": {
    "ExecuteTime": {
     "end_time": "2020-02-17T17:52:32.736691Z",
     "start_time": "2020-02-17T17:52:32.456902Z"
    }
   },
   "outputs": [
    {
     "name": "stdout",
     "output_type": "stream",
     "text": [
      "Static PCD corresponding\n"
     ]
    },
    {
     "data": {
      "application/vnd.jupyter.widget-view+json": {
       "model_id": "e9d5808eb3414d1d83cde9618d9729bd",
       "version_major": 2,
       "version_minor": 0
      },
      "text/plain": [
       "JVisualizer with 1 geometries"
      ]
     },
     "metadata": {},
     "output_type": "display_data"
    }
   ],
   "source": [
    "print(\"Static PCD corresponding\")\n",
    "draw_pcd(corr_static_pcd)"
   ]
  },
  {
   "cell_type": "code",
   "execution_count": 33,
   "metadata": {
    "ExecuteTime": {
     "end_time": "2020-02-17T17:55:52.121526Z",
     "start_time": "2020-02-17T17:55:52.113183Z"
    }
   },
   "outputs": [
    {
     "data": {
      "text/plain": [
       "((16, 1024), (16384, 1))"
      ]
     },
     "execution_count": 33,
     "metadata": {},
     "output_type": "execute_result"
    }
   ],
   "source": [
    "learn_mask_img = unet_learn_filter_arr[idx,:,:,3]\n",
    "learn_mask_flat = learn_mask_img.reshape((-1,1))\n",
    "learn_mask_img.shape, learn_mask_flat.shape"
   ]
  },
  {
   "cell_type": "code",
   "execution_count": 34,
   "metadata": {
    "ExecuteTime": {
     "end_time": "2020-02-17T17:55:52.813803Z",
     "start_time": "2020-02-17T17:55:52.800533Z"
    }
   },
   "outputs": [
    {
     "data": {
      "text/plain": [
       "{0.0, 1.0}"
      ]
     },
     "execution_count": 34,
     "metadata": {},
     "output_type": "execute_result"
    }
   ],
   "source": [
    "set(learn_mask_flat.flatten())"
   ]
  },
  {
   "cell_type": "code",
   "execution_count": 16,
   "metadata": {
    "ExecuteTime": {
     "end_time": "2020-02-17T17:52:32.766129Z",
     "start_time": "2020-02-17T17:52:32.758687Z"
    }
   },
   "outputs": [
    {
     "data": {
      "text/plain": [
       "(16384, 3)"
      ]
     },
     "execution_count": 16,
     "metadata": {},
     "output_type": "execute_result"
    }
   ],
   "source": [
    "# learn_mask_flat = np.array([int(not item) for item in learn_mask_flat]).reshape(-1,1) # inverting learn_mask_flat\n",
    "learn_mask_flat = learn_mask_flat\n",
    "color_arr = np.concatenate((learn_mask_flat, np.zeros(learn_mask_flat.shape), np.zeros(learn_mask_flat.shape)), axis=1)\n",
    "color_arr.shape"
   ]
  },
  {
   "cell_type": "code",
   "execution_count": null,
   "metadata": {},
   "outputs": [],
   "source": []
  },
  {
   "cell_type": "code",
   "execution_count": 17,
   "metadata": {
    "ExecuteTime": {
     "end_time": "2020-02-17T17:52:32.772386Z",
     "start_time": "2020-02-17T17:52:32.767597Z"
    }
   },
   "outputs": [
    {
     "data": {
      "text/plain": [
       "((16, 1024, 3), (16384, 3))"
      ]
     },
     "execution_count": 17,
     "metadata": {},
     "output_type": "execute_result"
    }
   ],
   "source": [
    "recon_img = unet_learn_filter_arr[idx,:,:,:3] * 100\n",
    "recon_flat = recon_img.reshape((-1,3))\n",
    "recon_img.shape, recon_flat.shape"
   ]
  },
  {
   "cell_type": "code",
   "execution_count": 18,
   "metadata": {
    "ExecuteTime": {
     "end_time": "2020-02-17T17:52:32.801851Z",
     "start_time": "2020-02-17T17:52:32.774032Z"
    }
   },
   "outputs": [
    {
     "data": {
      "text/plain": [
       "geometry::PointCloud with 16384 points."
      ]
     },
     "execution_count": 18,
     "metadata": {},
     "output_type": "execute_result"
    }
   ],
   "source": [
    "recon_pcd = o3d.geometry.PointCloud()\n",
    "recon_pcd.points = o3d.utility.Vector3dVector(recon_flat)\n",
    "recon_pcd.colors = o3d.utility.Vector3dVector(color_arr)\n",
    "recon_pcd"
   ]
  },
  {
   "cell_type": "code",
   "execution_count": null,
   "metadata": {},
   "outputs": [],
   "source": []
  },
  {
   "cell_type": "code",
   "execution_count": null,
   "metadata": {},
   "outputs": [],
   "source": []
  },
  {
   "cell_type": "code",
   "execution_count": null,
   "metadata": {},
   "outputs": [],
   "source": []
  },
  {
   "cell_type": "code",
   "execution_count": 19,
   "metadata": {
    "ExecuteTime": {
     "end_time": "2020-02-17T17:52:32.810462Z",
     "start_time": "2020-02-17T17:52:32.804487Z"
    }
   },
   "outputs": [
    {
     "data": {
      "text/plain": [
       "(16, 1024, 3)"
      ]
     },
     "execution_count": 19,
     "metadata": {},
     "output_type": "execute_result"
    }
   ],
   "source": [
    "dynamic_img = dynamic_arr[idx,:,:,:3]\n",
    "dynamic_img.shape"
   ]
  },
  {
   "cell_type": "code",
   "execution_count": 20,
   "metadata": {
    "ExecuteTime": {
     "end_time": "2020-02-17T17:52:32.816334Z",
     "start_time": "2020-02-17T17:52:32.812473Z"
    }
   },
   "outputs": [
    {
     "data": {
      "text/plain": [
       "(16, 1024, 1)"
      ]
     },
     "execution_count": 20,
     "metadata": {},
     "output_type": "execute_result"
    }
   ],
   "source": [
    "learn_mask_expand = learn_mask_img.reshape((learn_mask_img.shape[0],learn_mask_img.shape[1],1))\n",
    "learn_mask_expand.shape"
   ]
  },
  {
   "cell_type": "code",
   "execution_count": null,
   "metadata": {},
   "outputs": [],
   "source": []
  },
  {
   "cell_type": "code",
   "execution_count": 21,
   "metadata": {
    "ExecuteTime": {
     "end_time": "2020-02-17T17:52:32.822694Z",
     "start_time": "2020-02-17T17:52:32.817827Z"
    }
   },
   "outputs": [
    {
     "data": {
      "text/plain": [
       "((16, 1024, 3), (16384, 3))"
      ]
     },
     "execution_count": 21,
     "metadata": {},
     "output_type": "execute_result"
    }
   ],
   "source": [
    "new_recon_img = (dynamic_img * (learn_mask_expand)) + ((1-learn_mask_expand) * recon_img)\n",
    "new_recon_flat = new_recon_img.reshape((-1,3))\n",
    "new_recon_img.shape, new_recon_flat.shape"
   ]
  },
  {
   "cell_type": "code",
   "execution_count": null,
   "metadata": {},
   "outputs": [],
   "source": []
  },
  {
   "cell_type": "code",
   "execution_count": 22,
   "metadata": {
    "ExecuteTime": {
     "end_time": "2020-02-17T17:52:32.829595Z",
     "start_time": "2020-02-17T17:52:32.824220Z"
    }
   },
   "outputs": [
    {
     "data": {
      "text/plain": [
       "geometry::PointCloud with 16384 points."
      ]
     },
     "execution_count": 22,
     "metadata": {},
     "output_type": "execute_result"
    }
   ],
   "source": [
    "dynamic_w_learn_mask_pcd = o3d.geometry.PointCloud()\n",
    "dynamic_w_learn_mask_pcd.points = o3d.utility.Vector3dVector(dynamic_img.reshape((-1,3)))\n",
    "dynamic_w_learn_mask_pcd.colors = o3d.utility.Vector3dVector(color_arr)\n",
    "dynamic_w_learn_mask_pcd"
   ]
  },
  {
   "cell_type": "code",
   "execution_count": 23,
   "metadata": {
    "ExecuteTime": {
     "end_time": "2020-02-17T17:52:33.232215Z",
     "start_time": "2020-02-17T17:52:32.832557Z"
    }
   },
   "outputs": [
    {
     "name": "stdout",
     "output_type": "stream",
     "text": [
      "Dynamic with learnt filter PCD\n"
     ]
    },
    {
     "data": {
      "application/vnd.jupyter.widget-view+json": {
       "model_id": "9e5f882a25d243a1abe3b5a1d447ccb4",
       "version_major": 2,
       "version_minor": 0
      },
      "text/plain": [
       "JVisualizer with 1 geometries"
      ]
     },
     "metadata": {},
     "output_type": "display_data"
    }
   ],
   "source": [
    "print(\"Dynamic with learnt filter PCD\")\n",
    "draw_pcd(dynamic_w_learn_mask_pcd)"
   ]
  },
  {
   "cell_type": "code",
   "execution_count": null,
   "metadata": {},
   "outputs": [],
   "source": []
  },
  {
   "cell_type": "code",
   "execution_count": null,
   "metadata": {},
   "outputs": [],
   "source": []
  },
  {
   "cell_type": "code",
   "execution_count": 24,
   "metadata": {
    "ExecuteTime": {
     "end_time": "2020-02-17T17:52:33.237313Z",
     "start_time": "2020-02-17T17:52:33.233823Z"
    }
   },
   "outputs": [
    {
     "data": {
      "text/plain": [
       "geometry::PointCloud with 16384 points."
      ]
     },
     "execution_count": 24,
     "metadata": {},
     "output_type": "execute_result"
    }
   ],
   "source": [
    "dynamic_w_learn_mask_pcd"
   ]
  },
  {
   "cell_type": "code",
   "execution_count": 25,
   "metadata": {
    "ExecuteTime": {
     "end_time": "2020-02-17T17:52:33.243001Z",
     "start_time": "2020-02-17T17:52:33.238546Z"
    }
   },
   "outputs": [
    {
     "data": {
      "text/plain": [
       "geometry::PointCloud with 16384 points."
      ]
     },
     "execution_count": 25,
     "metadata": {},
     "output_type": "execute_result"
    }
   ],
   "source": [
    "new_recon_pcd = o3d.geometry.PointCloud()\n",
    "new_recon_pcd.points = o3d.utility.Vector3dVector(new_recon_flat)\n",
    "new_recon_pcd.colors = o3d.utility.Vector3dVector(color_arr)\n",
    "new_recon_pcd"
   ]
  },
  {
   "cell_type": "code",
   "execution_count": null,
   "metadata": {},
   "outputs": [],
   "source": []
  },
  {
   "cell_type": "code",
   "execution_count": 26,
   "metadata": {
    "ExecuteTime": {
     "end_time": "2020-02-17T17:52:33.633170Z",
     "start_time": "2020-02-17T17:52:33.244210Z"
    }
   },
   "outputs": [
    {
     "name": "stdout",
     "output_type": "stream",
     "text": [
      "Pure reconstruction PCD\n"
     ]
    },
    {
     "data": {
      "application/vnd.jupyter.widget-view+json": {
       "model_id": "edf41c18e272422d8b710c43ad5cfe24",
       "version_major": 2,
       "version_minor": 0
      },
      "text/plain": [
       "JVisualizer with 1 geometries"
      ]
     },
     "metadata": {},
     "output_type": "display_data"
    }
   ],
   "source": [
    "print(\"Pure reconstruction PCD\")\n",
    "draw_pcd(recon_pcd)"
   ]
  },
  {
   "cell_type": "code",
   "execution_count": 27,
   "metadata": {
    "ExecuteTime": {
     "end_time": "2020-02-17T17:52:34.066366Z",
     "start_time": "2020-02-17T17:52:33.636079Z"
    }
   },
   "outputs": [
    {
     "name": "stdout",
     "output_type": "stream",
     "text": [
      "Filtered reconstruction PCD\n"
     ]
    },
    {
     "data": {
      "application/vnd.jupyter.widget-view+json": {
       "model_id": "3e8c2e8854bc4151852b8344def7f4d5",
       "version_major": 2,
       "version_minor": 0
      },
      "text/plain": [
       "JVisualizer with 1 geometries"
      ]
     },
     "metadata": {},
     "output_type": "display_data"
    }
   ],
   "source": [
    "print(\"Filtered reconstruction PCD\")\n",
    "draw_pcd(new_recon_pcd)"
   ]
  },
  {
   "cell_type": "code",
   "execution_count": 28,
   "metadata": {
    "ExecuteTime": {
     "end_time": "2020-02-17T17:52:34.154365Z",
     "start_time": "2020-02-17T17:52:34.067830Z"
    }
   },
   "outputs": [
    {
     "ename": "NameError",
     "evalue": "name 'andandand' is not defined",
     "output_type": "error",
     "traceback": [
      "\u001b[0;31m---------------------------------------------------------------------------\u001b[0m",
      "\u001b[0;31mNameError\u001b[0m                                 Traceback (most recent call last)",
      "\u001b[0;32m<ipython-input-28-d73648ee5cf1>\u001b[0m in \u001b[0;36m<module>\u001b[0;34m\u001b[0m\n\u001b[0;32m----> 1\u001b[0;31m \u001b[0mandandand\u001b[0m\u001b[0;34m\u001b[0m\u001b[0;34m\u001b[0m\u001b[0m\n\u001b[0m",
      "\u001b[0;31mNameError\u001b[0m: name 'andandand' is not defined"
     ]
    }
   ],
   "source": [
    "andandand"
   ]
  },
  {
   "cell_type": "code",
   "execution_count": null,
   "metadata": {},
   "outputs": [],
   "source": []
  },
  {
   "cell_type": "code",
   "execution_count": null,
   "metadata": {},
   "outputs": [],
   "source": []
  },
  {
   "cell_type": "code",
   "execution_count": null,
   "metadata": {
    "ExecuteTime": {
     "end_time": "2020-02-17T17:52:34.155888Z",
     "start_time": "2020-02-17T17:52:25.065Z"
    }
   },
   "outputs": [],
   "source": [
    "(dynamic_arr - corr_static_arr).shape"
   ]
  },
  {
   "cell_type": "code",
   "execution_count": null,
   "metadata": {
    "ExecuteTime": {
     "end_time": "2020-02-17T17:52:34.156672Z",
     "start_time": "2020-02-17T17:52:25.067Z"
    }
   },
   "outputs": [],
   "source": [
    "# wt_mask = \n",
    "dynamic_arr[:,:,:,2]"
   ]
  },
  {
   "cell_type": "code",
   "execution_count": null,
   "metadata": {},
   "outputs": [],
   "source": []
  },
  {
   "cell_type": "code",
   "execution_count": null,
   "metadata": {},
   "outputs": [],
   "source": []
  },
  {
   "cell_type": "code",
   "execution_count": null,
   "metadata": {},
   "outputs": [],
   "source": []
  },
  {
   "cell_type": "code",
   "execution_count": null,
   "metadata": {},
   "outputs": [],
   "source": []
  },
  {
   "cell_type": "code",
   "execution_count": null,
   "metadata": {},
   "outputs": [],
   "source": []
  },
  {
   "cell_type": "code",
   "execution_count": null,
   "metadata": {
    "ExecuteTime": {
     "end_time": "2020-02-10T15:57:50.401126Z",
     "start_time": "2020-02-10T15:57:50.377610Z"
    }
   },
   "outputs": [],
   "source": []
  },
  {
   "cell_type": "code",
   "execution_count": null,
   "metadata": {},
   "outputs": [],
   "source": []
  },
  {
   "cell_type": "code",
   "execution_count": null,
   "metadata": {},
   "outputs": [],
   "source": []
  },
  {
   "cell_type": "code",
   "execution_count": null,
   "metadata": {},
   "outputs": [],
   "source": []
  },
  {
   "cell_type": "code",
   "execution_count": null,
   "metadata": {},
   "outputs": [],
   "source": []
  },
  {
   "cell_type": "code",
   "execution_count": null,
   "metadata": {},
   "outputs": [],
   "source": []
  },
  {
   "cell_type": "code",
   "execution_count": null,
   "metadata": {},
   "outputs": [],
   "source": []
  },
  {
   "cell_type": "code",
   "execution_count": null,
   "metadata": {},
   "outputs": [],
   "source": []
  },
  {
   "cell_type": "code",
   "execution_count": null,
   "metadata": {
    "ExecuteTime": {
     "end_time": "2020-02-17T17:52:34.157523Z",
     "start_time": "2020-02-17T17:52:25.104Z"
    }
   },
   "outputs": [],
   "source": [
    "ATH = os.path.join(TEST_PATH, UNET_PCD_FOLDER)\n",
    "# TEST_UNET_NPY_PATH = os.path.join(TEST_PATH, UNET_PCD_FOLDER)\n",
    "# TEST_UNET_NPY_P"
   ]
  },
  {
   "cell_type": "code",
   "execution_count": null,
   "metadata": {},
   "outputs": [],
   "source": []
  },
  {
   "cell_type": "code",
   "execution_count": null,
   "metadata": {},
   "outputs": [],
   "source": []
  },
  {
   "cell_type": "markdown",
   "metadata": {},
   "source": [
    "#### Rule based Filtering applied on Model filtered outputs"
   ]
  },
  {
   "cell_type": "code",
   "execution_count": null,
   "metadata": {},
   "outputs": [],
   "source": []
  },
  {
   "cell_type": "code",
   "execution_count": null,
   "metadata": {},
   "outputs": [],
   "source": []
  },
  {
   "cell_type": "code",
   "execution_count": null,
   "metadata": {},
   "outputs": [],
   "source": []
  },
  {
   "cell_type": "code",
   "execution_count": null,
   "metadata": {},
   "outputs": [],
   "source": []
  },
  {
   "cell_type": "code",
   "execution_count": null,
   "metadata": {},
   "outputs": [],
   "source": []
  },
  {
   "cell_type": "markdown",
   "metadata": {
    "heading_collapsed": true
   },
   "source": [
    "### Compare the Baseline Manual FIltering and Model Filtering against GT filtering"
   ]
  },
  {
   "cell_type": "code",
   "execution_count": null,
   "metadata": {
    "hidden": true
   },
   "outputs": [],
   "source": []
  },
  {
   "cell_type": "code",
   "execution_count": null,
   "metadata": {
    "hidden": true
   },
   "outputs": [],
   "source": []
  },
  {
   "cell_type": "code",
   "execution_count": null,
   "metadata": {
    "hidden": true
   },
   "outputs": [],
   "source": []
  },
  {
   "cell_type": "code",
   "execution_count": null,
   "metadata": {
    "hidden": true
   },
   "outputs": [],
   "source": []
  },
  {
   "cell_type": "markdown",
   "metadata": {},
   "source": [
    "### Compare on SLAM performance"
   ]
  },
  {
   "cell_type": "code",
   "execution_count": null,
   "metadata": {},
   "outputs": [],
   "source": []
  },
  {
   "cell_type": "code",
   "execution_count": null,
   "metadata": {},
   "outputs": [],
   "source": []
  },
  {
   "cell_type": "code",
   "execution_count": null,
   "metadata": {},
   "outputs": [],
   "source": []
  },
  {
   "cell_type": "code",
   "execution_count": null,
   "metadata": {},
   "outputs": [],
   "source": []
  },
  {
   "cell_type": "code",
   "execution_count": null,
   "metadata": {},
   "outputs": [],
   "source": []
  },
  {
   "cell_type": "code",
   "execution_count": null,
   "metadata": {},
   "outputs": [],
   "source": []
  },
  {
   "cell_type": "code",
   "execution_count": null,
   "metadata": {},
   "outputs": [],
   "source": []
  }
 ],
 "metadata": {
  "kernelspec": {
   "display_name": "Python 3",
   "language": "python",
   "name": "python3"
  },
  "language_info": {
   "codemirror_mode": {
    "name": "ipython",
    "version": 3
   },
   "file_extension": ".py",
   "mimetype": "text/x-python",
   "name": "python",
   "nbconvert_exporter": "python",
   "pygments_lexer": "ipython3",
   "version": "3.6.10"
  },
  "toc": {
   "base_numbering": 1,
   "nav_menu": {},
   "number_sections": true,
   "sideBar": true,
   "skip_h1_title": false,
   "title_cell": "Table of Contents",
   "title_sidebar": "Contents",
   "toc_cell": false,
   "toc_position": {},
   "toc_section_display": true,
   "toc_window_display": false
  }
 },
 "nbformat": 4,
 "nbformat_minor": 4
}
