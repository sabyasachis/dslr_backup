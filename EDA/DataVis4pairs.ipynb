{
 "cells": [
  {
   "cell_type": "code",
   "execution_count": null,
   "metadata": {
    "ExecuteTime": {
     "end_time": "2019-11-18T11:20:05.977183Z",
     "start_time": "2019-11-18T11:20:05.468028Z"
    }
   },
   "outputs": [],
   "source": [
    "import numpy as np\n",
    "# import ipyvolume as ipv\n",
    "import open3d as o3\n",
    "from open3d import *\n",
    "import os\n",
    "from tqdm import *\n",
    "import time\n",
    "import matplotlib.pyplot as plt\n",
    "# %matplotlib inline"
   ]
  },
  {
   "cell_type": "raw",
   "metadata": {},
   "source": [
    "use_prefix = True\n",
    "start_idx = \"000\"\n",
    "pcd_type = \".pcd\"\n",
    "pcd_folder = \"/home/sabyasachi/Projects/ati/ati_motors/adversarial_based/Baselines/open3d/temp_save_parallel_dataset/\""
   ]
  },
  {
   "cell_type": "code",
   "execution_count": null,
   "metadata": {
    "ExecuteTime": {
     "end_time": "2019-11-18T11:20:05.981681Z",
     "start_time": "2019-11-18T11:20:05.979299Z"
    }
   },
   "outputs": [],
   "source": [
    "use_prefix = False\n",
    "start_idx = \"1\"\n",
    "pcd_type = \".ply\"\n",
    "pcd_folder = \"/home/sabyasachi/Projects/ati/data/data/datasets/Carla/few_dynamic_runs/110k/dynamic/no2whl_2/_model_out\""
   ]
  },
  {
   "cell_type": "code",
   "execution_count": null,
   "metadata": {},
   "outputs": [],
   "source": []
  },
  {
   "cell_type": "code",
   "execution_count": null,
   "metadata": {
    "ExecuteTime": {
     "end_time": "2019-11-18T11:20:05.986440Z",
     "start_time": "2019-11-18T11:20:05.983394Z"
    }
   },
   "outputs": [],
   "source": [
    "def custom_draw_geometry(pcd):\n",
    "    # The following code achieves the same effect as:\n",
    "    # draw_geometries([pcd])\n",
    "    vis = Visualizer()\n",
    "    vis.create_window(width=1366, height=720)\n",
    "    vis.add_geometry(pcd)\n",
    "    vis.run()\n",
    "    vis.destroy_window()"
   ]
  },
  {
   "cell_type": "code",
   "execution_count": null,
   "metadata": {},
   "outputs": [],
   "source": []
  },
  {
   "cell_type": "code",
   "execution_count": null,
   "metadata": {
    "ExecuteTime": {
     "start_time": "2019-11-18T11:20:05.491Z"
    },
    "scrolled": true
   },
   "outputs": [],
   "source": [
    "time.sleep(1)\n",
    "vis = Visualizer()\n",
    "vis.create_window(width=1366, height=720)\n",
    "pcd_load = read_point_cloud(os.path.join(pcd_folder, start_idx+pcd_type))\n",
    "vis.add_geometry(pcd_load)\n",
    "\n",
    "for idx in tqdm_notebook(range(len(os.listdir(pcd_folder))-1)):\n",
    "    # time delay to look like real time\n",
    "    if use_prefix:\n",
    "        time.sleep(0.1)\n",
    "        prefix = \"\".join([\"0\" for _ in range(3 - len(str(idx)))])\n",
    "        fname = prefix + str(idx+1) + pcd_type\n",
    "    else:\n",
    "        time.sleep(0.1)\n",
    "        fname = str(idx+1) + pcd_type\n",
    "    pcd_path = os.path.join(pcd_folder, fname)\n",
    "    new_pcd_load = read_point_cloud(pcd_path)\n",
    "    pcd_load.points = new_pcd_load.points\n",
    "    \n",
    "#     print(\"{} {}\".format(idx, np.asarray(pcd_load.points).shape))\n",
    "    \n",
    "    vis.update_geometry()\n",
    "    vis.poll_events()\n",
    "    vis.update_renderer()\n",
    "vis.destroy_window()"
   ]
  },
  {
   "cell_type": "code",
   "execution_count": null,
   "metadata": {},
   "outputs": [],
   "source": []
  },
  {
   "cell_type": "code",
   "execution_count": null,
   "metadata": {},
   "outputs": [],
   "source": []
  },
  {
   "cell_type": "code",
   "execution_count": null,
   "metadata": {},
   "outputs": [],
   "source": []
  },
  {
   "cell_type": "code",
   "execution_count": null,
   "metadata": {},
   "outputs": [],
   "source": []
  },
  {
   "cell_type": "code",
   "execution_count": null,
   "metadata": {},
   "outputs": [],
   "source": []
  },
  {
   "cell_type": "code",
   "execution_count": null,
   "metadata": {},
   "outputs": [],
   "source": []
  }
 ],
 "metadata": {
  "kernelspec": {
   "display_name": "Python 3",
   "language": "python",
   "name": "python3"
  },
  "language_info": {
   "codemirror_mode": {
    "name": "ipython",
    "version": 3
   },
   "file_extension": ".py",
   "mimetype": "text/x-python",
   "name": "python",
   "nbconvert_exporter": "python",
   "pygments_lexer": "ipython3",
   "version": "3.7.3"
  },
  "toc": {
   "base_numbering": 1,
   "nav_menu": {},
   "number_sections": true,
   "sideBar": true,
   "skip_h1_title": false,
   "title_cell": "Table of Contents",
   "title_sidebar": "Contents",
   "toc_cell": false,
   "toc_position": {},
   "toc_section_display": true,
   "toc_window_display": false
  },
  "varInspector": {
   "cols": {
    "lenName": 16,
    "lenType": 16,
    "lenVar": 40
   },
   "kernels_config": {
    "python": {
     "delete_cmd_postfix": "",
     "delete_cmd_prefix": "del ",
     "library": "var_list.py",
     "varRefreshCmd": "print(var_dic_list())"
    },
    "r": {
     "delete_cmd_postfix": ") ",
     "delete_cmd_prefix": "rm(",
     "library": "var_list.r",
     "varRefreshCmd": "cat(var_dic_list()) "
    }
   },
   "types_to_exclude": [
    "module",
    "function",
    "builtin_function_or_method",
    "instance",
    "_Feature"
   ],
   "window_display": false
  }
 },
 "nbformat": 4,
 "nbformat_minor": 2
}
