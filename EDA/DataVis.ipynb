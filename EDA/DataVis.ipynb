{
 "cells": [
  {
   "cell_type": "code",
   "execution_count": 1,
   "metadata": {
    "ExecuteTime": {
     "end_time": "2020-07-22T14:44:22.917226Z",
     "start_time": "2020-07-22T14:44:22.223897Z"
    }
   },
   "outputs": [],
   "source": [
    "import numpy as np\n",
    "# import ipyvolume as ipv\n",
    "import open3d as o3\n",
    "from open3d import *\n",
    "import os\n",
    "from tqdm import *\n",
    "import time\n",
    "import matplotlib.pyplot as plt\n",
    "# %matplotlib inline"
   ]
  },
  {
   "cell_type": "raw",
   "metadata": {},
   "source": [
    "use_prefix = True\n",
    "start_idx = \"000\"\n",
    "pcd_type = \".pcd\"\n",
    "pcd_folder = \"/home/sabyasachi/Projects/ati/ati_motors/adversarial_based/Baselines/open3d/temp_save_parallel_dataset/\""
   ]
  },
  {
   "cell_type": "code",
   "execution_count": 2,
   "metadata": {
    "ExecuteTime": {
     "end_time": "2020-07-22T14:44:23.314491Z",
     "start_time": "2020-07-22T14:44:23.309324Z"
    }
   },
   "outputs": [],
   "source": [
    "use_prefix = False\n",
    "start_idx = \"1\"\n",
    "pcd_type = \".ply\"\n",
    "pcd_folder = \"/home/saby/Projects/ati/data/data/datasets/Carla/64beam-Data/testing/6/ply_with_noise_0.05/\""
   ]
  },
  {
   "cell_type": "code",
   "execution_count": null,
   "metadata": {},
   "outputs": [],
   "source": []
  },
  {
   "cell_type": "code",
   "execution_count": 3,
   "metadata": {
    "ExecuteTime": {
     "end_time": "2020-07-22T14:44:26.056717Z",
     "start_time": "2020-07-22T14:44:26.050359Z"
    }
   },
   "outputs": [],
   "source": [
    "def custom_draw_geometry(pcd):\n",
    "    # The following code achieves the same effect as:\n",
    "    # draw_geometries([pcd])\n",
    "    vis = Visualizer()\n",
    "    vis.create_window(width=1366, height=720)\n",
    "    vis.add_geometry(pcd)\n",
    "    vis.run()\n",
    "    vis.destroy_window()"
   ]
  },
  {
   "cell_type": "code",
   "execution_count": null,
   "metadata": {},
   "outputs": [],
   "source": []
  },
  {
   "cell_type": "code",
   "execution_count": 4,
   "metadata": {
    "ExecuteTime": {
     "end_time": "2020-07-22T14:44:51.798022Z",
     "start_time": "2020-07-22T14:44:50.312343Z"
    },
    "scrolled": true
   },
   "outputs": [
    {
     "name": "stderr",
     "output_type": "stream",
     "text": [
      "/home/saby/anaconda3/envs/ati/lib/python3.6/site-packages/ipykernel_launcher.py:7: TqdmDeprecationWarning: This function will be removed in tqdm==5.0.0\n",
      "Please use `tqdm.notebook.tqdm` instead of `tqdm.tqdm_notebook`\n",
      "  import sys\n"
     ]
    },
    {
     "data": {
      "application/vnd.jupyter.widget-view+json": {
       "model_id": "047f95422b884d4c94246b6132b1e981",
       "version_major": 2,
       "version_minor": 0
      },
      "text/plain": [
       "HBox(children=(FloatProgress(value=0.0, max=6292.0), HTML(value='')))"
      ]
     },
     "metadata": {},
     "output_type": "display_data"
    },
    {
     "ename": "TypeError",
     "evalue": "update_geometry(): incompatible function arguments. The following argument types are supported:\n    1. (self: open3d.open3d.visualization.Visualizer, arg0: open3d.open3d.geometry.Geometry) -> bool\n\nInvoked with: Visualizer with name Open3D",
     "output_type": "error",
     "traceback": [
      "\u001b[0;31m---------------------------------------------------------------------------\u001b[0m",
      "\u001b[0;31mTypeError\u001b[0m                                 Traceback (most recent call last)",
      "\u001b[0;32m<ipython-input-4-2ac025609f00>\u001b[0m in \u001b[0;36m<module>\u001b[0;34m\u001b[0m\n\u001b[1;32m     20\u001b[0m \u001b[0;31m#     print(\"{} {}\".format(idx, np.asarray(pcd_load.points).shape))\u001b[0m\u001b[0;34m\u001b[0m\u001b[0;34m\u001b[0m\u001b[0;34m\u001b[0m\u001b[0m\n\u001b[1;32m     21\u001b[0m \u001b[0;34m\u001b[0m\u001b[0m\n\u001b[0;32m---> 22\u001b[0;31m     \u001b[0mvis\u001b[0m\u001b[0;34m.\u001b[0m\u001b[0mupdate_geometry\u001b[0m\u001b[0;34m(\u001b[0m\u001b[0;34m)\u001b[0m\u001b[0;34m\u001b[0m\u001b[0;34m\u001b[0m\u001b[0m\n\u001b[0m\u001b[1;32m     23\u001b[0m     \u001b[0mvis\u001b[0m\u001b[0;34m.\u001b[0m\u001b[0mpoll_events\u001b[0m\u001b[0;34m(\u001b[0m\u001b[0;34m)\u001b[0m\u001b[0;34m\u001b[0m\u001b[0;34m\u001b[0m\u001b[0m\n\u001b[1;32m     24\u001b[0m     \u001b[0mvis\u001b[0m\u001b[0;34m.\u001b[0m\u001b[0mupdate_renderer\u001b[0m\u001b[0;34m(\u001b[0m\u001b[0;34m)\u001b[0m\u001b[0;34m\u001b[0m\u001b[0;34m\u001b[0m\u001b[0m\n",
      "\u001b[0;31mTypeError\u001b[0m: update_geometry(): incompatible function arguments. The following argument types are supported:\n    1. (self: open3d.open3d.visualization.Visualizer, arg0: open3d.open3d.geometry.Geometry) -> bool\n\nInvoked with: Visualizer with name Open3D"
     ]
    }
   ],
   "source": [
    "time.sleep(1)\n",
    "vis = visualization.Visualizer()\n",
    "vis.create_window(width=1366, height=720)\n",
    "pcd_load = io.read_point_cloud(os.path.join(pcd_folder, start_idx+pcd_type))\n",
    "vis.add_geometry(pcd_load)\n",
    "\n",
    "for idx in tqdm_notebook(range(len(os.listdir(pcd_folder))-1)):\n",
    "    # time delay to look like real time\n",
    "    if use_prefix:\n",
    "        time.sleep(0.1)\n",
    "        prefix = \"\".join([\"0\" for _ in range(3 - len(str(idx)))])\n",
    "        fname = prefix + str(idx+1) + pcd_type\n",
    "    else:\n",
    "        time.sleep(0.1)\n",
    "        fname = str(idx+1) + pcd_type\n",
    "    pcd_path = os.path.join(pcd_folder, fname)\n",
    "    new_pcd_load = io.read_point_cloud(pcd_path)\n",
    "    pcd_load.points = new_pcd_load.points\n",
    "    \n",
    "#     print(\"{} {}\".format(idx, np.asarray(pcd_load.points).shape))\n",
    "    \n",
    "    vis.update_geometry()\n",
    "    vis.poll_events()\n",
    "    vis.update_renderer()\n",
    "vis.destroy_window()"
   ]
  },
  {
   "cell_type": "code",
   "execution_count": null,
   "metadata": {},
   "outputs": [],
   "source": []
  },
  {
   "cell_type": "code",
   "execution_count": null,
   "metadata": {},
   "outputs": [],
   "source": []
  },
  {
   "cell_type": "code",
   "execution_count": null,
   "metadata": {},
   "outputs": [],
   "source": []
  },
  {
   "cell_type": "code",
   "execution_count": null,
   "metadata": {},
   "outputs": [],
   "source": []
  },
  {
   "cell_type": "code",
   "execution_count": null,
   "metadata": {},
   "outputs": [],
   "source": []
  },
  {
   "cell_type": "raw",
   "metadata": {
    "ExecuteTime": {
     "start_time": "2019-10-03T11:42:19.921Z"
    }
   },
   "source": [
    "time.sleep(10)\n",
    "vis = o3d.Visualizer()\n",
    "vis.create_window(width=1366, height=720)\n",
    "pcd_load = o3d.PointCloud()\n",
    "pcd_load_1 = o3d.read_point_cloud(os.path.join(pcd_folder, \"1.pcd\"))\n",
    "pcd_load_2 = o3d.read_point_cloud(os.path.join(pcd_folder, \"2.pcd\"))\n",
    "pcd_load.points = o3d.utility.Vector3dVector(np.concatenate(\n",
    "                        (np.asarray(pcd_load_1.points),\n",
    "                         np.asarray(pcd_load_2.points)),\n",
    "                            axis = 0))\n",
    "vis.add_geometry(pcd_load)\n",
    "\n",
    "for idx in tqdm_notebook(range(int(len(os.listdir(pcd_folder))/2)-2)):\n",
    "    # time delay to look like real time\n",
    "    time.sleep(0.1)\n",
    "    fname = str(2*idx+3) + \".pcd\"\n",
    "    pcd_path = os.path.join(pcd_folder, fname)\n",
    "    new_pcd_load_1 = o3d.read_point_cloud(pcd_path)\n",
    "    \n",
    "    fname = str(2*idx+4) + \".pcd\"\n",
    "    pcd_path = os.path.join(pcd_folder, fname)\n",
    "    new_pcd_load_2 = o3d.read_point_cloud(pcd_path)\n",
    "    \n",
    "    pcd_load.points = o3d.utility.Vector3dVector(np.concatenate(\n",
    "                        (np.asarray(new_pcd_load_1.points),\n",
    "                         np.asarray(new_pcd_load_2.points)),\n",
    "                            axis = 0))\n",
    "    \n",
    "    vis.update_geometry()\n",
    "    vis.poll_events()\n",
    "    vis.update_renderer()\n",
    "vis.destroy_window()"
   ]
  },
  {
   "cell_type": "code",
   "execution_count": null,
   "metadata": {},
   "outputs": [],
   "source": []
  },
  {
   "cell_type": "raw",
   "metadata": {
    "ExecuteTime": {
     "start_time": "2019-10-21T14:19:59.497Z"
    }
   },
   "source": [
    "time.sleep(5)\n",
    "vis = Visualizer()\n",
    "vis.create_window(width=1366, height=720)\n",
    "pcd_load = read_point_cloud(os.path.join(pcd_folder, \"000.pcd\"))\n",
    "vis.add_geometry(pcd_load)\n",
    "\n",
    "for idx in tqdm_notebook(range(len(os.listdir(pcd_folder))-2)):\n",
    "    # time delay to look like real time\n",
    "    time.sleep(0.1)\n",
    "    prefix = \"\".join([\"0\" for _ in range(3 - len(str(idx+1)))])\n",
    "    fname = prefix + str(idx+1) + \".pcd\"\n",
    "    pcd_path = os.path.join(pcd_folder, fname)\n",
    "    new_pcd_load = read_point_cloud(pcd_path)\n",
    "    pcd_load.points = new_pcd_load.points\n",
    "    \n",
    "    vis.update_geometry()\n",
    "    vis.poll_events()\n",
    "    vis.update_renderer()\n",
    "vis.destroy_window()"
   ]
  },
  {
   "cell_type": "code",
   "execution_count": null,
   "metadata": {},
   "outputs": [],
   "source": []
  },
  {
   "cell_type": "raw",
   "metadata": {
    "ExecuteTime": {
     "end_time": "2019-10-21T14:23:18.562267Z",
     "start_time": "2019-10-21T14:22:26.365931Z"
    }
   },
   "source": [
    "time.sleep(1)\n",
    "vis = Visualizer()\n",
    "vis.create_window(width=1366, height=720)\n",
    "pcd_load = read_point_cloud(os.path.join(pcd_folder, \"1.ply\"))\n",
    "vis.add_geometry(pcd_load)\n",
    "\n",
    "for idx in tqdm_notebook(range(len(os.listdir(pcd_folder))-2)):\n",
    "    # time delay to look like real time\n",
    "    time.sleep(0.01)\n",
    "    fname = str(idx+2) + \".ply\"\n",
    "    pcd_path = os.path.join(pcd_folder, fname)\n",
    "    new_pcd_load = read_point_cloud(pcd_path)\n",
    "    pcd_load.points = new_pcd_load.points\n",
    "    \n",
    "    vis.update_geometry()\n",
    "    vis.poll_events()\n",
    "    vis.update_renderer()\n",
    "vis.destroy_window()"
   ]
  },
  {
   "cell_type": "raw",
   "metadata": {},
   "source": [
    "vis.destroy_window()"
   ]
  },
  {
   "cell_type": "code",
   "execution_count": null,
   "metadata": {},
   "outputs": [],
   "source": []
  },
  {
   "cell_type": "code",
   "execution_count": null,
   "metadata": {},
   "outputs": [],
   "source": []
  },
  {
   "cell_type": "code",
   "execution_count": null,
   "metadata": {},
   "outputs": [],
   "source": []
  },
  {
   "cell_type": "code",
   "execution_count": null,
   "metadata": {},
   "outputs": [],
   "source": []
  }
 ],
 "metadata": {
  "kernelspec": {
   "display_name": "Python 3",
   "language": "python",
   "name": "python3"
  },
  "language_info": {
   "codemirror_mode": {
    "name": "ipython",
    "version": 3
   },
   "file_extension": ".py",
   "mimetype": "text/x-python",
   "name": "python",
   "nbconvert_exporter": "python",
   "pygments_lexer": "ipython3",
   "version": "3.6.10"
  },
  "toc": {
   "base_numbering": 1,
   "nav_menu": {},
   "number_sections": true,
   "sideBar": true,
   "skip_h1_title": false,
   "title_cell": "Table of Contents",
   "title_sidebar": "Contents",
   "toc_cell": false,
   "toc_position": {},
   "toc_section_display": true,
   "toc_window_display": false
  },
  "varInspector": {
   "cols": {
    "lenName": 16,
    "lenType": 16,
    "lenVar": 40
   },
   "kernels_config": {
    "python": {
     "delete_cmd_postfix": "",
     "delete_cmd_prefix": "del ",
     "library": "var_list.py",
     "varRefreshCmd": "print(var_dic_list())"
    },
    "r": {
     "delete_cmd_postfix": ") ",
     "delete_cmd_prefix": "rm(",
     "library": "var_list.r",
     "varRefreshCmd": "cat(var_dic_list()) "
    }
   },
   "types_to_exclude": [
    "module",
    "function",
    "builtin_function_or_method",
    "instance",
    "_Feature"
   ],
   "window_display": false
  }
 },
 "nbformat": 4,
 "nbformat_minor": 2
}
