{
 "cells": [
  {
   "cell_type": "code",
   "execution_count": null,
   "metadata": {
    "ExecuteTime": {
     "end_time": "2019-10-23T05:48:58.796066Z",
     "start_time": "2019-10-23T05:48:57.320613Z"
    }
   },
   "outputs": [],
   "source": [
    "import numpy as np\n",
    "import pandas as pd\n",
    "import gc\n",
    "from tqdm import *\n",
    "import os\n",
    "import copy\n",
    "import sys\n",
    "import time\n",
    "from collections import Counter, deque\n",
    "from multiprocessing import Pool, cpu_count\n",
    "\n",
    "import transforms3d\n",
    "\n",
    "from sklearn.manifold import TSNE, LocallyLinearEmbedding\n",
    "from sklearn.cluster import MeanShift\n",
    "\n",
    "import matplotlib.pyplot as plt\n",
    "from mpl_toolkits.mplot3d import Axes3D\n",
    "import ipyvolume as ipv\n",
    "import open3d as o3d\n",
    "\n",
    "import warnings\n",
    "warnings.filterwarnings(\"ignore\")"
   ]
  },
  {
   "cell_type": "code",
   "execution_count": null,
   "metadata": {
    "ExecuteTime": {
     "end_time": "2019-10-23T05:48:58.803869Z",
     "start_time": "2019-10-23T05:48:58.798115Z"
    }
   },
   "outputs": [],
   "source": [
    "# %matplotlib inline\n",
    "%matplotlib notebook"
   ]
  },
  {
   "cell_type": "code",
   "execution_count": null,
   "metadata": {
    "ExecuteTime": {
     "end_time": "2019-10-23T05:48:58.811881Z",
     "start_time": "2019-10-23T05:48:58.805566Z"
    }
   },
   "outputs": [],
   "source": [
    "ATM_PATH = \"/home/sabyasachi/Projects/ati/\"\n",
    "DATA_PATH = os.path.join(ATM_PATH, \"data\", \"data\", \"datasets\")\n",
    "\n",
    "# IISC_DATA_PATH = os.path.join(DATA_PATH, \"IISC\")\n",
    "# EXP_PATH = os.path.join(IISC_DATA_PATH, \"2019-06-12\",\"10-00-14-P1-6-auto-ccw_5loops_0.6_no_numba\")\n",
    "IISC_DATA_PATH = os.path.join(DATA_PATH, \"Carla\")\n",
    "EXP_PATH = os.path.join(IISC_DATA_PATH, \"dynamic\", \"set1_just_for_running\")\n",
    "\n",
    "LIDAR_PCD_PATH = os.path.join(EXP_PATH, \"_out\")\n",
    "\n",
    "# MAP_FILE = 'map_default_r.pcd'\n",
    "# POSE_FILE = 'pose_default_r.json'\n",
    "\n",
    "OUTPUT_DIR = \"./carla_dynamic_set1_just_for_running_tenth_frame\""
   ]
  },
  {
   "cell_type": "code",
   "execution_count": null,
   "metadata": {
    "ExecuteTime": {
     "end_time": "2019-10-23T05:49:00.103389Z",
     "start_time": "2019-10-23T05:49:00.098253Z"
    }
   },
   "outputs": [],
   "source": [
    "if not os.path.exists(OUTPUT_DIR):\n",
    "    os.makedirs(OUTPUT_DIR)"
   ]
  },
  {
   "cell_type": "raw",
   "metadata": {
    "ExecuteTime": {
     "end_time": "2019-10-11T11:50:16.052796Z",
     "start_time": "2019-10-11T11:50:16.049015Z"
    }
   },
   "source": [
    "LIDAR_PCD_PATH = \"/home/sabyasachi/Projects/ati/ati_motors/adversarial_based/Baselines/DeepMapping/data/2D/v1_pose0\""
   ]
  },
  {
   "cell_type": "code",
   "execution_count": null,
   "metadata": {
    "ExecuteTime": {
     "end_time": "2019-10-23T05:52:41.033383Z",
     "start_time": "2019-10-23T05:52:41.027153Z"
    }
   },
   "outputs": [],
   "source": [
    "FIRST_PCD = 2\n",
    "FINAL_PCD = 4628\n",
    "# FIRST_PCD = 50\n",
    "# FINAL_PCD = 750\n",
    "# FIRST_PCD = 2\n",
    "# FINAL_PCD = 805\n",
    "\n",
    "EVERY_NTH_COUNT = 10\n",
    "VOXEL_SZ = 0.2\n",
    "# MAKE_2D = False\n",
    "# APPLY_CLUSTER = False\n",
    "\n",
    "# plt.rcParams['figure.figsize'] = [7, 7]"
   ]
  },
  {
   "cell_type": "code",
   "execution_count": null,
   "metadata": {
    "ExecuteTime": {
     "end_time": "2019-10-23T05:52:41.277839Z",
     "start_time": "2019-10-23T05:52:41.248347Z"
    },
    "code_folding": [
     0,
     58,
     76
    ]
   },
   "outputs": [],
   "source": [
    "def filter_pcd(old_pcd,\n",
    "               apply_downsample = True,\n",
    "               downsample_voxel_size = VOXEL_SZ,\n",
    "               \n",
    "               apply_outlier_removal = True,\n",
    "               downsample_radius = 1,\n",
    "               downsample_neighbors = 20,\n",
    "               \n",
    "               apply_crop = True,\n",
    "               crop_min_arr = np.array([-100,-100,0]),\n",
    "               crop_max_arr = np.array([100,100,100]),\n",
    "               \n",
    "               apply_cluster = False,\n",
    "               cluster_neighbours = 30,\n",
    "               cluster_labels = 2):\n",
    "    np.random.seed(0)\n",
    "    pcd = copy.deepcopy(old_pcd)\n",
    "    \n",
    "    if apply_outlier_removal:\n",
    "        denser_pcd, ind = o3d.geometry.radius_outlier_removal(pcd,\n",
    "                                                              nb_points = downsample_neighbors,\n",
    "                                                              radius    = downsample_radius)\n",
    "        pcd = denser_pcd\n",
    "    \n",
    "    if apply_downsample:\n",
    "        voxel_down_pcd = o3d.geometry.voxel_down_sample(pcd, voxel_size = downsample_voxel_size)\n",
    "        pcd = voxel_down_pcd\n",
    "    \n",
    "    if apply_crop:\n",
    "        cropped_pcd = o3d.geometry.crop_point_cloud(pcd, crop_min_arr, crop_max_arr)\n",
    "        pcd = cropped_pcd\n",
    "\n",
    "    if apply_cluster:\n",
    "        few_pts = np.asarray(pcd.points)\n",
    "        try:\n",
    "            few_pts_reduced = LocallyLinearEmbedding(n_neighbors=cluster_neighbours, n_components=2).fit_transform(few_pts)\n",
    "        except Exception as e:\n",
    "            try:\n",
    "                few_pts_reduced = LocallyLinearEmbedding(n_neighbors=cluster_neighbours, n_components=2, eigen_solver='dense').fit_transform(few_pts)\n",
    "            except Exception as e:\n",
    "                few_pts_reduced = few_pts\n",
    "        clf = MeanShift().fit(few_pts_reduced)\n",
    "        pcd.points = o3d.utility.Vector3dVector(few_pts[clf.labels_ < cluster_labels])\n",
    "    \n",
    "    return pcd\n",
    "\n",
    "def make_2d(pcd):\n",
    "    new_pcd = copy.deepcopy(pcd)\n",
    "    new_pts = np.concatenate([np.asarray(pcd.points)[:,:-1],np.zeros((len(pcd.points),1))], axis=1)\n",
    "    new_pcd.points = o3d.utility.Vector3dVector(new_pts)\n",
    "    return new_pcd\n",
    "\n",
    "def read_pcd(pcd_id):\n",
    "#     prefix = \"\".join([\"0\" for _ in range(3 - len(str(pcd_id)))])\n",
    "    pcd_file = str(pcd_id) + \".ply\"\n",
    "    pcd = o3d.io.read_point_cloud(os.path.join(LIDAR_PCD_PATH, pcd_file))\n",
    "    return pcd\n",
    "\n",
    "def draw_pcd(pcd, where='mat_2d'):    \n",
    "    if where is 'opn_nb':\n",
    "        visualizer = o3d.JVisualizer()\n",
    "        visualizer.add_geometry(pcd)\n",
    "        visualizer.show()\n",
    "    elif where is 'opn_view':\n",
    "        o3d.visualization.draw_geometries([pcd], width=1280, height=800)\n",
    "    elif where is 'mat_3d':\n",
    "        plt.figure()\n",
    "        pts = np.asarray(pcd.points)\n",
    "        plt.scatter(pts[:,0], pts[:,1], pts[:,2])\n",
    "        plt.show()\n",
    "    elif where is 'mat_2d':\n",
    "        plt.figure()\n",
    "        pts = np.asarray(pcd.points)\n",
    "        plt.scatter(pts[:,0], pts[:,1], s=1)\n",
    "        plt.show()\n",
    "        \n",
    "def draw_registration_result(src_pcd, dst_pcd, x_pt, y_pt, theta):    \n",
    "    src_pcd_tmp = copy.deepcopy(src_pcd)\n",
    "    dst_pcd_tmp = copy.deepcopy(dst_pcd)\n",
    "    \n",
    "    src_pcd_tmp.paint_uniform_color([1, 0, 0])  # red source\n",
    "    dst_pcd_tmp.paint_uniform_color([0, 0, 1])  # blue target\n",
    "    \n",
    "    transform_mat = pose2matrix([x_pt, y_pt, 0], [0,0,theta])\n",
    "    dst_pcd_tmp.transform(transform_mat)\n",
    "    \n",
    "    visualizer = o3d.JVisualizer()\n",
    "    visualizer.add_geometry(src_pcd_tmp)\n",
    "    visualizer.add_geometry(dst_pcd_tmp)\n",
    "    visualizer.show()"
   ]
  },
  {
   "cell_type": "code",
   "execution_count": null,
   "metadata": {},
   "outputs": [],
   "source": []
  },
  {
   "cell_type": "code",
   "execution_count": null,
   "metadata": {
    "ExecuteTime": {
     "end_time": "2019-10-23T05:52:51.173396Z",
     "start_time": "2019-10-23T05:52:41.912184Z"
    }
   },
   "outputs": [],
   "source": [
    "file_idx = 0\n",
    "for pcd_idx in tqdm_notebook(np.arange(start=FIRST_PCD, stop=FINAL_PCD+1, step=EVERY_NTH_COUNT)):\n",
    "    # Read pcd\n",
    "    some_pcd = read_pcd(pcd_idx)\n",
    "    \n",
    "    # Remove zero points\n",
    "    some_arr = np.asarray(some_pcd.points)\n",
    "    some_arr = np.array([(x,y,z) for x, y, z in some_arr if not (x == 0 and y == 0 and z == 0)])\n",
    "    some_pcd.points = o3d.utility.Vector3dVector(some_arr)\n",
    "    \n",
    "    # Remove outliers and crop ground circle points\n",
    "    some_pcd = filter_pcd(some_pcd,\n",
    "                          apply_downsample = False,\n",
    "                          apply_outlier_removal = True,\n",
    "                          apply_crop = True,\n",
    "                          apply_cluster = False)\n",
    "    \n",
    "    # Make it 2d\n",
    "    some_pcd = make_2d(some_pcd)\n",
    "    \n",
    "    # Downsample\n",
    "    for _ in range(3):\n",
    "        some_pcd = filter_pcd(some_pcd,\n",
    "                              apply_downsample = True,\n",
    "                              apply_outlier_removal = False,\n",
    "                              apply_crop = False,\n",
    "                              apply_cluster = False)\n",
    "    \n",
    "    # Set filename\n",
    "    prefix = \"\".join([\"0\" for _ in range(3 - len(str(file_idx)))])\n",
    "    single_pcd_fname = prefix + str(file_idx) + \".pcd\"\n",
    "    single_pcd_path = os.path.join(OUTPUT_DIR, single_pcd_fname)\n",
    "    \n",
    "    # Save pcd\n",
    "    o3d.io.write_point_cloud(single_pcd_path, some_pcd)\n",
    "    \n",
    "    file_idx  += 1"
   ]
  },
  {
   "cell_type": "code",
   "execution_count": null,
   "metadata": {},
   "outputs": [],
   "source": []
  },
  {
   "cell_type": "code",
   "execution_count": null,
   "metadata": {},
   "outputs": [],
   "source": []
  },
  {
   "cell_type": "code",
   "execution_count": null,
   "metadata": {},
   "outputs": [],
   "source": []
  },
  {
   "cell_type": "code",
   "execution_count": null,
   "metadata": {},
   "outputs": [],
   "source": []
  },
  {
   "cell_type": "raw",
   "metadata": {
    "ExecuteTime": {
     "end_time": "2019-10-11T19:54:16.386827Z",
     "start_time": "2019-10-11T19:51:24.207003Z"
    },
    "scrolled": true
   },
   "source": [
    "for pcd_idx in tqdm_notebook(range(FIRST_PCD, FINAL_PCD+1)):\n",
    "    # Read pcd\n",
    "    some_pcd = read_pcd(pcd_idx)\n",
    "    \n",
    "    # Remove zero points\n",
    "    some_arr = np.asarray(some_pcd.points)\n",
    "    some_arr = np.array([(x,y,z) for x, y, z in some_arr if not (x == 0 and y == 0 and z == 0)])\n",
    "    some_pcd.points = o3d.utility.Vector3dVector(some_arr)\n",
    "    \n",
    "    # Remove outliers and crop ground circle points\n",
    "    some_pcd = filter_pcd(some_pcd,\n",
    "                          apply_downsample = False,\n",
    "                          apply_outlier_removal = True,\n",
    "                          apply_crop = True,\n",
    "                          apply_cluster = False)\n",
    "    \n",
    "    # Make it 2d\n",
    "    some_pcd = make_2d(some_pcd)\n",
    "    \n",
    "    # Downsample\n",
    "    for _ in range(3):\n",
    "        some_pcd = filter_pcd(some_pcd,\n",
    "                              apply_downsample = True,\n",
    "                              apply_outlier_removal = False,\n",
    "                              apply_crop = False,\n",
    "                              apply_cluster = False)\n",
    "    \n",
    "    # Set filename\n",
    "    prefix = \"\".join([\"0\" for _ in range(3 - len(str(pcd_idx-FIRST_PCD)))])\n",
    "    single_pcd_fname = prefix + str(pcd_idx-FIRST_PCD) + \".pcd\"\n",
    "    single_pcd_path = os.path.join('trying', single_pcd_fname)\n",
    "    \n",
    "    # Save pcd\n",
    "    o3d.io.write_point_cloud(single_pcd_path, some_pcd)"
   ]
  },
  {
   "cell_type": "code",
   "execution_count": null,
   "metadata": {},
   "outputs": [],
   "source": []
  }
 ],
 "metadata": {
  "kernelspec": {
   "display_name": "Python 3",
   "language": "python",
   "name": "python3"
  },
  "language_info": {
   "codemirror_mode": {
    "name": "ipython",
    "version": 3
   },
   "file_extension": ".py",
   "mimetype": "text/x-python",
   "name": "python",
   "nbconvert_exporter": "python",
   "pygments_lexer": "ipython3",
   "version": "3.7.3"
  },
  "toc": {
   "base_numbering": 1,
   "nav_menu": {},
   "number_sections": true,
   "sideBar": true,
   "skip_h1_title": false,
   "title_cell": "Table of Contents",
   "title_sidebar": "Contents",
   "toc_cell": false,
   "toc_position": {},
   "toc_section_display": true,
   "toc_window_display": false
  }
 },
 "nbformat": 4,
 "nbformat_minor": 2
}
