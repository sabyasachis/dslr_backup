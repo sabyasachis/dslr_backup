{
 "cells": [
  {
   "cell_type": "markdown",
   "metadata": {},
   "source": [
    "### Imports"
   ]
  },
  {
   "cell_type": "code",
   "execution_count": 1,
   "metadata": {
    "ExecuteTime": {
     "end_time": "2019-10-15T13:54:05.724782Z",
     "start_time": "2019-10-15T13:54:04.879888Z"
    }
   },
   "outputs": [],
   "source": [
    "import numpy as np\n",
    "import pandas as pd\n",
    "import gc\n",
    "import os\n",
    "from tqdm import *\n",
    "import open3d as o3d\n",
    "\n",
    "from multiprocessing import Pool, cpu_count\n",
    "from struct import *\n",
    "import time\n",
    "from lidar_point_pb2 import *\n",
    "import matplotlib.pyplot as plt\n",
    "import matplotlib.cm as cm\n",
    "import argparse\n",
    "import pickle\n",
    "%matplotlib notebook"
   ]
  },
  {
   "cell_type": "markdown",
   "metadata": {},
   "source": [
    "### Set paths"
   ]
  },
  {
   "cell_type": "code",
   "execution_count": 2,
   "metadata": {
    "ExecuteTime": {
     "end_time": "2019-10-15T13:54:05.730120Z",
     "start_time": "2019-10-15T13:54:05.726884Z"
    }
   },
   "outputs": [],
   "source": [
    "ATM_PATH = \"/home/sabyasachi/Projects/ati\"\n",
    "DATA_PATH = os.path.join(ATM_PATH, \"data\", \"data\", \"datasets\")\n",
    "\n",
    "IISC_DATA_PATH = os.path.join(DATA_PATH, \"IISC\")\n",
    "EXP_PATH = os.path.join(IISC_DATA_PATH, \"2019-06-12\",\"10-00-14-P1-6-auto-ccw_5loops_0.6_no_numba\")\n",
    "\n",
    "N_PB = 1\n",
    "\n",
    "\n",
    "NEW_PCD_FOLDER = 'complete_extracted'\n",
    "# LIDAR_PCD_PATH = os.path.join(EXP_PATH, \"complete\")\n",
    "# LIDAR_CSV_PATH = os.path.join(IISC_DATA_PATH, \"lidar.csv\")"
   ]
  },
  {
   "cell_type": "markdown",
   "metadata": {},
   "source": [
    "### Lidar pb functions"
   ]
  },
  {
   "cell_type": "code",
   "execution_count": 3,
   "metadata": {
    "ExecuteTime": {
     "end_time": "2019-10-15T13:54:05.775499Z",
     "start_time": "2019-10-15T13:54:05.733453Z"
    }
   },
   "outputs": [],
   "source": [
    "def read_packet(f):\n",
    "    hdr = f.read(4)\n",
    "    if hdr:\n",
    "        #size, = struct.unpack(\"I\", hdr)\n",
    "        size, = unpack(\"I\", hdr)\n",
    "        # print(size) #Size is 488556\n",
    "        #lp = ati.schema.LidarPoint()\n",
    "        lp = LidarPoint()\n",
    "        lp.ParseFromString(f.read(size))\n",
    "        return lp\n",
    "\n",
    "def read_frames(file_name):\n",
    "    #file_name = \"lidar-0\"\n",
    "    with open(file_name, \"rb\") as proto_file:\n",
    "        while True:\n",
    "            lp = read_packet(proto_file)\n",
    "\n",
    "            if lp is None:\n",
    "                break\n",
    "\n",
    "            va = np.frombuffer(lp.vertical_angles, dtype=np.float64)\n",
    "            ha = np.frombuffer(lp.horizontal_angles, dtype=np.float64)\n",
    "            d = np.frombuffer(lp.distances, dtype=np.float64)\n",
    "            i = np.frombuffer(lp.intensities, dtype=np.float64)\n",
    "\n",
    "            beams = va.shape[0]\n",
    "            num_points = d.shape[0]\n",
    "\n",
    "            va = np.tile(va, num_points // beams).reshape(-1)\n",
    "            ha = np.repeat(ha, beams).reshape(-1)\n",
    "            d_v_cos = d * np.cos(va)\n",
    "\n",
    "            frame = np.vstack([\n",
    "                d_v_cos * np.sin(ha), # X\n",
    "                d_v_cos * np.cos(ha), # Y\n",
    "                d * np.sin(va),  # Z\n",
    "                d, va, ha, i\n",
    "            ]).T\n",
    "            \n",
    "            yield (lp.time, frame)"
   ]
  },
  {
   "cell_type": "markdown",
   "metadata": {},
   "source": [
    "### Read and visualize pcd functions"
   ]
  },
  {
   "cell_type": "code",
   "execution_count": 4,
   "metadata": {
    "ExecuteTime": {
     "end_time": "2019-10-15T13:54:06.214352Z",
     "start_time": "2019-10-15T13:54:06.204344Z"
    }
   },
   "outputs": [],
   "source": [
    "def read_pcd(pcd_id):\n",
    "    pcd_file = str(pcd_id) + \".pcd\"\n",
    "    pcd = o3d.io.read_point_cloud(os.path.join(LIDAR_PCD_PATH, pcd_file))\n",
    "    return pcd\n",
    "\n",
    "def draw_pcd(pcd, where='mat_3d'):\n",
    "    if where is 'opn_nb':\n",
    "        visualizer = o3d.JVisualizer()\n",
    "        visualizer.add_geometry(pcd)\n",
    "        visualizer.show()\n",
    "    elif where is 'opn_view':\n",
    "        o3d.visualization.draw_geometries([pcd], width=1280, height=800)\n",
    "    elif where is 'mat_3d':\n",
    "        pts = np.asarray(pcd.points)\n",
    "        plt.scatter(pts[:,0], pts[:,1], pts[:,2])\n",
    "        plt.show()\n",
    "    elif where is 'mat_2d':\n",
    "        pts = np.asarray(pcd.points)\n",
    "        plt.scatter(pts[:,0], pts[:,1])\n",
    "        plt.show()"
   ]
  },
  {
   "cell_type": "markdown",
   "metadata": {},
   "source": [
    "### Simply Visualize"
   ]
  },
  {
   "cell_type": "code",
   "execution_count": null,
   "metadata": {
    "ExecuteTime": {
     "end_time": "2019-10-15T13:48:22.386708Z",
     "start_time": "2019-10-15T13:48:19.935592Z"
    }
   },
   "outputs": [],
   "source": [
    "frm_list = []\n",
    "tym_list = []\n",
    "for tym, frm in tqdm_notebook(read_frames(os.path.join(EXP_PATH, 'lidar-0.pb'))):\n",
    "    tym_list.append(np.ones(frm.shape[0])*tym)\n",
    "    frm_list.append(frm)\n",
    "gc.collect()\n",
    "frm_arr = np.concatenate(frm_list)\n",
    "tym_arr = np.concatenate(tym_list)\n",
    "del frm_list, tym_list\n",
    "gc.collect()\n",
    "frm_arr.shape, tym_arr.shape"
   ]
  },
  {
   "cell_type": "code",
   "execution_count": null,
   "metadata": {
    "ExecuteTime": {
     "end_time": "2019-10-15T13:48:35.490083Z",
     "start_time": "2019-10-15T13:48:34.960079Z"
    }
   },
   "outputs": [],
   "source": [
    "df_frames = pd.DataFrame(frm_arr).rename(columns={0:'x', 1:'y', 2:'z', 3:'r', 4:'phi', 5:'tht', 6:'i'})\n",
    "df_frames['t'] = tym_arr\n",
    "del frm_arr, tym_arr\n",
    "gc.collect()\n",
    "df_frames.shape"
   ]
  },
  {
   "cell_type": "code",
   "execution_count": null,
   "metadata": {
    "ExecuteTime": {
     "end_time": "2019-10-15T13:48:51.851917Z",
     "start_time": "2019-10-15T13:48:50.375799Z"
    }
   },
   "outputs": [],
   "source": [
    "df_frames[~(df_frames['r'] == 0)].shape[0] / df_frames.shape[0]"
   ]
  },
  {
   "cell_type": "code",
   "execution_count": null,
   "metadata": {
    "ExecuteTime": {
     "end_time": "2019-10-15T13:49:09.105892Z",
     "start_time": "2019-10-15T13:49:08.078953Z"
    }
   },
   "outputs": [],
   "source": [
    "df_frames = df_frames[~(df_frames['r'] == 0)]"
   ]
  },
  {
   "cell_type": "code",
   "execution_count": null,
   "metadata": {
    "ExecuteTime": {
     "end_time": "2019-10-15T13:49:58.369752Z",
     "start_time": "2019-10-15T13:49:47.105365Z"
    }
   },
   "outputs": [],
   "source": [
    "idx_list = []\n",
    "old_theta = 7\n",
    "for idx, theta in tqdm_notebook(enumerate(df_frames['tht'])):\n",
    "    if old_theta > theta:\n",
    "        idx_list.append(idx)\n",
    "    old_theta = theta\n",
    "gc.collect()"
   ]
  },
  {
   "cell_type": "code",
   "execution_count": null,
   "metadata": {
    "ExecuteTime": {
     "end_time": "2019-10-15T13:51:20.064495Z",
     "start_time": "2019-10-15T13:51:19.801383Z"
    }
   },
   "outputs": [],
   "source": [
    "plt.figure()\n",
    "start_idx = 0\n",
    "end_idx = 5\n",
    "plt.plot(np.arange(idx_list[end_idx] - idx_list[start_idx]), df_frames['tht'].iloc[idx_list[start_idx]: idx_list[end_idx]])"
   ]
  },
  {
   "cell_type": "code",
   "execution_count": null,
   "metadata": {},
   "outputs": [],
   "source": []
  },
  {
   "cell_type": "code",
   "execution_count": null,
   "metadata": {},
   "outputs": [],
   "source": []
  },
  {
   "cell_type": "markdown",
   "metadata": {},
   "source": [
    "### Convert pb to pcd in parallel"
   ]
  },
  {
   "cell_type": "code",
   "execution_count": 5,
   "metadata": {
    "ExecuteTime": {
     "end_time": "2019-10-15T13:54:11.522922Z",
     "start_time": "2019-10-15T13:54:11.512174Z"
    }
   },
   "outputs": [],
   "source": [
    "def parallel_thread(idx):\n",
    "    temp_df = df_frames[idx_list[idx]: idx_list[idx+1]]\n",
    "    single_pcd_arr = np.array([np.array([row['x'], row['y'], row['z']]) for idx, row in temp_df.iterrows()])\n",
    "    \n",
    "    single_pcd = o3d.PointCloud()\n",
    "    single_pcd.points = o3d.utility.Vector3dVector(single_pcd_arr)\n",
    "    \n",
    "    single_pcd_fname = str(pcd_name_idx + idx + 1) + \".pcd\"\n",
    "    single_pcd_path = os.path.join(EXP_PATH, NEW_PCD_FOLDER, single_pcd_fname)\n",
    "    o3d.io.write_point_cloud(single_pcd_path, single_pcd, write_ascii=True)"
   ]
  },
  {
   "cell_type": "code",
   "execution_count": 6,
   "metadata": {
    "ExecuteTime": {
     "end_time": "2019-10-15T13:57:42.509646Z",
     "start_time": "2019-10-15T13:54:15.062248Z"
    }
   },
   "outputs": [
    {
     "name": "stdout",
     "output_type": "stream",
     "text": [
      "Reading frames\n"
     ]
    },
    {
     "data": {
      "application/vnd.jupyter.widget-view+json": {
       "model_id": "fd49c166fbc24ebc8ecd0b7f2ea7879a",
       "version_major": 2,
       "version_minor": 0
      },
      "text/plain": [
       "HBox(children=(IntProgress(value=1, bar_style='info', max=1), HTML(value='')))"
      ]
     },
     "metadata": {},
     "output_type": "display_data"
    },
    {
     "name": "stdout",
     "output_type": "stream",
     "text": [
      "\n",
      "Putting to dataframe (redundant)\n",
      "Cleaning up undetected points\n",
      "0.8994334009777696\n",
      "Finding single revolutions\n"
     ]
    },
    {
     "data": {
      "application/vnd.jupyter.widget-view+json": {
       "model_id": "cba47ffe000f4904a048903849f207ec",
       "version_major": 2,
       "version_minor": 0
      },
      "text/plain": [
       "HBox(children=(IntProgress(value=0, max=23401818), HTML(value='')))"
      ]
     },
     "metadata": {},
     "output_type": "display_data"
    },
    {
     "name": "stdout",
     "output_type": "stream",
     "text": [
      "\n",
      "Saving to pcds\n"
     ]
    },
    {
     "data": {
      "application/vnd.jupyter.widget-view+json": {
       "model_id": "e8c79ad50a134d489fae9fbd123dc5c0",
       "version_major": 2,
       "version_minor": 0
      },
      "text/plain": [
       "HBox(children=(IntProgress(value=0, max=879), HTML(value='')))"
      ]
     },
     "metadata": {},
     "output_type": "display_data"
    },
    {
     "name": "stdout",
     "output_type": "stream",
     "text": [
      "\n",
      "pb #0 converted to 880 pcd files\n",
      "****************************************************************\n"
     ]
    }
   ],
   "source": [
    "old_theta = 7\n",
    "pcd_name_idx = 0\n",
    "\n",
    "for saby in range(N_PB):\n",
    "    print('Reading frames')\n",
    "    frm_list = []\n",
    "    tym_list = []\n",
    "    for tym, frm in tqdm_notebook(read_frames(os.path.join(EXP_PATH, 'lidar-'+ str(saby) +'.pb'))):\n",
    "        tym_list.append(np.ones(frm.shape[0])*tym)\n",
    "        frm_list.append(frm)\n",
    "    gc.collect()\n",
    "    frm_arr = np.concatenate(frm_list)\n",
    "    tym_arr = np.concatenate(tym_list)\n",
    "    del frm_list, tym_list\n",
    "    gc.collect()\n",
    "    \n",
    "    print('Putting to dataframe (redundant)')\n",
    "    df_frames = pd.DataFrame(frm_arr).rename(columns={0:'x', 1:'y', 2:'z', 3:'r', 4:'phi', 5:'tht', 6:'i'})\n",
    "    df_frames['t'] = tym_arr\n",
    "    del frm_arr, tym_arr\n",
    "    gc.collect()\n",
    "    \n",
    "    print(\"Cleaning up undetected points\")\n",
    "    print(df_frames[~(df_frames['r'] == 0)].shape[0] / df_frames.shape[0])\n",
    "    df_frames = df_frames[~(df_frames['r'] == 0)]\n",
    "    \n",
    "    print(\"Finding single revolutions\")\n",
    "    idx_list = []\n",
    "    for idx, theta in tqdm_notebook(enumerate(df_frames['tht']), total=df_frames.shape[0]):\n",
    "        if old_theta > theta:\n",
    "            idx_list.append(idx)\n",
    "        old_theta = theta\n",
    "    gc.collect()\n",
    "    \n",
    "    print(\"Saving to pcds\")\n",
    "    parallel_args = range(len(idx_list) - 1)\n",
    "    process_pool = Pool(cpu_count()-1)\n",
    "    # process_pool = Pool(1)\n",
    "    score_list = [each for each in tqdm_notebook(process_pool.imap_unordered(parallel_thread, parallel_args),\n",
    "                                                 total = len(parallel_args))]\n",
    "    process_pool.terminate()\n",
    "    gc.collect()\n",
    "    \n",
    "    # pcd count in this pb file\n",
    "    pcd_name_idx = pcd_name_idx + len(idx_list) - 1\n",
    "    gc.collect()\n",
    "    \n",
    "    print('pb #{} converted to {} pcd files'.format(saby, len(idx_list)))\n",
    "    print(\"****************************************************************\")\n"
   ]
  },
  {
   "cell_type": "code",
   "execution_count": null,
   "metadata": {},
   "outputs": [],
   "source": []
  },
  {
   "cell_type": "code",
   "execution_count": null,
   "metadata": {},
   "outputs": [],
   "source": []
  },
  {
   "cell_type": "code",
   "execution_count": null,
   "metadata": {},
   "outputs": [],
   "source": []
  },
  {
   "cell_type": "code",
   "execution_count": null,
   "metadata": {},
   "outputs": [],
   "source": []
  },
  {
   "cell_type": "code",
   "execution_count": null,
   "metadata": {},
   "outputs": [],
   "source": []
  },
  {
   "cell_type": "code",
   "execution_count": null,
   "metadata": {},
   "outputs": [],
   "source": []
  },
  {
   "cell_type": "code",
   "execution_count": null,
   "metadata": {},
   "outputs": [],
   "source": []
  },
  {
   "cell_type": "code",
   "execution_count": null,
   "metadata": {},
   "outputs": [],
   "source": []
  },
  {
   "cell_type": "code",
   "execution_count": null,
   "metadata": {},
   "outputs": [],
   "source": []
  },
  {
   "cell_type": "code",
   "execution_count": null,
   "metadata": {},
   "outputs": [],
   "source": []
  },
  {
   "cell_type": "code",
   "execution_count": null,
   "metadata": {},
   "outputs": [],
   "source": []
  },
  {
   "cell_type": "code",
   "execution_count": null,
   "metadata": {},
   "outputs": [],
   "source": []
  },
  {
   "cell_type": "code",
   "execution_count": null,
   "metadata": {},
   "outputs": [],
   "source": []
  },
  {
   "cell_type": "code",
   "execution_count": null,
   "metadata": {},
   "outputs": [],
   "source": []
  },
  {
   "cell_type": "code",
   "execution_count": null,
   "metadata": {},
   "outputs": [],
   "source": []
  },
  {
   "cell_type": "code",
   "execution_count": null,
   "metadata": {},
   "outputs": [],
   "source": []
  }
 ],
 "metadata": {
  "kernelspec": {
   "display_name": "Python 3",
   "language": "python",
   "name": "python3"
  },
  "language_info": {
   "codemirror_mode": {
    "name": "ipython",
    "version": 3
   },
   "file_extension": ".py",
   "mimetype": "text/x-python",
   "name": "python",
   "nbconvert_exporter": "python",
   "pygments_lexer": "ipython3",
   "version": "3.6.9"
  },
  "toc": {
   "base_numbering": 1,
   "nav_menu": {},
   "number_sections": true,
   "sideBar": true,
   "skip_h1_title": false,
   "title_cell": "Table of Contents",
   "title_sidebar": "Contents",
   "toc_cell": false,
   "toc_position": {},
   "toc_section_display": true,
   "toc_window_display": false
  }
 },
 "nbformat": 4,
 "nbformat_minor": 2
}
