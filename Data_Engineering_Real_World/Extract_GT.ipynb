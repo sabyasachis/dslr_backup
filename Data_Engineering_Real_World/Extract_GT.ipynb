{
 "cells": [
  {
   "cell_type": "code",
   "execution_count": 1,
   "metadata": {
    "ExecuteTime": {
     "end_time": "2020-02-21T19:48:03.738887Z",
     "start_time": "2020-02-21T19:48:03.454385Z"
    }
   },
   "outputs": [],
   "source": [
    "import numpy as np\n",
    "import pandas as pd\n",
    "import gc\n",
    "from tqdm import tqdm_notebook\n",
    "import gc\n",
    "import os, shutil"
   ]
  },
  {
   "cell_type": "code",
   "execution_count": 2,
   "metadata": {
    "ExecuteTime": {
     "end_time": "2020-02-21T19:48:03.745235Z",
     "start_time": "2020-02-21T19:48:03.740597Z"
    }
   },
   "outputs": [],
   "source": [
    "BASE_PATH = \"/home/saby/Projects/ati/data/data/datasets/Real_World\"\n",
    "RUN_TYPE = \"static\"\n",
    "FOLDER_NAME = \"1\"\n",
    "IMU_FILE = \"imu.csv\"\n",
    "YELLI_FILE = \"yelli_odo.csv\"\n",
    "GT_FILE = \"groundTruth.csv\"\n",
    "OUT_FOLDER = \"_out\"\n",
    "\n",
    "IMU_PATH = os.path.join(BASE_PATH, RUN_TYPE, FOLDER_NAME, IMU_FILE)\n",
    "YELLI_PATH = os.path.join(BASE_PATH, RUN_TYPE, FOLDER_NAME, YELLI_FILE)\n",
    "OUT_PATH = os.path.join(BASE_PATH, RUN_TYPE, FOLDER_NAME, OUT_FOLDER)\n",
    "GT_PATH = os.path.join(BASE_PATH, RUN_TYPE, FOLDER_NAME, GT_FILE)"
   ]
  },
  {
   "cell_type": "code",
   "execution_count": 3,
   "metadata": {
    "ExecuteTime": {
     "end_time": "2020-02-21T19:48:03.773702Z",
     "start_time": "2020-02-21T19:48:03.747228Z"
    }
   },
   "outputs": [],
   "source": [
    "df_yelli = pd.read_csv(YELLI_PATH)"
   ]
  },
  {
   "cell_type": "code",
   "execution_count": 4,
   "metadata": {
    "ExecuteTime": {
     "end_time": "2020-02-21T19:48:03.863776Z",
     "start_time": "2020-02-21T19:48:03.775300Z"
    }
   },
   "outputs": [],
   "source": [
    "df_yelli['theta_deg'] = [np.rad2deg(theta) for theta in df_yelli['theta']]\n",
    "df_yelli = df_yelli[['frame_id', 'time', 'x', 'y', 'theta_deg']]\n",
    "df_yelli = df_yelli.rename(columns={'frame_id':'step', 'time':'game_timestamp',\n",
    "                         'x':'location_x', 'y':'location_y', 'theta_deg':'rotation_yaw'})\n",
    "\n",
    "df_yelli['location_z'] = 0.0\n",
    "df_yelli['rotation_roll'] = 0.0\n",
    "df_yelli['rotation_pitch'] = 0.0\n",
    "\n",
    "df_yelli.to_csv(GT_PATH, index=False)"
   ]
  },
  {
   "cell_type": "code",
   "execution_count": null,
   "metadata": {},
   "outputs": [],
   "source": []
  },
  {
   "cell_type": "code",
   "execution_count": null,
   "metadata": {},
   "outputs": [],
   "source": []
  },
  {
   "cell_type": "code",
   "execution_count": null,
   "metadata": {},
   "outputs": [],
   "source": []
  },
  {
   "cell_type": "code",
   "execution_count": null,
   "metadata": {},
   "outputs": [],
   "source": []
  },
  {
   "cell_type": "code",
   "execution_count": null,
   "metadata": {},
   "outputs": [],
   "source": []
  },
  {
   "cell_type": "code",
   "execution_count": null,
   "metadata": {},
   "outputs": [],
   "source": []
  },
  {
   "cell_type": "code",
   "execution_count": null,
   "metadata": {},
   "outputs": [],
   "source": []
  },
  {
   "cell_type": "code",
   "execution_count": null,
   "metadata": {},
   "outputs": [],
   "source": []
  }
 ],
 "metadata": {
  "kernelspec": {
   "display_name": "Python 3",
   "language": "python",
   "name": "python3"
  },
  "language_info": {
   "codemirror_mode": {
    "name": "ipython",
    "version": 3
   },
   "file_extension": ".py",
   "mimetype": "text/x-python",
   "name": "python",
   "nbconvert_exporter": "python",
   "pygments_lexer": "ipython3",
   "version": "3.6.10"
  },
  "toc": {
   "base_numbering": 1,
   "nav_menu": {},
   "number_sections": true,
   "sideBar": true,
   "skip_h1_title": false,
   "title_cell": "Table of Contents",
   "title_sidebar": "Contents",
   "toc_cell": false,
   "toc_position": {},
   "toc_section_display": true,
   "toc_window_display": false
  }
 },
 "nbformat": 4,
 "nbformat_minor": 4
}
