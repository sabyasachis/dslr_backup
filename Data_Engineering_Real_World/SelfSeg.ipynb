{
 "cells": [
  {
   "cell_type": "code",
   "execution_count": 1,
   "metadata": {
    "ExecuteTime": {
     "end_time": "2020-02-27T16:41:39.417635Z",
     "start_time": "2020-02-27T16:41:38.505234Z"
    }
   },
   "outputs": [],
   "source": [
    "import pandas as pd\n",
    "import numpy as np\n",
    "import gc\n",
    "import os\n",
    "import open3d as o3d\n",
    "import matplotlib.pyplot as plt"
   ]
  },
  {
   "cell_type": "code",
   "execution_count": 2,
   "metadata": {
    "ExecuteTime": {
     "end_time": "2020-02-27T16:41:39.424419Z",
     "start_time": "2020-02-27T16:41:39.419369Z"
    }
   },
   "outputs": [],
   "source": [
    "%matplotlib notebook"
   ]
  },
  {
   "cell_type": "code",
   "execution_count": 3,
   "metadata": {
    "ExecuteTime": {
     "end_time": "2020-02-27T16:41:39.464049Z",
     "start_time": "2020-02-27T16:41:39.426082Z"
    }
   },
   "outputs": [],
   "source": [
    "DYNAMIC_NPY_PATH = \"/home/saby/Projects/ati/data/data/datasets/IROSpaper/self-seg/crop_img.npy\"\n",
    "RECONST_NPY_PATH = \"/home/saby/Projects/ati/data/data/datasets/IROSpaper/self-seg/reconSt.npy\""
   ]
  },
  {
   "cell_type": "code",
   "execution_count": 4,
   "metadata": {
    "ExecuteTime": {
     "end_time": "2020-02-27T16:41:39.479449Z",
     "start_time": "2020-02-27T16:41:39.466770Z"
    }
   },
   "outputs": [],
   "source": [
    "def from_polar_np(velo):\n",
    "    angles = np.linspace(0, np.pi * 2, velo.shape[-1])\n",
    "    dist, z = velo[:, 0], velo[:, 1]\n",
    "    x = np.cos(angles) * dist\n",
    "    y = np.sin(angles) * dist\n",
    "    out = np.stack([x,y,z], axis=1)\n",
    "    return out.astype('float32')\n",
    "\n",
    "def draw_pcd(pcd, where='opn_nb'):\n",
    "    if where is 'opn_nb':\n",
    "        visualizer = o3d.JVisualizer()\n",
    "        visualizer.add_geometry(pcd)\n",
    "        visualizer.show()\n",
    "    elif where is 'opn_view':\n",
    "        o3d.visualization.draw_geometries([pcd], width=1280, height=800)\n",
    "    elif where is 'mat_3d':\n",
    "        plt.figure()\n",
    "        pts = np.asarray(pcd.points)\n",
    "        plt.scatter(pts[:,0], pts[:,1], pts[:,2])\n",
    "        plt.grid()\n",
    "        plt.show()\n",
    "    elif where is 'mat_2d':\n",
    "        plt.figure()\n",
    "        pts = np.asarray(pcd.points)\n",
    "        plt.scatter(pts[:,0], pts[:,1])\n",
    "        plt.grid()\n",
    "        plt.show()"
   ]
  },
  {
   "cell_type": "code",
   "execution_count": 5,
   "metadata": {
    "ExecuteTime": {
     "end_time": "2020-02-27T16:41:39.493434Z",
     "start_time": "2020-02-27T16:41:39.482176Z"
    }
   },
   "outputs": [
    {
     "data": {
      "text/plain": [
       "(64, 2, 40, 512)"
      ]
     },
     "execution_count": 5,
     "metadata": {},
     "output_type": "execute_result"
    }
   ],
   "source": [
    "dynamic_arr = np.load(DYNAMIC_NPY_PATH)\n",
    "dynamic_arr.shape"
   ]
  },
  {
   "cell_type": "code",
   "execution_count": 6,
   "metadata": {
    "ExecuteTime": {
     "end_time": "2020-02-27T16:41:39.502324Z",
     "start_time": "2020-02-27T16:41:39.494976Z"
    }
   },
   "outputs": [
    {
     "data": {
      "text/plain": [
       "(64, 2, 40, 512)"
      ]
     },
     "execution_count": 6,
     "metadata": {},
     "output_type": "execute_result"
    }
   ],
   "source": [
    "reconst_arr = np.load(RECONST_NPY_PATH)\n",
    "reconst_arr.shape"
   ]
  },
  {
   "cell_type": "code",
   "execution_count": 7,
   "metadata": {
    "ExecuteTime": {
     "end_time": "2020-02-27T16:41:39.505952Z",
     "start_time": "2020-02-27T16:41:39.503693Z"
    }
   },
   "outputs": [],
   "source": [
    "idx = 60\n",
    "thresh = 0.045"
   ]
  },
  {
   "cell_type": "code",
   "execution_count": 8,
   "metadata": {
    "ExecuteTime": {
     "end_time": "2020-02-27T16:41:39.510567Z",
     "start_time": "2020-02-27T16:41:39.508308Z"
    }
   },
   "outputs": [],
   "source": [
    "dynamic_polar_img = dynamic_arr[idx]\n",
    "reconst_polar_img = reconst_arr[idx]"
   ]
  },
  {
   "cell_type": "code",
   "execution_count": 9,
   "metadata": {
    "ExecuteTime": {
     "end_time": "2020-02-27T16:41:39.515329Z",
     "start_time": "2020-02-27T16:41:39.512203Z"
    }
   },
   "outputs": [
    {
     "data": {
      "text/plain": [
       "(2, 40, 512)"
      ]
     },
     "execution_count": 9,
     "metadata": {},
     "output_type": "execute_result"
    }
   ],
   "source": [
    "dynamic_polar_img.shape"
   ]
  },
  {
   "cell_type": "code",
   "execution_count": 10,
   "metadata": {
    "ExecuteTime": {
     "end_time": "2020-02-27T16:41:39.520088Z",
     "start_time": "2020-02-27T16:41:39.516836Z"
    }
   },
   "outputs": [
    {
     "data": {
      "text/plain": [
       "(2, 40, 512)"
      ]
     },
     "execution_count": 10,
     "metadata": {},
     "output_type": "execute_result"
    }
   ],
   "source": [
    "reconst_polar_img.shape"
   ]
  },
  {
   "cell_type": "code",
   "execution_count": 11,
   "metadata": {
    "ExecuteTime": {
     "end_time": "2020-02-27T16:41:39.527378Z",
     "start_time": "2020-02-27T16:41:39.521529Z"
    }
   },
   "outputs": [
    {
     "data": {
      "text/plain": [
       "(3, 40, 512)"
      ]
     },
     "execution_count": 11,
     "metadata": {},
     "output_type": "execute_result"
    }
   ],
   "source": [
    "mask_img = (np.abs(dynamic_polar_img[0] - reconst_polar_img[0]) > thresh).astype(int)\n",
    "color_arr = np.concatenate((np.expand_dims(mask_img, axis=0), np.zeros((1,40,512)), np.zeros((1,40,512))), axis=0)\n",
    "color_arr.shape"
   ]
  },
  {
   "cell_type": "code",
   "execution_count": 12,
   "metadata": {
    "ExecuteTime": {
     "end_time": "2020-02-27T16:41:39.534657Z",
     "start_time": "2020-02-27T16:41:39.528777Z"
    }
   },
   "outputs": [
    {
     "data": {
      "text/plain": [
       "((3, 40, 512), (3, 40, 512))"
      ]
     },
     "execution_count": 12,
     "metadata": {},
     "output_type": "execute_result"
    }
   ],
   "source": [
    "dynamic_img = from_polar_np(np.expand_dims(dynamic_polar_img, axis=0))[0]\n",
    "reconst_img = from_polar_np(np.expand_dims(reconst_polar_img, axis=0))[0]\n",
    "\n",
    "dynamic_img.shape, reconst_img.shape"
   ]
  },
  {
   "cell_type": "code",
   "execution_count": 13,
   "metadata": {
    "ExecuteTime": {
     "end_time": "2020-02-27T16:41:39.568462Z",
     "start_time": "2020-02-27T16:41:39.536216Z"
    }
   },
   "outputs": [],
   "source": [
    "new_pcd = o3d.geometry.PointCloud()\n",
    "new_pcd.points = o3d.utility.Vector3dVector(dynamic_img.reshape((3,-1)).T*120)\n",
    "new_pcd.colors = o3d.utility.Vector3dVector(color_arr.reshape((3,-1)).T)"
   ]
  },
  {
   "cell_type": "code",
   "execution_count": 14,
   "metadata": {
    "ExecuteTime": {
     "end_time": "2020-02-27T16:41:40.033136Z",
     "start_time": "2020-02-27T16:41:39.570104Z"
    }
   },
   "outputs": [
    {
     "data": {
      "application/vnd.jupyter.widget-view+json": {
       "model_id": "933a6bb9ed8949999e7be85a93da6ba4",
       "version_major": 2,
       "version_minor": 0
      },
      "text/plain": [
       "JVisualizer with 1 geometries"
      ]
     },
     "metadata": {},
     "output_type": "display_data"
    }
   ],
   "source": [
    "draw_pcd(new_pcd)"
   ]
  },
  {
   "cell_type": "code",
   "execution_count": null,
   "metadata": {},
   "outputs": [],
   "source": []
  },
  {
   "cell_type": "code",
   "execution_count": null,
   "metadata": {},
   "outputs": [],
   "source": []
  },
  {
   "cell_type": "code",
   "execution_count": null,
   "metadata": {},
   "outputs": [],
   "source": []
  },
  {
   "cell_type": "code",
   "execution_count": null,
   "metadata": {},
   "outputs": [],
   "source": []
  },
  {
   "cell_type": "code",
   "execution_count": null,
   "metadata": {},
   "outputs": [],
   "source": []
  },
  {
   "cell_type": "code",
   "execution_count": null,
   "metadata": {},
   "outputs": [],
   "source": []
  },
  {
   "cell_type": "code",
   "execution_count": null,
   "metadata": {},
   "outputs": [],
   "source": []
  },
  {
   "cell_type": "code",
   "execution_count": null,
   "metadata": {},
   "outputs": [],
   "source": []
  },
  {
   "cell_type": "code",
   "execution_count": null,
   "metadata": {},
   "outputs": [],
   "source": []
  },
  {
   "cell_type": "code",
   "execution_count": null,
   "metadata": {},
   "outputs": [],
   "source": []
  },
  {
   "cell_type": "code",
   "execution_count": null,
   "metadata": {},
   "outputs": [],
   "source": []
  },
  {
   "cell_type": "code",
   "execution_count": null,
   "metadata": {},
   "outputs": [],
   "source": []
  }
 ],
 "metadata": {
  "kernelspec": {
   "display_name": "Python 3",
   "language": "python",
   "name": "python3"
  },
  "language_info": {
   "codemirror_mode": {
    "name": "ipython",
    "version": 3
   },
   "file_extension": ".py",
   "mimetype": "text/x-python",
   "name": "python",
   "nbconvert_exporter": "python",
   "pygments_lexer": "ipython3",
   "version": "3.6.10"
  },
  "toc": {
   "base_numbering": 1,
   "nav_menu": {},
   "number_sections": true,
   "sideBar": true,
   "skip_h1_title": false,
   "title_cell": "Table of Contents",
   "title_sidebar": "Contents",
   "toc_cell": false,
   "toc_position": {},
   "toc_section_display": true,
   "toc_window_display": false
  }
 },
 "nbformat": 4,
 "nbformat_minor": 4
}
