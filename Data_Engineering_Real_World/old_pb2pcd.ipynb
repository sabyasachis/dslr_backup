{
 "cells": [
  {
   "cell_type": "code",
   "execution_count": 1,
   "metadata": {
    "ExecuteTime": {
     "end_time": "2020-02-18T05:44:18.965805Z",
     "start_time": "2020-02-18T05:44:17.888533Z"
    }
   },
   "outputs": [],
   "source": [
    "import numpy as np\n",
    "import pandas as pd\n",
    "import gc\n",
    "import os, shutil\n",
    "from tqdm import *\n",
    "# import ipyvolume as ipv\n",
    "import open3d as o3d\n",
    "\n",
    "from multiprocessing import Pool, cpu_count\n",
    "from struct import *\n",
    "import time\n",
    "from lidar_point_pb2 import *\n",
    "import matplotlib.pyplot as plt\n",
    "import matplotlib.cm as cm\n",
    "import argparse\n",
    "import pickle\n",
    "%matplotlib notebook\n"
   ]
  },
  {
   "cell_type": "code",
   "execution_count": 2,
   "metadata": {
    "ExecuteTime": {
     "end_time": "2020-02-18T05:44:18.970991Z",
     "start_time": "2020-02-18T05:44:18.967455Z"
    }
   },
   "outputs": [],
   "source": [
    "BASE_PATH = \"/home/saby/Projects/ati/data/data/datasets/iisc/2020-02-10\"\n",
    "\n",
    "STATIC_DATA_FOLDER = \"2020-02-10-15-32-49-p15-auto-5loops_static\"\n",
    "DYNAMIC_2_DATA_FOLDER = \"2020-02-10-15-57-38-p15-auto-5loops_dy_2\"\n",
    "DYNAMIC_1_DATA_FOLDER = \"2020-02-10-16-12-42-p15-auto-5loops_dy_1\"\n",
    "\n",
    "STATIC_DATA_PATH = os.path.join(BASE_PATH, STATIC_DATA_FOLDER, \"debug\")\n",
    "DYNAMIC_1_DATA_PATH = os.path.join(BASE_PATH, DYNAMIC_1_DATA_FOLDER, \"debug\")\n",
    "DYNAMIC_2_DATA_PATH = os.path.join(BASE_PATH, DYNAMIC_2_DATA_FOLDER, \"debug\")\n",
    "\n",
    "DATA_PATH = STATIC_DATA_PATH"
   ]
  },
  {
   "cell_type": "code",
   "execution_count": 3,
   "metadata": {
    "ExecuteTime": {
     "end_time": "2020-02-18T05:44:18.975119Z",
     "start_time": "2020-02-18T05:44:18.973069Z"
    }
   },
   "outputs": [],
   "source": [
    "PCD_FOLDER = 'complete_extracted'\n",
    "PCD_PATH = os.path.join(DATA_PATH, PCD_FOLDER)\n",
    "if not os.path.exists(PCD_PATH):\n",
    "    os.makedirs(PCD_PATH)\n",
    "else:\n",
    "    shutil.rmtree(PCD_PATH)\n",
    "    os.makedirs(PCD_PATH)"
   ]
  },
  {
   "cell_type": "code",
   "execution_count": 4,
   "metadata": {
    "ExecuteTime": {
     "end_time": "2020-02-18T05:44:18.980139Z",
     "start_time": "2020-02-18T05:44:18.976665Z"
    }
   },
   "outputs": [],
   "source": [
    "def getint(name):\n",
    "    str_list = list(filter(str.isdigit, name))\n",
    "    if len(str_list) == 1:\n",
    "        return int(str_list[0])\n",
    "    elif len(str_list) == 0:\n",
    "        return 0\n",
    "    else:\n",
    "        print(\"String contains more than 1 integer\")\n",
    "        assert False"
   ]
  },
  {
   "cell_type": "code",
   "execution_count": 5,
   "metadata": {
    "ExecuteTime": {
     "end_time": "2020-02-18T05:44:19.020190Z",
     "start_time": "2020-02-18T05:44:18.981587Z"
    },
    "code_folding": []
   },
   "outputs": [],
   "source": [
    "def read_packet(f):\n",
    "    hdr = f.read(4)\n",
    "    if hdr:\n",
    "        #size, = struct.unpack(\"I\", hdr)\n",
    "        size, = unpack(\"I\", hdr)\n",
    "        # print(size) #Size is 488556\n",
    "        #lp = ati.schema.LidarPoint()\n",
    "        lp = LidarPoint()\n",
    "        lp.ParseFromString(f.read(size))\n",
    "        return lp\n",
    "\n",
    "def read_frames(file_name):\n",
    "    #file_name = \"lidar-0\"\n",
    "    with open(file_name, \"rb\") as proto_file:\n",
    "        while True:\n",
    "            lp = read_packet(proto_file)\n",
    "\n",
    "            if lp is None:\n",
    "                break\n",
    "\n",
    "            va = np.frombuffer(lp.vertical_angles, dtype=np.float64)\n",
    "            ha = np.frombuffer(lp.horizontal_angles, dtype=np.float64)\n",
    "            d = np.frombuffer(lp.distances, dtype=np.float64)\n",
    "            i = np.frombuffer(lp.intensities, dtype=np.float64)\n",
    "\n",
    "            beams = va.shape[0]\n",
    "            num_points = d.shape[0]\n",
    "\n",
    "            va = np.tile(va, num_points // beams).reshape(-1)\n",
    "            ha = np.repeat(ha, beams).reshape(-1)\n",
    "            d_v_cos = d * np.cos(va)\n",
    "\n",
    "            frame = np.vstack([\n",
    "                d_v_cos * np.sin(ha), # X\n",
    "                d_v_cos * np.cos(ha), # Y\n",
    "                d * np.sin(va),  # Z\n",
    "                d, va, ha, i\n",
    "            ]).T\n",
    "            \n",
    "            yield (lp.time, frame)"
   ]
  },
  {
   "cell_type": "code",
   "execution_count": 6,
   "metadata": {
    "ExecuteTime": {
     "end_time": "2020-02-18T05:44:19.482525Z",
     "start_time": "2020-02-18T05:44:19.474094Z"
    },
    "code_folding": []
   },
   "outputs": [],
   "source": [
    "def draw_pcd(pcd, where='mat_3d'):\n",
    "    if where is 'opn_nb':\n",
    "        visualizer = o3d.JVisualizer()\n",
    "        visualizer.add_geometry(pcd)\n",
    "        visualizer.show()\n",
    "    elif where is 'opn_view':\n",
    "        o3d.visualization.draw_geometries([pcd], width=1280, height=800)\n",
    "    elif where is 'mat_3d':\n",
    "        pts = np.asarray(pcd.points)\n",
    "        plt.scatter(pts[:,0], pts[:,1], pts[:,2])\n",
    "        plt.show()\n",
    "    elif where is 'mat_2d':\n",
    "        pts = np.asarray(pcd.points)\n",
    "        plt.scatter(pts[:,0], pts[:,1])\n",
    "        plt.show()"
   ]
  },
  {
   "cell_type": "code",
   "execution_count": null,
   "metadata": {},
   "outputs": [],
   "source": []
  },
  {
   "cell_type": "code",
   "execution_count": 7,
   "metadata": {
    "ExecuteTime": {
     "end_time": "2020-02-18T05:44:20.161360Z",
     "start_time": "2020-02-18T05:44:20.153163Z"
    }
   },
   "outputs": [],
   "source": [
    "def parallel_thread(idx):\n",
    "    temp_df = df_frames[idx_list[idx]: idx_list[idx+1]]\n",
    "    single_pcd_arr = np.array([np.array([row['x'], row['y'], row['z']]) for idx, row in temp_df.iterrows()])\n",
    "    \n",
    "    single_pcd = o3d.geometry.PointCloud()\n",
    "    single_pcd.points = o3d.utility.Vector3dVector(single_pcd_arr)\n",
    "    \n",
    "    single_pcd_fname = str(pcd_name_idx + idx + 1) + \".pcd\"\n",
    "    single_pcd_path = os.path.join(DATA_PATH, 'complete_extracted', single_pcd_fname)\n",
    "    o3d.io.write_point_cloud(single_pcd_path, single_pcd, write_ascii=True)"
   ]
  },
  {
   "cell_type": "code",
   "execution_count": 17,
   "metadata": {
    "ExecuteTime": {
     "end_time": "2020-02-18T06:04:03.755909Z",
     "start_time": "2020-02-18T06:04:02.750724Z"
    }
   },
   "outputs": [
    {
     "name": "stdout",
     "output_type": "stream",
     "text": [
      "Reading frames from lidar-1.pb\n"
     ]
    },
    {
     "name": "stderr",
     "output_type": "stream",
     "text": [
      "/home/saby/anaconda3/envs/ati/lib/python3.6/site-packages/ipykernel_launcher.py:11: TqdmDeprecationWarning: This function will be removed in tqdm==5.0.0\n",
      "Please use `tqdm.notebook.tqdm` instead of `tqdm.tqdm_notebook`\n",
      "  # This is added back by InteractiveShellApp.init_path()\n"
     ]
    },
    {
     "data": {
      "application/vnd.jupyter.widget-view+json": {
       "model_id": "592bf0c903f44f3c9e1d82653d37a7ad",
       "version_major": 2,
       "version_minor": 0
      },
      "text/plain": [
       "HBox(children=(FloatProgress(value=1.0, bar_style='info', max=1.0), HTML(value='')))"
      ]
     },
     "metadata": {},
     "output_type": "display_data"
    },
    {
     "name": "stdout",
     "output_type": "stream",
     "text": [
      "\n"
     ]
    }
   ],
   "source": [
    "old_theta = 7\n",
    "pcd_name_idx = 0\n",
    "\n",
    "pb_files = sorted([file for file in os.listdir(DATA_PATH) if file[:5] == 'lidar' and file.endswith(\".pb\")], key=getint)\n",
    "# for saby in range(1):\n",
    "for pb_file in pb_files:\n",
    "    print('Reading frames from {}'.format(pb_file))\n",
    "    frm_list = []\n",
    "    tym_list = []\n",
    "    for tym, frm in tqdm_notebook(read_frames(os.path.join(DATA_PATH, pb_file))):\n",
    "        tym_list.append(np.ones(frm.shape[0])*tym)\n",
    "        frm_list.append(frm)\n",
    "    gc.collect()\n",
    "    frm_arr = np.concatenate(frm_list)\n",
    "    tym_arr = np.concatenate(tym_list)\n",
    "    del frm_list, tym_list\n",
    "    gc.collect()\n",
    "    \n",
    "    print('Putting to dataframe (redundant)')\n",
    "    df_frames = pd.DataFrame(frm_arr).rename(columns={0:'x', 1:'y', 2:'z', 3:'r', 4:'phi', 5:'tht', 6:'i'})\n",
    "    df_frames['t'] = tym_arr\n",
    "    del frm_arr, tym_arr\n",
    "    gc.collect()\n",
    "    \n",
    "    print(\"Cleaning up undetected points\")\n",
    "    print(df_frames[~(df_frames['r'] == 0)].shape[0] / df_frames.shape[0])\n",
    "    df_frames = df_frames[~(df_frames['r'] == 0)]\n",
    "    \n",
    "    print(\"Finding single revolutions\")\n",
    "    idx_list = []\n",
    "    for idx, theta in tqdm_notebook(enumerate(df_frames['tht']), total=df_frames.shape[0]):\n",
    "        if old_theta > theta:\n",
    "            idx_list.append(idx)\n",
    "        old_theta = theta\n",
    "    gc.collect()\n",
    "    \n",
    "    print(\"Saving to pcds\")\n",
    "    parallel_args = range(len(idx_list) - 1)\n",
    "#     process_pool = Pool(cpu_count()-1)\n",
    "    process_pool = Pool(12)\n",
    "    # process_pool = Pool(1)\n",
    "    score_list = [each for each in tqdm_notebook(process_pool.imap_unordered(parallel_thread, parallel_args),\n",
    "                                                 total = len(parallel_args))]\n",
    "    process_pool.terminate()\n",
    "    gc.collect()\n",
    "    \n",
    "    # pcd count in this pb file\n",
    "    pcd_name_idx = pcd_name_idx + len(idx_list) - 1\n",
    "    gc.collect()\n",
    "    \n",
    "    print('{} converted to {} pcd files'.format(pb_file, len(idx_list)-1))\n",
    "    print(\"****************************************************************\")\n"
   ]
  },
  {
   "cell_type": "code",
   "execution_count": null,
   "metadata": {
    "ExecuteTime": {
     "end_time": "2020-02-17T09:02:54.430718Z",
     "start_time": "2020-02-17T09:02:54.425204Z"
    }
   },
   "outputs": [],
   "source": [
    "len(idx_list)-1"
   ]
  },
  {
   "cell_type": "code",
   "execution_count": null,
   "metadata": {},
   "outputs": [],
   "source": []
  },
  {
   "cell_type": "code",
   "execution_count": null,
   "metadata": {},
   "outputs": [],
   "source": []
  },
  {
   "cell_type": "raw",
   "metadata": {
    "ExecuteTime": {
     "end_time": "2019-10-18T07:06:00.090861Z",
     "start_time": "2019-10-18T07:06:00.068880Z"
    }
   },
   "source": [
    "frm_list = []\n",
    "tym_list = []\n",
    "for tym, frm in tqdm_notebook(read_frames(os.path.join(EXP_PATH, 'lidar-'+ str(saby) +'.pb'))):\n",
    "    tym_list.append(np.ones(frm.shape[0])*tym)\n",
    "    frm_list.append(frm)\n",
    "gc.collect()\n",
    "frm_arr = np.concatenate(frm_list)\n",
    "tym_arr = np.concatenate(tym_list)\n",
    "del frm_list, tym_list\n",
    "gc.collect()\n",
    "frm_arr.shape, tym_arr.shape"
   ]
  },
  {
   "cell_type": "raw",
   "metadata": {
    "ExecuteTime": {
     "end_time": "2019-10-03T07:08:04.959295Z",
     "start_time": "2019-10-03T07:08:04.491011Z"
    }
   },
   "source": [
    "df_frames = pd.DataFrame(frm_arr).rename(columns={0:'x', 1:'y', 2:'z', 3:'r', 4:'phi', 5:'tht', 6:'i'})\n",
    "df_frames['t'] = tym_arr\n",
    "del frm_arr, tym_arr\n",
    "gc.collect()\n",
    "df_frames.shape"
   ]
  },
  {
   "cell_type": "raw",
   "metadata": {
    "ExecuteTime": {
     "end_time": "2019-10-03T07:08:08.453054Z",
     "start_time": "2019-10-03T07:08:04.961984Z"
    }
   },
   "source": [
    "len(set(df_frames['phi']))"
   ]
  },
  {
   "cell_type": "raw",
   "metadata": {
    "ExecuteTime": {
     "end_time": "2019-10-03T07:08:09.851060Z",
     "start_time": "2019-10-03T07:08:08.455104Z"
    }
   },
   "source": [
    "df_frames[~(df_frames['r'] == 0)].shape[0] / df_frames.shape[0]"
   ]
  },
  {
   "cell_type": "raw",
   "metadata": {},
   "source": [
    "df_frames = df_frames[~(df_frames['r'] == 0)]"
   ]
  },
  {
   "cell_type": "code",
   "execution_count": null,
   "metadata": {
    "ExecuteTime": {
     "end_time": "2020-02-17T08:29:39.399063Z",
     "start_time": "2020-02-17T08:29:39.395559Z"
    }
   },
   "outputs": [],
   "source": [
    "%matplotlib notebook"
   ]
  },
  {
   "cell_type": "markdown",
   "metadata": {},
   "source": [
    "## Extract complete revolution"
   ]
  },
  {
   "cell_type": "raw",
   "metadata": {
    "ExecuteTime": {
     "end_time": "2019-10-18T07:05:51.941601Z",
     "start_time": "2019-10-18T07:05:51.829972Z"
    }
   },
   "source": [
    "old_theta = 7\n",
    "idx_list = []\n",
    "for idx, theta in tqdm_notebook(enumerate(df_frames['tht'])):\n",
    "    if old_theta > theta:\n",
    "        idx_list.append(idx)\n",
    "    old_theta = theta"
   ]
  },
  {
   "cell_type": "raw",
   "metadata": {
    "ExecuteTime": {
     "end_time": "2019-10-03T07:03:14.793150Z",
     "start_time": "2019-10-03T06:59:06.431622Z"
    }
   },
   "source": [
    "for idx in tqdm_notebook(range(len(idx_list) - 1)):\n",
    "    temp_df = df_frames[idx_list[idx]: idx_list[idx+1]]\n",
    "    single_pcd_arr = np.array([np.array([row['x'], row['y'], row['z']]) for idx, row in temp_df.iterrows()])\n",
    "    \n",
    "    single_pcd = o3d.PointCloud()\n",
    "    single_pcd.points = o3d.utility.Vector3dVector(single_pcd_arr)\n",
    "    \n",
    "    single_pcd_fname = str(idx+1) + \".pcd\"\n",
    "    single_pcd_path = os.path.join(EXP_PATH, 'complete_extracted', single_pcd_fname)\n",
    "    o3d.io.write_point_cloud(single_pcd_path, single_pcd, write_ascii=True)"
   ]
  },
  {
   "cell_type": "code",
   "execution_count": null,
   "metadata": {},
   "outputs": [],
   "source": []
  },
  {
   "cell_type": "raw",
   "metadata": {
    "ExecuteTime": {
     "end_time": "2019-10-03T07:08:26.100795Z",
     "start_time": "2019-10-03T07:08:26.090733Z"
    }
   },
   "source": [
    "def parallel_thread(idx):\n",
    "    temp_df = df_frames[idx_list[idx]: idx_list[idx+1]]\n",
    "    single_pcd_arr = np.array([np.array([row['x'], row['y'], row['z']]) for idx, row in temp_df.iterrows()])\n",
    "    \n",
    "    single_pcd = o3d.PointCloud()\n",
    "    single_pcd.points = o3d.utility.Vector3dVector(single_pcd_arr)\n",
    "    \n",
    "    single_pcd_fname = str(idx+1) + \".pcd\"\n",
    "    single_pcd_path = os.path.join(EXP_PATH, 'complete_extracted', single_pcd_fname)\n",
    "    o3d.io.write_point_cloud(single_pcd_path, single_pcd, write_ascii=True)"
   ]
  },
  {
   "cell_type": "raw",
   "metadata": {
    "ExecuteTime": {
     "end_time": "2019-10-03T07:11:37.553601Z",
     "start_time": "2019-10-03T07:08:27.436435Z"
    }
   },
   "source": [
    "parallel_args = range(len(idx_list) - 1)\n",
    "\n",
    "process_pool = Pool(cpu_count()-1)\n",
    "# process_pool = Pool(1)\n",
    "score_list = [each for each in tqdm_notebook(process_pool.imap_unordered(parallel_thread, parallel_args))]\n",
    "process_pool.terminate()"
   ]
  },
  {
   "cell_type": "raw",
   "metadata": {
    "ExecuteTime": {
     "end_time": "2019-10-03T07:11:37.559059Z",
     "start_time": "2019-10-03T07:11:37.556030Z"
    }
   },
   "source": [
    "print('done')"
   ]
  },
  {
   "cell_type": "raw",
   "metadata": {},
   "source": []
  }
 ],
 "metadata": {
  "kernelspec": {
   "display_name": "Python 3",
   "language": "python",
   "name": "python3"
  },
  "language_info": {
   "codemirror_mode": {
    "name": "ipython",
    "version": 3
   },
   "file_extension": ".py",
   "mimetype": "text/x-python",
   "name": "python",
   "nbconvert_exporter": "python",
   "pygments_lexer": "ipython3",
   "version": "3.6.10"
  },
  "toc": {
   "base_numbering": 1,
   "nav_menu": {},
   "number_sections": true,
   "sideBar": true,
   "skip_h1_title": false,
   "title_cell": "Table of Contents",
   "title_sidebar": "Contents",
   "toc_cell": false,
   "toc_position": {},
   "toc_section_display": true,
   "toc_window_display": false
  }
 },
 "nbformat": 4,
 "nbformat_minor": 2
}
