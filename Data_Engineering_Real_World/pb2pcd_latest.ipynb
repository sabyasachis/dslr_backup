{
 "cells": [
  {
   "cell_type": "code",
   "execution_count": 1,
   "metadata": {
    "ExecuteTime": {
     "end_time": "2020-02-18T14:11:00.925410Z",
     "start_time": "2020-02-18T14:10:59.919983Z"
    }
   },
   "outputs": [],
   "source": [
    "import numpy as np\n",
    "import pandas as pd\n",
    "import gc\n",
    "import os, shutil\n",
    "from tqdm import *\n",
    "# import ipyvolume as ipv\n",
    "import open3d as o3d\n",
    "\n",
    "from multiprocessing import Pool, cpu_count\n",
    "from struct import *\n",
    "import time\n",
    "from lidar_point_pb2 import *\n",
    "import matplotlib.pyplot as plt\n",
    "import matplotlib.cm as cm\n",
    "import argparse\n",
    "import pickle\n",
    "%matplotlib notebook\n"
   ]
  },
  {
   "cell_type": "code",
   "execution_count": 2,
   "metadata": {
    "ExecuteTime": {
     "end_time": "2020-02-18T14:11:00.930887Z",
     "start_time": "2020-02-18T14:11:00.926948Z"
    }
   },
   "outputs": [],
   "source": [
    "BASE_PATH = \"/home/saby/Projects/ati/data/data/datasets/iisc/2020-02-10\"\n",
    "YELLI_FILE = \"yelli_odo.csv\"\n",
    "\n",
    "STATIC_DATA_FOLDER = \"2020-02-10-15-32-49-p15-auto-5loops_static\"\n",
    "DYNAMIC_2_DATA_FOLDER = \"2020-02-10-15-57-38-p15-auto-5loops_dy_2\"\n",
    "DYNAMIC_1_DATA_FOLDER = \"2020-02-10-16-12-42-p15-auto-5loops_dy_1\"\n",
    "\n",
    "STATIC_DATA_PATH = os.path.join(BASE_PATH, STATIC_DATA_FOLDER, \"debug\")\n",
    "DYNAMIC_1_DATA_PATH = os.path.join(BASE_PATH, DYNAMIC_1_DATA_FOLDER, \"debug\")\n",
    "DYNAMIC_2_DATA_PATH = os.path.join(BASE_PATH, DYNAMIC_2_DATA_FOLDER, \"debug\")\n",
    "\n",
    "DATA_PATH = DYNAMIC_2_DATA_PATH\n",
    "YELLI_PATH = os.path.join(DATA_PATH, YELLI_FILE)"
   ]
  },
  {
   "cell_type": "code",
   "execution_count": 3,
   "metadata": {
    "ExecuteTime": {
     "end_time": "2020-02-18T14:11:00.950838Z",
     "start_time": "2020-02-18T14:11:00.932876Z"
    }
   },
   "outputs": [],
   "source": [
    "PCD_FOLDER = 'complete_extracted'\n",
    "PCD_PATH = os.path.join(DATA_PATH, PCD_FOLDER)\n",
    "if not os.path.exists(PCD_PATH):\n",
    "    os.makedirs(PCD_PATH)\n",
    "else:\n",
    "    shutil.rmtree(PCD_PATH)\n",
    "    os.makedirs(PCD_PATH)"
   ]
  },
  {
   "cell_type": "code",
   "execution_count": 4,
   "metadata": {
    "ExecuteTime": {
     "end_time": "2020-02-18T14:11:00.961477Z",
     "start_time": "2020-02-18T14:11:00.952441Z"
    }
   },
   "outputs": [],
   "source": [
    "def getint(name):\n",
    "    str_list = list(filter(str.isdigit, name))\n",
    "    if len(str_list) == 1:\n",
    "        return int(str_list[0])\n",
    "    elif len(str_list) == 0:\n",
    "        return 0\n",
    "    else:\n",
    "        print(\"String contains more than 1 integer\")\n",
    "        assert False"
   ]
  },
  {
   "cell_type": "code",
   "execution_count": 5,
   "metadata": {
    "ExecuteTime": {
     "end_time": "2020-02-18T14:11:01.003293Z",
     "start_time": "2020-02-18T14:11:00.963530Z"
    },
    "code_folding": []
   },
   "outputs": [],
   "source": [
    "def read_packet(f):\n",
    "    hdr = f.read(4)\n",
    "    if hdr:\n",
    "        #size, = struct.unpack(\"I\", hdr)\n",
    "        size, = unpack(\"I\", hdr)\n",
    "        # print(size) #Size is 488556\n",
    "        #lp = ati.schema.LidarPoint()\n",
    "        lp = LidarPoint()\n",
    "        lp.ParseFromString(f.read(size))\n",
    "        return lp\n",
    "\n",
    "def read_frames(file_name):\n",
    "    #file_name = \"lidar-0\"\n",
    "    with open(file_name, \"rb\") as proto_file:\n",
    "        while True:\n",
    "            lp = read_packet(proto_file)\n",
    "\n",
    "            if lp is None:\n",
    "                break\n",
    "\n",
    "            va = np.frombuffer(lp.vertical_angles, dtype=np.float64)\n",
    "            ha = np.frombuffer(lp.horizontal_angles, dtype=np.float64)\n",
    "            d = np.frombuffer(lp.distances, dtype=np.float64)\n",
    "            i = np.frombuffer(lp.intensities, dtype=np.float64)\n",
    "\n",
    "            beams = va.shape[0]\n",
    "            num_points = d.shape[0]\n",
    "\n",
    "            va = np.tile(va, num_points // beams).reshape(-1)\n",
    "            ha = np.repeat(ha, beams).reshape(-1)\n",
    "            d_v_cos = d * np.cos(va)\n",
    "\n",
    "            frame = np.vstack([\n",
    "                d_v_cos * np.sin(ha), # X\n",
    "                d_v_cos * np.cos(ha), # Y\n",
    "                d * np.sin(va),  # Z\n",
    "                d, va, ha, i\n",
    "            ]).T\n",
    "            \n",
    "            yield (lp.time, frame)"
   ]
  },
  {
   "cell_type": "code",
   "execution_count": 6,
   "metadata": {
    "ExecuteTime": {
     "end_time": "2020-02-18T14:11:01.016116Z",
     "start_time": "2020-02-18T14:11:01.005799Z"
    },
    "code_folding": []
   },
   "outputs": [],
   "source": [
    "def draw_pcd(pcd, where='mat_3d'):\n",
    "    if where is 'opn_nb':\n",
    "        visualizer = o3d.JVisualizer()\n",
    "        visualizer.add_geometry(pcd)\n",
    "        visualizer.show()\n",
    "    elif where is 'opn_view':\n",
    "        o3d.visualization.draw_geometries([pcd], width=1280, height=800)\n",
    "    elif where is 'mat_3d':\n",
    "        pts = np.asarray(pcd.points)\n",
    "        plt.scatter(pts[:,0], pts[:,1], pts[:,2])\n",
    "        plt.show()\n",
    "    elif where is 'mat_2d':\n",
    "        pts = np.asarray(pcd.points)\n",
    "        plt.scatter(pts[:,0], pts[:,1])\n",
    "        plt.show()"
   ]
  },
  {
   "cell_type": "code",
   "execution_count": 7,
   "metadata": {
    "ExecuteTime": {
     "end_time": "2020-02-18T14:11:01.023577Z",
     "start_time": "2020-02-18T14:11:01.017634Z"
    }
   },
   "outputs": [],
   "source": [
    "def get_first_idx_offset(df):\n",
    "    first_row = df.iloc[0]\n",
    "\n",
    "    for idx, arg in enumerate(read_frames(os.path.join(DATA_PATH, 'lidar-0.pb'))):\n",
    "        time = arg[0]\n",
    "    #     print(idx, time)\n",
    "        if time == first_row['time']:\n",
    "            return int(first_row['frame_id'] - idx)\n",
    "            break\n",
    "        if idx == 100:\n",
    "            print(\"No idx found upto {} frames\".format(idx))\n",
    "            assert False\n",
    "    print(\"No idx found upto {} frames\".format(idx))\n",
    "    \n",
    "def verify_first_idx_offset(idx_offset, df):\n",
    "    first_row = df.iloc[0]\n",
    "    for idx, arg in enumerate(read_frames(os.path.join(DATA_PATH, 'lidar-0.pb'))):\n",
    "        if idx == int(first_row['frame_id']-idx_offset):\n",
    "            return arg[0] == first_row['time']\n",
    "        if idx == 100:\n",
    "            print(\"No idx found upto {} frames\".format(idx))\n",
    "            assert False\n",
    "    print(\"No idx found upto {} frames\".format(idx))"
   ]
  },
  {
   "cell_type": "code",
   "execution_count": 8,
   "metadata": {
    "ExecuteTime": {
     "end_time": "2020-02-18T14:11:01.281498Z",
     "start_time": "2020-02-18T14:11:01.025408Z"
    }
   },
   "outputs": [
    {
     "name": "stdout",
     "output_type": "stream",
     "text": [
      "Found first idx offset to be 6\n"
     ]
    }
   ],
   "source": [
    "df_yelli = pd.read_csv(YELLI_PATH)\n",
    "first_idx_offset = get_first_idx_offset(df_yelli)\n",
    "print(\"Found first idx offset to be {}\".format(first_idx_offset))\n",
    "assert verify_first_idx_offset(first_idx_offset, df_yelli)"
   ]
  },
  {
   "cell_type": "code",
   "execution_count": null,
   "metadata": {},
   "outputs": [],
   "source": []
  },
  {
   "cell_type": "code",
   "execution_count": 9,
   "metadata": {
    "ExecuteTime": {
     "end_time": "2020-02-18T14:11:01.287995Z",
     "start_time": "2020-02-18T14:11:01.283216Z"
    }
   },
   "outputs": [],
   "source": [
    "def parallel_thread(args):\n",
    "    frame_idx = args[0]\n",
    "    time = args[1][0]\n",
    "    frame = args[1][1]\n",
    "    \n",
    "    some_pcd = o3d.geometry.PointCloud()\n",
    "    some_arr = frame[:,:3]\n",
    "    some_arr = some_arr[frame[:,3] != 0]\n",
    "    some_pcd.points = o3d.utility.Vector3dVector(some_arr)\n",
    "    \n",
    "    single_pcd_fname = str(pb_offset + frame_idx + first_idx_offset) + \".pcd\"\n",
    "    single_pcd_path = os.path.join(DATA_PATH, 'complete_extracted', single_pcd_fname)\n",
    "    o3d.io.write_point_cloud(single_pcd_path, some_pcd, write_ascii=True)\n",
    "    gc.collect()\n",
    "    return frame_idx"
   ]
  },
  {
   "cell_type": "code",
   "execution_count": 10,
   "metadata": {
    "ExecuteTime": {
     "end_time": "2020-02-18T14:12:19.920216Z",
     "start_time": "2020-02-18T14:11:01.289292Z"
    },
    "scrolled": true
   },
   "outputs": [
    {
     "name": "stdout",
     "output_type": "stream",
     "text": [
      "Reading frames from lidar-0.pb\n"
     ]
    },
    {
     "name": "stderr",
     "output_type": "stream",
     "text": [
      "/home/saby/anaconda3/envs/ati/lib/python3.6/site-packages/ipykernel_launcher.py:8: TqdmDeprecationWarning: This function will be removed in tqdm==5.0.0\n",
      "Please use `tqdm.notebook.tqdm` instead of `tqdm.tqdm_notebook`\n",
      "  \n"
     ]
    },
    {
     "data": {
      "application/vnd.jupyter.widget-view+json": {
       "model_id": "f37e3a1520b54ac1bb95b5324beaf4df",
       "version_major": 2,
       "version_minor": 0
      },
      "text/plain": [
       "HBox(children=(FloatProgress(value=1.0, bar_style='info', max=1.0), HTML(value='')))"
      ]
     },
     "metadata": {},
     "output_type": "display_data"
    },
    {
     "name": "stdout",
     "output_type": "stream",
     "text": [
      "\n",
      "lidar-0.pb converted to 5994 pcd files\n",
      "****************************************************************\n",
      "Reading frames from lidar-1.pb\n"
     ]
    },
    {
     "data": {
      "application/vnd.jupyter.widget-view+json": {
       "model_id": "61c690f67ada49f4b39ab34feb961f36",
       "version_major": 2,
       "version_minor": 0
      },
      "text/plain": [
       "HBox(children=(FloatProgress(value=1.0, bar_style='info', max=1.0), HTML(value='')))"
      ]
     },
     "metadata": {},
     "output_type": "display_data"
    },
    {
     "name": "stdout",
     "output_type": "stream",
     "text": [
      "\n",
      "lidar-1.pb converted to 1549 pcd files\n",
      "****************************************************************\n",
      "First pcd starts at 6.pcd\n",
      "Last pcd ends at 7548.pcd\n",
      "Total no of pcds created: 7543\n"
     ]
    }
   ],
   "source": [
    "pb_offset = 0\n",
    "pb_files = sorted([file for file in os.listdir(DATA_PATH) if file[:5] == 'lidar' and file.endswith(\".pb\")], key=getint)\n",
    "\n",
    "for pb_file in pb_files:\n",
    "    print('Reading frames from {}'.format(pb_file))\n",
    "    parallel_args = enumerate(read_frames(os.path.join(DATA_PATH, pb_file)))\n",
    "    process_pool = Pool(cpu_count()-1)\n",
    "    fidx = [each for each in tqdm_notebook(process_pool.imap_unordered(parallel_thread, parallel_args))]#,\n",
    "                                                 #total = len(parallel_args))]\n",
    "    process_pool.terminate()\n",
    "    gc.collect()\n",
    "    \n",
    "    pb_offset += max(fidx)+1\n",
    "    \n",
    "    print('{} converted to {} pcd files'.format(pb_file, max(fidx)+1))\n",
    "    print(\"****************************************************************\")\n",
    "print(\"First pcd starts at {}.pcd\".format(first_idx_offset))\n",
    "print(\"Last pcd ends at {}.pcd\".format(first_idx_offset+pb_offset-1))\n",
    "print(\"Total no of pcds created: {}\".format(pb_offset))\n"
   ]
  },
  {
   "cell_type": "code",
   "execution_count": null,
   "metadata": {
    "ExecuteTime": {
     "end_time": "2020-02-18T14:00:21.236098Z",
     "start_time": "2020-02-18T14:00:21.229760Z"
    }
   },
   "outputs": [],
   "source": []
  },
  {
   "cell_type": "code",
   "execution_count": null,
   "metadata": {},
   "outputs": [],
   "source": []
  },
  {
   "cell_type": "code",
   "execution_count": null,
   "metadata": {},
   "outputs": [],
   "source": []
  },
  {
   "cell_type": "code",
   "execution_count": 11,
   "metadata": {
    "ExecuteTime": {
     "end_time": "2020-02-18T14:12:20.303926Z",
     "start_time": "2020-02-18T14:12:19.921679Z"
    }
   },
   "outputs": [
    {
     "data": {
      "application/vnd.jupyter.widget-view+json": {
       "model_id": "aa10c4ea161a4f5e8a66f1dcbc52395b",
       "version_major": 2,
       "version_minor": 0
      },
      "text/plain": [
       "JVisualizer with 1 geometries"
      ]
     },
     "metadata": {},
     "output_type": "display_data"
    }
   ],
   "source": [
    "some_pcd = o3d.io.read_point_cloud(os.path.join(DATA_PATH, 'complete_extracted', \"50.pcd\"))\n",
    "draw_pcd(some_pcd, 'opn_nb')"
   ]
  },
  {
   "cell_type": "code",
   "execution_count": null,
   "metadata": {},
   "outputs": [],
   "source": []
  },
  {
   "cell_type": "raw",
   "metadata": {
    "ExecuteTime": {
     "end_time": "2020-02-18T06:20:42.508799Z",
     "start_time": "2020-02-18T06:20:42.049411Z"
    }
   },
   "source": [
    "some_pcd = o3d.geometry.PointCloud()\n",
    "some_arr = frm_list[0][:,:3]\n",
    "some_arr = some_arr[frm_list[0][:,3] != 0]\n",
    "print(some_arr.shape)\n",
    "some_pcd.points = o3d.utility.Vector3dVector(some_arr)\n",
    "draw_pcd(some_pcd, where='opn_nb')"
   ]
  },
  {
   "cell_type": "code",
   "execution_count": null,
   "metadata": {},
   "outputs": [],
   "source": []
  },
  {
   "cell_type": "code",
   "execution_count": null,
   "metadata": {},
   "outputs": [],
   "source": []
  },
  {
   "cell_type": "code",
   "execution_count": null,
   "metadata": {},
   "outputs": [],
   "source": []
  },
  {
   "cell_type": "code",
   "execution_count": null,
   "metadata": {},
   "outputs": [],
   "source": []
  }
 ],
 "metadata": {
  "kernelspec": {
   "display_name": "Python 3",
   "language": "python",
   "name": "python3"
  },
  "language_info": {
   "codemirror_mode": {
    "name": "ipython",
    "version": 3
   },
   "file_extension": ".py",
   "mimetype": "text/x-python",
   "name": "python",
   "nbconvert_exporter": "python",
   "pygments_lexer": "ipython3",
   "version": "3.6.10"
  },
  "toc": {
   "base_numbering": 1,
   "nav_menu": {},
   "number_sections": true,
   "sideBar": true,
   "skip_h1_title": false,
   "title_cell": "Table of Contents",
   "title_sidebar": "Contents",
   "toc_cell": false,
   "toc_position": {},
   "toc_section_display": true,
   "toc_window_display": false
  }
 },
 "nbformat": 4,
 "nbformat_minor": 2
}
