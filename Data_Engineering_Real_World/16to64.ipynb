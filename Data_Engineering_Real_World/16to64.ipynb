{
 "cells": [
  {
   "cell_type": "code",
   "execution_count": 1,
   "metadata": {
    "ExecuteTime": {
     "end_time": "2020-02-25T16:28:43.237363Z",
     "start_time": "2020-02-25T16:28:42.317426Z"
    }
   },
   "outputs": [],
   "source": [
    "import numpy as np\n",
    "import gc\n",
    "import cv2\n",
    "import open3d as o3d\n",
    "import copy\n",
    "from tqdm import tqdm, trange\n",
    "import torch\n",
    "import torch.nn.functional as F\n",
    "# import sys\n",
    "# sys.path.append(\"../static_reconstruction_method/\")\n",
    "# from utils import *"
   ]
  },
  {
   "cell_type": "raw",
   "metadata": {
    "ExecuteTime": {
     "end_time": "2020-02-24T23:41:06.824200Z",
     "start_time": "2020-02-24T23:41:06.818567Z"
    }
   },
   "source": [
    "%matplotlib notebook"
   ]
  },
  {
   "cell_type": "code",
   "execution_count": 8,
   "metadata": {
    "ExecuteTime": {
     "end_time": "2020-02-25T16:29:43.170965Z",
     "start_time": "2020-02-25T16:29:43.144328Z"
    }
   },
   "outputs": [],
   "source": [
    "# def from_polar_np(velo):\n",
    "#     angles = np.linspace(0, np.pi * 2, velo.shape[-1])\n",
    "#     dist, z = velo[:, 0], velo[:, 1]\n",
    "#     x = np.cos(angles) * dist\n",
    "#     y = np.sin(angles) * dist\n",
    "#     out = np.stack([x,y,z], axis=1)\n",
    "#     return out.astype('float32')\n",
    "\n",
    "def draw_pcd(pcd, where='opn_nb'):\n",
    "    if where is 'opn_nb':\n",
    "        visualizer = o3d.JVisualizer()\n",
    "        visualizer.add_geometry(pcd)\n",
    "        visualizer.show()\n",
    "    elif where is 'opn_view':\n",
    "        o3d.visualization.draw_geometries([pcd], width=1280, height=800)\n",
    "    elif where is 'mat_3d':\n",
    "        plt.figure()\n",
    "        pts = np.asarray(pcd.points)\n",
    "        plt.scatter(pts[:,0], pts[:,1], pts[:,2])\n",
    "        plt.grid()\n",
    "        plt.show()\n",
    "    elif where is 'mat_2d':\n",
    "        plt.figure()\n",
    "        pts = np.asarray(pcd.points)\n",
    "        plt.scatter(pts[:,0], pts[:,1])\n",
    "        plt.grid()\n",
    "        plt.show()\n",
    "        \n",
    "def create_pcd(img):\n",
    "    some_pcd = o3d.geometry.PointCloud()\n",
    "    if img.shape[-1] == 3:\n",
    "        some_pcd.points = o3d.utility.Vector3dVector(img.reshape((-1,3)))\n",
    "    elif img.shape[-1] == 2:\n",
    "#         print(\"on\")\n",
    "        some_arr = from_polar_np(np.expand_dims(polar_img.transpose(2,0,1), axis=0))[0]\n",
    "        some_arr = some_arr.reshape((3,-1)).T\n",
    "        some_pcd.points = o3d.utility.Vector3dVector(some_arr)\n",
    "    elif img.shape[0] == 3:\n",
    "        some_pcd.points = o3d.utility.Vector3dVector(img.reshape((3,-1)).T)\n",
    "    else:\n",
    "        assert False\n",
    "#     print(some_pcd)\n",
    "    return some_pcd\n",
    "\n",
    "def preprocess(dataset, lidar_range):\n",
    "    # remove outliers \n",
    "    min_a, max_a = np.percentile(dataset[:, :, :, [0]], 1), np.percentile(dataset[:, :, :, [0]], 99)\n",
    "    min_b, max_b = np.percentile(dataset[:, :, :, [1]], 1), np.percentile(dataset[:, :, :, [1]], 99)\n",
    "    min_c, max_c = np.percentile(dataset[:, :, :, [2]], 1), np.percentile(dataset[:, :, :, [2]], 99)\n",
    "#     min_a, max_a = -58.183  ,  65.37635\n",
    "#     min_b, max_b = -60.554525,  62.52805\n",
    "#     min_c, max_c = -8.3525,  7.695\n",
    "    print(dataset.shape)\n",
    "    print(\"Min_x:{} Max_x:{} | Min_y:{} Max_y:{} | Min_z:{} Max_z:{}\".format(min_a, max_a, min_b, max_b, min_c, max_c))\n",
    "    print(\"Finding crop masks\")\n",
    "    mask = np.maximum(dataset[:, :, :, 0] < min_a, dataset[:, :, :, 0] > max_a)\n",
    "    mask = np.maximum(mask, np.maximum(dataset[:, :, :, 1] < min_b, dataset[:, :, :, 1] > max_b))\n",
    "    mask = np.maximum(mask, np.maximum(dataset[:, :, :, 2] < min_c, dataset[:, :, :, 2] > max_c))\n",
    "    dist = dataset[:, :, :, 0] ** 2 + dataset[:, :, :, 1] ** 2\n",
    "    mask = np.maximum(mask, dist < 7)\n",
    "    print(\"Masking\")\n",
    "    dataset = dataset * (1 - np.expand_dims(mask, -1))\n",
    "\n",
    "    dataset /= lidar_range   # Max LIDAR value\n",
    "    dataset = to_polar_np(dataset).transpose(0, 3, 1, 2)\n",
    "    previous = (dataset[:, 0] == 0).sum()\n",
    "\n",
    "    remove = []\n",
    "    print(\"Remove zeros\")\n",
    "    for i in trange(dataset.shape[0]):\n",
    "        try:\n",
    "            pp = remove_zeros(dataset[i]).squeeze(0)\n",
    "            dataset[i] = pp\n",
    "        except Exception as e:\n",
    "            print(\"Exception in zeros functions : {}\".format(e))\n",
    "            remove += [i]\n",
    "\n",
    "    for i in remove:\n",
    "        dataset = np.concatenate([dataset[:i-1], dataset[i+1:]], axis=0)\n",
    "    \n",
    "    return dataset"
   ]
  },
  {
   "cell_type": "code",
   "execution_count": 2,
   "metadata": {
    "ExecuteTime": {
     "end_time": "2020-02-25T16:28:43.241434Z",
     "start_time": "2020-02-25T16:28:43.239076Z"
    }
   },
   "outputs": [],
   "source": [
    "# NPY_PATH = \"/home/saby/Projects/ati/ati_motors/adversarial_based/training_data/ati/preprocess-[2-16-1024]/s1.npy\"\n",
    "\n",
    "# arr = np.load(NPY_PATH)\n",
    "# arr.shape"
   ]
  },
  {
   "cell_type": "code",
   "execution_count": 3,
   "metadata": {
    "ExecuteTime": {
     "end_time": "2020-02-25T16:28:43.696321Z",
     "start_time": "2020-02-25T16:28:43.692524Z"
    }
   },
   "outputs": [],
   "source": [
    "# polar_img = arr[0]\n",
    "# print(polar_img.shape)\n",
    "\n",
    "# img = from_polar_np(np.expand_dims(polar_img, axis=0))[0]\n",
    "# img = img.transpose(1,2,0)\n",
    "# print(img.shape)"
   ]
  },
  {
   "cell_type": "code",
   "execution_count": null,
   "metadata": {
    "ExecuteTime": {
     "end_time": "2020-02-24T23:41:06.919700Z",
     "start_time": "2020-02-24T23:41:06.833025Z"
    }
   },
   "outputs": [],
   "source": []
  },
  {
   "cell_type": "code",
   "execution_count": 4,
   "metadata": {
    "ExecuteTime": {
     "end_time": "2020-02-25T16:28:44.985509Z",
     "start_time": "2020-02-25T16:28:44.917549Z"
    }
   },
   "outputs": [],
   "source": [
    "def to_polar_np(velo):\n",
    "    if len(velo.shape) == 4:\n",
    "        velo = velo.transpose(1, 2, 3, 0)\n",
    "\n",
    "    if velo.shape[2] > 4:\n",
    "        assert velo.shape[0] <= 4\n",
    "        velo = velo.transpose(1, 2, 0, 3)\n",
    "        switch=True\n",
    "    else:\n",
    "        switch=False\n",
    "    \n",
    "    # assumes r x n/r x (3,4) velo\n",
    "    dist = np.sqrt(velo[:, :, 0] ** 2 + velo[:, :, 1] ** 2)\n",
    "    # theta = np.arctan2(velo[:, 1], velo[:, 0])\n",
    "    out = np.stack([dist, velo[:, :, 2]], axis=2)\n",
    "    \n",
    "    if switch:\n",
    "        out = out.transpose(2, 0, 1, 3)\n",
    "\n",
    "    if len(velo.shape) == 4: \n",
    "        out = out.transpose(3, 0, 1, 2)\n",
    "    \n",
    "    return out\n",
    "\n",
    "def from_polar_np(velo):\n",
    "    angles = np.linspace(0, np.pi * 2, velo.shape[-1])\n",
    "    dist, z = velo[:, 0], velo[:, 1]\n",
    "    x = np.cos(angles) * dist\n",
    "    y = np.sin(angles) * dist\n",
    "    out = np.stack([x,y,z], axis=1)\n",
    "    return out.astype('float32')\n",
    "\n",
    "def remove_zeros(pc):\n",
    "    xx = torch.cuda.FloatTensor(pc)\n",
    "    if xx.dim() == 3: \n",
    "        xx = xx.unsqueeze(0)\n",
    "\n",
    "    iters = 0\n",
    "    pad = 2\n",
    "    ks = 5\n",
    "    while (xx[:, 0] == 0).sum() > 0 : \n",
    "        if iters  > 100:\n",
    "            print(\"Exceeded {} iterations\".format(iters))\n",
    "            raise ValueError()\n",
    "            ks += 2\n",
    "            pad += 1\n",
    "        \n",
    "        mask = (xx[:, 0] == 0).unsqueeze(1).float()\n",
    "        out_a = F.max_pool2d(xx[:, 0], ks, padding=pad, stride=1)\n",
    "#         out_b = -F.max_pool2d(-xx[:, 1], ks, padding=pad, stride=1)\n",
    "        out_b = F.max_pool2d(xx[:, 1], ks, padding=pad, stride=1)   # Changing this since our z = -z from carla\n",
    "        #out_b_ = (xx[:, 1]).min(dim=-1, keepdim=True)[0].expand_as(out_b)\n",
    "        #out_b = torch.cat([out_b_[:, :10], out_b[:, 10:]], dim=1)\n",
    "        out_b = out_b.expand_as(out_a)\n",
    "        out = torch.stack([out_a, out_b], dim=1)\n",
    "        mask = (xx[:, 0] == 0).unsqueeze(1)\n",
    "        mask = mask.float()\n",
    "        xx = xx * (1 - mask) + (mask) * out\n",
    "        iters += 1\n",
    "\n",
    "    return xx.cpu().data.numpy()\n",
    "\n",
    "def preprocess_dataset_for_interpolate(dataset):\n",
    "    print(\"Preprocessing\")\n",
    "    dist = dataset[:, :, :, 0] ** 2 + dataset[:, :, :, 1] ** 2\n",
    "    mask = (dist < 7)\n",
    "    dataset = dataset * (1 - np.expand_dims(mask, -1))\n",
    "\n",
    "    dataset = to_polar_np(dataset).transpose(0, 3, 1, 2)\n",
    "    for i in trange(dataset.shape[0]):\n",
    "        try:\n",
    "            pp = remove_zeros(dataset[i]).squeeze(0)\n",
    "            dataset[i] = pp\n",
    "        except Exception as e:\n",
    "            print(\"Exception in zeros functions : {}\".format(e))\n",
    "            remove += [i]\n",
    "    return dataset\n",
    "\n",
    "def interpolate_for_not_ground_image(img, scaleby):\n",
    "    img_z = img[:,:,2]\n",
    "    img_z_linear = cv2.resize(img_z,None,fx=1,fy=scaleby, interpolation = cv2.INTER_LINEAR)\n",
    "    img_xy = img[:,:,:2]\n",
    "    img_xy_nearest = cv2.resize(img_xy,None,fx=1,fy=scaleby, interpolation = cv2.INTER_NEAREST)\n",
    "\n",
    "    new_img = np.concatenate((img_xy_nearest, np.expand_dims(img_z_linear, axis=-1)), axis=-1)\n",
    "    return new_img\n",
    "\n",
    "def interpolate_for_ground_image(img, scaleby):\n",
    "    img_z = img[:,:,2]\n",
    "    img_z_nearest = cv2.resize(img_z,None,fx=1,fy=scaleby, interpolation = cv2.INTER_NEAREST)\n",
    "    img_xy = img[:,:,:2]\n",
    "    img_xy_linear = cv2.resize(img_xy,None,fx=1,fy=scaleby, interpolation = cv2.INTER_LINEAR)\n",
    "\n",
    "    new_img = np.concatenate((img_xy_linear, np.expand_dims(img_z_nearest, axis=-1)), axis=-1)\n",
    "    return new_img\n",
    "\n",
    "def beam_interpolation(arrayray, scaleby=4, mask_thresh=0.75):  # scaleby is 4 for going from 16 to 64\n",
    "    # Remove zeros\n",
    "    dataset = preprocess_dataset_for_interpolate(arrayray)\n",
    "    dataset = dataset.transpose(0,2,3,1)\n",
    "\n",
    "    print(\"Create new dataset\")\n",
    "    new_dataset_list = []\n",
    "    for polar_img in tqdm(dataset):\n",
    "        # polar_img = dataset[100,:,:]\n",
    "        # Convert back to xyz\n",
    "        img = from_polar_np(np.expand_dims(polar_img.transpose(2,0,1), axis=0))[0].transpose(1,2,0)\n",
    "\n",
    "        # Get Ground mask\n",
    "        img_z = img[:,:,2]\n",
    "        mask_channel = (img_z < mask_thresh).astype(int)\n",
    "        mask_not_ground = np.expand_dims(mask_channel, axis=-1)\n",
    "        \n",
    "        # Interpolate separately for ground and non-ground points\n",
    "        img_ground  = img * (1-mask_not_ground)\n",
    "        new_img_ground = interpolate_for_ground_image(img_ground, scaleby)        \n",
    "        img_not_ground  = img * mask_not_ground\n",
    "        new_img_not_ground = interpolate_for_not_ground_image(img_not_ground, scaleby)\n",
    "        new_mask_channel = cv2.resize(mask_not_ground,None,fx=1,fy=scaleby, interpolation = cv2.INTER_NEAREST)\n",
    "        new_mask_not_ground = np.expand_dims(new_mask_channel, axis=-1)\n",
    "\n",
    "        # Extract the new image from separate interpolations based on ground mask\n",
    "        new_img = (new_img_ground * (1-new_mask_not_ground)) + (new_img_not_ground * new_mask_not_ground)\n",
    "        new_dataset_list.append(new_img)\n",
    "        gc.collect()\n",
    "\n",
    "    new_dataset = np.array(new_dataset_list)\n",
    "    return new_dataset"
   ]
  },
  {
   "cell_type": "code",
   "execution_count": 5,
   "metadata": {
    "ExecuteTime": {
     "end_time": "2020-02-25T16:29:13.895681Z",
     "start_time": "2020-02-25T16:28:48.570633Z"
    }
   },
   "outputs": [
    {
     "name": "stdout",
     "output_type": "stream",
     "text": [
      "(687, 16, 1024, 4)\n",
      "Preprocessing\n"
     ]
    },
    {
     "name": "stderr",
     "output_type": "stream",
     "text": [
      "100%|██████████| 687/687 [00:03<00:00, 213.05it/s]\n",
      "  1%|          | 4/687 [00:00<00:20, 33.43it/s]"
     ]
    },
    {
     "name": "stdout",
     "output_type": "stream",
     "text": [
      "Create new dataset\n"
     ]
    },
    {
     "name": "stderr",
     "output_type": "stream",
     "text": [
      "100%|██████████| 687/687 [00:21<00:00, 32.43it/s]\n"
     ]
    },
    {
     "name": "stdout",
     "output_type": "stream",
     "text": [
      "(687, 64, 1024, 3)\n"
     ]
    }
   ],
   "source": [
    "NPY_PATH = \"/home/saby/Projects/ati/data/data/datasets/Real_World/pair_transform/dynamic_out_npy/1.npy\"\n",
    "arr = np.load(NPY_PATH)\n",
    "print(arr.shape)\n",
    "new_arr = beam_interpolation(arr, scaleby=4)\n",
    "print(new_arr.shape)"
   ]
  },
  {
   "cell_type": "raw",
   "metadata": {
    "ExecuteTime": {
     "end_time": "2020-02-24T23:38:36.413875Z",
     "start_time": "2020-02-24T23:39:11.048Z"
    }
   },
   "source": [
    "path = \"./temp/\"\n",
    "for idx, img in tqdm(enumerate(new_arr), total=new_arr.shape[0]):\n",
    "    this_pcd = create_pcd(img)\n",
    "    fname = str(idx+1) + \".ply\"\n",
    "    o3d.io.write_point_cloud(os.path.join(path,fname), this_pcd, write_ascii=True)"
   ]
  },
  {
   "cell_type": "code",
   "execution_count": null,
   "metadata": {
    "ExecuteTime": {
     "end_time": "2020-02-24T23:41:15.283850Z",
     "start_time": "2020-02-24T23:41:15.194461Z"
    }
   },
   "outputs": [],
   "source": [
    "assert False"
   ]
  },
  {
   "cell_type": "code",
   "execution_count": null,
   "metadata": {},
   "outputs": [],
   "source": []
  },
  {
   "cell_type": "code",
   "execution_count": null,
   "metadata": {},
   "outputs": [],
   "source": []
  },
  {
   "cell_type": "code",
   "execution_count": null,
   "metadata": {},
   "outputs": [],
   "source": []
  },
  {
   "cell_type": "raw",
   "metadata": {
    "ExecuteTime": {
     "end_time": "2020-02-24T19:55:13.309591Z",
     "start_time": "2020-02-24T19:55:07.888544Z"
    }
   },
   "source": [
    "dataset = preprocess(arr, 100)\n",
    "dataset.shape"
   ]
  },
  {
   "cell_type": "code",
   "execution_count": null,
   "metadata": {
    "ExecuteTime": {
     "end_time": "2020-02-25T16:27:51.955029Z",
     "start_time": "2020-02-25T16:27:51.944215Z"
    }
   },
   "outputs": [],
   "source": [
    "dataset.shape"
   ]
  },
  {
   "cell_type": "code",
   "execution_count": null,
   "metadata": {
    "ExecuteTime": {
     "end_time": "2020-02-24T23:41:15.286485Z",
     "start_time": "2020-02-24T23:41:41.850Z"
    }
   },
   "outputs": [],
   "source": [
    "dataset = dataset.transpose(0,2,3,1)\n",
    "dataset.shape"
   ]
  },
  {
   "cell_type": "code",
   "execution_count": null,
   "metadata": {},
   "outputs": [],
   "source": []
  },
  {
   "cell_type": "code",
   "execution_count": null,
   "metadata": {},
   "outputs": [],
   "source": []
  },
  {
   "cell_type": "code",
   "execution_count": null,
   "metadata": {
    "ExecuteTime": {
     "end_time": "2020-02-24T23:41:15.287566Z",
     "start_time": "2020-02-24T23:41:41.854Z"
    }
   },
   "outputs": [],
   "source": [
    "polar_img = dataset[100,:,:]\n",
    "polar_img.shape"
   ]
  },
  {
   "cell_type": "code",
   "execution_count": null,
   "metadata": {
    "ExecuteTime": {
     "end_time": "2020-02-24T23:41:15.288515Z",
     "start_time": "2020-02-24T23:41:41.856Z"
    }
   },
   "outputs": [],
   "source": [
    "# img=polar_img\n",
    "img = from_polar_np(np.expand_dims(polar_img.transpose(2,0,1), axis=0))[0].transpose(1,2,0)\n",
    "img.shape"
   ]
  },
  {
   "cell_type": "raw",
   "metadata": {
    "ExecuteTime": {
     "end_time": "2020-02-24T18:42:48.838839Z",
     "start_time": "2020-02-24T18:42:48.830805Z"
    }
   },
   "source": [
    "img = np.concatenate((img, np.zeros((img.shape[0], img.shape[1], 1))), axis=2)\n",
    "img.shape"
   ]
  },
  {
   "cell_type": "code",
   "execution_count": 10,
   "metadata": {
    "ExecuteTime": {
     "end_time": "2020-02-25T16:30:10.554745Z",
     "start_time": "2020-02-25T16:30:10.549844Z"
    }
   },
   "outputs": [],
   "source": [
    "prev_img = arr[0,:,:,:3]\n",
    "img = new_arr[0]"
   ]
  },
  {
   "cell_type": "code",
   "execution_count": null,
   "metadata": {
    "ExecuteTime": {
     "end_time": "2020-02-24T17:28:48.424834Z",
     "start_time": "2020-02-24T17:28:48.421688Z"
    }
   },
   "outputs": [],
   "source": []
  },
  {
   "cell_type": "code",
   "execution_count": 11,
   "metadata": {
    "ExecuteTime": {
     "end_time": "2020-02-25T16:30:11.891682Z",
     "start_time": "2020-02-25T16:30:11.638661Z"
    }
   },
   "outputs": [
    {
     "name": "stdout",
     "output_type": "stream",
     "text": [
      "(16, 1024, 3)\n"
     ]
    },
    {
     "data": {
      "application/vnd.jupyter.widget-view+json": {
       "model_id": "8db19e3004da485b98bf7f3be81f97ab",
       "version_major": 2,
       "version_minor": 0
      },
      "text/plain": [
       "JVisualizer with 1 geometries"
      ]
     },
     "metadata": {},
     "output_type": "display_data"
    }
   ],
   "source": [
    "print(prev_img.shape)\n",
    "draw_pcd(create_pcd(prev_img))"
   ]
  },
  {
   "cell_type": "code",
   "execution_count": 12,
   "metadata": {
    "ExecuteTime": {
     "end_time": "2020-02-25T16:30:15.305967Z",
     "start_time": "2020-02-25T16:30:14.475220Z"
    }
   },
   "outputs": [
    {
     "name": "stdout",
     "output_type": "stream",
     "text": [
      "(64, 1024, 3)\n"
     ]
    },
    {
     "data": {
      "application/vnd.jupyter.widget-view+json": {
       "model_id": "9682c7a113f148bc9c80a3abb6353077",
       "version_major": 2,
       "version_minor": 0
      },
      "text/plain": [
       "JVisualizer with 1 geometries"
      ]
     },
     "metadata": {},
     "output_type": "display_data"
    }
   ],
   "source": [
    "print(img.shape)\n",
    "draw_pcd(create_pcd(img))"
   ]
  },
  {
   "cell_type": "raw",
   "metadata": {
    "ExecuteTime": {
     "end_time": "2020-02-24T19:46:37.064243Z",
     "start_time": "2020-02-24T19:46:36.282248Z"
    }
   },
   "source": [
    "img_nearest = cv2.resize(img,None,fx=1,fy=4, interpolation = cv2.INTER_NEAREST)\n",
    "print(img_nearest.shape)\n",
    "\n",
    "draw_pcd(create_pcd(img_nearest))"
   ]
  },
  {
   "cell_type": "code",
   "execution_count": null,
   "metadata": {},
   "outputs": [],
   "source": []
  },
  {
   "cell_type": "raw",
   "metadata": {
    "ExecuteTime": {
     "end_time": "2020-02-24T22:49:38.483482Z",
     "start_time": "2020-02-24T22:49:37.595700Z"
    }
   },
   "source": [
    "img_linear = cv2.resize(img,None,fx=1,fy=4, interpolation = cv2.INTER_LINEAR)\n",
    "print(img_linear.shape)\n",
    "\n",
    "this_pcd = create_pcd(img_linear)\n",
    "draw_pcd(this_pcd)"
   ]
  },
  {
   "cell_type": "code",
   "execution_count": null,
   "metadata": {
    "ExecuteTime": {
     "end_time": "2020-02-24T23:41:15.290502Z",
     "start_time": "2020-02-24T23:41:41.968Z"
    },
    "scrolled": true
   },
   "outputs": [],
   "source": [
    "filtered_pcd, _ = this_pcd.remove_radius_outlier(nb_points = 20, radius = 0.75)\n",
    "draw_pcd(filtered_pcd)"
   ]
  },
  {
   "cell_type": "code",
   "execution_count": null,
   "metadata": {},
   "outputs": [],
   "source": []
  },
  {
   "cell_type": "code",
   "execution_count": null,
   "metadata": {
    "ExecuteTime": {
     "end_time": "2020-02-24T23:41:15.291405Z",
     "start_time": "2020-02-24T23:41:41.971Z"
    }
   },
   "outputs": [],
   "source": [
    "img_z = img[:,:,2]\n",
    "img_z_linear = cv2.resize(img_z,None,fx=1,fy=4, interpolation = cv2.INTER_LINEAR)\n",
    "print(img_z_linear.shape)\n",
    "\n",
    "img_xy = img[:,:,:2]\n",
    "img_xy_nearest = cv2.resize(img_xy,None,fx=1,fy=4, interpolation = cv2.INTER_NEAREST)\n",
    "print(img_xy_nearest.shape)\n",
    "\n",
    "new_img = np.concatenate((img_xy_nearest, np.expand_dims(img_z_linear, axis=-1)), axis=-1)\n",
    "print(new_img.shape)\n",
    "\n",
    "new_this_pcd = create_pcd(new_img)\n",
    "draw_pcd(new_this_pcd)"
   ]
  },
  {
   "cell_type": "code",
   "execution_count": null,
   "metadata": {
    "ExecuteTime": {
     "end_time": "2020-02-24T23:41:15.292278Z",
     "start_time": "2020-02-24T23:41:41.973Z"
    }
   },
   "outputs": [],
   "source": [
    "new_filtered_pcd, _ = new_this_pcd.remove_radius_outlier(nb_points = 20, radius = 1)\n",
    "draw_pcd(new_filtered_pcd)"
   ]
  },
  {
   "cell_type": "code",
   "execution_count": null,
   "metadata": {},
   "outputs": [],
   "source": []
  },
  {
   "cell_type": "code",
   "execution_count": null,
   "metadata": {
    "ExecuteTime": {
     "end_time": "2020-02-24T23:41:15.293271Z",
     "start_time": "2020-02-24T23:41:41.977Z"
    }
   },
   "outputs": [],
   "source": [
    "img.shape"
   ]
  },
  {
   "cell_type": "raw",
   "metadata": {
    "ExecuteTime": {
     "end_time": "2020-02-24T22:38:47.477070Z",
     "start_time": "2020-02-24T22:38:47.266566Z"
    }
   },
   "source": [
    "\n",
    "draw_pcd(create_pcd(img * np.expand_dims((img_z < 0.75).astype(int), axis=-1)))"
   ]
  },
  {
   "cell_type": "code",
   "execution_count": null,
   "metadata": {
    "ExecuteTime": {
     "end_time": "2020-02-24T23:41:15.294177Z",
     "start_time": "2020-02-24T23:41:42.009Z"
    }
   },
   "outputs": [],
   "source": [
    "img_z = img[:,:,2]\n",
    "mask_channel = (img_z < 0.75).astype(int)\n",
    "mask_not_ground = np.expand_dims(mask_channel, axis=-1)\n",
    "img_ground  = img * (1-mask_not_ground)\n",
    "img_not_ground  = img * mask_not_ground"
   ]
  },
  {
   "cell_type": "code",
   "execution_count": null,
   "metadata": {
    "ExecuteTime": {
     "end_time": "2020-02-24T23:41:15.295304Z",
     "start_time": "2020-02-24T23:41:42.011Z"
    }
   },
   "outputs": [],
   "source": [
    "new_img_ground = interpolate_for_ground_image(img_ground)\n",
    "new_img_not_ground = interpolate_for_not_ground_image(img_not_ground)\n",
    "new_mask_channel = cv2.resize(mask_not_ground,None,fx=1,fy=4, interpolation = cv2.INTER_NEAREST)\n",
    "new_mask_not_ground = np.expand_dims(new_mask_channel, axis=-1)"
   ]
  },
  {
   "cell_type": "code",
   "execution_count": null,
   "metadata": {
    "ExecuteTime": {
     "end_time": "2020-02-24T23:41:15.296234Z",
     "start_time": "2020-02-24T23:41:42.014Z"
    }
   },
   "outputs": [],
   "source": [
    "new_img = (new_img_ground * (1-new_mask_not_ground)) + (new_img_not_ground * new_mask_not_ground)"
   ]
  },
  {
   "cell_type": "code",
   "execution_count": null,
   "metadata": {
    "ExecuteTime": {
     "end_time": "2020-02-24T23:41:15.297051Z",
     "start_time": "2020-02-24T23:41:42.016Z"
    }
   },
   "outputs": [],
   "source": [
    "new_this_pcd =  create_pcd(new_img)\n",
    "new_filtered_pcd, _ = new_this_pcd.remove_radius_outlier(nb_points = 10, radius = 0.75)\n",
    "draw_pcd(new_filtered_pcd)"
   ]
  },
  {
   "cell_type": "code",
   "execution_count": null,
   "metadata": {},
   "outputs": [],
   "source": []
  },
  {
   "cell_type": "code",
   "execution_count": null,
   "metadata": {},
   "outputs": [],
   "source": []
  },
  {
   "cell_type": "code",
   "execution_count": null,
   "metadata": {},
   "outputs": [],
   "source": []
  },
  {
   "cell_type": "code",
   "execution_count": null,
   "metadata": {},
   "outputs": [],
   "source": []
  },
  {
   "cell_type": "raw",
   "metadata": {
    "ExecuteTime": {
     "end_time": "2020-02-24T19:04:37.435849Z",
     "start_time": "2020-02-24T19:04:36.408568Z"
    },
    "scrolled": false
   },
   "source": [
    "img_linear = cv2.resize(img,None,fx=1,fy=4, interpolation = cv2.INTER_LINEAR)\n",
    "print(img_linear.shape)\n",
    "\n",
    "draw_pcd(create_pcd(img_linear))"
   ]
  },
  {
   "cell_type": "raw",
   "metadata": {
    "ExecuteTime": {
     "end_time": "2020-02-24T19:28:46.462188Z",
     "start_time": "2020-02-24T19:28:45.644101Z"
    }
   },
   "source": [
    "img_area = cv2.resize(img,None,fx=1,fy=4, interpolation = cv2.INTER_AREA)\n",
    "print(img_area.shape)\n",
    "\n",
    "draw_pcd(create_pcd(img_area))"
   ]
  },
  {
   "cell_type": "raw",
   "metadata": {
    "ExecuteTime": {
     "end_time": "2020-02-24T19:46:41.786278Z",
     "start_time": "2020-02-24T19:46:40.890544Z"
    }
   },
   "source": [
    "img_cubic = cv2.resize(img,None,fx=1,fy=4, interpolation = cv2.INTER_CUBIC)\n",
    "print(img_cubic.shape)\n",
    "\n",
    "draw_pcd(create_pcd(img_cubic))"
   ]
  },
  {
   "cell_type": "raw",
   "metadata": {
    "ExecuteTime": {
     "end_time": "2020-02-24T19:46:42.569670Z",
     "start_time": "2020-02-24T19:46:41.787853Z"
    }
   },
   "source": [
    "img_lanczos4 = cv2.resize(img,None,fx=1,fy=4, interpolation = cv2.INTER_LANCZOS4)\n",
    "print(img_lanczos4.shape)\n",
    "\n",
    "draw_pcd(create_pcd(img_lanczos4))"
   ]
  },
  {
   "cell_type": "code",
   "execution_count": null,
   "metadata": {},
   "outputs": [],
   "source": []
  },
  {
   "cell_type": "code",
   "execution_count": null,
   "metadata": {},
   "outputs": [],
   "source": []
  },
  {
   "cell_type": "code",
   "execution_count": null,
   "metadata": {},
   "outputs": [],
   "source": []
  }
 ],
 "metadata": {
  "kernelspec": {
   "display_name": "Python 3",
   "language": "python",
   "name": "python3"
  },
  "language_info": {
   "codemirror_mode": {
    "name": "ipython",
    "version": 3
   },
   "file_extension": ".py",
   "mimetype": "text/x-python",
   "name": "python",
   "nbconvert_exporter": "python",
   "pygments_lexer": "ipython3",
   "version": "3.6.10"
  },
  "toc": {
   "base_numbering": 1,
   "nav_menu": {},
   "number_sections": true,
   "sideBar": true,
   "skip_h1_title": false,
   "title_cell": "Table of Contents",
   "title_sidebar": "Contents",
   "toc_cell": false,
   "toc_position": {},
   "toc_section_display": true,
   "toc_window_display": false
  }
 },
 "nbformat": 4,
 "nbformat_minor": 4
}
