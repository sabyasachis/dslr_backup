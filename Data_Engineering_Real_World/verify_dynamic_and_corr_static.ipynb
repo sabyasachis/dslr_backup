{
 "cells": [
  {
   "cell_type": "code",
   "execution_count": 1,
   "metadata": {
    "ExecuteTime": {
     "end_time": "2020-02-25T15:21:33.763699Z",
     "start_time": "2020-02-25T15:21:32.507290Z"
    }
   },
   "outputs": [],
   "source": [
    "import open3d as o3d\n",
    "import gc\n",
    "import numpy as np\n",
    "import pandas as pd\n",
    "import matplotlib.pyplot as plt\n",
    "import transforms3d\n",
    "import copy"
   ]
  },
  {
   "cell_type": "code",
   "execution_count": 2,
   "metadata": {
    "ExecuteTime": {
     "end_time": "2020-02-25T15:23:25.997887Z",
     "start_time": "2020-02-25T15:21:33.765369Z"
    }
   },
   "outputs": [
    {
     "name": "stdout",
     "output_type": "stream",
     "text": [
      "starting\n",
      "static done\n",
      "dynamic done\n"
     ]
    }
   ],
   "source": [
    "static_npy = \"/home/saby/Projects/ati/data/data/datasets/Real_World/pair_transform/static_out_npy/0.npy\"\n",
    "dynamic_npy = \"/home/saby/Projects/ati/data/data/datasets/Real_World/pair_transform/dynamic_out_npy/0.npy\"\n",
    "\n",
    "print(\"starting\")\n",
    "static_arr = np.load(static_npy)\n",
    "print(\"static done\")\n",
    "dynamic_arr = np.load(dynamic_npy)\n",
    "print(\"dynamic done\")"
   ]
  },
  {
   "cell_type": "code",
   "execution_count": 3,
   "metadata": {
    "ExecuteTime": {
     "end_time": "2020-02-25T15:23:26.006385Z",
     "start_time": "2020-02-25T15:23:26.000362Z"
    }
   },
   "outputs": [
    {
     "data": {
      "text/plain": [
       "(14000, 16, 1024, 4)"
      ]
     },
     "execution_count": 3,
     "metadata": {},
     "output_type": "execute_result"
    }
   ],
   "source": [
    "static_arr.shape"
   ]
  },
  {
   "cell_type": "code",
   "execution_count": 4,
   "metadata": {
    "ExecuteTime": {
     "end_time": "2020-02-25T15:23:26.037858Z",
     "start_time": "2020-02-25T15:23:26.008482Z"
    }
   },
   "outputs": [
    {
     "data": {
      "text/plain": [
       "(14000, 16, 1024, 4)"
      ]
     },
     "execution_count": 4,
     "metadata": {},
     "output_type": "execute_result"
    }
   ],
   "source": [
    "dynamic_arr.shape"
   ]
  },
  {
   "cell_type": "code",
   "execution_count": 13,
   "metadata": {
    "ExecuteTime": {
     "end_time": "2020-02-25T15:45:40.234829Z",
     "start_time": "2020-02-25T15:45:40.230155Z"
    }
   },
   "outputs": [],
   "source": [
    "static_img = static_arr[1]\n",
    "dynamic_img = dynamic_arr[1]"
   ]
  },
  {
   "cell_type": "code",
   "execution_count": 21,
   "metadata": {
    "ExecuteTime": {
     "end_time": "2020-02-25T15:47:48.242246Z",
     "start_time": "2020-02-25T15:47:48.234029Z"
    }
   },
   "outputs": [],
   "source": [
    "static_pcd = o3d.geometry.PointCloud()\n",
    "static_pcd.points = o3d.utility.Vector3dVector(static_img.reshape(-1,4)[:,:3])\n",
    "\n",
    "dynamic_pcd = o3d.geometry.PointCloud()\n",
    "dynamic_pcd.points = o3d.utility.Vector3dVector(dynamic_img.reshape(-1,4)[:,:3])"
   ]
  },
  {
   "cell_type": "code",
   "execution_count": 18,
   "metadata": {
    "ExecuteTime": {
     "end_time": "2020-02-25T15:47:13.787646Z",
     "start_time": "2020-02-25T15:47:13.769616Z"
    }
   },
   "outputs": [],
   "source": [
    "# Function to get transformation matrix for a given pose\n",
    "def pose2matrix(translation_list, rotation_angle_list, zoom_list=[1,1,1]):\n",
    "    # trans_vec = np.array(translation_list)\n",
    "    rot_ang = [np.deg2rad(ang) for ang in rotation_angle_list ]\n",
    "    rot_mat = transforms3d.euler.euler2mat(rot_ang[0], rot_ang[1], rot_ang[2])\n",
    "    zoom_vec = np.array(zoom_list)\n",
    "    # transform_mat = transforms3d.affines.compose(trans_vec, rot_mat, zoom_vec)\n",
    "    transform_mat = transforms3d.affines.compose(translation_list, rot_mat, zoom_list)\n",
    "    return transform_mat\n",
    "\n",
    "def draw_registration_result(src_pcd, dst_pcd, x_pt, y_pt, theta):    \n",
    "    src_pcd_tmp = copy.deepcopy(src_pcd)\n",
    "    dst_pcd_tmp = copy.deepcopy(dst_pcd)\n",
    "    \n",
    "    src_pcd_tmp.paint_uniform_color([1, 0, 0])  # red source\n",
    "    dst_pcd_tmp.paint_uniform_color([0, 0, 1])  # blue target\n",
    "    \n",
    "    transform_mat = pose2matrix([x_pt, y_pt, 0], [0,0,theta])\n",
    "    dst_pcd_tmp.transform(transform_mat)\n",
    "    \n",
    "    visualizer = o3d.JVisualizer()\n",
    "    visualizer.add_geometry(src_pcd_tmp)\n",
    "    visualizer.add_geometry(dst_pcd_tmp)\n",
    "    visualizer.show()\n",
    "    \n",
    "def draw_pcd(pcd, where='opn_nb'):\n",
    "    if where is 'opn_nb':\n",
    "        visualizer = o3d.JVisualizer()\n",
    "        visualizer.add_geometry(pcd)\n",
    "        visualizer.show()\n",
    "    elif where is 'opn_view':\n",
    "        o3d.visualization.draw_geometries([pcd], width=1280, height=800)\n",
    "    elif where is 'mat_3d':\n",
    "        plt.figure()\n",
    "        pts = np.asarray(pcd.points)\n",
    "        plt.scatter(pts[:,0], pts[:,1], pts[:,2])\n",
    "        plt.grid()\n",
    "        plt.show()\n",
    "    elif where is 'mat_2d':\n",
    "        plt.figure()\n",
    "        pts = np.asarray(pcd.points)\n",
    "        plt.scatter(pts[:,0], pts[:,1])\n",
    "        plt.grid()\n",
    "        plt.show()"
   ]
  },
  {
   "cell_type": "code",
   "execution_count": 16,
   "metadata": {
    "ExecuteTime": {
     "end_time": "2020-02-25T15:45:42.287234Z",
     "start_time": "2020-02-25T15:45:41.213063Z"
    }
   },
   "outputs": [
    {
     "data": {
      "application/vnd.jupyter.widget-view+json": {
       "model_id": "9fa9e97364f34dde8c7b5ce48049bd7b",
       "version_major": 2,
       "version_minor": 0
      },
      "text/plain": [
       "JVisualizer with 2 geometries"
      ]
     },
     "metadata": {},
     "output_type": "display_data"
    }
   ],
   "source": [
    "draw_registration_result(static_pcd, dynamic_pcd, 0, 0, 0)"
   ]
  },
  {
   "cell_type": "code",
   "execution_count": 24,
   "metadata": {
    "ExecuteTime": {
     "end_time": "2020-02-25T15:48:04.456726Z",
     "start_time": "2020-02-25T15:48:04.076387Z"
    }
   },
   "outputs": [
    {
     "data": {
      "application/vnd.jupyter.widget-view+json": {
       "model_id": "81316d5788e0467b874a94029308107e",
       "version_major": 2,
       "version_minor": 0
      },
      "text/plain": [
       "JVisualizer with 1 geometries"
      ]
     },
     "metadata": {},
     "output_type": "display_data"
    }
   ],
   "source": [
    "draw_pcd(dynamic_pcd.paint_uniform_color([0, 0, 1]))"
   ]
  },
  {
   "cell_type": "code",
   "execution_count": 25,
   "metadata": {
    "ExecuteTime": {
     "end_time": "2020-02-25T15:50:49.385835Z",
     "start_time": "2020-02-25T15:50:49.008519Z"
    }
   },
   "outputs": [
    {
     "data": {
      "application/vnd.jupyter.widget-view+json": {
       "model_id": "41ed862861ce4133989acf38d2fa0c2d",
       "version_major": 2,
       "version_minor": 0
      },
      "text/plain": [
       "JVisualizer with 1 geometries"
      ]
     },
     "metadata": {},
     "output_type": "display_data"
    }
   ],
   "source": [
    "draw_pcd(static_pcd.paint_uniform_color([1, 0, 0]))"
   ]
  },
  {
   "cell_type": "code",
   "execution_count": null,
   "metadata": {},
   "outputs": [],
   "source": []
  }
 ],
 "metadata": {
  "kernelspec": {
   "display_name": "Python 3",
   "language": "python",
   "name": "python3"
  },
  "language_info": {
   "codemirror_mode": {
    "name": "ipython",
    "version": 3
   },
   "file_extension": ".py",
   "mimetype": "text/x-python",
   "name": "python",
   "nbconvert_exporter": "python",
   "pygments_lexer": "ipython3",
   "version": "3.6.10"
  },
  "toc": {
   "base_numbering": 1,
   "nav_menu": {},
   "number_sections": true,
   "sideBar": true,
   "skip_h1_title": false,
   "title_cell": "Table of Contents",
   "title_sidebar": "Contents",
   "toc_cell": false,
   "toc_position": {},
   "toc_section_display": true,
   "toc_window_display": false
  }
 },
 "nbformat": 4,
 "nbformat_minor": 4
}
