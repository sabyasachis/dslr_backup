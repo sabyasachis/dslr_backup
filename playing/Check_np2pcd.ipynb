{
 "cells": [
  {
   "cell_type": "code",
   "execution_count": 1,
   "metadata": {
    "ExecuteTime": {
     "end_time": "2020-07-20T18:36:23.735189Z",
     "start_time": "2020-07-20T18:36:23.253131Z"
    }
   },
   "outputs": [],
   "source": [
    "import open3d as o3d\n",
    "import numpy as np"
   ]
  },
  {
   "cell_type": "code",
   "execution_count": 2,
   "metadata": {
    "ExecuteTime": {
     "end_time": "2020-07-20T18:36:24.560806Z",
     "start_time": "2020-07-20T18:36:24.548936Z"
    }
   },
   "outputs": [],
   "source": [
    "# Function to get pcd for given range image in torch.cuda\n",
    "def get_pcd_from_img(img, factor):\n",
    "    img = img * factor\n",
    "    frame = img\n",
    "    # frame_actual = np.array([frame_image[:29] for frame_image in frame])\n",
    "    frame_flat = frame.reshape((-1,3))\n",
    "    some_pcd = o3d.geometry.PointCloud()\n",
    "    some_arr = frame_flat\n",
    "    some_pcd.points = o3d.utility.Vector3dVector(some_arr)\n",
    "\n",
    "    return some_pcd\n",
    "\n",
    "def draw_pcd(pcd, where='mat_3d'):\n",
    "    if where is 'opn_nb':\n",
    "        visualizer = o3d.JVisualizer()\n",
    "        visualizer.add_geometry(pcd)\n",
    "        visualizer.show()\n",
    "    elif where is 'opn_view':\n",
    "        o3d.visualization.draw_geometries([pcd], width=1280, height=800)\n",
    "    elif where is 'mat_3d':\n",
    "        pts = np.asarray(pcd.points)\n",
    "        plt.scatter(pts[:,0], pts[:,1], pts[:,2])\n",
    "        plt.show()\n",
    "    elif where is 'mat_2d':\n",
    "        pts = np.asarray(pcd.points)\n",
    "        plt.scatter(pts[:,0], pts[:,1])\n",
    "        plt.show()"
   ]
  },
  {
   "cell_type": "code",
   "execution_count": 3,
   "metadata": {
    "ExecuteTime": {
     "end_time": "2020-07-20T18:36:30.110578Z",
     "start_time": "2020-07-20T18:36:26.680877Z"
    }
   },
   "outputs": [],
   "source": [
    "npy_path = \"/home/saby/Projects/ati/data/data/datasets/Carla/64beam-Data/testing/6/_out_out_npy/0.npy\"\n",
    "dataset = np.load(npy_path, allow_pickle=True)"
   ]
  },
  {
   "cell_type": "code",
   "execution_count": 4,
   "metadata": {
    "ExecuteTime": {
     "end_time": "2020-07-20T18:36:30.121590Z",
     "start_time": "2020-07-20T18:36:30.112310Z"
    }
   },
   "outputs": [
    {
     "data": {
      "text/plain": [
       "(6304, 64, 1024, 4)"
      ]
     },
     "execution_count": 4,
     "metadata": {},
     "output_type": "execute_result"
    }
   ],
   "source": [
    "dataset.shape"
   ]
  },
  {
   "cell_type": "code",
   "execution_count": 11,
   "metadata": {
    "ExecuteTime": {
     "end_time": "2020-07-20T20:55:48.620277Z",
     "start_time": "2020-07-20T20:55:48.611680Z"
    }
   },
   "outputs": [
    {
     "data": {
      "text/plain": [
       "(40, 1024, 3)"
      ]
     },
     "execution_count": 11,
     "metadata": {},
     "output_type": "execute_result"
    }
   ],
   "source": [
    "\n",
    "range_image = dataset[6000, 5:45,:,:3]\n",
    "range_image.shape"
   ]
  },
  {
   "cell_type": "code",
   "execution_count": 12,
   "metadata": {
    "ExecuteTime": {
     "end_time": "2020-07-20T20:55:52.381177Z",
     "start_time": "2020-07-20T20:55:52.370756Z"
    }
   },
   "outputs": [
    {
     "data": {
      "text/plain": [
       "geometry::PointCloud with 40960 points."
      ]
     },
     "execution_count": 12,
     "metadata": {},
     "output_type": "execute_result"
    }
   ],
   "source": [
    "pcd = get_pcd_from_img(range_image, 1)\n",
    "pcd"
   ]
  },
  {
   "cell_type": "code",
   "execution_count": 13,
   "metadata": {
    "ExecuteTime": {
     "end_time": "2020-07-20T20:55:55.336424Z",
     "start_time": "2020-07-20T20:55:54.814421Z"
    }
   },
   "outputs": [
    {
     "data": {
      "application/vnd.jupyter.widget-view+json": {
       "model_id": "449f5e58d53e452aabe7a57ed0c29b8b",
       "version_major": 2,
       "version_minor": 0
      },
      "text/plain": [
       "JVisualizer with 1 geometries"
      ]
     },
     "metadata": {},
     "output_type": "display_data"
    }
   ],
   "source": [
    "draw_pcd(pcd, where=\"opn_nb\")"
   ]
  },
  {
   "cell_type": "code",
   "execution_count": null,
   "metadata": {},
   "outputs": [],
   "source": []
  }
 ],
 "metadata": {
  "kernelspec": {
   "display_name": "Python 3",
   "language": "python",
   "name": "python3"
  },
  "language_info": {
   "codemirror_mode": {
    "name": "ipython",
    "version": 3
   },
   "file_extension": ".py",
   "mimetype": "text/x-python",
   "name": "python",
   "nbconvert_exporter": "python",
   "pygments_lexer": "ipython3",
   "version": "3.6.10"
  },
  "toc": {
   "base_numbering": 1,
   "nav_menu": {},
   "number_sections": true,
   "sideBar": true,
   "skip_h1_title": false,
   "title_cell": "Table of Contents",
   "title_sidebar": "Contents",
   "toc_cell": false,
   "toc_position": {},
   "toc_section_display": true,
   "toc_window_display": false
  }
 },
 "nbformat": 4,
 "nbformat_minor": 4
}
