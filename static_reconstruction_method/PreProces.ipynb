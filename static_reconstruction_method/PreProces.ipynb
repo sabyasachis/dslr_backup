{
 "cells": [
  {
   "cell_type": "code",
   "execution_count": 1,
   "metadata": {
    "ExecuteTime": {
     "end_time": "2020-02-23T23:45:50.235355Z",
     "start_time": "2020-02-23T23:45:49.229635Z"
    }
   },
   "outputs": [],
   "source": [
    "from torchvision import datasets, transforms\n",
    "import torch.utils.data\n",
    "import torch\n",
    "import sys\n",
    "import argparse\n",
    "import matplotlib.pyplot as plt\n",
    "# from utils import * \n",
    "from utils import *\n",
    "import open3d as o3d\n",
    "from models import *\n",
    "from collections import OrderedDict\n",
    "import os, shutil, gc\n",
    "from tqdm import tqdm_notebook\n",
    "import matplotlib.cm as cm\n",
    "import numpy as np"
   ]
  },
  {
   "cell_type": "code",
   "execution_count": null,
   "metadata": {
    "ExecuteTime": {
     "end_time": "2020-02-23T19:33:35.679540Z",
     "start_time": "2020-02-23T19:33:35.670570Z"
    }
   },
   "outputs": [],
   "source": [
    "%matplotlib notebook"
   ]
  },
  {
   "cell_type": "code",
   "execution_count": null,
   "metadata": {
    "ExecuteTime": {
     "end_time": "2020-02-23T19:33:35.717525Z",
     "start_time": "2020-02-23T19:33:35.682868Z"
    }
   },
   "outputs": [],
   "source": [
    "def get_quadrant(point):\n",
    "    if point[0] >= 0. and point[1] >= 0. :\n",
    "        return 0\n",
    "    elif point[0] <= 0. and point[1] >= 0. : \n",
    "        return 1\n",
    "    elif point[0] <= 0. and point[1] <= 0. : \n",
    "        return 2\n",
    "    elif point[0] >= 0. and point[1] <= 0. : \n",
    "        return 3\n",
    "    else :\n",
    "        raise Exception('invalid input %s', point) \n",
    "\n",
    "\n",
    "def passed_origin(x_t, x_t1):\n",
    "    if get_quadrant(x_t1) == 3 and get_quadrant(x_t) == 0: \n",
    "        return True\n",
    "    else : \n",
    "        return False\n",
    "\n",
    "\n",
    "def fit_quadrant(points, quadrant, desired_amt):\n",
    "    \n",
    "    \n",
    "    points = np.asarray(points)\n",
    "    slots = []\n",
    "    slot_size = np.pi / (2 * desired_amt)\n",
    "    for i in range(int(desired_amt)) : slots.append([])\n",
    "    if quadrant == 0: \n",
    "        points = points[::-1]\n",
    "    elif quadrant == 1 : \n",
    "        points[:, 0] = - points[:, 0]\n",
    "    elif quadrant == 2 :\n",
    "        points = points[::-1] \n",
    "        points[:, 0] = - points[:, 0]\n",
    "        points[:, 1] = - points[:, 1]\n",
    "    elif quadrant == 3 : \n",
    "        points[:, 1] = - points[:, 1]\n",
    "\n",
    "    # import pdb; pdb.set_trace()\n",
    "    for point in points :\n",
    "        angle = np.arctan(point[1] / (point[0]+0.000001))\n",
    "        index = min(int(angle / slot_size), desired_amt - 1)\n",
    "        slots[int(index)].append(point)\n",
    "\n",
    "    for i in range(len(slots)):\n",
    "        if len(slots[i]) == 0 : \n",
    "            slots[i] = np.array([0., 0., 0., 0.])\n",
    "        else :\n",
    "            full_slot = np.asarray(slots[i])\n",
    "            slots[i] = full_slot.mean(axis=0)\n",
    "\n",
    "    points = np.asarray(slots)\n",
    "    if quadrant == 0: \n",
    "        points = points[::-1]\n",
    "    elif quadrant == 1 : \n",
    "        points[:, 0] = - points[:, 0]\n",
    "    elif quadrant == 2 : \n",
    "        points = points[::-1]\n",
    "        points[:, 0] = - points[:, 0]\n",
    "        points[:, 1] = - points[:, 1]\n",
    "    elif quadrant == 3 : \n",
    "        points[:, 1] = - points[:, 1]\n",
    "\n",
    "    return points\n",
    "\n",
    "def parse_velo(velo):\n",
    "    # points closer to the origin (0,0,0) are at the end of the point cloud.\n",
    "    # invert the point cloud such that we begin near the origin. \n",
    "    \n",
    "    # returns: a H x 4 x ? array, split into quadrants\n",
    "    velo = velo[::-1]\n",
    "    lines = []\n",
    "    current_point = velo[0]\n",
    "    print(current_point)\n",
    "    current_quadrant = get_quadrant(current_point)\n",
    "    print(current_quadrant)\n",
    "    current_line = [[], [], [], []]\n",
    "    quadrant_switches = 0\n",
    "    pass_org = 0\n",
    "    for point in velo :\n",
    "        point_quadrant = get_quadrant(point)\n",
    "        \n",
    "        if passed_origin(current_point, point):\n",
    "            lines.append(current_line)\n",
    "            current_line = [[], [], [], []]\n",
    "#             print(\"passed_origin\")\n",
    "            pass_org += 1\n",
    "        current_line[point_quadrant].append(point)\n",
    "        current_quadrant = point_quadrant\n",
    "        current_point = point\n",
    "    print(\"Passed origin : {} times\".format(pass_org))\n",
    "    return lines\n",
    "\n",
    "\n",
    "def setmatch(lines,lenLines):\n",
    "    arr=[[np.array([0,0,0,0]),np.array([0,0,0,0])]]\n",
    "    if len(lines) > lenLines:\n",
    "        return lines[:lenLines]\n",
    "    else:\n",
    "        for i in range(abs(len(lines)-lenLines)):\n",
    "            lines.append(arr)\n",
    "    return lines\n",
    "\n",
    "def process_velo(velo, points_per_layer, stop=False):\n",
    "    \n",
    "    lenLines=RANGE_IMAGE_HEIGHT\n",
    "    lines = parse_velo(velo)\n",
    "#     inverse = quad_to_pc_inv(lines)\n",
    "#     lines = lines[2:-1]\n",
    "#     print(lines[])\n",
    "#     print((lines[0]))\n",
    "#     raise SystemError\n",
    "    print(len(lines), flush=True)\n",
    "    if(len(lines)!=lenLines):\n",
    "        lines=setmatch(lines,lenLines)\n",
    "    print(len(lines), flush=True)\n",
    "    if len(lines) != RANGE_IMAGE_HEIGHT : raise Exception('invalid nb un of lines')\n",
    "    out_tensor = np.zeros((RANGE_IMAGE_HEIGHT, points_per_layer, 4))\n",
    "    if stop:\n",
    "        import pdb; pdb.set_trace()\n",
    "        x = 1\n",
    "    for j in range(len(lines)):\n",
    "        line = lines[j]\n",
    "        out_line = np.zeros((points_per_layer, 4))\n",
    "        for i in range(len(line)):\n",
    "            if(len(line[i])==0):\n",
    "                line[i]=[np.array([0.0,0.0,0.0,0.0])]\n",
    "            gridded = fit_quadrant(line[i], i, points_per_layer / 4)\n",
    "            out_tensor[j][i*int(points_per_layer/4):(i+1)*int(points_per_layer/4), :] = gridded[::-1]\n",
    "\n",
    "    return out_tensor#, inverse\n",
    "\n",
    "\n",
    "def quad_to_pc_inv(lines, th=3.):\n",
    "    # lines is a 63 x 4 array, where each slot has an array of 4d/3d points\n",
    "    # goal : get an array of points that fills empty spaces\n",
    "    points = []\n",
    "    for i in range(len(lines)) :\n",
    "        line = lines[i] \n",
    "        distance = []\n",
    "        for quad in line : \n",
    "            for point in quad : \n",
    "                x, y, z = point[:3]\n",
    "                distance.append(x**2 + y**2)\n",
    "        distance = np.array(distance)\n",
    "        std = distance.std()\n",
    "        sorted_indices = np.argsort(distance)\n",
    "        median_index = sorted_indices[int(sorted_indices.shape[0]*0.95)]\n",
    "        median = distance[median_index]\n",
    "\n",
    "        for quad in line : \n",
    "            for point in quad : \n",
    "                x, y, z = point[:3]\n",
    "                dist = x ** 2 + y ** 2 \n",
    "                if dist < median and (median/dist-1.) > th:#*std : \n",
    "                    # blocked point --> scale to get real pt\n",
    "                    scale = np.sqrt(median / dist)\n",
    "                    scaled = scale * point\n",
    "                    points.append(scaled)\n",
    "\n",
    "\n",
    "    return np.array(points)\n"
   ]
  },
  {
   "cell_type": "code",
   "execution_count": null,
   "metadata": {
    "ExecuteTime": {
     "end_time": "2020-02-23T19:38:56.336234Z",
     "start_time": "2020-02-23T19:38:56.015608Z"
    }
   },
   "outputs": [],
   "source": [
    "processed_carla_lidar = process_velo(carla_lidar, RANGE_IMAGE_WIDTH)"
   ]
  },
  {
   "cell_type": "code",
   "execution_count": null,
   "metadata": {
    "ExecuteTime": {
     "end_time": "2020-02-23T19:38:57.183761Z",
     "start_time": "2020-02-23T19:38:57.085705Z"
    }
   },
   "outputs": [],
   "source": [
    "processed_ati_lidar = process_velo(ati_lidar, RANGE_IMAGE_WIDTH)"
   ]
  },
  {
   "cell_type": "code",
   "execution_count": null,
   "metadata": {
    "ExecuteTime": {
     "end_time": "2020-02-23T19:38:59.586393Z",
     "start_time": "2020-02-23T19:38:59.193345Z"
    }
   },
   "outputs": [],
   "source": [
    "processed_ati_lidar_sort = process_velo(ati_lidar_sort, RANGE_IMAGE_WIDTH)"
   ]
  },
  {
   "cell_type": "code",
   "execution_count": null,
   "metadata": {
    "ExecuteTime": {
     "end_time": "2020-02-23T19:41:32.949517Z",
     "start_time": "2020-02-23T19:41:32.942004Z"
    }
   },
   "outputs": [],
   "source": [
    "processed_ati_lidar_sort[:,:,:3]"
   ]
  },
  {
   "cell_type": "code",
   "execution_count": null,
   "metadata": {
    "ExecuteTime": {
     "end_time": "2020-02-23T19:11:43.307900Z",
     "start_time": "2020-02-23T19:11:43.300384Z"
    }
   },
   "outputs": [],
   "source": []
  },
  {
   "cell_type": "code",
   "execution_count": null,
   "metadata": {},
   "outputs": [],
   "source": []
  },
  {
   "cell_type": "code",
   "execution_count": null,
   "metadata": {},
   "outputs": [],
   "source": []
  },
  {
   "cell_type": "code",
   "execution_count": null,
   "metadata": {},
   "outputs": [],
   "source": []
  },
  {
   "cell_type": "code",
   "execution_count": null,
   "metadata": {},
   "outputs": [],
   "source": []
  },
  {
   "cell_type": "code",
   "execution_count": null,
   "metadata": {
    "ExecuteTime": {
     "end_time": "2020-02-23T19:33:47.218294Z",
     "start_time": "2020-02-23T19:33:47.214172Z"
    }
   },
   "outputs": [],
   "source": [
    "RANGE_IMAGE_HEIGHT = 16\n",
    "RANGE_IMAGE_WIDTH  = 1024"
   ]
  },
  {
   "cell_type": "code",
   "execution_count": null,
   "metadata": {
    "ExecuteTime": {
     "end_time": "2020-02-23T19:33:52.236422Z",
     "start_time": "2020-02-23T19:33:52.186275Z"
    }
   },
   "outputs": [],
   "source": [
    "old_npy_file_path = \"/home/saby/Projects/ati/data/data/datasets/Carla/16beam-Data/small_map/pair_transform_single/static_begin_npy/100.npy\"\n",
    "carla_lidar = np.load(old_npy_file_path, allow_pickle=True)\n",
    "# processed_lidar = process_velo(raw_lidar, RANGE_IMAGE_WIDTH)"
   ]
  },
  {
   "cell_type": "raw",
   "metadata": {
    "ExecuteTime": {
     "end_time": "2020-02-22T16:02:09.355032Z",
     "start_time": "2020-02-22T16:02:09.183367Z"
    }
   },
   "source": [
    "np.random.shuffle(raw_lidar)\n",
    "processed_lidar = process_velo(raw_lidar, RANGE_IMAGE_WIDTH)"
   ]
  },
  {
   "cell_type": "code",
   "execution_count": null,
   "metadata": {
    "ExecuteTime": {
     "end_time": "2020-02-23T19:33:53.317516Z",
     "start_time": "2020-02-23T19:33:53.312762Z"
    }
   },
   "outputs": [],
   "source": [
    "carla_lidar.shape"
   ]
  },
  {
   "cell_type": "code",
   "execution_count": null,
   "metadata": {
    "ExecuteTime": {
     "end_time": "2020-02-23T19:38:22.465429Z",
     "start_time": "2020-02-23T19:38:22.413855Z"
    }
   },
   "outputs": [],
   "source": [
    "# npy_file_path = \"/home/saby/Projects/ati/data/data/datasets/Real_World/dynamic/2/_out_begin_npy/340.npy\"\n",
    "# ati_lidar = np.load(npy_file_path, allow_pickle=True)\n",
    "\n",
    "pcd_path = \"/home/saby/Projects/ati/data/data/datasets/Real_World/dynamic/1/_out/340.pcd\"\n",
    "this_pcd = o3d.io.read_point_cloud(pcd_path)\n",
    "ati_lidar = np.asarray(this_pcd.points)\n",
    "ati_lidar = np.concatenate((ati_lidar, np.zeros((ati_lidar.shape[0],1))), axis=1)\n",
    "ati_lidar.shape\n",
    "# processed_lidar = process_velo(raw_lidar, RANGE_IMAGE_WIDTH)"
   ]
  },
  {
   "cell_type": "code",
   "execution_count": null,
   "metadata": {
    "ExecuteTime": {
     "end_time": "2020-02-23T19:36:16.706552Z",
     "start_time": "2020-02-23T19:36:16.667951Z"
    }
   },
   "outputs": [],
   "source": []
  },
  {
   "cell_type": "code",
   "execution_count": null,
   "metadata": {},
   "outputs": [],
   "source": []
  },
  {
   "cell_type": "code",
   "execution_count": null,
   "metadata": {},
   "outputs": [],
   "source": []
  },
  {
   "cell_type": "code",
   "execution_count": null,
   "metadata": {
    "ExecuteTime": {
     "end_time": "2020-02-23T19:36:57.838701Z",
     "start_time": "2020-02-23T19:36:56.123872Z"
    }
   },
   "outputs": [],
   "source": [
    "from sklearn.neighbors import NearestNeighbors\n",
    "import pandas as pd\n",
    "import copy"
   ]
  },
  {
   "cell_type": "code",
   "execution_count": null,
   "metadata": {
    "ExecuteTime": {
     "end_time": "2020-02-23T19:36:57.847470Z",
     "start_time": "2020-02-23T19:36:57.840425Z"
    }
   },
   "outputs": [],
   "source": [
    "nn_phi = NearestNeighbors(n_neighbors=1)\n",
    "# laser_angles = [-15, 1, -13, 3, -11, 5, -9, 7, -7, 9, -5, 11, -3, 13, -1, 15] # in degrees\n",
    "laser_angles = [-15, -13, -11, -9, -7, -5, -3, -1, 1, 3, 5, 7, 9, 11, 13, 15] # in degrees\n",
    "laser_angles_ = np.array(laser_angles)\n",
    "laser_angles_arr = np.array([np.array([angle,0]) for angle in laser_angles])\n",
    "nn_phi.fit(laser_angles_arr)"
   ]
  },
  {
   "cell_type": "code",
   "execution_count": null,
   "metadata": {
    "ExecuteTime": {
     "end_time": "2020-02-23T19:36:57.864896Z",
     "start_time": "2020-02-23T19:36:57.850718Z"
    }
   },
   "outputs": [],
   "source": [
    "def appendSpherical_np(xyz):\n",
    "#     ptsnew = np.hstack((xyz, np.zeros(xyz.shape)))\n",
    "    xy = xyz[:,0]**2 + xyz[:,1]**2\n",
    "    r_arr = np.sqrt(xy + xyz[:,2]**2)\n",
    "    phi_arr = np.rad2deg(np.arctan2(np.sqrt(xy), xyz[:,2])) -90 # for elevation angle defined from Z-axis down\n",
    "    theta_arr = np.rad2deg(np.arctan2(xyz[:,1], xyz[:,0]))\n",
    "    return r_arr, theta_arr, phi_arr\n",
    "\n",
    "def correct_point_ordering(ati_lidar, TRANSFORM_LIKE_CARLA=True):\n",
    "    # Put everything in dataframe\n",
    "    df_ati_lidar = pd.DataFrame(ati_lidar).rename(columns={0:'x', 1:'y', 2:'z', 3:'i'})\n",
    "    r_arr, theta_arr, phi_arr = appendSpherical_np(ati_lidar[:,:3])\n",
    "    df_ati_lidar['r'] = r_arr\n",
    "    df_ati_lidar['theta'] = theta_arr\n",
    "    df_ati_lidar['phi'] = phi_arr\n",
    "    \n",
    "    # Get correct phi (vertical angles)\n",
    "    phi_arr = phi_arr.reshape(-1,1)    \n",
    "    d_list, idx_list = nn_phi.kneighbors(np.concatenate((phi_arr, np.zeros(phi_arr.shape)), axis=1))\n",
    "    df_ati_lidar['new_phi'] = laser_angles_[idx_list][:,0]\n",
    "    # df_ati_lidar['neg_new_phi'] = -laser_angles_[idx_list][:,0]\n",
    "    \n",
    "    # Sort as per carla order\n",
    "    df_ati_lidar_sort = df_ati_lidar.sort_values(by=['new_phi', 'theta'], ascending=True)\n",
    "    ati_lidar_sort = df_ati_lidar_sort.values[:,:3]\n",
    "    \n",
    "    if TRANSFORM_LIKE_CARLA:\n",
    "        x_carla = copy.deepcopy(ati_lidar_sort[:,1])\n",
    "        y_carla =  -copy.deepcopy(ati_lidar_sort[:,0])\n",
    "        z_carla =  -copy.deepcopy(ati_lidar_sort[:,2])\n",
    "        ati_lidar_sort[:,0] = x_carla\n",
    "        ati_lidar_sort[:,1] = y_carla\n",
    "        ati_lidar_sort[:,2] = z_carla\n",
    "    \n",
    "    ati_lidar_sort = np.concatenate((ati_lidar_sort, ati_lidar[:,3].reshape((-1,1))), axis=1)\n",
    "    return ati_lidar_sort"
   ]
  },
  {
   "cell_type": "raw",
   "metadata": {
    "ExecuteTime": {
     "end_time": "2020-02-23T17:05:47.549045Z",
     "start_time": "2020-02-23T17:05:33.197171Z"
    }
   },
   "source": [
    "df_ati_lidar = pd.DataFrame(ati_lidar).rename(columns={0:'x', 1:'y', 2:'z', 3:'i'})\n",
    "r_arr, theta_arr, phi_arr = appendSpherical_np(ati_lidar[:,:3])\n",
    "df_ati_lidar['r'] = r_arr\n",
    "df_ati_lidar['theta'] = theta_arr\n",
    "df_ati_lidar['phi'] = phi_arr\n",
    "\n",
    "phi_arr = phi_arr.reshape(-1,1)\n",
    "phi_arr.shape"
   ]
  },
  {
   "cell_type": "raw",
   "metadata": {
    "ExecuteTime": {
     "end_time": "2020-02-23T17:06:03.983893Z",
     "start_time": "2020-02-23T17:05:47.550833Z"
    }
   },
   "source": [
    "d_list, idx_list = nn_phi.kneighbors(np.concatenate((phi_arr, np.zeros(phi_arr.shape)), axis=1))"
   ]
  },
  {
   "cell_type": "raw",
   "metadata": {
    "ExecuteTime": {
     "end_time": "2020-02-23T17:06:21.372520Z",
     "start_time": "2020-02-23T17:06:03.985823Z"
    }
   },
   "source": [
    "df_ati_lidar['new_phi'] = laser_angles_[idx_list][:,0]\n",
    "# df_ati_lidar['neg_new_phi'] = -laser_angles_[idx_list][:,0]"
   ]
  },
  {
   "cell_type": "raw",
   "metadata": {
    "ExecuteTime": {
     "end_time": "2020-02-23T17:06:39.977594Z",
     "start_time": "2020-02-23T17:06:21.375402Z"
    }
   },
   "source": [
    "df_ati_lidar.head()"
   ]
  },
  {
   "cell_type": "raw",
   "metadata": {
    "ExecuteTime": {
     "end_time": "2020-02-23T17:06:58.276626Z",
     "start_time": "2020-02-23T17:06:39.980262Z"
    }
   },
   "source": [
    "df_ati_lidar_sort = df_ati_lidar.sort_values(by=['new_phi', 'theta'], ascending=True)\n",
    "df_ati_lidar_sort.shape"
   ]
  },
  {
   "cell_type": "raw",
   "metadata": {
    "ExecuteTime": {
     "end_time": "2020-02-23T17:07:15.112145Z",
     "start_time": "2020-02-23T17:06:58.278413Z"
    }
   },
   "source": [
    "df_ati_lidar_sort.head()"
   ]
  },
  {
   "cell_type": "raw",
   "metadata": {
    "ExecuteTime": {
     "end_time": "2020-02-23T17:07:34.465086Z",
     "start_time": "2020-02-23T17:07:15.113855Z"
    }
   },
   "source": [
    "ati_lidar_sort = df_ati_lidar_sort.values[:,:3]\n",
    "ati_lidar_sort.shape"
   ]
  },
  {
   "cell_type": "raw",
   "metadata": {
    "ExecuteTime": {
     "end_time": "2020-02-23T17:07:52.276383Z",
     "start_time": "2020-02-23T17:07:34.467389Z"
    }
   },
   "source": [
    "x_carla = copy.deepcopy(ati_lidar_sort[:,1])\n",
    "y_carla =  -copy.deepcopy(ati_lidar_sort[:,0])\n",
    "z_carla =  -copy.deepcopy(ati_lidar_sort[:,2])\n",
    "ati_lidar_sort[:,0] = x_carla\n",
    "ati_lidar_sort[:,1] = y_carla\n",
    "ati_lidar_sort[:,2] = z_carla"
   ]
  },
  {
   "cell_type": "code",
   "execution_count": null,
   "metadata": {
    "ExecuteTime": {
     "end_time": "2020-02-23T19:38:28.416966Z",
     "start_time": "2020-02-23T19:38:28.367983Z"
    }
   },
   "outputs": [],
   "source": [
    "ati_lidar_sort =  correct_point_ordering(ati_lidar)\n",
    "ati_lidar.shape, ati_lidar_sort.shape"
   ]
  },
  {
   "cell_type": "code",
   "execution_count": null,
   "metadata": {},
   "outputs": [],
   "source": []
  },
  {
   "cell_type": "code",
   "execution_count": null,
   "metadata": {
    "ExecuteTime": {
     "end_time": "2020-02-23T19:06:12.474907Z",
     "start_time": "2020-02-23T19:06:12.169555Z"
    },
    "scrolled": true
   },
   "outputs": [],
   "source": [
    "processed_lidar = process_velo(carla_lidar, RANGE_IMAGE_WIDTH)\n",
    "\n",
    "processed_lidar = process_velo(ati_lidar, RANGE_IMAGE_WIDTH)\n",
    "\n",
    "processed_lidar = process_velo(ati_lidar_sort, RANGE_IMAGE_WIDTH)"
   ]
  },
  {
   "cell_type": "code",
   "execution_count": null,
   "metadata": {},
   "outputs": [],
   "source": []
  },
  {
   "cell_type": "code",
   "execution_count": null,
   "metadata": {},
   "outputs": [],
   "source": []
  },
  {
   "cell_type": "code",
   "execution_count": null,
   "metadata": {
    "ExecuteTime": {
     "end_time": "2020-02-23T18:06:39.045090Z",
     "start_time": "2020-02-23T18:06:38.936225Z"
    }
   },
   "outputs": [],
   "source": [
    "plt.figure()\n",
    "plt.grid()\n",
    "start_idx = -10240\n",
    "end_idx = -1\n",
    "\n",
    "plt.scatter(ati_lidar_sort[start_idx:end_idx,0], ati_lidar_sort[start_idx:end_idx,1], c=cm.rainbow((np.arange(end_idx-start_idx)/(end_idx-start_idx))))"
   ]
  },
  {
   "cell_type": "code",
   "execution_count": null,
   "metadata": {
    "ExecuteTime": {
     "end_time": "2020-02-23T18:06:46.305197Z",
     "start_time": "2020-02-23T18:06:46.140602Z"
    }
   },
   "outputs": [],
   "source": [
    "plt.figure()\n",
    "plt.scatter(np.arange(ati_lidar_sort.shape[0]), appendSpherical_np(ati_lidar_sort[:,:3])[1].round())"
   ]
  },
  {
   "cell_type": "code",
   "execution_count": null,
   "metadata": {
    "ExecuteTime": {
     "end_time": "2020-02-23T18:06:48.297572Z",
     "start_time": "2020-02-23T18:06:48.154556Z"
    }
   },
   "outputs": [],
   "source": [
    "plt.figure()\n",
    "plt.scatter(np.arange(ati_lidar_sort.shape[0]), appendSpherical_np(ati_lidar_sort[:,:3])[2].round())"
   ]
  },
  {
   "cell_type": "code",
   "execution_count": null,
   "metadata": {},
   "outputs": [],
   "source": []
  },
  {
   "cell_type": "code",
   "execution_count": null,
   "metadata": {},
   "outputs": [],
   "source": []
  },
  {
   "cell_type": "code",
   "execution_count": null,
   "metadata": {},
   "outputs": [],
   "source": []
  },
  {
   "cell_type": "code",
   "execution_count": null,
   "metadata": {},
   "outputs": [],
   "source": []
  },
  {
   "cell_type": "code",
   "execution_count": null,
   "metadata": {},
   "outputs": [],
   "source": []
  },
  {
   "cell_type": "code",
   "execution_count": null,
   "metadata": {},
   "outputs": [],
   "source": []
  },
  {
   "cell_type": "code",
   "execution_count": null,
   "metadata": {},
   "outputs": [],
   "source": []
  },
  {
   "cell_type": "code",
   "execution_count": null,
   "metadata": {
    "ExecuteTime": {
     "end_time": "2020-02-23T18:06:51.598181Z",
     "start_time": "2020-02-23T18:06:51.494803Z"
    }
   },
   "outputs": [],
   "source": [
    "plt.figure()\n",
    "plt.grid()\n",
    "start_idx = -10240\n",
    "\n",
    "end_idx = -1\n",
    "plt.scatter(carla_lidar[start_idx:end_idx,0], carla_lidar[start_idx:end_idx,1], c=cm.rainbow((np.arange(end_idx-start_idx)/(end_idx-start_idx))))\n",
    "\n",
    "# points are ordered first by beam then by rotation angle\n",
    "# initial lines for far off sky points\n",
    "# last lines form near origin ground points"
   ]
  },
  {
   "cell_type": "code",
   "execution_count": null,
   "metadata": {
    "ExecuteTime": {
     "end_time": "2020-02-23T18:06:53.030292Z",
     "start_time": "2020-02-23T18:06:52.884795Z"
    }
   },
   "outputs": [],
   "source": [
    "plt.figure()\n",
    "plt.scatter(np.arange(carla_lidar.shape[0]), appendSpherical_np(carla_lidar[:,:3])[1].round())"
   ]
  },
  {
   "cell_type": "code",
   "execution_count": null,
   "metadata": {
    "ExecuteTime": {
     "end_time": "2020-02-23T18:06:53.812078Z",
     "start_time": "2020-02-23T18:06:53.692575Z"
    }
   },
   "outputs": [],
   "source": [
    "plt.figure()\n",
    "plt.scatter(np.arange(carla_lidar.shape[0]), appendSpherical_np(carla_lidar[:,:3])[2].round())"
   ]
  },
  {
   "cell_type": "code",
   "execution_count": null,
   "metadata": {
    "ExecuteTime": {
     "end_time": "2020-02-23T17:51:17.369180Z",
     "start_time": "2020-02-23T17:51:17.093714Z"
    }
   },
   "outputs": [],
   "source": [
    "assert False"
   ]
  },
  {
   "cell_type": "code",
   "execution_count": null,
   "metadata": {},
   "outputs": [],
   "source": []
  },
  {
   "cell_type": "code",
   "execution_count": null,
   "metadata": {},
   "outputs": [],
   "source": []
  },
  {
   "cell_type": "code",
   "execution_count": null,
   "metadata": {},
   "outputs": [],
   "source": []
  },
  {
   "cell_type": "code",
   "execution_count": null,
   "metadata": {},
   "outputs": [],
   "source": []
  },
  {
   "cell_type": "code",
   "execution_count": null,
   "metadata": {},
   "outputs": [],
   "source": []
  },
  {
   "cell_type": "raw",
   "metadata": {
    "ExecuteTime": {
     "end_time": "2020-02-22T23:31:03.921811Z",
     "start_time": "2020-02-22T23:31:03.882389Z"
    }
   },
   "source": [
    "plt.figure()\n",
    "plt.grid()\n",
    "start_idx = 0\n",
    "\n",
    "end_idx = 16\n",
    "plt.scatter(ati_lidar[start_idx:end_idx,0], ati_lidar[start_idx:end_idx,1], c=cm.rainbow((np.arange(end_idx-start_idx)/(end_idx-start_idx))))\n",
    "\n",
    "# points are ordered first by rotation angle and then by beam\n",
    "# initial lines for near origin ground points\n",
    "# last lines are for far awat sky points"
   ]
  },
  {
   "cell_type": "raw",
   "metadata": {
    "ExecuteTime": {
     "end_time": "2020-02-22T23:31:07.794486Z",
     "start_time": "2020-02-22T23:31:07.789226Z"
    }
   },
   "source": [
    "ati_lidar[:16].shape"
   ]
  },
  {
   "cell_type": "raw",
   "metadata": {
    "ExecuteTime": {
     "end_time": "2020-02-22T23:31:08.228113Z",
     "start_time": "2020-02-22T23:31:08.222828Z"
    }
   },
   "source": [
    "laser_angles_[idx_list[:,0]]"
   ]
  },
  {
   "cell_type": "code",
   "execution_count": null,
   "metadata": {},
   "outputs": [],
   "source": []
  },
  {
   "cell_type": "code",
   "execution_count": null,
   "metadata": {},
   "outputs": [],
   "source": []
  },
  {
   "cell_type": "code",
   "execution_count": null,
   "metadata": {},
   "outputs": [],
   "source": []
  },
  {
   "cell_type": "code",
   "execution_count": null,
   "metadata": {},
   "outputs": [],
   "source": []
  },
  {
   "cell_type": "code",
   "execution_count": null,
   "metadata": {},
   "outputs": [],
   "source": []
  },
  {
   "cell_type": "code",
   "execution_count": null,
   "metadata": {},
   "outputs": [],
   "source": []
  },
  {
   "cell_type": "code",
   "execution_count": null,
   "metadata": {},
   "outputs": [],
   "source": []
  },
  {
   "cell_type": "code",
   "execution_count": null,
   "metadata": {},
   "outputs": [],
   "source": []
  },
  {
   "cell_type": "code",
   "execution_count": null,
   "metadata": {},
   "outputs": [],
   "source": []
  },
  {
   "cell_type": "code",
   "execution_count": null,
   "metadata": {},
   "outputs": [],
   "source": []
  },
  {
   "cell_type": "raw",
   "metadata": {
    "ExecuteTime": {
     "end_time": "2020-02-22T20:59:06.332062Z",
     "start_time": "2020-02-22T20:59:06.323266Z"
    }
   },
   "source": [
    "set(appendSpherical_np(ati_lidar[:,:3])[:,3:][:,1].round())"
   ]
  },
  {
   "cell_type": "raw",
   "metadata": {
    "ExecuteTime": {
     "end_time": "2020-02-22T22:21:46.380018Z",
     "start_time": "2020-02-22T22:21:46.372961Z"
    }
   },
   "source": [
    "some_arr = appendSpherical_np(ati_lidar[:32,:3])[:,3:]\n",
    "some_arr"
   ]
  },
  {
   "cell_type": "raw",
   "metadata": {
    "ExecuteTime": {
     "end_time": "2020-02-22T20:53:18.086158Z",
     "start_time": "2020-02-22T20:53:18.080690Z"
    }
   },
   "source": [
    "ati_lidar[:1,:3]"
   ]
  },
  {
   "cell_type": "code",
   "execution_count": null,
   "metadata": {},
   "outputs": [],
   "source": []
  },
  {
   "cell_type": "code",
   "execution_count": null,
   "metadata": {},
   "outputs": [],
   "source": []
  },
  {
   "cell_type": "code",
   "execution_count": null,
   "metadata": {},
   "outputs": [],
   "source": []
  },
  {
   "cell_type": "code",
   "execution_count": null,
   "metadata": {},
   "outputs": [],
   "source": []
  },
  {
   "cell_type": "code",
   "execution_count": null,
   "metadata": {},
   "outputs": [],
   "source": []
  },
  {
   "cell_type": "code",
   "execution_count": null,
   "metadata": {},
   "outputs": [],
   "source": []
  },
  {
   "cell_type": "code",
   "execution_count": null,
   "metadata": {
    "ExecuteTime": {
     "end_time": "2020-02-23T17:51:17.373850Z",
     "start_time": "2020-02-23T17:51:52.019Z"
    }
   },
   "outputs": [],
   "source": [
    "ati_lidar.round?"
   ]
  },
  {
   "cell_type": "code",
   "execution_count": null,
   "metadata": {
    "ExecuteTime": {
     "end_time": "2020-02-23T17:51:17.375541Z",
     "start_time": "2020-02-23T17:51:52.022Z"
    }
   },
   "outputs": [],
   "source": [
    "dataset_val = np.load(\"/home/saby/Projects/ati/data/data/datasets/Real_World/dynamic/1/_out_npz/0.npz\")#, allow_pickle=True)"
   ]
  },
  {
   "cell_type": "code",
   "execution_count": null,
   "metadata": {
    "ExecuteTime": {
     "end_time": "2020-02-23T17:51:17.377132Z",
     "start_time": "2020-02-23T17:51:52.024Z"
    }
   },
   "outputs": [],
   "source": [
    "dataset_val['arr_0'].sum()"
   ]
  },
  {
   "cell_type": "code",
   "execution_count": null,
   "metadata": {
    "ExecuteTime": {
     "end_time": "2020-02-23T17:51:17.378713Z",
     "start_time": "2020-02-23T17:51:52.026Z"
    }
   },
   "outputs": [],
   "source": [
    "dataset_val.shape"
   ]
  },
  {
   "cell_type": "code",
   "execution_count": null,
   "metadata": {},
   "outputs": [],
   "source": []
  },
  {
   "cell_type": "code",
   "execution_count": null,
   "metadata": {},
   "outputs": [],
   "source": []
  },
  {
   "cell_type": "code",
   "execution_count": null,
   "metadata": {
    "ExecuteTime": {
     "end_time": "2020-02-23T17:51:17.380243Z",
     "start_time": "2020-02-23T17:51:52.033Z"
    }
   },
   "outputs": [],
   "source": [
    "frame_sum = dataset_val.sum(-1).sum(-1).sum(-1)\n",
    "frame_sum.shape"
   ]
  },
  {
   "cell_type": "code",
   "execution_count": null,
   "metadata": {
    "ExecuteTime": {
     "end_time": "2020-02-23T17:51:17.381848Z",
     "start_time": "2020-02-23T17:51:52.035Z"
    }
   },
   "outputs": [],
   "source": [
    "zero_frames = frame_sum == 0.0\n",
    "(zero_frames).sum()"
   ]
  },
  {
   "cell_type": "code",
   "execution_count": null,
   "metadata": {
    "ExecuteTime": {
     "end_time": "2020-02-23T17:51:17.383536Z",
     "start_time": "2020-02-23T17:51:52.038Z"
    }
   },
   "outputs": [],
   "source": [
    "list(dataset_val[~zero_frames])[0]"
   ]
  },
  {
   "cell_type": "code",
   "execution_count": null,
   "metadata": {},
   "outputs": [],
   "source": []
  },
  {
   "cell_type": "code",
   "execution_count": null,
   "metadata": {},
   "outputs": [],
   "source": []
  },
  {
   "cell_type": "raw",
   "metadata": {
    "ExecuteTime": {
     "end_time": "2020-02-20T07:29:19.604067Z",
     "start_time": "2020-02-20T07:29:17.288323Z"
    }
   },
   "source": [
    "img_arr = np.random.choice(list(dataset_val[~zero_frames]))[:,:,:3].reshape((-1,3))"
   ]
  },
  {
   "cell_type": "raw",
   "metadata": {
    "ExecuteTime": {
     "end_time": "2020-02-20T07:26:11.054086Z",
     "start_time": "2020-02-20T07:26:10.934933Z"
    }
   },
   "source": [
    "plt.figure()\n",
    "plt.plot(img_arr[:,0], img_arr[:,1], '.')"
   ]
  },
  {
   "cell_type": "code",
   "execution_count": null,
   "metadata": {},
   "outputs": [],
   "source": []
  },
  {
   "cell_type": "code",
   "execution_count": null,
   "metadata": {},
   "outputs": [],
   "source": []
  },
  {
   "cell_type": "code",
   "execution_count": null,
   "metadata": {},
   "outputs": [],
   "source": []
  },
  {
   "cell_type": "code",
   "execution_count": null,
   "metadata": {
    "ExecuteTime": {
     "end_time": "2020-02-23T23:23:59.223823Z",
     "start_time": "2020-02-23T23:23:40.433537Z"
    }
   },
   "outputs": [],
   "source": [
    "dataset_val_real = np.load(\"/home/saby/Projects/ati/data/data/datasets/Real_World/pair_transform/dynamic_out_npy/1.npy\", allow_pickle=True)\n",
    "# dataset_val_carla = np.load(\"/home/saby/Projects/ati/data/data/datasets/Carla/16beam-Data/small_map/testing/8/_out_out_npy/0.npy\", allow_pickle=True)"
   ]
  },
  {
   "cell_type": "code",
   "execution_count": null,
   "metadata": {
    "ExecuteTime": {
     "start_time": "2020-02-23T23:24:25.503Z"
    }
   },
   "outputs": [],
   "source": [
    "dataset_val = preprocess(dataset_val_real, 120)"
   ]
  },
  {
   "cell_type": "code",
   "execution_count": null,
   "metadata": {
    "ExecuteTime": {
     "start_time": "2020-02-23T23:24:26.198Z"
    }
   },
   "outputs": [],
   "source": [
    "dataset_val.shape"
   ]
  },
  {
   "cell_type": "code",
   "execution_count": null,
   "metadata": {
    "ExecuteTime": {
     "start_time": "2020-02-23T23:24:26.771Z"
    }
   },
   "outputs": [],
   "source": [
    "dataset_val[0]"
   ]
  },
  {
   "cell_type": "code",
   "execution_count": null,
   "metadata": {
    "ExecuteTime": {
     "end_time": "2020-02-23T20:30:53.149673Z",
     "start_time": "2020-02-23T20:30:53.144987Z"
    }
   },
   "outputs": [],
   "source": [
    "frame_img = dataset_val[100]"
   ]
  },
  {
   "cell_type": "code",
   "execution_count": null,
   "metadata": {
    "ExecuteTime": {
     "end_time": "2020-02-23T20:30:53.555558Z",
     "start_time": "2020-02-23T20:30:53.548900Z"
    }
   },
   "outputs": [],
   "source": [
    "frame_img.shape"
   ]
  },
  {
   "cell_type": "code",
   "execution_count": null,
   "metadata": {
    "ExecuteTime": {
     "end_time": "2020-02-23T20:30:53.847153Z",
     "start_time": "2020-02-23T20:30:53.838875Z"
    }
   },
   "outputs": [],
   "source": [
    "frame_img_3d = from_polar_np(np.expand_dims(frame_img, axis=0))[0]\n",
    "frame_img_3d.shape"
   ]
  },
  {
   "cell_type": "code",
   "execution_count": null,
   "metadata": {
    "ExecuteTime": {
     "end_time": "2020-02-23T20:30:54.271734Z",
     "start_time": "2020-02-23T20:30:54.241419Z"
    }
   },
   "outputs": [],
   "source": [
    "some_pcd = o3d.geometry.PointCloud()\n",
    "some_arr = frame_img_3d.reshape((3,-1)).T\n",
    "some_pcd.points = o3d.utility.Vector3dVector(some_arr)"
   ]
  },
  {
   "cell_type": "code",
   "execution_count": null,
   "metadata": {
    "ExecuteTime": {
     "end_time": "2020-02-23T20:30:54.771520Z",
     "start_time": "2020-02-23T20:30:54.759272Z"
    }
   },
   "outputs": [],
   "source": [
    "def draw_pcd(pcd, where='opn_nb'):\n",
    "    if where is 'opn_nb':\n",
    "        visualizer = o3d.JVisualizer()\n",
    "        visualizer.add_geometry(pcd)\n",
    "        visualizer.show()\n",
    "    elif where is 'opn_view':\n",
    "        o3d.visualization.draw_geometries([pcd], width=1280, height=800)\n",
    "    elif where is 'mat_3d':\n",
    "        plt.figure()\n",
    "        pts = np.asarray(pcd.points)\n",
    "        plt.scatter(pts[:,0], pts[:,1], pts[:,2])\n",
    "        plt.grid()\n",
    "        plt.show()\n",
    "    elif where is 'mat_2d':\n",
    "        plt.figure()\n",
    "        pts = np.asarray(pcd.points)\n",
    "        plt.scatter(pts[:,0], pts[:,1])\n",
    "        plt.grid()\n",
    "        plt.show()"
   ]
  },
  {
   "cell_type": "code",
   "execution_count": null,
   "metadata": {
    "ExecuteTime": {
     "end_time": "2020-02-23T20:30:55.685246Z",
     "start_time": "2020-02-23T20:30:55.433295Z"
    }
   },
   "outputs": [],
   "source": [
    "draw_pcd(some_pcd)"
   ]
  },
  {
   "cell_type": "code",
   "execution_count": null,
   "metadata": {},
   "outputs": [],
   "source": []
  }
 ],
 "metadata": {
  "kernelspec": {
   "display_name": "Python 3",
   "language": "python",
   "name": "python3"
  },
  "language_info": {
   "codemirror_mode": {
    "name": "ipython",
    "version": 3
   },
   "file_extension": ".py",
   "mimetype": "text/x-python",
   "name": "python",
   "nbconvert_exporter": "python",
   "pygments_lexer": "ipython3",
   "version": "3.6.10"
  },
  "toc": {
   "base_numbering": 1,
   "nav_menu": {},
   "number_sections": true,
   "sideBar": true,
   "skip_h1_title": false,
   "title_cell": "Table of Contents",
   "title_sidebar": "Contents",
   "toc_cell": false,
   "toc_position": {},
   "toc_section_display": true,
   "toc_window_display": false
  }
 },
 "nbformat": 4,
 "nbformat_minor": 4
}
