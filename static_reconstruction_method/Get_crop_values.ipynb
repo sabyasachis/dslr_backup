{
 "cells": [
  {
   "cell_type": "code",
   "execution_count": null,
   "metadata": {
    "ExecuteTime": {
     "end_time": "2020-02-16T14:57:09.930059Z",
     "start_time": "2020-02-16T14:57:08.004412Z"
    }
   },
   "outputs": [],
   "source": [
    "import numpy as np\n",
    "from utils import * "
   ]
  },
  {
   "cell_type": "code",
   "execution_count": null,
   "metadata": {
    "ExecuteTime": {
     "end_time": "2020-02-16T14:57:09.934689Z",
     "start_time": "2020-02-16T14:57:09.931858Z"
    }
   },
   "outputs": [],
   "source": [
    "STATIC_TRAIN_FOLDER_PATH  = '/home/saby/Projects/ati/data/data/datasets/Carla/16beam-Data/small_map/pair_transform_triple/static_out_npy/'\n",
    "DYNAMIC_TRAIN_FOLDER_PATH = '/home/saby/Projects/ati/data/data/datasets/Carla/16beam-Data/small_map/pair_transform_triple/dynamic_out_npy/'"
   ]
  },
  {
   "cell_type": "code",
   "execution_count": null,
   "metadata": {
    "ExecuteTime": {
     "end_time": "2020-02-16T15:00:18.083620Z",
     "start_time": "2020-02-16T14:57:09.937772Z"
    }
   },
   "outputs": [],
   "source": [
    "# print(\"loading dynamic\")\n",
    "# dynamic_arr = np.load(os.path.join(DYNAMIC_TRAIN_FOLDER_PATH, \"0.npy\"))\n",
    "print(\"loading static\")\n",
    "static_arr = np.load(os.path.join(STATIC_TRAIN_FOLDER_PATH, \"0.npy\"))\n",
    "print(\"done\")"
   ]
  },
  {
   "cell_type": "raw",
   "metadata": {
    "ExecuteTime": {
     "end_time": "2020-02-16T14:54:00.005196Z",
     "start_time": "2020-02-16T14:52:51.181342Z"
    }
   },
   "source": [
    "dynamic_min_x, dynamic_max_x = np.percentile(dynamic_arr[:, :, :, [0]], 1), np.percentile(dynamic_arr[:, :, :, [0]], 99)\n",
    "dynamic_min_y, dynamic_max_y = np.percentile(dynamic_arr[:, :, :, [1]], 1), np.percentile(dynamic_arr[:, :, :, [1]], 99)\n",
    "dynamic_min_z, dynamic_max_z = np.percentile(dynamic_arr[:, :, :, [2]], 1), np.percentile(dynamic_arr[:, :, :, [2]], 99)"
   ]
  },
  {
   "cell_type": "code",
   "execution_count": null,
   "metadata": {
    "ExecuteTime": {
     "end_time": "2020-02-16T15:01:22.371523Z",
     "start_time": "2020-02-16T15:00:18.085748Z"
    }
   },
   "outputs": [],
   "source": [
    "static_min_x, static_max_x = np.percentile(static_arr[:, :, :, [0]], 1), np.percentile(static_arr[:, :, :, [0]], 99)\n",
    "static_min_y, static_max_y = np.percentile(static_arr[:, :, :, [1]], 1), np.percentile(static_arr[:, :, :, [1]], 99)\n",
    "static_min_z, static_max_z = np.percentile(static_arr[:, :, :, [2]], 1), np.percentile(static_arr[:, :, :, [2]], 99)"
   ]
  },
  {
   "cell_type": "code",
   "execution_count": null,
   "metadata": {
    "ExecuteTime": {
     "end_time": "2020-02-16T15:01:34.419998Z",
     "start_time": "2020-02-16T15:01:34.405898Z"
    }
   },
   "outputs": [],
   "source": [
    "static_min_x, static_max_x"
   ]
  },
  {
   "cell_type": "code",
   "execution_count": null,
   "metadata": {
    "ExecuteTime": {
     "end_time": "2020-02-16T15:01:34.832180Z",
     "start_time": "2020-02-16T15:01:34.824928Z"
    }
   },
   "outputs": [],
   "source": [
    "static_min_y, static_max_y"
   ]
  },
  {
   "cell_type": "code",
   "execution_count": null,
   "metadata": {
    "ExecuteTime": {
     "end_time": "2020-02-16T15:01:41.155086Z",
     "start_time": "2020-02-16T15:01:41.146172Z"
    }
   },
   "outputs": [],
   "source": [
    "static_min_z, static_max_z"
   ]
  },
  {
   "cell_type": "code",
   "execution_count": null,
   "metadata": {
    "ExecuteTime": {
     "end_time": "2020-02-16T15:54:31.014059Z",
     "start_time": "2020-02-16T15:54:31.005709Z"
    }
   },
   "outputs": [],
   "source": [
    "(np.array((-58.22, 65.16)) + np.array((-58.146, 65.59270000000001)))/2"
   ]
  },
  {
   "cell_type": "code",
   "execution_count": null,
   "metadata": {
    "ExecuteTime": {
     "end_time": "2020-02-16T15:54:31.474954Z",
     "start_time": "2020-02-16T15:54:31.466728Z"
    }
   },
   "outputs": [],
   "source": [
    "(np.array((-60.35, 62.45)) + np.array((-60.75905, 62.6061)))/2"
   ]
  },
  {
   "cell_type": "code",
   "execution_count": null,
   "metadata": {
    "ExecuteTime": {
     "end_time": "2020-02-16T15:54:31.915496Z",
     "start_time": "2020-02-16T15:54:31.907136Z"
    }
   },
   "outputs": [],
   "source": [
    "np.array((-8.379999999999999, 7.68))/2 + np.array((-8.325, 7.71))/2"
   ]
  },
  {
   "cell_type": "code",
   "execution_count": null,
   "metadata": {},
   "outputs": [],
   "source": []
  }
 ],
 "metadata": {
  "kernelspec": {
   "display_name": "Python 3",
   "language": "python",
   "name": "python3"
  },
  "language_info": {
   "codemirror_mode": {
    "name": "ipython",
    "version": 3
   },
   "file_extension": ".py",
   "mimetype": "text/x-python",
   "name": "python",
   "nbconvert_exporter": "python",
   "pygments_lexer": "ipython3",
   "version": "3.6.10"
  },
  "toc": {
   "base_numbering": 1,
   "nav_menu": {},
   "number_sections": true,
   "sideBar": true,
   "skip_h1_title": false,
   "title_cell": "Table of Contents",
   "title_sidebar": "Contents",
   "toc_cell": false,
   "toc_position": {},
   "toc_section_display": true,
   "toc_window_display": false
  }
 },
 "nbformat": 4,
 "nbformat_minor": 4
}
