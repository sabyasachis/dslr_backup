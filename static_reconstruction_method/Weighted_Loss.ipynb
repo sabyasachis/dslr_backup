{
 "cells": [
  {
   "cell_type": "code",
   "execution_count": 1,
   "metadata": {
    "ExecuteTime": {
     "end_time": "2020-02-10T18:57:04.041457Z",
     "start_time": "2020-02-10T18:57:03.619936Z"
    }
   },
   "outputs": [],
   "source": [
    "import numpy as np\n",
    "import gc\n",
    "import pickle\n",
    "import os\n",
    "import pandas as pd\n",
    "import matplotlib.pyplot as plt"
   ]
  },
  {
   "cell_type": "code",
   "execution_count": 2,
   "metadata": {
    "ExecuteTime": {
     "end_time": "2020-02-10T18:57:04.045953Z",
     "start_time": "2020-02-10T18:57:04.043280Z"
    }
   },
   "outputs": [],
   "source": [
    "LIDAR_RANGE = 100\n",
    "Z_THRESHOLD = 2\n",
    "Z_THRESHOLD /= LIDAR_RANGE"
   ]
  },
  {
   "cell_type": "code",
   "execution_count": null,
   "metadata": {},
   "outputs": [],
   "source": []
  },
  {
   "cell_type": "code",
   "execution_count": 3,
   "metadata": {
    "ExecuteTime": {
     "end_time": "2020-02-10T18:57:04.050500Z",
     "start_time": "2020-02-10T18:57:04.048218Z"
    }
   },
   "outputs": [],
   "source": [
    "STATIC_PREPROCESS_DATA_PATH  =  \"../training_data/small_map/dynamic_high_med_ped/static_prepreprocess_dir\"\n",
    "DYNAMIC_PREPROCESS_DATA_PATH = \"../training_data/small_map/dynamic_high_med_ped/dynamic_prepreprocess_dir\""
   ]
  },
  {
   "cell_type": "code",
   "execution_count": 4,
   "metadata": {
    "ExecuteTime": {
     "end_time": "2020-02-10T18:57:04.057713Z",
     "start_time": "2020-02-10T18:57:04.052054Z"
    }
   },
   "outputs": [],
   "source": [
    "def getint(name):\n",
    "    try:\n",
    "        return int(name.split('.')[0])\n",
    "    except Exception as e:\n",
    "        print(\"Error occured while trying to read {}\".format(name))\n",
    "    return None"
   ]
  },
  {
   "cell_type": "code",
   "execution_count": 5,
   "metadata": {
    "ExecuteTime": {
     "end_time": "2020-02-10T18:57:04.064876Z",
     "start_time": "2020-02-10T18:57:04.060399Z"
    }
   },
   "outputs": [],
   "source": [
    "val_file  =   sorted(os.listdir( STATIC_PREPROCESS_DATA_PATH), key=getint)[-1]"
   ]
  },
  {
   "cell_type": "code",
   "execution_count": 6,
   "metadata": {
    "ExecuteTime": {
     "end_time": "2020-02-10T18:57:04.416099Z",
     "start_time": "2020-02-10T18:57:04.067187Z"
    }
   },
   "outputs": [],
   "source": [
    "with open(os.path.join(STATIC_PREPROCESS_DATA_PATH, val_file), 'rb') as pkl_file:\n",
    "    static_dataset_val = pickle.load(pkl_file)"
   ]
  },
  {
   "cell_type": "code",
   "execution_count": 7,
   "metadata": {
    "ExecuteTime": {
     "end_time": "2020-02-10T18:57:04.737466Z",
     "start_time": "2020-02-10T18:57:04.417751Z"
    }
   },
   "outputs": [],
   "source": [
    "with open(os.path.join(DYNAMIC_PREPROCESS_DATA_PATH, val_file), 'rb') as pkl_file:\n",
    "    dynamic_dataset_val = pickle.load(pkl_file)"
   ]
  },
  {
   "cell_type": "code",
   "execution_count": 8,
   "metadata": {
    "ExecuteTime": {
     "end_time": "2020-02-10T18:57:04.767549Z",
     "start_time": "2020-02-10T18:57:04.740549Z"
    }
   },
   "outputs": [
    {
     "data": {
      "text/plain": [
       "0"
      ]
     },
     "execution_count": 8,
     "metadata": {},
     "output_type": "execute_result"
    }
   ],
   "source": [
    "gc.collect()"
   ]
  },
  {
   "cell_type": "code",
   "execution_count": 9,
   "metadata": {
    "ExecuteTime": {
     "end_time": "2020-02-10T18:57:04.773702Z",
     "start_time": "2020-02-10T18:57:04.769374Z"
    }
   },
   "outputs": [
    {
     "data": {
      "text/plain": [
       "((2460, 2, 16, 1024), (2460, 2, 16, 1024))"
      ]
     },
     "execution_count": 9,
     "metadata": {},
     "output_type": "execute_result"
    }
   ],
   "source": [
    "static_dataset_val.shape, dynamic_dataset_val.shape"
   ]
  },
  {
   "cell_type": "code",
   "execution_count": 10,
   "metadata": {
    "ExecuteTime": {
     "end_time": "2020-02-10T18:57:04.882222Z",
     "start_time": "2020-02-10T18:57:04.776344Z"
    }
   },
   "outputs": [
    {
     "data": {
      "text/plain": [
       "(2460, 2, 16, 1024)"
      ]
     },
     "execution_count": 10,
     "metadata": {},
     "output_type": "execute_result"
    }
   ],
   "source": [
    "(static_dataset_val - dynamic_dataset_val).shape"
   ]
  },
  {
   "cell_type": "code",
   "execution_count": 11,
   "metadata": {
    "ExecuteTime": {
     "end_time": "2020-02-10T18:57:04.888563Z",
     "start_time": "2020-02-10T18:57:04.884010Z"
    }
   },
   "outputs": [
    {
     "data": {
      "text/plain": [
       "(2460, 1, 16, 1024)"
      ]
     },
     "execution_count": 11,
     "metadata": {},
     "output_type": "execute_result"
    }
   ],
   "source": [
    "z_val = dynamic_dataset_val[:,1].reshape((dynamic_dataset_val.shape[0],\n",
    "                                          1,\n",
    "                                          dynamic_dataset_val.shape[2],\n",
    "                                          dynamic_dataset_val.shape[3]))\n",
    "z_val.shape"
   ]
  },
  {
   "cell_type": "code",
   "execution_count": 12,
   "metadata": {
    "ExecuteTime": {
     "end_time": "2020-02-10T18:57:04.978185Z",
     "start_time": "2020-02-10T18:57:04.890112Z"
    }
   },
   "outputs": [
    {
     "data": {
      "text/plain": [
       "(2460, 2, 16, 1024)"
      ]
     },
     "execution_count": 12,
     "metadata": {},
     "output_type": "execute_result"
    }
   ],
   "source": [
    "loss_wt = np.ones(dynamic_dataset_val.shape)\n",
    "loss_wt.shape"
   ]
  },
  {
   "cell_type": "code",
   "execution_count": 13,
   "metadata": {
    "ExecuteTime": {
     "end_time": "2020-02-10T18:57:05.022291Z",
     "start_time": "2020-02-10T18:57:04.979931Z"
    }
   },
   "outputs": [
    {
     "data": {
      "text/plain": [
       "(2460, 2, 16, 1024)"
      ]
     },
     "execution_count": 13,
     "metadata": {},
     "output_type": "execute_result"
    }
   ],
   "source": [
    "z_mask = z_val > Z_THRESHOLD\n",
    "z_mask = np.concatenate((z_mask, z_mask), axis=1)\n",
    "z_mask.shape"
   ]
  },
  {
   "cell_type": "code",
   "execution_count": 14,
   "metadata": {
    "ExecuteTime": {
     "end_time": "2020-02-10T18:57:05.108468Z",
     "start_time": "2020-02-10T18:57:05.024014Z"
    }
   },
   "outputs": [],
   "source": [
    "loss_wt[z_mask] = 5"
   ]
  },
  {
   "cell_type": "code",
   "execution_count": null,
   "metadata": {
    "ExecuteTime": {
     "end_time": "2020-02-10T18:15:43.602848Z",
     "start_time": "2020-02-10T18:15:42.551982Z"
    }
   },
   "outputs": [],
   "source": []
  },
  {
   "cell_type": "code",
   "execution_count": null,
   "metadata": {},
   "outputs": [],
   "source": []
  },
  {
   "cell_type": "code",
   "execution_count": 15,
   "metadata": {
    "ExecuteTime": {
     "end_time": "2020-02-10T18:57:05.115053Z",
     "start_time": "2020-02-10T18:57:05.110067Z"
    }
   },
   "outputs": [],
   "source": [
    "def recon_loss_fn(recon, static):\n",
    "    LIDAR_RANGE = 100\n",
    "    Z_THRESHOLD = 2\n",
    "    Z_THRESHOLD /= LIDAR_RANGE\n",
    "    \n",
    "    z_val = static[:,1].reshape((static.shape[0],1,static.shape[2],static.shape[3]))\n",
    "    z_mask = z_val > Z_THRESHOLD\n",
    "    z_mask = np.concatenate((z_mask, z_mask), axis=1)\n",
    "    \n",
    "    loss_wt = np.ones(static_dataset_val.shape)\n",
    "    loss_wt[z_mask] = 5\n",
    "    \n",
    "    total_loss = ((recon - static) * loss_wt).abs().sum(-1).sum(-1).sum(-1)\n",
    "    return total_loss"
   ]
  },
  {
   "cell_type": "code",
   "execution_count": null,
   "metadata": {},
   "outputs": [],
   "source": []
  },
  {
   "cell_type": "code",
   "execution_count": null,
   "metadata": {},
   "outputs": [],
   "source": []
  },
  {
   "cell_type": "code",
   "execution_count": null,
   "metadata": {},
   "outputs": [],
   "source": []
  },
  {
   "cell_type": "code",
   "execution_count": null,
   "metadata": {},
   "outputs": [],
   "source": []
  },
  {
   "cell_type": "code",
   "execution_count": 16,
   "metadata": {
    "ExecuteTime": {
     "end_time": "2020-02-10T18:57:05.192261Z",
     "start_time": "2020-02-10T18:57:05.116608Z"
    }
   },
   "outputs": [],
   "source": [
    "dynamic_dataset_val[z_mask] = 0"
   ]
  },
  {
   "cell_type": "code",
   "execution_count": 17,
   "metadata": {
    "ExecuteTime": {
     "end_time": "2020-02-10T18:57:05.197995Z",
     "start_time": "2020-02-10T18:57:05.194021Z"
    }
   },
   "outputs": [],
   "source": [
    "def from_polar_np(velo):\n",
    "    angles = np.linspace(0, np.pi * 2, velo.shape[-1])\n",
    "    dist, z = velo[:, 0], velo[:, 1]\n",
    "    x = np.cos(angles) * dist\n",
    "    y = np.sin(angles) * dist\n",
    "    out = np.stack([x,y,z], axis=1)\n",
    "    return out.astype('float32')"
   ]
  },
  {
   "cell_type": "code",
   "execution_count": 18,
   "metadata": {
    "ExecuteTime": {
     "end_time": "2020-02-10T18:57:05.202573Z",
     "start_time": "2020-02-10T18:57:05.199288Z"
    }
   },
   "outputs": [
    {
     "data": {
      "text/plain": [
       "(2460, 2, 16, 1024)"
      ]
     },
     "execution_count": 18,
     "metadata": {},
     "output_type": "execute_result"
    }
   ],
   "source": [
    "dynamic_dataset_val.shape"
   ]
  },
  {
   "cell_type": "code",
   "execution_count": 19,
   "metadata": {
    "ExecuteTime": {
     "end_time": "2020-02-10T18:57:05.728991Z",
     "start_time": "2020-02-10T18:57:05.203983Z"
    }
   },
   "outputs": [
    {
     "data": {
      "text/plain": [
       "(3, 16, 1024)"
      ]
     },
     "execution_count": 19,
     "metadata": {},
     "output_type": "execute_result"
    }
   ],
   "source": [
    "some_arr = from_polar_np(dynamic_dataset_val)[0]\n",
    "some_arr.shape"
   ]
  },
  {
   "cell_type": "code",
   "execution_count": 20,
   "metadata": {
    "ExecuteTime": {
     "end_time": "2020-02-10T18:57:06.100616Z",
     "start_time": "2020-02-10T18:57:05.730475Z"
    }
   },
   "outputs": [],
   "source": [
    "import open3d as o3d\n",
    "import copy\n",
    "import matplotlib.pyplot as plt\n",
    "import transforms3d\n",
    "\n",
    "def draw_registration_result(src_pcd, dst_pcd, x_pt, y_pt, theta):    \n",
    "    src_pcd_tmp = copy.deepcopy(src_pcd)\n",
    "    dst_pcd_tmp = copy.deepcopy(dst_pcd)\n",
    "    \n",
    "    src_pcd_tmp.paint_uniform_color([1, 0, 0])  # red source\n",
    "    dst_pcd_tmp.paint_uniform_color([0, 0, 1])  # blue target\n",
    "    \n",
    "    transform_mat = pose2matrix([x_pt, y_pt, 0], [0,0,theta])\n",
    "    dst_pcd_tmp.transform(transform_mat)\n",
    "    \n",
    "    visualizer = o3d.JVisualizer()\n",
    "    visualizer.add_geometry(src_pcd_tmp)\n",
    "    visualizer.add_geometry(dst_pcd_tmp)\n",
    "    visualizer.show()\n",
    "    \n",
    "def draw_pcd(pcd, where='opn_nb'):\n",
    "    if where is 'opn_nb':\n",
    "        visualizer = o3d.JVisualizer()\n",
    "        visualizer.add_geometry(pcd)\n",
    "        visualizer.show()\n",
    "    elif where is 'opn_view':\n",
    "        o3d.visualization.draw_geometries([pcd], width=1280, height=800)\n",
    "    elif where is 'mat_3d':\n",
    "        plt.figure()\n",
    "        pts = np.asarray(pcd.points)\n",
    "        plt.scatter(pts[:,0], pts[:,1], pts[:,2])\n",
    "        plt.grid()\n",
    "        plt.show()\n",
    "    elif where is 'mat_2d':\n",
    "        plt.figure()\n",
    "        pts = np.asarray(pcd.points)\n",
    "        plt.scatter(pts[:,0], pts[:,1])\n",
    "        plt.grid()\n",
    "        plt.show()\n",
    "\n",
    "def pose2matrix(translation_list, rotation_angle_list):\n",
    "    trans_vec = np.array(translation_list)\n",
    "    rot_ang = [np.deg2rad(ang) for ang in rotation_angle_list ]\n",
    "    rot_mat = transforms3d.euler.euler2mat(rot_ang[0], rot_ang[1], rot_ang[2])\n",
    "    zoom = np.ones(3)\n",
    "    transform_mat = transforms3d.affines.compose(trans_vec, rot_mat, zoom)\n",
    "    return transform_mat"
   ]
  },
  {
   "cell_type": "code",
   "execution_count": 21,
   "metadata": {
    "ExecuteTime": {
     "end_time": "2020-02-10T18:57:06.122558Z",
     "start_time": "2020-02-10T18:57:06.102269Z"
    }
   },
   "outputs": [],
   "source": [
    "some_pcd =  o3d.geometry.PointCloud()\n",
    "some_pcd.points = o3d.utility.Vector3dVector(some_arr.reshape(3,-1).T)"
   ]
  },
  {
   "cell_type": "code",
   "execution_count": 22,
   "metadata": {
    "ExecuteTime": {
     "end_time": "2020-02-10T18:57:06.313372Z",
     "start_time": "2020-02-10T18:57:06.123921Z"
    }
   },
   "outputs": [
    {
     "data": {
      "application/vnd.jupyter.widget-view+json": {
       "model_id": "e5dcf7dc9454400b9dec854a486db5fa",
       "version_major": 2,
       "version_minor": 0
      },
      "text/plain": [
       "JVisualizer with 1 geometries"
      ]
     },
     "metadata": {},
     "output_type": "display_data"
    }
   ],
   "source": [
    "draw_pcd(some_pcd)"
   ]
  },
  {
   "cell_type": "code",
   "execution_count": null,
   "metadata": {},
   "outputs": [],
   "source": []
  },
  {
   "cell_type": "code",
   "execution_count": null,
   "metadata": {},
   "outputs": [],
   "source": []
  },
  {
   "cell_type": "code",
   "execution_count": null,
   "metadata": {},
   "outputs": [],
   "source": []
  },
  {
   "cell_type": "code",
   "execution_count": 23,
   "metadata": {
    "ExecuteTime": {
     "end_time": "2020-02-10T18:57:06.320929Z",
     "start_time": "2020-02-10T18:57:06.315641Z"
    }
   },
   "outputs": [],
   "source": [
    "%matplotlib notebook"
   ]
  },
  {
   "cell_type": "code",
   "execution_count": 24,
   "metadata": {
    "ExecuteTime": {
     "end_time": "2020-02-10T18:57:06.961895Z",
     "start_time": "2020-02-10T18:57:06.322411Z"
    }
   },
   "outputs": [
    {
     "data": {
      "application/javascript": [
       "/* Put everything inside the global mpl namespace */\n",
       "window.mpl = {};\n",
       "\n",
       "\n",
       "mpl.get_websocket_type = function() {\n",
       "    if (typeof(WebSocket) !== 'undefined') {\n",
       "        return WebSocket;\n",
       "    } else if (typeof(MozWebSocket) !== 'undefined') {\n",
       "        return MozWebSocket;\n",
       "    } else {\n",
       "        alert('Your browser does not have WebSocket support. ' +\n",
       "              'Please try Chrome, Safari or Firefox ≥ 6. ' +\n",
       "              'Firefox 4 and 5 are also supported but you ' +\n",
       "              'have to enable WebSockets in about:config.');\n",
       "    };\n",
       "}\n",
       "\n",
       "mpl.figure = function(figure_id, websocket, ondownload, parent_element) {\n",
       "    this.id = figure_id;\n",
       "\n",
       "    this.ws = websocket;\n",
       "\n",
       "    this.supports_binary = (this.ws.binaryType != undefined);\n",
       "\n",
       "    if (!this.supports_binary) {\n",
       "        var warnings = document.getElementById(\"mpl-warnings\");\n",
       "        if (warnings) {\n",
       "            warnings.style.display = 'block';\n",
       "            warnings.textContent = (\n",
       "                \"This browser does not support binary websocket messages. \" +\n",
       "                    \"Performance may be slow.\");\n",
       "        }\n",
       "    }\n",
       "\n",
       "    this.imageObj = new Image();\n",
       "\n",
       "    this.context = undefined;\n",
       "    this.message = undefined;\n",
       "    this.canvas = undefined;\n",
       "    this.rubberband_canvas = undefined;\n",
       "    this.rubberband_context = undefined;\n",
       "    this.format_dropdown = undefined;\n",
       "\n",
       "    this.image_mode = 'full';\n",
       "\n",
       "    this.root = $('<div/>');\n",
       "    this._root_extra_style(this.root)\n",
       "    this.root.attr('style', 'display: inline-block');\n",
       "\n",
       "    $(parent_element).append(this.root);\n",
       "\n",
       "    this._init_header(this);\n",
       "    this._init_canvas(this);\n",
       "    this._init_toolbar(this);\n",
       "\n",
       "    var fig = this;\n",
       "\n",
       "    this.waiting = false;\n",
       "\n",
       "    this.ws.onopen =  function () {\n",
       "            fig.send_message(\"supports_binary\", {value: fig.supports_binary});\n",
       "            fig.send_message(\"send_image_mode\", {});\n",
       "            if (mpl.ratio != 1) {\n",
       "                fig.send_message(\"set_dpi_ratio\", {'dpi_ratio': mpl.ratio});\n",
       "            }\n",
       "            fig.send_message(\"refresh\", {});\n",
       "        }\n",
       "\n",
       "    this.imageObj.onload = function() {\n",
       "            if (fig.image_mode == 'full') {\n",
       "                // Full images could contain transparency (where diff images\n",
       "                // almost always do), so we need to clear the canvas so that\n",
       "                // there is no ghosting.\n",
       "                fig.context.clearRect(0, 0, fig.canvas.width, fig.canvas.height);\n",
       "            }\n",
       "            fig.context.drawImage(fig.imageObj, 0, 0);\n",
       "        };\n",
       "\n",
       "    this.imageObj.onunload = function() {\n",
       "        fig.ws.close();\n",
       "    }\n",
       "\n",
       "    this.ws.onmessage = this._make_on_message_function(this);\n",
       "\n",
       "    this.ondownload = ondownload;\n",
       "}\n",
       "\n",
       "mpl.figure.prototype._init_header = function() {\n",
       "    var titlebar = $(\n",
       "        '<div class=\"ui-dialog-titlebar ui-widget-header ui-corner-all ' +\n",
       "        'ui-helper-clearfix\"/>');\n",
       "    var titletext = $(\n",
       "        '<div class=\"ui-dialog-title\" style=\"width: 100%; ' +\n",
       "        'text-align: center; padding: 3px;\"/>');\n",
       "    titlebar.append(titletext)\n",
       "    this.root.append(titlebar);\n",
       "    this.header = titletext[0];\n",
       "}\n",
       "\n",
       "\n",
       "\n",
       "mpl.figure.prototype._canvas_extra_style = function(canvas_div) {\n",
       "\n",
       "}\n",
       "\n",
       "\n",
       "mpl.figure.prototype._root_extra_style = function(canvas_div) {\n",
       "\n",
       "}\n",
       "\n",
       "mpl.figure.prototype._init_canvas = function() {\n",
       "    var fig = this;\n",
       "\n",
       "    var canvas_div = $('<div/>');\n",
       "\n",
       "    canvas_div.attr('style', 'position: relative; clear: both; outline: 0');\n",
       "\n",
       "    function canvas_keyboard_event(event) {\n",
       "        return fig.key_event(event, event['data']);\n",
       "    }\n",
       "\n",
       "    canvas_div.keydown('key_press', canvas_keyboard_event);\n",
       "    canvas_div.keyup('key_release', canvas_keyboard_event);\n",
       "    this.canvas_div = canvas_div\n",
       "    this._canvas_extra_style(canvas_div)\n",
       "    this.root.append(canvas_div);\n",
       "\n",
       "    var canvas = $('<canvas/>');\n",
       "    canvas.addClass('mpl-canvas');\n",
       "    canvas.attr('style', \"left: 0; top: 0; z-index: 0; outline: 0\")\n",
       "\n",
       "    this.canvas = canvas[0];\n",
       "    this.context = canvas[0].getContext(\"2d\");\n",
       "\n",
       "    var backingStore = this.context.backingStorePixelRatio ||\n",
       "\tthis.context.webkitBackingStorePixelRatio ||\n",
       "\tthis.context.mozBackingStorePixelRatio ||\n",
       "\tthis.context.msBackingStorePixelRatio ||\n",
       "\tthis.context.oBackingStorePixelRatio ||\n",
       "\tthis.context.backingStorePixelRatio || 1;\n",
       "\n",
       "    mpl.ratio = (window.devicePixelRatio || 1) / backingStore;\n",
       "\n",
       "    var rubberband = $('<canvas/>');\n",
       "    rubberband.attr('style', \"position: absolute; left: 0; top: 0; z-index: 1;\")\n",
       "\n",
       "    var pass_mouse_events = true;\n",
       "\n",
       "    canvas_div.resizable({\n",
       "        start: function(event, ui) {\n",
       "            pass_mouse_events = false;\n",
       "        },\n",
       "        resize: function(event, ui) {\n",
       "            fig.request_resize(ui.size.width, ui.size.height);\n",
       "        },\n",
       "        stop: function(event, ui) {\n",
       "            pass_mouse_events = true;\n",
       "            fig.request_resize(ui.size.width, ui.size.height);\n",
       "        },\n",
       "    });\n",
       "\n",
       "    function mouse_event_fn(event) {\n",
       "        if (pass_mouse_events)\n",
       "            return fig.mouse_event(event, event['data']);\n",
       "    }\n",
       "\n",
       "    rubberband.mousedown('button_press', mouse_event_fn);\n",
       "    rubberband.mouseup('button_release', mouse_event_fn);\n",
       "    // Throttle sequential mouse events to 1 every 20ms.\n",
       "    rubberband.mousemove('motion_notify', mouse_event_fn);\n",
       "\n",
       "    rubberband.mouseenter('figure_enter', mouse_event_fn);\n",
       "    rubberband.mouseleave('figure_leave', mouse_event_fn);\n",
       "\n",
       "    canvas_div.on(\"wheel\", function (event) {\n",
       "        event = event.originalEvent;\n",
       "        event['data'] = 'scroll'\n",
       "        if (event.deltaY < 0) {\n",
       "            event.step = 1;\n",
       "        } else {\n",
       "            event.step = -1;\n",
       "        }\n",
       "        mouse_event_fn(event);\n",
       "    });\n",
       "\n",
       "    canvas_div.append(canvas);\n",
       "    canvas_div.append(rubberband);\n",
       "\n",
       "    this.rubberband = rubberband;\n",
       "    this.rubberband_canvas = rubberband[0];\n",
       "    this.rubberband_context = rubberband[0].getContext(\"2d\");\n",
       "    this.rubberband_context.strokeStyle = \"#000000\";\n",
       "\n",
       "    this._resize_canvas = function(width, height) {\n",
       "        // Keep the size of the canvas, canvas container, and rubber band\n",
       "        // canvas in synch.\n",
       "        canvas_div.css('width', width)\n",
       "        canvas_div.css('height', height)\n",
       "\n",
       "        canvas.attr('width', width * mpl.ratio);\n",
       "        canvas.attr('height', height * mpl.ratio);\n",
       "        canvas.attr('style', 'width: ' + width + 'px; height: ' + height + 'px;');\n",
       "\n",
       "        rubberband.attr('width', width);\n",
       "        rubberband.attr('height', height);\n",
       "    }\n",
       "\n",
       "    // Set the figure to an initial 600x600px, this will subsequently be updated\n",
       "    // upon first draw.\n",
       "    this._resize_canvas(600, 600);\n",
       "\n",
       "    // Disable right mouse context menu.\n",
       "    $(this.rubberband_canvas).bind(\"contextmenu\",function(e){\n",
       "        return false;\n",
       "    });\n",
       "\n",
       "    function set_focus () {\n",
       "        canvas.focus();\n",
       "        canvas_div.focus();\n",
       "    }\n",
       "\n",
       "    window.setTimeout(set_focus, 100);\n",
       "}\n",
       "\n",
       "mpl.figure.prototype._init_toolbar = function() {\n",
       "    var fig = this;\n",
       "\n",
       "    var nav_element = $('<div/>');\n",
       "    nav_element.attr('style', 'width: 100%');\n",
       "    this.root.append(nav_element);\n",
       "\n",
       "    // Define a callback function for later on.\n",
       "    function toolbar_event(event) {\n",
       "        return fig.toolbar_button_onclick(event['data']);\n",
       "    }\n",
       "    function toolbar_mouse_event(event) {\n",
       "        return fig.toolbar_button_onmouseover(event['data']);\n",
       "    }\n",
       "\n",
       "    for(var toolbar_ind in mpl.toolbar_items) {\n",
       "        var name = mpl.toolbar_items[toolbar_ind][0];\n",
       "        var tooltip = mpl.toolbar_items[toolbar_ind][1];\n",
       "        var image = mpl.toolbar_items[toolbar_ind][2];\n",
       "        var method_name = mpl.toolbar_items[toolbar_ind][3];\n",
       "\n",
       "        if (!name) {\n",
       "            // put a spacer in here.\n",
       "            continue;\n",
       "        }\n",
       "        var button = $('<button/>');\n",
       "        button.addClass('ui-button ui-widget ui-state-default ui-corner-all ' +\n",
       "                        'ui-button-icon-only');\n",
       "        button.attr('role', 'button');\n",
       "        button.attr('aria-disabled', 'false');\n",
       "        button.click(method_name, toolbar_event);\n",
       "        button.mouseover(tooltip, toolbar_mouse_event);\n",
       "\n",
       "        var icon_img = $('<span/>');\n",
       "        icon_img.addClass('ui-button-icon-primary ui-icon');\n",
       "        icon_img.addClass(image);\n",
       "        icon_img.addClass('ui-corner-all');\n",
       "\n",
       "        var tooltip_span = $('<span/>');\n",
       "        tooltip_span.addClass('ui-button-text');\n",
       "        tooltip_span.html(tooltip);\n",
       "\n",
       "        button.append(icon_img);\n",
       "        button.append(tooltip_span);\n",
       "\n",
       "        nav_element.append(button);\n",
       "    }\n",
       "\n",
       "    var fmt_picker_span = $('<span/>');\n",
       "\n",
       "    var fmt_picker = $('<select/>');\n",
       "    fmt_picker.addClass('mpl-toolbar-option ui-widget ui-widget-content');\n",
       "    fmt_picker_span.append(fmt_picker);\n",
       "    nav_element.append(fmt_picker_span);\n",
       "    this.format_dropdown = fmt_picker[0];\n",
       "\n",
       "    for (var ind in mpl.extensions) {\n",
       "        var fmt = mpl.extensions[ind];\n",
       "        var option = $(\n",
       "            '<option/>', {selected: fmt === mpl.default_extension}).html(fmt);\n",
       "        fmt_picker.append(option);\n",
       "    }\n",
       "\n",
       "    // Add hover states to the ui-buttons\n",
       "    $( \".ui-button\" ).hover(\n",
       "        function() { $(this).addClass(\"ui-state-hover\");},\n",
       "        function() { $(this).removeClass(\"ui-state-hover\");}\n",
       "    );\n",
       "\n",
       "    var status_bar = $('<span class=\"mpl-message\"/>');\n",
       "    nav_element.append(status_bar);\n",
       "    this.message = status_bar[0];\n",
       "}\n",
       "\n",
       "mpl.figure.prototype.request_resize = function(x_pixels, y_pixels) {\n",
       "    // Request matplotlib to resize the figure. Matplotlib will then trigger a resize in the client,\n",
       "    // which will in turn request a refresh of the image.\n",
       "    this.send_message('resize', {'width': x_pixels, 'height': y_pixels});\n",
       "}\n",
       "\n",
       "mpl.figure.prototype.send_message = function(type, properties) {\n",
       "    properties['type'] = type;\n",
       "    properties['figure_id'] = this.id;\n",
       "    this.ws.send(JSON.stringify(properties));\n",
       "}\n",
       "\n",
       "mpl.figure.prototype.send_draw_message = function() {\n",
       "    if (!this.waiting) {\n",
       "        this.waiting = true;\n",
       "        this.ws.send(JSON.stringify({type: \"draw\", figure_id: this.id}));\n",
       "    }\n",
       "}\n",
       "\n",
       "\n",
       "mpl.figure.prototype.handle_save = function(fig, msg) {\n",
       "    var format_dropdown = fig.format_dropdown;\n",
       "    var format = format_dropdown.options[format_dropdown.selectedIndex].value;\n",
       "    fig.ondownload(fig, format);\n",
       "}\n",
       "\n",
       "\n",
       "mpl.figure.prototype.handle_resize = function(fig, msg) {\n",
       "    var size = msg['size'];\n",
       "    if (size[0] != fig.canvas.width || size[1] != fig.canvas.height) {\n",
       "        fig._resize_canvas(size[0], size[1]);\n",
       "        fig.send_message(\"refresh\", {});\n",
       "    };\n",
       "}\n",
       "\n",
       "mpl.figure.prototype.handle_rubberband = function(fig, msg) {\n",
       "    var x0 = msg['x0'] / mpl.ratio;\n",
       "    var y0 = (fig.canvas.height - msg['y0']) / mpl.ratio;\n",
       "    var x1 = msg['x1'] / mpl.ratio;\n",
       "    var y1 = (fig.canvas.height - msg['y1']) / mpl.ratio;\n",
       "    x0 = Math.floor(x0) + 0.5;\n",
       "    y0 = Math.floor(y0) + 0.5;\n",
       "    x1 = Math.floor(x1) + 0.5;\n",
       "    y1 = Math.floor(y1) + 0.5;\n",
       "    var min_x = Math.min(x0, x1);\n",
       "    var min_y = Math.min(y0, y1);\n",
       "    var width = Math.abs(x1 - x0);\n",
       "    var height = Math.abs(y1 - y0);\n",
       "\n",
       "    fig.rubberband_context.clearRect(\n",
       "        0, 0, fig.canvas.width / mpl.ratio, fig.canvas.height / mpl.ratio);\n",
       "\n",
       "    fig.rubberband_context.strokeRect(min_x, min_y, width, height);\n",
       "}\n",
       "\n",
       "mpl.figure.prototype.handle_figure_label = function(fig, msg) {\n",
       "    // Updates the figure title.\n",
       "    fig.header.textContent = msg['label'];\n",
       "}\n",
       "\n",
       "mpl.figure.prototype.handle_cursor = function(fig, msg) {\n",
       "    var cursor = msg['cursor'];\n",
       "    switch(cursor)\n",
       "    {\n",
       "    case 0:\n",
       "        cursor = 'pointer';\n",
       "        break;\n",
       "    case 1:\n",
       "        cursor = 'default';\n",
       "        break;\n",
       "    case 2:\n",
       "        cursor = 'crosshair';\n",
       "        break;\n",
       "    case 3:\n",
       "        cursor = 'move';\n",
       "        break;\n",
       "    }\n",
       "    fig.rubberband_canvas.style.cursor = cursor;\n",
       "}\n",
       "\n",
       "mpl.figure.prototype.handle_message = function(fig, msg) {\n",
       "    fig.message.textContent = msg['message'];\n",
       "}\n",
       "\n",
       "mpl.figure.prototype.handle_draw = function(fig, msg) {\n",
       "    // Request the server to send over a new figure.\n",
       "    fig.send_draw_message();\n",
       "}\n",
       "\n",
       "mpl.figure.prototype.handle_image_mode = function(fig, msg) {\n",
       "    fig.image_mode = msg['mode'];\n",
       "}\n",
       "\n",
       "mpl.figure.prototype.updated_canvas_event = function() {\n",
       "    // Called whenever the canvas gets updated.\n",
       "    this.send_message(\"ack\", {});\n",
       "}\n",
       "\n",
       "// A function to construct a web socket function for onmessage handling.\n",
       "// Called in the figure constructor.\n",
       "mpl.figure.prototype._make_on_message_function = function(fig) {\n",
       "    return function socket_on_message(evt) {\n",
       "        if (evt.data instanceof Blob) {\n",
       "            /* FIXME: We get \"Resource interpreted as Image but\n",
       "             * transferred with MIME type text/plain:\" errors on\n",
       "             * Chrome.  But how to set the MIME type?  It doesn't seem\n",
       "             * to be part of the websocket stream */\n",
       "            evt.data.type = \"image/png\";\n",
       "\n",
       "            /* Free the memory for the previous frames */\n",
       "            if (fig.imageObj.src) {\n",
       "                (window.URL || window.webkitURL).revokeObjectURL(\n",
       "                    fig.imageObj.src);\n",
       "            }\n",
       "\n",
       "            fig.imageObj.src = (window.URL || window.webkitURL).createObjectURL(\n",
       "                evt.data);\n",
       "            fig.updated_canvas_event();\n",
       "            fig.waiting = false;\n",
       "            return;\n",
       "        }\n",
       "        else if (typeof evt.data === 'string' && evt.data.slice(0, 21) == \"data:image/png;base64\") {\n",
       "            fig.imageObj.src = evt.data;\n",
       "            fig.updated_canvas_event();\n",
       "            fig.waiting = false;\n",
       "            return;\n",
       "        }\n",
       "\n",
       "        var msg = JSON.parse(evt.data);\n",
       "        var msg_type = msg['type'];\n",
       "\n",
       "        // Call the  \"handle_{type}\" callback, which takes\n",
       "        // the figure and JSON message as its only arguments.\n",
       "        try {\n",
       "            var callback = fig[\"handle_\" + msg_type];\n",
       "        } catch (e) {\n",
       "            console.log(\"No handler for the '\" + msg_type + \"' message type: \", msg);\n",
       "            return;\n",
       "        }\n",
       "\n",
       "        if (callback) {\n",
       "            try {\n",
       "                // console.log(\"Handling '\" + msg_type + \"' message: \", msg);\n",
       "                callback(fig, msg);\n",
       "            } catch (e) {\n",
       "                console.log(\"Exception inside the 'handler_\" + msg_type + \"' callback:\", e, e.stack, msg);\n",
       "            }\n",
       "        }\n",
       "    };\n",
       "}\n",
       "\n",
       "// from http://stackoverflow.com/questions/1114465/getting-mouse-location-in-canvas\n",
       "mpl.findpos = function(e) {\n",
       "    //this section is from http://www.quirksmode.org/js/events_properties.html\n",
       "    var targ;\n",
       "    if (!e)\n",
       "        e = window.event;\n",
       "    if (e.target)\n",
       "        targ = e.target;\n",
       "    else if (e.srcElement)\n",
       "        targ = e.srcElement;\n",
       "    if (targ.nodeType == 3) // defeat Safari bug\n",
       "        targ = targ.parentNode;\n",
       "\n",
       "    // jQuery normalizes the pageX and pageY\n",
       "    // pageX,Y are the mouse positions relative to the document\n",
       "    // offset() returns the position of the element relative to the document\n",
       "    var x = e.pageX - $(targ).offset().left;\n",
       "    var y = e.pageY - $(targ).offset().top;\n",
       "\n",
       "    return {\"x\": x, \"y\": y};\n",
       "};\n",
       "\n",
       "/*\n",
       " * return a copy of an object with only non-object keys\n",
       " * we need this to avoid circular references\n",
       " * http://stackoverflow.com/a/24161582/3208463\n",
       " */\n",
       "function simpleKeys (original) {\n",
       "  return Object.keys(original).reduce(function (obj, key) {\n",
       "    if (typeof original[key] !== 'object')\n",
       "        obj[key] = original[key]\n",
       "    return obj;\n",
       "  }, {});\n",
       "}\n",
       "\n",
       "mpl.figure.prototype.mouse_event = function(event, name) {\n",
       "    var canvas_pos = mpl.findpos(event)\n",
       "\n",
       "    if (name === 'button_press')\n",
       "    {\n",
       "        this.canvas.focus();\n",
       "        this.canvas_div.focus();\n",
       "    }\n",
       "\n",
       "    var x = canvas_pos.x * mpl.ratio;\n",
       "    var y = canvas_pos.y * mpl.ratio;\n",
       "\n",
       "    this.send_message(name, {x: x, y: y, button: event.button,\n",
       "                             step: event.step,\n",
       "                             guiEvent: simpleKeys(event)});\n",
       "\n",
       "    /* This prevents the web browser from automatically changing to\n",
       "     * the text insertion cursor when the button is pressed.  We want\n",
       "     * to control all of the cursor setting manually through the\n",
       "     * 'cursor' event from matplotlib */\n",
       "    event.preventDefault();\n",
       "    return false;\n",
       "}\n",
       "\n",
       "mpl.figure.prototype._key_event_extra = function(event, name) {\n",
       "    // Handle any extra behaviour associated with a key event\n",
       "}\n",
       "\n",
       "mpl.figure.prototype.key_event = function(event, name) {\n",
       "\n",
       "    // Prevent repeat events\n",
       "    if (name == 'key_press')\n",
       "    {\n",
       "        if (event.which === this._key)\n",
       "            return;\n",
       "        else\n",
       "            this._key = event.which;\n",
       "    }\n",
       "    if (name == 'key_release')\n",
       "        this._key = null;\n",
       "\n",
       "    var value = '';\n",
       "    if (event.ctrlKey && event.which != 17)\n",
       "        value += \"ctrl+\";\n",
       "    if (event.altKey && event.which != 18)\n",
       "        value += \"alt+\";\n",
       "    if (event.shiftKey && event.which != 16)\n",
       "        value += \"shift+\";\n",
       "\n",
       "    value += 'k';\n",
       "    value += event.which.toString();\n",
       "\n",
       "    this._key_event_extra(event, name);\n",
       "\n",
       "    this.send_message(name, {key: value,\n",
       "                             guiEvent: simpleKeys(event)});\n",
       "    return false;\n",
       "}\n",
       "\n",
       "mpl.figure.prototype.toolbar_button_onclick = function(name) {\n",
       "    if (name == 'download') {\n",
       "        this.handle_save(this, null);\n",
       "    } else {\n",
       "        this.send_message(\"toolbar_button\", {name: name});\n",
       "    }\n",
       "};\n",
       "\n",
       "mpl.figure.prototype.toolbar_button_onmouseover = function(tooltip) {\n",
       "    this.message.textContent = tooltip;\n",
       "};\n",
       "mpl.toolbar_items = [[\"Home\", \"Reset original view\", \"fa fa-home icon-home\", \"home\"], [\"Back\", \"Back to previous view\", \"fa fa-arrow-left icon-arrow-left\", \"back\"], [\"Forward\", \"Forward to next view\", \"fa fa-arrow-right icon-arrow-right\", \"forward\"], [\"\", \"\", \"\", \"\"], [\"Pan\", \"Pan axes with left mouse, zoom with right\", \"fa fa-arrows icon-move\", \"pan\"], [\"Zoom\", \"Zoom to rectangle\", \"fa fa-square-o icon-check-empty\", \"zoom\"], [\"\", \"\", \"\", \"\"], [\"Download\", \"Download plot\", \"fa fa-floppy-o icon-save\", \"download\"]];\n",
       "\n",
       "mpl.extensions = [\"eps\", \"pdf\", \"png\", \"ps\", \"raw\", \"svg\"];\n",
       "\n",
       "mpl.default_extension = \"png\";var comm_websocket_adapter = function(comm) {\n",
       "    // Create a \"websocket\"-like object which calls the given IPython comm\n",
       "    // object with the appropriate methods. Currently this is a non binary\n",
       "    // socket, so there is still some room for performance tuning.\n",
       "    var ws = {};\n",
       "\n",
       "    ws.close = function() {\n",
       "        comm.close()\n",
       "    };\n",
       "    ws.send = function(m) {\n",
       "        //console.log('sending', m);\n",
       "        comm.send(m);\n",
       "    };\n",
       "    // Register the callback with on_msg.\n",
       "    comm.on_msg(function(msg) {\n",
       "        //console.log('receiving', msg['content']['data'], msg);\n",
       "        // Pass the mpl event to the overridden (by mpl) onmessage function.\n",
       "        ws.onmessage(msg['content']['data'])\n",
       "    });\n",
       "    return ws;\n",
       "}\n",
       "\n",
       "mpl.mpl_figure_comm = function(comm, msg) {\n",
       "    // This is the function which gets called when the mpl process\n",
       "    // starts-up an IPython Comm through the \"matplotlib\" channel.\n",
       "\n",
       "    var id = msg.content.data.id;\n",
       "    // Get hold of the div created by the display call when the Comm\n",
       "    // socket was opened in Python.\n",
       "    var element = $(\"#\" + id);\n",
       "    var ws_proxy = comm_websocket_adapter(comm)\n",
       "\n",
       "    function ondownload(figure, format) {\n",
       "        window.open(figure.imageObj.src);\n",
       "    }\n",
       "\n",
       "    var fig = new mpl.figure(id, ws_proxy,\n",
       "                           ondownload,\n",
       "                           element.get(0));\n",
       "\n",
       "    // Call onopen now - mpl needs it, as it is assuming we've passed it a real\n",
       "    // web socket which is closed, not our websocket->open comm proxy.\n",
       "    ws_proxy.onopen();\n",
       "\n",
       "    fig.parent_element = element.get(0);\n",
       "    fig.cell_info = mpl.find_output_cell(\"<div id='\" + id + \"'></div>\");\n",
       "    if (!fig.cell_info) {\n",
       "        console.error(\"Failed to find cell for figure\", id, fig);\n",
       "        return;\n",
       "    }\n",
       "\n",
       "    var output_index = fig.cell_info[2]\n",
       "    var cell = fig.cell_info[0];\n",
       "\n",
       "};\n",
       "\n",
       "mpl.figure.prototype.handle_close = function(fig, msg) {\n",
       "    var width = fig.canvas.width/mpl.ratio\n",
       "    fig.root.unbind('remove')\n",
       "\n",
       "    // Update the output cell to use the data from the current canvas.\n",
       "    fig.push_to_output();\n",
       "    var dataURL = fig.canvas.toDataURL();\n",
       "    // Re-enable the keyboard manager in IPython - without this line, in FF,\n",
       "    // the notebook keyboard shortcuts fail.\n",
       "    IPython.keyboard_manager.enable()\n",
       "    $(fig.parent_element).html('<img src=\"' + dataURL + '\" width=\"' + width + '\">');\n",
       "    fig.close_ws(fig, msg);\n",
       "}\n",
       "\n",
       "mpl.figure.prototype.close_ws = function(fig, msg){\n",
       "    fig.send_message('closing', msg);\n",
       "    // fig.ws.close()\n",
       "}\n",
       "\n",
       "mpl.figure.prototype.push_to_output = function(remove_interactive) {\n",
       "    // Turn the data on the canvas into data in the output cell.\n",
       "    var width = this.canvas.width/mpl.ratio\n",
       "    var dataURL = this.canvas.toDataURL();\n",
       "    this.cell_info[1]['text/html'] = '<img src=\"' + dataURL + '\" width=\"' + width + '\">';\n",
       "}\n",
       "\n",
       "mpl.figure.prototype.updated_canvas_event = function() {\n",
       "    // Tell IPython that the notebook contents must change.\n",
       "    IPython.notebook.set_dirty(true);\n",
       "    this.send_message(\"ack\", {});\n",
       "    var fig = this;\n",
       "    // Wait a second, then push the new image to the DOM so\n",
       "    // that it is saved nicely (might be nice to debounce this).\n",
       "    setTimeout(function () { fig.push_to_output() }, 1000);\n",
       "}\n",
       "\n",
       "mpl.figure.prototype._init_toolbar = function() {\n",
       "    var fig = this;\n",
       "\n",
       "    var nav_element = $('<div/>');\n",
       "    nav_element.attr('style', 'width: 100%');\n",
       "    this.root.append(nav_element);\n",
       "\n",
       "    // Define a callback function for later on.\n",
       "    function toolbar_event(event) {\n",
       "        return fig.toolbar_button_onclick(event['data']);\n",
       "    }\n",
       "    function toolbar_mouse_event(event) {\n",
       "        return fig.toolbar_button_onmouseover(event['data']);\n",
       "    }\n",
       "\n",
       "    for(var toolbar_ind in mpl.toolbar_items){\n",
       "        var name = mpl.toolbar_items[toolbar_ind][0];\n",
       "        var tooltip = mpl.toolbar_items[toolbar_ind][1];\n",
       "        var image = mpl.toolbar_items[toolbar_ind][2];\n",
       "        var method_name = mpl.toolbar_items[toolbar_ind][3];\n",
       "\n",
       "        if (!name) { continue; };\n",
       "\n",
       "        var button = $('<button class=\"btn btn-default\" href=\"#\" title=\"' + name + '\"><i class=\"fa ' + image + ' fa-lg\"></i></button>');\n",
       "        button.click(method_name, toolbar_event);\n",
       "        button.mouseover(tooltip, toolbar_mouse_event);\n",
       "        nav_element.append(button);\n",
       "    }\n",
       "\n",
       "    // Add the status bar.\n",
       "    var status_bar = $('<span class=\"mpl-message\" style=\"text-align:right; float: right;\"/>');\n",
       "    nav_element.append(status_bar);\n",
       "    this.message = status_bar[0];\n",
       "\n",
       "    // Add the close button to the window.\n",
       "    var buttongrp = $('<div class=\"btn-group inline pull-right\"></div>');\n",
       "    var button = $('<button class=\"btn btn-mini btn-primary\" href=\"#\" title=\"Stop Interaction\"><i class=\"fa fa-power-off icon-remove icon-large\"></i></button>');\n",
       "    button.click(function (evt) { fig.handle_close(fig, {}); } );\n",
       "    button.mouseover('Stop Interaction', toolbar_mouse_event);\n",
       "    buttongrp.append(button);\n",
       "    var titlebar = this.root.find($('.ui-dialog-titlebar'));\n",
       "    titlebar.prepend(buttongrp);\n",
       "}\n",
       "\n",
       "mpl.figure.prototype._root_extra_style = function(el){\n",
       "    var fig = this\n",
       "    el.on(\"remove\", function(){\n",
       "\tfig.close_ws(fig, {});\n",
       "    });\n",
       "}\n",
       "\n",
       "mpl.figure.prototype._canvas_extra_style = function(el){\n",
       "    // this is important to make the div 'focusable\n",
       "    el.attr('tabindex', 0)\n",
       "    // reach out to IPython and tell the keyboard manager to turn it's self\n",
       "    // off when our div gets focus\n",
       "\n",
       "    // location in version 3\n",
       "    if (IPython.notebook.keyboard_manager) {\n",
       "        IPython.notebook.keyboard_manager.register_events(el);\n",
       "    }\n",
       "    else {\n",
       "        // location in version 2\n",
       "        IPython.keyboard_manager.register_events(el);\n",
       "    }\n",
       "\n",
       "}\n",
       "\n",
       "mpl.figure.prototype._key_event_extra = function(event, name) {\n",
       "    var manager = IPython.notebook.keyboard_manager;\n",
       "    if (!manager)\n",
       "        manager = IPython.keyboard_manager;\n",
       "\n",
       "    // Check for shift+enter\n",
       "    if (event.shiftKey && event.which == 13) {\n",
       "        this.canvas_div.blur();\n",
       "        // select the cell after this one\n",
       "        var index = IPython.notebook.find_cell_index(this.cell_info[0]);\n",
       "        IPython.notebook.select(index + 1);\n",
       "    }\n",
       "}\n",
       "\n",
       "mpl.figure.prototype.handle_save = function(fig, msg) {\n",
       "    fig.ondownload(fig, null);\n",
       "}\n",
       "\n",
       "\n",
       "mpl.find_output_cell = function(html_output) {\n",
       "    // Return the cell and output element which can be found *uniquely* in the notebook.\n",
       "    // Note - this is a bit hacky, but it is done because the \"notebook_saving.Notebook\"\n",
       "    // IPython event is triggered only after the cells have been serialised, which for\n",
       "    // our purposes (turning an active figure into a static one), is too late.\n",
       "    var cells = IPython.notebook.get_cells();\n",
       "    var ncells = cells.length;\n",
       "    for (var i=0; i<ncells; i++) {\n",
       "        var cell = cells[i];\n",
       "        if (cell.cell_type === 'code'){\n",
       "            for (var j=0; j<cell.output_area.outputs.length; j++) {\n",
       "                var data = cell.output_area.outputs[j];\n",
       "                if (data.data) {\n",
       "                    // IPython >= 3 moved mimebundle to data attribute of output\n",
       "                    data = data.data;\n",
       "                }\n",
       "                if (data['text/html'] == html_output) {\n",
       "                    return [cell, data, j];\n",
       "                }\n",
       "            }\n",
       "        }\n",
       "    }\n",
       "}\n",
       "\n",
       "// Register the function which deals with the matplotlib target/channel.\n",
       "// The kernel may be null if the page has been refreshed.\n",
       "if (IPython.notebook.kernel != null) {\n",
       "    IPython.notebook.kernel.comm_manager.register_target('matplotlib', mpl.mpl_figure_comm);\n",
       "}\n"
      ],
      "text/plain": [
       "<IPython.core.display.Javascript object>"
      ]
     },
     "metadata": {},
     "output_type": "display_data"
    },
    {
     "data": {
      "text/html": [
       "<img src=\"data:image/png;base64,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\" width=\"640\">"
      ],
      "text/plain": [
       "<IPython.core.display.HTML object>"
      ]
     },
     "metadata": {},
     "output_type": "display_data"
    },
    {
     "data": {
      "text/plain": [
       "(array([1.0000000e+00, 4.0000000e+00, 3.4700000e+02, 4.5100000e+02,\n",
       "        4.5000000e+02, 1.6100000e+02, 2.6200000e+02, 3.0600000e+02,\n",
       "        1.2000000e+03, 3.5000000e+02, 1.6310000e+03, 4.4940000e+03,\n",
       "        3.3150000e+03, 1.4390000e+03, 4.3430000e+03, 3.7900000e+03,\n",
       "        4.0260000e+03, 1.8690000e+03, 5.5230000e+03, 3.8530000e+03,\n",
       "        3.6260000e+03, 4.0940000e+03, 7.0490000e+03, 6.8570000e+03,\n",
       "        1.1480000e+04, 3.5780000e+03, 3.1690000e+03, 4.8990000e+03,\n",
       "        5.7680000e+03, 4.4020000e+03, 1.4008000e+04, 1.5326000e+04,\n",
       "        1.2936000e+04, 6.7680000e+03, 1.2054000e+04, 9.4220000e+03,\n",
       "        1.4933000e+04, 2.0826000e+04, 2.4690000e+04, 2.7418000e+04,\n",
       "        3.8647000e+04, 4.4413000e+04, 2.8256000e+04, 5.2764000e+04,\n",
       "        5.2690000e+04, 5.9904000e+04, 8.9237000e+04, 1.3203400e+05,\n",
       "        1.7825100e+05, 2.0647800e+05, 2.6551000e+05, 2.9475400e+05,\n",
       "        3.8794100e+05, 3.8376400e+05, 4.8608800e+05, 6.2063100e+05,\n",
       "        6.3034100e+05, 7.4405200e+05, 7.9376600e+05, 7.2158730e+06,\n",
       "        9.9057800e+05, 1.0131580e+06, 1.3301750e+06, 2.5695990e+06,\n",
       "        2.3454970e+06, 1.3161462e+07, 9.6935900e+05, 1.0755730e+06,\n",
       "        4.3206800e+05, 3.8497700e+05, 4.8346500e+05, 5.4144900e+05,\n",
       "        3.2735800e+05, 2.1551000e+05, 1.4967800e+05, 1.6575100e+05,\n",
       "        1.8505800e+05, 1.3510800e+05, 1.3907900e+05, 1.1067700e+05,\n",
       "        9.4679000e+04, 9.0035000e+04, 6.0028000e+04, 4.9848000e+04,\n",
       "        6.1005000e+04, 4.1389000e+04, 4.8931000e+04, 3.0104000e+04,\n",
       "        1.0042900e+05, 2.1093000e+04, 7.1380000e+03, 4.0770000e+03,\n",
       "        7.2380000e+03, 3.4310000e+03, 1.4820000e+03, 6.3700000e+02,\n",
       "        5.1800000e+02, 3.9400000e+02, 6.9000000e+01, 2.4000000e+01]),\n",
       " array([-0.2389    , -0.23488751, -0.230875  , -0.2268625 , -0.22285001,\n",
       "        -0.2188375 , -0.214825  , -0.21081251, -0.2068    , -0.2027875 ,\n",
       "        -0.19877501, -0.1947625 , -0.19075   , -0.18673751, -0.18272501,\n",
       "        -0.1787125 , -0.1747    , -0.17068751, -0.166675  , -0.1626625 ,\n",
       "        -0.15865001, -0.1546375 , -0.150625  , -0.14661251, -0.1426    ,\n",
       "        -0.1385875 , -0.13457501, -0.1305625 , -0.12655   , -0.1225375 ,\n",
       "        -0.11852501, -0.1145125 , -0.11050001, -0.10648751, -0.102475  ,\n",
       "        -0.09846251, -0.09445   , -0.0904375 , -0.08642501, -0.0824125 ,\n",
       "        -0.0784    , -0.07438751, -0.070375  , -0.0663625 , -0.06235   ,\n",
       "        -0.0583375 , -0.054325  , -0.0503125 , -0.04630001, -0.0422875 ,\n",
       "        -0.038275  , -0.0342625 , -0.03025   , -0.0262375 , -0.022225  ,\n",
       "        -0.0182125 , -0.0142    , -0.0101875 , -0.006175  , -0.0021625 ,\n",
       "         0.00185   ,  0.0058625 ,  0.009875  ,  0.0138875 ,  0.0179    ,\n",
       "         0.0219125 ,  0.025925  ,  0.0299375 ,  0.03395   ,  0.0379625 ,\n",
       "         0.041975  ,  0.0459875 ,  0.05      ,  0.0540125 ,  0.058025  ,\n",
       "         0.0620375 ,  0.06605   ,  0.0700625 ,  0.074075  ,  0.0780875 ,\n",
       "         0.0821    ,  0.0861125 ,  0.09012499,  0.0941375 ,  0.09815   ,\n",
       "         0.1021625 ,  0.106175  ,  0.1101875 ,  0.1142    ,  0.1182125 ,\n",
       "         0.122225  ,  0.1262375 ,  0.13024999,  0.1342625 ,  0.138275  ,\n",
       "         0.1422875 ,  0.1463    ,  0.1503125 ,  0.154325  ,  0.1583375 ,\n",
       "         0.16235   ], dtype=float32),\n",
       " <a list of 100 Patch objects>)"
      ]
     },
     "execution_count": 24,
     "metadata": {},
     "output_type": "execute_result"
    }
   ],
   "source": [
    "plt.grid()\n",
    "plt.hist(static_dataset_val[:,1].flatten(), 100)"
   ]
  },
  {
   "cell_type": "code",
   "execution_count": null,
   "metadata": {},
   "outputs": [],
   "source": []
  },
  {
   "cell_type": "code",
   "execution_count": null,
   "metadata": {},
   "outputs": [],
   "source": []
  },
  {
   "cell_type": "code",
   "execution_count": null,
   "metadata": {},
   "outputs": [],
   "source": []
  },
  {
   "cell_type": "code",
   "execution_count": null,
   "metadata": {},
   "outputs": [],
   "source": []
  },
  {
   "cell_type": "code",
   "execution_count": null,
   "metadata": {},
   "outputs": [],
   "source": []
  }
 ],
 "metadata": {
  "kernelspec": {
   "display_name": "Python 3",
   "language": "python",
   "name": "python3"
  },
  "language_info": {
   "codemirror_mode": {
    "name": "ipython",
    "version": 3
   },
   "file_extension": ".py",
   "mimetype": "text/x-python",
   "name": "python",
   "nbconvert_exporter": "python",
   "pygments_lexer": "ipython3",
   "version": "3.6.10"
  },
  "toc": {
   "base_numbering": 1,
   "nav_menu": {},
   "number_sections": true,
   "sideBar": true,
   "skip_h1_title": false,
   "title_cell": "Table of Contents",
   "title_sidebar": "Contents",
   "toc_cell": false,
   "toc_position": {},
   "toc_section_display": true,
   "toc_window_display": false
  }
 },
 "nbformat": 4,
 "nbformat_minor": 4
}
