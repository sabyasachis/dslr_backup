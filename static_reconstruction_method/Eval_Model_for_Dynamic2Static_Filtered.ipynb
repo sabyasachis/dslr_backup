{
 "cells": [
  {
   "cell_type": "markdown",
   "metadata": {},
   "source": [
    "Imports"
   ]
  },
  {
   "cell_type": "code",
   "execution_count": 1,
   "metadata": {
    "ExecuteTime": {
     "end_time": "2020-02-07T16:34:33.398018Z",
     "start_time": "2020-02-07T16:34:28.756999Z"
    }
   },
   "outputs": [],
   "source": [
    "from torchvision import datasets, transforms\n",
    "import torch.utils.data\n",
    "import torch\n",
    "import sys\n",
    "import argparse\n",
    "import matplotlib.pyplot as plt\n",
    "from utils import * \n",
    "from utils import *\n",
    "import open3d as o3d\n",
    "from models import *\n",
    "from collections import OrderedDict\n",
    "import os, shutil, gc\n",
    "from tqdm import tqdm_notebook"
   ]
  },
  {
   "cell_type": "code",
   "execution_count": 2,
   "metadata": {
    "ExecuteTime": {
     "end_time": "2020-02-07T16:34:33.421142Z",
     "start_time": "2020-02-07T16:34:33.399776Z"
    }
   },
   "outputs": [],
   "source": [
    "%matplotlib notebook"
   ]
  },
  {
   "cell_type": "markdown",
   "metadata": {},
   "source": [
    "Args"
   ]
  },
  {
   "cell_type": "code",
   "execution_count": 3,
   "metadata": {
    "ExecuteTime": {
     "end_time": "2020-02-07T16:34:33.435758Z",
     "start_time": "2020-02-07T16:34:33.424613Z"
    }
   },
   "outputs": [
    {
     "data": {
      "text/plain": [
       "_StoreTrueAction(option_strings=['--debug'], dest='debug', nargs=0, const=True, default=False, type=None, choices=None, help=None, metavar=None)"
      ]
     },
     "execution_count": 3,
     "metadata": {},
     "output_type": "execute_result"
    }
   ],
   "source": [
    "parser = argparse.ArgumentParser(description='VAE training of LiDAR')\n",
    "parser.add_argument('--batch_size',         type=int,   default=32,             help='size of minibatch used during training')\n",
    "parser.add_argument('--use_selu',           type=int,   default=0,              help='replaces batch_norm + act with SELU')\n",
    "parser.add_argument('--base_dir',           type=str,   default='runs/test',    help='root of experiment directory')\n",
    "parser.add_argument('--no_polar',           type=int,   default=0,              help='if True, the representation used is (X,Y,Z), instead of (D, Z), where D=sqrt(X^2+Y^2)')\n",
    "parser.add_argument('--lr',                 type=float, default=1e-3,           help='learning rate value')\n",
    "parser.add_argument('--z_dim',              type=int,   default=1024,            help='size of the bottleneck dimension in the VAE, or the latent noise size in GAN')\n",
    "parser.add_argument('--autoencoder',        type=int,   default=1,              help='if True, we do not enforce the KL regularization cost in the VAE')\n",
    "parser.add_argument('--atlas_baseline',     type=int,   default=0,              help='If true, Atlas model used. Also determines the number of primitives used in the model')\n",
    "parser.add_argument('--panos_baseline',     type=int,   default=0,              help='If True, Model by Panos Achlioptas used')\n",
    "parser.add_argument('--kl_warmup_epochs',   type=int,   default=150,            help='number of epochs before fully enforcing the KL loss')\n",
    "parser.add_argument('--debug', action='store_true')"
   ]
  },
  {
   "cell_type": "code",
   "execution_count": 4,
   "metadata": {
    "ExecuteTime": {
     "end_time": "2020-02-07T16:34:33.464366Z",
     "start_time": "2020-02-07T16:34:33.437374Z"
    }
   },
   "outputs": [
    {
     "data": {
      "text/plain": [
       "Namespace(atlas_baseline=0, autoencoder=1, base_dir='runs/test', batch_size=32, debug=False, kl_warmup_epochs=150, lr=0.001, no_polar=0, panos_baseline=0, use_selu=0, z_dim=1024)"
      ]
     },
     "execution_count": 4,
     "metadata": {},
     "output_type": "execute_result"
    }
   ],
   "source": [
    "args = parser.parse_args([])\n",
    "args"
   ]
  },
  {
   "cell_type": "code",
   "execution_count": null,
   "metadata": {},
   "outputs": [],
   "source": []
  },
  {
   "cell_type": "code",
   "execution_count": 5,
   "metadata": {
    "ExecuteTime": {
     "end_time": "2020-02-07T16:34:33.470562Z",
     "start_time": "2020-02-07T16:34:33.466964Z"
    }
   },
   "outputs": [],
   "source": [
    "# model_file = '/home/sabyasachi/Projects/ati/ati_motors/adversarial_based/prashVAE/new_runs/unet_more_layers_restarted_with_more_data_ctd/models/gen_118.pth'\n",
    "model_file = '/home/saby/Projects/ati/ati_motors/adversarial_based/static_reconstruction_method/second_attempt_triple_data_restarted_correctly_1024/models/gen_150.pth'\n",
    "\n",
    "MODEL_USED_DATA_PARALLEL = False"
   ]
  },
  {
   "cell_type": "code",
   "execution_count": null,
   "metadata": {},
   "outputs": [],
   "source": []
  },
  {
   "cell_type": "markdown",
   "metadata": {},
   "source": [
    "Load Model"
   ]
  },
  {
   "cell_type": "code",
   "execution_count": null,
   "metadata": {},
   "outputs": [],
   "source": []
  },
  {
   "cell_type": "code",
   "execution_count": 6,
   "metadata": {
    "ExecuteTime": {
     "end_time": "2020-02-07T16:34:37.942705Z",
     "start_time": "2020-02-07T16:34:33.473109Z"
    },
    "scrolled": true
   },
   "outputs": [
    {
     "name": "stdout",
     "output_type": "stream",
     "text": [
      "Loading model from /home/saby/Projects/ati/ati_motors/adversarial_based/static_reconstruction_method/second_attempt_triple_data_restarted_correctly_1024/models/gen_150.pth\n"
     ]
    },
    {
     "data": {
      "text/plain": [
       "VAE(\n",
       "  (encoder_conv2d_a): Sequential(\n",
       "    (0): Conv2d(2, 64, kernel_size=(3, 3), stride=(1, 1), padding=(1, 1), bias=False)\n",
       "  )\n",
       "  (encoder_leakyrelu_b): Sequential(\n",
       "    (0): LeakyReLU(negative_slope=0.2, inplace=True)\n",
       "  )\n",
       "  (encoder_conv2d_A): Sequential(\n",
       "    (0): Conv2d(64, 64, kernel_size=(3, 3), stride=(1, 1), padding=(1, 1), bias=False)\n",
       "  )\n",
       "  (encoder_leakyrelu_B): Sequential(\n",
       "    (0): LeakyReLU(negative_slope=0.2, inplace=True)\n",
       "  )\n",
       "  (encoder_conv2d_1): Sequential(\n",
       "    (0): Conv2d(64, 64, kernel_size=(3, 3), stride=(2, 2), padding=(1, 1), bias=False)\n",
       "  )\n",
       "  (encoder_leakyrelu_2): Sequential(\n",
       "    (0): LeakyReLU(negative_slope=0.2, inplace=True)\n",
       "  )\n",
       "  (encoder_conv2d_c): Sequential(\n",
       "    (0): Conv2d(64, 64, kernel_size=(3, 3), stride=(1, 1), padding=(1, 1), bias=False)\n",
       "  )\n",
       "  (encoder_leakyrelu_d): Sequential(\n",
       "    (0): LeakyReLU(negative_slope=0.2, inplace=True)\n",
       "  )\n",
       "  (encoder_conv2d_C): Sequential(\n",
       "    (0): Conv2d(64, 64, kernel_size=(3, 3), stride=(1, 1), padding=(1, 1), bias=False)\n",
       "  )\n",
       "  (encoder_leakyrelu_D): Sequential(\n",
       "    (0): LeakyReLU(negative_slope=0.2, inplace=True)\n",
       "  )\n",
       "  (encoder_conv2d_3): Sequential(\n",
       "    (0): Conv2d(64, 128, kernel_size=(3, 3), stride=(2, 2), padding=(1, 1), bias=False)\n",
       "  )\n",
       "  (encoder_batchnorm2d_4): Sequential(\n",
       "    (0): BatchNorm2d(128, eps=1e-05, momentum=0.1, affine=True, track_running_stats=True)\n",
       "  )\n",
       "  (encoder_leakyrelu_5): Sequential(\n",
       "    (0): LeakyReLU(negative_slope=0.2, inplace=True)\n",
       "  )\n",
       "  (encoder_conv2d_e): Sequential(\n",
       "    (0): Conv2d(128, 128, kernel_size=(3, 3), stride=(1, 1), padding=(1, 1), bias=False)\n",
       "  )\n",
       "  (encoder_leakyrelu_f): Sequential(\n",
       "    (0): LeakyReLU(negative_slope=0.2, inplace=True)\n",
       "  )\n",
       "  (encoder_conv2d_E): Sequential(\n",
       "    (0): Conv2d(128, 128, kernel_size=(3, 3), stride=(1, 1), padding=(1, 1), bias=False)\n",
       "  )\n",
       "  (encoder_leakyrelu_F): Sequential(\n",
       "    (0): LeakyReLU(negative_slope=0.2, inplace=True)\n",
       "  )\n",
       "  (encoder_conv2d_6): Sequential(\n",
       "    (0): Conv2d(128, 256, kernel_size=(3, 3), stride=(2, 2), padding=(1, 1), bias=False)\n",
       "  )\n",
       "  (encoder_batchnorm2d_7): Sequential(\n",
       "    (0): BatchNorm2d(256, eps=1e-05, momentum=0.1, affine=True, track_running_stats=True)\n",
       "  )\n",
       "  (encoder_leakyrelu_8): Sequential(\n",
       "    (0): LeakyReLU(negative_slope=0.2, inplace=True)\n",
       "  )\n",
       "  (encoder_conv2d_g): Sequential(\n",
       "    (0): Conv2d(256, 256, kernel_size=(3, 3), stride=(1, 1), padding=(1, 1), bias=False)\n",
       "  )\n",
       "  (encoder_leakyrelu_h): Sequential(\n",
       "    (0): LeakyReLU(negative_slope=0.2, inplace=True)\n",
       "  )\n",
       "  (encoder_conv2d_G): Sequential(\n",
       "    (0): Conv2d(256, 256, kernel_size=(3, 3), stride=(1, 1), padding=(1, 1), bias=False)\n",
       "  )\n",
       "  (encoder_leakyrelu_H): Sequential(\n",
       "    (0): LeakyReLU(negative_slope=0.2, inplace=True)\n",
       "  )\n",
       "  (encoder_conv2d_9): Sequential(\n",
       "    (0): Conv2d(256, 512, kernel_size=(3, 3), stride=(2, 2), padding=(1, 1), bias=False)\n",
       "  )\n",
       "  (encoder_batchnorm2d_10): Sequential(\n",
       "    (0): BatchNorm2d(512, eps=1e-05, momentum=0.1, affine=True, track_running_stats=True)\n",
       "  )\n",
       "  (encoder_leakyrelu_11): Sequential(\n",
       "    (0): LeakyReLU(negative_slope=0.2, inplace=True)\n",
       "  )\n",
       "  (encoder_conv2d_12): Sequential(\n",
       "    (0): Conv2d(512, 1024, kernel_size=(1, 64), stride=(1, 1), bias=False)\n",
       "  )\n",
       "  (decoder_convtranspose2d_13): Sequential(\n",
       "    (0): ConvTranspose2d(1024, 512, kernel_size=(1, 64), stride=(1, 1), bias=False)\n",
       "  )\n",
       "  (decoder_batchnorm2d_14): Sequential(\n",
       "    (0): BatchNorm2d(512, eps=1e-05, momentum=0.1, affine=True, track_running_stats=True)\n",
       "  )\n",
       "  (decoder_relu_15): Sequential(\n",
       "    (0): ReLU(inplace=True)\n",
       "  )\n",
       "  (decoder_conv2d_i): Sequential(\n",
       "    (0): Conv2d(512, 512, kernel_size=(3, 3), stride=(1, 1), padding=(1, 1), bias=False)\n",
       "  )\n",
       "  (decoder_relu_j): Sequential(\n",
       "    (0): ReLU(inplace=True)\n",
       "  )\n",
       "  (decoder_convtranspose2d_16): Sequential(\n",
       "    (0): ConvTranspose2d(512, 256, kernel_size=(4, 4), stride=(2, 2), padding=(1, 1), bias=False)\n",
       "  )\n",
       "  (decoder_batchnorm2d_17): Sequential(\n",
       "    (0): BatchNorm2d(256, eps=1e-05, momentum=0.1, affine=True, track_running_stats=True)\n",
       "  )\n",
       "  (decoder_relu_18): Sequential(\n",
       "    (0): ReLU(inplace=True)\n",
       "  )\n",
       "  (decoder_conv2d_k): Sequential(\n",
       "    (0): Conv2d(512, 256, kernel_size=(3, 3), stride=(1, 1), padding=(1, 1), bias=False)\n",
       "  )\n",
       "  (decoder_relu_l): Sequential(\n",
       "    (0): ReLU(inplace=True)\n",
       "  )\n",
       "  (decoder_conv2d_K): Sequential(\n",
       "    (0): Conv2d(256, 256, kernel_size=(3, 3), stride=(1, 1), padding=(1, 1), bias=False)\n",
       "  )\n",
       "  (decoder_relu_L): Sequential(\n",
       "    (0): ReLU(inplace=True)\n",
       "  )\n",
       "  (decoder_convtranspose2d_19): Sequential(\n",
       "    (0): ConvTranspose2d(256, 128, kernel_size=(4, 4), stride=(2, 2), padding=(1, 1), bias=False)\n",
       "  )\n",
       "  (decoder_batchnorm2d_20): Sequential(\n",
       "    (0): BatchNorm2d(128, eps=1e-05, momentum=0.1, affine=True, track_running_stats=True)\n",
       "  )\n",
       "  (decoder_relu_21): Sequential(\n",
       "    (0): ReLU(inplace=True)\n",
       "  )\n",
       "  (decoder_conv2d_m): Sequential(\n",
       "    (0): Conv2d(256, 128, kernel_size=(3, 3), stride=(1, 1), padding=(1, 1), bias=False)\n",
       "  )\n",
       "  (decoder_relu_n): Sequential(\n",
       "    (0): ReLU(inplace=True)\n",
       "  )\n",
       "  (decoder_conv2d_M): Sequential(\n",
       "    (0): Conv2d(128, 128, kernel_size=(3, 3), stride=(1, 1), padding=(1, 1), bias=False)\n",
       "  )\n",
       "  (decoder_relu_N): Sequential(\n",
       "    (0): ReLU(inplace=True)\n",
       "  )\n",
       "  (decoder_convtranspose2d_22): Sequential(\n",
       "    (0): ConvTranspose2d(128, 64, kernel_size=(4, 4), stride=(2, 2), padding=(1, 1), bias=False)\n",
       "  )\n",
       "  (decoder_batchnorm2d_23): Sequential(\n",
       "    (0): BatchNorm2d(64, eps=1e-05, momentum=0.1, affine=True, track_running_stats=True)\n",
       "  )\n",
       "  (decoder_relu_24): Sequential(\n",
       "    (0): ReLU(inplace=True)\n",
       "  )\n",
       "  (decoder_conv2d_o): Sequential(\n",
       "    (0): Conv2d(128, 64, kernel_size=(3, 3), stride=(1, 1), padding=(1, 1), bias=False)\n",
       "  )\n",
       "  (decoder_relu_p): Sequential(\n",
       "    (0): ReLU(inplace=True)\n",
       "  )\n",
       "  (decoder_conv2d_O): Sequential(\n",
       "    (0): Conv2d(64, 64, kernel_size=(3, 3), stride=(1, 1), padding=(1, 1), bias=False)\n",
       "  )\n",
       "  (decoder_relu_P): Sequential(\n",
       "    (0): ReLU(inplace=True)\n",
       "  )\n",
       "  (decoder_convtranspose2d_25): Sequential(\n",
       "    (0): ConvTranspose2d(64, 64, kernel_size=(4, 4), stride=(2, 2), padding=(1, 1), bias=False)\n",
       "  )\n",
       "  (decoder_relu_26): Sequential(\n",
       "    (0): ReLU(inplace=True)\n",
       "  )\n",
       "  (decoder_conv2d_q): Sequential(\n",
       "    (0): Conv2d(128, 64, kernel_size=(3, 3), stride=(1, 1), padding=(1, 1), bias=False)\n",
       "  )\n",
       "  (decoder_relu_R): Sequential(\n",
       "    (0): ReLU(inplace=True)\n",
       "  )\n",
       "  (decoder_conv2d_Q): Sequential(\n",
       "    (0): Conv2d(64, 2, kernel_size=(3, 3), stride=(1, 1), padding=(1, 1), bias=False)\n",
       "  )\n",
       "  (tanh_27): Sequential(\n",
       "    (0): Tanh()\n",
       "  )\n",
       ")"
      ]
     },
     "execution_count": 6,
     "metadata": {},
     "output_type": "execute_result"
    }
   ],
   "source": [
    "model = VAE(args, n_filters=64).cuda()\n",
    "print(\"Loading model from {}\".format(model_file))\n",
    "network=torch.load(model_file)\n",
    "\n",
    "if MODEL_USED_DATA_PARALLEL:\n",
    "    # original saved file with DataParallel\n",
    "    state_dict = network\n",
    "    # create new OrderedDict that does not contain `module.`\n",
    "    new_state_dict = OrderedDict()\n",
    "\n",
    "    for k, v in state_dict.items():\n",
    "        name = k[7:] # remove `module.`\n",
    "        new_state_dict[name] = v\n",
    "\n",
    "    # load params\n",
    "    model.load_state_dict(new_state_dict)\n",
    "else:\n",
    "    model.load_state_dict(network)\n",
    "model.eval()"
   ]
  },
  {
   "cell_type": "code",
   "execution_count": null,
   "metadata": {},
   "outputs": [],
   "source": []
  },
  {
   "cell_type": "markdown",
   "metadata": {},
   "source": [
    "Load data"
   ]
  },
  {
   "cell_type": "code",
   "execution_count": 7,
   "metadata": {
    "ExecuteTime": {
     "end_time": "2020-02-07T16:34:37.953182Z",
     "start_time": "2020-02-07T16:34:37.944161Z"
    }
   },
   "outputs": [],
   "source": [
    "def getint(name):\n",
    "    return int(name.split('.')[0])\n",
    "    \n",
    "def draw_pcd(pcd, where='opn_nb'):\n",
    "    if where is 'opn_nb':\n",
    "        visualizer = o3d.JVisualizer()\n",
    "        visualizer.add_geometry(pcd)\n",
    "        visualizer.show()\n",
    "    elif where is 'opn_view':\n",
    "        o3d.visualization.draw_geometries([pcd], width=1280, height=800)\n",
    "    elif where is 'mat_3d':\n",
    "        plt.figure()\n",
    "        pts = np.asarray(pcd.points)\n",
    "        plt.scatter(pts[:,0], pts[:,1], pts[:,2])\n",
    "        plt.grid()\n",
    "        plt.show()\n",
    "    elif where is 'mat_2d':\n",
    "        plt.figure()\n",
    "        pts = np.asarray(pcd.points)\n",
    "        plt.scatter(pts[:,0], pts[:,1])\n",
    "        plt.grid()\n",
    "        plt.show()\n",
    "        \n",
    "def draw_registration_result(src_pcd, dst_pcd, x_pt, y_pt, theta):    \n",
    "    src_pcd_tmp = copy.deepcopy(src_pcd)\n",
    "    dst_pcd_tmp = copy.deepcopy(dst_pcd)\n",
    "    \n",
    "    src_pcd_tmp.paint_uniform_color([1, 0, 0])  # red source\n",
    "    dst_pcd_tmp.paint_uniform_color([0, 0, 1])  # blue target\n",
    "    \n",
    "    transform_mat = pose2matrix([x_pt, y_pt, 0], [0,0,theta])\n",
    "    dst_pcd_tmp.transform(transform_mat)\n",
    "    \n",
    "    visualizer = o3d.JVisualizer()\n",
    "    visualizer.add_geometry(src_pcd_tmp)\n",
    "    visualizer.add_geometry(dst_pcd_tmp)\n",
    "    visualizer.show()"
   ]
  },
  {
   "cell_type": "code",
   "execution_count": 8,
   "metadata": {
    "ExecuteTime": {
     "end_time": "2020-02-07T16:34:37.960711Z",
     "start_time": "2020-02-07T16:34:37.957092Z"
    }
   },
   "outputs": [],
   "source": [
    "FILTER_THRESHOLD = 0.1"
   ]
  },
  {
   "cell_type": "code",
   "execution_count": 9,
   "metadata": {
    "ExecuteTime": {
     "end_time": "2020-02-07T16:34:37.969724Z",
     "start_time": "2020-02-07T16:34:37.963704Z"
    }
   },
   "outputs": [],
   "source": [
    "base_folder_path = \"/home/saby/Projects/ati/data/data/datasets/Carla/16beam-Data/small_map/testing\"\n",
    "\n",
    "pair_folder = \"24\"\n",
    "\n",
    "range_npy_folder = \"_out_out_npy\"\n",
    "output_pcd_folder = \"unet_pcd\"  + \"_manual_filtered_\" + str(FILTER_THRESHOLD)\n",
    "\n",
    "test_folder_path = os.path.join(base_folder_path, pair_folder, range_npy_folder)\n",
    "out_folder_path = os.path.join(base_folder_path, pair_folder, output_pcd_folder)"
   ]
  },
  {
   "cell_type": "code",
   "execution_count": 10,
   "metadata": {
    "ExecuteTime": {
     "end_time": "2020-02-07T16:34:37.976129Z",
     "start_time": "2020-02-07T16:34:37.972682Z"
    }
   },
   "outputs": [],
   "source": [
    "# test_folder = \"/home/sabyasachi/Projects/ati/data/data/datasets/Carla/16beam-Data/small_map/validate_idea/pair_24_transform/dynamic_out_npy\"\n",
    "# out_folder = \"/home/sabyasachi/Projects/ati/data/data/datasets/Carla/16beam-Data/small_map/validate_idea/pair_24_transform/second_attempt_triple_data_1024_model_out_pcd\" + \"_filtered_\" + str(FILTER_THRESHOLD)\n",
    "\n",
    "# test_folder = \"/home/sabyasachi/Projects/ati/data/data/datasets/Carla/few_dynamic_runs/110k/dynamic/scarce_1/_out_out_npy\"\n",
    "# out_folder = \"/home/sabyasachi/Projects/ati/data/data/datasets/Carla/few_dynamic_runs/110k/dynamic/scarce_1/_model_out\"\n",
    "test_files  = sorted(os.listdir(test_folder_path), key=getint)"
   ]
  },
  {
   "cell_type": "code",
   "execution_count": 11,
   "metadata": {
    "ExecuteTime": {
     "end_time": "2020-02-07T16:34:37.982980Z",
     "start_time": "2020-02-07T16:34:37.978377Z"
    }
   },
   "outputs": [
    {
     "data": {
      "text/plain": [
       "'/home/saby/Projects/ati/data/data/datasets/Carla/16beam-Data/small_map/testing/24/unet_pcd_manual_filtered_0.1'"
      ]
     },
     "execution_count": 11,
     "metadata": {},
     "output_type": "execute_result"
    }
   ],
   "source": [
    "out_folder_path"
   ]
  },
  {
   "cell_type": "code",
   "execution_count": 12,
   "metadata": {
    "ExecuteTime": {
     "end_time": "2020-02-07T16:34:38.012445Z",
     "start_time": "2020-02-07T16:34:37.984985Z"
    }
   },
   "outputs": [],
   "source": [
    "if not os.path.exists(out_folder_path):\n",
    "    os.makedirs(out_folder_path)\n",
    "else:\n",
    "    shutil.rmtree(out_folder_path)\n",
    "    os.makedirs(out_folder_path)"
   ]
  },
  {
   "cell_type": "code",
   "execution_count": null,
   "metadata": {},
   "outputs": [],
   "source": []
  },
  {
   "cell_type": "code",
   "execution_count": null,
   "metadata": {
    "ExecuteTime": {
     "end_time": "2019-11-12T15:20:03.605330Z",
     "start_time": "2019-11-12T15:19:47.619325Z"
    }
   },
   "outputs": [],
   "source": []
  },
  {
   "cell_type": "markdown",
   "metadata": {},
   "source": [
    "Evaluate on data"
   ]
  },
  {
   "cell_type": "raw",
   "metadata": {
    "ExecuteTime": {
     "end_time": "2019-11-15T19:02:58.483294Z",
     "start_time": "2019-11-15T19:02:57.926563Z"
    }
   },
   "source": [
    "dataset_val = np.load(os.path.join(test_folder, test_files[0]))\n",
    "print(dataset_val.shape)"
   ]
  },
  {
   "cell_type": "raw",
   "metadata": {
    "ExecuteTime": {
     "end_time": "2019-11-15T19:03:13.539302Z",
     "start_time": "2019-11-15T19:02:59.961853Z"
    }
   },
   "source": [
    "pre_processed_dataset_val = preprocess(dataset_val).astype('float32')\n",
    "pre_processed_dataset_val.shape"
   ]
  },
  {
   "cell_type": "raw",
   "metadata": {
    "ExecuteTime": {
     "end_time": "2019-11-15T19:03:13.546468Z",
     "start_time": "2019-11-15T19:03:13.541781Z"
    }
   },
   "source": [
    "pre_processed_dataset_val_2 = pre_processed_dataset_val[200]\n",
    "pre_processed_dataset_val_2.shape"
   ]
  },
  {
   "cell_type": "raw",
   "metadata": {
    "ExecuteTime": {
     "end_time": "2019-11-15T19:03:13.557236Z",
     "start_time": "2019-11-15T19:03:13.549629Z"
    }
   },
   "source": [
    "pre_processed_dataset_val_3 = from_polar(torch.from_numpy(pre_processed_dataset_val[0:1,:,:,:]).cuda()).detach().cpu().numpy()[0]\n",
    "pre_processed_dataset_val_3.shape"
   ]
  },
  {
   "cell_type": "raw",
   "metadata": {
    "ExecuteTime": {
     "end_time": "2019-11-15T19:03:13.570371Z",
     "start_time": "2019-11-15T19:03:13.560050Z"
    }
   },
   "source": [
    "x_arr = pre_processed_dataset_val_3[0,:,:][:29].flatten()\n",
    "y_arr = pre_processed_dataset_val_3[1,:,:][:29].flatten()\n",
    "z_arr = pre_processed_dataset_val_3[2,:,:][:29].flatten()"
   ]
  },
  {
   "cell_type": "raw",
   "metadata": {
    "ExecuteTime": {
     "end_time": "2019-11-15T19:03:13.653565Z",
     "start_time": "2019-11-15T19:03:13.573039Z"
    }
   },
   "source": [
    "this_arr = np.array([[x,y,z] for x,y,z in zip(x_arr, y_arr, z_arr)])\n",
    "this_arr.shape"
   ]
  },
  {
   "cell_type": "raw",
   "metadata": {
    "ExecuteTime": {
     "end_time": "2019-11-15T19:03:13.688307Z",
     "start_time": "2019-11-15T19:03:13.657135Z"
    }
   },
   "source": [
    "this_pcd = o3d.PointCloud()\n",
    "this_pcd.points = o3d.utility.Vector3dVector(this_arr)\n",
    "this_pcd"
   ]
  },
  {
   "cell_type": "raw",
   "metadata": {
    "ExecuteTime": {
     "end_time": "2019-11-15T19:03:14.006160Z",
     "start_time": "2019-11-15T19:03:13.690822Z"
    }
   },
   "source": [
    "draw_pcd(this_pcd, where='opn_nb')"
   ]
  },
  {
   "cell_type": "code",
   "execution_count": null,
   "metadata": {},
   "outputs": [],
   "source": []
  },
  {
   "cell_type": "code",
   "execution_count": null,
   "metadata": {},
   "outputs": [],
   "source": []
  },
  {
   "cell_type": "code",
   "execution_count": null,
   "metadata": {},
   "outputs": [],
   "source": []
  },
  {
   "cell_type": "code",
   "execution_count": null,
   "metadata": {},
   "outputs": [],
   "source": []
  },
  {
   "cell_type": "code",
   "execution_count": null,
   "metadata": {},
   "outputs": [],
   "source": []
  },
  {
   "cell_type": "code",
   "execution_count": 13,
   "metadata": {
    "ExecuteTime": {
     "end_time": "2020-02-07T16:34:38.018711Z",
     "start_time": "2020-02-07T16:34:38.013907Z"
    }
   },
   "outputs": [],
   "source": [
    "process_input = from_polar if args.no_polar else lambda x : x"
   ]
  },
  {
   "cell_type": "code",
   "execution_count": 14,
   "metadata": {
    "ExecuteTime": {
     "end_time": "2020-02-07T16:34:38.024642Z",
     "start_time": "2020-02-07T16:34:38.021259Z"
    }
   },
   "outputs": [],
   "source": [
    "LIDAR_RANGE = 100"
   ]
  },
  {
   "cell_type": "code",
   "execution_count": 15,
   "metadata": {
    "ExecuteTime": {
     "end_time": "2020-02-07T16:46:25.812693Z",
     "start_time": "2020-02-07T16:34:38.027158Z"
    }
   },
   "outputs": [
    {
     "name": "stdout",
     "output_type": "stream",
     "text": [
      "processing 0.npy\n",
      "done\n"
     ]
    },
    {
     "name": "stderr",
     "output_type": "stream",
     "text": [
      "/home/saby/anaconda3/envs/ati/lib/python3.6/site-packages/ipykernel_launcher.py:15: TqdmDeprecationWarning: This function will be removed in tqdm==5.0.0\n",
      "Please use `tqdm.notebook.tqdm` instead of `tqdm.tqdm_notebook`\n",
      "  from ipykernel import kernelapp as app\n"
     ]
    },
    {
     "data": {
      "application/vnd.jupyter.widget-view+json": {
       "model_id": "611748c26dc34bc6845e3f4a8d7e4699",
       "version_major": 2,
       "version_minor": 0
      },
      "text/plain": [
       "HBox(children=(FloatProgress(value=0.0, max=96.0), HTML(value='')))"
      ]
     },
     "metadata": {},
     "output_type": "display_data"
    },
    {
     "name": "stdout",
     "output_type": "stream",
     "text": [
      "\n",
      "Fraction of reconstructed points : 0.7353896895004193\n"
     ]
    }
   ],
   "source": [
    "ply_idx = 1\n",
    "for test_file in test_files:\n",
    "    # Load corresponding dataset batch\n",
    "    print(\"processing {}\".format(test_file))\n",
    "    dataset_val = np.load(os.path.join(test_folder_path, test_file))\n",
    "    dataset_val = preprocess(dataset_val, LIDAR_RANGE)\n",
    "    dataset_val = dataset_val.astype('float32')\n",
    "    val_loader  = torch.utils.data.DataLoader(dataset_val, batch_size=args.batch_size,\n",
    "                        shuffle=False, num_workers=12, drop_last=False)\n",
    "\n",
    "    print(\"done\")\n",
    "    recons=[]\n",
    "    recon_flag = 0.0\n",
    "    total_flag = 0.0\n",
    "    for i, img_data in tqdm_notebook(enumerate(val_loader), total=len(val_loader)):\n",
    "        dynamic_img = img_data.cuda()\n",
    "\n",
    "        recon = model(process_input(dynamic_img))\n",
    "\n",
    "        recons=recon\n",
    "        recons_temp=np.array(recons.detach().cpu())\n",
    "        \n",
    "        for frame_num in range(recons_temp.shape[0]):\n",
    "            frame = from_polar(recons[frame_num:frame_num+1,:,:,:]).detach().cpu().numpy()[0]\n",
    "            dynamic_frame = from_polar(dynamic_img[frame_num:frame_num+1,:,:,:]).detach().cpu().numpy()[0]\n",
    "            \n",
    "            frame = frame * LIDAR_RANGE\n",
    "            dynamic_frame = dynamic_frame * LIDAR_RANGE\n",
    "            \n",
    "            filtered_arr = np.zeros((frame.shape))\n",
    "            for i in range(frame.shape[1]):\n",
    "                for j in range(frame.shape[2]):\n",
    "                    dist = np.linalg.norm(frame[:,i,j] - dynamic_frame[:,i,j])\n",
    "                    if dist > FILTER_THRESHOLD:\n",
    "                        filtered_arr[:,i,j] = frame[:,i,j]\n",
    "                        recon_flag += 1\n",
    "                    else:\n",
    "                        filtered_arr[:,i,j] = dynamic_frame[:,i,j]\n",
    "                    total_flag += 1\n",
    "            \n",
    "            some_pcd = o3d.geometry.PointCloud()\n",
    "            some_arr = filtered_arr.reshape((3,-1)).T\n",
    "            some_pcd.points = o3d.utility.Vector3dVector(some_arr)\n",
    "            pcd_fname = str(ply_idx) + \".ply\"\n",
    "            single_pcd_path = os.path.join(out_folder_path, pcd_fname)\n",
    "            o3d.io.write_point_cloud(single_pcd_path, some_pcd)\n",
    "            ply_idx += 1\n",
    "        gc.collect()\n",
    "        \n",
    "    print(\"Fraction of reconstructed points : {}\".format(recon_flag / total_flag))"
   ]
  },
  {
   "cell_type": "code",
   "execution_count": null,
   "metadata": {},
   "outputs": [],
   "source": []
  },
  {
   "cell_type": "code",
   "execution_count": null,
   "metadata": {},
   "outputs": [],
   "source": []
  },
  {
   "cell_type": "code",
   "execution_count": null,
   "metadata": {},
   "outputs": [],
   "source": []
  },
  {
   "cell_type": "code",
   "execution_count": null,
   "metadata": {},
   "outputs": [],
   "source": []
  },
  {
   "cell_type": "code",
   "execution_count": null,
   "metadata": {},
   "outputs": [],
   "source": []
  },
  {
   "cell_type": "code",
   "execution_count": null,
   "metadata": {},
   "outputs": [],
   "source": []
  },
  {
   "cell_type": "code",
   "execution_count": null,
   "metadata": {},
   "outputs": [],
   "source": []
  },
  {
   "cell_type": "raw",
   "metadata": {},
   "source": [
    "16*1024 - int(16*1024*.1)"
   ]
  },
  {
   "cell_type": "raw",
   "metadata": {},
   "source": [
    "(np.array(sorted([np.linalg.norm(a-b) for a, b in zip(frame.reshape((3,-1)).T,dynamic_frame.reshape((3,-1)).T)])) < 1.5).sum()"
   ]
  },
  {
   "cell_type": "raw",
   "metadata": {},
   "source": [
    "plt.grid()\n",
    "plt.plot( list(range(16*1024)), sorted([np.linalg.norm(a-b) for a, b in zip(frame.reshape((3,-1)).T,dynamic_frame.reshape((3,-1)).T)]))"
   ]
  },
  {
   "cell_type": "raw",
   "metadata": {},
   "source": [
    "plt.plot( list(range(16*1024))[:int(16*1024*.9)], sorted([np.linalg.norm(a-b) for a, b in zip(frame.reshape((3,-1)).T,dynamic_frame.reshape((3,-1)).T)])[:int(16*1024*.9)])"
   ]
  },
  {
   "cell_type": "raw",
   "metadata": {},
   "source": [
    "dist_frame = np.linalg.norm(frame.reshape((3,-1)).T,dynamic_frame.reshape((3,-1)).T)\n",
    "dist_frame.shape"
   ]
  },
  {
   "cell_type": "raw",
   "metadata": {},
   "source": [
    "frame.shape"
   ]
  },
  {
   "cell_type": "code",
   "execution_count": null,
   "metadata": {},
   "outputs": [],
   "source": []
  },
  {
   "cell_type": "code",
   "execution_count": null,
   "metadata": {},
   "outputs": [],
   "source": []
  },
  {
   "cell_type": "code",
   "execution_count": null,
   "metadata": {},
   "outputs": [],
   "source": []
  },
  {
   "cell_type": "code",
   "execution_count": null,
   "metadata": {},
   "outputs": [],
   "source": []
  },
  {
   "cell_type": "code",
   "execution_count": null,
   "metadata": {},
   "outputs": [],
   "source": []
  }
 ],
 "metadata": {
  "kernelspec": {
   "display_name": "Python 3",
   "language": "python",
   "name": "python3"
  },
  "language_info": {
   "codemirror_mode": {
    "name": "ipython",
    "version": 3
   },
   "file_extension": ".py",
   "mimetype": "text/x-python",
   "name": "python",
   "nbconvert_exporter": "python",
   "pygments_lexer": "ipython3",
   "version": "3.6.10"
  },
  "toc": {
   "base_numbering": 1,
   "nav_menu": {},
   "number_sections": true,
   "sideBar": true,
   "skip_h1_title": false,
   "title_cell": "Table of Contents",
   "title_sidebar": "Contents",
   "toc_cell": false,
   "toc_position": {},
   "toc_section_display": true,
   "toc_window_display": false
  }
 },
 "nbformat": 4,
 "nbformat_minor": 2
}
