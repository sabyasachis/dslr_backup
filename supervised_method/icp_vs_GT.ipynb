{
 "cells": [
  {
   "cell_type": "markdown",
   "metadata": {},
   "source": [
    "### Imports"
   ]
  },
  {
   "cell_type": "code",
   "execution_count": 1,
   "metadata": {
    "ExecuteTime": {
     "end_time": "2019-12-12T11:58:12.712119Z",
     "start_time": "2019-12-12T11:58:11.419652Z"
    }
   },
   "outputs": [],
   "source": [
    "import sys\n",
    "import os, shutil\n",
    "import gc\n",
    "import torch\n",
    "import copy\n",
    "import numpy as np\n",
    "from matplotlib import pyplot as plt\n",
    "import matplotlib.cm as cm\n",
    "import open3d\n",
    "import transforms3d\n",
    "import open3d as o3d\n",
    "from sklearn.neighbors import NearestNeighbors\n",
    "import glob\n",
    "from torch.utils.data import Dataset\n",
    "from open3d import read_point_cloud\n",
    "from tqdm import tqdm_notebook\n",
    "import pandas as pd\n",
    "from multiprocessing import Pool, cpu_count"
   ]
  },
  {
   "cell_type": "code",
   "execution_count": 2,
   "metadata": {
    "ExecuteTime": {
     "end_time": "2019-12-12T11:58:12.719929Z",
     "start_time": "2019-12-12T11:58:12.714377Z"
    }
   },
   "outputs": [],
   "source": [
    "%matplotlib notebook"
   ]
  },
  {
   "cell_type": "code",
   "execution_count": 3,
   "metadata": {
    "ExecuteTime": {
     "end_time": "2019-12-12T11:58:12.724031Z",
     "start_time": "2019-12-12T11:58:12.721710Z"
    }
   },
   "outputs": [],
   "source": [
    "def getint(name):\n",
    "    return int(name.split('.')[0])"
   ]
  },
  {
   "cell_type": "code",
   "execution_count": null,
   "metadata": {},
   "outputs": [],
   "source": []
  },
  {
   "cell_type": "markdown",
   "metadata": {},
   "source": [
    "### Setting paths and constants"
   ]
  },
  {
   "cell_type": "code",
   "execution_count": 4,
   "metadata": {
    "ExecuteTime": {
     "end_time": "2019-12-12T11:58:12.727632Z",
     "start_time": "2019-12-12T11:58:12.725594Z"
    }
   },
   "outputs": [],
   "source": [
    "VOXEL_SZ = 0.2"
   ]
  },
  {
   "cell_type": "code",
   "execution_count": 5,
   "metadata": {
    "ExecuteTime": {
     "end_time": "2019-12-12T11:58:12.779435Z",
     "start_time": "2019-12-12T11:58:12.771711Z"
    }
   },
   "outputs": [],
   "source": [
    "pcd_folder_path = \"/home/sabyasachi/Projects/ati/data/data/datasets/Carla/small_map/110k/static/1\"\n",
    "\n",
    "pcd_folder = \"_out\"\n",
    "pcd_path = os.path.join(pcd_folder_path, pcd_folder)\n",
    "pcd_files = sorted(os.listdir(pcd_path), key=getint)"
   ]
  },
  {
   "cell_type": "code",
   "execution_count": 6,
   "metadata": {
    "ExecuteTime": {
     "end_time": "2019-12-12T11:58:12.785159Z",
     "start_time": "2019-12-12T11:58:12.781103Z"
    }
   },
   "outputs": [
    {
     "data": {
      "text/plain": [
       "(3487, 10)"
      ]
     },
     "execution_count": 6,
     "metadata": {},
     "output_type": "execute_result"
    }
   ],
   "source": [
    "idx = np.random.choice(len(pcd_files))\n",
    "# idx = 2925\n",
    "# idx = 1841\n",
    "# idx = 3062\n",
    "step = 10\n",
    "idx, step"
   ]
  },
  {
   "cell_type": "code",
   "execution_count": 7,
   "metadata": {
    "ExecuteTime": {
     "end_time": "2019-12-12T11:58:12.789924Z",
     "start_time": "2019-12-12T11:58:12.787740Z"
    }
   },
   "outputs": [],
   "source": [
    "prev_pcd_file = pcd_files[idx]\n",
    "next_pcd_file = pcd_files[idx+step]"
   ]
  },
  {
   "cell_type": "markdown",
   "metadata": {},
   "source": [
    "### My I/O functions"
   ]
  },
  {
   "cell_type": "code",
   "execution_count": 8,
   "metadata": {
    "ExecuteTime": {
     "end_time": "2019-12-12T11:58:12.811817Z",
     "start_time": "2019-12-12T11:58:12.791946Z"
    },
    "code_folding": [
     48,
     54,
     60,
     78
    ]
   },
   "outputs": [],
   "source": [
    "def filter_pcd(old_pcd,\n",
    "               apply_downsample = False,\n",
    "               downsample_voxel_size = 0.2,\n",
    "               \n",
    "               apply_outlier_removal = False,\n",
    "               downsample_radius = 1,\n",
    "               downsample_neighbors = 20,\n",
    "               \n",
    "               apply_crop = True,\n",
    "               crop_min_arr = np.array([-100,-100,-2]),\n",
    "               crop_max_arr = np.array([100,100,100]),\n",
    "#                crop_min_arr = np.array([-100,-100,-100]),\n",
    "#                crop_max_arr = np.array([100,100,2]),\n",
    "               \n",
    "               apply_cluster = False,\n",
    "               cluster_neighbours = 30,\n",
    "               cluster_labels = 2):\n",
    "    np.random.seed(0)\n",
    "    pcd = copy.deepcopy(old_pcd)\n",
    "    \n",
    "    if apply_outlier_removal:\n",
    "        denser_pcd, ind = o3d.geometry.radius_outlier_removal(pcd,\n",
    "                                                              nb_points = downsample_neighbors,\n",
    "                                                              radius    = downsample_radius)\n",
    "        pcd = denser_pcd\n",
    "    \n",
    "    if apply_downsample:\n",
    "        voxel_down_pcd = o3d.geometry.voxel_down_sample(pcd, voxel_size = downsample_voxel_size)\n",
    "        pcd = voxel_down_pcd\n",
    "    \n",
    "    if apply_crop:\n",
    "        cropped_pcd = o3d.geometry.crop_point_cloud(pcd, crop_min_arr, crop_max_arr)\n",
    "        pcd = cropped_pcd\n",
    "\n",
    "    if apply_cluster:\n",
    "        few_pts = np.asarray(pcd.points)\n",
    "        try:\n",
    "            few_pts_reduced = LocallyLinearEmbedding(n_neighbors=cluster_neighbours, n_components=2).fit_transform(few_pts)\n",
    "        except Exception as e:\n",
    "            try:\n",
    "                few_pts_reduced = LocallyLinearEmbedding(n_neighbors=cluster_neighbours, n_components=2, eigen_solver='dense').fit_transform(few_pts)\n",
    "            except Exception as e:\n",
    "                few_pts_reduced = few_pts\n",
    "        clf = MeanShift().fit(few_pts_reduced)\n",
    "        pcd.points = o3d.utility.Vector3dVector(few_pts[clf.labels_ < cluster_labels])\n",
    "    \n",
    "    return pcd\n",
    "\n",
    "def make_2d(pcd):\n",
    "    new_pcd = copy.deepcopy(pcd)\n",
    "    new_pts = np.concatenate([np.asarray(pcd.points)[:,:-1],np.zeros((len(pcd.points),1))], axis=1)\n",
    "    new_pcd.points = o3d.utility.Vector3dVector(new_pts)\n",
    "    return new_pcd\n",
    "\n",
    "def read_pcd(pcd_id):\n",
    "#     prefix = \"\".join([\"0\" for _ in range(3 - len(str(pcd_id)))])\n",
    "    pcd_file = str(pcd_id) + PCD_TYPE\n",
    "    pcd = o3d.io.read_point_cloud(os.path.join(pcd_path, pcd_file))\n",
    "    return pcd\n",
    "\n",
    "def draw_pcd(pcd, where='mat_2d'):    \n",
    "    if where is 'opn_nb':\n",
    "        visualizer = o3d.JVisualizer()\n",
    "        visualizer.add_geometry(pcd)\n",
    "        visualizer.show()\n",
    "    elif where is 'opn_view':\n",
    "        o3d.visualization.draw_geometries([pcd], width=1280, height=800)\n",
    "    elif where is 'mat_3d':\n",
    "        plt.figure()\n",
    "        pts = np.asarray(pcd.points)\n",
    "        plt.scatter(pts[:,0], pts[:,1], pts[:,2])\n",
    "        plt.show()\n",
    "    elif where is 'mat_2d':\n",
    "        plt.figure()\n",
    "        pts = np.asarray(pcd.points)\n",
    "        plt.scatter(pts[:,0], pts[:,1], s=1)\n",
    "        plt.show()\n",
    "        \n",
    "def pose2matrix(translation_list, rotation_angle_list, zoom_list=[1,1,1]):\n",
    "    trans_vec = np.array(translation_list)\n",
    "    rot_ang = [np.deg2rad(ang) for ang in rotation_angle_list ]\n",
    "    rot_mat = transforms3d.euler.euler2mat(rot_ang[0], rot_ang[1], rot_ang[2])\n",
    "    zoom_vec = np.array(zoom_list)\n",
    "    transform_mat = transforms3d.affines.compose(trans_vec, rot_mat, zoom_vec)\n",
    "    return transform_mat\n",
    "  \n",
    "def draw_registration_result(src, dst, transformation):\n",
    "    source = copy.deepcopy(src)\n",
    "    target = copy.deepcopy(dst)\n",
    "    \n",
    "    source.paint_uniform_color([1, 0, 0]) # red\n",
    "    target.paint_uniform_color([0, 0, 1]) # blue\n",
    "    target.transform(transformation)\n",
    "#     o3d.visualization.draw_geometries([source, target], width=1280, height=800)\n",
    "    visualizer = o3d.JVisualizer()\n",
    "    visualizer.add_geometry(source)\n",
    "    visualizer.add_geometry(target)\n",
    "    visualizer.show()"
   ]
  },
  {
   "cell_type": "code",
   "execution_count": 9,
   "metadata": {
    "ExecuteTime": {
     "end_time": "2019-12-12T11:58:12.862134Z",
     "start_time": "2019-12-12T11:58:12.813530Z"
    }
   },
   "outputs": [],
   "source": [
    "prev_pcd = o3d.io.read_point_cloud(os.path.join(pcd_path, prev_pcd_file))\n",
    "next_pcd = o3d.io.read_point_cloud(os.path.join(pcd_path, next_pcd_file))"
   ]
  },
  {
   "cell_type": "code",
   "execution_count": null,
   "metadata": {},
   "outputs": [],
   "source": []
  },
  {
   "cell_type": "markdown",
   "metadata": {},
   "source": [
    "### Ground Truth Transformation"
   ]
  },
  {
   "cell_type": "code",
   "execution_count": 10,
   "metadata": {
    "ExecuteTime": {
     "end_time": "2019-12-12T11:58:12.902958Z",
     "start_time": "2019-12-12T11:58:12.863862Z"
    }
   },
   "outputs": [],
   "source": [
    "df_gt = pd.read_csv(os.path.join(pcd_folder_path, \"groundTruth.csv\"))"
   ]
  },
  {
   "cell_type": "code",
   "execution_count": 11,
   "metadata": {
    "ExecuteTime": {
     "end_time": "2019-12-12T11:58:12.908319Z",
     "start_time": "2019-12-12T11:58:12.904885Z"
    }
   },
   "outputs": [
    {
     "data": {
      "text/plain": [
       "('3488.ply', '3498.ply')"
      ]
     },
     "execution_count": 11,
     "metadata": {},
     "output_type": "execute_result"
    }
   ],
   "source": [
    "prev_pcd_file,next_pcd_file"
   ]
  },
  {
   "cell_type": "code",
   "execution_count": 12,
   "metadata": {
    "ExecuteTime": {
     "end_time": "2019-12-12T11:58:12.915948Z",
     "start_time": "2019-12-12T11:58:12.909839Z"
    }
   },
   "outputs": [],
   "source": [
    "prev_gt = df_gt[df_gt['step'] == idx+1].iloc[0]\n",
    "next_gt = df_gt[df_gt['step'] == idx+1+step].iloc[0]"
   ]
  },
  {
   "cell_type": "code",
   "execution_count": 13,
   "metadata": {
    "ExecuteTime": {
     "end_time": "2019-12-12T11:58:12.921142Z",
     "start_time": "2019-12-12T11:58:12.917628Z"
    }
   },
   "outputs": [
    {
     "data": {
      "text/plain": [
       "(3488.0, 3498.0)"
      ]
     },
     "execution_count": 13,
     "metadata": {},
     "output_type": "execute_result"
    }
   ],
   "source": [
    "prev_gt['step'], next_gt['step']"
   ]
  },
  {
   "cell_type": "code",
   "execution_count": 14,
   "metadata": {
    "ExecuteTime": {
     "end_time": "2019-12-12T11:58:12.931784Z",
     "start_time": "2019-12-12T11:58:12.924233Z"
    }
   },
   "outputs": [
    {
     "data": {
      "text/plain": [
       "geometry::PointCloud with 8885 points."
      ]
     },
     "execution_count": 14,
     "metadata": {},
     "output_type": "execute_result"
    }
   ],
   "source": [
    "transformation_lidar2gt = pose2matrix([0,0,0], [0,0,90],[1,1,-1])\n",
    "transformation_gt2lidar = np.linalg.inv(transformation_lidar2gt)\n",
    "prev_pcd.transform(transformation_lidar2gt)\n",
    "next_pcd.transform(transformation_lidar2gt)"
   ]
  },
  {
   "cell_type": "code",
   "execution_count": 15,
   "metadata": {
    "ExecuteTime": {
     "end_time": "2019-12-12T11:58:12.939576Z",
     "start_time": "2019-12-12T11:58:12.933791Z"
    }
   },
   "outputs": [],
   "source": [
    "prev_inv_mat = np.linalg.inv(pose2matrix([prev_gt['location_x'],\n",
    "                                          prev_gt['location_y'],\n",
    "                                          prev_gt['location_z']],\n",
    "                                         [prev_gt['rotation_roll'],\n",
    "                                          prev_gt['rotation_pitch'],\n",
    "                                          prev_gt['rotation_yaw']]))\n",
    "next_mat = pose2matrix([next_gt['location_x'],\n",
    "                        next_gt['location_y'],\n",
    "                        next_gt['location_z']],\n",
    "                       [next_gt['rotation_roll'],\n",
    "                        next_gt['rotation_pitch'],\n",
    "                        next_gt['rotation_yaw']])\n",
    "transformation_gt = np.matmul(prev_inv_mat, next_mat)"
   ]
  },
  {
   "cell_type": "code",
   "execution_count": 16,
   "metadata": {
    "ExecuteTime": {
     "end_time": "2019-12-12T11:58:13.423589Z",
     "start_time": "2019-12-12T11:58:12.941134Z"
    }
   },
   "outputs": [
    {
     "data": {
      "application/vnd.jupyter.widget-view+json": {
       "model_id": "3d77a2f0cc4341d8a140b15a1ad154f8",
       "version_major": 2,
       "version_minor": 0
      },
      "text/plain": [
       "JVisualizer with 2 geometries"
      ]
     },
     "metadata": {},
     "output_type": "display_data"
    }
   ],
   "source": [
    "draw_registration_result(prev_pcd, next_pcd, transformation_gt)"
   ]
  },
  {
   "cell_type": "code",
   "execution_count": null,
   "metadata": {},
   "outputs": [],
   "source": []
  },
  {
   "cell_type": "code",
   "execution_count": null,
   "metadata": {},
   "outputs": [],
   "source": []
  },
  {
   "cell_type": "code",
   "execution_count": null,
   "metadata": {},
   "outputs": [],
   "source": []
  },
  {
   "cell_type": "code",
   "execution_count": null,
   "metadata": {},
   "outputs": [],
   "source": []
  },
  {
   "cell_type": "markdown",
   "metadata": {},
   "source": [
    "### Open 3d ICP transformation"
   ]
  },
  {
   "cell_type": "code",
   "execution_count": 17,
   "metadata": {
    "ExecuteTime": {
     "end_time": "2019-12-12T11:58:13.435103Z",
     "start_time": "2019-12-12T11:58:13.425371Z"
    },
    "code_folding": [
     0,
     12,
     17
    ]
   },
   "outputs": [],
   "source": [
    "def preprocess_point_cloud(pcd, voxel_size):\n",
    "    pcd_down = o3d.geometry.voxel_down_sample(pcd, voxel_size)\n",
    "    radius_normal = voxel_size * 2\n",
    "    o3d.geometry.estimate_normals(\n",
    "        pcd_down,\n",
    "        o3d.geometry.KDTreeSearchParamHybrid(radius=radius_normal, max_nn=30))\n",
    "    radius_feature = voxel_size * 5\n",
    "    pcd_fpfh = o3d.registration.compute_fpfh_feature(\n",
    "        pcd_down,\n",
    "        o3d.geometry.KDTreeSearchParamHybrid(radius=radius_feature, max_nn=100))\n",
    "    return pcd_down, pcd_fpfh\n",
    "\n",
    "def prepare_dataset(source, target, voxel_size):\n",
    "    source_down, source_fpfh = preprocess_point_cloud(source, voxel_size)\n",
    "    target_down, target_fpfh = preprocess_point_cloud(target, voxel_size)\n",
    "    return source_down, target_down, source_fpfh, target_fpfh\n",
    "\n",
    "def execute_global_registration(source_down, target_down, source_fpfh,\n",
    "                                target_fpfh, voxel_size):\n",
    "    distance_threshold = voxel_size * 1.5\n",
    "    result = o3d.registration.registration_ransac_based_on_feature_matching(\n",
    "        source_down, target_down, source_fpfh, target_fpfh, distance_threshold,\n",
    "        o3d.registration.TransformationEstimationPointToPoint(False), 4, [\n",
    "            o3d.registration.CorrespondenceCheckerBasedOnEdgeLength(0.9),\n",
    "            o3d.registration.CorrespondenceCheckerBasedOnDistance(\n",
    "                distance_threshold)\n",
    "        ], o3d.registration.RANSACConvergenceCriteria(4000000, 500))\n",
    "    return result\n",
    "\n",
    "def refine_registration(source, target, voxel_size, trans_init):\n",
    "    distance_threshold = voxel_size * 0.4\n",
    "    result = o3d.registration.registration_icp(\n",
    "                source, target, distance_threshold, trans_init,\n",
    "                o3d.registration.TransformationEstimationPointToPlane())\n",
    "    return result\n",
    "\n",
    "def get_pose(src, dst):\n",
    "    source = filter_pcd(src)\n",
    "    target = filter_pcd(dst)\n",
    "#     source result_icptransform_mat= copy.deepcopy(src)\n",
    "#     target = copy.deepcopy(dst)\n",
    "\n",
    "    voxel_size = VOXEL_SZ\n",
    "    source_down, target_down, source_fpfh, target_fpfh = prepare_dataset(source, target, voxel_size)\n",
    "\n",
    "    result_ransac = execute_global_registration(source_down, target_down,\n",
    "                                                source_fpfh, target_fpfh,\n",
    "                                                voxel_size)\n",
    "\n",
    "    result_icp = refine_registration(source, target, voxel_size, result_ransac.transformation)\n",
    "    \n",
    "    \n",
    "    evaluation = o3d.registration.evaluate_registration(source, target, voxel_size * 5, result_icp.transformation)\n",
    "    return result_icp.transformation, evaluation"
   ]
  },
  {
   "cell_type": "code",
   "execution_count": 18,
   "metadata": {
    "ExecuteTime": {
     "end_time": "2019-12-12T11:58:17.061294Z",
     "start_time": "2019-12-12T11:58:13.436828Z"
    }
   },
   "outputs": [
    {
     "data": {
      "text/plain": [
       "array([[ 9.99976537e-01, -3.39276572e-03, -5.95109740e-03,\n",
       "         5.84933588e+00],\n",
       "       [ 3.39989192e-03,  9.99993515e-01,  1.18775260e-03,\n",
       "         7.95201962e-02],\n",
       "       [ 5.94702904e-03, -1.20795782e-03,  9.99981587e-01,\n",
       "         1.35747995e-01],\n",
       "       [ 0.00000000e+00,  0.00000000e+00,  0.00000000e+00,\n",
       "         1.00000000e+00]])"
      ]
     },
     "execution_count": 18,
     "metadata": {},
     "output_type": "execute_result"
    }
   ],
   "source": [
    "transformation_icp, evaluation_icp = get_pose(prev_pcd, next_pcd)\n",
    "\n",
    "transformation_icp = np.linalg.inv(transformation_icp)\n",
    "transformation_icp"
   ]
  },
  {
   "cell_type": "code",
   "execution_count": 19,
   "metadata": {
    "ExecuteTime": {
     "end_time": "2019-12-12T11:58:17.065999Z",
     "start_time": "2019-12-12T11:58:17.062901Z"
    }
   },
   "outputs": [
    {
     "data": {
      "text/plain": [
       "registration::RegistrationResult with fitness = 0.898507, inlier_rmse = 0.245808, and correspondence_set size of 1806\n",
       "Access transformation to get result."
      ]
     },
     "execution_count": 19,
     "metadata": {},
     "output_type": "execute_result"
    }
   ],
   "source": [
    "evaluation_icp"
   ]
  },
  {
   "cell_type": "code",
   "execution_count": 20,
   "metadata": {
    "ExecuteTime": {
     "end_time": "2019-12-12T11:58:17.637044Z",
     "start_time": "2019-12-12T11:58:17.067985Z"
    }
   },
   "outputs": [
    {
     "data": {
      "application/vnd.jupyter.widget-view+json": {
       "model_id": "74281dc773c74e0d8173c1963cd97937",
       "version_major": 2,
       "version_minor": 0
      },
      "text/plain": [
       "JVisualizer with 2 geometries"
      ]
     },
     "metadata": {},
     "output_type": "display_data"
    }
   ],
   "source": [
    "draw_registration_result(prev_pcd, next_pcd, transformation_icp)"
   ]
  },
  {
   "cell_type": "code",
   "execution_count": null,
   "metadata": {},
   "outputs": [],
   "source": []
  },
  {
   "cell_type": "code",
   "execution_count": null,
   "metadata": {},
   "outputs": [],
   "source": []
  },
  {
   "cell_type": "markdown",
   "metadata": {},
   "source": [
    "### RPE error"
   ]
  },
  {
   "cell_type": "code",
   "execution_count": 23,
   "metadata": {
    "ExecuteTime": {
     "end_time": "2019-12-12T11:58:17.650728Z",
     "start_time": "2019-12-12T11:58:17.648425Z"
    }
   },
   "outputs": [],
   "source": [
    "transformation_rpe =  np.matmul(np.linalg.inv(transformation_gt), transformation_icp)"
   ]
  },
  {
   "cell_type": "code",
   "execution_count": 24,
   "metadata": {
    "ExecuteTime": {
     "end_time": "2019-12-12T11:58:17.657423Z",
     "start_time": "2019-12-12T11:58:17.652155Z"
    }
   },
   "outputs": [
    {
     "data": {
      "text/plain": [
       "(0.2973728617385134, 0.2630236635591657, 0.034349198179347736)"
      ]
     },
     "execution_count": 24,
     "metadata": {},
     "output_type": "execute_result"
    }
   ],
   "source": [
    "trans_arr, rot_mat, scale_mat, shear_mat = transforms3d.affines.decompose44(transformation_rpe)\n",
    "rot_list = transforms3d.euler.mat2euler(rot_mat, axes='sxyz')\n",
    "rot_arr = np.array(rot_list)\n",
    "np.linalg.norm(trans_arr)+np.linalg.norm(rot_arr)# ,np.linalg.norm(trans_arr), np.linalg.norm(rot_arr)"
   ]
  },
  {
   "cell_type": "code",
   "execution_count": null,
   "metadata": {},
   "outputs": [],
   "source": []
  }
 ],
 "metadata": {
  "kernelspec": {
   "display_name": "Python 3",
   "language": "python",
   "name": "python3"
  },
  "language_info": {
   "codemirror_mode": {
    "name": "ipython",
    "version": 3
   },
   "file_extension": ".py",
   "mimetype": "text/x-python",
   "name": "python",
   "nbconvert_exporter": "python",
   "pygments_lexer": "ipython3",
   "version": "3.7.3"
  },
  "toc": {
   "base_numbering": 1,
   "nav_menu": {},
   "number_sections": true,
   "sideBar": true,
   "skip_h1_title": false,
   "title_cell": "Table of Contents",
   "title_sidebar": "Contents",
   "toc_cell": false,
   "toc_position": {},
   "toc_section_display": true,
   "toc_window_display": false
  }
 },
 "nbformat": 4,
 "nbformat_minor": 2
}
