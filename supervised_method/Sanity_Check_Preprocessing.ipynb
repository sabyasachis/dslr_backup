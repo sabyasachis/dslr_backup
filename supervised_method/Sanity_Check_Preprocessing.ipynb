{
 "cells": [
  {
   "cell_type": "code",
   "execution_count": 40,
   "metadata": {
    "ExecuteTime": {
     "end_time": "2020-01-20T15:08:40.435846Z",
     "start_time": "2020-01-20T15:08:40.431573Z"
    }
   },
   "outputs": [],
   "source": [
    "import open3d as o3d\n",
    "import numpy as np\n",
    "import pandas as pd\n",
    "import os\n",
    "from tqdm import tqdm_notebook\n",
    "import gc"
   ]
  },
  {
   "cell_type": "markdown",
   "metadata": {},
   "source": [
    "Convert generated range images to ply"
   ]
  },
  {
   "cell_type": "code",
   "execution_count": 38,
   "metadata": {
    "ExecuteTime": {
     "end_time": "2020-01-20T15:01:48.851625Z",
     "start_time": "2020-01-20T15:01:48.008606Z"
    }
   },
   "outputs": [],
   "source": [
    "range_arr = np.load(\"/home/sabyasachi/Projects/ati/data/data/datasets/Carla/16beam-Data/small_map/dynamic_training_data/npy_data/8.npy\")\n",
    "OUT_PATH = \"/home/sabyasachi/Projects/ati/data/data/datasets/Carla/16beam-Data/small_map/dynamic/8/_range_out\""
   ]
  },
  {
   "cell_type": "code",
   "execution_count": 3,
   "metadata": {
    "ExecuteTime": {
     "end_time": "2020-01-20T14:30:14.385696Z",
     "start_time": "2020-01-20T14:30:09.564673Z"
    }
   },
   "outputs": [
    {
     "data": {
      "text/plain": [
       "(2827, 16, 1024, 4)"
      ]
     },
     "execution_count": 3,
     "metadata": {},
     "output_type": "execute_result"
    }
   ],
   "source": [
    "range_arr.shape"
   ]
  },
  {
   "cell_type": "code",
   "execution_count": 41,
   "metadata": {
    "ExecuteTime": {
     "end_time": "2020-01-20T15:09:47.794611Z",
     "start_time": "2020-01-20T15:08:42.494349Z"
    }
   },
   "outputs": [
    {
     "data": {
      "application/vnd.jupyter.widget-view+json": {
       "model_id": "48c24e738a004b8fb282ee5673fb974a",
       "version_major": 2,
       "version_minor": 0
      },
      "text/plain": [
       "HBox(children=(IntProgress(value=0, max=2827), HTML(value='')))"
      ]
     },
     "metadata": {},
     "output_type": "display_data"
    },
    {
     "name": "stdout",
     "output_type": "stream",
     "text": [
      "\n"
     ]
    }
   ],
   "source": [
    "for pcd_idx in tqdm_notebook(range(range_arr.shape[0])):\n",
    "    this_arr = np.concatenate([[range_arr[pcd_idx][:,:,0].flatten()],\n",
    "                               [range_arr[pcd_idx][:,:,1].flatten()],\n",
    "                               [range_arr[pcd_idx][:,:,2].flatten()]], axis=0) . T\n",
    "    \n",
    "    this_pcd = o3d.PointCloud()\n",
    "    this_pcd.points = o3d.utility.Vector3dVector(this_arr)\n",
    "    \n",
    "    this_fname = str(pcd_idx + 1) + \".ply\"\n",
    "    this_out_path = os.path.join(OUT_PATH, this_fname)\n",
    "    o3d.io.write_point_cloud(this_out_path, this_pcd, write_ascii=True)"
   ]
  },
  {
   "cell_type": "markdown",
   "metadata": {},
   "source": [
    "Convert generated preprocessed range images to pcd"
   ]
  },
  {
   "cell_type": "code",
   "execution_count": 77,
   "metadata": {
    "ExecuteTime": {
     "end_time": "2020-01-20T16:42:17.051413Z",
     "start_time": "2020-01-20T16:42:14.741350Z"
    }
   },
   "outputs": [],
   "source": [
    "range_arr = np.load(\"/home/sabyasachi/Projects/ati/ati_motors/adversarial_based/training_data/small_map_dynamic_high_only/data/8.npy\", allow_pickle=True)\n",
    "OUT_PATH = \"/home/sabyasachi/Projects/ati/data/data/datasets/Carla/16beam-Data/small_map/dynamic/8/_preprocessed_out/\""
   ]
  },
  {
   "cell_type": "code",
   "execution_count": 78,
   "metadata": {
    "ExecuteTime": {
     "end_time": "2020-01-20T16:42:17.058263Z",
     "start_time": "2020-01-20T16:42:17.053865Z"
    }
   },
   "outputs": [
    {
     "data": {
      "text/plain": [
       "(2827, 2, 16, 1024)"
      ]
     },
     "execution_count": 78,
     "metadata": {},
     "output_type": "execute_result"
    }
   ],
   "source": [
    "range_arr.shape"
   ]
  },
  {
   "cell_type": "code",
   "execution_count": 79,
   "metadata": {
    "ExecuteTime": {
     "end_time": "2020-01-20T16:42:17.753584Z",
     "start_time": "2020-01-20T16:42:17.748025Z"
    }
   },
   "outputs": [],
   "source": [
    "def to_3d(velo):\n",
    "    angles = np.linspace(0, np.pi * 2, velo.shape[-1])\n",
    "    dist, z = velo[0], velo[1]\n",
    "    x = np.cos(angles) * dist\n",
    "    y = np.sin(angles) * dist\n",
    "    out = np.stack([x,y,z], axis=0)\n",
    "    return out.astype('float32')"
   ]
  },
  {
   "cell_type": "code",
   "execution_count": 93,
   "metadata": {
    "ExecuteTime": {
     "end_time": "2020-01-20T16:54:26.525637Z",
     "start_time": "2020-01-20T16:52:01.309133Z"
    }
   },
   "outputs": [
    {
     "data": {
      "application/vnd.jupyter.widget-view+json": {
       "model_id": "5ec5d6b3b4654290b745223d6ce63b9b",
       "version_major": 2,
       "version_minor": 0
      },
      "text/plain": [
       "HBox(children=(IntProgress(value=0, max=2827), HTML(value='')))"
      ]
     },
     "metadata": {},
     "output_type": "display_data"
    },
    {
     "name": "stdout",
     "output_type": "stream",
     "text": [
      "\n"
     ]
    }
   ],
   "source": [
    "for pcd_idx in tqdm_notebook(range(range_arr.shape[0])):\n",
    "    img = range_arr[pcd_idx]\n",
    "    img = img * 100\n",
    "    frame = to_3d(img)\n",
    "    frame_flat = frame.reshape((3,-1))\n",
    "    this_pcd = o3d.PointCloud()\n",
    "    this_arr = frame_flat.T\n",
    "    this_pcd.points = o3d.utility.Vector3dVector(this_arr)\n",
    "    \n",
    "    this_fname = str(pcd_idx + 1) + \".ply\"\n",
    "    this_out_path = os.path.join(OUT_PATH, this_fname)\n",
    "    o3d.io.write_point_cloud(this_out_path, this_pcd, write_ascii=True)\n",
    "#     break"
   ]
  },
  {
   "cell_type": "code",
   "execution_count": null,
   "metadata": {},
   "outputs": [],
   "source": []
  },
  {
   "cell_type": "markdown",
   "metadata": {},
   "source": [
    "Visually checking 2d plots"
   ]
  },
  {
   "cell_type": "code",
   "execution_count": 115,
   "metadata": {
    "ExecuteTime": {
     "end_time": "2020-01-20T17:15:34.402651Z",
     "start_time": "2020-01-20T17:15:34.120533Z"
    }
   },
   "outputs": [],
   "source": [
    "import shutil\n",
    "import matplotlib.pyplot as plt"
   ]
  },
  {
   "cell_type": "code",
   "execution_count": 97,
   "metadata": {
    "ExecuteTime": {
     "end_time": "2020-01-20T17:08:11.551450Z",
     "start_time": "2020-01-20T17:08:11.541709Z"
    }
   },
   "outputs": [],
   "source": [
    "OUT_PATH = \"/home/sabyasachi/Projects/ati/data/data/datasets/Carla/16beam-Data/small_map/dynamic/8\"\n",
    "SAMPLES_FOLDER = \"samples\"\n",
    "OUT_FOLDER = \"_out\"\n",
    "RANGE_OUT_FOLDER = \"_range_out\"\n",
    "PREPROCESSED_OUT_FOLDER = \"_preprocessed_out\"\n",
    "\n",
    "PLY_OUT_PATH              = os.path.join(OUT_PATH, OUT_FOLDER)\n",
    "PLY_RANGE_OUT_PATH        = os.path.join(OUT_PATH, RANGE_OUT_FOLDER)\n",
    "PLY_PREPROCESSED_OUT_PATH = os.path.join(OUT_PATH, PREPROCESSED_OUT_FOLDER)\n",
    "\n",
    "SAMPLES_PATH                  = os.path.join(OUT_PATH,     SAMPLES_FOLDER)\n",
    "SAMPLES_OUT_PATH              = os.path.join(SAMPLES_PATH, OUT_FOLDER)\n",
    "SAMPLES_RANGE_OUT_PATH        = os.path.join(SAMPLES_PATH, RANGE_OUT_FOLDER)\n",
    "SAMPLES_PREPROCESSED_OUT_PATH = os.path.join(SAMPLES_PATH, PREPROCESSED_OUT_FOLDER)\n",
    "\n",
    "if not os.path.exists(SAMPLES_PATH):\n",
    "    os.makedirs(SAMPLES_OUT_PATH)\n",
    "    os.makedirs(SAMPLES_RANGE_OUT_PATH)\n",
    "    os.makedirs(SAMPLES_PREPROCESSED_OUT_PATH)\n",
    "else:\n",
    "    shutil.rmtree(SAMPLES_PATH)\n",
    "    os.makedirs(SAMPLES_OUT_PATH)\n",
    "    os.makedirs(SAMPLES_RANGE_OUT_PATH)\n",
    "    os.makedirs(SAMPLES_PREPROCESSED_OUT_PATH)"
   ]
  },
  {
   "cell_type": "code",
   "execution_count": 98,
   "metadata": {
    "ExecuteTime": {
     "end_time": "2020-01-20T17:08:55.991459Z",
     "start_time": "2020-01-20T17:08:55.987245Z"
    }
   },
   "outputs": [],
   "source": [
    "def getint(name):\n",
    "    return int(name.split('.')[0])"
   ]
  },
  {
   "cell_type": "code",
   "execution_count": 99,
   "metadata": {
    "ExecuteTime": {
     "end_time": "2020-01-20T17:10:10.649513Z",
     "start_time": "2020-01-20T17:10:10.629504Z"
    }
   },
   "outputs": [],
   "source": [
    "out_plys              = sorted(os.listdir(PLY_OUT_PATH), key=getint)\n",
    "range_out_plys        = sorted(os.listdir(PLY_RANGE_OUT_PATH), key=getint)\n",
    "preprocessed_out_plys = sorted(os.listdir(PLY_PREPROCESSED_OUT_PATH), key=getint)"
   ]
  },
  {
   "cell_type": "code",
   "execution_count": 102,
   "metadata": {
    "ExecuteTime": {
     "end_time": "2020-01-20T17:10:41.778442Z",
     "start_time": "2020-01-20T17:10:41.775046Z"
    }
   },
   "outputs": [],
   "source": [
    "assert len(out_plys) == len(range_out_plys) == len(preprocessed_out_plys)"
   ]
  },
  {
   "cell_type": "code",
   "execution_count": 131,
   "metadata": {
    "ExecuteTime": {
     "end_time": "2020-01-20T17:57:27.767737Z",
     "start_time": "2020-01-20T17:31:08.466114Z"
    }
   },
   "outputs": [
    {
     "data": {
      "application/vnd.jupyter.widget-view+json": {
       "model_id": "3864c0a8de9b46fb9718e86da67169c1",
       "version_major": 2,
       "version_minor": 0
      },
      "text/plain": [
       "HBox(children=(IntProgress(value=0, max=2827), HTML(value='')))"
      ]
     },
     "metadata": {},
     "output_type": "display_data"
    },
    {
     "name": "stdout",
     "output_type": "stream",
     "text": [
      "\n"
     ]
    }
   ],
   "source": [
    "for pcd_idx in tqdm_notebook(range(len(out_plys))):\n",
    "    ply = out_plys[pcd_idx]\n",
    "    \n",
    "    out_ply_path = os.path.join(PLY_OUT_PATH, ply)\n",
    "    out_pcd = o3d.read_point_cloud(out_ply_path)\n",
    "    out_arr = np.asarray(out_pcd.points)\n",
    "    plt.figure()\n",
    "    plt.title(\"Raw ply\")\n",
    "    plt.scatter(out_arr[:,0], out_arr[:,1], s=0.5, color='r')\n",
    "    plt.savefig(os.path.join(SAMPLES_OUT_PATH, str(pcd_idx)+'.jpg')) \n",
    "    plt.close()\n",
    "    \n",
    "    out_ply_path = os.path.join(PLY_RANGE_OUT_PATH, ply)\n",
    "    out_pcd = o3d.read_point_cloud(out_ply_path)\n",
    "    out_arr = np.asarray(out_pcd.points)\n",
    "    plt.figure()\n",
    "    plt.title(\"Range ply\")\n",
    "    plt.scatter(out_arr[:,0], out_arr[:,1], s=0.5, color='g')\n",
    "    plt.savefig(os.path.join(SAMPLES_RANGE_OUT_PATH, str(pcd_idx)+'.jpg')) \n",
    "    plt.close()\n",
    "    \n",
    "    out_ply_path = os.path.join(PLY_PREPROCESSED_OUT_PATH, ply)\n",
    "    out_pcd = o3d.read_point_cloud(out_ply_path)\n",
    "    out_arr = np.asarray(out_pcd.points)\n",
    "    plt.figure()\n",
    "    plt.title(\"Preprocessed ply\")\n",
    "    plt.scatter(out_arr[:,0], out_arr[:,1], s=0.5, color='b')\n",
    "    plt.savefig(os.path.join(SAMPLES_PREPROCESSED_OUT_PATH, str(pcd_idx)+'.jpg')) \n",
    "    plt.close()\n",
    "#     break"
   ]
  },
  {
   "cell_type": "code",
   "execution_count": null,
   "metadata": {},
   "outputs": [],
   "source": []
  },
  {
   "cell_type": "code",
   "execution_count": null,
   "metadata": {},
   "outputs": [],
   "source": []
  },
  {
   "cell_type": "code",
   "execution_count": null,
   "metadata": {},
   "outputs": [],
   "source": []
  },
  {
   "cell_type": "code",
   "execution_count": null,
   "metadata": {},
   "outputs": [],
   "source": []
  },
  {
   "cell_type": "code",
   "execution_count": null,
   "metadata": {},
   "outputs": [],
   "source": []
  },
  {
   "cell_type": "code",
   "execution_count": null,
   "metadata": {},
   "outputs": [],
   "source": []
  },
  {
   "cell_type": "code",
   "execution_count": null,
   "metadata": {},
   "outputs": [],
   "source": []
  },
  {
   "cell_type": "code",
   "execution_count": null,
   "metadata": {},
   "outputs": [],
   "source": []
  },
  {
   "cell_type": "code",
   "execution_count": null,
   "metadata": {},
   "outputs": [],
   "source": []
  }
 ],
 "metadata": {
  "kernelspec": {
   "display_name": "Python 3",
   "language": "python",
   "name": "python3"
  },
  "language_info": {
   "codemirror_mode": {
    "name": "ipython",
    "version": 3
   },
   "file_extension": ".py",
   "mimetype": "text/x-python",
   "name": "python",
   "nbconvert_exporter": "python",
   "pygments_lexer": "ipython3",
   "version": "3.7.3"
  },
  "toc": {
   "base_numbering": 1,
   "nav_menu": {},
   "number_sections": true,
   "sideBar": true,
   "skip_h1_title": false,
   "title_cell": "Table of Contents",
   "title_sidebar": "Contents",
   "toc_cell": false,
   "toc_position": {},
   "toc_section_display": true,
   "toc_window_display": false
  }
 },
 "nbformat": 4,
 "nbformat_minor": 2
}
