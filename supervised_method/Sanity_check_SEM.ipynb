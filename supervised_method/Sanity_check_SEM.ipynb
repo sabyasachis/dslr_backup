{
 "cells": [
  {
   "cell_type": "code",
   "execution_count": null,
   "metadata": {
    "ExecuteTime": {
     "end_time": "2020-01-20T20:02:27.326083Z",
     "start_time": "2020-01-20T20:02:27.068658Z"
    }
   },
   "outputs": [],
   "source": [
    "import numpy as np\n",
    "import matplotlib.pyplot as plt"
   ]
  },
  {
   "cell_type": "code",
   "execution_count": null,
   "metadata": {
    "ExecuteTime": {
     "end_time": "2020-01-20T20:01:51.290594Z",
     "start_time": "2020-01-20T20:01:51.285125Z"
    }
   },
   "outputs": [],
   "source": [
    "arr = np.load(\"./samples/pose_est.npy\")"
   ]
  },
  {
   "cell_type": "code",
   "execution_count": null,
   "metadata": {
    "ExecuteTime": {
     "end_time": "2020-01-20T20:04:54.124086Z",
     "start_time": "2020-01-20T20:04:53.903212Z"
    }
   },
   "outputs": [],
   "source": [
    "plt.plot(arr[:,0], arr[:,1])"
   ]
  },
  {
   "cell_type": "code",
   "execution_count": null,
   "metadata": {},
   "outputs": [],
   "source": []
  },
  {
   "cell_type": "code",
   "execution_count": null,
   "metadata": {
    "ExecuteTime": {
     "end_time": "2020-01-20T20:07:00.011574Z",
     "start_time": "2020-01-20T20:07:00.006949Z"
    }
   },
   "outputs": [],
   "source": [
    "VOXEL_SZ = 0.2\n",
    "DEBUG=False"
   ]
  },
  {
   "cell_type": "code",
   "execution_count": null,
   "metadata": {
    "ExecuteTime": {
     "end_time": "2020-01-20T20:07:22.341282Z",
     "start_time": "2020-01-20T20:07:22.303891Z"
    }
   },
   "outputs": [],
   "source": [
    "# process_input = from_polar if args.no_polar else lambda x : x\n",
    "# print \n",
    "\n",
    "def pose2matrix(translation_list, rotation_angle_list, zoom_list=[1,1,1]):\n",
    "    # trans_vec = np.array(translation_list)\n",
    "    rot_ang = [np.deg2rad(ang) for ang in rotation_angle_list ]\n",
    "    rot_mat = transforms3d.euler.euler2mat(rot_ang[0], rot_ang[1], rot_ang[2])\n",
    "    zoom_vec = np.array(zoom_list)\n",
    "    # transform_mat = transforms3d.affines.compose(trans_vec, rot_mat, zoom_vec)\n",
    "    transform_mat = transforms3d.affines.compose(translation_list, rot_mat, zoom_list)\n",
    "    return transform_mat\n",
    "\n",
    "# Function to transform given lidar pcd to ground truth to get it upright\n",
    "def transform_lidar_to_gt_frame(pcd):\n",
    "    new_pcd = copy.deepcopy(pcd)\n",
    "    transformation_lidar2gt = pose2matrix([0,0,0], [0,0,90],[1,1,-1])\n",
    "    new_pcd.transform(transformation_lidar2gt)\n",
    "    return new_pcd\n",
    "\n",
    "# Function to get pcd for given range image in torch.cuda\n",
    "def get_pcd_from_img(img):\n",
    "    img = img * 100\n",
    "    frame = from_polar(img).detach().cpu().numpy()[0]\n",
    "    # frame_actual = np.array([frame_image[:29] for frame_image in frame])\n",
    "    frame_flat = frame.reshape((3,-1))\n",
    "    some_pcd = o3d.PointCloud()\n",
    "    some_arr = frame_flat.T\n",
    "    some_pcd.points = o3d.utility.Vector3dVector(some_arr)\n",
    "\n",
    "    new_some_pcd = transform_lidar_to_gt_frame(some_pcd)\n",
    "    return new_some_pcd\n",
    "\n",
    "# Function to get ICP pose for given src pcd and dst pcd\n",
    "def get_icp_pose(src, dst, voxel_size=VOXEL_SZ):\n",
    "    def crop_pcd(old_pcd, crop_min_arr=np.array([-100,-100,-2]), crop_max_arr=np.array([100,100,100])):\n",
    "        np.random.seed(0)\n",
    "        pcd = copy.deepcopy(old_pcd)\n",
    "\n",
    "        cropped_pcd = o3d.geometry.crop_point_cloud(pcd, crop_min_arr, crop_max_arr)\n",
    "        pcd = cropped_pcd\n",
    "        return pcd\n",
    "\n",
    "    def prepare_dataset(source, target, voxel_size):\n",
    "        def preprocess_point_cloud(pcd, voxel_size):\n",
    "            pcd_down = o3d.geometry.voxel_down_sample(pcd, voxel_size)\n",
    "            radius_normal = voxel_size * 2\n",
    "            o3d.geometry.estimate_normals(\n",
    "                pcd_down,\n",
    "                o3d.geometry.KDTreeSearchParamHybrid(radius=radius_normal, max_nn=30))\n",
    "            radius_feature = voxel_size * 5\n",
    "            pcd_fpfh = o3d.registration.compute_fpfh_feature(\n",
    "                pcd_down,\n",
    "                o3d.geometry.KDTreeSearchParamHybrid(radius=radius_feature, max_nn=100))\n",
    "            return pcd_down, pcd_fpfh\n",
    "        source_down, source_fpfh = preprocess_point_cloud(source, voxel_size)\n",
    "        target_down, target_fpfh = preprocess_point_cloud(target, voxel_size)\n",
    "        return source_down, target_down, source_fpfh, target_fpfh\n",
    "\n",
    "    def execute_global_registration(source_down, target_down, source_fpfh, target_fpfh, voxel_size):\n",
    "        distance_threshold = voxel_size * 1.5\n",
    "        if DEBUG:\n",
    "            print(\"start execute global reg\")\n",
    "        result = o3d.registration.registration_ransac_based_on_feature_matching(\n",
    "            source_down, target_down, source_fpfh, target_fpfh, distance_threshold,\n",
    "            o3d.registration.TransformationEstimationPointToPoint(False), 4, [\n",
    "                o3d.registration.CorrespondenceCheckerBasedOnEdgeLength(0.9),\n",
    "                o3d.registration.CorrespondenceCheckerBasedOnDistance(\n",
    "                    distance_threshold)\n",
    "            ], o3d.registration.RANSACConvergenceCriteria(4000000, 500))\n",
    "        if DEBUG:\n",
    "            print(\"finish execute global reg\")\n",
    "        return result\n",
    "\n",
    "    def refine_registration(source, target, voxel_size, trans_init):\n",
    "        distance_threshold = voxel_size * 0.4\n",
    "        result = o3d.registration.registration_icp(\n",
    "                    source, target, distance_threshold, trans_init,\n",
    "                    o3d.registration.TransformationEstimationPointToPlane())\n",
    "                    # o3d.registration.TransformationEstimationPointToPlane())\n",
    "        return result\n",
    "    # get_icp_pose execution starts here\n",
    "    if DEBUG:\n",
    "        print(\"start icp pose\")\n",
    "    # source = crop_pcd(src)\n",
    "    source = src\n",
    "    if DEBUG:\n",
    "        print(\"cropped src\")\n",
    "    # target = crop_pcd(dst)\n",
    "    target = dst\n",
    "    if DEBUG:\n",
    "        print(\"cropped dst\")\n",
    "\n",
    "    source_down, target_down, source_fpfh, target_fpfh = prepare_dataset(source, target, voxel_size)\n",
    "    if DEBUG:\n",
    "        print(\"prepared dataset\")\n",
    "    result_ransac = execute_global_registration(source_down, target_down,\n",
    "                                                source_fpfh, target_fpfh,\n",
    "                                                voxel_size)\n",
    "    if DEBUG:\n",
    "        print(\"executed global reg\")\n",
    "    result_icp = refine_registration(source_down, target_down, voxel_size, result_ransac.transformation)\n",
    "    if DEBUG:\n",
    "        print(\"refined reg\")\n",
    "\n",
    "    evaluation = o3d.registration.evaluate_registration(source_down, target_down, voxel_size * 5, result_icp.transformation)\n",
    "    if DEBUG:\n",
    "        print(\"evaluated\")\n",
    "\n",
    "    # print(\"Before ICP\")\n",
    "    # draw_registration_result(source_down, target_down, pose2matrix([0,0,0], [0,0,0],[1,1,1]))\n",
    "\n",
    "    # print(\"After ICP\")\n",
    "    # draw_registration_result(source_down, target_down, result_icp.transformation)\n",
    "\n",
    "    return result_icp.transformation, evaluation\n",
    "\n",
    "# Function to give slam pose for given two consecutive range images in torch.cuda\n",
    "def get_slam_pose_transform(recon_curr_img, recon_next_img):\n",
    "    dynamic_pcd_curr = get_pcd_from_img(recon_curr_img)\n",
    "    if DEBUG:\n",
    "        print(\"got pcd curr\")\n",
    "\n",
    "    dynamic_pcd_next = get_pcd_from_img(recon_next_img)\n",
    "    if DEBUG:\n",
    "        print(\"got pcd next\")\n",
    "\n",
    "    slam_pose_transform, slam_pose_err = get_icp_pose(dynamic_pcd_curr, dynamic_pcd_next)\n",
    "    if DEBUG:\n",
    "        print(\"got slam pose\")\n",
    "\n",
    "    # print(\"Before ICP\")\n",
    "    # draw_registration_result(dynamic_pcd_curr, dynamic_pcd_next,\n",
    "    #                             pose2matrix([0,0,0], [0,0,0],[1,1,1]))\n",
    "\n",
    "    # print(\"After ICP\")\n",
    "    # draw_registration_result(dynamic_pcd_curr, dynamic_pcd_next, slam_pose_transform)\n",
    "\n",
    "    gc.collect()\n",
    "    return slam_pose_transform, slam_pose_err "
   ]
  },
  {
   "cell_type": "code",
   "execution_count": null,
   "metadata": {
    "ExecuteTime": {
     "end_time": "2020-01-20T20:09:33.307612Z",
     "start_time": "2020-01-20T20:09:33.303344Z"
    }
   },
   "outputs": [],
   "source": [
    "PCD_PATH = \"/home/sabyasachi/Projects/ati/data/data/datasets/Carla/16beam-Data/small_map/dynamic/3/_out\""
   ]
  },
  {
   "cell_type": "code",
   "execution_count": null,
   "metadata": {
    "ExecuteTime": {
     "end_time": "2020-01-20T20:16:12.947958Z",
     "start_time": "2020-01-20T20:16:12.625855Z"
    }
   },
   "outputs": [],
   "source": [
    "import os\n",
    "import open3d as o3d\n",
    "from tqdm import tqdm_notebook"
   ]
  },
  {
   "cell_type": "code",
   "execution_count": null,
   "metadata": {
    "ExecuteTime": {
     "end_time": "2020-01-20T20:10:22.592320Z",
     "start_time": "2020-01-20T20:10:22.587160Z"
    }
   },
   "outputs": [],
   "source": [
    "def getint(name):\n",
    "    return int(name.split('.')[0])"
   ]
  },
  {
   "cell_type": "code",
   "execution_count": null,
   "metadata": {
    "ExecuteTime": {
     "end_time": "2020-01-20T20:29:17.054922Z",
     "start_time": "2020-01-20T20:29:16.230923Z"
    }
   },
   "outputs": [],
   "source": [
    "pose_list = []\n",
    "old_pt = np.array([0,0,0,1])\n",
    "pose_list.append(old_pt)\n",
    "\n",
    "for pcd_idx in tqdm_notebook(range(len(os.listdir(PCD_PATH))-1)):\n",
    "    src_pcd = o3d.read_point_cloud(os.path.join(PCD_PATH, str(pcd_idx+1)+\".ply\"))\n",
    "    dst_pcd = o3d.read_point_cloud(os.path.join(PCD_PATH, str(pcd_idx+2)+\".ply\"))\n",
    "    slam_pose_transform, slam_pose_err = get_icp_pose(src_pcd, dst_pcd)\n",
    "    \n",
    "    old_pt = pose_list[-1]\n",
    "    new_pt = np.matmul(slam_pose_transform, old_pt)\n",
    "    pose_list.append(new_pt)\n",
    "    break\n",
    "    "
   ]
  },
  {
   "cell_type": "code",
   "execution_count": null,
   "metadata": {
    "ExecuteTime": {
     "end_time": "2020-01-20T20:29:22.174065Z",
     "start_time": "2020-01-20T20:29:22.168384Z"
    }
   },
   "outputs": [],
   "source": [
    "slam_pose_transform"
   ]
  },
  {
   "cell_type": "code",
   "execution_count": null,
   "metadata": {},
   "outputs": [],
   "source": [
    "def draw_registration_result(src, dst, transformation):\n",
    "    source = copy.deepcopy(src)\n",
    "    target = copy.deepcopy(dst)\n",
    "    \n",
    "    source.paint_uniform_color([1, 0, 0]) # red\n",
    "    target.paint_uniform_color([0, 0, 1]) # blue\n",
    "    target.transform(transformation)\n",
    "    o3d.visualization.draw_geometries([source, target], width=1280, height=800)"
   ]
  },
  {
   "cell_type": "code",
   "execution_count": null,
   "metadata": {},
   "outputs": [],
   "source": [
    "print(\"Before ICP\")\n",
    "draw_registration_result(src_pcd, dst_pcd, pose2matrix([0,0,0], [0,0,0],[1,1,1]))\n",
    "\n",
    "print(\"After ICP\")\n",
    "draw_registration_result(src_pcd, dst_pcd, result_icp.transformation)"
   ]
  },
  {
   "cell_type": "code",
   "execution_count": null,
   "metadata": {},
   "outputs": [],
   "source": []
  },
  {
   "cell_type": "code",
   "execution_count": null,
   "metadata": {},
   "outputs": [],
   "source": []
  },
  {
   "cell_type": "code",
   "execution_count": null,
   "metadata": {},
   "outputs": [],
   "source": []
  },
  {
   "cell_type": "code",
   "execution_count": null,
   "metadata": {},
   "outputs": [],
   "source": []
  },
  {
   "cell_type": "code",
   "execution_count": null,
   "metadata": {},
   "outputs": [],
   "source": []
  },
  {
   "cell_type": "code",
   "execution_count": null,
   "metadata": {
    "ExecuteTime": {
     "end_time": "2020-01-20T20:20:36.133739Z",
     "start_time": "2020-01-20T20:20:36.128549Z"
    }
   },
   "outputs": [],
   "source": [
    "pose_arr = np.array(pose_list)"
   ]
  },
  {
   "cell_type": "code",
   "execution_count": null,
   "metadata": {
    "ExecuteTime": {
     "end_time": "2020-01-20T20:21:00.091006Z",
     "start_time": "2020-01-20T20:20:59.896951Z"
    }
   },
   "outputs": [],
   "source": [
    "plt.plot(pose_arr[:,0], pose_arr[:,1])"
   ]
  },
  {
   "cell_type": "code",
   "execution_count": null,
   "metadata": {
    "ExecuteTime": {
     "end_time": "2020-01-20T20:26:00.110481Z",
     "start_time": "2020-01-20T20:26:00.102469Z"
    }
   },
   "outputs": [],
   "source": [
    "def crop_pcd(old_pcd, crop_min_arr=np.array([-100,-100,-2]), crop_max_arr=np.array([100,100,100])):\n",
    "    np.random.seed(0)\n",
    "    pcd = copy.deepcopy(old_pcd)\n",
    "\n",
    "    cropped_pcd = o3d.geometry.crop_point_cloud(pcd, crop_min_arr, crop_max_arr)\n",
    "    pcd = cropped_pcd\n",
    "    return pcd"
   ]
  },
  {
   "cell_type": "code",
   "execution_count": null,
   "metadata": {},
   "outputs": [],
   "source": []
  },
  {
   "cell_type": "code",
   "execution_count": null,
   "metadata": {},
   "outputs": [],
   "source": []
  },
  {
   "cell_type": "code",
   "execution_count": null,
   "metadata": {
    "ExecuteTime": {
     "end_time": "2020-01-20T20:18:31.431719Z",
     "start_time": "2020-01-20T20:18:31.423366Z"
    }
   },
   "outputs": [],
   "source": [
    "pose_list"
   ]
  },
  {
   "cell_type": "code",
   "execution_count": null,
   "metadata": {},
   "outputs": [],
   "source": []
  },
  {
   "cell_type": "code",
   "execution_count": null,
   "metadata": {},
   "outputs": [],
   "source": [
    "for frame_num in range(dynamic_img_curr.shape[0]):\n",
    "        # recon_curr_frame = recon_curr[frame_num:frame_num+1, :, :IMAGE_HEIGHT, :]\n",
    "        # recon_next_frame = recon_next[frame_num:frame_num+1, :, :IMAGE_HEIGHT, :]\n",
    "    recon_curr_frame = recon_curr[frame_num:frame_num+1, :, :, :]\n",
    "    recon_next_frame = recon_next[frame_num:frame_num+1, :, :, :]\n",
    "\n",
    "    # Get SLAM Pose as blackbox\n",
    "    pose_transform, pose_err = get_slam_pose_transform(recon_curr_frame, recon_next_frame)\n",
    "    old_pt = pose_list[-1]\n",
    "    new_pt = np.matmul(pose_transform, old_pt)\n",
    "    pose_list.append(new_pt)"
   ]
  },
  {
   "cell_type": "code",
   "execution_count": null,
   "metadata": {},
   "outputs": [],
   "source": []
  },
  {
   "cell_type": "code",
   "execution_count": null,
   "metadata": {},
   "outputs": [],
   "source": []
  },
  {
   "cell_type": "code",
   "execution_count": null,
   "metadata": {},
   "outputs": [],
   "source": []
  },
  {
   "cell_type": "code",
   "execution_count": null,
   "metadata": {},
   "outputs": [],
   "source": []
  },
  {
   "cell_type": "code",
   "execution_count": null,
   "metadata": {},
   "outputs": [],
   "source": []
  }
 ],
 "metadata": {
  "kernelspec": {
   "display_name": "Python 3",
   "language": "python",
   "name": "python3"
  },
  "language_info": {
   "codemirror_mode": {
    "name": "ipython",
    "version": 3
   },
   "file_extension": ".py",
   "mimetype": "text/x-python",
   "name": "python",
   "nbconvert_exporter": "python",
   "pygments_lexer": "ipython3",
   "version": "3.7.3"
  },
  "toc": {
   "base_numbering": 1,
   "nav_menu": {},
   "number_sections": true,
   "sideBar": true,
   "skip_h1_title": false,
   "title_cell": "Table of Contents",
   "title_sidebar": "Contents",
   "toc_cell": false,
   "toc_position": {},
   "toc_section_display": true,
   "toc_window_display": false
  }
 },
 "nbformat": 4,
 "nbformat_minor": 2
}
