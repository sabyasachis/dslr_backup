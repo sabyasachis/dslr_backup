{
 "cells": [
  {
   "cell_type": "code",
   "execution_count": 1,
   "metadata": {
    "ExecuteTime": {
     "end_time": "2020-03-05T18:09:04.548762Z",
     "start_time": "2020-03-05T18:09:04.075173Z"
    }
   },
   "outputs": [],
   "source": [
    "import numpy as np\n",
    "import open3d as o3d\n",
    "import os, shutil\n",
    "import yaml\n",
    "import gc\n",
    "import copy\n",
    "from tqdm import tqdm_notebook\n",
    "from multiprocessing import Pool, cpu_count"
   ]
  },
  {
   "cell_type": "code",
   "execution_count": 2,
   "metadata": {
    "ExecuteTime": {
     "end_time": "2020-03-05T18:09:04.554412Z",
     "start_time": "2020-03-05T18:09:04.550780Z"
    }
   },
   "outputs": [],
   "source": [
    "# CFG_PATH = \"config/semantic-kitti.yaml\"\n",
    "VELODYNE_PATH = \"/home/saby/Projects/ati/data/data/datasets/KITTI/dataset\"\n",
    "LABELS_PATH = \"/home/saby/Projects/ati/data/data/datasets/KITTI/data_odometry_labels/dataset\"\n",
    "# SEQUENCE_NO_FOLDER = \"09\"\n",
    "\n",
    "SEQUENCE_FOLDER = \"sequences\"\n",
    "LIDAR_FOLDER = \"velodyne\"\n",
    "LABEL_FOLDER = \"labels\"\n",
    "SEGMENT_OUT_FOLDER = \"_segment_out_npy\"\n",
    "\n",
    "LABELS_SEQUENCE_PATH = os.path.join(LABELS_PATH, SEQUENCE_FOLDER)"
   ]
  },
  {
   "cell_type": "code",
   "execution_count": 3,
   "metadata": {
    "ExecuteTime": {
     "end_time": "2020-03-05T18:09:04.572235Z",
     "start_time": "2020-03-05T18:09:04.557938Z"
    }
   },
   "outputs": [],
   "source": [
    "def draw_pcd(pcd, where='opn_nb'):\n",
    "    if where is 'opn_nb':\n",
    "        visualizer = o3d.JVisualizer()\n",
    "        visualizer.add_geometry(pcd)\n",
    "        visualizer.show()\n",
    "    elif where is 'opn_view':\n",
    "        o3d.visualization.draw_geometries([pcd], width=1280, height=800)\n",
    "    elif where is 'mat_3d':\n",
    "        plt.figure()\n",
    "        pts = np.asarray(pcd.points)\n",
    "        plt.scatter(pts[:,0], pts[:,1], pts[:,2])\n",
    "        plt.grid()\n",
    "        plt.show()\n",
    "    elif where is 'mat_2d':\n",
    "        plt.figure()\n",
    "        pts = np.asarray(pcd.points)\n",
    "        plt.scatter(pts[:,0], pts[:,1])\n",
    "        plt.grid()\n",
    "        plt.show()\n",
    "        \n",
    "def make_npy(raw_lidar, raw_label):\n",
    "#     some_arr = raw_lidar[:,:3]\n",
    "    transformed_raw_lidar = np.zeros(raw_lidar.shape)\n",
    "    transformed_raw_lidar[:,0] = copy.deepcopy(raw_lidar[:,1])\n",
    "    transformed_raw_lidar[:,1] = -copy.deepcopy(raw_lidar[:,0])\n",
    "    transformed_raw_lidar[:,2] = -copy.deepcopy(raw_lidar[:,2])\n",
    "#     some_arr = transformed_raw_lidar[:,:3]\n",
    "    \n",
    "    raw_label = np.array([label & 0xFFFF for label in raw_label])\n",
    "    raw_label = np.array([label2mask_dict[label] for label in raw_label])\n",
    "    transformed_raw_lidar[:,3] = raw_label\n",
    "#     color_arr = np.concatenate((raw_label, np.zeros(raw_label.shape), np.zeros(raw_label.shape)), axis=1)\n",
    "    \n",
    "#     some_pcd = o3d.geometry.PointCloud()\n",
    "#     some_pcd.points = o3d.utility.Vector3dVector(some_arr)\n",
    "#     some_pcd.colors = o3d.utility.Vector3dVector(color_arr)\n",
    "    \n",
    "    return transformed_raw_lidar"
   ]
  },
  {
   "cell_type": "code",
   "execution_count": 4,
   "metadata": {
    "ExecuteTime": {
     "end_time": "2020-03-05T18:09:04.579629Z",
     "start_time": "2020-03-05T18:09:04.573898Z"
    }
   },
   "outputs": [],
   "source": [
    "label2mask_dict = {0: 0,#'unlabeled',\n",
    "                     1: 0,#'outlier',\n",
    "                     10: 1,#'car',\n",
    "                     11: 1,#'bicycle',\n",
    "                     13: 1,#'bus',\n",
    "                     15: 1,#'motorcycle',\n",
    "                     16: 1,#'on-rails',\n",
    "                     18: 1,#'truck',\n",
    "                     20: 1,#'other-vehicle',\n",
    "                     30: 1,#'person',\n",
    "                     31: 1,#'bicyclist',\n",
    "                     32: 1,#'motorcyclist',\n",
    "                     40: 0,#'road',\n",
    "                     44: 0,#'parking',\n",
    "                     48: 0,#'sidewalk',\n",
    "                     49: 0,#'other-ground',\n",
    "                     50: 0,#'building',\n",
    "                     51: 0,#'fence',\n",
    "                     52: 0,#'other-structure',\n",
    "                     60: 0,#'lane-marking',\n",
    "                     70: 0,#'vegetation',\n",
    "                     71: 0,#'trunk',\n",
    "                     72: 0,#'terrain',\n",
    "                     80: 0,#'pole',\n",
    "                     81: 0,#'traffic-sign',\n",
    "                     99: 0,#'other-object',\n",
    "                     252: 1,#'moving-car',\n",
    "                     253: 1,#'moving-bicyclist',\n",
    "                     254: 1,#'moving-person',\n",
    "                     255: 1,#'moving-motorcyclist',\n",
    "                     256: 1,#'moving-on-rails',\n",
    "                     257: 1,#'moving-bus',\n",
    "                     258: 1,#'moving-truck',\n",
    "                     259: 1}#'moving-other-vehicle'"
   ]
  },
  {
   "cell_type": "raw",
   "metadata": {},
   "source": [
    "label_file = '/data/LIDAR_datasets/kitti_odometry_dataset/sequences/05/labels/000023.label'\n",
    "bin_file =  '/data/LIDAR_datasets/kitti_odometry_dataset/sequences/05/velodyne/000023.bin'"
   ]
  },
  {
   "cell_type": "code",
   "execution_count": null,
   "metadata": {},
   "outputs": [],
   "source": []
  },
  {
   "cell_type": "code",
   "execution_count": null,
   "metadata": {},
   "outputs": [],
   "source": []
  },
  {
   "cell_type": "code",
   "execution_count": 5,
   "metadata": {
    "ExecuteTime": {
     "end_time": "2020-03-05T18:09:04.587123Z",
     "start_time": "2020-03-05T18:09:04.581383Z"
    }
   },
   "outputs": [],
   "source": [
    "def parallel_thread(arg):\n",
    "    gc.collect()\n",
    "    lidar_file, label_file = arg[0], arg[1]\n",
    "    assert int(lidar_file.split(\".\")[0]) == int(label_file.split(\".\")[0])\n",
    "    \n",
    "    lidar_file_path = os.path.join(LIDAR_PATH, lidar_file)\n",
    "    label_file_path = os.path.join(LABEL_PATH, label_file)\n",
    "    \n",
    "    raw_lidar = np.fromfile(lidar_file_path, dtype=np.float32).reshape((-1, 4))    \n",
    "    raw_label = np.fromfile(label_file_path, dtype=np.uint32)\n",
    "    \n",
    "    this_arr = make_npy(raw_lidar, raw_label)\n",
    "#     fname = str(int(lidar_file.split(\".\")[0])) + \".ply\"\n",
    "#     pcd_path = os.path.join(SEGMENT_PATH, fname)\n",
    "#     o3d.io.write_point_cloud(pcd_path, this_pcd)\n",
    "    return this_arr"
   ]
  },
  {
   "cell_type": "code",
   "execution_count": 6,
   "metadata": {
    "ExecuteTime": {
     "end_time": "2020-03-05T18:09:44.943884Z",
     "start_time": "2020-03-05T18:09:04.589149Z"
    }
   },
   "outputs": [
    {
     "name": "stdout",
     "output_type": "stream",
     "text": [
      "Sequence No.  01\n"
     ]
    },
    {
     "name": "stderr",
     "output_type": "stream",
     "text": [
      "/home/saby/anaconda3/envs/ati/lib/python3.6/site-packages/ipykernel_launcher.py:21: TqdmDeprecationWarning: This function will be removed in tqdm==5.0.0\n",
      "Please use `tqdm.notebook.tqdm` instead of `tqdm.tqdm_notebook`\n"
     ]
    },
    {
     "data": {
      "application/vnd.jupyter.widget-view+json": {
       "model_id": "5cfd4becedc747499582a9ab8566188e",
       "version_major": 2,
       "version_minor": 0
      },
      "text/plain": [
       "HBox(children=(FloatProgress(value=0.0, max=1101.0), HTML(value='')))"
      ]
     },
     "metadata": {},
     "output_type": "display_data"
    },
    {
     "name": "stdout",
     "output_type": "stream",
     "text": [
      "\n"
     ]
    }
   ],
   "source": [
    "for SEQUENCE_NO_FOLDER in sorted(os.listdir(LABELS_SEQUENCE_PATH)):\n",
    "    if int(SEQUENCE_NO_FOLDER) != 1:\n",
    "        continue\n",
    "    print(\"Sequence No. \", SEQUENCE_NO_FOLDER)\n",
    "    LIDAR_PATH = os.path.join(VELODYNE_PATH, SEQUENCE_FOLDER, SEQUENCE_NO_FOLDER, LIDAR_FOLDER)\n",
    "    LABEL_PATH = os.path.join(LABELS_PATH, SEQUENCE_FOLDER, SEQUENCE_NO_FOLDER, LABEL_FOLDER)\n",
    "    SEGMENT_OUT_PATH = os.path.join(LABELS_PATH, SEQUENCE_FOLDER, SEQUENCE_NO_FOLDER, SEGMENT_OUT_FOLDER)\n",
    "\n",
    "    if not os.path.exists(SEGMENT_OUT_PATH):\n",
    "        os.makedirs(SEGMENT_OUT_PATH)\n",
    "    else:\n",
    "        shutil.rmtree(SEGMENT_OUT_PATH)\n",
    "        os.makedirs(SEGMENT_OUT_PATH)\n",
    "\n",
    "    LIDAR_FILES = sorted(os.listdir(LIDAR_PATH))\n",
    "    LABEL_FILES = sorted(os.listdir(LABEL_PATH))\n",
    "\n",
    "    parallel_args = list(zip(LIDAR_FILES, LABEL_FILES))\n",
    "    process_pool = Pool(cpu_count()-1)\n",
    "    segment_list = [each for each in tqdm_notebook(process_pool.imap(parallel_thread, parallel_args),\n",
    "                                         total = len(parallel_args))]\n",
    "    process_pool.terminate()\n",
    "    gc.collect()\n",
    "    \n",
    "    segment_arr = np.array(segment_list)\n",
    "    fname = \"0.npy\"\n",
    "    file_path = os.path.join(SEGMENT_OUT_PATH, fname)\n",
    "    np.save(file_path, segment_arr, allow_pickle)\n",
    "    gc.collect()"
   ]
  },
  {
   "cell_type": "raw",
   "metadata": {},
   "source": [
    "for lidar_file, label_file in tqdm_notebook(zip(LIDAR_FILES, LABEL_FILES), total=len(LIDAR_FILES)):\n",
    "    assert int(lidar_file.split(\".\")[0]) == int(label_file.split(\".\")[0])\n",
    "    \n",
    "    lidar_file_path = os.path.join(LIDAR_PATH, lidar_file)\n",
    "    label_file_path = os.path.join(LABEL_PATH, label_file)\n",
    "    \n",
    "    raw_lidar = np.fromfile(lidar_file_path, dtype=np.float32).reshape((-1, 4))    \n",
    "    raw_label = np.fromfile(label_file_path, dtype=np.uint32)\n",
    "    \n",
    "    this_pcd = make_pcd(raw_lidar, raw_label)\n",
    "    fname = str(int(lidar_file.split(\".\")[0])) + \".ply\"\n",
    "    pcd_path = os.path.join(SEGMENT_PATH, fname)\n",
    "    o3d.io.write_point_cloud(pcd_path, this_pcd)"
   ]
  },
  {
   "cell_type": "raw",
   "metadata": {
    "ExecuteTime": {
     "end_time": "2020-03-05T17:59:42.675972Z",
     "start_time": "2020-03-05T17:59:40.002855Z"
    }
   },
   "source": [
    "draw_pcd(o3d.io.read_point_cloud(os.path.join(SEGMENT_PATH, \"100.ply\")))"
   ]
  },
  {
   "cell_type": "code",
   "execution_count": null,
   "metadata": {},
   "outputs": [],
   "source": []
  }
 ],
 "metadata": {
  "kernelspec": {
   "display_name": "Python 3",
   "language": "python",
   "name": "python3"
  },
  "language_info": {
   "codemirror_mode": {
    "name": "ipython",
    "version": 3
   },
   "file_extension": ".py",
   "mimetype": "text/x-python",
   "name": "python",
   "nbconvert_exporter": "python",
   "pygments_lexer": "ipython3",
   "version": "3.6.10"
  },
  "toc": {
   "base_numbering": 1,
   "nav_menu": {},
   "number_sections": true,
   "sideBar": true,
   "skip_h1_title": false,
   "title_cell": "Table of Contents",
   "title_sidebar": "Contents",
   "toc_cell": false,
   "toc_position": {},
   "toc_section_display": true,
   "toc_window_display": false
  }
 },
 "nbformat": 4,
 "nbformat_minor": 4
}
