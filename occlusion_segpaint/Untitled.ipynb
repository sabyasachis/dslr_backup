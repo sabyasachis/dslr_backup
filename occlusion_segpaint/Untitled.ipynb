{
 "cells": [
  {
   "cell_type": "code",
   "execution_count": null,
   "metadata": {
    "ExecuteTime": {
     "end_time": "2020-02-07T21:33:35.220777Z",
     "start_time": "2020-02-07T21:28:01.458788Z"
    }
   },
   "outputs": [],
   "source": [
    "import numpy as np\n",
    "from tqdm import tqdm\n",
    "import os\n",
    "import pickle\n",
    "import gc\n",
    "\n",
    "def getint(name):\n",
    "    try:\n",
    "        return int(name.split('.')[0])\n",
    "    except Exception as e:\n",
    "        print(\"Error occured while trying to read {}\".format(name))\n",
    "    return None\n",
    "\n",
    "DYNAMIC_TRAIN_FOLDER_PATH = '/home/saby/Projects/ati/data/data/datasets/Carla/16beam-Data/small_map/pair_transform_dynseg/dynamic_out_npy'\n",
    "train_file  = sorted(os.listdir( DYNAMIC_TRAIN_FOLDER_PATH), key=getint)\n",
    "DYNAMIC_PREPROCESS_DATA_PATH='/home/saby/Projects/ati/data/data/datasets/Carla/16beam-Data/small_map/pair_transform_dynseg/maaa_ka'\n",
    "\n",
    "\n",
    "train_file=train_file[0:2]\n",
    "\n",
    "for file in tqdm(train_file):\n",
    "        dynamic_dataset_train = np.load(os.path.join(DYNAMIC_TRAIN_FOLDER_PATH,file))\n",
    "        print(dynamic_dataset_train.shape)\n",
    "        with open(os.path.join(DYNAMIC_PREPROCESS_DATA_PATH, file), 'wb') as pfile:\n",
    "            pickle.dump(dynamic_dataset_train, pfile, protocol=pickle.HIGHEST_PROTOCOL)\n",
    "        gc.collect()\n",
    "import numpy as np"
   ]
  },
  {
   "cell_type": "code",
   "execution_count": null,
   "metadata": {
    "ExecuteTime": {
     "start_time": "2020-02-08T01:39:00.580Z"
    }
   },
   "outputs": [],
   "source": [
    "import numpy as np\n",
    "DYNAMIC_TRAIN_FOLDER_PATH = '/home/saby/Projects/ati/data/data/datasets/Carla/16beam-Data/small_map/pair_transform_dynseg/dynamic_out_npy'\n",
    "array_1=np.load('/home/saby/Projects/ati/data/data/datasets/Carla/16beam-Data/small_map/pair_transform_dynseg/dynamic_out_npy/0.npy')\n",
    "\n"
   ]
  },
  {
   "cell_type": "code",
   "execution_count": null,
   "metadata": {
    "ExecuteTime": {
     "end_time": "2020-02-08T01:28:54.578947Z",
     "start_time": "2020-02-08T01:27:17.117593Z"
    }
   },
   "outputs": [],
   "source": [
    "array_2=np.load('/home/saby/Projects/ati/data/data/datasets/Carla/16beam-Data/small_map/pair_transform_dynseg/dynamic_out_npy/1.npy')\n"
   ]
  },
  {
   "cell_type": "code",
   "execution_count": null,
   "metadata": {
    "ExecuteTime": {
     "end_time": "2020-02-08T01:30:38.720403Z",
     "start_time": "2020-02-08T01:28:58.575432Z"
    }
   },
   "outputs": [],
   "source": [
    "array_3=np.load('/home/saby/Projects/ati/data/data/datasets/Carla/16beam-Data/small_map/pair_transform_dynseg/dynamic_out_npy/2.npy')\n"
   ]
  },
  {
   "cell_type": "code",
   "execution_count": null,
   "metadata": {
    "ExecuteTime": {
     "start_time": "2020-02-08T01:37:05.905Z"
    }
   },
   "outputs": [],
   "source": [
    "array_4=np.stack((array_1,array_2),axis=1)"
   ]
  },
  {
   "cell_type": "code",
   "execution_count": null,
   "metadata": {
    "ExecuteTime": {
     "end_time": "2020-02-08T01:36:51.002654Z",
     "start_time": "2020-02-08T01:36:50.891738Z"
    }
   },
   "outputs": [],
   "source": [
    "array_4.shape"
   ]
  },
  {
   "cell_type": "code",
   "execution_count": null,
   "metadata": {},
   "outputs": [],
   "source": []
  }
 ],
 "metadata": {
  "kernelspec": {
   "display_name": "Python 3",
   "language": "python",
   "name": "python3"
  },
  "language_info": {
   "codemirror_mode": {
    "name": "ipython",
    "version": 3
   },
   "file_extension": ".py",
   "mimetype": "text/x-python",
   "name": "python",
   "nbconvert_exporter": "python",
   "pygments_lexer": "ipython3",
   "version": "3.6.10"
  },
  "toc": {
   "base_numbering": 1,
   "nav_menu": {},
   "number_sections": true,
   "sideBar": true,
   "skip_h1_title": false,
   "title_cell": "Table of Contents",
   "title_sidebar": "Contents",
   "toc_cell": false,
   "toc_position": {},
   "toc_section_display": true,
   "toc_window_display": false
  }
 },
 "nbformat": 4,
 "nbformat_minor": 4
}
