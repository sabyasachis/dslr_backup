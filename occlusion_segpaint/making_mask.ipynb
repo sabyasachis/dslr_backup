{
 "cells": [
  {
   "cell_type": "code",
   "execution_count": 1,
   "metadata": {
    "ExecuteTime": {
     "end_time": "2020-02-03T17:21:48.586807Z",
     "start_time": "2020-02-03T17:21:39.391373Z"
    }
   },
   "outputs": [
    {
     "name": "stdout",
     "output_type": "stream",
     "text": [
      "(1424287, 2)\n",
      "(1424287, 4)\n",
      "(44893281, 2)\n",
      "(44893281, 4)\n"
     ]
    }
   ],
   "source": [
    "import numpy as np\n",
    "import matplotlib.pyplot as plt\n",
    "import open3d as o3d\n",
    "import os\n",
    "\n",
    "PATH_FOR_RANGE_IMAGE_TILL_FOLDER= \"/home/saby/Projects/ati/data/data/datasets/Carla/16beam-Data/small_map/validate_idea/dynamic_8/\"\n",
    "\n",
    "\n",
    "generated_run_npy=np.load(os.path.join(PATH_FOR_RANGE_IMAGE_TILL_FOLDER+\"_segment_out_npy/0.npy\"))\n",
    "\n",
    "\n",
    "\n",
    "dynamic_only_array=(generated_run_npy[:,:,:,3]==1)\n",
    "\n",
    "static_only_array=np.invert(dynamic_only_array)\n",
    "\n",
    "\n",
    "dynamic_only_array=np.array(dynamic_only_array,dtype=np.int8)\n",
    "static_only_array=np.array(static_only_array,dtype=np.int8)\n",
    "\n",
    "dynamic_only_array=dynamic_only_array.reshape(generated_run_npy.shape[0],16,1024,1)\n",
    "static_only_array=static_only_array.reshape(generated_run_npy.shape[0],16,1024,1)\n",
    "\n",
    "mask=np.concatenate((static_only_array,dynamic_only_array),axis=3)\n",
    "\n",
    "# print(mask.shape)\n",
    "\n",
    "#dynamic is [0,1]\n",
    "#static is [1,0]\n",
    "\n",
    "if not (os.path.exists(os.path.join(PATH_FOR_RANGE_IMAGE_TILL_FOLDER+\"mask_npy\"))):\n",
    "    os.mkdir(os.path.join(PATH_FOR_RANGE_IMAGE_TILL_FOLDER+\"mask_npy\"))\n",
    "\n",
    "np.save(os.path.join(PATH_FOR_RANGE_IMAGE_TILL_FOLDER+\"mask_npy/mask.npy\"),mask)\n",
    "\n",
    "\n",
    "\n",
    "\n",
    "\n",
    "                         ########VALIDATION###############\n",
    "print(mask[(mask[:,:,:,0]==0)&(mask[:,:,:,1]==1)].shape)\n",
    "print(generated_run_npy[(generated_run_npy[:,:,:,3]==1)].shape)\n",
    "\n",
    "print(mask[(mask[:,:,:,0]==1)&(mask[:,:,:,1]==0)].shape)\n",
    "print(generated_run_npy[(generated_run_npy[:,:,:,3]!=1)].shape)\n",
    "\n"
   ]
  },
  {
   "cell_type": "code",
   "execution_count": null,
   "metadata": {},
   "outputs": [],
   "source": []
  },
  {
   "cell_type": "code",
   "execution_count": null,
   "metadata": {},
   "outputs": [],
   "source": []
  },
  {
   "cell_type": "code",
   "execution_count": null,
   "metadata": {},
   "outputs": [],
   "source": []
  },
  {
   "cell_type": "code",
   "execution_count": null,
   "metadata": {
    "ExecuteTime": {
     "end_time": "2020-02-03T12:52:42.358261Z",
     "start_time": "2020-02-03T12:52:42.230629Z"
    }
   },
   "outputs": [],
   "source": [
    "mask[:,:,:,0].sum() + mask[:,:,:,1].sum() == 16*1024*mask.shape[0]"
   ]
  },
  {
   "cell_type": "code",
   "execution_count": null,
   "metadata": {
    "ExecuteTime": {
     "end_time": "2020-02-03T12:53:11.932147Z",
     "start_time": "2020-02-03T12:53:11.923436Z"
    }
   },
   "outputs": [],
   "source": [
    "mask[11,:,:,0].sum() + mask[11,:,:,1].sum() == 16*1024"
   ]
  },
  {
   "cell_type": "code",
   "execution_count": null,
   "metadata": {
    "ExecuteTime": {
     "end_time": "2020-02-03T12:54:45.430779Z",
     "start_time": "2020-02-03T12:54:45.256389Z"
    }
   },
   "outputs": [],
   "source": [
    "(1 - mask[:,:,:,0] == mask[:,:,:,1]).sum() == (3056 * 16 * 1024)"
   ]
  },
  {
   "cell_type": "code",
   "execution_count": null,
   "metadata": {
    "ExecuteTime": {
     "end_time": "2020-02-03T12:54:06.215714Z",
     "start_time": "2020-02-03T12:54:06.209009Z"
    }
   },
   "outputs": [],
   "source": [
    "mask.shape"
   ]
  },
  {
   "cell_type": "code",
   "execution_count": null,
   "metadata": {},
   "outputs": [],
   "source": []
  },
  {
   "cell_type": "code",
   "execution_count": null,
   "metadata": {},
   "outputs": [],
   "source": []
  },
  {
   "cell_type": "code",
   "execution_count": null,
   "metadata": {
    "ExecuteTime": {
     "end_time": "2020-02-01T20:35:52.831618Z",
     "start_time": "2020-02-01T20:35:52.776084Z"
    }
   },
   "outputs": [],
   "source": [
    "ATH_1 = \"/home/saby/Projects/ati/data/data/datasets/Carla/16beam-Data/small_map/validate_idea/dynamic_8/_segment/1.pcd\"\n",
    "\n",
    "\n",
    "def draw_pcd(pcd, where='opn_nb'):\n",
    "    if where is 'opn_nb':\n",
    "        visualizer = o3d.JVisualizer()\n",
    "        visualizer.add_geometry(pcd)\n",
    "        visualizer.show()\n",
    "    elif where is 'opn_view':\n",
    "        o3d.visualization.draw_geometries([pcd], width=1280, height=800)\n",
    "    elif where is 'mat_3d':\n",
    "        plt.figure()\n",
    "        pts = np.asarray(pcd.points)\n",
    "        plt.scatter(pts[:,0], pts[:,1], pts[:,2])\n",
    "        plt.grid()\n",
    "        plt.show()\n",
    "    elif where is 'mat_2d':\n",
    "        plt.figure()\n",
    "        pts = np.asarray(pcd.points)\n",
    "        plt.scatter(pts[:,0], pts[:,1])\n",
    "        plt.grid()\n",
    "        plt.show()\n",
    "\n",
    "\n",
    "pcd = o3d.io.read_point_cloud(PATH_1)\n",
    "print (pcd)\n",
    "pcd_array=np.asarray(pcd.points)\n"
   ]
  },
  {
   "cell_type": "code",
   "execution_count": null,
   "metadata": {
    "ExecuteTime": {
     "end_time": "2020-02-01T20:35:58.018885Z",
     "start_time": "2020-02-01T20:35:57.371781Z"
    }
   },
   "outputs": [],
   "source": [
    "draw_pcd(pcd)"
   ]
  },
  {
   "cell_type": "code",
   "execution_count": null,
   "metadata": {
    "ExecuteTime": {
     "end_time": "2020-02-02T18:07:01.781681Z",
     "start_time": "2020-02-02T18:07:01.702052Z"
    }
   },
   "outputs": [],
   "source": [
    "check_arr=generated_run_npy[0][(generated_run_npy[0,:,:,3]==1)]\n",
    "check_pcd=o3d.geometry.PointCloud()\n",
    "check_pcd.points=o3d.utility.Vector3dVector(check_arr[:,:3])\n",
    "check_pcd.paint_uniform_color([1, 0, 0])\n",
    "#draw_pcd(check_pcd)\n",
    "\n",
    "dynamic_only_pcd=o3d.geometry.PointCloud()\n",
    "dynamic_only_pcd.points=o3d.utility.Vector3dVector(pcd_array[np.asarray(pcd.colors)[:,0] == 1])\n",
    "dynamic_only_pcd.paint_uniform_color([0, 1, 0])\n",
    "#draw_pcd(dynamic_only_pcd)\n",
    "\n",
    "\n",
    "visualizer = o3d.JVisualizer()\n",
    "visualizer.add_geometry(dynamic_only_pcd)\n",
    "visualizer.add_geometry(check_pcd)\n",
    "visualizer.show()"
   ]
  },
  {
   "cell_type": "code",
   "execution_count": null,
   "metadata": {},
   "outputs": [],
   "source": [
    "# static_only_pcd=o3d.geometry.PointCloud()\n",
    "# static_only_pcd.points=o3d.utility.Vector3dVector(pcd_array[np.asarray(pcd.colors)[:,0] != 1])\n",
    "# static_only_array=pcd_array[np.asarray(pcd.colors)[:,0] != 1]\n",
    "# draw_pcd(static_only_pcd)"
   ]
  },
  {
   "cell_type": "code",
   "execution_count": null,
   "metadata": {
    "ExecuteTime": {
     "end_time": "2020-02-02T18:09:51.055015Z",
     "start_time": "2020-02-02T18:09:51.042808Z"
    }
   },
   "outputs": [],
   "source": []
  },
  {
   "cell_type": "code",
   "execution_count": null,
   "metadata": {
    "ExecuteTime": {
     "end_time": "2020-02-02T18:09:59.285714Z",
     "start_time": "2020-02-02T18:09:59.270819Z"
    }
   },
   "outputs": [],
   "source": []
  },
  {
   "cell_type": "code",
   "execution_count": null,
   "metadata": {
    "ExecuteTime": {
     "end_time": "2020-02-02T22:02:03.074061Z",
     "start_time": "2020-02-02T22:02:02.728738Z"
    }
   },
   "outputs": [],
   "source": [
    "\n",
    "\n"
   ]
  },
  {
   "cell_type": "markdown",
   "metadata": {},
   "source": []
  },
  {
   "cell_type": "code",
   "execution_count": null,
   "metadata": {},
   "outputs": [],
   "source": []
  },
  {
   "cell_type": "code",
   "execution_count": null,
   "metadata": {},
   "outputs": [],
   "source": []
  },
  {
   "cell_type": "code",
   "execution_count": null,
   "metadata": {
    "ExecuteTime": {
     "end_time": "2020-02-01T19:25:10.387643Z",
     "start_time": "2020-02-01T19:25:10.178989Z"
    }
   },
   "outputs": [],
   "source": []
  }
 ],
 "metadata": {
  "kernelspec": {
   "display_name": "Python 3",
   "language": "python",
   "name": "python3"
  },
  "language_info": {
   "codemirror_mode": {
    "name": "ipython",
    "version": 3
   },
   "file_extension": ".py",
   "mimetype": "text/x-python",
   "name": "python",
   "nbconvert_exporter": "python",
   "pygments_lexer": "ipython3",
   "version": "3.6.10"
  },
  "toc": {
   "base_numbering": 1,
   "nav_menu": {},
   "number_sections": true,
   "sideBar": true,
   "skip_h1_title": false,
   "title_cell": "Table of Contents",
   "title_sidebar": "Contents",
   "toc_cell": false,
   "toc_position": {},
   "toc_section_display": true,
   "toc_window_display": false
  }
 },
 "nbformat": 4,
 "nbformat_minor": 4
}
