{
 "cells": [
  {
   "cell_type": "code",
   "execution_count": null,
   "metadata": {
    "ExecuteTime": {
     "end_time": "2020-02-06T11:47:14.667846Z",
     "start_time": "2020-02-06T11:47:13.291714Z"
    }
   },
   "outputs": [],
   "source": [
    "import numpy as np\n",
    "import open3d as o3d\n",
    "import os\n"
   ]
  },
  {
   "cell_type": "code",
   "execution_count": null,
   "metadata": {
    "ExecuteTime": {
     "end_time": "2020-02-06T11:47:32.357598Z",
     "start_time": "2020-02-06T11:47:24.852320Z"
    }
   },
   "outputs": [],
   "source": [
    "STATIC_TRAIN_FOLDER_PATH  = '/home/saby/Projects/ati/data/data/datasets/Carla/16beam-Data/small_map/validate_idea/dynamic_24/_segment_out_npy/'\n",
    "static_dataset_train = np.load(os.path.join(STATIC_TRAIN_FOLDER_PATH,\"0.npy\"))\n",
    "\n",
    "\n",
    "# np.where(static_dataset_train[0,:,:,3]==0.5,0,static_dataset_train[0,:,:,3])\n",
    "# static_dataset_train[:,:,:,:3][(static_dataset_train[:,:,:,3]!=0)&(static_dataset_train[:,:,:,3]!=1)]=0\n",
    "# static_dataset_train[:,:,:,:][static_dataset_train[:,:,:,3]==0.5]"
   ]
  },
  {
   "cell_type": "code",
   "execution_count": null,
   "metadata": {
    "ExecuteTime": {
     "end_time": "2020-02-06T11:47:34.538428Z",
     "start_time": "2020-02-06T11:47:34.513558Z"
    }
   },
   "outputs": [],
   "source": [
    "pcd_static=o3d.geometry.PointCloud()\n",
    "pcd_dynamic=o3d.geometry.PointCloud()\n",
    "pcd_patanahi=o3d.geometry.PointCloud()\n",
    "\n",
    "\n",
    "pcd_patanahi.points=o3d.utility.Vector3dVector(static_dataset_train[10,:,:,:3][static_dataset_train[10,:,:,3]==0.5])\n",
    "pcd_dynamic.points=o3d.utility.Vector3dVector(static_dataset_train[10,:,:,:3][static_dataset_train[10,:,:,3]==1])\n",
    "pcd_static.points=o3d.utility.Vector3dVector(static_dataset_train[10,:,:,:3][static_dataset_train[10,:,:,3]==0])\n",
    "\n",
    "pcd_dynamic.paint_uniform_color(np.array([[1],[0],[0]]))\n",
    "pcd_patanahi.paint_uniform_color(np.array([[0],[1],[0]]))\n",
    "pcd_static.paint_uniform_color(np.array([[0],[0],[1]]))"
   ]
  },
  {
   "cell_type": "code",
   "execution_count": null,
   "metadata": {
    "ExecuteTime": {
     "start_time": "2020-02-06T11:47:36.142Z"
    }
   },
   "outputs": [],
   "source": [
    "# visualizer = o3d.JVisualizer()\n",
    "# visualizer.add_geometry(pcd_patanahi)\n",
    "# visualizer.add_geometry(pcd_dynamic)\n",
    "# visualizer.show()\n",
    "\n",
    "o3d.visualization.draw_geometries([pcd_patanahi,pcd_dynamic,pcd_static],width=1280, height=800)"
   ]
  },
  {
   "cell_type": "code",
   "execution_count": null,
   "metadata": {},
   "outputs": [],
   "source": []
  }
 ],
 "metadata": {
  "kernelspec": {
   "display_name": "Python 3",
   "language": "python",
   "name": "python3"
  },
  "language_info": {
   "codemirror_mode": {
    "name": "ipython",
    "version": 3
   },
   "file_extension": ".py",
   "mimetype": "text/x-python",
   "name": "python",
   "nbconvert_exporter": "python",
   "pygments_lexer": "ipython3",
   "version": "3.6.10"
  },
  "toc": {
   "base_numbering": 1,
   "nav_menu": {},
   "number_sections": true,
   "sideBar": true,
   "skip_h1_title": false,
   "title_cell": "Table of Contents",
   "title_sidebar": "Contents",
   "toc_cell": false,
   "toc_position": {},
   "toc_section_display": true,
   "toc_window_display": false
  }
 },
 "nbformat": 4,
 "nbformat_minor": 4
}
