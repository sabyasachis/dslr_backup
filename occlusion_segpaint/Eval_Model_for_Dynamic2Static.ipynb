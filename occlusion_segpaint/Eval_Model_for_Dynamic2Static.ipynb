{
 "cells": [
  {
   "cell_type": "markdown",
   "metadata": {},
   "source": [
    "Imports"
   ]
  },
  {
   "cell_type": "code",
   "execution_count": 1,
   "metadata": {
    "ExecuteTime": {
     "end_time": "2020-02-23T23:40:29.687747Z",
     "start_time": "2020-02-23T23:40:27.720894Z"
    }
   },
   "outputs": [],
   "source": [
    "from torchvision import datasets, transforms\n",
    "import torch.utils.data\n",
    "import torch\n",
    "import sys\n",
    "import argparse\n",
    "import matplotlib.pyplot as plt\n",
    "from utils import * \n",
    "from utils import *\n",
    "import open3d as o3d\n",
    "from models import *\n",
    "from collections import OrderedDict\n",
    "import os, shutil, gc\n",
    "from tqdm import tqdm_notebook"
   ]
  },
  {
   "cell_type": "code",
   "execution_count": 2,
   "metadata": {
    "ExecuteTime": {
     "end_time": "2020-02-23T23:40:29.703176Z",
     "start_time": "2020-02-23T23:40:29.690320Z"
    }
   },
   "outputs": [],
   "source": [
    "%matplotlib notebook"
   ]
  },
  {
   "cell_type": "markdown",
   "metadata": {},
   "source": [
    "Args"
   ]
  },
  {
   "cell_type": "code",
   "execution_count": 3,
   "metadata": {
    "ExecuteTime": {
     "end_time": "2020-02-23T23:40:38.045493Z",
     "start_time": "2020-02-23T23:40:38.022843Z"
    }
   },
   "outputs": [
    {
     "data": {
      "text/plain": [
       "_StoreTrueAction(option_strings=['--debug'], dest='debug', nargs=0, const=True, default=False, type=None, choices=None, help=None, metavar=None)"
      ]
     },
     "execution_count": 3,
     "metadata": {},
     "output_type": "execute_result"
    }
   ],
   "source": [
    "parser = argparse.ArgumentParser(description='VAE training of LiDAR')\n",
    "parser.add_argument('--batch_size',         type=int,   default=32,             help='size of minibatch used during training')\n",
    "parser.add_argument('--use_selu',           type=int,   default=0,              help='replaces batch_norm + act with SELU')\n",
    "parser.add_argument('--base_dir',           type=str,   default='runs/test',    help='root of experiment directory')\n",
    "parser.add_argument('--no_polar',           type=int,   default=0,              help='if True, the representation used is (X,Y,Z), instead of (D, Z), where D=sqrt(X^2+Y^2)')\n",
    "parser.add_argument('--lr',                 type=float, default=1e-3,           help='learning rate value')\n",
    "parser.add_argument('--z_dim',              type=int,   default=1024,            help='size of the bottleneck dimension in the VAE, or the latent noise size in GAN')\n",
    "parser.add_argument('--autoencoder',        type=int,   default=1,              help='if True, we do not enforce the KL regularization cost in the VAE')\n",
    "parser.add_argument('--atlas_baseline',     type=int,   default=0,              help='If true, Atlas model used. Also determines the number of primitives used in the model')\n",
    "parser.add_argument('--panos_baseline',     type=int,   default=0,              help='If True, Model by Panos Achlioptas used')\n",
    "parser.add_argument('--kl_warmup_epochs',   type=int,   default=150,            help='number of epochs before fully enforcing the KL loss')\n",
    "parser.add_argument('--debug', action='store_true')"
   ]
  },
  {
   "cell_type": "code",
   "execution_count": 4,
   "metadata": {
    "ExecuteTime": {
     "end_time": "2020-02-23T23:40:39.288628Z",
     "start_time": "2020-02-23T23:40:39.278278Z"
    }
   },
   "outputs": [
    {
     "data": {
      "text/plain": [
       "Namespace(atlas_baseline=0, autoencoder=1, base_dir='runs/test', batch_size=32, debug=False, kl_warmup_epochs=150, lr=0.001, no_polar=0, panos_baseline=0, use_selu=0, z_dim=1024)"
      ]
     },
     "execution_count": 4,
     "metadata": {},
     "output_type": "execute_result"
    }
   ],
   "source": [
    "args = parser.parse_args([])\n",
    "args"
   ]
  },
  {
   "cell_type": "code",
   "execution_count": null,
   "metadata": {},
   "outputs": [],
   "source": []
  },
  {
   "cell_type": "code",
   "execution_count": 5,
   "metadata": {
    "ExecuteTime": {
     "end_time": "2020-02-23T23:40:41.121537Z",
     "start_time": "2020-02-23T23:40:41.117945Z"
    }
   },
   "outputs": [],
   "source": [
    "# model_file = '/home/sabyasachi/Projects/ati/ati_motors/adversarial_based/prashVAE/new_runs/unet_more_layers_restarted_with_more_data_ctd/models/gen_118.pth'\n",
    "model_file = '/home/saby/Projects/ati/ati_motors/adversarial_based/occlusion_segpaint/second_full_data/models/gen_10.pth'\n",
    "\n",
    "MODEL_USED_DATA_PARALLEL = False"
   ]
  },
  {
   "cell_type": "code",
   "execution_count": null,
   "metadata": {},
   "outputs": [],
   "source": []
  },
  {
   "cell_type": "markdown",
   "metadata": {},
   "source": [
    "Load Model"
   ]
  },
  {
   "cell_type": "code",
   "execution_count": null,
   "metadata": {},
   "outputs": [],
   "source": []
  },
  {
   "cell_type": "code",
   "execution_count": 6,
   "metadata": {
    "ExecuteTime": {
     "end_time": "2020-02-23T23:41:00.670179Z",
     "start_time": "2020-02-23T23:40:58.149738Z"
    },
    "scrolled": true
   },
   "outputs": [
    {
     "name": "stdout",
     "output_type": "stream",
     "text": [
      "Loading model from /home/saby/Projects/ati/ati_motors/adversarial_based/occlusion_segpaint/second_full_data/models/gen_10.pth\n"
     ]
    },
    {
     "data": {
      "text/plain": [
       "VAE_dynseg(\n",
       "  (encoder_conv2d_a): Sequential(\n",
       "    (0): Conv2d(2, 32, kernel_size=(3, 3), stride=(1, 1), padding=(1, 1), bias=False)\n",
       "  )\n",
       "  (encoder_leakyrelu_b): Sequential(\n",
       "    (0): LeakyReLU(negative_slope=0.2, inplace=True)\n",
       "  )\n",
       "  (encoder_conv2d_A): Sequential(\n",
       "    (0): Conv2d(32, 32, kernel_size=(3, 3), stride=(1, 1), padding=(1, 1), bias=False)\n",
       "  )\n",
       "  (encoder_leakyrelu_B): Sequential(\n",
       "    (0): LeakyReLU(negative_slope=0.2, inplace=True)\n",
       "  )\n",
       "  (encoder_conv2d_1): Sequential(\n",
       "    (0): Conv2d(32, 32, kernel_size=(3, 3), stride=(2, 2), padding=(1, 1), bias=False)\n",
       "  )\n",
       "  (encoder_leakyrelu_2): Sequential(\n",
       "    (0): LeakyReLU(negative_slope=0.2, inplace=True)\n",
       "  )\n",
       "  (encoder_conv2d_c): Sequential(\n",
       "    (0): Conv2d(32, 32, kernel_size=(3, 3), stride=(1, 1), padding=(1, 1), bias=False)\n",
       "  )\n",
       "  (encoder_leakyrelu_d): Sequential(\n",
       "    (0): LeakyReLU(negative_slope=0.2, inplace=True)\n",
       "  )\n",
       "  (encoder_conv2d_C): Sequential(\n",
       "    (0): Conv2d(32, 32, kernel_size=(3, 3), stride=(1, 1), padding=(1, 1), bias=False)\n",
       "  )\n",
       "  (encoder_leakyrelu_D): Sequential(\n",
       "    (0): LeakyReLU(negative_slope=0.2, inplace=True)\n",
       "  )\n",
       "  (encoder_conv2d_3): Sequential(\n",
       "    (0): Conv2d(32, 64, kernel_size=(3, 3), stride=(2, 2), padding=(1, 1), bias=False)\n",
       "  )\n",
       "  (encoder_batchnorm2d_4): Sequential(\n",
       "    (0): BatchNorm2d(64, eps=1e-05, momentum=0.1, affine=True, track_running_stats=True)\n",
       "  )\n",
       "  (encoder_leakyrelu_5): Sequential(\n",
       "    (0): LeakyReLU(negative_slope=0.2, inplace=True)\n",
       "  )\n",
       "  (encoder_conv2d_e): Sequential(\n",
       "    (0): Conv2d(64, 64, kernel_size=(3, 3), stride=(1, 1), padding=(1, 1), bias=False)\n",
       "  )\n",
       "  (encoder_leakyrelu_f): Sequential(\n",
       "    (0): LeakyReLU(negative_slope=0.2, inplace=True)\n",
       "  )\n",
       "  (encoder_conv2d_E): Sequential(\n",
       "    (0): Conv2d(64, 64, kernel_size=(3, 3), stride=(1, 1), padding=(1, 1), bias=False)\n",
       "  )\n",
       "  (encoder_leakyrelu_F): Sequential(\n",
       "    (0): LeakyReLU(negative_slope=0.2, inplace=True)\n",
       "  )\n",
       "  (encoder_conv2d_6): Sequential(\n",
       "    (0): Conv2d(64, 128, kernel_size=(3, 3), stride=(2, 2), padding=(1, 1), bias=False)\n",
       "  )\n",
       "  (encoder_batchnorm2d_7): Sequential(\n",
       "    (0): BatchNorm2d(128, eps=1e-05, momentum=0.1, affine=True, track_running_stats=True)\n",
       "  )\n",
       "  (encoder_leakyrelu_8): Sequential(\n",
       "    (0): LeakyReLU(negative_slope=0.2, inplace=True)\n",
       "  )\n",
       "  (encoder_conv2d_g): Sequential(\n",
       "    (0): Conv2d(128, 128, kernel_size=(3, 3), stride=(1, 1), padding=(1, 1), bias=False)\n",
       "  )\n",
       "  (encoder_leakyrelu_h): Sequential(\n",
       "    (0): LeakyReLU(negative_slope=0.2, inplace=True)\n",
       "  )\n",
       "  (encoder_conv2d_G): Sequential(\n",
       "    (0): Conv2d(128, 128, kernel_size=(3, 3), stride=(1, 1), padding=(1, 1), bias=False)\n",
       "  )\n",
       "  (encoder_leakyrelu_H): Sequential(\n",
       "    (0): LeakyReLU(negative_slope=0.2, inplace=True)\n",
       "  )\n",
       "  (encoder_conv2d_9): Sequential(\n",
       "    (0): Conv2d(128, 256, kernel_size=(3, 3), stride=(2, 2), padding=(1, 1), bias=False)\n",
       "  )\n",
       "  (encoder_batchnorm2d_10): Sequential(\n",
       "    (0): BatchNorm2d(256, eps=1e-05, momentum=0.1, affine=True, track_running_stats=True)\n",
       "  )\n",
       "  (encoder_leakyrelu_11): Sequential(\n",
       "    (0): LeakyReLU(negative_slope=0.2, inplace=True)\n",
       "  )\n",
       "  (encoder_conv2d_12): Sequential(\n",
       "    (0): Conv2d(256, 1024, kernel_size=(1, 64), stride=(1, 1), bias=False)\n",
       "  )\n",
       "  (decoder_convtranspose2d_13): Sequential(\n",
       "    (0): ConvTranspose2d(1024, 256, kernel_size=(1, 64), stride=(1, 1), bias=False)\n",
       "  )\n",
       "  (decoder_batchnorm2d_14): Sequential(\n",
       "    (0): BatchNorm2d(256, eps=1e-05, momentum=0.1, affine=True, track_running_stats=True)\n",
       "  )\n",
       "  (decoder_relu_15): Sequential(\n",
       "    (0): ReLU(inplace=True)\n",
       "  )\n",
       "  (decoder_conv2d_i): Sequential(\n",
       "    (0): Conv2d(256, 256, kernel_size=(3, 3), stride=(1, 1), padding=(1, 1), bias=False)\n",
       "  )\n",
       "  (decoder_relu_j): Sequential(\n",
       "    (0): ReLU(inplace=True)\n",
       "  )\n",
       "  (decoder_convtranspose2d_16): Sequential(\n",
       "    (0): ConvTranspose2d(256, 128, kernel_size=(4, 4), stride=(2, 2), padding=(1, 1), bias=False)\n",
       "  )\n",
       "  (decoder_batchnorm2d_17): Sequential(\n",
       "    (0): BatchNorm2d(128, eps=1e-05, momentum=0.1, affine=True, track_running_stats=True)\n",
       "  )\n",
       "  (decoder_relu_18): Sequential(\n",
       "    (0): ReLU(inplace=True)\n",
       "  )\n",
       "  (decoder_conv2d_k): Sequential(\n",
       "    (0): Conv2d(256, 128, kernel_size=(3, 3), stride=(1, 1), padding=(1, 1), bias=False)\n",
       "  )\n",
       "  (decoder_relu_l): Sequential(\n",
       "    (0): ReLU(inplace=True)\n",
       "  )\n",
       "  (decoder_conv2d_K): Sequential(\n",
       "    (0): Conv2d(128, 128, kernel_size=(3, 3), stride=(1, 1), padding=(1, 1), bias=False)\n",
       "  )\n",
       "  (decoder_relu_L): Sequential(\n",
       "    (0): ReLU(inplace=True)\n",
       "  )\n",
       "  (decoder_convtranspose2d_19): Sequential(\n",
       "    (0): ConvTranspose2d(128, 64, kernel_size=(4, 4), stride=(2, 2), padding=(1, 1), bias=False)\n",
       "  )\n",
       "  (decoder_batchnorm2d_20): Sequential(\n",
       "    (0): BatchNorm2d(64, eps=1e-05, momentum=0.1, affine=True, track_running_stats=True)\n",
       "  )\n",
       "  (decoder_relu_21): Sequential(\n",
       "    (0): ReLU(inplace=True)\n",
       "  )\n",
       "  (decoder_conv2d_m): Sequential(\n",
       "    (0): Conv2d(128, 64, kernel_size=(3, 3), stride=(1, 1), padding=(1, 1), bias=False)\n",
       "  )\n",
       "  (decoder_relu_n): Sequential(\n",
       "    (0): ReLU(inplace=True)\n",
       "  )\n",
       "  (decoder_conv2d_M): Sequential(\n",
       "    (0): Conv2d(64, 64, kernel_size=(3, 3), stride=(1, 1), padding=(1, 1), bias=False)\n",
       "  )\n",
       "  (decoder_relu_N): Sequential(\n",
       "    (0): ReLU(inplace=True)\n",
       "  )\n",
       "  (decoder_convtranspose2d_22): Sequential(\n",
       "    (0): ConvTranspose2d(64, 32, kernel_size=(4, 4), stride=(2, 2), padding=(1, 1), bias=False)\n",
       "  )\n",
       "  (decoder_batchnorm2d_23): Sequential(\n",
       "    (0): BatchNorm2d(32, eps=1e-05, momentum=0.1, affine=True, track_running_stats=True)\n",
       "  )\n",
       "  (decoder_relu_24): Sequential(\n",
       "    (0): ReLU(inplace=True)\n",
       "  )\n",
       "  (decoder_conv2d_o): Sequential(\n",
       "    (0): Conv2d(64, 32, kernel_size=(3, 3), stride=(1, 1), padding=(1, 1), bias=False)\n",
       "  )\n",
       "  (decoder_relu_p): Sequential(\n",
       "    (0): ReLU(inplace=True)\n",
       "  )\n",
       "  (decoder_conv2d_O): Sequential(\n",
       "    (0): Conv2d(32, 32, kernel_size=(3, 3), stride=(1, 1), padding=(1, 1), bias=False)\n",
       "  )\n",
       "  (decoder_relu_P): Sequential(\n",
       "    (0): ReLU(inplace=True)\n",
       "  )\n",
       "  (decoder_convtranspose2d_25): Sequential(\n",
       "    (0): ConvTranspose2d(32, 32, kernel_size=(4, 4), stride=(2, 2), padding=(1, 1), bias=False)\n",
       "  )\n",
       "  (decoder_relu_26): Sequential(\n",
       "    (0): ReLU(inplace=True)\n",
       "  )\n",
       "  (decoder_conv2d_q): Sequential(\n",
       "    (0): Conv2d(64, 32, kernel_size=(3, 3), stride=(1, 1), padding=(1, 1), bias=False)\n",
       "  )\n",
       "  (decoder_relu_R): Sequential(\n",
       "    (0): ReLU(inplace=True)\n",
       "  )\n",
       "  (decoder_conv2d_Q): Sequential(\n",
       "    (0): Conv2d(32, 2, kernel_size=(3, 3), stride=(1, 1), padding=(1, 1), bias=False)\n",
       "  )\n",
       "  (tanh_27): Sequential(\n",
       "    (0): Tanh()\n",
       "  )\n",
       "  (softmax): Sequential(\n",
       "    (0): Softmax(dim=1)\n",
       "  )\n",
       ")"
      ]
     },
     "execution_count": 6,
     "metadata": {},
     "output_type": "execute_result"
    }
   ],
   "source": [
    "model = VAE_dynseg(args).cuda()\n",
    "print(\"Loading model from {}\".format(model_file))\n",
    "network=torch.load(model_file)\n",
    "\n",
    "if MODEL_USED_DATA_PARALLEL:\n",
    "    # original saved file with DataParallel\n",
    "    state_dict = network\n",
    "    # create new OrderedDict that does not contain `module.`\n",
    "    new_state_dict = OrderedDict()\n",
    "\n",
    "    for k, v in state_dict.items():\n",
    "        name = k[7:] # remove `module.`\n",
    "        new_state_dict[name] = v\n",
    "\n",
    "    # load params\n",
    "    model.load_state_dict(new_state_dict)\n",
    "else:\n",
    "    model.load_state_dict(network)\n",
    "model.eval()"
   ]
  },
  {
   "cell_type": "code",
   "execution_count": null,
   "metadata": {},
   "outputs": [],
   "source": []
  },
  {
   "cell_type": "markdown",
   "metadata": {},
   "source": [
    "Load data"
   ]
  },
  {
   "cell_type": "code",
   "execution_count": 7,
   "metadata": {
    "ExecuteTime": {
     "end_time": "2020-02-23T23:41:06.446964Z",
     "start_time": "2020-02-23T23:41:06.430073Z"
    }
   },
   "outputs": [],
   "source": [
    "def getint(name):\n",
    "    return int(name.split('.')[0])\n",
    "    \n",
    "def draw_pcd(pcd, where='opn_nb'):\n",
    "    if where is 'opn_nb':\n",
    "        visualizer = o3d.JVisualizer()\n",
    "        visualizer.add_geometry(pcd)\n",
    "        visualizer.show()\n",
    "    elif where is 'opn_view':\n",
    "        o3d.visualization.draw_geometries([pcd], width=1280, height=800)\n",
    "    elif where is 'mat_3d':\n",
    "        plt.figure()\n",
    "        pts = np.asarray(pcd.points)\n",
    "        plt.scatter(pts[:,0], pts[:,1], pts[:,2])\n",
    "        plt.grid()\n",
    "        plt.show()\n",
    "    elif where is 'mat_2d':\n",
    "        plt.figure()\n",
    "        pts = np.asarray(pcd.points)\n",
    "        plt.scatter(pts[:,0], pts[:,1])\n",
    "        plt.grid()\n",
    "        plt.show()\n",
    "        \n",
    "def draw_registration_result(src_pcd, dst_pcd, x_pt, y_pt, theta):    \n",
    "    src_pcd_tmp = copy.deepcopy(src_pcd)\n",
    "    dst_pcd_tmp = copy.deepcopy(dst_pcd)\n",
    "    \n",
    "    src_pcd_tmp.paint_uniform_color([1, 0, 0])  # red source\n",
    "    dst_pcd_tmp.paint_uniform_color([0, 0, 1])  # blue target\n",
    "    \n",
    "    transform_mat = pose2matrix([x_pt, y_pt, 0], [0,0,theta])\n",
    "    dst_pcd_tmp.transform(transform_mat)\n",
    "    \n",
    "    visualizer = o3d.JVisualizer()\n",
    "    visualizer.add_geometry(src_pcd_tmp)\n",
    "    visualizer.add_geometry(dst_pcd_tmp)\n",
    "    visualizer.show()"
   ]
  },
  {
   "cell_type": "code",
   "execution_count": 8,
   "metadata": {
    "ExecuteTime": {
     "end_time": "2020-02-23T23:41:07.637463Z",
     "start_time": "2020-02-23T23:41:07.632340Z"
    }
   },
   "outputs": [],
   "source": [
    "base_folder_path = \"/home/saby/Projects/ati/data/data/datasets/Carla/16beam-Data/small_map\"\n",
    "\n",
    "pair_folder = \"vanshil_ka_run/\"\n",
    "\n",
    "range_npy_folder = \"segment_dynamic\"\n",
    "output_pcd_folder = \"dynseg_model_out_pcd_24\"\n",
    "\n",
    "test_folder_path = os.path.join(base_folder_path, pair_folder, range_npy_folder)\n",
    "out_folder_path = os.path.join(base_folder_path, pair_folder, output_pcd_folder)"
   ]
  },
  {
   "cell_type": "code",
   "execution_count": 9,
   "metadata": {
    "ExecuteTime": {
     "end_time": "2020-02-23T23:41:08.209783Z",
     "start_time": "2020-02-23T23:41:08.205844Z"
    }
   },
   "outputs": [],
   "source": [
    "# test_folder = \"/home/sabyasachi/Projects/ati/data/data/datasets/Carla/16beam-Data/small_map/validate_idea/pair_24_transform/dynamic_out_npy\"\n",
    "# out_folder = \"/home/sabyasachi/Projects/ati/data/data/datasets/Carla/16beam-Data/small_map/validate_idea/pair_24_transform/second_attempt_triple_data_1024_model_out_pcd\"\n",
    "\n",
    "# test_folder = \"/home/sabyasachi/Projects/ati/data/data/datasets/Carla/few_dynamic_runs/110k/dynamic/scarce_1/_out_out_npy\"\n",
    "# out_folder = \"/home/sabyasachi/Projects/ati/data/data/datasets/Carla/few_dynamic_runs/110k/dynamic/scarce_1/_model_out\"\n",
    "test_files  = [sorted(os.listdir(test_folder_path), key=getint)[1]]"
   ]
  },
  {
   "cell_type": "code",
   "execution_count": 10,
   "metadata": {
    "ExecuteTime": {
     "end_time": "2020-02-23T23:41:09.166171Z",
     "start_time": "2020-02-23T23:41:08.806174Z"
    }
   },
   "outputs": [],
   "source": [
    "if not os.path.exists(out_folder_path):\n",
    "    os.makedirs(out_folder_path)\n",
    "else:\n",
    "    shutil.rmtree(out_folder_path)\n",
    "    os.makedirs(out_folder_path)"
   ]
  },
  {
   "cell_type": "code",
   "execution_count": null,
   "metadata": {},
   "outputs": [],
   "source": []
  },
  {
   "cell_type": "code",
   "execution_count": null,
   "metadata": {
    "ExecuteTime": {
     "end_time": "2019-11-12T15:20:03.605330Z",
     "start_time": "2019-11-12T15:19:47.619325Z"
    }
   },
   "outputs": [],
   "source": []
  },
  {
   "cell_type": "markdown",
   "metadata": {},
   "source": [
    "Evaluate on data"
   ]
  },
  {
   "cell_type": "raw",
   "metadata": {
    "ExecuteTime": {
     "end_time": "2019-11-15T19:02:58.483294Z",
     "start_time": "2019-11-15T19:02:57.926563Z"
    }
   },
   "source": [
    "dataset_val = np.load(os.path.join(test_folder, test_files[0]))\n",
    "print(dataset_val.shape)"
   ]
  },
  {
   "cell_type": "raw",
   "metadata": {
    "ExecuteTime": {
     "end_time": "2019-11-15T19:03:13.539302Z",
     "start_time": "2019-11-15T19:02:59.961853Z"
    }
   },
   "source": [
    "pre_processed_dataset_val = preprocess(dataset_val).astype('float32')\n",
    "pre_processed_dataset_val.shape"
   ]
  },
  {
   "cell_type": "raw",
   "metadata": {
    "ExecuteTime": {
     "end_time": "2019-11-15T19:03:13.546468Z",
     "start_time": "2019-11-15T19:03:13.541781Z"
    }
   },
   "source": [
    "pre_processed_dataset_val_2 = pre_processed_dataset_val[200]\n",
    "pre_processed_dataset_val_2.shape"
   ]
  },
  {
   "cell_type": "raw",
   "metadata": {
    "ExecuteTime": {
     "end_time": "2019-11-15T19:03:13.557236Z",
     "start_time": "2019-11-15T19:03:13.549629Z"
    }
   },
   "source": [
    "pre_processed_dataset_val_3 = from_polar(torch.from_numpy(pre_processed_dataset_val[0:1,:,:,:]).cuda()).detach().cpu().numpy()[0]\n",
    "pre_processed_dataset_val_3.shape"
   ]
  },
  {
   "cell_type": "raw",
   "metadata": {
    "ExecuteTime": {
     "end_time": "2019-11-15T19:03:13.570371Z",
     "start_time": "2019-11-15T19:03:13.560050Z"
    }
   },
   "source": [
    "x_arr = pre_processed_dataset_val_3[0,:,:][:29].flatten()\n",
    "y_arr = pre_processed_dataset_val_3[1,:,:][:29].flatten()\n",
    "z_arr = pre_processed_dataset_val_3[2,:,:][:29].flatten()"
   ]
  },
  {
   "cell_type": "raw",
   "metadata": {
    "ExecuteTime": {
     "end_time": "2019-11-15T19:03:13.653565Z",
     "start_time": "2019-11-15T19:03:13.573039Z"
    }
   },
   "source": [
    "this_arr = np.array([[x,y,z] for x,y,z in zip(x_arr, y_arr, z_arr)])\n",
    "this_arr.shape"
   ]
  },
  {
   "cell_type": "raw",
   "metadata": {
    "ExecuteTime": {
     "end_time": "2019-11-15T19:03:13.688307Z",
     "start_time": "2019-11-15T19:03:13.657135Z"
    }
   },
   "source": [
    "this_pcd = o3d.PointCloud()\n",
    "this_pcd.points = o3d.utility.Vector3dVector(this_arr)\n",
    "this_pcd"
   ]
  },
  {
   "cell_type": "raw",
   "metadata": {
    "ExecuteTime": {
     "end_time": "2019-11-15T19:03:14.006160Z",
     "start_time": "2019-11-15T19:03:13.690822Z"
    }
   },
   "source": [
    "draw_pcd(this_pcd, where='opn_nb')"
   ]
  },
  {
   "cell_type": "code",
   "execution_count": null,
   "metadata": {},
   "outputs": [],
   "source": []
  },
  {
   "cell_type": "code",
   "execution_count": null,
   "metadata": {},
   "outputs": [],
   "source": []
  },
  {
   "cell_type": "code",
   "execution_count": null,
   "metadata": {},
   "outputs": [],
   "source": []
  },
  {
   "cell_type": "code",
   "execution_count": null,
   "metadata": {},
   "outputs": [],
   "source": []
  },
  {
   "cell_type": "code",
   "execution_count": null,
   "metadata": {},
   "outputs": [],
   "source": []
  },
  {
   "cell_type": "code",
   "execution_count": 11,
   "metadata": {
    "ExecuteTime": {
     "end_time": "2020-02-23T23:41:17.544902Z",
     "start_time": "2020-02-23T23:41:17.541128Z"
    }
   },
   "outputs": [],
   "source": [
    "process_input = from_polar if args.no_polar else lambda x : x"
   ]
  },
  {
   "cell_type": "code",
   "execution_count": 14,
   "metadata": {
    "ExecuteTime": {
     "end_time": "2020-02-23T23:42:18.053834Z",
     "start_time": "2020-02-23T23:42:18.050537Z"
    }
   },
   "outputs": [],
   "source": [
    "LIDAR_RANGE = 100"
   ]
  },
  {
   "cell_type": "code",
   "execution_count": 17,
   "metadata": {
    "ExecuteTime": {
     "end_time": "2020-02-23T23:46:33.220422Z",
     "start_time": "2020-02-23T23:44:56.305948Z"
    },
    "scrolled": true
   },
   "outputs": [
    {
     "name": "stdout",
     "output_type": "stream",
     "text": [
      "processing 1.npy\n"
     ]
    },
    {
     "name": "stderr",
     "output_type": "stream",
     "text": [
      "\n",
      "  0%|          | 0/2827 [00:00<?, ?it/s]\u001b[A\n",
      "  1%|          | 33/2827 [00:00<00:08, 326.03it/s]\u001b[A\n",
      "  2%|▏         | 67/2827 [00:00<00:08, 329.29it/s]\u001b[A\n",
      "  4%|▎         | 103/2827 [00:00<00:08, 336.78it/s]\u001b[A\n",
      "  4%|▍         | 126/2827 [00:00<00:09, 293.99it/s]\u001b[A\n",
      "  5%|▌         | 150/2827 [00:00<00:09, 272.13it/s]\u001b[A\n",
      "  6%|▋         | 177/2827 [00:00<00:09, 268.64it/s]\u001b[A\n",
      "  7%|▋         | 204/2827 [00:00<00:09, 265.92it/s]\u001b[A\n",
      "  8%|▊         | 237/2827 [00:00<00:09, 280.63it/s]\u001b[A\n",
      " 10%|▉         | 270/2827 [00:00<00:08, 292.67it/s]\u001b[A\n",
      " 11%|█         | 306/2827 [00:01<00:08, 308.09it/s]\u001b[A\n",
      " 12%|█▏        | 343/2827 [00:01<00:07, 322.90it/s]\u001b[A\n",
      " 13%|█▎        | 378/2827 [00:01<00:07, 328.54it/s]\u001b[A\n",
      " 15%|█▍        | 416/2827 [00:01<00:07, 342.25it/s]\u001b[A\n",
      " 16%|█▌        | 457/2827 [00:01<00:06, 358.64it/s]\u001b[A\n",
      " 18%|█▊        | 497/2827 [00:01<00:06, 369.61it/s]\u001b[A\n",
      " 19%|█▉        | 537/2827 [00:01<00:06, 376.74it/s]\u001b[A\n",
      " 20%|██        | 577/2827 [00:01<00:05, 382.20it/s]\u001b[A\n",
      " 22%|██▏       | 616/2827 [00:01<00:05, 382.84it/s]\u001b[A\n",
      " 23%|██▎       | 655/2827 [00:01<00:05, 381.95it/s]\u001b[A\n",
      " 25%|██▍       | 695/2827 [00:02<00:05, 386.09it/s]\u001b[A\n",
      " 26%|██▌       | 736/2827 [00:02<00:05, 392.39it/s]\u001b[A\n",
      " 27%|██▋       | 777/2827 [00:02<00:05, 396.63it/s]\u001b[A\n",
      " 29%|██▉       | 817/2827 [00:02<00:05, 397.22it/s]\u001b[A\n",
      " 30%|███       | 857/2827 [00:02<00:04, 394.04it/s]\u001b[A\n",
      " 32%|███▏      | 897/2827 [00:02<00:04, 393.98it/s]\u001b[A\n",
      " 33%|███▎      | 937/2827 [00:02<00:04, 394.27it/s]\u001b[A\n",
      " 35%|███▍      | 977/2827 [00:02<00:04, 383.52it/s]\u001b[A\n",
      " 36%|███▌      | 1016/2827 [00:02<00:04, 381.98it/s]\u001b[A\n",
      " 37%|███▋      | 1057/2827 [00:02<00:04, 387.92it/s]\u001b[A\n",
      " 39%|███▉      | 1096/2827 [00:03<00:04, 379.37it/s]\u001b[A\n",
      " 40%|████      | 1135/2827 [00:03<00:04, 368.73it/s]\u001b[A\n",
      " 41%|████▏     | 1172/2827 [00:03<00:04, 357.74it/s]\u001b[A\n",
      " 43%|████▎     | 1208/2827 [00:03<00:04, 354.19it/s]\u001b[A\n",
      " 44%|████▍     | 1244/2827 [00:03<00:04, 354.92it/s]\u001b[A\n",
      " 45%|████▌     | 1281/2827 [00:03<00:04, 357.23it/s]\u001b[A\n",
      " 47%|████▋     | 1317/2827 [00:03<00:04, 354.66it/s]\u001b[A\n",
      " 48%|████▊     | 1353/2827 [00:03<00:04, 355.57it/s]\u001b[A\n",
      " 49%|████▉     | 1389/2827 [00:03<00:04, 327.44it/s]\u001b[A\n",
      " 50%|█████     | 1423/2827 [00:04<00:04, 308.40it/s]\u001b[A\n",
      " 52%|█████▏    | 1463/2827 [00:04<00:04, 329.71it/s]\u001b[A\n",
      " 53%|█████▎    | 1500/2827 [00:04<00:03, 338.46it/s]\u001b[A\n",
      " 54%|█████▍    | 1535/2827 [00:04<00:03, 336.06it/s]\u001b[A\n",
      " 56%|█████▌    | 1571/2827 [00:04<00:03, 341.36it/s]\u001b[A\n",
      " 57%|█████▋    | 1606/2827 [00:04<00:03, 338.93it/s]\u001b[A\n",
      " 58%|█████▊    | 1641/2827 [00:04<00:03, 337.03it/s]\u001b[A\n",
      " 59%|█████▉    | 1675/2827 [00:04<00:03, 335.28it/s]\u001b[A\n",
      " 60%|██████    | 1709/2827 [00:04<00:03, 333.75it/s]\u001b[A\n",
      " 62%|██████▏   | 1743/2827 [00:04<00:03, 334.04it/s]\u001b[A\n",
      " 63%|██████▎   | 1777/2827 [00:05<00:03, 333.62it/s]\u001b[A\n",
      " 64%|██████▍   | 1811/2827 [00:05<00:03, 333.24it/s]\u001b[A\n",
      " 65%|██████▌   | 1845/2827 [00:05<00:02, 332.12it/s]\u001b[A\n",
      " 66%|██████▋   | 1879/2827 [00:05<00:02, 332.14it/s]\u001b[A\n",
      " 68%|██████▊   | 1913/2827 [00:05<00:02, 328.17it/s]\u001b[A\n",
      " 69%|██████▉   | 1946/2827 [00:05<00:02, 328.63it/s]\u001b[A\n",
      " 70%|███████   | 1980/2827 [00:05<00:02, 329.72it/s]\u001b[A\n",
      " 71%|███████   | 2013/2827 [00:05<00:02, 327.61it/s]\u001b[A\n",
      " 72%|███████▏  | 2047/2827 [00:05<00:02, 329.10it/s]\u001b[A\n",
      " 74%|███████▎  | 2081/2827 [00:06<00:02, 330.48it/s]\u001b[A\n",
      " 75%|███████▍  | 2115/2827 [00:06<00:02, 331.03it/s]\u001b[A\n",
      " 76%|███████▌  | 2149/2827 [00:06<00:02, 332.08it/s]\u001b[A\n",
      " 77%|███████▋  | 2183/2827 [00:06<00:01, 330.38it/s]\u001b[A\n",
      " 78%|███████▊  | 2217/2827 [00:06<00:01, 327.87it/s]\u001b[A\n",
      " 80%|███████▉  | 2254/2827 [00:06<00:01, 338.33it/s]\u001b[A\n",
      " 81%|████████  | 2292/2827 [00:06<00:01, 349.19it/s]\u001b[A\n",
      " 82%|████████▏ | 2328/2827 [00:06<00:01, 349.22it/s]\u001b[A\n",
      " 84%|████████▎ | 2364/2827 [00:06<00:01, 340.25it/s]\u001b[A\n",
      " 85%|████████▍ | 2399/2827 [00:06<00:01, 337.67it/s]\u001b[A\n",
      " 86%|████████▌ | 2433/2827 [00:07<00:01, 336.45it/s]\u001b[A\n",
      " 87%|████████▋ | 2468/2827 [00:07<00:01, 339.46it/s]\u001b[A\n",
      " 89%|████████▊ | 2505/2827 [00:07<00:00, 347.37it/s]\u001b[A\n",
      " 90%|████████▉ | 2540/2827 [00:07<00:00, 323.79it/s]\u001b[A\n",
      " 91%|█████████ | 2573/2827 [00:07<00:00, 325.53it/s]\u001b[A\n",
      " 92%|█████████▏| 2606/2827 [00:07<00:00, 320.81it/s]\u001b[A\n",
      " 93%|█████████▎| 2639/2827 [00:07<00:00, 321.42it/s]\u001b[A\n",
      " 95%|█████████▍| 2672/2827 [00:07<00:00, 323.86it/s]\u001b[A\n",
      " 96%|█████████▌| 2706/2827 [00:07<00:00, 328.25it/s]\u001b[A\n",
      " 97%|█████████▋| 2739/2827 [00:07<00:00, 326.65it/s]\u001b[A\n",
      " 98%|█████████▊| 2772/2827 [00:08<00:00, 317.17it/s]\u001b[A\n",
      "100%|██████████| 2827/2827 [00:08<00:00, 341.42it/s]\u001b[A\n"
     ]
    },
    {
     "name": "stdout",
     "output_type": "stream",
     "text": [
      "done\n"
     ]
    },
    {
     "name": "stderr",
     "output_type": "stream",
     "text": [
      "/home/saby/anaconda3/envs/ati/lib/python3.6/site-packages/ipykernel_launcher.py:13: TqdmDeprecationWarning: This function will be removed in tqdm==5.0.0\n",
      "Please use `tqdm.notebook.tqdm` instead of `tqdm.tqdm_notebook`\n",
      "  del sys.path[0]\n"
     ]
    },
    {
     "data": {
      "application/vnd.jupyter.widget-view+json": {
       "model_id": "3bde7ea112994d45ab75a041dc49dd46",
       "version_major": 2,
       "version_minor": 0
      },
      "text/plain": [
       "HBox(children=(FloatProgress(value=0.0, max=89.0), HTML(value='')))"
      ]
     },
     "metadata": {},
     "output_type": "display_data"
    },
    {
     "name": "stdout",
     "output_type": "stream",
     "text": [
      "\n"
     ]
    }
   ],
   "source": [
    "ply_idx = 1\n",
    "for test_file in test_files:\n",
    "    # Load corresponding dataset batch\n",
    "    print(\"processing {}\".format(test_file))\n",
    "    dataset_val = np.load(os.path.join(test_folder_path, test_file))\n",
    "    dataset_val = preprocess(dataset_val, LIDAR_RANGE)\n",
    "    dataset_val = dataset_val.astype('float32')\n",
    "    val_loader  = torch.utils.data.DataLoader(dataset_val, batch_size=args.batch_size,\n",
    "                        shuffle=False, num_workers=12, drop_last=False)\n",
    "\n",
    "    print(\"done\")\n",
    "    recons=[]\n",
    "    for i, img_data in tqdm_notebook(enumerate(val_loader), total=len(val_loader)):\n",
    "        dynamic_img = img_data.cuda()\n",
    "\n",
    "        recon, xQ = model(process_input(dynamic_img[:,:2,:,:])) # model output\n",
    "        # extract mask np array\n",
    "        recons=recon\n",
    "        recons_temp=np.array(recons.detach().cpu())\n",
    "        \n",
    "        for frame_num in range(recons_temp.shape[0]):\n",
    "            frame = from_polar(recons[frame_num:frame_num+1,:,:,:]).detach().cpu().numpy()[0]\n",
    "            frame_actual = np.array([frame_image for frame_image in frame])\n",
    "            frame_flat = frame_actual.reshape((3,-1))\n",
    "            frame_crop = frame_flat#[:,(frame_flat[2]  > 0.005)]\n",
    "            some_pcd = o3d.geometry.PointCloud()\n",
    "            some_arr = frame_crop.T * LIDAR_RANGE\n",
    "            some_pcd.points = o3d.utility.Vector3dVector(some_arr)\n",
    "            \n",
    "            frame_mask = recon.detach().cpu().numpy()[frame_num]\n",
    "            some_clr_arr = np.concatenate((frame_mask[0].round().reshape(1,-1),\n",
    "                                         np.zeros((1, frame_mask.shape[1]*frame_mask.shape[2])),\n",
    "                                         np.zeros((1, frame_mask.shape[1]*frame_mask.shape[2]))), axis=0).T\n",
    "            some_pcd.colors = o3d.utility.Vector3dVector(some_clr_arr)\n",
    "            \n",
    "            pcd_fname = str(ply_idx) + \".ply\"\n",
    "            single_pcd_path = os.path.join(out_folder_path, pcd_fname)\n",
    "            o3d.io.write_point_cloud(single_pcd_path, some_pcd)\n",
    "            ply_idx += 1\n",
    "        gc.collect()"
   ]
  },
  {
   "cell_type": "raw",
   "metadata": {
    "ExecuteTime": {
     "end_time": "2020-02-07T12:28:59.068779Z",
     "start_time": "2020-02-07T12:28:58.015460Z"
    }
   },
   "source": [
    "recon, xQ = model(process_input(dynamic_img[:,:2,:,:])) # model output"
   ]
  },
  {
   "cell_type": "raw",
   "metadata": {
    "ExecuteTime": {
     "end_time": "2020-02-07T12:34:13.492339Z",
     "start_time": "2020-02-07T12:34:13.480692Z"
    }
   },
   "source": [
    "frame_mask = recon.detach().cpu().numpy()[0]\n",
    "frame_mask.shape"
   ]
  },
  {
   "cell_type": "raw",
   "metadata": {
    "ExecuteTime": {
     "end_time": "2020-02-07T12:41:27.214768Z",
     "start_time": "2020-02-07T12:41:27.208415Z"
    }
   },
   "source": [
    "dynamic_img.shape"
   ]
  },
  {
   "cell_type": "code",
   "execution_count": null,
   "metadata": {},
   "outputs": [],
   "source": []
  },
  {
   "cell_type": "code",
   "execution_count": null,
   "metadata": {},
   "outputs": [],
   "source": []
  },
  {
   "cell_type": "code",
   "execution_count": 18,
   "metadata": {
    "ExecuteTime": {
     "end_time": "2020-02-23T23:46:40.743940Z",
     "start_time": "2020-02-23T23:46:40.736474Z"
    }
   },
   "outputs": [
    {
     "data": {
      "text/plain": [
       "'/home/saby/Projects/ati/data/data/datasets/Carla/16beam-Data/small_map/vanshil_ka_run/dynseg_model_out_pcd_24'"
      ]
     },
     "execution_count": 18,
     "metadata": {},
     "output_type": "execute_result"
    }
   ],
   "source": [
    "out_folder_path"
   ]
  },
  {
   "cell_type": "code",
   "execution_count": 21,
   "metadata": {
    "ExecuteTime": {
     "end_time": "2020-02-23T23:46:52.744480Z",
     "start_time": "2020-02-23T23:46:52.732228Z"
    }
   },
   "outputs": [
    {
     "data": {
      "text/plain": [
       "geometry::PointCloud with 16384 points."
      ]
     },
     "execution_count": 21,
     "metadata": {},
     "output_type": "execute_result"
    }
   ],
   "source": [
    "this_pcd = o3d.io.read_point_cloud(os.path.join(out_folder_path, \"500.ply\"))\n",
    "this_pcd"
   ]
  },
  {
   "cell_type": "code",
   "execution_count": 22,
   "metadata": {
    "ExecuteTime": {
     "end_time": "2020-02-23T23:46:55.371586Z",
     "start_time": "2020-02-23T23:46:54.959536Z"
    }
   },
   "outputs": [
    {
     "data": {
      "application/vnd.jupyter.widget-view+json": {
       "model_id": "f65b794290034e0ea64792fe7136fcd8",
       "version_major": 2,
       "version_minor": 0
      },
      "text/plain": [
       "JVisualizer with 1 geometries"
      ]
     },
     "metadata": {},
     "output_type": "display_data"
    }
   ],
   "source": [
    "draw_pcd(this_pcd, where='opn_nb')"
   ]
  },
  {
   "cell_type": "code",
   "execution_count": null,
   "metadata": {},
   "outputs": [],
   "source": []
  },
  {
   "cell_type": "code",
   "execution_count": null,
   "metadata": {},
   "outputs": [],
   "source": []
  },
  {
   "cell_type": "code",
   "execution_count": null,
   "metadata": {},
   "outputs": [],
   "source": []
  },
  {
   "cell_type": "code",
   "execution_count": null,
   "metadata": {},
   "outputs": [],
   "source": []
  },
  {
   "cell_type": "code",
   "execution_count": null,
   "metadata": {},
   "outputs": [],
   "source": []
  },
  {
   "cell_type": "code",
   "execution_count": null,
   "metadata": {},
   "outputs": [],
   "source": []
  },
  {
   "cell_type": "code",
   "execution_count": null,
   "metadata": {},
   "outputs": [],
   "source": []
  },
  {
   "cell_type": "code",
   "execution_count": null,
   "metadata": {
    "ExecuteTime": {
     "end_time": "2020-02-07T12:36:36.293946Z",
     "start_time": "2020-02-07T12:36:36.286845Z"
    }
   },
   "outputs": [],
   "source": []
  },
  {
   "cell_type": "code",
   "execution_count": null,
   "metadata": {},
   "outputs": [],
   "source": []
  }
 ],
 "metadata": {
  "kernelspec": {
   "display_name": "Python 3",
   "language": "python",
   "name": "python3"
  },
  "language_info": {
   "codemirror_mode": {
    "name": "ipython",
    "version": 3
   },
   "file_extension": ".py",
   "mimetype": "text/x-python",
   "name": "python",
   "nbconvert_exporter": "python",
   "pygments_lexer": "ipython3",
   "version": "3.6.10"
  },
  "toc": {
   "base_numbering": 1,
   "nav_menu": {},
   "number_sections": true,
   "sideBar": true,
   "skip_h1_title": false,
   "title_cell": "Table of Contents",
   "title_sidebar": "Contents",
   "toc_cell": false,
   "toc_position": {},
   "toc_section_display": true,
   "toc_window_display": false
  }
 },
 "nbformat": 4,
 "nbformat_minor": 2
}
