{
 "cells": [
  {
   "cell_type": "markdown",
   "metadata": {},
   "source": [
    "Imports"
   ]
  },
  {
   "cell_type": "code",
   "execution_count": 1,
   "metadata": {
    "ExecuteTime": {
     "end_time": "2020-08-30T20:16:08.784952Z",
     "start_time": "2020-08-30T20:16:06.824940Z"
    }
   },
   "outputs": [],
   "source": [
    "import pdb\n",
    "import numpy as np\n",
    "import os, shutil\n",
    "from tqdm import tqdm_notebook\n",
    "import pandas as pd\n",
    "import open3d as o3d\n",
    "import gc\n",
    "import zipfile\n",
    "from multiprocessing import Pool#, cpu_count\n",
    "# from IPython.core.display import display, HTML\n",
    "# display(HTML(\"<style>.container { width:80% !important; }</style>\"))"
   ]
  },
  {
   "cell_type": "markdown",
   "metadata": {},
   "source": [
    "Set Paths and constants"
   ]
  },
  {
   "cell_type": "code",
   "execution_count": 2,
   "metadata": {
    "ExecuteTime": {
     "end_time": "2020-08-30T20:16:08.790507Z",
     "start_time": "2020-08-30T20:16:08.786800Z"
    }
   },
   "outputs": [],
   "source": [
    "# pcd_folder='/home/sabyasachi/Projects/ati/data/data/datasets/Carla/lidarParam1/pair_corrupt/dynamic/'\n",
    "# npy_folder='/home/sabyasachi/Projects/ati/data/data/datasets/Carla/lidarParam1/pair_corrupt/dynamic_NPY/'\n",
    "\n",
    "BASE_PATH = '/home/saby/Projects/ati/data/data/datasets/Carla/64beam-Data/testing'\n",
    "\n",
    "# STATIC_FOLDER = \"static\"\n",
    "STATIC_FOLDER = \"dynamic\"\n",
    "\n",
    "# Do for both\n",
    "# PCD_FOLDER = \"_corr_dynamic\"\n",
    "PCD_FOLDER = \"_corr_static\"\n",
    "IS_DYNAMIC = False\n",
    "\n",
    "DST_FOLDER = \"testing_data\"\n",
    "DATA_FOLDER = PCD_FOLDER\n",
    "\n",
    "EXTRACTED_ARRAY_FNAME = \"arr_0.npy\"\n",
    "\n",
    "# BATCH_SIZE = 80000\n",
    "# BATCH_SIZE = 2048\n",
    "RANGE_IMAGE_HEIGHT = 64\n",
    "RANGE_IMAGE_WIDTH = 1024"
   ]
  },
  {
   "cell_type": "markdown",
   "metadata": {},
   "source": [
    "Preprocessing functions from the paper source code"
   ]
  },
  {
   "cell_type": "code",
   "execution_count": 3,
   "metadata": {
    "ExecuteTime": {
     "end_time": "2020-08-30T20:16:08.818687Z",
     "start_time": "2020-08-30T20:16:08.792208Z"
    },
    "code_folding": [
     0,
     13,
     20,
     65,
     90,
     99,
     128
    ]
   },
   "outputs": [],
   "source": [
    "def get_quadrant(point):\n",
    "    if point[0] >= 0. and point[1] >= 0. :\n",
    "        return 0\n",
    "    elif point[0] <= 0. and point[1] >= 0. : \n",
    "        return 1\n",
    "    elif point[0] <= 0. and point[1] <= 0. : \n",
    "        return 2\n",
    "    elif point[0] >= 0. and point[1] <= 0. : \n",
    "        return 3\n",
    "    else :\n",
    "        raise Exception('invalid input %s', point) \n",
    "\n",
    "\n",
    "def passed_origin(x_t, x_t1):\n",
    "    if get_quadrant(x_t1) == 3 and get_quadrant(x_t) == 0: \n",
    "        return True\n",
    "    else : \n",
    "        return False\n",
    "\n",
    "\n",
    "def fit_quadrant(points, quadrant, desired_amt):\n",
    "    \n",
    "    \n",
    "    points = np.asarray(points)\n",
    "    slots = []\n",
    "    slot_size = np.pi / (2 * desired_amt)\n",
    "    for i in range(int(desired_amt)) : slots.append([])\n",
    "    if quadrant == 0: \n",
    "        points = points[::-1]\n",
    "    elif quadrant == 1 : \n",
    "        points[:, 0] = - points[:, 0]\n",
    "    elif quadrant == 2 :\n",
    "        points = points[::-1] \n",
    "        points[:, 0] = - points[:, 0]\n",
    "        points[:, 1] = - points[:, 1]\n",
    "    elif quadrant == 3 : \n",
    "        points[:, 1] = - points[:, 1]\n",
    "\n",
    "    # import pdb; pdb.set_trace()\n",
    "    for point in points :\n",
    "        angle = np.arctan(point[1] / (point[0]+0.000001))\n",
    "        index = min(int(angle / slot_size), desired_amt - 1)\n",
    "        slots[int(index)].append(point)\n",
    "\n",
    "    for i in range(len(slots)):\n",
    "        if len(slots[i]) == 0 : \n",
    "            slots[i] = np.array([0., 0., 0., 0.])\n",
    "        else :\n",
    "            full_slot = np.asarray(slots[i])\n",
    "            slots[i] = full_slot.mean(axis=0)\n",
    "\n",
    "    points = np.asarray(slots)\n",
    "    if quadrant == 0: \n",
    "        points = points[::-1]\n",
    "    elif quadrant == 1 : \n",
    "        points[:, 0] = - points[:, 0]\n",
    "    elif quadrant == 2 : \n",
    "        points = points[::-1]\n",
    "        points[:, 0] = - points[:, 0]\n",
    "        points[:, 1] = - points[:, 1]\n",
    "    elif quadrant == 3 : \n",
    "        points[:, 1] = - points[:, 1]\n",
    "\n",
    "    return points\n",
    "\n",
    "def parse_velo(velo):\n",
    "    # points closer to the origin (0,0,0) are at the end of the point cloud.\n",
    "    # invert the point cloud such that we begin near the origin. \n",
    "    \n",
    "    # returns: a H x 4 x ? array, split into quadrants\n",
    "    velo = velo[::-1]\n",
    "    lines = []\n",
    "    current_point = velo[0]\n",
    "    current_quadrant = get_quadrant(current_point)\n",
    "    current_line = [[], [], [], []]\n",
    "    quadrant_switches = 0\n",
    "    for point in velo :\n",
    "        point_quadrant = get_quadrant(point)\n",
    "        \n",
    "        if passed_origin(current_point, point):\n",
    "            lines.append(current_line)\n",
    "            current_line = [[], [], [], []]\n",
    "\n",
    "        current_line[point_quadrant].append(point)\n",
    "        current_quadrant = point_quadrant\n",
    "        current_point = point\n",
    "\n",
    "    return lines\n",
    "\n",
    "\n",
    "def setmatch(lines,lenLines):\n",
    "    arr=[[np.array([0,0,0,0]),np.array([0,0,0,0])]]\n",
    "    if len(lines) > lenLines:\n",
    "        return lines[:lenLines]\n",
    "    else:\n",
    "        for i in range(abs(len(lines)-lenLines)):\n",
    "            lines.append(arr)\n",
    "    return lines\n",
    "\n",
    "def process_velo(velo, points_per_layer, stop=False):\n",
    "    \n",
    "    lenLines=RANGE_IMAGE_HEIGHT\n",
    "    lines = parse_velo(velo)\n",
    "    inverse = quad_to_pc_inv(lines)\n",
    "#     lines = lines[2:-1]\n",
    "#     print(lines[])\n",
    "#     print((lines[0]))\n",
    "#     raise SystemError\n",
    "    if(len(lines)!=lenLines):\n",
    "        lines=setmatch(lines,lenLines)\n",
    "#     print(len(lines), flush=True)\n",
    "    if len(lines) != RANGE_IMAGE_HEIGHT : raise Exception('invalid nb un of lines')\n",
    "    out_tensor = np.zeros((RANGE_IMAGE_HEIGHT, points_per_layer, 4))\n",
    "    if stop:\n",
    "        import pdb; pdb.set_trace()\n",
    "        x = 1\n",
    "    for j in range(len(lines)):\n",
    "        line = lines[j]\n",
    "        out_line = np.zeros((points_per_layer, 4))\n",
    "        for i in range(len(line)):\n",
    "            if(len(line[i])==0):\n",
    "                line[i]=[np.array([0.0,0.0,0.0,0.0])]\n",
    "            gridded = fit_quadrant(line[i], i, points_per_layer / 4)\n",
    "            out_tensor[j][i*int(points_per_layer/4):(i+1)*int(points_per_layer/4), :] = gridded[::-1]\n",
    "\n",
    "    return out_tensor, inverse\n",
    "\n",
    "\n",
    "def quad_to_pc_inv(lines, th=3.):\n",
    "    # lines is a 63 x 4 array, where each slot has an array of 4d/3d points\n",
    "    # goal : get an array of points that fills empty spaces\n",
    "    points = []\n",
    "    for i in range(len(lines)) :\n",
    "        line = lines[i] \n",
    "        distance = []\n",
    "        for quad in line : \n",
    "            for point in quad : \n",
    "                x, y, z = point[:3]\n",
    "                distance.append(x**2 + y**2)\n",
    "        distance = np.array(distance)\n",
    "        std = distance.std()\n",
    "        sorted_indices = np.argsort(distance)\n",
    "        median_index = sorted_indices[int(sorted_indices.shape[0]*0.95)]\n",
    "        median = distance[median_index]\n",
    "\n",
    "        for quad in line : \n",
    "            for point in quad : \n",
    "                x, y, z = point[:3]\n",
    "                dist = x ** 2 + y ** 2 \n",
    "                if dist < median and (median/dist-1.) > th:#*std : \n",
    "                    # blocked point --> scale to get real pt\n",
    "                    scale = np.sqrt(median / dist)\n",
    "                    scaled = scale * point\n",
    "                    points.append(scaled)\n",
    "\n",
    "\n",
    "    return np.array(points)\n"
   ]
  },
  {
   "cell_type": "code",
   "execution_count": 4,
   "metadata": {
    "ExecuteTime": {
     "end_time": "2020-08-30T20:16:08.845030Z",
     "start_time": "2020-08-30T20:16:08.820824Z"
    },
    "code_folding": []
   },
   "outputs": [],
   "source": [
    "def getint(name):\n",
    "    return int(name.split('.')[0])"
   ]
  },
  {
   "cell_type": "code",
   "execution_count": 5,
   "metadata": {
    "ExecuteTime": {
     "end_time": "2020-08-30T20:16:08.857717Z",
     "start_time": "2020-08-30T20:16:08.847831Z"
    }
   },
   "outputs": [],
   "source": [
    "def parallel_pcd2begin_npy(pcd_fname):\n",
    "    pcd_file_path = os.path.join(PCD_PATH, pcd_fname)\n",
    "    pcd = o3d.io.read_point_cloud(pcd_file_path)\n",
    "    pcd_arr = np.asarray(pcd.points)\n",
    "    clr_arr = np.asarray(pcd.colors)[:,0].reshape(-1,1)\n",
    "    if IS_DYNAMIC:\n",
    "        pcd_arr = np.append(pcd_arr, clr_arr, axis=1)\n",
    "    else:\n",
    "        pcd_arr = np.append(pcd_arr, np.zeros((pcd_arr.shape[0],1)), axis=1)\n",
    "    \n",
    "    npy_fname = pcd_fname[:-4] + \".npy\"\n",
    "    npy_file_path = os.path.join(INITIAL_NPY_PATH, npy_fname)\n",
    "    pcd_arr.dump(open(npy_file_path, 'wb'))\n",
    "\n",
    "def parallel_npy2processed(npy_file):\n",
    "    gc.collect()\n",
    "    npy_file_path = os.path.join(INITIAL_NPY_PATH, npy_file)\n",
    "    raw_lidar = np.load(npy_file_path, allow_pickle=True)\n",
    "    processed_lidar, _ = process_velo(raw_lidar, RANGE_IMAGE_WIDTH)\n",
    "    return processed_lidar"
   ]
  },
  {
   "cell_type": "code",
   "execution_count": null,
   "metadata": {},
   "outputs": [],
   "source": []
  },
  {
   "cell_type": "markdown",
   "metadata": {},
   "source": [
    "PCD to NPY files"
   ]
  },
  {
   "cell_type": "code",
   "execution_count": 6,
   "metadata": {
    "ExecuteTime": {
     "end_time": "2020-08-30T20:16:08.869876Z",
     "start_time": "2020-08-30T20:16:08.860004Z"
    }
   },
   "outputs": [
    {
     "data": {
      "text/plain": [
       "['19', '21', '17', '20', '18', '22', '23', '24']"
      ]
     },
     "execution_count": 6,
     "metadata": {},
     "output_type": "execute_result"
    }
   ],
   "source": [
    "os.listdir(os.path.join(BASE_PATH, STATIC_FOLDER))"
   ]
  },
  {
   "cell_type": "code",
   "execution_count": 7,
   "metadata": {
    "ExecuteTime": {
     "end_time": "2020-08-31T00:14:22.070721Z",
     "start_time": "2020-08-30T20:16:08.871511Z"
    },
    "scrolled": false
   },
   "outputs": [
    {
     "name": "stdout",
     "output_type": "stream",
     "text": [
      "19\n",
      "Sub folder: 19\n"
     ]
    },
    {
     "name": "stderr",
     "output_type": "stream",
     "text": [
      "/home/saby/anaconda3/envs/ati/lib/python3.6/site-packages/ipykernel_launcher.py:43: TqdmDeprecationWarning: This function will be removed in tqdm==5.0.0\n",
      "Please use `tqdm.notebook.tqdm` instead of `tqdm.tqdm_notebook`\n"
     ]
    },
    {
     "data": {
      "application/vnd.jupyter.widget-view+json": {
       "model_id": "3011260d1c4548eca1651f92355ce1ce",
       "version_major": 2,
       "version_minor": 0
      },
      "text/plain": [
       "HBox(children=(FloatProgress(value=0.0, max=5527.0), HTML(value='')))"
      ]
     },
     "metadata": {},
     "output_type": "display_data"
    },
    {
     "name": "stdout",
     "output_type": "stream",
     "text": [
      "\n",
      "No of npzs: 1\n",
      "5527\n"
     ]
    },
    {
     "name": "stderr",
     "output_type": "stream",
     "text": [
      "/home/saby/anaconda3/envs/ati/lib/python3.6/site-packages/ipykernel_launcher.py:66: TqdmDeprecationWarning: This function will be removed in tqdm==5.0.0\n",
      "Please use `tqdm.notebook.tqdm` instead of `tqdm.tqdm_notebook`\n"
     ]
    },
    {
     "data": {
      "application/vnd.jupyter.widget-view+json": {
       "model_id": "dbe1b1dd832942a891aee29740a31215",
       "version_major": 2,
       "version_minor": 0
      },
      "text/plain": [
       "HBox(children=(FloatProgress(value=0.0, max=5527.0), HTML(value='')))"
      ]
     },
     "metadata": {},
     "output_type": "display_data"
    },
    {
     "name": "stdout",
     "output_type": "stream",
     "text": [
      "\n",
      "Extracting out_npys\n"
     ]
    },
    {
     "name": "stderr",
     "output_type": "stream",
     "text": [
      "/home/saby/anaconda3/envs/ati/lib/python3.6/site-packages/ipykernel_launcher.py:75: TqdmDeprecationWarning: This function will be removed in tqdm==5.0.0\n",
      "Please use `tqdm.notebook.tqdm` instead of `tqdm.tqdm_notebook`\n"
     ]
    },
    {
     "data": {
      "application/vnd.jupyter.widget-view+json": {
       "model_id": "9f92eda9b931465789973fc1223b4e13",
       "version_major": 2,
       "version_minor": 0
      },
      "text/plain": [
       "HBox(children=(FloatProgress(value=0.0, max=1.0), HTML(value='')))"
      ]
     },
     "metadata": {},
     "output_type": "display_data"
    },
    {
     "name": "stdout",
     "output_type": "stream",
     "text": [
      "\n",
      "21\n",
      "Sub folder: 21\n"
     ]
    },
    {
     "data": {
      "application/vnd.jupyter.widget-view+json": {
       "model_id": "4ec15eb304d041f6a7a3901f84439e0c",
       "version_major": 2,
       "version_minor": 0
      },
      "text/plain": [
       "HBox(children=(FloatProgress(value=0.0, max=3495.0), HTML(value='')))"
      ]
     },
     "metadata": {},
     "output_type": "display_data"
    },
    {
     "name": "stdout",
     "output_type": "stream",
     "text": [
      "\n",
      "No of npzs: 1\n",
      "3495\n"
     ]
    },
    {
     "data": {
      "application/vnd.jupyter.widget-view+json": {
       "model_id": "cb6337a881ee45ef9147d9f9b8affe12",
       "version_major": 2,
       "version_minor": 0
      },
      "text/plain": [
       "HBox(children=(FloatProgress(value=0.0, max=3495.0), HTML(value='')))"
      ]
     },
     "metadata": {},
     "output_type": "display_data"
    },
    {
     "name": "stdout",
     "output_type": "stream",
     "text": [
      "\n",
      "Extracting out_npys\n"
     ]
    },
    {
     "data": {
      "application/vnd.jupyter.widget-view+json": {
       "model_id": "853d81fc294f4485a677b3866c8df99a",
       "version_major": 2,
       "version_minor": 0
      },
      "text/plain": [
       "HBox(children=(FloatProgress(value=0.0, max=1.0), HTML(value='')))"
      ]
     },
     "metadata": {},
     "output_type": "display_data"
    },
    {
     "name": "stdout",
     "output_type": "stream",
     "text": [
      "\n",
      "17\n",
      "Sub folder: 17\n"
     ]
    },
    {
     "data": {
      "application/vnd.jupyter.widget-view+json": {
       "model_id": "0a487c80284245c89dc709028b2c7092",
       "version_major": 2,
       "version_minor": 0
      },
      "text/plain": [
       "HBox(children=(FloatProgress(value=0.0, max=2488.0), HTML(value='')))"
      ]
     },
     "metadata": {},
     "output_type": "display_data"
    },
    {
     "name": "stderr",
     "output_type": "stream",
     "text": [
      "IOPub message rate exceeded.\n",
      "The notebook server will temporarily stop sending output\n",
      "to the client in order to avoid crashing it.\n",
      "To change this limit, set the config variable\n",
      "`--NotebookApp.iopub_msg_rate_limit`.\n",
      "\n",
      "Current values:\n",
      "NotebookApp.iopub_msg_rate_limit=1000.0 (msgs/sec)\n",
      "NotebookApp.rate_limit_window=3.0 (secs)\n",
      "\n"
     ]
    },
    {
     "name": "stdout",
     "output_type": "stream",
     "text": [
      "\n",
      "No of npzs: 1\n",
      "3612\n"
     ]
    },
    {
     "data": {
      "application/vnd.jupyter.widget-view+json": {
       "model_id": "b1ffc5ce768b451eb5510df0fa831eb9",
       "version_major": 2,
       "version_minor": 0
      },
      "text/plain": [
       "HBox(children=(FloatProgress(value=0.0, max=3612.0), HTML(value='')))"
      ]
     },
     "metadata": {},
     "output_type": "display_data"
    },
    {
     "name": "stderr",
     "output_type": "stream",
     "text": [
      "IOPub message rate exceeded.\n",
      "The notebook server will temporarily stop sending output\n",
      "to the client in order to avoid crashing it.\n",
      "To change this limit, set the config variable\n",
      "`--NotebookApp.iopub_msg_rate_limit`.\n",
      "\n",
      "Current values:\n",
      "NotebookApp.iopub_msg_rate_limit=1000.0 (msgs/sec)\n",
      "NotebookApp.rate_limit_window=3.0 (secs)\n",
      "\n"
     ]
    },
    {
     "name": "stdout",
     "output_type": "stream",
     "text": [
      "\n",
      "No of npzs: 1\n",
      "5262\n"
     ]
    },
    {
     "data": {
      "application/vnd.jupyter.widget-view+json": {
       "model_id": "b4f191aac74346aa903fb8bedb05d4c0",
       "version_major": 2,
       "version_minor": 0
      },
      "text/plain": [
       "HBox(children=(FloatProgress(value=0.0, max=5262.0), HTML(value='')))"
      ]
     },
     "metadata": {},
     "output_type": "display_data"
    },
    {
     "name": "stderr",
     "output_type": "stream",
     "text": [
      "IOPub message rate exceeded.\n",
      "The notebook server will temporarily stop sending output\n",
      "to the client in order to avoid crashing it.\n",
      "To change this limit, set the config variable\n",
      "`--NotebookApp.iopub_msg_rate_limit`.\n",
      "\n",
      "Current values:\n",
      "NotebookApp.iopub_msg_rate_limit=1000.0 (msgs/sec)\n",
      "NotebookApp.rate_limit_window=3.0 (secs)\n",
      "\n",
      "IOPub message rate exceeded.\n",
      "The notebook server will temporarily stop sending output\n",
      "to the client in order to avoid crashing it.\n",
      "To change this limit, set the config variable\n",
      "`--NotebookApp.iopub_msg_rate_limit`.\n",
      "\n",
      "Current values:\n",
      "NotebookApp.iopub_msg_rate_limit=1000.0 (msgs/sec)\n",
      "NotebookApp.rate_limit_window=3.0 (secs)\n",
      "\n"
     ]
    },
    {
     "name": "stdout",
     "output_type": "stream",
     "text": [
      "\n",
      "No of npzs: 1\n",
      "6655\n"
     ]
    },
    {
     "data": {
      "application/vnd.jupyter.widget-view+json": {
       "model_id": "889fd0ba4a3e4ff5bdd3c32b6937b824",
       "version_major": 2,
       "version_minor": 0
      },
      "text/plain": [
       "HBox(children=(FloatProgress(value=0.0, max=6655.0), HTML(value='')))"
      ]
     },
     "metadata": {},
     "output_type": "display_data"
    },
    {
     "name": "stderr",
     "output_type": "stream",
     "text": [
      "IOPub message rate exceeded.\n",
      "The notebook server will temporarily stop sending output\n",
      "to the client in order to avoid crashing it.\n",
      "To change this limit, set the config variable\n",
      "`--NotebookApp.iopub_msg_rate_limit`.\n",
      "\n",
      "Current values:\n",
      "NotebookApp.iopub_msg_rate_limit=1000.0 (msgs/sec)\n",
      "NotebookApp.rate_limit_window=3.0 (secs)\n",
      "\n",
      "IOPub message rate exceeded.\n",
      "The notebook server will temporarily stop sending output\n",
      "to the client in order to avoid crashing it.\n",
      "To change this limit, set the config variable\n",
      "`--NotebookApp.iopub_msg_rate_limit`.\n",
      "\n",
      "Current values:\n",
      "NotebookApp.iopub_msg_rate_limit=1000.0 (msgs/sec)\n",
      "NotebookApp.rate_limit_window=3.0 (secs)\n",
      "\n"
     ]
    },
    {
     "name": "stdout",
     "output_type": "stream",
     "text": [
      "\n",
      "Extracting out_npys\n"
     ]
    },
    {
     "data": {
      "application/vnd.jupyter.widget-view+json": {
       "model_id": "4e24f69471c44b83854812472db80648",
       "version_major": 2,
       "version_minor": 0
      },
      "text/plain": [
       "HBox(children=(FloatProgress(value=0.0, max=1.0), HTML(value='')))"
      ]
     },
     "metadata": {},
     "output_type": "display_data"
    },
    {
     "name": "stdout",
     "output_type": "stream",
     "text": [
      "\n"
     ]
    }
   ],
   "source": [
    "for sub_folder in os.listdir(os.path.join(BASE_PATH, STATIC_FOLDER)):\n",
    "    print(sub_folder)\n",
    "#     if sub_folder == '5' or sub_folder == '7':\n",
    "#         pass\n",
    "#     else:\n",
    "#         continue\n",
    "    print(\"Sub folder: {}\".format(sub_folder))\n",
    "    PCD_PATH = os.path.join(BASE_PATH, STATIC_FOLDER, sub_folder, PCD_FOLDER)\n",
    "    if not os.path.exists(PCD_PATH):\n",
    "        print(\"Did not find : {}\".format(PCD_PATH))\n",
    "\n",
    "    INITIAL_NPY_FOLDER = PCD_FOLDER + \"_begin_npy\"\n",
    "    INITIAL_NPY_PATH = os.path.join(BASE_PATH, STATIC_FOLDER, sub_folder, INITIAL_NPY_FOLDER)\n",
    "    if not os.path.exists(INITIAL_NPY_PATH):\n",
    "        os.makedirs(INITIAL_NPY_PATH)\n",
    "    else:\n",
    "        shutil.rmtree(INITIAL_NPY_PATH)\n",
    "        os.makedirs(INITIAL_NPY_PATH)\n",
    "\n",
    "    NPZ_FOLDER = PCD_FOLDER + \"_npz\"\n",
    "    NPZ_PATH = os.path.join(BASE_PATH, STATIC_FOLDER, sub_folder, NPZ_FOLDER)\n",
    "    if not os.path.exists(NPZ_PATH):\n",
    "        os.makedirs(NPZ_PATH)\n",
    "    else:\n",
    "        shutil.rmtree(NPZ_PATH)\n",
    "        os.makedirs(NPZ_PATH)\n",
    "\n",
    "    OUT_NPY_FOLDER = PCD_FOLDER + \"_out_npy\"\n",
    "    OUT_NPY_PATH = os.path.join(BASE_PATH, STATIC_FOLDER, sub_folder, OUT_NPY_FOLDER)\n",
    "    if not os.path.exists(OUT_NPY_PATH):\n",
    "        os.makedirs(OUT_NPY_PATH)\n",
    "    else:\n",
    "        shutil.rmtree(OUT_NPY_PATH)\n",
    "        os.makedirs(OUT_NPY_PATH)\n",
    "\n",
    "\n",
    "\n",
    "    parallel_npy_args = sorted(os.listdir(PCD_PATH), key=getint)\n",
    "#     process_npy_pool = Pool(cpu_count()-1)\n",
    "    process_npy_pool = Pool(16)\n",
    "    __ = [each for each in tqdm_notebook(process_npy_pool.imap(parallel_pcd2begin_npy,\n",
    "                                                           parallel_npy_args),\n",
    "                                         total = len(parallel_npy_args))]\n",
    "    process_npy_pool.terminate()\n",
    "    gc.collect()\n",
    "\n",
    "\n",
    "    npy_folder_size = len(os.listdir(INITIAL_NPY_PATH))\n",
    "#     leftout_size = npy_folder_size % BATCH_SIZE\n",
    "#     n_batches = int(npy_folder_size / BATCH_SIZE)\n",
    "    file_list = sorted(os.listdir(INITIAL_NPY_PATH), key=getint)\n",
    "#     full_npy_file_list = np.split(np.array(file_list)[:-leftout_size], n_batches)\n",
    "#     # To consider last small batch\n",
    "#     full_npy_file_list += [np.array(file_list[-leftout_size:])]\n",
    "    full_npy_file_list = [np.array(file_list)]\n",
    "\n",
    "    print(\"No of npzs: {}\".format(len(full_npy_file_list)))\n",
    "\n",
    "    npz_file_idx = 0\n",
    "    for some_npy_file_list in full_npy_file_list:\n",
    "        print(len(some_npy_file_list))\n",
    "        parallel_processed_args = some_npy_file_list\n",
    "#         process_processed_pool = Pool(cpu_count()-1)\n",
    "        process_processed_pool = Pool(16)\n",
    "        one_run_npy_file = [each for each in tqdm_notebook(process_processed_pool.imap(parallel_npy2processed,\n",
    "                                                               parallel_processed_args), total=len(parallel_processed_args))]\n",
    "        process_processed_pool.terminate()\n",
    "        gc.collect()\n",
    "\n",
    "        npz_file_path = os.path.join(NPZ_PATH, str(npz_file_idx))\n",
    "        np.savez(npz_file_path, one_run_npy_file)\n",
    "        npz_file_idx += 1\n",
    "\n",
    "    print(\"Extracting out_npys\")\n",
    "    for npz_fname in tqdm_notebook(sorted(os.listdir(NPZ_PATH), key=getint)):\n",
    "        npz_path = os.path.join(NPZ_PATH, npz_fname)\n",
    "        with zipfile.ZipFile(npz_path, 'r') as zip_ref:\n",
    "            zip_ref.extractall(OUT_NPY_PATH)\n",
    "\n",
    "        out_npy_fname = npz_fname[:-4] + \".npy\"\n",
    "        src_fname = os.path.join(OUT_NPY_PATH, EXTRACTED_ARRAY_FNAME)\n",
    "        dst_fname = os.path.join(OUT_NPY_PATH, out_npy_fname)\n",
    "        os.rename(src_fname, dst_fname)\n",
    "        \n",
    "    shutil.rmtree(INITIAL_NPY_PATH)\n",
    "    shutil.rmtree(NPZ_PATH)"
   ]
  },
  {
   "cell_type": "raw",
   "metadata": {
    "ExecuteTime": {
     "end_time": "2019-12-20T12:36:41.910622Z",
     "start_time": "2019-12-20T12:36:41.901313Z"
    }
   },
   "source": [
    "full_npy_file_list"
   ]
  },
  {
   "cell_type": "code",
   "execution_count": null,
   "metadata": {},
   "outputs": [],
   "source": []
  },
  {
   "cell_type": "code",
   "execution_count": 8,
   "metadata": {
    "ExecuteTime": {
     "end_time": "2020-08-31T00:33:57.928657Z",
     "start_time": "2020-08-31T00:14:22.099106Z"
    }
   },
   "outputs": [
    {
     "name": "stderr",
     "output_type": "stream",
     "text": [
      "/home/saby/anaconda3/envs/ati/lib/python3.6/site-packages/ipykernel_launcher.py:8: TqdmDeprecationWarning: This function will be removed in tqdm==5.0.0\n",
      "Please use `tqdm.notebook.tqdm` instead of `tqdm.tqdm_notebook`\n",
      "  \n"
     ]
    },
    {
     "data": {
      "application/vnd.jupyter.widget-view+json": {
       "model_id": "a4f2437f53604337b3dadea49936977f",
       "version_major": 2,
       "version_minor": 0
      },
      "text/plain": [
       "HBox(children=(FloatProgress(value=0.0, max=8.0), HTML(value='')))"
      ]
     },
     "metadata": {},
     "output_type": "display_data"
    },
    {
     "name": "stdout",
     "output_type": "stream",
     "text": [
      "\n"
     ]
    }
   ],
   "source": [
    "DST_DATA_FOLDER_PATH = os.path.join(BASE_PATH, DST_FOLDER, DATA_FOLDER)\n",
    "if not os.path.exists(DST_DATA_FOLDER_PATH):\n",
    "    os.makedirs(DST_DATA_FOLDER_PATH)\n",
    "else:\n",
    "    shutil.rmtree(DST_DATA_FOLDER_PATH)\n",
    "    os.makedirs(DST_DATA_FOLDER_PATH)\n",
    "\n",
    "for sub_folder in tqdm_notebook(sorted(os.listdir(os.path.join(BASE_PATH, STATIC_FOLDER)), key=getint)):\n",
    "#     print(\"Sub folder: {}\".format(sub_folder))\n",
    "    OUT_NPY_FOLDER = PCD_FOLDER + \"_out_npy\"\n",
    "    \n",
    "    extracted_file = \"0.npy\"\n",
    "    extracted_file_path = os.path.join(BASE_PATH, STATIC_FOLDER, sub_folder, OUT_NPY_FOLDER, extracted_file)\n",
    "    if not os.path.exists(extracted_file_path):\n",
    "        print(\"Did not find : {}\".format(extracted_file_path))\n",
    "        \n",
    "    dst_file_name = sub_folder + \".npy\"\n",
    "    dst_file_path = os.path.join(DST_DATA_FOLDER_PATH, dst_file_name)\n",
    "    shutil.copy(extracted_file_path, dst_file_path)\n",
    "    \n",
    "    "
   ]
  },
  {
   "cell_type": "raw",
   "metadata": {
    "ExecuteTime": {
     "end_time": "2019-12-20T12:36:50.298051Z",
     "start_time": "2019-12-20T12:36:50.063113Z"
    }
   },
   "source": [
    "GT_FILE = \"groundTruth.csv\"\n",
    "GT_FOLDER = \"gt\"\n",
    "\n",
    "DST_GT_FOLDER_PATH = os.path.join(BASE_PATH, DST_FOLDER, GT_FOLDER)\n",
    "if not os.path.exists(DST_GT_FOLDER_PATH):\n",
    "    os.makedirs(DST_GT_FOLDER_PATH)\n",
    "else:\n",
    "    shutil.rmtree(DST_GT_FOLDER_PATH)\n",
    "    os.makedirs(DST_GT_FOLDER_PATH)\n",
    "    \n",
    "for sub_folder in tqdm_notebook(sorted(os.listdir(os.path.join(BASE_PATH, STATIC_FOLDER)), key=getint)):\n",
    "#     print(\"Sub folder: {}\".format(sub_folder))\n",
    "    \n",
    "    gt_file_path = os.path.join(BASE_PATH, STATIC_FOLDER, sub_folder, GT_FILE)\n",
    "    if not os.path.exists(gt_file_path):\n",
    "        print(\"Did not find : {}\".format(extracted_file_path))\n",
    "        \n",
    "    dst_file_name = sub_folder + \"_gt.csv\"\n",
    "    dst_file_path = os.path.join(DST_GT_FOLDER_PATH, dst_file_name)\n",
    "    shutil.copy(gt_file_path, dst_file_path)"
   ]
  },
  {
   "cell_type": "code",
   "execution_count": null,
   "metadata": {},
   "outputs": [],
   "source": []
  },
  {
   "cell_type": "code",
   "execution_count": null,
   "metadata": {},
   "outputs": [],
   "source": []
  },
  {
   "cell_type": "code",
   "execution_count": null,
   "metadata": {},
   "outputs": [],
   "source": []
  },
  {
   "cell_type": "code",
   "execution_count": null,
   "metadata": {},
   "outputs": [],
   "source": []
  }
 ],
 "metadata": {
  "kernelspec": {
   "display_name": "Python 3",
   "language": "python",
   "name": "python3"
  },
  "language_info": {
   "codemirror_mode": {
    "name": "ipython",
    "version": 3
   },
   "file_extension": ".py",
   "mimetype": "text/x-python",
   "name": "python",
   "nbconvert_exporter": "python",
   "pygments_lexer": "ipython3",
   "version": "3.6.10"
  },
  "toc": {
   "base_numbering": 1,
   "nav_menu": {},
   "number_sections": true,
   "sideBar": true,
   "skip_h1_title": false,
   "title_cell": "Table of Contents",
   "title_sidebar": "Contents",
   "toc_cell": false,
   "toc_position": {},
   "toc_section_display": true,
   "toc_window_display": false
  }
 },
 "nbformat": 4,
 "nbformat_minor": 2
}
