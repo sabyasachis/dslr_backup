{
 "cells": [
  {
   "cell_type": "code",
   "execution_count": 1,
   "metadata": {},
   "outputs": [],
   "source": [
    "import pandas as pd\n",
    "import numpy as np\n",
    "import gc\n",
    "import os, shutil\n",
    "import json\n",
    "import re\n",
    "import matplotlib.pyplot as plt\n",
    "from tqdm import tqdm_notebook\n",
    "from sklearn.neighbors import NearestNeighbors\n",
    "import open3d as o3d\n",
    "import copy\n",
    "import transforms3d"
   ]
  },
  {
   "cell_type": "code",
   "execution_count": 2,
   "metadata": {},
   "outputs": [],
   "source": [
    "%matplotlib notebook"
   ]
  },
  {
   "cell_type": "code",
   "execution_count": 3,
   "metadata": {},
   "outputs": [],
   "source": [
    "BASE_PATH = \"/home/sabyasachi/Projects/ati/data/data/datasets/Carla/lidarParam1/\"\n",
    "LIDAR_RANGE = 25\n",
    "USE_EXTENT = True\n",
    "\n",
    "\n",
    "# STATIC_FOLDER = \"static\"\n",
    "DYNAMIC_FOLDER = \"dynamic\"\n",
    "NONPLAYERS_FOLDER = \"_nonplayers\"\n",
    "PCD_FOLDER = \"_out\"\n",
    "SEGMENT_FOLDER = \"_segment\"\n",
    "STATIC_ONLY_FOLDER = \"_static_only\"\n",
    "ANNOT_FILE = \"annotation.csv\"\n",
    "\n",
    "GROUNDTRUTH_FILE = \"groundTruth.csv\"\n",
    "PCD_IDX_COLUMN = 'step'\n",
    "\n",
    "\n",
    "# STATIC_PATH = os.path.join(BASE_PATH, STATIC_FOLDER)\n",
    "DYNAMIC_PATH = os.path.join(BASE_PATH, DYNAMIC_FOLDER)"
   ]
  },
  {
   "cell_type": "code",
   "execution_count": 4,
   "metadata": {},
   "outputs": [],
   "source": [
    "NONPLAYER_AGENT_STR = \"non_player_agents\"\n",
    "dynamic_non_player_type_list = [\"vehicle\", \"pedestrian\"]"
   ]
  },
  {
   "cell_type": "code",
   "execution_count": 5,
   "metadata": {},
   "outputs": [],
   "source": [
    "def parse_clean_list(clean_str_list):\n",
    "    location_str = \"location\"\n",
    "    orientation_str = \"orientation\"\n",
    "    rotation_str = \"rotation\"\n",
    "    bounding_box_str = \"bounding_box\"\n",
    "    extent_str = \"extent\"\n",
    "\n",
    "    x_str = \"x\"\n",
    "    y_str = \"y\"\n",
    "    z_str = \"z\"\n",
    "    yaw_str = \"yaw\"\n",
    "\n",
    "    non_player_dict = {}\n",
    "    non_player_dict[\"id\"] = clean_str_list[1]\n",
    "    non_player_dict[\"type\"] = clean_str_list[2]\n",
    "\n",
    "    # Extract all list indices\n",
    "    location_idx = clean_str_list.index(location_str)\n",
    "    orientation_idx = clean_str_list.index(orientation_str)\n",
    "    rotation_idx = clean_str_list.index(rotation_str)\n",
    "    bounding_box_idx = clean_str_list.index(bounding_box_str)\n",
    "    extent_idx = clean_str_list.index(extent_str)\n",
    "\n",
    "    # Get relevant list subsets\n",
    "    location_str_list = clean_str_list[location_idx:orientation_idx]\n",
    "    rotation_str_list = clean_str_list[rotation_idx:bounding_box_idx]\n",
    "    extent_str_list = clean_str_list[extent_idx:]\n",
    "\n",
    "    # Extract location: x,y,z\n",
    "    non_player_dict[\"location_x\"] = float(location_str_list[location_str_list.index(x_str)+1])\n",
    "    non_player_dict[\"location_y\"] = float(location_str_list[location_str_list.index(y_str)+1])\n",
    "    non_player_dict[\"location_z\"] = float(location_str_list[location_str_list.index(z_str)+1])\n",
    "\n",
    "    # Extract heading rotation: yaw\n",
    "    non_player_dict[\"yaw\"] = float(rotation_str_list[rotation_str_list.index(yaw_str)+1])\n",
    "\n",
    "    # Extract bounding box extent: x,y,z\n",
    "    non_player_dict[\"extent_x\"] = float(extent_str_list[extent_str_list.index(x_str)+1])\n",
    "    non_player_dict[\"extent_y\"] = float(extent_str_list[extent_str_list.index(y_str)+1])\n",
    "    non_player_dict[\"extent_z\"] = float(extent_str_list[extent_str_list.index(z_str)+1])\n",
    "    \n",
    "    # Get min, max extent in xy plane\n",
    "    min_extent = min(non_player_dict[\"extent_x\"], non_player_dict[\"extent_y\"])\n",
    "    max_extent = max(non_player_dict[\"extent_x\"], non_player_dict[\"extent_y\"])\n",
    "    non_player_dict[\"min_half_extent\"] = min_extent / 2\n",
    "    non_player_dict[\"max_half_extent\"] = max_extent / 2\n",
    "    \n",
    "    return non_player_dict\n",
    "\n",
    "def get_relative_yaw(theta1, theta2):\n",
    "    rel_yaw = theta2 - theta1\n",
    "    if rel_yaw > 180:\n",
    "        actual_rel_yaw = rel_yaw - 360\n",
    "    elif rel_yaw <= -180:\n",
    "        actual_rel_yaw = rel_yaw + 360\n",
    "    else:\n",
    "        actual_rel_yaw = rel_yaw\n",
    "    return actual_rel_yaw\n",
    "\n",
    "def pose2matrix(translation_list, rotation_angle_list):\n",
    "    trans_vec = np.array(translation_list)\n",
    "    rot_ang = [np.deg2rad(ang) for ang in rotation_angle_list ]\n",
    "    rot_mat = transforms3d.euler.euler2mat(rot_ang[0], rot_ang[1], rot_ang[2])\n",
    "    zoom = np.ones(3)\n",
    "    transform_mat = transforms3d.affines.compose(trans_vec, rot_mat, zoom)\n",
    "    return transform_mat"
   ]
  },
  {
   "cell_type": "code",
   "execution_count": 6,
   "metadata": {},
   "outputs": [],
   "source": [
    "sub_folder = \"17\"\n",
    "# for sub_folder in os.listdir(DYNAMIC_PATH):"
   ]
  },
  {
   "cell_type": "code",
   "execution_count": 7,
   "metadata": {},
   "outputs": [],
   "source": [
    "GROUNDTRUTH_PATH = os.path.join(DYNAMIC_PATH, sub_folder, GROUNDTRUTH_FILE)\n",
    "if os.path.exists(GROUNDTRUTH_PATH):\n",
    "    df_gt = pd.read_csv(GROUNDTRUTH_PATH)\n",
    "else:\n",
    "    print(\"Error: Could not find ground truth csv at path : {}\".format(GROUNDTRUTH_PATH))\n",
    "#     continue\n",
    "\n",
    "NONPLAYERS_PATH = os.path.join(DYNAMIC_PATH, sub_folder, NONPLAYERS_FOLDER)\n",
    "if os.path.exists(NONPLAYERS_PATH):\n",
    "    json_file_idx_list = sorted([int(file[:-5]) for file in os.listdir(NONPLAYERS_PATH)])\n",
    "else:\n",
    "    print(\"Error: Could not find non players folder at path : {}\".format(NONPLAYERS_PATH))\n",
    "#     continue\n",
    "df_gt=df_gt[df_gt[PCD_IDX_COLUMN].isin(json_file_idx_list)]\n",
    "\n",
    "PCD_PATH = os.path.join(DYNAMIC_PATH, sub_folder, PCD_FOLDER)\n",
    "if os.path.exists(PCD_PATH):\n",
    "    pcd_file_idx_list = sorted([int(file[:-4]) for file in os.listdir(PCD_PATH)])\n",
    "else:\n",
    "    print(\"Error: Could not find pcd folder at path : {}\".format(PCD_PATH))\n",
    "#     continue\n",
    "df_gt=df_gt[df_gt[PCD_IDX_COLUMN].isin(pcd_file_idx_list)]\n",
    "\n",
    "SEGMENT_PATH = os.path.join(DYNAMIC_PATH, sub_folder, SEGMENT_FOLDER)\n",
    "if not os.path.exists(SEGMENT_PATH):\n",
    "    os.makedirs(SEGMENT_PATH)\n",
    "else:\n",
    "    shutil.rmtree(SEGMENT_PATH)\n",
    "    os.makedirs(SEGMENT_PATH)\n",
    "    \n",
    "STATIC_ONLY_PATH = os.path.join(DYNAMIC_PATH, sub_folder, STATIC_ONLY_FOLDER)\n",
    "if not os.path.exists(STATIC_ONLY_PATH):\n",
    "    os.makedirs(STATIC_ONLY_PATH)\n",
    "else:\n",
    "    shutil.rmtree(STATIC_ONLY_PATH)\n",
    "    os.makedirs(STATIC_ONLY_PATH)"
   ]
  },
  {
   "cell_type": "code",
   "execution_count": 8,
   "metadata": {},
   "outputs": [
    {
     "data": {
      "application/vnd.jupyter.widget-view+json": {
       "model_id": "ad7ef3d758c042819fbd0e78e9c0a1c2",
       "version_major": 2,
       "version_minor": 0
      },
      "text/plain": [
       "HBox(children=(IntProgress(value=0, max=3988), HTML(value='')))"
      ]
     },
     "metadata": {},
     "output_type": "display_data"
    },
    {
     "name": "stdout",
     "output_type": "stream",
     "text": [
      "\n"
     ]
    }
   ],
   "source": [
    "for gt_idx, gt_row in tqdm_notebook(df_gt.iterrows(), total=df_gt.shape[0]):\n",
    "    # Read faking json file\n",
    "    json_file_name = str(int(gt_row[PCD_IDX_COLUMN])) + \".json\"\n",
    "    json_file_path = os.path.join(NONPLAYERS_PATH, json_file_name)\n",
    "\n",
    "    with open(json_file_path, \"r\") as json_file_data:\n",
    "        json_file_str = json_file_data.read()\n",
    "\n",
    "    # Parse the faking json file\n",
    "    non_player_str_list = re.split(NONPLAYER_AGENT_STR, json_file_str)\n",
    "    non_player_str_list\n",
    "\n",
    "    dynamic_str_list = [non_player_str for non_player_str in non_player_str_list[1:]\\\n",
    "                                        for non_player_type in dynamic_non_player_type_list\\\n",
    "                                          if non_player_type in non_player_str]\n",
    "\n",
    "    dataframe_list = []\n",
    "    for dynamic_str in dynamic_str_list:\n",
    "        clean_str_list = [some_str for some_str in re.split(\"[:{}\\n ]\", dynamic_str) if some_str]\n",
    "        try:\n",
    "            dataframe_list.append(parse_clean_list(clean_str_list))\n",
    "        except Exception as e:\n",
    "            pass\n",
    "#             print(e)\n",
    "#             print(clean_str_list)\n",
    "\n",
    "    df_nonplayer = pd.DataFrame(dataframe_list)\n",
    "\n",
    "    # Search for surrounding dynamic non players\n",
    "    lidar_center = np.array([gt_row['location_x'], gt_row['location_y']])\n",
    "    df_feasible_nonplayer = df_nonplayer[np.array([np.linalg.norm(lidar_center -\\\n",
    "                                                                  np.array([row['location_x'], row['location_y']])) \\\n",
    "                                                       < (LIDAR_RANGE + row['min_half_extent']) \\\n",
    "                                                             for idx, row in df_nonplayer.iterrows()])]\n",
    "\n",
    "\n",
    "    # Read the pcd of interest\n",
    "    pcd_file_name = str(int(gt_row[PCD_IDX_COLUMN])) + \".ply\"\n",
    "    pcd_file_path = os.path.join(DYNAMIC_PATH, sub_folder, PCD_FOLDER, pcd_file_name)\n",
    "    this_pcd = o3d.read_point_cloud(pcd_file_path)\n",
    "\n",
    "    # Align pcd to global axes\n",
    "    this_pcd_align = copy.deepcopy(this_pcd)\n",
    "    this_pcd_align_arr = np.asarray(this_pcd_align.points)\n",
    "    this_pcd_align_arr = np.array([np.array([-y,x,-z]) for x,y,z in this_pcd_align_arr])\n",
    "    this_pcd_align.points = o3d.utility.Vector3dVector(this_pcd_align_arr)\n",
    "\n",
    "    # Initialize dynamic flag for all points\n",
    "    dynamic_flag = np.full(this_pcd_align_arr.shape[0], False)\n",
    "\n",
    "    # For every dynamic non player\n",
    "    for idx, row in df_feasible_nonplayer.iterrows():\n",
    "        this_pcd_tmp = copy.deepcopy(this_pcd_align)\n",
    "\n",
    "        # Rotate pcd to global axes\n",
    "        transform_mat = pose2matrix([0,0,0], [0,0,gt_row['rotation_yaw']])\n",
    "        this_pcd_tmp.transform(transform_mat)\n",
    "\n",
    "        # Transform pcd to vehicle coords\n",
    "        rel_x = row['location_x'] - gt_row['location_x']\n",
    "        rel_y = row['location_y'] - gt_row['location_y']\n",
    "        transform_mat = pose2matrix([-rel_x,-rel_y,0], [0,0,0])\n",
    "        this_pcd_tmp.transform(transform_mat)\n",
    "\n",
    "        # Rotate pcd to vehicle axes\n",
    "        transform_mat = pose2matrix([0,0,0], [0,0,row['yaw']])\n",
    "        this_pcd_tmp.transform(transform_mat)\n",
    "\n",
    "        # Find points that lie in this bounding box\n",
    "        rel_extent_x = row['extent_x']\n",
    "        rel_extent_y = row['extent_y']\n",
    "        rel_extent_z = row['extent_z']\n",
    "        this_pcd_tmp_arr = np.asarray(this_pcd_tmp.points)\n",
    "        this_dynamic_flag = np.array([((x <= rel_extent_x) & (-rel_extent_x <= x) & \\\n",
    "                                       (y <= rel_extent_y) & (-rel_extent_y <= y))\\\n",
    "                                         for x,y,z in this_pcd_tmp_arr])\n",
    "\n",
    "        dynamic_flag = dynamic_flag | this_dynamic_flag\n",
    "\n",
    "#     print(dynamic_flag.sum())\n",
    "    # Set color red for dynamic points\n",
    "    color_arr = np.array([np.array([int(flag),0,0]) for flag in dynamic_flag])\n",
    "    this_pcd.colors = o3d.utility.Vector3dVector(color_arr)\n",
    "\n",
    "    # Save this pcd\n",
    "    out_pcd_fname = str(int(gt_row[PCD_IDX_COLUMN])) + \".pcd\"\n",
    "    out_pcd_path = os.path.join(SEGMENT_PATH, out_pcd_fname)\n",
    "    o3d.io.write_point_cloud(out_pcd_path, this_pcd, write_ascii=True)\n",
    "    \n",
    "    # Save static points pcd only\n",
    "    this_pcd_static = copy.deepcopy(this_pcd)\n",
    "    this_pcd_static_arr = np.asarray(this_pcd_static.points)\n",
    "    this_pcd_static.points = o3d.utility.Vector3dVector(this_pcd_static_arr[~dynamic_flag])\n",
    "    \n",
    "    out_static_pcd_fname = str(int(gt_row[PCD_IDX_COLUMN])) + \".ply\"\n",
    "    out_static_pcd_path = os.path.join(STATIC_ONLY_PATH, out_static_pcd_fname)\n",
    "    o3d.io.write_point_cloud(out_static_pcd_path, this_pcd_static, write_ascii=True)"
   ]
  },
  {
   "cell_type": "code",
   "execution_count": null,
   "metadata": {},
   "outputs": [],
   "source": []
  },
  {
   "cell_type": "raw",
   "metadata": {},
   "source": [
    "draw_pcd(this_pcd_tmp)\n",
    "plt.plot(0, 0, 'D', c='r')\n",
    "plt.plot(np.ones(30)*row['extent_x'], np.arange(-10,20,1), c='k')\n",
    "plt.plot(-np.ones(30)*row['extent_x'], np.arange(-10,20,1), c='k')\n",
    "plt.plot(np.arange(-10,20,1), np.ones(30)*row['extent_y'], c='k')\n",
    "plt.plot(np.arange(-10,20,1), -np.ones(30)*row['extent_y'], c='k')"
   ]
  },
  {
   "cell_type": "raw",
   "metadata": {},
   "source": [
    "color_arr = np.array([np.array([int(flag),0,0]) for flag in dynamic_flag])\n",
    "this_pcd.colors = o3d.utility.Vector3dVector(color_arr)\n",
    "draw_pcd(this_pcd, where='opn_nb')"
   ]
  },
  {
   "cell_type": "code",
   "execution_count": null,
   "metadata": {},
   "outputs": [],
   "source": []
  },
  {
   "cell_type": "code",
   "execution_count": null,
   "metadata": {},
   "outputs": [],
   "source": []
  },
  {
   "cell_type": "code",
   "execution_count": null,
   "metadata": {},
   "outputs": [],
   "source": []
  },
  {
   "cell_type": "code",
   "execution_count": null,
   "metadata": {},
   "outputs": [],
   "source": []
  },
  {
   "cell_type": "code",
   "execution_count": null,
   "metadata": {},
   "outputs": [],
   "source": []
  },
  {
   "cell_type": "code",
   "execution_count": 9,
   "metadata": {},
   "outputs": [],
   "source": [
    "def draw_pcd(pcd, where='mat_2d'):\n",
    "    if where is 'opn_nb':\n",
    "        visualizer = o3d.JVisualizer()\n",
    "        visualizer.add_geometry(pcd)\n",
    "        visualizer.show()\n",
    "    elif where is 'opn_view':\n",
    "        o3d.visualization.draw_geometries([pcd], width=1280, height=800)\n",
    "    elif where is 'mat_3d':\n",
    "        plt.figure()\n",
    "        pts = np.asarray(pcd.points)\n",
    "        plt.scatter(pts[:,0], pts[:,1], pts[:,2])\n",
    "        plt.grid()\n",
    "        plt.show()\n",
    "    elif where is 'mat_2d':\n",
    "        plt.figure()\n",
    "        pts = np.asarray(pcd.points)\n",
    "        plt.scatter(pts[:,0], pts[:,1])\n",
    "        plt.grid()\n",
    "        plt.show()\n",
    "        \n",
    "def draw_registration_result(src_pcd, dst_pcd, x_pt, y_pt, theta):    \n",
    "    src_pcd_tmp = copy.deepcopy(src_pcd)\n",
    "    dst_pcd_tmp = copy.deepcopy(dst_pcd)\n",
    "    \n",
    "    src_pcd_tmp.paint_uniform_color([1, 0, 0])  # red source\n",
    "    dst_pcd_tmp.paint_uniform_color([0, 0, 1])  # blue target\n",
    "    \n",
    "    transform_mat = pose2matrix([x_pt, y_pt, 0], [0,0,theta])\n",
    "    dst_pcd_tmp.transform(transform_mat)\n",
    "    \n",
    "    visualizer = o3d.JVisualizer()\n",
    "    visualizer.add_geometry(src_pcd_tmp)\n",
    "    visualizer.add_geometry(dst_pcd_tmp)\n",
    "    visualizer.show()"
   ]
  },
  {
   "cell_type": "code",
   "execution_count": null,
   "metadata": {},
   "outputs": [],
   "source": []
  },
  {
   "cell_type": "code",
   "execution_count": null,
   "metadata": {},
   "outputs": [],
   "source": []
  },
  {
   "cell_type": "raw",
   "metadata": {
    "scrolled": true
   },
   "source": [
    "draw_registration_result(this_pcd_tmp, this_pcd_align, rel_x, rel_y, rel_yaw)"
   ]
  },
  {
   "cell_type": "code",
   "execution_count": null,
   "metadata": {},
   "outputs": [],
   "source": []
  },
  {
   "cell_type": "code",
   "execution_count": null,
   "metadata": {},
   "outputs": [],
   "source": []
  },
  {
   "cell_type": "code",
   "execution_count": null,
   "metadata": {},
   "outputs": [],
   "source": []
  },
  {
   "cell_type": "code",
   "execution_count": null,
   "metadata": {},
   "outputs": [],
   "source": []
  },
  {
   "cell_type": "markdown",
   "metadata": {},
   "source": [
    "For visualization purposes only"
   ]
  },
  {
   "cell_type": "raw",
   "metadata": {},
   "source": [
    "this_pcd.colors"
   ]
  },
  {
   "cell_type": "raw",
   "metadata": {},
   "source": [
    "this_pcd = o3d.read_point_cloud(out_pcd_path)\n",
    "draw_pcd(this_pcd, where='opn_nb')"
   ]
  },
  {
   "cell_type": "code",
   "execution_count": 15,
   "metadata": {},
   "outputs": [
    {
     "name": "stdout",
     "output_type": "stream",
     "text": [
      "676.0\n"
     ]
    },
    {
     "data": {
      "application/vnd.jupyter.widget-view+json": {
       "model_id": "62f26c6dd33647e8a0c231fb9620fcac",
       "version_major": 2,
       "version_minor": 0
      },
      "text/plain": [
       "JVisualizer with 1 geometries"
      ]
     },
     "metadata": {},
     "output_type": "display_data"
    },
    {
     "name": "stdout",
     "output_type": "stream",
     "text": [
      "676.0\n"
     ]
    },
    {
     "data": {
      "application/vnd.jupyter.widget-view+json": {
       "model_id": "7029c7bf85f243eaa381323b2b4bb346",
       "version_major": 2,
       "version_minor": 0
      },
      "text/plain": [
       "JVisualizer with 1 geometries"
      ]
     },
     "metadata": {},
     "output_type": "display_data"
    }
   ],
   "source": [
    "sample_step_idx = df_gt.iloc[np.random.choice(df_gt.shape[0])][PCD_IDX_COLUMN]\n",
    "print(sample_step_idx)\n",
    "sample_pcd_fname = str(int(sample_step_idx)) + \".pcd\"\n",
    "sample_pcd_path = os.path.join(SEGMENT_PATH, sample_pcd_fname)\n",
    "sample_pcd = o3d.read_point_cloud(sample_pcd_path)\n",
    "draw_pcd(sample_pcd, where='opn_nb')\n",
    "\n",
    "print(sample_step_idx)\n",
    "sample_pcd_fname = str(int(sample_step_idx)) + \".ply\"\n",
    "sample_pcd_path = os.path.join(STATIC_ONLY_PATH, sample_pcd_fname)\n",
    "sample_pcd = o3d.read_point_cloud(sample_pcd_path)\n",
    "draw_pcd(sample_pcd, where='opn_nb')"
   ]
  },
  {
   "cell_type": "code",
   "execution_count": null,
   "metadata": {},
   "outputs": [],
   "source": []
  },
  {
   "cell_type": "code",
   "execution_count": null,
   "metadata": {},
   "outputs": [],
   "source": []
  },
  {
   "cell_type": "code",
   "execution_count": null,
   "metadata": {},
   "outputs": [],
   "source": []
  },
  {
   "cell_type": "raw",
   "metadata": {},
   "source": [
    "# For example\n",
    "# sample_row = df_gt.iloc[np.random.choice(df_gt.shape[0])]\n",
    "sample_row = gt_row\n",
    "sample_step_idx = int(sample_row['step'])\n",
    "sample_json_file = str(sample_step_idx) + \".json\"\n",
    "sample_ply = str(sample_step_idx) + \".ply\"\n",
    "\n",
    "json_file_path = os.path.join(NONPLAYERS_PATH, sample_json_file)\n",
    "\n",
    "with open(json_file_path, \"r\") as json_file_data:\n",
    "    json_file_str = json_file_data.read()\n",
    "    \n",
    "dynamic_non_player_type_list = [\"vehicle\", \"pedestrian\"]\n",
    "\n",
    "non_player_str_list = re.split(\"non_player_agents\", json_file_str)\n",
    "non_player_str_list\n",
    "\n",
    "dynamic_str_list = [non_player_str for non_player_str in non_player_str_list[1:]\\\n",
    "                                    for non_player_type in dynamic_non_player_type_list\\\n",
    "                                      if non_player_type in non_player_str]\n",
    "\n",
    "dataframe_list = []\n",
    "for dynamic_str in dynamic_str_list:\n",
    "    clean_str_list = [some_str for some_str in re.split(\"[:{}\\n ]\", dynamic_str) if some_str]\n",
    "    try:\n",
    "        dataframe_list.append(parse_clean_list(clean_str_list))\n",
    "    except:\n",
    "        pass\n",
    "\n",
    "df_nonplayer = pd.DataFrame(dataframe_list)\n",
    "\n",
    "lidar_center = np.array([sample_row['location_x'], sample_row['location_y']])\n",
    "df_feasible_nonplayer = df_nonplayer[np.array([np.linalg.norm(lidar_center - np.array([row['location_x'], row['location_y']])) < (LIDAR_RANGE + row['min_half_extent']) \\\n",
    "                                         for idx, row in df_nonplayer.iterrows()])]\n",
    "\n",
    "\n",
    "\n",
    "this_pcd = o3d.read_point_cloud(os.path.join(DYNAMIC_PATH, sub_folder, PCD_FOLDER, sample_ply))\n",
    "that_pcd = copy.deepcopy(this_pcd)\n",
    "\n",
    "that_pcd_arr = np.asarray(that_pcd.points)\n",
    "that_pcd_arr = np.array([np.array([-y,x,-z]) for x,y,z in that_pcd_arr])\n",
    "that_pcd.points = o3d.utility.Vector3dVector(that_pcd_arr)\n",
    "\n",
    "# transform_mat = pose2matrix([0, 0, 0], [sample_row['rotation_roll'],sample_row['rotation_pitch'],sample_row['rotation_yaw']])\n",
    "transform_mat = pose2matrix([0,0,0], [0,0,sample_row['rotation_yaw']])\n",
    "that_pcd.transform(transform_mat)\n",
    "that_pcd_arr = np.asarray(that_pcd.points)\n",
    "# that_pcd_arr = this_pcd_align_arr\n",
    "# that_pcd_arr = np.array([np.array([x,y,z]) for x,y,z in that_pcd_arr if z < 2])\n",
    "\n",
    "\n",
    "\n",
    "plt.figure()\n",
    "plt.plot(sample_row['location_x']-sample_row['location_x'], sample_row['location_y']-sample_row['location_y'], 'P', c='k')\n",
    "plt.plot(that_pcd_arr[:,0],that_pcd_arr[:,1], '.')\n",
    "\n",
    "plt.figure()\n",
    "plt.plot(sample_row['location_x']-sample_row['location_x'], sample_row['location_y']-sample_row['location_y'], 'P', c='k')\n",
    "plt.plot(that_pcd_arr[:,0],that_pcd_arr[:,1], '.')\n",
    "plt.plot(df_feasible_nonplayer[df_feasible_nonplayer['type']=='vehicle']['location_x']-sample_row['location_x'], df_feasible_nonplayer[df_feasible_nonplayer['type']=='vehicle']['location_y']-sample_row['location_y'], 'D', c='r')\n",
    "plt.plot(df_feasible_nonplayer[df_feasible_nonplayer['type']=='pedestrian']['location_x']-sample_row['location_x'], df_feasible_nonplayer[df_feasible_nonplayer['type']=='pedestrian']['location_y']-sample_row['location_y'], 'd', c='m')\n",
    "\n",
    "print(\"Black +: Lidar center | Red diamond: Vehicle | Magenta diamond: Pedestrian\")\n",
    "df_feasible_nonplayer"
   ]
  },
  {
   "cell_type": "raw",
   "metadata": {},
   "source": [
    "lidar_center = np.array([this_row['location_x'], this_row['location_y']])\n",
    "[np.linalg.norm(lidar_center - np.array([row['location_x'], row['location_y']])) \\\n",
    "                                         for idx, row in df_feasible_nonplayer.iterrows()]"
   ]
  },
  {
   "cell_type": "code",
   "execution_count": null,
   "metadata": {},
   "outputs": [],
   "source": []
  }
 ],
 "metadata": {
  "kernelspec": {
   "display_name": "Python 3",
   "language": "python",
   "name": "python3"
  },
  "language_info": {
   "codemirror_mode": {
    "name": "ipython",
    "version": 3
   },
   "file_extension": ".py",
   "mimetype": "text/x-python",
   "name": "python",
   "nbconvert_exporter": "python",
   "pygments_lexer": "ipython3",
   "version": "3.7.3"
  },
  "toc": {
   "base_numbering": 1,
   "nav_menu": {},
   "number_sections": true,
   "sideBar": true,
   "skip_h1_title": false,
   "title_cell": "Table of Contents",
   "title_sidebar": "Contents",
   "toc_cell": false,
   "toc_position": {},
   "toc_section_display": true,
   "toc_window_display": false
  }
 },
 "nbformat": 4,
 "nbformat_minor": 2
}
