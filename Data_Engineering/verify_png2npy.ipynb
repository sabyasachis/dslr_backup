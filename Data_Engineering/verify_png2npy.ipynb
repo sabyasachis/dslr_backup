{
 "cells": [
  {
   "cell_type": "code",
   "execution_count": 1,
   "metadata": {
    "ExecuteTime": {
     "end_time": "2020-09-05T17:46:55.048513Z",
     "start_time": "2020-09-05T17:46:54.390183Z"
    }
   },
   "outputs": [],
   "source": [
    "import numpy as np\n",
    "import open3d as o3d\n",
    "from tqdm import tqdm_notebook\n",
    "import os, sys, shutil\n",
    "import matplotlib.pyplot as plt\n",
    "import cv2"
   ]
  },
  {
   "cell_type": "code",
   "execution_count": 2,
   "metadata": {
    "ExecuteTime": {
     "end_time": "2020-09-05T17:46:55.850372Z",
     "start_time": "2020-09-05T17:46:55.846561Z"
    }
   },
   "outputs": [],
   "source": [
    "IMG_FOLDER_PATH = \"/home/saby/Projects/ati/data/data/datasets/Carla/64beam-Data/pair_transform_dynseg_all/emptycities_preprocess/test/d_img_40_512/\""
   ]
  },
  {
   "cell_type": "code",
   "execution_count": 3,
   "metadata": {
    "ExecuteTime": {
     "end_time": "2020-09-05T17:46:56.657020Z",
     "start_time": "2020-09-05T17:46:56.637284Z"
    }
   },
   "outputs": [],
   "source": [
    "def linear_transform(sample_img, A=0, B=255, a=-1, b=1):\n",
    "    mul_fact = (b-a)/(B-A)\n",
    "    sub_fact = A\n",
    "    add_fact = a\n",
    "    out_img = (sample_img-sub_fact)*mul_fact + add_fact\n",
    "    return out_img\n",
    "\n",
    "def to_polar_np(velo):\n",
    "    if len(velo.shape) == 4:\n",
    "        velo = velo.transpose(1, 2, 3, 0)\n",
    "\n",
    "    if velo.shape[2] > 4:\n",
    "        assert velo.shape[0] <= 4\n",
    "        velo = velo.transpose(1, 2, 0, 3)\n",
    "        switch=True\n",
    "    else:\n",
    "        switch=False\n",
    "    \n",
    "    # assumes r x n/r x (3,4) velo\n",
    "    dist = np.sqrt(velo[:, :, 0] ** 2 + velo[:, :, 1] ** 2)\n",
    "    # theta = np.arctan2(velo[:, 1], velo[:, 0])\n",
    "    out = np.stack([dist, velo[:, :, 2]], axis=2)\n",
    "    \n",
    "    if switch:\n",
    "        out = out.transpose(2, 0, 1, 3)\n",
    "\n",
    "    if len(velo.shape) == 4: \n",
    "        out = out.transpose(3, 0, 1, 2)\n",
    "    \n",
    "    return out\n",
    "\n",
    "def from_polar_np(velo):\n",
    "    angles = np.linspace(0, np.pi * 2, velo.shape[-1])\n",
    "    dist, z = velo[:, 0], velo[:, 1]\n",
    "    x = np.cos(angles) * dist\n",
    "    y = np.sin(angles) * dist\n",
    "    out = np.stack([x,y,z], axis=1)\n",
    "    return out.astype('float32')\n",
    "\n",
    "def getint(name):\n",
    "    try:\n",
    "        return int(name.split('.')[0])\n",
    "    except Exception as e:\n",
    "        print(\"Error occured while trying to read {}\".format(name))\n",
    "    return None\n",
    "\n",
    "def draw_pcd(pcd, where='mat_3d'):\n",
    "    if where is 'opn_nb':\n",
    "        visualizer = o3d.JVisualizer()\n",
    "        visualizer.add_geometry(pcd)\n",
    "        visualizer.show()\n",
    "    elif where is 'opn_view':\n",
    "        o3d.visualization.draw_geometries([pcd], width=1280, height=800)\n",
    "    elif where is 'mat_3d':\n",
    "        plt.figure()\n",
    "        pts = np.asarray(pcd.points)\n",
    "        plt.scatter(pts[:,0], pts[:,1], pts[:,2])\n",
    "        plt.grid()\n",
    "        plt.show()\n",
    "    elif where is 'mat_2d':\n",
    "        plt.figure()\n",
    "        pts = np.asarray(pcd.points)\n",
    "        plt.scatter(pts[:,0], pts[:,1])\n",
    "        plt.grid()\n",
    "        plt.show()"
   ]
  },
  {
   "cell_type": "code",
   "execution_count": 4,
   "metadata": {
    "ExecuteTime": {
     "end_time": "2020-09-05T17:46:58.449666Z",
     "start_time": "2020-09-05T17:46:57.469720Z"
    }
   },
   "outputs": [
    {
     "name": "stderr",
     "output_type": "stream",
     "text": [
      "/home/saby/anaconda3/envs/ati/lib/python3.6/site-packages/ipykernel_launcher.py:2: TqdmDeprecationWarning: This function will be removed in tqdm==5.0.0\n",
      "Please use `tqdm.notebook.tqdm` instead of `tqdm.tqdm_notebook`\n",
      "  \n"
     ]
    },
    {
     "data": {
      "application/vnd.jupyter.widget-view+json": {
       "model_id": "7a2b3acb837148c4863e548501cdc185",
       "version_major": 2,
       "version_minor": 0
      },
      "text/plain": [
       "HBox(children=(FloatProgress(value=0.0, max=1274.0), HTML(value='')))"
      ]
     },
     "metadata": {},
     "output_type": "display_data"
    },
    {
     "name": "stdout",
     "output_type": "stream",
     "text": [
      "\n"
     ]
    }
   ],
   "source": [
    "img_list = []\n",
    "for file in tqdm_notebook(sorted(os.listdir(IMG_FOLDER_PATH), key=getint)):\n",
    "    img_arr = cv2.imread(os.path.join(IMG_FOLDER_PATH, file))\n",
    "    img_list.append(img_arr)"
   ]
  },
  {
   "cell_type": "markdown",
   "metadata": {},
   "source": [
    "1. Load image"
   ]
  },
  {
   "cell_type": "code",
   "execution_count": 5,
   "metadata": {
    "ExecuteTime": {
     "end_time": "2020-09-05T17:47:04.858972Z",
     "start_time": "2020-09-05T17:47:04.846446Z"
    }
   },
   "outputs": [
    {
     "data": {
      "text/plain": [
       "(40, 512, 3)"
      ]
     },
     "execution_count": 5,
     "metadata": {},
     "output_type": "execute_result"
    }
   ],
   "source": [
    "file = sorted(os.listdir(IMG_FOLDER_PATH), key=getint)[10]\n",
    "# img_arr = cv2.imread(os.path.join(IMG_FOLDER_PATH, file))\n",
    "img_arr = cv2.imread(\"temp.png\")\n",
    "img_arr = np.concatenate([img_arr[:,:,2:3], img_arr[:,:,1:2], img_arr[:,:,0:1]], axis=-1)\n",
    "img_arr.shape"
   ]
  },
  {
   "cell_type": "code",
   "execution_count": 6,
   "metadata": {
    "ExecuteTime": {
     "end_time": "2020-09-05T17:47:09.914406Z",
     "start_time": "2020-09-05T17:47:09.647405Z"
    }
   },
   "outputs": [
    {
     "data": {
      "application/vnd.jupyter.widget-view+json": {
       "model_id": "51a6cb394e524d0a9f3bbcf6909b3ee3",
       "version_major": 2,
       "version_minor": 0
      },
      "text/plain": [
       "JVisualizer with 1 geometries"
      ]
     },
     "metadata": {},
     "output_type": "display_data"
    }
   ],
   "source": [
    "temp2_arr = np.concatenate([img_arr[:,:,2:3], img_arr[:,:,1:2], img_arr[:,:,0:1]], axis=-1)\n",
    "temp_arr = linear_transform(temp2_arr.transpose(2,0,1), A=0, B=255, a=-1, b=1).reshape(3,-1).T\n",
    "temp_pcd = o3d.geometry.PointCloud()\n",
    "temp_pcd.points = o3d.utility.Vector3dVector(temp_arr)\n",
    "\n",
    "draw_pcd(temp_pcd, where='opn_nb')"
   ]
  },
  {
   "cell_type": "code",
   "execution_count": null,
   "metadata": {},
   "outputs": [],
   "source": []
  },
  {
   "cell_type": "code",
   "execution_count": null,
   "metadata": {},
   "outputs": [],
   "source": []
  },
  {
   "cell_type": "code",
   "execution_count": 7,
   "metadata": {
    "ExecuteTime": {
     "end_time": "2020-09-05T17:47:33.565872Z",
     "start_time": "2020-09-05T17:47:33.311572Z"
    }
   },
   "outputs": [
    {
     "data": {
      "application/vnd.jupyter.widget-view+json": {
       "model_id": "627eb672acfd49dc8d1be8fc20413378",
       "version_major": 2,
       "version_minor": 0
      },
      "text/plain": [
       "JVisualizer with 1 geometries"
      ]
     },
     "metadata": {},
     "output_type": "display_data"
    }
   ],
   "source": [
    "temp_arr = img_arr.reshape(-1,3)\n",
    "\n",
    "temp_pcd = o3d.geometry.PointCloud()\n",
    "temp_pcd.points = o3d.utility.Vector3dVector(temp_arr)\n",
    "\n",
    "draw_pcd(temp_pcd, where='opn_nb')"
   ]
  },
  {
   "cell_type": "markdown",
   "metadata": {},
   "source": [
    "2 Transpose"
   ]
  },
  {
   "cell_type": "code",
   "execution_count": 8,
   "metadata": {
    "ExecuteTime": {
     "end_time": "2020-09-05T17:47:55.399388Z",
     "start_time": "2020-09-05T17:47:55.391993Z"
    }
   },
   "outputs": [
    {
     "data": {
      "text/plain": [
       "(3, 40, 512)"
      ]
     },
     "execution_count": 8,
     "metadata": {},
     "output_type": "execute_result"
    }
   ],
   "source": [
    "img_transposed_arr = img_arr.transpose(2, 0, 1)\n",
    "img_transposed_arr.shape"
   ]
  },
  {
   "cell_type": "code",
   "execution_count": null,
   "metadata": {
    "ExecuteTime": {
     "end_time": "2020-09-05T13:27:44.030107Z",
     "start_time": "2020-09-05T13:27:43.780978Z"
    }
   },
   "outputs": [],
   "source": [
    "temp_arr = img_transposed_arr.reshape(3,-1).T\n",
    "\n",
    "temp_pcd = o3d.geometry.PointCloud()\n",
    "temp_pcd.points = o3d.utility.Vector3dVector(temp_arr)\n",
    "\n",
    "draw_pcd(temp_pcd, where='opn_nb')"
   ]
  },
  {
   "cell_type": "markdown",
   "metadata": {},
   "source": [
    "3. Linear Transform"
   ]
  },
  {
   "cell_type": "code",
   "execution_count": 9,
   "metadata": {
    "ExecuteTime": {
     "end_time": "2020-09-05T17:47:57.419323Z",
     "start_time": "2020-09-05T17:47:57.411470Z"
    }
   },
   "outputs": [
    {
     "data": {
      "text/plain": [
       "(3, 40, 512)"
      ]
     },
     "execution_count": 9,
     "metadata": {},
     "output_type": "execute_result"
    }
   ],
   "source": [
    "img_orig_arr = linear_transform(img_transposed_arr, A=0, B=255, a=-1, b=1)\n",
    "img_orig_arr.shape"
   ]
  },
  {
   "cell_type": "code",
   "execution_count": null,
   "metadata": {
    "ExecuteTime": {
     "end_time": "2020-09-05T13:27:46.284221Z",
     "start_time": "2020-09-05T13:27:46.006951Z"
    },
    "scrolled": true
   },
   "outputs": [],
   "source": [
    "temp_arr = img_orig_arr.reshape(3,-1).T\n",
    "\n",
    "temp_pcd = o3d.geometry.PointCloud()\n",
    "temp_pcd.points = o3d.utility.Vector3dVector(temp_arr)\n",
    "\n",
    "draw_pcd(temp_pcd, where='opn_nb')"
   ]
  },
  {
   "cell_type": "markdown",
   "metadata": {
    "ExecuteTime": {
     "end_time": "2020-09-05T12:47:08.046018Z",
     "start_time": "2020-09-05T12:47:08.039448Z"
    }
   },
   "source": [
    "4 concatenate zeros <br>\n",
    "5 transpose again <br>\n",
    "6 to polar <br>\n",
    "7 transpose again <br>"
   ]
  },
  {
   "cell_type": "code",
   "execution_count": 10,
   "metadata": {
    "ExecuteTime": {
     "end_time": "2020-09-05T17:48:01.287812Z",
     "start_time": "2020-09-05T17:48:01.279154Z"
    }
   },
   "outputs": [
    {
     "data": {
      "text/plain": [
       "(4, 40, 512)"
      ]
     },
     "execution_count": 10,
     "metadata": {},
     "output_type": "execute_result"
    }
   ],
   "source": [
    "img_size = img_orig_arr.shape\n",
    "npy_3d_arr = np.concatenate([img_orig_arr, np.zeros((1, img_size[1],img_size[2]))], axis=0)\n",
    "npy_3d_arr.shape"
   ]
  },
  {
   "cell_type": "code",
   "execution_count": null,
   "metadata": {},
   "outputs": [],
   "source": []
  },
  {
   "cell_type": "code",
   "execution_count": 11,
   "metadata": {
    "ExecuteTime": {
     "end_time": "2020-09-05T17:48:02.085383Z",
     "start_time": "2020-09-05T17:48:02.078960Z"
    }
   },
   "outputs": [
    {
     "data": {
      "text/plain": [
       "(1, 40, 512, 4)"
      ]
     },
     "execution_count": 11,
     "metadata": {},
     "output_type": "execute_result"
    }
   ],
   "source": [
    "npy_3d_transposed = npy_3d_arr.reshape(1,img_size[0]+1,img_size[1],img_size[2]).transpose(0,2,3,1)\n",
    "npy_3d_transposed.shape"
   ]
  },
  {
   "cell_type": "code",
   "execution_count": null,
   "metadata": {},
   "outputs": [],
   "source": []
  },
  {
   "cell_type": "code",
   "execution_count": 12,
   "metadata": {
    "ExecuteTime": {
     "end_time": "2020-09-05T17:48:03.036096Z",
     "start_time": "2020-09-05T17:48:03.029134Z"
    }
   },
   "outputs": [
    {
     "data": {
      "text/plain": [
       "(1, 40, 512, 2)"
      ]
     },
     "execution_count": 12,
     "metadata": {},
     "output_type": "execute_result"
    }
   ],
   "source": [
    "npy_polar = to_polar_np(npy_3d_transposed)\n",
    "npy_polar.shape"
   ]
  },
  {
   "cell_type": "code",
   "execution_count": null,
   "metadata": {},
   "outputs": [],
   "source": []
  },
  {
   "cell_type": "code",
   "execution_count": 13,
   "metadata": {
    "ExecuteTime": {
     "end_time": "2020-09-05T17:48:06.282066Z",
     "start_time": "2020-09-05T17:48:06.275596Z"
    }
   },
   "outputs": [
    {
     "data": {
      "text/plain": [
       "(1, 2, 40, 512)"
      ]
     },
     "execution_count": 13,
     "metadata": {},
     "output_type": "execute_result"
    }
   ],
   "source": [
    "npy_2d_arr = npy_polar.transpose(0, 3, 1, 2)\n",
    "npy_2d_arr.shape"
   ]
  },
  {
   "cell_type": "code",
   "execution_count": 14,
   "metadata": {
    "ExecuteTime": {
     "end_time": "2020-09-05T17:48:07.114983Z",
     "start_time": "2020-09-05T17:48:06.813898Z"
    }
   },
   "outputs": [
    {
     "data": {
      "application/vnd.jupyter.widget-view+json": {
       "model_id": "66f98180931c4ca394af3bb88549db5e",
       "version_major": 2,
       "version_minor": 0
      },
      "text/plain": [
       "JVisualizer with 1 geometries"
      ]
     },
     "metadata": {},
     "output_type": "display_data"
    }
   ],
   "source": [
    "temp_arr = from_polar_np(npy_2d_arr)[0].reshape(3,-1).T\n",
    "temp_arr.shape\n",
    "\n",
    "temp_pcd = o3d.geometry.PointCloud()\n",
    "temp_pcd.points = o3d.utility.Vector3dVector(temp_arr)\n",
    "\n",
    "draw_pcd(temp_pcd, where='opn_nb')"
   ]
  },
  {
   "cell_type": "code",
   "execution_count": null,
   "metadata": {},
   "outputs": [],
   "source": []
  },
  {
   "cell_type": "code",
   "execution_count": null,
   "metadata": {},
   "outputs": [],
   "source": []
  },
  {
   "cell_type": "code",
   "execution_count": null,
   "metadata": {},
   "outputs": [],
   "source": []
  },
  {
   "cell_type": "code",
   "execution_count": null,
   "metadata": {},
   "outputs": [],
   "source": []
  },
  {
   "cell_type": "code",
   "execution_count": null,
   "metadata": {
    "ExecuteTime": {
     "end_time": "2020-09-05T10:40:46.960326Z",
     "start_time": "2020-09-05T10:40:46.925960Z"
    }
   },
   "outputs": [],
   "source": [
    "img_list_arr = np.array(img_list)\n",
    "img_list_arr.shape"
   ]
  },
  {
   "cell_type": "code",
   "execution_count": null,
   "metadata": {
    "ExecuteTime": {
     "end_time": "2020-09-05T10:42:31.463407Z",
     "start_time": "2020-09-05T10:42:31.456236Z"
    }
   },
   "outputs": [],
   "source": [
    "img_transposed_arr = img_list_arr.transpose(0, 3, 1, 2)\n",
    "img_transposed_arr.shape"
   ]
  },
  {
   "cell_type": "code",
   "execution_count": null,
   "metadata": {
    "ExecuteTime": {
     "end_time": "2020-09-05T10:42:55.786079Z",
     "start_time": "2020-09-05T10:42:55.518870Z"
    }
   },
   "outputs": [],
   "source": [
    "img_orig_arr = linear_transform(img_transposed_arr)\n",
    "img_orig_arr.shape"
   ]
  },
  {
   "cell_type": "code",
   "execution_count": null,
   "metadata": {
    "ExecuteTime": {
     "end_time": "2020-09-05T10:43:47.674730Z",
     "start_time": "2020-09-05T10:43:47.268748Z"
    }
   },
   "outputs": [],
   "source": [
    "img_size = img_orig_arr.shape\n",
    "npy_3d_arr = np.concatenate([img_orig_arr, np.zeros((img_size[0],1, img_size[2],img_size[3]))], axis=1)\n",
    "npy_3d_arr.shape"
   ]
  },
  {
   "cell_type": "code",
   "execution_count": null,
   "metadata": {
    "ExecuteTime": {
     "end_time": "2020-09-05T10:50:09.732039Z",
     "start_time": "2020-09-05T10:50:09.223842Z"
    }
   },
   "outputs": [],
   "source": [
    "npy_2d_arr = to_polar_np(npy_3d_arr.transpose(0,2,3,1)).transpose(0, 3, 1, 2)\n",
    "npy_2d_arr.shape"
   ]
  },
  {
   "cell_type": "code",
   "execution_count": null,
   "metadata": {
    "ExecuteTime": {
     "end_time": "2020-09-05T10:50:19.187132Z",
     "start_time": "2020-09-05T10:50:17.616977Z"
    }
   },
   "outputs": [],
   "source": [
    "np.save(os.path.join(\"/home/saby/Projects/ati/data/data/datasets/Carla/64beam-Data/pair_transform_dynseg_all/emptycities_preprocess/test/temp\", \"emptycities_out.npy\"), npy_2d_arr)"
   ]
  },
  {
   "cell_type": "code",
   "execution_count": null,
   "metadata": {},
   "outputs": [],
   "source": []
  }
 ],
 "metadata": {
  "kernelspec": {
   "display_name": "Python 3",
   "language": "python",
   "name": "python3"
  },
  "language_info": {
   "codemirror_mode": {
    "name": "ipython",
    "version": 3
   },
   "file_extension": ".py",
   "mimetype": "text/x-python",
   "name": "python",
   "nbconvert_exporter": "python",
   "pygments_lexer": "ipython3",
   "version": "3.6.10"
  },
  "toc": {
   "base_numbering": 1,
   "nav_menu": {},
   "number_sections": true,
   "sideBar": true,
   "skip_h1_title": false,
   "title_cell": "Table of Contents",
   "title_sidebar": "Contents",
   "toc_cell": false,
   "toc_position": {},
   "toc_section_display": true,
   "toc_window_display": false
  }
 },
 "nbformat": 4,
 "nbformat_minor": 4
}
