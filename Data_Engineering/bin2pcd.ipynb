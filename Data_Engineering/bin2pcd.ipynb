{
 "cells": [
  {
   "cell_type": "code",
   "execution_count": 2,
   "metadata": {
    "ExecuteTime": {
     "end_time": "2019-11-01T15:32:24.797295Z",
     "start_time": "2019-11-01T15:32:24.204188Z"
    }
   },
   "outputs": [],
   "source": [
    "import pandas as pd\n",
    "import numpy as np\n",
    "from tqdm import *\n",
    "import open3d as o3d\n",
    "import os"
   ]
  },
  {
   "cell_type": "code",
   "execution_count": 3,
   "metadata": {
    "ExecuteTime": {
     "end_time": "2019-11-01T15:32:24.801714Z",
     "start_time": "2019-11-01T15:32:24.799134Z"
    }
   },
   "outputs": [],
   "source": [
    "bin_path = \"/home/sabyasachi/Projects/datasets/kitti/2011_09_26/2011_09_26_drive_0014_sync/velodyne_points/data\"\n",
    "pcd_path = \"/home/sabyasachi/Projects/datasets/kitti/2011_09_26/2011_09_26_drive_0014_sync/velodyne_points/pcd\""
   ]
  },
  {
   "cell_type": "code",
   "execution_count": 11,
   "metadata": {
    "ExecuteTime": {
     "end_time": "2019-11-01T15:39:10.519284Z",
     "start_time": "2019-11-01T15:39:10.379758Z"
    }
   },
   "outputs": [],
   "source": [
    "for fname in os.listdir(bin_path):\n",
    "    raw_lidar = np.fromfile(os.path.join(bin_path, fname), dtype=np.float32).reshape((-1, 4))\n",
    "    this_pcd = o3d.PointCloud()\n",
    "    this_pcd.points = o3d.utility.Vector3dVector(raw_lidar[:,:3])\n",
    "    o3d.io.write_point_cloud(os.path.join(, some_pcd)\n",
    "    break"
   ]
  },
  {
   "cell_type": "code",
   "execution_count": null,
   "metadata": {},
   "outputs": [],
   "source": []
  },
  {
   "cell_type": "code",
   "execution_count": null,
   "metadata": {},
   "outputs": [],
   "source": []
  },
  {
   "cell_type": "code",
   "execution_count": null,
   "metadata": {},
   "outputs": [],
   "source": []
  }
 ],
 "metadata": {
  "kernelspec": {
   "display_name": "Python 3",
   "language": "python",
   "name": "python3"
  },
  "language_info": {
   "codemirror_mode": {
    "name": "ipython",
    "version": 3
   },
   "file_extension": ".py",
   "mimetype": "text/x-python",
   "name": "python",
   "nbconvert_exporter": "python",
   "pygments_lexer": "ipython3",
   "version": "3.7.3"
  },
  "toc": {
   "base_numbering": 1,
   "nav_menu": {},
   "number_sections": true,
   "sideBar": true,
   "skip_h1_title": false,
   "title_cell": "Table of Contents",
   "title_sidebar": "Contents",
   "toc_cell": false,
   "toc_position": {},
   "toc_section_display": true,
   "toc_window_display": false
  }
 },
 "nbformat": 4,
 "nbformat_minor": 2
}
