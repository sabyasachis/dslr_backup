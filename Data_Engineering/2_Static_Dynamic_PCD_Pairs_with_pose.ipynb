{
 "cells": [
  {
   "cell_type": "code",
   "execution_count": 1,
   "metadata": {
    "ExecuteTime": {
     "end_time": "2020-07-29T15:20:18.462133Z",
     "start_time": "2020-07-29T15:20:17.805098Z"
    }
   },
   "outputs": [],
   "source": [
    "import pandas as pd\n",
    "import numpy as np\n",
    "import gc\n",
    "import os\n",
    "import sys\n",
    "import matplotlib.pyplot as plt\n",
    "from tqdm import tqdm_notebook\n",
    "from sklearn.neighbors import NearestNeighbors"
   ]
  },
  {
   "cell_type": "code",
   "execution_count": 2,
   "metadata": {
    "ExecuteTime": {
     "end_time": "2020-07-29T15:20:18.469582Z",
     "start_time": "2020-07-29T15:20:18.463909Z"
    }
   },
   "outputs": [],
   "source": [
    "%matplotlib notebook"
   ]
  },
  {
   "cell_type": "code",
   "execution_count": 3,
   "metadata": {
    "ExecuteTime": {
     "end_time": "2020-07-29T15:20:18.475453Z",
     "start_time": "2020-07-29T15:20:18.471272Z"
    }
   },
   "outputs": [],
   "source": [
    "BASE_PATH = \"/home/saby/Projects/ati/data/data/datasets/Carla/64beam-Data\"\n",
    "# PAIR_DIST_THRESH = 0.25  # in meters\n",
    "PAIR_DIST_THRESH = 2  # in meters\n",
    "PAIR_ANGL_THRESH = 15.0  # in degrees\n",
    "\n",
    "\n",
    "STATIC_FOLDER = \"static\"\n",
    "DYNAMIC_FOLDER = \"dynamic\"\n",
    "PCD_FOLDER = \"_out\"\n",
    "PAIR_FILE = \"pair_with_pose.csv\"\n",
    "\n",
    "GROUNDTRUTH_FILE = \"groundTruth.csv\"\n",
    "PCD_IDX_COLUMN = 'step'\n",
    "\n",
    "ANNOT_FILE = \"annotation.csv\"\n",
    "# START_ANNOT_COLUMN = 'start'\n",
    "# FINISH_ANNOT_COLUMN = 'end'\n",
    "\n",
    "\n",
    "\n",
    "STATIC_PATH = os.path.join(BASE_PATH, STATIC_FOLDER)\n",
    "DYNAMIC_PATH = os.path.join(BASE_PATH, DYNAMIC_FOLDER)"
   ]
  },
  {
   "cell_type": "code",
   "execution_count": 4,
   "metadata": {
    "ExecuteTime": {
     "end_time": "2020-07-29T15:20:18.480034Z",
     "start_time": "2020-07-29T15:20:18.476836Z"
    }
   },
   "outputs": [],
   "source": [
    "def get_file_int(name):\n",
    "    return int(name.split('.')[0])\n",
    "\n",
    "def get_folder_int(name):\n",
    "    return int(name)"
   ]
  },
  {
   "cell_type": "code",
   "execution_count": 5,
   "metadata": {
    "ExecuteTime": {
     "end_time": "2020-07-29T15:20:18.491408Z",
     "start_time": "2020-07-29T15:20:18.481519Z"
    }
   },
   "outputs": [],
   "source": [
    "def get_all_gt_df(base_folder, use_annot=False):\n",
    "    \n",
    "    pcd_list = []\n",
    "    for sub_folder in sorted(os.listdir(base_folder), key=get_folder_int):\n",
    "        # WARNING : Remove this if condition after use\n",
    "#         if int(sub_folder) > 6:\n",
    "#             continue\n",
    "        pcd_path = os.path.join(base_folder, sub_folder, PCD_FOLDER)\n",
    "\n",
    "        gt_file_path = os.path.join(base_folder, sub_folder, GROUNDTRUTH_FILE)\n",
    "        if os.path.exists(gt_file_path):\n",
    "            df_gt = pd.read_csv(gt_file_path)\n",
    "        else:\n",
    "            print(\"Error: Could not find ground truth csv at path : {}\".format(gt_file_path))\n",
    "            continue\n",
    "        df_gt_pcd = df_gt.set_index(PCD_IDX_COLUMN)\n",
    "        \n",
    "        if use_annot:\n",
    "            annot_file_path = os.path.join(base_folder, sub_folder, ANNOT_FILE)\n",
    "            if os.path.exists(annot_file_path):\n",
    "                df_annot = pd.read_csv(annot_file_path)\n",
    "                feasible_pcd_idx_arr = df_annot[df_annot['annotation']]['step'].values\n",
    "            else:\n",
    "                print(\"Error: Could not find annotation csv at path : {}\".format(annot_file_path))\n",
    "                continue\n",
    "#             feasible_start_list = df_annot[START_ANNOT_COLUMN].values\n",
    "#             feasible_end_list   = df_annot[FINISH_ANNOT_COLUMN].values\n",
    "#             feasible_pcd_idx_arr = np.concatenate([np.arange(start,end+1)\\\n",
    "#                                                    for start, end in zip(feasible_start_list, feasible_end_list)])\n",
    "\n",
    "        for pcd_file in sorted(os.listdir(pcd_path), key=get_file_int):\n",
    "            pcd_idx = int(pcd_file[:-4])\n",
    "            if use_annot:\n",
    "                if pcd_idx not in feasible_pcd_idx_arr:\n",
    "                    continue\n",
    "                    \n",
    "            try:\n",
    "                pcd_dict = df_gt_pcd.loc[pcd_idx]\n",
    "                gt_dict = {}\n",
    "                gt_dict['x'] = pcd_dict['location_x']\n",
    "                gt_dict['y'] = pcd_dict['location_y']\n",
    "                gt_dict['yaw'] = pcd_dict['rotation_yaw']\n",
    "                gt_dict['path'] = os.path.join(pcd_path, pcd_file)\n",
    "                pcd_list.append(gt_dict)\n",
    "            except Exception as e:\n",
    "                # print(\"Warning: Could not find groundtruth for {} . Ignoring it!\".format(os.path.join(pcd_path, pcd_file)))\n",
    "                pass\n",
    "    return pd.DataFrame(pcd_list)\n",
    "\n",
    "def get_relative_yaw(theta1, theta2):\n",
    "    rel_yaw = theta2 - theta1\n",
    "    if rel_yaw > 180:\n",
    "        actual_rel_yaw = rel_yaw - 360\n",
    "    elif rel_yaw <= -180:\n",
    "        actual_rel_yaw = rel_yaw + 360\n",
    "    else:\n",
    "        actual_rel_yaw = rel_yaw\n",
    "    return actual_rel_yaw"
   ]
  },
  {
   "cell_type": "code",
   "execution_count": 6,
   "metadata": {
    "ExecuteTime": {
     "end_time": "2020-07-29T15:20:24.030949Z",
     "start_time": "2020-07-29T15:20:18.494261Z"
    }
   },
   "outputs": [
    {
     "data": {
      "text/plain": [
       "0"
      ]
     },
     "execution_count": 6,
     "metadata": {},
     "output_type": "execute_result"
    }
   ],
   "source": [
    "df_static = get_all_gt_df(STATIC_PATH)\n",
    "df_dynamic = get_all_gt_df(DYNAMIC_PATH, use_annot=True)\n",
    "# df_dynamic = get_all_gt_df(DYNAMIC_PATH)\n",
    "gc.collect()"
   ]
  },
  {
   "cell_type": "code",
   "execution_count": 7,
   "metadata": {
    "ExecuteTime": {
     "end_time": "2020-07-29T15:20:24.036792Z",
     "start_time": "2020-07-29T15:20:24.032740Z"
    }
   },
   "outputs": [
    {
     "data": {
      "text/plain": [
       "((5298, 4), (13797, 4))"
      ]
     },
     "execution_count": 7,
     "metadata": {},
     "output_type": "execute_result"
    }
   ],
   "source": [
    "df_static.shape, df_dynamic.shape"
   ]
  },
  {
   "cell_type": "code",
   "execution_count": 8,
   "metadata": {
    "ExecuteTime": {
     "end_time": "2020-07-29T15:20:24.056059Z",
     "start_time": "2020-07-29T15:20:24.039498Z"
    }
   },
   "outputs": [
    {
     "data": {
      "text/html": [
       "<div>\n",
       "<style scoped>\n",
       "    .dataframe tbody tr th:only-of-type {\n",
       "        vertical-align: middle;\n",
       "    }\n",
       "\n",
       "    .dataframe tbody tr th {\n",
       "        vertical-align: top;\n",
       "    }\n",
       "\n",
       "    .dataframe thead th {\n",
       "        text-align: right;\n",
       "    }\n",
       "</style>\n",
       "<table border=\"1\" class=\"dataframe\">\n",
       "  <thead>\n",
       "    <tr style=\"text-align: right;\">\n",
       "      <th></th>\n",
       "      <th>x</th>\n",
       "      <th>y</th>\n",
       "      <th>yaw</th>\n",
       "      <th>path</th>\n",
       "    </tr>\n",
       "  </thead>\n",
       "  <tbody>\n",
       "    <tr>\n",
       "      <th>0</th>\n",
       "      <td>237.699997</td>\n",
       "      <td>129.75</td>\n",
       "      <td>179.999756</td>\n",
       "      <td>/home/saby/Projects/ati/data/data/datasets/Car...</td>\n",
       "    </tr>\n",
       "    <tr>\n",
       "      <th>1</th>\n",
       "      <td>237.699997</td>\n",
       "      <td>129.75</td>\n",
       "      <td>179.999756</td>\n",
       "      <td>/home/saby/Projects/ati/data/data/datasets/Car...</td>\n",
       "    </tr>\n",
       "    <tr>\n",
       "      <th>2</th>\n",
       "      <td>237.699997</td>\n",
       "      <td>129.75</td>\n",
       "      <td>179.999756</td>\n",
       "      <td>/home/saby/Projects/ati/data/data/datasets/Car...</td>\n",
       "    </tr>\n",
       "    <tr>\n",
       "      <th>3</th>\n",
       "      <td>237.699997</td>\n",
       "      <td>129.75</td>\n",
       "      <td>179.999756</td>\n",
       "      <td>/home/saby/Projects/ati/data/data/datasets/Car...</td>\n",
       "    </tr>\n",
       "    <tr>\n",
       "      <th>4</th>\n",
       "      <td>237.699997</td>\n",
       "      <td>129.75</td>\n",
       "      <td>179.999756</td>\n",
       "      <td>/home/saby/Projects/ati/data/data/datasets/Car...</td>\n",
       "    </tr>\n",
       "  </tbody>\n",
       "</table>\n",
       "</div>"
      ],
      "text/plain": [
       "            x       y         yaw  \\\n",
       "0  237.699997  129.75  179.999756   \n",
       "1  237.699997  129.75  179.999756   \n",
       "2  237.699997  129.75  179.999756   \n",
       "3  237.699997  129.75  179.999756   \n",
       "4  237.699997  129.75  179.999756   \n",
       "\n",
       "                                                path  \n",
       "0  /home/saby/Projects/ati/data/data/datasets/Car...  \n",
       "1  /home/saby/Projects/ati/data/data/datasets/Car...  \n",
       "2  /home/saby/Projects/ati/data/data/datasets/Car...  \n",
       "3  /home/saby/Projects/ati/data/data/datasets/Car...  \n",
       "4  /home/saby/Projects/ati/data/data/datasets/Car...  "
      ]
     },
     "execution_count": 8,
     "metadata": {},
     "output_type": "execute_result"
    }
   ],
   "source": [
    "df_static.head()"
   ]
  },
  {
   "cell_type": "code",
   "execution_count": 9,
   "metadata": {
    "ExecuteTime": {
     "end_time": "2020-07-29T15:20:26.447052Z",
     "start_time": "2020-07-29T15:20:24.057464Z"
    }
   },
   "outputs": [],
   "source": [
    "static_gt_arr  = np.array([np.array([row['x'], row['y']]) for idx, row in df_static.iterrows()])\n",
    "dynamic_gt_arr = np.array([np.array([row['x'], row['y']]) for idx, row in df_dynamic.iterrows()])"
   ]
  },
  {
   "cell_type": "code",
   "execution_count": 10,
   "metadata": {
    "ExecuteTime": {
     "end_time": "2020-07-29T15:20:26.524487Z",
     "start_time": "2020-07-29T15:20:26.448586Z"
    }
   },
   "outputs": [
    {
     "data": {
      "text/plain": [
       "24"
      ]
     },
     "execution_count": 10,
     "metadata": {},
     "output_type": "execute_result"
    }
   ],
   "source": [
    "# Get all static points at a threshold radius from each dynamic point\n",
    "nn_static = NearestNeighbors(radius=PAIR_DIST_THRESH)\n",
    "nn_static.fit(static_gt_arr)\n",
    "feasible_distance_list, feasible_distance_idx_list = \\\n",
    "            nn_static.radius_neighbors(dynamic_gt_arr, radius=PAIR_DIST_THRESH)\n",
    "\n",
    "gc.collect()"
   ]
  },
  {
   "cell_type": "code",
   "execution_count": 11,
   "metadata": {
    "ExecuteTime": {
     "end_time": "2020-07-29T15:21:33.083920Z",
     "start_time": "2020-07-29T15:20:26.525925Z"
    }
   },
   "outputs": [
    {
     "name": "stderr",
     "output_type": "stream",
     "text": [
      "/home/saby/anaconda3/envs/ati/lib/python3.6/site-packages/ipykernel_launcher.py:4: TqdmDeprecationWarning: This function will be removed in tqdm==5.0.0\n",
      "Please use `tqdm.notebook.tqdm` instead of `tqdm.tqdm_notebook`\n",
      "  after removing the cwd from sys.path.\n"
     ]
    },
    {
     "data": {
      "application/vnd.jupyter.widget-view+json": {
       "model_id": "df549d42b888428aaff34f8568e064e4",
       "version_major": 2,
       "version_minor": 0
      },
      "text/plain": [
       "HBox(children=(FloatProgress(value=0.0, max=13797.0), HTML(value='')))"
      ]
     },
     "metadata": {},
     "output_type": "display_data"
    },
    {
     "name": "stdout",
     "output_type": "stream",
     "text": [
      "\n"
     ]
    },
    {
     "data": {
      "text/plain": [
       "3"
      ]
     },
     "execution_count": 11,
     "metadata": {},
     "output_type": "execute_result"
    }
   ],
   "source": [
    "# For all static idxs found for every dynamic point, see if we are in given orientation threshold\n",
    "feasible_static_list = []\n",
    "\n",
    "for dynamic_idx in tqdm_notebook(range(df_dynamic.shape[0])):\n",
    "    feasible_flag = False\n",
    "    \n",
    "    feasible_ang_list = []\n",
    "    feasible_static_idx_list = []\n",
    "    more_feasible_distance_list = []\n",
    "    \n",
    "    \n",
    "    if len(feasible_distance_idx_list[dynamic_idx]) > 0:\n",
    "        dynamic_yaw = df_dynamic.iloc[dynamic_idx]['yaw']\n",
    "        for static_distance, static_idx in zip(feasible_distance_list[dynamic_idx], feasible_distance_idx_list[dynamic_idx]):\n",
    "            static_yaw = df_static.iloc[static_idx]['yaw']\n",
    "            rel_yaw = np.abs(get_relative_yaw(static_yaw, dynamic_yaw)) # we get value between 0 and 180\n",
    "            if rel_yaw < PAIR_ANGL_THRESH:\n",
    "                feasible_flag = True\n",
    "                feasible_ang_list.append(rel_yaw)\n",
    "                feasible_static_idx_list.append(static_idx)\n",
    "                more_feasible_distance_list.append(static_distance)\n",
    "                \n",
    "    feasible_static_dict = {}\n",
    "    feasible_static_dict['flag'] = feasible_flag\n",
    "    feasible_static_dict['dynamic_idx'] = dynamic_idx\n",
    "    feasible_static_dict['static_idx_list'] = feasible_static_idx_list\n",
    "    feasible_static_dict['distance_list'] = more_feasible_distance_list\n",
    "    feasible_static_dict['angle_list'] = feasible_ang_list\n",
    "    feasible_static_list.append(feasible_static_dict)\n",
    "    \n",
    "    \n",
    "gc.collect()"
   ]
  },
  {
   "cell_type": "code",
   "execution_count": 12,
   "metadata": {
    "ExecuteTime": {
     "end_time": "2020-07-29T15:21:33.103404Z",
     "start_time": "2020-07-29T15:21:33.085267Z"
    }
   },
   "outputs": [
    {
     "data": {
      "text/plain": [
       "(13797, 5)"
      ]
     },
     "execution_count": 12,
     "metadata": {},
     "output_type": "execute_result"
    }
   ],
   "source": [
    "df_feasible = pd.DataFrame(feasible_static_list)\n",
    "df_feasible.shape"
   ]
  },
  {
   "cell_type": "code",
   "execution_count": 13,
   "metadata": {
    "ExecuteTime": {
     "end_time": "2020-07-29T15:21:33.106592Z",
     "start_time": "2020-07-29T15:21:33.104793Z"
    }
   },
   "outputs": [],
   "source": [
    "# df_feasible[df_feasible['flag']]"
   ]
  },
  {
   "cell_type": "code",
   "execution_count": 14,
   "metadata": {
    "ExecuteTime": {
     "end_time": "2020-07-29T15:21:35.969256Z",
     "start_time": "2020-07-29T15:21:33.107937Z"
    }
   },
   "outputs": [
    {
     "data": {
      "text/plain": [
       "0"
      ]
     },
     "execution_count": 14,
     "metadata": {},
     "output_type": "execute_result"
    }
   ],
   "source": [
    "corr_static_idx_list = []\n",
    "corr_distance_list = []\n",
    "corr_angle_list = []\n",
    "for idx, row in df_feasible.iterrows():\n",
    "    if row['flag']:\n",
    "        corr_distance_list.append(np.min(row['distance_list']))\n",
    "        \n",
    "        which_idx = np.argmin(row['distance_list'])\n",
    "        \n",
    "        corr_static_idx = row['static_idx_list'][which_idx]\n",
    "        corr_static_idx_list.append(corr_static_idx)\n",
    "        \n",
    "        corr_angle_idx = row['angle_list'][which_idx]\n",
    "        corr_angle_list.append(corr_angle_idx)\n",
    "    else:\n",
    "        corr_distance_list.append(np.nan)\n",
    "        corr_static_idx_list.append(-1)\n",
    "        corr_angle_list.append(np.nan)\n",
    "        \n",
    "gc.collect()"
   ]
  },
  {
   "cell_type": "code",
   "execution_count": 15,
   "metadata": {
    "ExecuteTime": {
     "end_time": "2020-07-29T15:21:35.981959Z",
     "start_time": "2020-07-29T15:21:35.970712Z"
    }
   },
   "outputs": [],
   "source": [
    "df_feasible['static_idx'] = corr_static_idx_list\n",
    "df_feasible['distance'] = corr_distance_list\n",
    "df_feasible['angle'] = corr_angle_list"
   ]
  },
  {
   "cell_type": "code",
   "execution_count": 16,
   "metadata": {
    "ExecuteTime": {
     "end_time": "2020-07-29T15:21:35.999758Z",
     "start_time": "2020-07-29T15:21:35.984581Z"
    }
   },
   "outputs": [
    {
     "data": {
      "text/plain": [
       "(9951, 4)"
      ]
     },
     "execution_count": 16,
     "metadata": {},
     "output_type": "execute_result"
    }
   ],
   "source": [
    "df_pair = df_feasible[df_feasible['flag']][['dynamic_idx', 'static_idx', 'distance', 'angle']].reset_index().drop(columns=['index'])\n",
    "df_pair.shape"
   ]
  },
  {
   "cell_type": "code",
   "execution_count": 17,
   "metadata": {
    "ExecuteTime": {
     "end_time": "2020-07-29T15:21:36.060571Z",
     "start_time": "2020-07-29T15:21:36.001200Z"
    }
   },
   "outputs": [
    {
     "data": {
      "text/plain": [
       "0"
      ]
     },
     "execution_count": 17,
     "metadata": {},
     "output_type": "execute_result"
    }
   ],
   "source": [
    "del df_feasible\n",
    "gc.collect()"
   ]
  },
  {
   "cell_type": "code",
   "execution_count": 18,
   "metadata": {
    "ExecuteTime": {
     "end_time": "2020-07-29T15:21:36.072731Z",
     "start_time": "2020-07-29T15:21:36.063945Z"
    }
   },
   "outputs": [
    {
     "data": {
      "text/html": [
       "<div>\n",
       "<style scoped>\n",
       "    .dataframe tbody tr th:only-of-type {\n",
       "        vertical-align: middle;\n",
       "    }\n",
       "\n",
       "    .dataframe tbody tr th {\n",
       "        vertical-align: top;\n",
       "    }\n",
       "\n",
       "    .dataframe thead th {\n",
       "        text-align: right;\n",
       "    }\n",
       "</style>\n",
       "<table border=\"1\" class=\"dataframe\">\n",
       "  <thead>\n",
       "    <tr style=\"text-align: right;\">\n",
       "      <th></th>\n",
       "      <th>dynamic_idx</th>\n",
       "      <th>static_idx</th>\n",
       "      <th>distance</th>\n",
       "      <th>angle</th>\n",
       "    </tr>\n",
       "  </thead>\n",
       "  <tbody>\n",
       "    <tr>\n",
       "      <th>0</th>\n",
       "      <td>0</td>\n",
       "      <td>3813</td>\n",
       "      <td>0.315429</td>\n",
       "      <td>0.013123</td>\n",
       "    </tr>\n",
       "    <tr>\n",
       "      <th>1</th>\n",
       "      <td>1</td>\n",
       "      <td>3813</td>\n",
       "      <td>0.315429</td>\n",
       "      <td>0.013123</td>\n",
       "    </tr>\n",
       "    <tr>\n",
       "      <th>2</th>\n",
       "      <td>2</td>\n",
       "      <td>3813</td>\n",
       "      <td>0.315429</td>\n",
       "      <td>0.013123</td>\n",
       "    </tr>\n",
       "    <tr>\n",
       "      <th>3</th>\n",
       "      <td>3</td>\n",
       "      <td>3813</td>\n",
       "      <td>0.315429</td>\n",
       "      <td>0.013123</td>\n",
       "    </tr>\n",
       "    <tr>\n",
       "      <th>4</th>\n",
       "      <td>4</td>\n",
       "      <td>3813</td>\n",
       "      <td>0.315429</td>\n",
       "      <td>0.013123</td>\n",
       "    </tr>\n",
       "  </tbody>\n",
       "</table>\n",
       "</div>"
      ],
      "text/plain": [
       "   dynamic_idx  static_idx  distance     angle\n",
       "0            0        3813  0.315429  0.013123\n",
       "1            1        3813  0.315429  0.013123\n",
       "2            2        3813  0.315429  0.013123\n",
       "3            3        3813  0.315429  0.013123\n",
       "4            4        3813  0.315429  0.013123"
      ]
     },
     "execution_count": 18,
     "metadata": {},
     "output_type": "execute_result"
    }
   ],
   "source": [
    "df_pair.head()"
   ]
  },
  {
   "cell_type": "code",
   "execution_count": 19,
   "metadata": {
    "ExecuteTime": {
     "end_time": "2020-07-29T15:21:52.086330Z",
     "start_time": "2020-07-29T15:21:36.074435Z"
    }
   },
   "outputs": [],
   "source": [
    "df_pair['static_x'] = [df_static.iloc[int(row['static_idx'])]['x'] for idx, row in df_pair.iterrows()]\n",
    "df_pair['static_y'] = [df_static.iloc[int(row['static_idx'])]['y'] for idx, row in df_pair.iterrows()]\n",
    "df_pair['static_yaw'] = [df_static.iloc[int(row['static_idx'])]['yaw'] for idx, row in df_pair.iterrows()]\n",
    "\n",
    "df_pair['dynamic_x'] = [df_dynamic.iloc[int(row['dynamic_idx'])]['x'] for idx, row in df_pair.iterrows()]\n",
    "df_pair['dynamic_y'] = [df_dynamic.iloc[int(row['dynamic_idx'])]['y'] for idx, row in df_pair.iterrows()]\n",
    "df_pair['dynamic_yaw'] = [df_dynamic.iloc[int(row['dynamic_idx'])]['yaw'] for idx, row in df_pair.iterrows()]"
   ]
  },
  {
   "cell_type": "code",
   "execution_count": 20,
   "metadata": {
    "ExecuteTime": {
     "end_time": "2020-07-29T15:21:52.099886Z",
     "start_time": "2020-07-29T15:21:52.087736Z"
    }
   },
   "outputs": [
    {
     "data": {
      "text/html": [
       "<div>\n",
       "<style scoped>\n",
       "    .dataframe tbody tr th:only-of-type {\n",
       "        vertical-align: middle;\n",
       "    }\n",
       "\n",
       "    .dataframe tbody tr th {\n",
       "        vertical-align: top;\n",
       "    }\n",
       "\n",
       "    .dataframe thead th {\n",
       "        text-align: right;\n",
       "    }\n",
       "</style>\n",
       "<table border=\"1\" class=\"dataframe\">\n",
       "  <thead>\n",
       "    <tr style=\"text-align: right;\">\n",
       "      <th></th>\n",
       "      <th>dynamic_idx</th>\n",
       "      <th>static_idx</th>\n",
       "      <th>distance</th>\n",
       "      <th>angle</th>\n",
       "      <th>static_x</th>\n",
       "      <th>static_y</th>\n",
       "      <th>static_yaw</th>\n",
       "      <th>dynamic_x</th>\n",
       "      <th>dynamic_y</th>\n",
       "      <th>dynamic_yaw</th>\n",
       "    </tr>\n",
       "  </thead>\n",
       "  <tbody>\n",
       "    <tr>\n",
       "      <th>0</th>\n",
       "      <td>0</td>\n",
       "      <td>3813</td>\n",
       "      <td>0.315429</td>\n",
       "      <td>0.013123</td>\n",
       "      <td>191.503235</td>\n",
       "      <td>129.493256</td>\n",
       "      <td>-179.987122</td>\n",
       "      <td>191.319992</td>\n",
       "      <td>129.75</td>\n",
       "      <td>179.999756</td>\n",
       "    </tr>\n",
       "    <tr>\n",
       "      <th>1</th>\n",
       "      <td>1</td>\n",
       "      <td>3813</td>\n",
       "      <td>0.315429</td>\n",
       "      <td>0.013123</td>\n",
       "      <td>191.503235</td>\n",
       "      <td>129.493256</td>\n",
       "      <td>-179.987122</td>\n",
       "      <td>191.319992</td>\n",
       "      <td>129.75</td>\n",
       "      <td>179.999756</td>\n",
       "    </tr>\n",
       "    <tr>\n",
       "      <th>2</th>\n",
       "      <td>2</td>\n",
       "      <td>3813</td>\n",
       "      <td>0.315429</td>\n",
       "      <td>0.013123</td>\n",
       "      <td>191.503235</td>\n",
       "      <td>129.493256</td>\n",
       "      <td>-179.987122</td>\n",
       "      <td>191.319992</td>\n",
       "      <td>129.75</td>\n",
       "      <td>179.999756</td>\n",
       "    </tr>\n",
       "    <tr>\n",
       "      <th>3</th>\n",
       "      <td>3</td>\n",
       "      <td>3813</td>\n",
       "      <td>0.315429</td>\n",
       "      <td>0.013123</td>\n",
       "      <td>191.503235</td>\n",
       "      <td>129.493256</td>\n",
       "      <td>-179.987122</td>\n",
       "      <td>191.319992</td>\n",
       "      <td>129.75</td>\n",
       "      <td>179.999756</td>\n",
       "    </tr>\n",
       "    <tr>\n",
       "      <th>4</th>\n",
       "      <td>4</td>\n",
       "      <td>3813</td>\n",
       "      <td>0.315429</td>\n",
       "      <td>0.013123</td>\n",
       "      <td>191.503235</td>\n",
       "      <td>129.493256</td>\n",
       "      <td>-179.987122</td>\n",
       "      <td>191.319992</td>\n",
       "      <td>129.75</td>\n",
       "      <td>179.999756</td>\n",
       "    </tr>\n",
       "  </tbody>\n",
       "</table>\n",
       "</div>"
      ],
      "text/plain": [
       "   dynamic_idx  static_idx  distance     angle    static_x    static_y  \\\n",
       "0            0        3813  0.315429  0.013123  191.503235  129.493256   \n",
       "1            1        3813  0.315429  0.013123  191.503235  129.493256   \n",
       "2            2        3813  0.315429  0.013123  191.503235  129.493256   \n",
       "3            3        3813  0.315429  0.013123  191.503235  129.493256   \n",
       "4            4        3813  0.315429  0.013123  191.503235  129.493256   \n",
       "\n",
       "   static_yaw   dynamic_x  dynamic_y  dynamic_yaw  \n",
       "0 -179.987122  191.319992     129.75   179.999756  \n",
       "1 -179.987122  191.319992     129.75   179.999756  \n",
       "2 -179.987122  191.319992     129.75   179.999756  \n",
       "3 -179.987122  191.319992     129.75   179.999756  \n",
       "4 -179.987122  191.319992     129.75   179.999756  "
      ]
     },
     "execution_count": 20,
     "metadata": {},
     "output_type": "execute_result"
    }
   ],
   "source": [
    "df_pair.head()"
   ]
  },
  {
   "cell_type": "code",
   "execution_count": 21,
   "metadata": {
    "ExecuteTime": {
     "end_time": "2020-07-29T15:21:53.115071Z",
     "start_time": "2020-07-29T15:21:52.102623Z"
    }
   },
   "outputs": [],
   "source": [
    "df_pair['pose_x'] = df_pair['dynamic_x'] - df_pair['static_x']\n",
    "df_pair['pose_y'] = df_pair['dynamic_y'] - df_pair['static_y']\n",
    "df_pair['pose_yaw'] = [get_relative_yaw(row['static_yaw'], row['dynamic_yaw']) for idx, row in df_pair.iterrows()]"
   ]
  },
  {
   "cell_type": "code",
   "execution_count": 22,
   "metadata": {
    "ExecuteTime": {
     "end_time": "2020-07-29T15:21:53.119762Z",
     "start_time": "2020-07-29T15:21:53.116482Z"
    }
   },
   "outputs": [
    {
     "data": {
      "text/plain": [
       "(9951, 13)"
      ]
     },
     "execution_count": 22,
     "metadata": {},
     "output_type": "execute_result"
    }
   ],
   "source": [
    "df_pair.shape"
   ]
  },
  {
   "cell_type": "code",
   "execution_count": 23,
   "metadata": {
    "ExecuteTime": {
     "end_time": "2020-07-29T15:21:53.135674Z",
     "start_time": "2020-07-29T15:21:53.121179Z"
    }
   },
   "outputs": [
    {
     "data": {
      "text/html": [
       "<div>\n",
       "<style scoped>\n",
       "    .dataframe tbody tr th:only-of-type {\n",
       "        vertical-align: middle;\n",
       "    }\n",
       "\n",
       "    .dataframe tbody tr th {\n",
       "        vertical-align: top;\n",
       "    }\n",
       "\n",
       "    .dataframe thead th {\n",
       "        text-align: right;\n",
       "    }\n",
       "</style>\n",
       "<table border=\"1\" class=\"dataframe\">\n",
       "  <thead>\n",
       "    <tr style=\"text-align: right;\">\n",
       "      <th></th>\n",
       "      <th>dynamic_idx</th>\n",
       "      <th>static_idx</th>\n",
       "      <th>distance</th>\n",
       "      <th>angle</th>\n",
       "      <th>static_x</th>\n",
       "      <th>static_y</th>\n",
       "      <th>static_yaw</th>\n",
       "      <th>dynamic_x</th>\n",
       "      <th>dynamic_y</th>\n",
       "      <th>dynamic_yaw</th>\n",
       "      <th>pose_x</th>\n",
       "      <th>pose_y</th>\n",
       "      <th>pose_yaw</th>\n",
       "    </tr>\n",
       "  </thead>\n",
       "  <tbody>\n",
       "    <tr>\n",
       "      <th>0</th>\n",
       "      <td>0</td>\n",
       "      <td>3813</td>\n",
       "      <td>0.315429</td>\n",
       "      <td>0.013123</td>\n",
       "      <td>191.503235</td>\n",
       "      <td>129.493256</td>\n",
       "      <td>-179.987122</td>\n",
       "      <td>191.319992</td>\n",
       "      <td>129.75</td>\n",
       "      <td>179.999756</td>\n",
       "      <td>-0.183243</td>\n",
       "      <td>0.256744</td>\n",
       "      <td>-0.013123</td>\n",
       "    </tr>\n",
       "    <tr>\n",
       "      <th>1</th>\n",
       "      <td>1</td>\n",
       "      <td>3813</td>\n",
       "      <td>0.315429</td>\n",
       "      <td>0.013123</td>\n",
       "      <td>191.503235</td>\n",
       "      <td>129.493256</td>\n",
       "      <td>-179.987122</td>\n",
       "      <td>191.319992</td>\n",
       "      <td>129.75</td>\n",
       "      <td>179.999756</td>\n",
       "      <td>-0.183243</td>\n",
       "      <td>0.256744</td>\n",
       "      <td>-0.013123</td>\n",
       "    </tr>\n",
       "    <tr>\n",
       "      <th>2</th>\n",
       "      <td>2</td>\n",
       "      <td>3813</td>\n",
       "      <td>0.315429</td>\n",
       "      <td>0.013123</td>\n",
       "      <td>191.503235</td>\n",
       "      <td>129.493256</td>\n",
       "      <td>-179.987122</td>\n",
       "      <td>191.319992</td>\n",
       "      <td>129.75</td>\n",
       "      <td>179.999756</td>\n",
       "      <td>-0.183243</td>\n",
       "      <td>0.256744</td>\n",
       "      <td>-0.013123</td>\n",
       "    </tr>\n",
       "    <tr>\n",
       "      <th>3</th>\n",
       "      <td>3</td>\n",
       "      <td>3813</td>\n",
       "      <td>0.315429</td>\n",
       "      <td>0.013123</td>\n",
       "      <td>191.503235</td>\n",
       "      <td>129.493256</td>\n",
       "      <td>-179.987122</td>\n",
       "      <td>191.319992</td>\n",
       "      <td>129.75</td>\n",
       "      <td>179.999756</td>\n",
       "      <td>-0.183243</td>\n",
       "      <td>0.256744</td>\n",
       "      <td>-0.013123</td>\n",
       "    </tr>\n",
       "    <tr>\n",
       "      <th>4</th>\n",
       "      <td>4</td>\n",
       "      <td>3813</td>\n",
       "      <td>0.315429</td>\n",
       "      <td>0.013123</td>\n",
       "      <td>191.503235</td>\n",
       "      <td>129.493256</td>\n",
       "      <td>-179.987122</td>\n",
       "      <td>191.319992</td>\n",
       "      <td>129.75</td>\n",
       "      <td>179.999756</td>\n",
       "      <td>-0.183243</td>\n",
       "      <td>0.256744</td>\n",
       "      <td>-0.013123</td>\n",
       "    </tr>\n",
       "  </tbody>\n",
       "</table>\n",
       "</div>"
      ],
      "text/plain": [
       "   dynamic_idx  static_idx  distance     angle    static_x    static_y  \\\n",
       "0            0        3813  0.315429  0.013123  191.503235  129.493256   \n",
       "1            1        3813  0.315429  0.013123  191.503235  129.493256   \n",
       "2            2        3813  0.315429  0.013123  191.503235  129.493256   \n",
       "3            3        3813  0.315429  0.013123  191.503235  129.493256   \n",
       "4            4        3813  0.315429  0.013123  191.503235  129.493256   \n",
       "\n",
       "   static_yaw   dynamic_x  dynamic_y  dynamic_yaw    pose_x    pose_y  \\\n",
       "0 -179.987122  191.319992     129.75   179.999756 -0.183243  0.256744   \n",
       "1 -179.987122  191.319992     129.75   179.999756 -0.183243  0.256744   \n",
       "2 -179.987122  191.319992     129.75   179.999756 -0.183243  0.256744   \n",
       "3 -179.987122  191.319992     129.75   179.999756 -0.183243  0.256744   \n",
       "4 -179.987122  191.319992     129.75   179.999756 -0.183243  0.256744   \n",
       "\n",
       "   pose_yaw  \n",
       "0 -0.013123  \n",
       "1 -0.013123  \n",
       "2 -0.013123  \n",
       "3 -0.013123  \n",
       "4 -0.013123  "
      ]
     },
     "execution_count": 23,
     "metadata": {},
     "output_type": "execute_result"
    }
   ],
   "source": [
    "df_pair.head()"
   ]
  },
  {
   "cell_type": "code",
   "execution_count": 24,
   "metadata": {
    "ExecuteTime": {
     "end_time": "2020-07-29T15:21:53.141764Z",
     "start_time": "2020-07-29T15:21:53.136999Z"
    }
   },
   "outputs": [
    {
     "name": "stdout",
     "output_type": "stream",
     "text": [
      "Check how many corresponding yaw measurements are wrong:\n"
     ]
    },
    {
     "data": {
      "text/plain": [
       "0"
      ]
     },
     "execution_count": 24,
     "metadata": {},
     "output_type": "execute_result"
    }
   ],
   "source": [
    "print(\"Check how many corresponding yaw measurements are wrong:\")\n",
    "# TODO check for distance \n",
    "# TODO check if it is indeed the min\n",
    "np.sum(df_pair['angle'] != np.abs(df_pair['pose_yaw']))"
   ]
  },
  {
   "cell_type": "code",
   "execution_count": null,
   "metadata": {},
   "outputs": [],
   "source": []
  },
  {
   "cell_type": "markdown",
   "metadata": {},
   "source": [
    "Save"
   ]
  },
  {
   "cell_type": "code",
   "execution_count": 25,
   "metadata": {
    "ExecuteTime": {
     "end_time": "2020-07-29T15:21:53.146812Z",
     "start_time": "2020-07-29T15:21:53.143049Z"
    }
   },
   "outputs": [
    {
     "data": {
      "text/plain": [
       "Index(['dynamic_idx', 'static_idx', 'distance', 'angle', 'static_x',\n",
       "       'static_y', 'static_yaw', 'dynamic_x', 'dynamic_y', 'dynamic_yaw',\n",
       "       'pose_x', 'pose_y', 'pose_yaw'],\n",
       "      dtype='object')"
      ]
     },
     "execution_count": 25,
     "metadata": {},
     "output_type": "execute_result"
    }
   ],
   "source": [
    "df_pair.columns"
   ]
  },
  {
   "cell_type": "code",
   "execution_count": 26,
   "metadata": {
    "ExecuteTime": {
     "end_time": "2020-07-29T15:21:57.831977Z",
     "start_time": "2020-07-29T15:21:53.148247Z"
    }
   },
   "outputs": [],
   "source": [
    "static_path_list = []\n",
    "dynamic_path_list = []\n",
    "for idx, row in df_pair.iterrows():\n",
    "    static_path_list.append(df_static.iloc[int(row['static_idx'])]['path'])\n",
    "    dynamic_path_list.append(df_dynamic.iloc[int(row['dynamic_idx'])]['path'])\n",
    "    \n",
    "df_pair['static_path'] = static_path_list\n",
    "df_pair['dynamic_path'] = dynamic_path_list"
   ]
  },
  {
   "cell_type": "code",
   "execution_count": 27,
   "metadata": {
    "ExecuteTime": {
     "end_time": "2020-07-29T15:21:57.916686Z",
     "start_time": "2020-07-29T15:21:57.833577Z"
    }
   },
   "outputs": [],
   "source": [
    "fname = os.path.join(BASE_PATH, PAIR_FILE)\n",
    "\n",
    "df_pair[['static_path', 'dynamic_path', 'pose_x', 'pose_y', 'pose_yaw']].to_csv(fname, index=False)"
   ]
  },
  {
   "cell_type": "code",
   "execution_count": 28,
   "metadata": {
    "ExecuteTime": {
     "end_time": "2020-07-29T15:21:57.923374Z",
     "start_time": "2020-07-29T15:21:57.918324Z"
    }
   },
   "outputs": [
    {
     "data": {
      "text/plain": [
       "array(['/home/saby/Projects/ati/data/data/datasets/Carla/64beam-Data/dynamic/1/_out/1.ply',\n",
       "       '/home/saby/Projects/ati/data/data/datasets/Carla/64beam-Data/dynamic/1/_out/2.ply',\n",
       "       '/home/saby/Projects/ati/data/data/datasets/Carla/64beam-Data/dynamic/1/_out/3.ply',\n",
       "       ...,\n",
       "       '/home/saby/Projects/ati/data/data/datasets/Carla/64beam-Data/dynamic/6/_out/6290.ply',\n",
       "       '/home/saby/Projects/ati/data/data/datasets/Carla/64beam-Data/dynamic/6/_out/6291.ply',\n",
       "       '/home/saby/Projects/ati/data/data/datasets/Carla/64beam-Data/dynamic/6/_out/6292.ply'],\n",
       "      dtype=object)"
      ]
     },
     "execution_count": 28,
     "metadata": {},
     "output_type": "execute_result"
    }
   ],
   "source": [
    "df_pair['dynamic_path'].values"
   ]
  },
  {
   "cell_type": "code",
   "execution_count": 29,
   "metadata": {
    "ExecuteTime": {
     "end_time": "2020-07-29T15:21:57.929705Z",
     "start_time": "2020-07-29T15:21:57.925191Z"
    }
   },
   "outputs": [
    {
     "data": {
      "text/plain": [
       "'/home/saby/Projects/ati/data/data/datasets/Carla/64beam-Data/pair_with_pose.csv'"
      ]
     },
     "execution_count": 29,
     "metadata": {},
     "output_type": "execute_result"
    }
   ],
   "source": [
    "fname"
   ]
  },
  {
   "cell_type": "code",
   "execution_count": null,
   "metadata": {},
   "outputs": [],
   "source": []
  },
  {
   "cell_type": "code",
   "execution_count": null,
   "metadata": {},
   "outputs": [],
   "source": []
  },
  {
   "cell_type": "code",
   "execution_count": null,
   "metadata": {},
   "outputs": [],
   "source": []
  },
  {
   "cell_type": "code",
   "execution_count": null,
   "metadata": {},
   "outputs": [],
   "source": []
  },
  {
   "cell_type": "markdown",
   "metadata": {},
   "source": [
    "Visualize any random pair for verification"
   ]
  },
  {
   "cell_type": "code",
   "execution_count": 30,
   "metadata": {
    "ExecuteTime": {
     "end_time": "2020-07-29T15:21:58.265391Z",
     "start_time": "2020-07-29T15:21:57.931751Z"
    }
   },
   "outputs": [
    {
     "data": {
      "text/plain": [
       "'0.9.0.0'"
      ]
     },
     "execution_count": 30,
     "metadata": {},
     "output_type": "execute_result"
    }
   ],
   "source": [
    "import open3d as o3d\n",
    "import copy\n",
    "import transforms3d\n",
    "o3d.__version__"
   ]
  },
  {
   "cell_type": "code",
   "execution_count": 31,
   "metadata": {
    "ExecuteTime": {
     "end_time": "2020-07-29T15:21:58.274364Z",
     "start_time": "2020-07-29T15:21:58.267261Z"
    }
   },
   "outputs": [],
   "source": [
    "def pose2matrix(translation_list, rotation_angle_list):\n",
    "    trans_vec = np.array(translation_list)\n",
    "    rot_ang = [np.deg2rad(ang) for ang in rotation_angle_list ]\n",
    "    rot_mat = transforms3d.euler.euler2mat(rot_ang[0], rot_ang[1], rot_ang[2])\n",
    "    zoom = np.ones(3)\n",
    "    transform_mat = transforms3d.affines.compose(trans_vec, rot_mat, zoom)\n",
    "    return transform_mat\n",
    "\n",
    "def draw_registration_result(src_pcd, dst_pcd, x_pt, y_pt, theta):    \n",
    "    src_pcd_tmp = copy.deepcopy(src_pcd)\n",
    "    dst_pcd_tmp = copy.deepcopy(dst_pcd)\n",
    "    \n",
    "    src_pcd_tmp.paint_uniform_color([1, 0, 0])  # red source\n",
    "    dst_pcd_tmp.paint_uniform_color([0, 0, 1])  # blue target\n",
    "    \n",
    "    transform_mat = pose2matrix([x_pt, y_pt, 0], [0,0,theta])\n",
    "    dst_pcd_tmp.transform(transform_mat)\n",
    "    \n",
    "    visualizer = o3d.JVisualizer()\n",
    "    visualizer.add_geometry(src_pcd_tmp)\n",
    "    visualizer.add_geometry(dst_pcd_tmp)\n",
    "    visualizer.show()"
   ]
  },
  {
   "cell_type": "code",
   "execution_count": 33,
   "metadata": {
    "ExecuteTime": {
     "end_time": "2020-07-29T17:21:28.053719Z",
     "start_time": "2020-07-29T17:21:19.824562Z"
    }
   },
   "outputs": [
    {
     "name": "stdout",
     "output_type": "stream",
     "text": [
      "Distance (in m): 0.3676802231544385 \n",
      "Relative Angle (in deg): 0.014678955543786287\n"
     ]
    },
    {
     "data": {
      "application/vnd.jupyter.widget-view+json": {
       "model_id": "3587acc60be84283983c60288fdb12c7",
       "version_major": 2,
       "version_minor": 0
      },
      "text/plain": [
       "JVisualizer with 2 geometries"
      ]
     },
     "metadata": {},
     "output_type": "display_data"
    }
   ],
   "source": [
    "some_row = df_pair.iloc[np.random.choice(df_pair.shape[0])]\n",
    "# some_row = df_pair.iloc[2]\n",
    "\n",
    "print(\"Distance (in m): {} \\nRelative Angle (in deg): {}\".format(some_row['distance'], some_row['angle']))\n",
    "\n",
    "some_static_pcd_path = df_static.iloc[int(some_row['static_idx'])]['path']\n",
    "some_static_pcd = o3d.io.read_point_cloud(some_static_pcd_path)\n",
    "\n",
    "some_dynamic_pcd_path = df_dynamic.iloc[int(some_row['dynamic_idx'])]['path']\n",
    "some_dynamic_pcd = o3d.io.read_point_cloud(some_dynamic_pcd_path)\n",
    "\n",
    "draw_registration_result(some_static_pcd, some_dynamic_pcd, 0, 0, 0)\n",
    "# Static is red\n",
    "# dynamic is blue"
   ]
  },
  {
   "cell_type": "code",
   "execution_count": null,
   "metadata": {},
   "outputs": [],
   "source": []
  },
  {
   "cell_type": "code",
   "execution_count": null,
   "metadata": {},
   "outputs": [],
   "source": []
  }
 ],
 "metadata": {
  "kernelspec": {
   "display_name": "Python 3",
   "language": "python",
   "name": "python3"
  },
  "language_info": {
   "codemirror_mode": {
    "name": "ipython",
    "version": 3
   },
   "file_extension": ".py",
   "mimetype": "text/x-python",
   "name": "python",
   "nbconvert_exporter": "python",
   "pygments_lexer": "ipython3",
   "version": "3.6.10"
  },
  "toc": {
   "base_numbering": 1,
   "nav_menu": {},
   "number_sections": true,
   "sideBar": true,
   "skip_h1_title": false,
   "title_cell": "Table of Contents",
   "title_sidebar": "Contents",
   "toc_cell": false,
   "toc_position": {},
   "toc_section_display": true,
   "toc_window_display": false
  }
 },
 "nbformat": 4,
 "nbformat_minor": 2
}
