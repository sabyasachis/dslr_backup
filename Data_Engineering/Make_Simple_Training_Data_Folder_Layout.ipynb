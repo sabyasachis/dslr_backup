{
 "cells": [
  {
   "cell_type": "code",
   "execution_count": 1,
   "metadata": {
    "ExecuteTime": {
     "end_time": "2019-10-30T10:19:37.388589Z",
     "start_time": "2019-10-30T10:19:36.242884Z"
    }
   },
   "outputs": [],
   "source": [
    "import pandas as pd\n",
    "import numpy as np\n",
    "import gc\n",
    "import os\n",
    "import sys\n",
    "import matplotlib.pyplot as plt\n",
    "import open3d as o3d\n",
    "from tqdm import tqdm_notebook"
   ]
  },
  {
   "cell_type": "code",
   "execution_count": 2,
   "metadata": {
    "ExecuteTime": {
     "end_time": "2019-10-30T10:19:38.553977Z",
     "start_time": "2019-10-30T10:19:38.543290Z"
    }
   },
   "outputs": [],
   "source": [
    "BASE_PATH = \"/home/sabyasachi/Projects/ati/data/data/datasets/Carla\"\n",
    "INPUT_FOLDER = \"currentDataforCVPR\"\n",
    "# INPUT_FOLDER = \"oldDataforCVPR\"\n",
    "OUTPUT_FOLDER = \"CVPR_simple_layout\"\n",
    "STATIC_FOLDER = \"static\"\n",
    "DYNAMIC_FOLDER = \"dynamic\"\n",
    "PAIR_FILE = \"pair.csv\"\n",
    "\n",
    "INPUT_PATH = os.path.join(BASE_PATH, INPUT_FOLDER)\n",
    "OUTPUT_PATH = os.path.join(BASE_PATH, OUTPUT_FOLDER)\n",
    "\n",
    "OUTPUT_STATIC_PATH = os.path.join(BASE_PATH, OUTPUT_FOLDER, STATIC_FOLDER)\n",
    "OUTPUT_DYNAMIC_PATH = os.path.join(BASE_PATH, OUTPUT_FOLDER, DYNAMIC_FOLDER)\n",
    "\n",
    "if not os.path.exists(OUTPUT_STATIC_PATH):\n",
    "    print(\"No static path\")\n",
    "    \n",
    "if not os.path.exists(OUTPUT_DYNAMIC_PATH):\n",
    "    print(\"No dynamic path\")"
   ]
  },
  {
   "cell_type": "code",
   "execution_count": 3,
   "metadata": {
    "ExecuteTime": {
     "end_time": "2019-10-30T10:19:45.532559Z",
     "start_time": "2019-10-30T10:19:45.392219Z"
    }
   },
   "outputs": [
    {
     "name": "stdout",
     "output_type": "stream",
     "text": [
      "template_\n"
     ]
    },
    {
     "data": {
      "application/vnd.jupyter.widget-view+json": {
       "model_id": "45ba28db0eb54e7c95fa4b9b5f4bfce7",
       "version_major": 2,
       "version_minor": 0
      },
      "text/plain": [
       "HBox(children=(IntProgress(value=0, max=896), HTML(value='')))"
      ]
     },
     "metadata": {},
     "output_type": "display_data"
    },
    {
     "name": "stdout",
     "output_type": "stream",
     "text": [
      "\n"
     ]
    }
   ],
   "source": [
    "template_folder_list = ['template_', 'template__',\n",
    "                        'template0', 'template1', 'template2', 'template3', 'template4', 'template5']\n",
    "# template_folder_list = ['template0']\n",
    "\n",
    "output_file_idx = 0\n",
    "for template_folder in template_folder_list:\n",
    "    print(template_folder)\n",
    "    template_folder_path = os.path.join(INPUT_PATH, template_folder)\n",
    "    template_pair_path = os.path.join(INPUT_PATH, template_folder, PAIR_FILE)\n",
    "    df_pair = pd.read_csv(template_pair_path)\n",
    "    for idx, row in tqdm_notebook(df_pair.iterrows(), total=df_pair.shape[0]):\n",
    "        static_pcd = o3d.io.read_point_cloud(row['static_path'])\n",
    "        static_arr = np.asarray(static_pcd.points)\n",
    "        static_arr = np.array([np.array([x,y,-z]) for x,y,z in static_arr])\n",
    "        static_arr = np.concatenate((static_arr, np.zeros((static_arr.shape[0],1))), axis=1)\n",
    "        static_fname = str(output_file_idx) + \".bin\"\n",
    "        static_fpath = os.path.join(OUTPUT_STATIC_PATH, static_fname)\n",
    "#         static_arr.tofile(static_fpath)\n",
    "        \n",
    "        dynamic_pcd = o3d.io.read_point_cloud(row['dynamic_path'])\n",
    "        dynamic_arr = np.asarray(dynamic_pcd.points)\n",
    "        dynamic_arr = np.array([np.array([x,y,-z]) for x,y,z in dynamic_arr])\n",
    "        dynamic_arr = np.concatenate((dynamic_arr, np.zeros((dynamic_arr.shape[0],1))), axis=1)\n",
    "        dynamic_fname = str(output_file_idx) + \".bin\"\n",
    "        dynamic_fpath = os.path.join(OUTPUT_DYNAMIC_PATH, dynamic_fname)\n",
    "#         dynamic_arr.tofile(dynamic_fpath)\n",
    "        \n",
    "        output_file_idx += 1\n",
    "        break\n",
    "    break"
   ]
  },
  {
   "cell_type": "code",
   "execution_count": 4,
   "metadata": {
    "ExecuteTime": {
     "end_time": "2019-10-30T10:19:53.164290Z",
     "start_time": "2019-10-30T10:19:53.152191Z"
    }
   },
   "outputs": [
    {
     "data": {
      "text/plain": [
       "array([[ 2.4  , -0.45 ,  0.43 ,  0.   ],\n",
       "       [ 2.41 , -0.4  ,  0.43 ,  0.   ],\n",
       "       [ 2.47 , -0.36 ,  0.44 ,  0.   ],\n",
       "       ...,\n",
       "       [ 2.85 ,  3.02 , -2.39 ,  0.   ],\n",
       "       [ 2.78 ,  3.08 , -2.39 ,  0.   ],\n",
       "       [ 2.72 ,  3.14 , -2.396,  0.   ]])"
      ]
     },
     "execution_count": 4,
     "metadata": {},
     "output_type": "execute_result"
    }
   ],
   "source": [
    "static_arr"
   ]
  },
  {
   "cell_type": "code",
   "execution_count": 5,
   "metadata": {
    "ExecuteTime": {
     "end_time": "2019-10-30T10:19:58.049251Z",
     "start_time": "2019-10-30T10:19:58.041361Z"
    }
   },
   "outputs": [
    {
     "data": {
      "text/plain": [
       "array([[ 2.44, -0.45,  0.45,  0.  ],\n",
       "       [ 2.4 , -0.39,  0.44,  0.  ],\n",
       "       [ 2.42, -0.35,  0.44,  0.  ],\n",
       "       ...,\n",
       "       [ 3.4 ,  2.21, -2.39,  0.  ],\n",
       "       [ 3.35,  2.27, -2.39,  0.  ],\n",
       "       [ 3.3 ,  2.34, -2.39,  0.  ]])"
      ]
     },
     "execution_count": 5,
     "metadata": {},
     "output_type": "execute_result"
    }
   ],
   "source": [
    "dynamic_arr"
   ]
  },
  {
   "cell_type": "code",
   "execution_count": 8,
   "metadata": {
    "ExecuteTime": {
     "end_time": "2019-10-30T10:21:46.966752Z",
     "start_time": "2019-10-30T10:21:46.960965Z"
    }
   },
   "outputs": [],
   "source": [
    "np.save(\"dynamic_0.pickle\", dynamic_arr)"
   ]
  },
  {
   "cell_type": "code",
   "execution_count": 9,
   "metadata": {
    "ExecuteTime": {
     "end_time": "2019-10-30T10:22:55.059222Z",
     "start_time": "2019-10-30T10:22:55.051776Z"
    }
   },
   "outputs": [
    {
     "data": {
      "text/plain": [
       "'/home/sabyasachi/Projects/ati/data/data/datasets/Carla/currentDataforCVPR/template_/static/1/_out/1219.ply'"
      ]
     },
     "execution_count": 9,
     "metadata": {},
     "output_type": "execute_result"
    }
   ],
   "source": [
    "row['static_path']"
   ]
  },
  {
   "cell_type": "code",
   "execution_count": 10,
   "metadata": {
    "ExecuteTime": {
     "end_time": "2019-10-30T10:23:06.519378Z",
     "start_time": "2019-10-30T10:23:06.512438Z"
    }
   },
   "outputs": [
    {
     "data": {
      "text/plain": [
       "'/home/sabyasachi/Projects/ati/data/data/datasets/Carla/currentDataforCVPR/template_/dynamic/set1/_out/586.ply'"
      ]
     },
     "execution_count": 10,
     "metadata": {},
     "output_type": "execute_result"
    }
   ],
   "source": [
    "row['dynamic_path']"
   ]
  },
  {
   "cell_type": "code",
   "execution_count": 11,
   "metadata": {
    "ExecuteTime": {
     "end_time": "2019-10-30T10:23:55.404722Z",
     "start_time": "2019-10-30T10:23:55.275787Z"
    }
   },
   "outputs": [],
   "source": [
    "! cp /home/sabyasachi/Projects/ati/data/data/datasets/Carla/currentDataforCVPR/template_/static/1/_out/1219.ply ./static_0.ply"
   ]
  },
  {
   "cell_type": "code",
   "execution_count": 12,
   "metadata": {
    "ExecuteTime": {
     "end_time": "2019-10-30T10:24:15.344838Z",
     "start_time": "2019-10-30T10:24:15.218970Z"
    }
   },
   "outputs": [],
   "source": [
    "! cp /home/sabyasachi/Projects/ati/data/data/datasets/Carla/currentDataforCVPR/template_/dynamic/set1/_out/586.ply ./dynamic_0.ply"
   ]
  },
  {
   "cell_type": "code",
   "execution_count": null,
   "metadata": {},
   "outputs": [],
   "source": []
  }
 ],
 "metadata": {
  "kernelspec": {
   "display_name": "Python 3",
   "language": "python",
   "name": "python3"
  },
  "language_info": {
   "codemirror_mode": {
    "name": "ipython",
    "version": 3
   },
   "file_extension": ".py",
   "mimetype": "text/x-python",
   "name": "python",
   "nbconvert_exporter": "python",
   "pygments_lexer": "ipython3",
   "version": "3.7.3"
  },
  "toc": {
   "base_numbering": 1,
   "nav_menu": {},
   "number_sections": true,
   "sideBar": true,
   "skip_h1_title": false,
   "title_cell": "Table of Contents",
   "title_sidebar": "Contents",
   "toc_cell": false,
   "toc_position": {},
   "toc_section_display": true,
   "toc_window_display": false
  }
 },
 "nbformat": 4,
 "nbformat_minor": 2
}
