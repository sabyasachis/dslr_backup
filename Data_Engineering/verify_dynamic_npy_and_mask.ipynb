{
 "cells": [
  {
   "cell_type": "code",
   "execution_count": 1,
   "metadata": {
    "ExecuteTime": {
     "end_time": "2020-09-05T10:25:44.615917Z",
     "start_time": "2020-09-05T10:25:43.978482Z"
    }
   },
   "outputs": [],
   "source": [
    "import numpy as np\n",
    "import open3d as o3d\n",
    "import os\n",
    "import matplotlib.pyplot as plt"
   ]
  },
  {
   "cell_type": "code",
   "execution_count": 2,
   "metadata": {
    "ExecuteTime": {
     "end_time": "2020-09-05T10:25:45.296567Z",
     "start_time": "2020-09-05T10:25:45.287201Z"
    }
   },
   "outputs": [],
   "source": [
    "%matplotlib notebook"
   ]
  },
  {
   "cell_type": "code",
   "execution_count": 3,
   "metadata": {
    "ExecuteTime": {
     "end_time": "2020-09-05T10:25:45.790112Z",
     "start_time": "2020-09-05T10:25:45.783678Z"
    }
   },
   "outputs": [],
   "source": [
    "# BASE_PATH = \"/home/saby/Projects/ati/data/data/datasets/Carla/64beam-Data/pair_transform_dynseg_all/emptycities_preprocess/test\"\n",
    "BASE_PATH = \"/home/saby/Projects/ati/data/data/datasets/Carla/64beam-Data/pair_transform_dynseg_all/emptycities_preprocess/test/\"\n",
    "DYNAMIC_FOLDER = \"d\"\n",
    "MASK_FOLDER = \"m\"\n",
    "# STATIC_FOLDER = \"static_preprocessed\"\n",
    "# MASK_IMG_FOLDER = \"m_img_40_512\"\n",
    "\n",
    "DYNAMIC_PATH = os.path.join(BASE_PATH, DYNAMIC_FOLDER, \"emptycities_testd15.npy\")\n",
    "MASK_PATH = os.path.join(BASE_PATH, MASK_FOLDER, \"emptycities_testm15.npy\")\n",
    "# STATIC_PATH = os.path.join(BASE_PATH, STATIC_FOLDER, \"15.npy\")\n",
    "# MASK_IMG_PATH = os.path.join(BASE_PATH, MASK_IMG_FOLDER)"
   ]
  },
  {
   "cell_type": "code",
   "execution_count": 4,
   "metadata": {
    "ExecuteTime": {
     "end_time": "2020-09-05T10:25:47.393437Z",
     "start_time": "2020-09-05T10:25:47.051103Z"
    }
   },
   "outputs": [],
   "source": [
    "dynamic_arr = np.load(DYNAMIC_PATH)\n",
    "# static_arr  = np.load(STATIC_PATH)\n",
    "mask_arr    = np.load(MASK_PATH)[:,:,:,::2]"
   ]
  },
  {
   "cell_type": "code",
   "execution_count": 5,
   "metadata": {
    "ExecuteTime": {
     "end_time": "2020-09-05T10:25:50.034505Z",
     "start_time": "2020-09-05T10:25:50.027652Z"
    }
   },
   "outputs": [
    {
     "data": {
      "text/plain": [
       "((1274, 2, 64, 1024), (1274, 2, 64, 512))"
      ]
     },
     "execution_count": 5,
     "metadata": {},
     "output_type": "execute_result"
    }
   ],
   "source": [
    "dynamic_arr.shape, mask_arr.shape#, static_arr.shape,"
   ]
  },
  {
   "cell_type": "code",
   "execution_count": 6,
   "metadata": {
    "ExecuteTime": {
     "end_time": "2020-09-05T10:25:50.378726Z",
     "start_time": "2020-09-05T10:25:50.364307Z"
    }
   },
   "outputs": [],
   "source": [
    "def draw_pcd(pcd, where='mat_3d'):\n",
    "    if where is 'opn_nb':\n",
    "        visualizer = o3d.JVisualizer()\n",
    "        visualizer.add_geometry(pcd)\n",
    "        visualizer.show()\n",
    "    elif where is 'opn_view':\n",
    "        o3d.visualization.draw_geometries([pcd], width=1280, height=800)\n",
    "    elif where is 'mat_3d':\n",
    "        plt.figure()\n",
    "        pts = np.asarray(pcd.points)\n",
    "        plt.scatter(pts[:,0], pts[:,1], pts[:,2])\n",
    "        plt.grid()\n",
    "        plt.show()\n",
    "    elif where is 'mat_2d':\n",
    "        plt.figure()\n",
    "        pts = np.asarray(pcd.points)\n",
    "        plt.scatter(pts[:,0], pts[:,1])\n",
    "        plt.grid()\n",
    "        plt.show()\n",
    "        \n",
    "def from_polar_np(velo):\n",
    "    angles = np.linspace(0, np.pi * 2, velo.shape[-1])\n",
    "    dist, z = velo[:, 0], velo[:, 1]\n",
    "    x = np.cos(angles) * dist\n",
    "    y = np.sin(angles) * dist\n",
    "    out = np.stack([x,y,z], axis=1)\n",
    "    return out.astype('float32')"
   ]
  },
  {
   "cell_type": "code",
   "execution_count": 7,
   "metadata": {
    "ExecuteTime": {
     "end_time": "2020-09-05T10:25:53.260400Z",
     "start_time": "2020-09-05T10:25:50.772667Z"
    }
   },
   "outputs": [
    {
     "data": {
      "text/plain": [
       "(1274, 3, 64, 1024)"
      ]
     },
     "execution_count": 7,
     "metadata": {},
     "output_type": "execute_result"
    }
   ],
   "source": [
    "dynamic_3d_arr = from_polar_np(dynamic_arr)\n",
    "# static_3d_arr = from_polar_np(static_arr)\n",
    "dynamic_3d_arr.shape"
   ]
  },
  {
   "cell_type": "code",
   "execution_count": 8,
   "metadata": {
    "ExecuteTime": {
     "end_time": "2020-09-05T10:25:53.266282Z",
     "start_time": "2020-09-05T10:25:53.262030Z"
    }
   },
   "outputs": [],
   "source": [
    "def get_pcd(idx, pcd_arr, mask_arr=None):\n",
    "    this_arr = pcd_arr[idx].reshape(3,-1).T\n",
    "    this_pcd = o3d.geometry.PointCloud()\n",
    "    this_pcd.points = o3d.utility.Vector3dVector(this_arr)\n",
    "\n",
    "    if mask_arr is not None:\n",
    "        single_clr_arr = mask_arr[idx,1].reshape(1,-1)\n",
    "        clr_arr = np.concatenate([single_clr_arr, np.zeros(single_clr_arr.shape), np.zeros(single_clr_arr.shape)],axis=0).T\n",
    "        this_pcd.colors = o3d.utility.Vector3dVector(clr_arr)\n",
    "    return this_pcd"
   ]
  },
  {
   "cell_type": "code",
   "execution_count": 9,
   "metadata": {
    "ExecuteTime": {
     "end_time": "2020-09-05T10:25:54.387161Z",
     "start_time": "2020-09-05T10:25:53.267807Z"
    }
   },
   "outputs": [
    {
     "data": {
      "application/vnd.jupyter.widget-view+json": {
       "model_id": "d711d214a3ac4ffba408248f8e2ed526",
       "version_major": 2,
       "version_minor": 0
      },
      "text/plain": [
       "JVisualizer with 1 geometries"
      ]
     },
     "metadata": {},
     "output_type": "display_data"
    }
   ],
   "source": [
    "draw_pcd(get_pcd(200, dynamic_3d_arr, mask_arr), where='opn_nb')"
   ]
  },
  {
   "cell_type": "code",
   "execution_count": null,
   "metadata": {},
   "outputs": [],
   "source": []
  },
  {
   "cell_type": "code",
   "execution_count": null,
   "metadata": {},
   "outputs": [],
   "source": []
  }
 ],
 "metadata": {
  "kernelspec": {
   "display_name": "Python 3",
   "language": "python",
   "name": "python3"
  },
  "language_info": {
   "codemirror_mode": {
    "name": "ipython",
    "version": 3
   },
   "file_extension": ".py",
   "mimetype": "text/x-python",
   "name": "python",
   "nbconvert_exporter": "python",
   "pygments_lexer": "ipython3",
   "version": "3.6.10"
  },
  "toc": {
   "base_numbering": 1,
   "nav_menu": {},
   "number_sections": true,
   "sideBar": true,
   "skip_h1_title": false,
   "title_cell": "Table of Contents",
   "title_sidebar": "Contents",
   "toc_cell": false,
   "toc_position": {},
   "toc_section_display": true,
   "toc_window_display": false
  }
 },
 "nbformat": 4,
 "nbformat_minor": 4
}
