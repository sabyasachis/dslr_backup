{
 "cells": [
  {
   "cell_type": "code",
   "execution_count": 1,
   "metadata": {
    "ExecuteTime": {
     "end_time": "2020-02-20T10:42:14.043956Z",
     "start_time": "2020-02-20T10:42:14.032629Z"
    }
   },
   "outputs": [],
   "source": [
    "import subprocess\n",
    "import os\n",
    "from tqdm import tqdm_notebook\n",
    "import shutil"
   ]
  },
  {
   "cell_type": "code",
   "execution_count": 2,
   "metadata": {
    "ExecuteTime": {
     "end_time": "2020-02-20T10:42:14.050860Z",
     "start_time": "2020-02-20T10:42:14.046311Z"
    }
   },
   "outputs": [],
   "source": [
    "PATH = \"/home/saby/Projects/ati/data/data/datasets/Carla/16beam-Data/small_map\"\n",
    "NEW_DYNAMIC_FOLDER = \"dynamic\"\n",
    "OLD_DYNAMIC_FOLDERS = [\"dynamic_high\"]#, \"dynamic_med\", \"dynamic_ped\"]\n",
    "\n",
    "NEW_DYNAMIC_PATH = os.path.join(PATH, NEW_DYNAMIC_FOLDER)"
   ]
  },
  {
   "cell_type": "code",
   "execution_count": 3,
   "metadata": {
    "ExecuteTime": {
     "end_time": "2020-02-20T10:42:14.076722Z",
     "start_time": "2020-02-20T10:42:14.052867Z"
    }
   },
   "outputs": [],
   "source": [
    "if not os.path.exists(NEW_DYNAMIC_PATH):\n",
    "    os.makedirs(NEW_DYNAMIC_PATH)\n",
    "else:\n",
    "    shutil.rmtree(NEW_DYNAMIC_PATH)\n",
    "    os.makedirs(NEW_DYNAMIC_PATH)"
   ]
  },
  {
   "cell_type": "code",
   "execution_count": 4,
   "metadata": {
    "ExecuteTime": {
     "end_time": "2020-02-20T10:42:14.189946Z",
     "start_time": "2020-02-20T10:42:14.078392Z"
    }
   },
   "outputs": [
    {
     "name": "stdout",
     "output_type": "stream",
     "text": [
      "('/home/saby/Projects/ati/data/data/datasets/Carla/16beam-Data/small_map/dynamic_high/10high', '/home/saby/Projects/ati/data/data/datasets/Carla/16beam-Data/small_map/dynamic/1')\n",
      "('/home/saby/Projects/ati/data/data/datasets/Carla/16beam-Data/small_map/dynamic_high/11high', '/home/saby/Projects/ati/data/data/datasets/Carla/16beam-Data/small_map/dynamic/2')\n",
      "('/home/saby/Projects/ati/data/data/datasets/Carla/16beam-Data/small_map/dynamic_high/12high', '/home/saby/Projects/ati/data/data/datasets/Carla/16beam-Data/small_map/dynamic/3')\n",
      "('/home/saby/Projects/ati/data/data/datasets/Carla/16beam-Data/small_map/dynamic_high/13high', '/home/saby/Projects/ati/data/data/datasets/Carla/16beam-Data/small_map/dynamic/4')\n",
      "('/home/saby/Projects/ati/data/data/datasets/Carla/16beam-Data/small_map/dynamic_high/14high', '/home/saby/Projects/ati/data/data/datasets/Carla/16beam-Data/small_map/dynamic/5')\n",
      "('/home/saby/Projects/ati/data/data/datasets/Carla/16beam-Data/small_map/dynamic_high/16high', '/home/saby/Projects/ati/data/data/datasets/Carla/16beam-Data/small_map/dynamic/6')\n",
      "('/home/saby/Projects/ati/data/data/datasets/Carla/16beam-Data/small_map/dynamic_high/18high', '/home/saby/Projects/ati/data/data/datasets/Carla/16beam-Data/small_map/dynamic/7')\n",
      "('/home/saby/Projects/ati/data/data/datasets/Carla/16beam-Data/small_map/dynamic_high/1high', '/home/saby/Projects/ati/data/data/datasets/Carla/16beam-Data/small_map/dynamic/8')\n",
      "('/home/saby/Projects/ati/data/data/datasets/Carla/16beam-Data/small_map/dynamic_high/20high', '/home/saby/Projects/ati/data/data/datasets/Carla/16beam-Data/small_map/dynamic/9')\n",
      "('/home/saby/Projects/ati/data/data/datasets/Carla/16beam-Data/small_map/dynamic_high/23high', '/home/saby/Projects/ati/data/data/datasets/Carla/16beam-Data/small_map/dynamic/10')\n",
      "('/home/saby/Projects/ati/data/data/datasets/Carla/16beam-Data/small_map/dynamic_high/24high', '/home/saby/Projects/ati/data/data/datasets/Carla/16beam-Data/small_map/dynamic/11')\n",
      "('/home/saby/Projects/ati/data/data/datasets/Carla/16beam-Data/small_map/dynamic_high/25high', '/home/saby/Projects/ati/data/data/datasets/Carla/16beam-Data/small_map/dynamic/12')\n",
      "('/home/saby/Projects/ati/data/data/datasets/Carla/16beam-Data/small_map/dynamic_high/26high', '/home/saby/Projects/ati/data/data/datasets/Carla/16beam-Data/small_map/dynamic/13')\n",
      "('/home/saby/Projects/ati/data/data/datasets/Carla/16beam-Data/small_map/dynamic_high/27high', '/home/saby/Projects/ati/data/data/datasets/Carla/16beam-Data/small_map/dynamic/14')\n",
      "('/home/saby/Projects/ati/data/data/datasets/Carla/16beam-Data/small_map/dynamic_high/28high', '/home/saby/Projects/ati/data/data/datasets/Carla/16beam-Data/small_map/dynamic/15')\n",
      "('/home/saby/Projects/ati/data/data/datasets/Carla/16beam-Data/small_map/dynamic_high/2high', '/home/saby/Projects/ati/data/data/datasets/Carla/16beam-Data/small_map/dynamic/16')\n",
      "('/home/saby/Projects/ati/data/data/datasets/Carla/16beam-Data/small_map/dynamic_high/3high', '/home/saby/Projects/ati/data/data/datasets/Carla/16beam-Data/small_map/dynamic/17')\n",
      "('/home/saby/Projects/ati/data/data/datasets/Carla/16beam-Data/small_map/dynamic_high/4high', '/home/saby/Projects/ati/data/data/datasets/Carla/16beam-Data/small_map/dynamic/18')\n",
      "('/home/saby/Projects/ati/data/data/datasets/Carla/16beam-Data/small_map/dynamic_high/5high', '/home/saby/Projects/ati/data/data/datasets/Carla/16beam-Data/small_map/dynamic/19')\n",
      "('/home/saby/Projects/ati/data/data/datasets/Carla/16beam-Data/small_map/dynamic_high/6high', '/home/saby/Projects/ati/data/data/datasets/Carla/16beam-Data/small_map/dynamic/20')\n",
      "('/home/saby/Projects/ati/data/data/datasets/Carla/16beam-Data/small_map/dynamic_high/7high', '/home/saby/Projects/ati/data/data/datasets/Carla/16beam-Data/small_map/dynamic/21')\n",
      "('/home/saby/Projects/ati/data/data/datasets/Carla/16beam-Data/small_map/dynamic_high/8high', '/home/saby/Projects/ati/data/data/datasets/Carla/16beam-Data/small_map/dynamic/22')\n",
      "('/home/saby/Projects/ati/data/data/datasets/Carla/16beam-Data/small_map/dynamic_high/9high', '/home/saby/Projects/ati/data/data/datasets/Carla/16beam-Data/small_map/dynamic/23')\n",
      "('/home/saby/Projects/ati/data/data/datasets/Carla/16beam-Data/small_map/dynamic_high/dynamic_high_fullmap', '/home/saby/Projects/ati/data/data/datasets/Carla/16beam-Data/small_map/dynamic/24')\n"
     ]
    }
   ],
   "source": [
    "folder_idx = 1\n",
    "for old_folder in sorted(OLD_DYNAMIC_FOLDERS):\n",
    "    old_folder_path = os.path.join(PATH, old_folder)\n",
    "    for sub_folder in sorted(os.listdir(old_folder_path)):\n",
    "        src_folder = os.path.join(old_folder_path, sub_folder)\n",
    "        dst_link   = os.path.join(NEW_DYNAMIC_PATH, str(folder_idx))\n",
    "        subprocess.run([\"ln\", \"-s\", src_folder, dst_link])\n",
    "        print((src_folder, dst_link))\n",
    "        folder_idx += 1"
   ]
  },
  {
   "cell_type": "code",
   "execution_count": null,
   "metadata": {},
   "outputs": [],
   "source": []
  },
  {
   "cell_type": "code",
   "execution_count": null,
   "metadata": {},
   "outputs": [],
   "source": []
  },
  {
   "cell_type": "code",
   "execution_count": null,
   "metadata": {},
   "outputs": [],
   "source": []
  }
 ],
 "metadata": {
  "kernelspec": {
   "display_name": "Python 3",
   "language": "python",
   "name": "python3"
  },
  "language_info": {
   "codemirror_mode": {
    "name": "ipython",
    "version": 3
   },
   "file_extension": ".py",
   "mimetype": "text/x-python",
   "name": "python",
   "nbconvert_exporter": "python",
   "pygments_lexer": "ipython3",
   "version": "3.6.10"
  },
  "toc": {
   "base_numbering": 1,
   "nav_menu": {},
   "number_sections": true,
   "sideBar": true,
   "skip_h1_title": false,
   "title_cell": "Table of Contents",
   "title_sidebar": "Contents",
   "toc_cell": false,
   "toc_position": {},
   "toc_section_display": true,
   "toc_window_display": false
  }
 },
 "nbformat": 4,
 "nbformat_minor": 2
}
