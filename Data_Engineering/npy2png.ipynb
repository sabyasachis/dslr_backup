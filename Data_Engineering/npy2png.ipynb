{
 "cells": [
  {
   "cell_type": "code",
   "execution_count": 1,
   "metadata": {
    "ExecuteTime": {
     "end_time": "2020-09-05T12:32:19.818182Z",
     "start_time": "2020-09-05T12:32:19.166082Z"
    }
   },
   "outputs": [],
   "source": [
    "import numpy as np\n",
    "import open3d as o3d\n",
    "from tqdm import tqdm_notebook\n",
    "import os, sys, shutil\n",
    "import matplotlib.pyplot as plt"
   ]
  },
  {
   "cell_type": "code",
   "execution_count": 2,
   "metadata": {
    "ExecuteTime": {
     "end_time": "2020-09-05T12:32:19.850158Z",
     "start_time": "2020-09-05T12:32:19.820104Z"
    }
   },
   "outputs": [],
   "source": [
    "BASE_PATH = \"/home/saby/Projects/ati/data/data/datasets/Carla/64beam-Data/pair_transform_dynseg_all/emptycities_preprocess/test/\"\n",
    "\n",
    "FOLDER = \"d\"\n",
    "OUTPUT_FOLDER = \"d_img_40_512\"\n",
    "IS_MASK = False\n",
    "\n",
    "# STATIC_PATH  = os.path.join(BASE_PATH, STATIC_FOLDER)\n",
    "FOLDER_PATH = os.path.join(BASE_PATH, FOLDER)\n",
    "OUTPUT_FOLDER_PATH = os.path.join(BASE_PATH, OUTPUT_FOLDER)\n",
    "if not os.path.exists(OUTPUT_FOLDER_PATH):\n",
    "    os.makedirs(OUTPUT_FOLDER_PATH)\n",
    "else:\n",
    "    shutil.rmtree(OUTPUT_FOLDER_PATH)\n",
    "    os.makedirs(OUTPUT_FOLDER_PATH)"
   ]
  },
  {
   "cell_type": "code",
   "execution_count": 3,
   "metadata": {
    "ExecuteTime": {
     "end_time": "2020-09-05T12:32:19.872389Z",
     "start_time": "2020-09-05T12:32:19.853071Z"
    },
    "code_folding": [
     0
    ]
   },
   "outputs": [],
   "source": [
    "def from_polar_np(velo):\n",
    "    angles = np.linspace(0, np.pi * 2, velo.shape[-1])\n",
    "    dist, z = velo[:, 0], velo[:, 1]\n",
    "    x = np.cos(angles) * dist\n",
    "    y = np.sin(angles) * dist\n",
    "    out = np.stack([x,y,z], axis=1)\n",
    "    return out.astype('float32')\n",
    "\n",
    "def linear_transform(sample_img, A=-1, B=1, a=0, b=255):\n",
    "    mul_fact = (b-a)/(B-A)\n",
    "    sub_fact = A\n",
    "    add_fact = a\n",
    "    out_img = (sample_img-sub_fact)*mul_fact + add_fact\n",
    "    return out_img\n",
    "\n",
    "def get_rgb_from_img(img, is_mask=IS_MASK):\n",
    "    shp = img.shape\n",
    "    if not is_mask:\n",
    "        img = img.reshape(1, shp[0], shp[1], shp[2])\n",
    "        frame_untransformed = from_polar_np(img)[0]\n",
    "    else:\n",
    "        replicate = img[1].reshape(1,shp[1], shp[2]) # dim 1 is dynamic in the mask npy\n",
    "        frame_untransformed = np.concatenate([replicate, replicate, replicate])\n",
    "        \n",
    "    frame = linear_transform(frame_untransformed)\n",
    "    frame_img = frame.transpose(1,2,0).astype(\"uint8\")\n",
    "    return frame_img\n",
    "\n",
    "def draw_pcd(pcd, where='mat_3d'):\n",
    "    if where is 'opn_nb':\n",
    "        visualizer = o3d.JVisualizer()\n",
    "        visualizer.add_geometry(pcd)\n",
    "        visualizer.show()\n",
    "    elif where is 'opn_view':\n",
    "        o3d.visualization.draw_geometries([pcd], width=1280, height=800)\n",
    "    elif where is 'mat_3d':\n",
    "        plt.figure()\n",
    "        pts = np.asarray(pcd.points)\n",
    "        plt.scatter(pts[:,0], pts[:,1], pts[:,2])\n",
    "        plt.grid()\n",
    "        plt.show()\n",
    "    elif where is 'mat_2d':\n",
    "        plt.figure()\n",
    "        pts = np.asarray(pcd.points)\n",
    "        plt.scatter(pts[:,0], pts[:,1])\n",
    "        plt.grid()\n",
    "        plt.show()\n",
    "        \n",
    "def getint(name):\n",
    "    try:\n",
    "        return int(name.split('.')[0])\n",
    "    except Exception as e:\n",
    "        print(\"Error occured while trying to read {}\".format(name))\n",
    "    return None"
   ]
  },
  {
   "cell_type": "code",
   "execution_count": null,
   "metadata": {},
   "outputs": [],
   "source": []
  },
  {
   "cell_type": "raw",
   "metadata": {
    "ExecuteTime": {
     "end_time": "2020-08-08T21:32:59.183439Z",
     "start_time": "2020-08-08T21:32:54.036108Z"
    }
   },
   "source": [
    "npy_file = os.path.join(STATIC_PATH, \"0.npy\")\n",
    "npy_arr = np.load(npy_file)\n",
    "npy_arr[:,:,5:45,::2].shape"
   ]
  },
  {
   "cell_type": "raw",
   "metadata": {
    "ExecuteTime": {
     "end_time": "2020-08-08T21:34:16.582945Z",
     "start_time": "2020-08-08T21:34:16.551133Z"
    }
   },
   "source": [
    "draw_pcd(get_pcd_from_img(npy_arr[0][:,5:45,::2][:,::5,::4]), where='opn_nb')"
   ]
  },
  {
   "cell_type": "code",
   "execution_count": 4,
   "metadata": {
    "ExecuteTime": {
     "end_time": "2020-09-05T12:32:25.060616Z",
     "start_time": "2020-09-05T12:32:19.874115Z"
    }
   },
   "outputs": [
    {
     "name": "stdout",
     "output_type": "stream",
     "text": [
      "Error occured while trying to read emptycities_testd15.npy\n",
      "emptycities_testd15.npy\n"
     ]
    },
    {
     "name": "stderr",
     "output_type": "stream",
     "text": [
      "/home/saby/anaconda3/envs/ati/lib/python3.6/site-packages/ipykernel_launcher.py:14: TqdmDeprecationWarning: This function will be removed in tqdm==5.0.0\n",
      "Please use `tqdm.notebook.tqdm` instead of `tqdm.tqdm_notebook`\n",
      "  \n"
     ]
    },
    {
     "data": {
      "application/vnd.jupyter.widget-view+json": {
       "model_id": "87a0316751da4d8c931c40327cb9650d",
       "version_major": 2,
       "version_minor": 0
      },
      "text/plain": [
       "HBox(children=(FloatProgress(value=0.0, max=1274.0), HTML(value='')))"
      ]
     },
     "metadata": {},
     "output_type": "display_data"
    },
    {
     "name": "stdout",
     "output_type": "stream",
     "text": [
      "\n"
     ]
    }
   ],
   "source": [
    "\n",
    "for npy_file in sorted(os.listdir(FOLDER_PATH), key=getint):\n",
    "    print(npy_file)\n",
    "    npy_path = os.path.join(FOLDER_PATH, npy_file)\n",
    "    npy_arr = np.load(npy_path)\n",
    "    \n",
    "    file_idx = 1\n",
    "    OUTPUT_sub_folder_PATH = os.path.join(OUTPUT_FOLDER_PATH, npy_file.split(\".\")[0])\n",
    "    if not os.path.exists(OUTPUT_sub_folder_PATH):\n",
    "        os.makedirs(OUTPUT_sub_folder_PATH)\n",
    "    else:\n",
    "        shutil.rmtree(OUTPUT_sub_folder_PATH)\n",
    "        os.makedirs(OUTPUT_sub_folder_PATH)\n",
    "    \n",
    "    for arr in tqdm_notebook(npy_arr):\n",
    "        this_arr = get_rgb_from_img(arr[:,5:45,::2])\n",
    "        \n",
    "        png_file = str(file_idx) + \".png\"\n",
    "        png_path = os.path.join(OUTPUT_sub_folder_PATH, png_file)\n",
    "        plt.imsave(png_path, this_arr)\n",
    "        \n",
    "        file_idx += 1"
   ]
  },
  {
   "cell_type": "code",
   "execution_count": 5,
   "metadata": {
    "ExecuteTime": {
     "end_time": "2020-09-05T12:32:25.066517Z",
     "start_time": "2020-09-05T12:32:25.062219Z"
    }
   },
   "outputs": [
    {
     "data": {
      "text/plain": [
       "(40, 512, 3)"
      ]
     },
     "execution_count": 5,
     "metadata": {},
     "output_type": "execute_result"
    }
   ],
   "source": [
    "this_arr.shape"
   ]
  },
  {
   "cell_type": "code",
   "execution_count": null,
   "metadata": {},
   "outputs": [],
   "source": []
  }
 ],
 "metadata": {
  "kernelspec": {
   "display_name": "Python 3",
   "language": "python",
   "name": "python3"
  },
  "language_info": {
   "codemirror_mode": {
    "name": "ipython",
    "version": 3
   },
   "file_extension": ".py",
   "mimetype": "text/x-python",
   "name": "python",
   "nbconvert_exporter": "python",
   "pygments_lexer": "ipython3",
   "version": "3.6.10"
  },
  "toc": {
   "base_numbering": 1,
   "nav_menu": {},
   "number_sections": true,
   "sideBar": true,
   "skip_h1_title": false,
   "title_cell": "Table of Contents",
   "title_sidebar": "Contents",
   "toc_cell": false,
   "toc_position": {},
   "toc_section_display": true,
   "toc_window_display": false
  }
 },
 "nbformat": 4,
 "nbformat_minor": 4
}
