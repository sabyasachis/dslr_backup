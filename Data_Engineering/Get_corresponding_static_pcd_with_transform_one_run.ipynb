{
 "cells": [
  {
   "cell_type": "code",
   "execution_count": 1,
   "metadata": {
    "ExecuteTime": {
     "end_time": "2020-02-16T18:39:20.785360Z",
     "start_time": "2020-02-16T18:39:19.929598Z"
    }
   },
   "outputs": [],
   "source": [
    "import pandas as pd\n",
    "import numpy as np\n",
    "import gc\n",
    "import os, shutil\n",
    "import sys\n",
    "import matplotlib.pyplot as plt\n",
    "import open3d as o3d\n",
    "import transforms3d\n",
    "from tqdm import tqdm_notebook\n",
    "import copy"
   ]
  },
  {
   "cell_type": "code",
   "execution_count": 2,
   "metadata": {
    "ExecuteTime": {
     "end_time": "2020-02-16T18:39:20.789766Z",
     "start_time": "2020-02-16T18:39:20.787167Z"
    }
   },
   "outputs": [],
   "source": [
    "OUTPUT_FOLDER = \"6\"\n",
    "DYNAMICSUBFOLDER = \"6\""
   ]
  },
  {
   "cell_type": "code",
   "execution_count": 3,
   "metadata": {
    "ExecuteTime": {
     "end_time": "2020-02-16T18:39:20.820441Z",
     "start_time": "2020-02-16T18:39:20.792689Z"
    }
   },
   "outputs": [],
   "source": [
    "BASE_PATH = \"/home/saby/Projects/ati/data/data/datasets/Carla/64beam-Data/\"\n",
    "\n",
    "STATIC_FOLDER = \"corr_static\"\n",
    "DYNAMIC_FOLDER = \"dynamic\"\n",
    "PAIR_FILE = \"pair_with_pose_transform_dynseg_all.csv\"\n",
    "\n",
    "\n",
    "# INPUT_PATH = BASE_PATH\n",
    "OUTPUT_PATH = os.path.join(BASE_PATH, OUTPUT_FOLDER)\n",
    "\n",
    "OUTPUT_STATIC_PATH = os.path.join(OUTPUT_PATH, STATIC_FOLDER)\n",
    "OUTPUT_DYNAMIC_PATH = os.path.join(OUTPUT_PATH, DYNAMIC_FOLDER)\n",
    "\n",
    "if not os.path.exists(OUTPUT_STATIC_PATH):\n",
    "    os.makedirs(OUTPUT_STATIC_PATH)\n",
    "else:\n",
    "    shutil.rmtree(OUTPUT_STATIC_PATH)\n",
    "    os.makedirs(OUTPUT_STATIC_PATH)\n",
    "\n",
    "# os.makedirs(OUTPUT_STATIC_PATH)\n",
    "# os.makedirs(OUTPUT_DYNAMIC_PATH)"
   ]
  },
  {
   "cell_type": "code",
   "execution_count": 4,
   "metadata": {
    "ExecuteTime": {
     "end_time": "2020-02-16T18:39:20.867411Z",
     "start_time": "2020-02-16T18:39:20.821871Z"
    }
   },
   "outputs": [
    {
     "data": {
      "text/plain": [
       "(6284, 11)"
      ]
     },
     "execution_count": 4,
     "metadata": {},
     "output_type": "execute_result"
    }
   ],
   "source": [
    "pair_path = os.path.join(BASE_PATH, PAIR_FILE)\n",
    "df_pair = pd.read_csv(pair_path)\n",
    "df_pair.shape"
   ]
  },
  {
   "cell_type": "code",
   "execution_count": 5,
   "metadata": {
    "ExecuteTime": {
     "end_time": "2020-02-16T18:39:20.887819Z",
     "start_time": "2020-02-16T18:39:20.868766Z"
    }
   },
   "outputs": [
    {
     "data": {
      "text/html": [
       "<div>\n",
       "<style scoped>\n",
       "    .dataframe tbody tr th:only-of-type {\n",
       "        vertical-align: middle;\n",
       "    }\n",
       "\n",
       "    .dataframe tbody tr th {\n",
       "        vertical-align: top;\n",
       "    }\n",
       "\n",
       "    .dataframe thead th {\n",
       "        text-align: right;\n",
       "    }\n",
       "</style>\n",
       "<table border=\"1\" class=\"dataframe\">\n",
       "  <thead>\n",
       "    <tr style=\"text-align: right;\">\n",
       "      <th></th>\n",
       "      <th>static_path</th>\n",
       "      <th>dynamic_path</th>\n",
       "      <th>pose_x</th>\n",
       "      <th>pose_y</th>\n",
       "      <th>pose_yaw</th>\n",
       "      <th>static_x</th>\n",
       "      <th>static_y</th>\n",
       "      <th>static_yaw</th>\n",
       "      <th>dynamic_x</th>\n",
       "      <th>dynamic_y</th>\n",
       "      <th>dynamic_yaw</th>\n",
       "    </tr>\n",
       "  </thead>\n",
       "  <tbody>\n",
       "    <tr>\n",
       "      <th>3203</th>\n",
       "      <td>/home/saby/Projects/ati/data/data/datasets/Car...</td>\n",
       "      <td>/home/saby/Projects/ati/data/data/datasets/Car...</td>\n",
       "      <td>0.12677</td>\n",
       "      <td>-0.382263</td>\n",
       "      <td>-0.258385</td>\n",
       "      <td>92.631294</td>\n",
       "      <td>187.584579</td>\n",
       "      <td>-96.223427</td>\n",
       "      <td>92.758064</td>\n",
       "      <td>187.202316</td>\n",
       "      <td>-96.481812</td>\n",
       "    </tr>\n",
       "  </tbody>\n",
       "</table>\n",
       "</div>"
      ],
      "text/plain": [
       "                                            static_path  \\\n",
       "3203  /home/saby/Projects/ati/data/data/datasets/Car...   \n",
       "\n",
       "                                           dynamic_path   pose_x    pose_y  \\\n",
       "3203  /home/saby/Projects/ati/data/data/datasets/Car...  0.12677 -0.382263   \n",
       "\n",
       "      pose_yaw   static_x    static_y  static_yaw  dynamic_x   dynamic_y  \\\n",
       "3203 -0.258385  92.631294  187.584579  -96.223427  92.758064  187.202316   \n",
       "\n",
       "      dynamic_yaw  \n",
       "3203   -96.481812  "
      ]
     },
     "execution_count": 5,
     "metadata": {},
     "output_type": "execute_result"
    }
   ],
   "source": [
    "df_pair.sample()"
   ]
  },
  {
   "cell_type": "code",
   "execution_count": 6,
   "metadata": {
    "ExecuteTime": {
     "end_time": "2020-02-16T18:39:20.893808Z",
     "start_time": "2020-02-16T18:39:20.889299Z"
    }
   },
   "outputs": [],
   "source": [
    "# Function to get transformation matrix for a given pose\n",
    "def pose2matrix(translation_list, rotation_angle_list, zoom_list=[1,1,1]):\n",
    "    # trans_vec = np.array(translation_list)\n",
    "    rot_ang = [np.deg2rad(ang) for ang in rotation_angle_list ]\n",
    "    rot_mat = transforms3d.euler.euler2mat(rot_ang[0], rot_ang[1], rot_ang[2])\n",
    "    zoom_vec = np.array(zoom_list)\n",
    "    # transform_mat = transforms3d.affines.compose(trans_vec, rot_mat, zoom_vec)\n",
    "    transform_mat = transforms3d.affines.compose(translation_list, rot_mat, zoom_list)\n",
    "    return transform_mat"
   ]
  },
  {
   "cell_type": "code",
   "execution_count": 7,
   "metadata": {
    "ExecuteTime": {
     "end_time": "2020-02-16T18:39:20.910062Z",
     "start_time": "2020-02-16T18:39:20.896411Z"
    }
   },
   "outputs": [],
   "source": [
    "# def transform_corr_static_pcd(static_pcd, pair_row):\n",
    "#     # Calculate all the transforms\n",
    "#     transform_lidar   = pose2matrix([0, 0, 0],\n",
    "#                                     [0, 0, 90],\n",
    "#                                     [1, 1, -1])\n",
    "#     transform_static1  = pose2matrix([pair_row['static_x'], pair_row['static_y'], pair_row['static_z']],\n",
    "#                                     [pair_row['static_roll'],pair_row['static_pitch'], pair_row['static_yaw']])\n",
    "#     transform_dynamic1 = pose2matrix([pair_row['dynamic_x'], pair_row['dynamic_y'], pair_row['dynamic_z']],\n",
    "#                                     [pair_row['dynamic_roll'], pair_row['dynamic_pitch'], pair_row['dynamic_yaw']])\n",
    "#     transform1 = np.matmul(np.linalg.inv(transform_dynamic1), transform_static1)\n",
    "    \n",
    "#     transform_static2  = pose2matrix([0, 0, 0],\n",
    "#                                     [pair_row['static_roll'],pair_row['static_pitch'], pair_row['static_yaw']])\n",
    "#     transform_dynamic2 = pose2matrix([0, 0, 0],\n",
    "#                                     [pair_row['dynamic_roll'], pair_row['dynamic_pitch'], pair_row['dynamic_yaw']])\n",
    "#     transform2 = np.matmul(np.linalg.inv(transform_dynamic2), transform_static2)\n",
    "    \n",
    "#     # Apply all the transforms\n",
    "#     static_pcd_tmp = copy.deepcopy(static_pcd)\n",
    "#     static_pcd_tmp.transform(np.linalg.inv(transform_lidar))\n",
    "#     static_pcd_tmp.transform(np.linalg.inv(transform1))\n",
    "#     static_pcd_tmp.transform(transform2)\n",
    "#     static_pcd_tmp.transform(transform2)     # Need to fix this hack\n",
    "#     static_pcd_tmp.transform(transform_lidar)\n",
    "    \n",
    "#     return static_pcd_tmp\n",
    "\n",
    "def transform_corr_static_pcd(static_pcd, pair_row):\n",
    "    # Calculate all the transforms\n",
    "    transform_lidar   = pose2matrix([0, 0, 0],\n",
    "                                    [0, 0, 90],\n",
    "                                    [1, 1, -1])\n",
    "    transform_static1  = pose2matrix([pair_row['static_x'], pair_row['static_y'], 0],\n",
    "                                    [0,0, pair_row['static_yaw']])\n",
    "    transform_dynamic1 = pose2matrix([pair_row['dynamic_x'], pair_row['dynamic_y'], 0],\n",
    "                                    [0, 0, pair_row['dynamic_yaw']])\n",
    "    transform1 = np.matmul(np.linalg.inv(transform_dynamic1), transform_static1)\n",
    "    \n",
    "    transform_static2  = pose2matrix([0, 0, 0],\n",
    "                                    [0,0, pair_row['static_yaw']])\n",
    "    transform_dynamic2 = pose2matrix([0, 0, 0],\n",
    "                                    [0, 0, pair_row['dynamic_yaw']])\n",
    "    transform2 = np.matmul(np.linalg.inv(transform_dynamic2), transform_static2)\n",
    "    \n",
    "    # Apply all the transforms\n",
    "    static_pcd_tmp = copy.deepcopy(static_pcd)\n",
    "    static_pcd_tmp.transform(np.linalg.inv(transform_lidar))\n",
    "    static_pcd_tmp.transform(np.linalg.inv(transform1))\n",
    "    static_pcd_tmp.transform(transform2)\n",
    "    static_pcd_tmp.transform(transform2)     # Need to fix this hack\n",
    "    static_pcd_tmp.transform(transform_lidar)\n",
    "    \n",
    "    return static_pcd_tmp"
   ]
  },
  {
   "cell_type": "code",
   "execution_count": 8,
   "metadata": {
    "ExecuteTime": {
     "end_time": "2020-02-16T18:57:48.580387Z",
     "start_time": "2020-02-16T18:39:20.912157Z"
    }
   },
   "outputs": [
    {
     "name": "stderr",
     "output_type": "stream",
     "text": [
      "/home/saby/anaconda3/envs/ati/lib/python3.6/site-packages/ipykernel_launcher.py:1: TqdmDeprecationWarning: This function will be removed in tqdm==5.0.0\n",
      "Please use `tqdm.notebook.tqdm` instead of `tqdm.tqdm_notebook`\n",
      "  \"\"\"Entry point for launching an IPython kernel.\n"
     ]
    },
    {
     "data": {
      "application/vnd.jupyter.widget-view+json": {
       "model_id": "0da558e020de45e7bebd06bb8209c964",
       "version_major": 2,
       "version_minor": 0
      },
      "text/plain": [
       "HBox(children=(FloatProgress(value=0.0, max=6284.0), HTML(value='')))"
      ]
     },
     "metadata": {},
     "output_type": "display_data"
    },
    {
     "name": "stdout",
     "output_type": "stream",
     "text": [
      "\n"
     ]
    }
   ],
   "source": [
    "for idx, row in tqdm_notebook(df_pair.iterrows(), total=df_pair.shape[0]):\n",
    "    if row['dynamic_path'].split(\"/\")[-3] == DYNAMICSUBFOLDER:\n",
    "        fname = row['dynamic_path'].split(\"/\")[-1]\n",
    "        fname = str(idx) + \".ply\"\n",
    "\n",
    "        static_src = row['static_path']\n",
    "        static_dst = os.path.join(OUTPUT_STATIC_PATH, fname)\n",
    "        static_pcd = o3d.io.read_point_cloud(static_src)\n",
    "        static_pcd = transform_corr_static_pcd(static_pcd, row)\n",
    "        o3d.io.write_point_cloud(static_dst, static_pcd, write_ascii=True)\n",
    "#         shutil.copyfile(static_src, static_dst)\n",
    "\n",
    "#         dynamic_src = row['dynamic_path']\n",
    "#         dynamic_dst = os.path.join(OUTPUT_DYNAMIC_PATH, fname)\n",
    "#         shutil.copyfile(dynamic_src, dynamic_dst)"
   ]
  },
  {
   "cell_type": "code",
   "execution_count": null,
   "metadata": {},
   "outputs": [],
   "source": []
  },
  {
   "cell_type": "code",
   "execution_count": 9,
   "metadata": {
    "ExecuteTime": {
     "end_time": "2020-02-16T18:57:48.586511Z",
     "start_time": "2020-02-16T18:57:48.582013Z"
    }
   },
   "outputs": [],
   "source": [
    "def draw_registration_result(src_pcd, dst_pcd, x_pt, y_pt, theta):    \n",
    "    src_pcd_tmp = copy.deepcopy(src_pcd)\n",
    "    dst_pcd_tmp = copy.deepcopy(dst_pcd)\n",
    "    \n",
    "    src_pcd_tmp.paint_uniform_color([1, 0, 0])  # red source\n",
    "    dst_pcd_tmp.paint_uniform_color([0, 0, 1])  # blue target\n",
    "    \n",
    "    transform_mat = pose2matrix([x_pt, y_pt, 0], [0,0,theta])\n",
    "    dst_pcd_tmp.transform(transform_mat)\n",
    "    \n",
    "    visualizer = o3d.JVisualizer()\n",
    "    visualizer.add_geometry(src_pcd_tmp)\n",
    "    visualizer.add_geometry(dst_pcd_tmp)\n",
    "    visualizer.show()"
   ]
  },
  {
   "cell_type": "code",
   "execution_count": 10,
   "metadata": {
    "ExecuteTime": {
     "end_time": "2020-02-16T18:57:57.164624Z",
     "start_time": "2020-02-16T18:57:48.588066Z"
    }
   },
   "outputs": [
    {
     "data": {
      "application/vnd.jupyter.widget-view+json": {
       "model_id": "c81d158ba658405c9dedf58c751675b2",
       "version_major": 2,
       "version_minor": 0
      },
      "text/plain": [
       "JVisualizer with 2 geometries"
      ]
     },
     "metadata": {},
     "output_type": "display_data"
    }
   ],
   "source": [
    "some_idx = np.random.choice(len(os.listdir(OUTPUT_STATIC_PATH)))\n",
    "some_fname = str(some_idx) + \".ply\"\n",
    "# some_row = df_pair[(df_pair['dynamic_path'].split(\"/\")[-3] == DYNAMICSUBFOLDER) &\\\n",
    "#             (df_pair['dynamic_path'].split(\"/\")[-1] == some_fname)]\n",
    "\n",
    "some_static_dst = os.path.join(OUTPUT_STATIC_PATH, some_fname)\n",
    "some_dynamic_dst = os.path.join(os.path.join(OUTPUT_PATH, \"_out\"), some_fname)\n",
    "\n",
    "some_static_pcd = o3d.io.read_point_cloud(some_static_dst)\n",
    "some_dynamic_pcd = o3d.io.read_point_cloud(some_dynamic_dst)\n",
    "\n",
    "# print(\"Pose_diff_x: {} | Pose_diff_y: {} | Pose_diff_yaw: {} |\".format(some_row['pose_x'], some_row['pose_y'], some_row['pose_yaw']))\n",
    "draw_registration_result(some_static_pcd, some_dynamic_pcd, 0, 0, 0)"
   ]
  },
  {
   "cell_type": "code",
   "execution_count": null,
   "metadata": {},
   "outputs": [],
   "source": []
  }
 ],
 "metadata": {
  "kernelspec": {
   "display_name": "Python 3",
   "language": "python",
   "name": "python3"
  },
  "language_info": {
   "codemirror_mode": {
    "name": "ipython",
    "version": 3
   },
   "file_extension": ".py",
   "mimetype": "text/x-python",
   "name": "python",
   "nbconvert_exporter": "python",
   "pygments_lexer": "ipython3",
   "version": "3.6.10"
  },
  "toc": {
   "base_numbering": 1,
   "nav_menu": {},
   "number_sections": true,
   "sideBar": true,
   "skip_h1_title": false,
   "title_cell": "Table of Contents",
   "title_sidebar": "Contents",
   "toc_cell": false,
   "toc_position": {},
   "toc_section_display": true,
   "toc_window_display": false
  }
 },
 "nbformat": 4,
 "nbformat_minor": 2
}
