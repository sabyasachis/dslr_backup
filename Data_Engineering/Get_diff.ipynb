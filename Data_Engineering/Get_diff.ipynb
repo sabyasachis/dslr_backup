{
 "cells": [
  {
   "cell_type": "code",
   "execution_count": 1,
   "metadata": {},
   "outputs": [],
   "source": [
    "import pandas as pd\n",
    "import numpy as np\n",
    "import gc\n",
    "import os\n",
    "import sys\n",
    "import copy\n",
    "import transforms3d\n",
    "import matplotlib.pyplot as plt\n",
    "import open3d as o3d\n",
    "from tqdm import tqdm_notebook\n",
    "from sklearn.neighbors import NearestNeighbors"
   ]
  },
  {
   "cell_type": "code",
   "execution_count": 2,
   "metadata": {},
   "outputs": [],
   "source": [
    "BASE_PATH = \"/home/sabyasachi/Projects/ati/data/data/datasets/Carla/lidarParam1\"\n",
    "PAIR_FILE = \"pair_with_pose.csv\"\n",
    "pair_fname = os.path.join(BASE_PATH, PAIR_FILE)\n",
    "\n",
    "df_pair = pd.read_csv(pair_fname)"
   ]
  },
  {
   "cell_type": "code",
   "execution_count": 3,
   "metadata": {},
   "outputs": [
    {
     "data": {
      "text/plain": [
       "(46140, 5)"
      ]
     },
     "execution_count": 3,
     "metadata": {},
     "output_type": "execute_result"
    }
   ],
   "source": [
    "df_pair.shape"
   ]
  },
  {
   "cell_type": "code",
   "execution_count": 4,
   "metadata": {},
   "outputs": [
    {
     "data": {
      "text/html": [
       "<div>\n",
       "<style scoped>\n",
       "    .dataframe tbody tr th:only-of-type {\n",
       "        vertical-align: middle;\n",
       "    }\n",
       "\n",
       "    .dataframe tbody tr th {\n",
       "        vertical-align: top;\n",
       "    }\n",
       "\n",
       "    .dataframe thead th {\n",
       "        text-align: right;\n",
       "    }\n",
       "</style>\n",
       "<table border=\"1\" class=\"dataframe\">\n",
       "  <thead>\n",
       "    <tr style=\"text-align: right;\">\n",
       "      <th></th>\n",
       "      <th>static_path</th>\n",
       "      <th>dynamic_path</th>\n",
       "      <th>pose_x</th>\n",
       "      <th>pose_y</th>\n",
       "      <th>pose_yaw</th>\n",
       "    </tr>\n",
       "  </thead>\n",
       "  <tbody>\n",
       "    <tr>\n",
       "      <th>0</th>\n",
       "      <td>/home/sabyasachi/Projects/ati/data/data/datase...</td>\n",
       "      <td>/home/sabyasachi/Projects/ati/data/data/datase...</td>\n",
       "      <td>0.034119</td>\n",
       "      <td>-0.363983</td>\n",
       "      <td>0.003305</td>\n",
       "    </tr>\n",
       "    <tr>\n",
       "      <th>1</th>\n",
       "      <td>/home/sabyasachi/Projects/ati/data/data/datase...</td>\n",
       "      <td>/home/sabyasachi/Projects/ati/data/data/datase...</td>\n",
       "      <td>0.034119</td>\n",
       "      <td>-0.363983</td>\n",
       "      <td>0.003305</td>\n",
       "    </tr>\n",
       "    <tr>\n",
       "      <th>2</th>\n",
       "      <td>/home/sabyasachi/Projects/ati/data/data/datase...</td>\n",
       "      <td>/home/sabyasachi/Projects/ati/data/data/datase...</td>\n",
       "      <td>-0.010010</td>\n",
       "      <td>-0.363281</td>\n",
       "      <td>-0.002533</td>\n",
       "    </tr>\n",
       "    <tr>\n",
       "      <th>3</th>\n",
       "      <td>/home/sabyasachi/Projects/ati/data/data/datase...</td>\n",
       "      <td>/home/sabyasachi/Projects/ati/data/data/datase...</td>\n",
       "      <td>0.014374</td>\n",
       "      <td>-0.166115</td>\n",
       "      <td>-0.007080</td>\n",
       "    </tr>\n",
       "    <tr>\n",
       "      <th>4</th>\n",
       "      <td>/home/sabyasachi/Projects/ati/data/data/datase...</td>\n",
       "      <td>/home/sabyasachi/Projects/ati/data/data/datase...</td>\n",
       "      <td>0.337585</td>\n",
       "      <td>-0.282562</td>\n",
       "      <td>1.754612</td>\n",
       "    </tr>\n",
       "  </tbody>\n",
       "</table>\n",
       "</div>"
      ],
      "text/plain": [
       "                                         static_path  \\\n",
       "0  /home/sabyasachi/Projects/ati/data/data/datase...   \n",
       "1  /home/sabyasachi/Projects/ati/data/data/datase...   \n",
       "2  /home/sabyasachi/Projects/ati/data/data/datase...   \n",
       "3  /home/sabyasachi/Projects/ati/data/data/datase...   \n",
       "4  /home/sabyasachi/Projects/ati/data/data/datase...   \n",
       "\n",
       "                                        dynamic_path    pose_x    pose_y  \\\n",
       "0  /home/sabyasachi/Projects/ati/data/data/datase...  0.034119 -0.363983   \n",
       "1  /home/sabyasachi/Projects/ati/data/data/datase...  0.034119 -0.363983   \n",
       "2  /home/sabyasachi/Projects/ati/data/data/datase... -0.010010 -0.363281   \n",
       "3  /home/sabyasachi/Projects/ati/data/data/datase...  0.014374 -0.166115   \n",
       "4  /home/sabyasachi/Projects/ati/data/data/datase...  0.337585 -0.282562   \n",
       "\n",
       "   pose_yaw  \n",
       "0  0.003305  \n",
       "1  0.003305  \n",
       "2 -0.002533  \n",
       "3 -0.007080  \n",
       "4  1.754612  "
      ]
     },
     "execution_count": 4,
     "metadata": {},
     "output_type": "execute_result"
    }
   ],
   "source": [
    "df_pair.head()"
   ]
  },
  {
   "cell_type": "code",
   "execution_count": 5,
   "metadata": {},
   "outputs": [],
   "source": [
    "def pose2matrix(translation_list, rotation_angle_list):\n",
    "    trans_vec = np.array(translation_list)\n",
    "    rot_ang = [np.deg2rad(ang) for ang in rotation_angle_list ]\n",
    "    rot_mat = transforms3d.euler.euler2mat(rot_ang[0], rot_ang[1], rot_ang[2])\n",
    "    zoom = np.ones(3)\n",
    "    transform_mat = transforms3d.affines.compose(trans_vec, rot_mat, zoom)\n",
    "    return transform_mat\n",
    "\n",
    "def score_pts(src_pcd, dst_pcd, trans_arr=np.zeros(3), rot_ang=np.zeros(3)):\n",
    "    NEIGHB_RADIUS = 0.1\n",
    "    \n",
    "    src_tmp_pcd = copy.deepcopy(src_pcd)\n",
    "    dst_tmp_pcd = copy.deepcopy(dst_pcd)\n",
    "    \n",
    "    transform_mat = pose2matrix(trans_arr, rot_ang)\n",
    "    # Note: we apply transformation on target pcd to directly get pose (without sign change)\n",
    "    dst_tmp_pcd.transform(transform_mat)\n",
    "    \n",
    "    score = o3d.registration.evaluate_registration(src_tmp_pcd, dst_tmp_pcd, NEIGHB_RADIUS)\n",
    "    \n",
    "    fit = score.fitness\n",
    "    rmse = score.inlier_rmse\n",
    "    n_pairs = np.asarray(score.correspondence_set).shape[0]\n",
    "    return rmse, fit, n_pairs\n",
    "\n",
    "def draw_registration_result(src_pcd, dst_pcd, x_pt, y_pt, theta):    \n",
    "    src_pcd_tmp = copy.deepcopy(src_pcd)\n",
    "    dst_pcd_tmp = copy.deepcopy(dst_pcd)\n",
    "    \n",
    "    src_pcd_tmp.paint_uniform_color([1, 0, 0])  # red source\n",
    "    dst_pcd_tmp.paint_uniform_color([0, 0, 1])  # blue target\n",
    "    \n",
    "    transform_mat = pose2matrix([x_pt, y_pt, 0], [0,0,theta])\n",
    "    dst_pcd_tmp.transform(transform_mat)\n",
    "    \n",
    "    visualizer = o3d.JVisualizer()\n",
    "    visualizer.add_geometry(src_pcd_tmp)\n",
    "    visualizer.add_geometry(dst_pcd_tmp)\n",
    "    visualizer.show()"
   ]
  },
  {
   "cell_type": "code",
   "execution_count": null,
   "metadata": {},
   "outputs": [],
   "source": [
    "for idx, row in df_pair.iterrows():\n",
    "    src_pcd = o3d.io.read_point_cloud(row['static_path'])\n",
    "    dst_pcd = o3d.io.read_point_cloud(row['dynamic_path'])\n",
    "    score_pts(src_pcd, dst_pcd, trans_arr=np.array([row['pose_x'], row['pose_y'],0]), rot_ang=np.array([0,0,row['pose_yaw']]))"
   ]
  },
  {
   "cell_type": "code",
   "execution_count": null,
   "metadata": {},
   "outputs": [],
   "source": []
  },
  {
   "cell_type": "code",
   "execution_count": 45,
   "metadata": {},
   "outputs": [
    {
     "name": "stdout",
     "output_type": "stream",
     "text": [
      "Distance (in m): 0.21236680284225087 \n",
      "Relative Angle (in deg): -0.001708984375\n"
     ]
    },
    {
     "data": {
      "application/vnd.jupyter.widget-view+json": {
       "model_id": "1e039ed81baa4937b0a29423a36fdc61",
       "version_major": 2,
       "version_minor": 0
      },
      "text/plain": [
       "JVisualizer with 2 geometries"
      ]
     },
     "metadata": {},
     "output_type": "display_data"
    }
   ],
   "source": [
    "some_row = df_pair.iloc[np.random.choice(df_pair.shape[0])]\n",
    "# some_row = df_pair.iloc[2]\n",
    "\n",
    "print(\"Distance (in m): {} \\nRelative Angle (in deg): {}\".format(np.linalg.norm(np.array([some_row['pose_x'],some_row['pose_y']])-np.array([0,0])), some_row['pose_yaw']))\n",
    "\n",
    "some_static_pcd = o3d.io.read_point_cloud(some_row['static_path'])\n",
    "some_dynamic_pcd = o3d.io.read_point_cloud(some_row['dynamic_path'])\n",
    "\n",
    "draw_registration_result(some_static_pcd, some_dynamic_pcd, 0, 0, 0)\n",
    "# Static is red\n",
    "# dynamic is blue"
   ]
  },
  {
   "cell_type": "code",
   "execution_count": 47,
   "metadata": {},
   "outputs": [
    {
     "data": {
      "application/vnd.jupyter.widget-view+json": {
       "model_id": "175dfb890f494c8abc49b0c62c62a59a",
       "version_major": 2,
       "version_minor": 0
      },
      "text/plain": [
       "JVisualizer with 2 geometries"
      ]
     },
     "metadata": {},
     "output_type": "display_data"
    }
   ],
   "source": [
    "draw_registration_result(some_static_pcd, some_dynamic_pcd, -some_row['pose_x'], some_row['pose_y'], some_row['pose_yaw'])"
   ]
  },
  {
   "cell_type": "code",
   "execution_count": null,
   "metadata": {},
   "outputs": [],
   "source": []
  }
 ],
 "metadata": {
  "kernelspec": {
   "display_name": "Python 3",
   "language": "python",
   "name": "python3"
  },
  "language_info": {
   "codemirror_mode": {
    "name": "ipython",
    "version": 3
   },
   "file_extension": ".py",
   "mimetype": "text/x-python",
   "name": "python",
   "nbconvert_exporter": "python",
   "pygments_lexer": "ipython3",
   "version": "3.7.3"
  }
 },
 "nbformat": 4,
 "nbformat_minor": 2
}
