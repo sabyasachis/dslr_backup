{
 "cells": [
  {
   "cell_type": "code",
   "execution_count": 1,
   "metadata": {
    "ExecuteTime": {
     "end_time": "2020-03-02T22:40:21.649206Z",
     "start_time": "2020-03-02T22:40:19.251543Z"
    }
   },
   "outputs": [],
   "source": [
    "import pandas as pd\n",
    "import numpy as np\n",
    "import gc\n",
    "import open3d as o3d\n",
    "import os, shutil\n",
    "from tqdm import tqdm_notebook\n",
    "import matplotlib.pyplot as plt\n",
    "import transforms3d\n",
    "import copy\n",
    "import cv2\n",
    "from multiprocessing import Pool, cpu_count"
   ]
  },
  {
   "cell_type": "raw",
   "metadata": {
    "ExecuteTime": {
     "end_time": "2020-03-02T21:17:09.840601Z",
     "start_time": "2020-03-02T21:17:09.835161Z"
    }
   },
   "source": [
    "%matplotlib notebook"
   ]
  },
  {
   "cell_type": "code",
   "execution_count": null,
   "metadata": {},
   "outputs": [],
   "source": []
  },
  {
   "cell_type": "raw",
   "metadata": {},
   "source": [
    "OUT_PATH = \"/home/saby/Projects/ati/data/data/datasets/Carla/16beam-Data/small_map/testing/48/_out\"\n",
    "GT_PATH = \"/home/saby/Projects/ati/data/data/datasets/Carla/16beam-Data/small_map/testing/48/groundTruth.csv\"\n",
    "TRAJ_PATH = \"/home/saby/Projects/vanshil/for_ate_rpe/pbstream_to_csv/_out_48.csv\"\n",
    "\n",
    "OUTPUT_PATH = \"/home/saby/Projects/ati/data/data/datasets/Carla/16beam-Data/small_map/testing/48/simulate_run\"\n",
    "OUTPUT_VIDEO_PATH = \"/home/saby/Projects/ati/data/data/datasets/Carla/16beam-Data/small_map/testing/48/simulate_run.avi\""
   ]
  },
  {
   "cell_type": "code",
   "execution_count": 2,
   "metadata": {
    "ExecuteTime": {
     "end_time": "2020-03-02T22:40:21.655492Z",
     "start_time": "2020-03-02T22:40:21.652235Z"
    }
   },
   "outputs": [],
   "source": [
    "OUT_PATH = \"/home/saby/Projects/ati/data/data/datasets/Carla/64beam-Data/dynamic/12/_out\"\n",
    "GT_PATH = \"/home/saby/Projects/ati/data/data/datasets/Carla/64beam-Data/dynamic/12/groundTruth.csv\"\n",
    "TRAJ_PATH = \"/home/saby/Projects/vanshil/for_ate_rpe/pbstream_to_csv/mask_dynamic_pcd_run12_gt.csv\"\n",
    "\n",
    "OUTPUT_PATH = \"/home/saby/Projects/ati/data/data/datasets/Carla/64beam-Data/dynamic/12/simulate_run_static_only\"\n",
    "OUTPUT_VIDEO_PATH = \"/home/saby/Projects/ati/data/data/datasets/Carla/64beam-Data/dynamic/12/simulate_run_static_only.avi\""
   ]
  },
  {
   "cell_type": "code",
   "execution_count": 3,
   "metadata": {
    "ExecuteTime": {
     "end_time": "2020-03-02T22:40:22.055351Z",
     "start_time": "2020-03-02T22:40:21.657624Z"
    }
   },
   "outputs": [],
   "source": [
    "if not os.path.exists(OUTPUT_PATH):\n",
    "    os.makedirs(OUTPUT_PATH)\n",
    "else:\n",
    "    shutil.rmtree(OUTPUT_PATH)\n",
    "    os.makedirs(OUTPUT_PATH)"
   ]
  },
  {
   "cell_type": "code",
   "execution_count": null,
   "metadata": {},
   "outputs": [],
   "source": []
  },
  {
   "cell_type": "code",
   "execution_count": 4,
   "metadata": {
    "ExecuteTime": {
     "end_time": "2020-03-02T22:40:22.070175Z",
     "start_time": "2020-03-02T22:40:22.057860Z"
    }
   },
   "outputs": [],
   "source": [
    "def getint(name):\n",
    "    try:\n",
    "        return int(name.split('.')[0])\n",
    "    except Exception as e:\n",
    "        print(e)\n",
    "        print(\"at name \", name)\n",
    "        assert False\n",
    "\n",
    "############ THESE HAVE BEEN TESTED ON 2D MOTIONS ONLY !!!\n",
    "# Function to get transformation matrix for a given pose\n",
    "def pose2matrix(translation_list, rotation_angle_list, zoom_list=[1,1,1]):\n",
    "    # trans_vec = np.array(translation_list)\n",
    "    rot_ang = [np.deg2rad(ang) for ang in rotation_angle_list ]\n",
    "    rot_mat = transforms3d.euler.euler2mat(rot_ang[0], rot_ang[1], rot_ang[2])\n",
    "    zoom_vec = np.array(zoom_list)\n",
    "    # transform_mat = transforms3d.affines.compose(trans_vec, rot_mat, zoom_vec)\n",
    "    transform_mat = transforms3d.affines.compose(translation_list, rot_mat, zoom_list)\n",
    "    return transform_mat\n",
    "\n",
    "def matrix2pose(gt_pose):\n",
    "    trans_arr, rot_mat, scale_mat, shear_mat = transforms3d.affines.decompose44(gt_pose)\n",
    "    rot_arr = np.array([np.rad2deg(ang) for ang in transforms3d.euler.mat2euler(rot_mat, axes='sxyz')])\n",
    "    return trans_arr, rot_arr\n",
    "\n",
    "def draw_pcd(pcd, where='mat_3d'):\n",
    "    if where is 'opn_nb':\n",
    "        visualizer = o3d.JVisualizer()\n",
    "        visualizer.add_geometry(pcd)\n",
    "        visualizer.show()\n",
    "    elif where is 'opn_view':\n",
    "        o3d.visualization.draw_geometries([pcd], width=1280, height=800)\n",
    "    elif where is 'mat_3d':\n",
    "        plt.figure()\n",
    "        pts = np.asarray(pcd.points)\n",
    "        plt.scatter(pts[:,0], pts[:,1], pts[:,2])\n",
    "        plt.grid()\n",
    "        plt.show()\n",
    "    elif where is 'mat_2d':\n",
    "        plt.figure()\n",
    "        pts = np.asarray(pcd.points)\n",
    "        plt.scatter(pts[:,0], pts[:,1])\n",
    "        plt.grid()\n",
    "        plt.show()"
   ]
  },
  {
   "cell_type": "code",
   "execution_count": null,
   "metadata": {},
   "outputs": [],
   "source": []
  },
  {
   "cell_type": "code",
   "execution_count": 5,
   "metadata": {
    "ExecuteTime": {
     "end_time": "2020-03-02T22:40:22.112344Z",
     "start_time": "2020-03-02T22:40:22.072153Z"
    }
   },
   "outputs": [
    {
     "data": {
      "text/plain": [
       "7204"
      ]
     },
     "execution_count": 5,
     "metadata": {},
     "output_type": "execute_result"
    }
   ],
   "source": [
    "out_pcd_files = sorted(os.listdir(OUT_PATH), key=getint)\n",
    "len(out_pcd_files)"
   ]
  },
  {
   "cell_type": "code",
   "execution_count": 6,
   "metadata": {
    "ExecuteTime": {
     "end_time": "2020-03-02T22:40:22.155578Z",
     "start_time": "2020-03-02T22:40:22.113975Z"
    }
   },
   "outputs": [
    {
     "data": {
      "text/plain": [
       "(7196, 28)"
      ]
     },
     "execution_count": 6,
     "metadata": {},
     "output_type": "execute_result"
    }
   ],
   "source": [
    "df_gt = pd.read_csv(GT_PATH)\n",
    "df_gt.shape"
   ]
  },
  {
   "cell_type": "code",
   "execution_count": 7,
   "metadata": {
    "ExecuteTime": {
     "end_time": "2020-03-02T22:40:22.163238Z",
     "start_time": "2020-03-02T22:40:22.157090Z"
    }
   },
   "outputs": [
    {
     "data": {
      "text/plain": [
       "(7196, 7)"
      ]
     },
     "execution_count": 7,
     "metadata": {},
     "output_type": "execute_result"
    }
   ],
   "source": [
    "df_gt = df_gt[['step', 'location_x', 'location_y', 'location_z', 'rotation_roll', 'rotation_pitch', 'rotation_yaw']]\n",
    "df_gt.shape"
   ]
  },
  {
   "cell_type": "code",
   "execution_count": 8,
   "metadata": {
    "ExecuteTime": {
     "end_time": "2020-03-02T22:40:22.191178Z",
     "start_time": "2020-03-02T22:40:22.165932Z"
    }
   },
   "outputs": [
    {
     "data": {
      "text/plain": [
       "(2883, 8)"
      ]
     },
     "execution_count": 8,
     "metadata": {},
     "output_type": "execute_result"
    }
   ],
   "source": [
    "df_traj = pd.read_csv(TRAJ_PATH)\n",
    "df_traj.shape"
   ]
  },
  {
   "cell_type": "code",
   "execution_count": 9,
   "metadata": {
    "ExecuteTime": {
     "end_time": "2020-03-02T22:40:22.215586Z",
     "start_time": "2020-03-02T22:40:22.193097Z"
    }
   },
   "outputs": [
    {
     "data": {
      "text/plain": [
       "(2883, 9)"
      ]
     },
     "execution_count": 9,
     "metadata": {},
     "output_type": "execute_result"
    }
   ],
   "source": [
    "df_traj['step'] = ((df_traj['timestamp'] * 10).round()).astype(int)\n",
    "df_traj.shape"
   ]
  },
  {
   "cell_type": "code",
   "execution_count": 10,
   "metadata": {
    "ExecuteTime": {
     "end_time": "2020-03-02T22:40:22.234032Z",
     "start_time": "2020-03-02T22:40:22.216913Z"
    }
   },
   "outputs": [
    {
     "data": {
      "text/html": [
       "<div>\n",
       "<style scoped>\n",
       "    .dataframe tbody tr th:only-of-type {\n",
       "        vertical-align: middle;\n",
       "    }\n",
       "\n",
       "    .dataframe tbody tr th {\n",
       "        vertical-align: top;\n",
       "    }\n",
       "\n",
       "    .dataframe thead th {\n",
       "        text-align: right;\n",
       "    }\n",
       "</style>\n",
       "<table border=\"1\" class=\"dataframe\">\n",
       "  <thead>\n",
       "    <tr style=\"text-align: right;\">\n",
       "      <th></th>\n",
       "      <th>step</th>\n",
       "      <th>location_x</th>\n",
       "      <th>location_y</th>\n",
       "      <th>location_z</th>\n",
       "      <th>rotation_roll</th>\n",
       "      <th>rotation_pitch</th>\n",
       "      <th>rotation_yaw</th>\n",
       "    </tr>\n",
       "  </thead>\n",
       "  <tbody>\n",
       "    <tr>\n",
       "      <th>0</th>\n",
       "      <td>1</td>\n",
       "      <td>88.619987</td>\n",
       "      <td>103.379997</td>\n",
       "      <td>39.430626</td>\n",
       "      <td>0.000000e+00</td>\n",
       "      <td>0.0</td>\n",
       "      <td>90.000046</td>\n",
       "    </tr>\n",
       "    <tr>\n",
       "      <th>1</th>\n",
       "      <td>2</td>\n",
       "      <td>88.619987</td>\n",
       "      <td>103.379997</td>\n",
       "      <td>39.373486</td>\n",
       "      <td>3.778308e-13</td>\n",
       "      <td>0.0</td>\n",
       "      <td>90.000076</td>\n",
       "    </tr>\n",
       "    <tr>\n",
       "      <th>2</th>\n",
       "      <td>3</td>\n",
       "      <td>88.619987</td>\n",
       "      <td>103.379997</td>\n",
       "      <td>39.218460</td>\n",
       "      <td>3.778308e-13</td>\n",
       "      <td>0.0</td>\n",
       "      <td>90.000076</td>\n",
       "    </tr>\n",
       "    <tr>\n",
       "      <th>3</th>\n",
       "      <td>4</td>\n",
       "      <td>88.619987</td>\n",
       "      <td>103.379997</td>\n",
       "      <td>38.965645</td>\n",
       "      <td>3.778308e-13</td>\n",
       "      <td>0.0</td>\n",
       "      <td>90.000076</td>\n",
       "    </tr>\n",
       "    <tr>\n",
       "      <th>4</th>\n",
       "      <td>5</td>\n",
       "      <td>88.619987</td>\n",
       "      <td>103.379997</td>\n",
       "      <td>38.615139</td>\n",
       "      <td>3.778308e-13</td>\n",
       "      <td>0.0</td>\n",
       "      <td>90.000076</td>\n",
       "    </tr>\n",
       "  </tbody>\n",
       "</table>\n",
       "</div>"
      ],
      "text/plain": [
       "   step  location_x  location_y  location_z  rotation_roll  rotation_pitch  \\\n",
       "0     1   88.619987  103.379997   39.430626   0.000000e+00             0.0   \n",
       "1     2   88.619987  103.379997   39.373486   3.778308e-13             0.0   \n",
       "2     3   88.619987  103.379997   39.218460   3.778308e-13             0.0   \n",
       "3     4   88.619987  103.379997   38.965645   3.778308e-13             0.0   \n",
       "4     5   88.619987  103.379997   38.615139   3.778308e-13             0.0   \n",
       "\n",
       "   rotation_yaw  \n",
       "0     90.000046  \n",
       "1     90.000076  \n",
       "2     90.000076  \n",
       "3     90.000076  \n",
       "4     90.000076  "
      ]
     },
     "execution_count": 10,
     "metadata": {},
     "output_type": "execute_result"
    }
   ],
   "source": [
    "df_gt.head()"
   ]
  },
  {
   "cell_type": "code",
   "execution_count": 11,
   "metadata": {
    "ExecuteTime": {
     "end_time": "2020-03-02T22:40:22.253941Z",
     "start_time": "2020-03-02T22:40:22.236753Z"
    }
   },
   "outputs": [
    {
     "data": {
      "text/html": [
       "<div>\n",
       "<style scoped>\n",
       "    .dataframe tbody tr th:only-of-type {\n",
       "        vertical-align: middle;\n",
       "    }\n",
       "\n",
       "    .dataframe tbody tr th {\n",
       "        vertical-align: top;\n",
       "    }\n",
       "\n",
       "    .dataframe thead th {\n",
       "        text-align: right;\n",
       "    }\n",
       "</style>\n",
       "<table border=\"1\" class=\"dataframe\">\n",
       "  <thead>\n",
       "    <tr style=\"text-align: right;\">\n",
       "      <th></th>\n",
       "      <th>timestamp</th>\n",
       "      <th>x</th>\n",
       "      <th>y</th>\n",
       "      <th>z</th>\n",
       "      <th>q_x</th>\n",
       "      <th>q_y</th>\n",
       "      <th>q_z</th>\n",
       "      <th>q_w</th>\n",
       "      <th>step</th>\n",
       "    </tr>\n",
       "  </thead>\n",
       "  <tbody>\n",
       "    <tr>\n",
       "      <th>0</th>\n",
       "      <td>0.099994</td>\n",
       "      <td>-0.184175</td>\n",
       "      <td>0.010689</td>\n",
       "      <td>-0.049200</td>\n",
       "      <td>0.999475</td>\n",
       "      <td>-0.032020</td>\n",
       "      <td>0.001306</td>\n",
       "      <td>0.004780</td>\n",
       "      <td>1</td>\n",
       "    </tr>\n",
       "    <tr>\n",
       "      <th>1</th>\n",
       "      <td>0.499994</td>\n",
       "      <td>-0.111941</td>\n",
       "      <td>0.037637</td>\n",
       "      <td>-0.065175</td>\n",
       "      <td>0.999475</td>\n",
       "      <td>-0.032024</td>\n",
       "      <td>0.001305</td>\n",
       "      <td>0.004782</td>\n",
       "      <td>5</td>\n",
       "    </tr>\n",
       "    <tr>\n",
       "      <th>2</th>\n",
       "      <td>0.600000</td>\n",
       "      <td>-0.092001</td>\n",
       "      <td>0.043049</td>\n",
       "      <td>-0.068682</td>\n",
       "      <td>0.999475</td>\n",
       "      <td>-0.032031</td>\n",
       "      <td>0.001303</td>\n",
       "      <td>0.004786</td>\n",
       "      <td>6</td>\n",
       "    </tr>\n",
       "    <tr>\n",
       "      <th>3</th>\n",
       "      <td>1.200000</td>\n",
       "      <td>0.042635</td>\n",
       "      <td>0.065037</td>\n",
       "      <td>-0.086987</td>\n",
       "      <td>0.999474</td>\n",
       "      <td>-0.032042</td>\n",
       "      <td>0.001301</td>\n",
       "      <td>0.004792</td>\n",
       "      <td>12</td>\n",
       "    </tr>\n",
       "    <tr>\n",
       "      <th>4</th>\n",
       "      <td>1.800000</td>\n",
       "      <td>0.223877</td>\n",
       "      <td>0.073447</td>\n",
       "      <td>-0.098332</td>\n",
       "      <td>0.999474</td>\n",
       "      <td>-0.032057</td>\n",
       "      <td>0.001308</td>\n",
       "      <td>0.004799</td>\n",
       "      <td>18</td>\n",
       "    </tr>\n",
       "  </tbody>\n",
       "</table>\n",
       "</div>"
      ],
      "text/plain": [
       "   timestamp         x         y         z       q_x       q_y       q_z  \\\n",
       "0   0.099994 -0.184175  0.010689 -0.049200  0.999475 -0.032020  0.001306   \n",
       "1   0.499994 -0.111941  0.037637 -0.065175  0.999475 -0.032024  0.001305   \n",
       "2   0.600000 -0.092001  0.043049 -0.068682  0.999475 -0.032031  0.001303   \n",
       "3   1.200000  0.042635  0.065037 -0.086987  0.999474 -0.032042  0.001301   \n",
       "4   1.800000  0.223877  0.073447 -0.098332  0.999474 -0.032057  0.001308   \n",
       "\n",
       "       q_w   step  \n",
       "0  0.004780     1  \n",
       "1  0.004782     5  \n",
       "2  0.004786     6  \n",
       "3  0.004792    12  \n",
       "4  0.004799    18  "
      ]
     },
     "execution_count": 11,
     "metadata": {},
     "output_type": "execute_result"
    }
   ],
   "source": [
    "df_traj.head()"
   ]
  },
  {
   "cell_type": "code",
   "execution_count": null,
   "metadata": {
    "ExecuteTime": {
     "end_time": "2020-03-02T18:54:27.306155Z",
     "start_time": "2020-03-02T18:54:27.298142Z"
    }
   },
   "outputs": [],
   "source": []
  },
  {
   "cell_type": "code",
   "execution_count": 12,
   "metadata": {
    "ExecuteTime": {
     "end_time": "2020-03-02T22:40:22.261380Z",
     "start_time": "2020-03-02T22:40:22.255635Z"
    }
   },
   "outputs": [
    {
     "data": {
      "text/plain": [
       "2883"
      ]
     },
     "execution_count": 12,
     "metadata": {},
     "output_type": "execute_result"
    }
   ],
   "source": [
    "gt_set = set(df_gt['step'])\n",
    "traj_set = set(df_traj['step'])\n",
    "match_set = gt_set.intersection(traj_set)\n",
    "len(match_set)"
   ]
  },
  {
   "cell_type": "code",
   "execution_count": 13,
   "metadata": {
    "ExecuteTime": {
     "end_time": "2020-03-02T22:40:22.271734Z",
     "start_time": "2020-03-02T22:40:22.262916Z"
    }
   },
   "outputs": [
    {
     "data": {
      "text/plain": [
       "(2883, 15)"
      ]
     },
     "execution_count": 13,
     "metadata": {},
     "output_type": "execute_result"
    }
   ],
   "source": [
    "df_merged = pd.merge(df_gt, df_traj, how='inner', on='step')\n",
    "df_merged.shape"
   ]
  },
  {
   "cell_type": "raw",
   "metadata": {
    "ExecuteTime": {
     "end_time": "2020-03-02T19:05:29.129276Z",
     "start_time": "2020-03-02T19:05:29.094712Z"
    }
   },
   "source": [
    "del df_gt, df_traj\n",
    "gc.collect()"
   ]
  },
  {
   "cell_type": "code",
   "execution_count": 14,
   "metadata": {
    "ExecuteTime": {
     "end_time": "2020-03-02T22:40:22.293148Z",
     "start_time": "2020-03-02T22:40:22.273253Z"
    }
   },
   "outputs": [
    {
     "data": {
      "text/html": [
       "<div>\n",
       "<style scoped>\n",
       "    .dataframe tbody tr th:only-of-type {\n",
       "        vertical-align: middle;\n",
       "    }\n",
       "\n",
       "    .dataframe tbody tr th {\n",
       "        vertical-align: top;\n",
       "    }\n",
       "\n",
       "    .dataframe thead th {\n",
       "        text-align: right;\n",
       "    }\n",
       "</style>\n",
       "<table border=\"1\" class=\"dataframe\">\n",
       "  <thead>\n",
       "    <tr style=\"text-align: right;\">\n",
       "      <th></th>\n",
       "      <th>step</th>\n",
       "      <th>location_x</th>\n",
       "      <th>location_y</th>\n",
       "      <th>location_z</th>\n",
       "      <th>rotation_roll</th>\n",
       "      <th>rotation_pitch</th>\n",
       "      <th>rotation_yaw</th>\n",
       "      <th>timestamp</th>\n",
       "      <th>x</th>\n",
       "      <th>y</th>\n",
       "      <th>z</th>\n",
       "      <th>q_x</th>\n",
       "      <th>q_y</th>\n",
       "      <th>q_z</th>\n",
       "      <th>q_w</th>\n",
       "    </tr>\n",
       "  </thead>\n",
       "  <tbody>\n",
       "    <tr>\n",
       "      <th>0</th>\n",
       "      <td>1</td>\n",
       "      <td>88.619987</td>\n",
       "      <td>103.379997</td>\n",
       "      <td>39.430626</td>\n",
       "      <td>0.000000e+00</td>\n",
       "      <td>0.000000</td>\n",
       "      <td>90.000046</td>\n",
       "      <td>0.099994</td>\n",
       "      <td>-0.184175</td>\n",
       "      <td>0.010689</td>\n",
       "      <td>-0.049200</td>\n",
       "      <td>0.999475</td>\n",
       "      <td>-0.032020</td>\n",
       "      <td>0.001306</td>\n",
       "      <td>0.004780</td>\n",
       "    </tr>\n",
       "    <tr>\n",
       "      <th>1</th>\n",
       "      <td>5</td>\n",
       "      <td>88.619987</td>\n",
       "      <td>103.379997</td>\n",
       "      <td>38.615139</td>\n",
       "      <td>3.778308e-13</td>\n",
       "      <td>0.000000</td>\n",
       "      <td>90.000076</td>\n",
       "      <td>0.499994</td>\n",
       "      <td>-0.111941</td>\n",
       "      <td>0.037637</td>\n",
       "      <td>-0.065175</td>\n",
       "      <td>0.999475</td>\n",
       "      <td>-0.032024</td>\n",
       "      <td>0.001305</td>\n",
       "      <td>0.004782</td>\n",
       "    </tr>\n",
       "    <tr>\n",
       "      <th>2</th>\n",
       "      <td>6</td>\n",
       "      <td>88.619987</td>\n",
       "      <td>103.379997</td>\n",
       "      <td>38.169399</td>\n",
       "      <td>0.000000e+00</td>\n",
       "      <td>0.000000</td>\n",
       "      <td>90.000053</td>\n",
       "      <td>0.600000</td>\n",
       "      <td>-0.092001</td>\n",
       "      <td>0.043049</td>\n",
       "      <td>-0.068682</td>\n",
       "      <td>0.999475</td>\n",
       "      <td>-0.032031</td>\n",
       "      <td>0.001303</td>\n",
       "      <td>0.004786</td>\n",
       "    </tr>\n",
       "    <tr>\n",
       "      <th>3</th>\n",
       "      <td>12</td>\n",
       "      <td>88.620079</td>\n",
       "      <td>103.380264</td>\n",
       "      <td>38.091503</td>\n",
       "      <td>-5.145263e-02</td>\n",
       "      <td>0.049191</td>\n",
       "      <td>90.000114</td>\n",
       "      <td>1.200000</td>\n",
       "      <td>0.042635</td>\n",
       "      <td>0.065037</td>\n",
       "      <td>-0.086987</td>\n",
       "      <td>0.999474</td>\n",
       "      <td>-0.032042</td>\n",
       "      <td>0.001301</td>\n",
       "      <td>0.004792</td>\n",
       "    </tr>\n",
       "    <tr>\n",
       "      <th>4</th>\n",
       "      <td>18</td>\n",
       "      <td>88.620117</td>\n",
       "      <td>103.379990</td>\n",
       "      <td>38.103008</td>\n",
       "      <td>-4.241943e-03</td>\n",
       "      <td>0.004405</td>\n",
       "      <td>90.000137</td>\n",
       "      <td>1.800000</td>\n",
       "      <td>0.223877</td>\n",
       "      <td>0.073447</td>\n",
       "      <td>-0.098332</td>\n",
       "      <td>0.999474</td>\n",
       "      <td>-0.032057</td>\n",
       "      <td>0.001308</td>\n",
       "      <td>0.004799</td>\n",
       "    </tr>\n",
       "  </tbody>\n",
       "</table>\n",
       "</div>"
      ],
      "text/plain": [
       "   step  location_x  location_y  location_z  rotation_roll  rotation_pitch  \\\n",
       "0     1   88.619987  103.379997   39.430626   0.000000e+00        0.000000   \n",
       "1     5   88.619987  103.379997   38.615139   3.778308e-13        0.000000   \n",
       "2     6   88.619987  103.379997   38.169399   0.000000e+00        0.000000   \n",
       "3    12   88.620079  103.380264   38.091503  -5.145263e-02        0.049191   \n",
       "4    18   88.620117  103.379990   38.103008  -4.241943e-03        0.004405   \n",
       "\n",
       "   rotation_yaw  timestamp         x         y         z       q_x       q_y  \\\n",
       "0     90.000046   0.099994 -0.184175  0.010689 -0.049200  0.999475 -0.032020   \n",
       "1     90.000076   0.499994 -0.111941  0.037637 -0.065175  0.999475 -0.032024   \n",
       "2     90.000053   0.600000 -0.092001  0.043049 -0.068682  0.999475 -0.032031   \n",
       "3     90.000114   1.200000  0.042635  0.065037 -0.086987  0.999474 -0.032042   \n",
       "4     90.000137   1.800000  0.223877  0.073447 -0.098332  0.999474 -0.032057   \n",
       "\n",
       "        q_z      q_w   \n",
       "0  0.001306  0.004780  \n",
       "1  0.001305  0.004782  \n",
       "2  0.001303  0.004786  \n",
       "3  0.001301  0.004792  \n",
       "4  0.001308  0.004799  "
      ]
     },
     "execution_count": 14,
     "metadata": {},
     "output_type": "execute_result"
    }
   ],
   "source": [
    "df_merged.head()"
   ]
  },
  {
   "cell_type": "code",
   "execution_count": 15,
   "metadata": {
    "ExecuteTime": {
     "end_time": "2020-03-02T22:40:22.304006Z",
     "start_time": "2020-03-02T22:40:22.295845Z"
    }
   },
   "outputs": [
    {
     "data": {
      "text/plain": [
       "step                1.000000\n",
       "location_x         88.619987\n",
       "location_y        103.379997\n",
       "location_z         39.430626\n",
       "rotation_roll       0.000000\n",
       "rotation_pitch      0.000000\n",
       "rotation_yaw       90.000046\n",
       "timestamp           0.099994\n",
       "x                  -0.184175\n",
       "y                   0.010689\n",
       "z                  -0.049200\n",
       "q_x                 0.999475\n",
       "q_y                -0.032020\n",
       "q_z                 0.001306\n",
       "q_w                 0.004780\n",
       "Name: 0, dtype: float64"
      ]
     },
     "execution_count": 15,
     "metadata": {},
     "output_type": "execute_result"
    }
   ],
   "source": [
    "first_pose = df_merged.iloc[0]\n",
    "first_pose"
   ]
  },
  {
   "cell_type": "code",
   "execution_count": 16,
   "metadata": {
    "ExecuteTime": {
     "end_time": "2020-03-02T22:40:22.336110Z",
     "start_time": "2020-03-02T22:40:22.305503Z"
    }
   },
   "outputs": [
    {
     "data": {
      "text/plain": [
       "array([[-7.98948327e-07, -1.00000000e+00,  0.00000000e+00,\n",
       "         8.86199875e+01],\n",
       "       [ 1.00000000e+00, -7.98948327e-07,  0.00000000e+00,\n",
       "         1.03379997e+02],\n",
       "       [ 0.00000000e+00,  0.00000000e+00,  1.00000000e+00,\n",
       "         0.00000000e+00],\n",
       "       [ 0.00000000e+00,  0.00000000e+00,  0.00000000e+00,\n",
       "         1.00000000e+00]])"
      ]
     },
     "execution_count": 16,
     "metadata": {},
     "output_type": "execute_result"
    }
   ],
   "source": [
    "trans_gt_list = [first_pose['location_x'], first_pose['location_y'], 0]\n",
    "rot_gt_list   = [0, 0, first_pose['rotation_yaw']]\n",
    "first_gt_pose_transform = pose2matrix(trans_gt_list, rot_gt_list,)\n",
    "first_gt_pose_transform"
   ]
  },
  {
   "cell_type": "code",
   "execution_count": 17,
   "metadata": {
    "ExecuteTime": {
     "end_time": "2020-03-02T22:40:22.348000Z",
     "start_time": "2020-03-02T22:40:22.338390Z"
    }
   },
   "outputs": [
    {
     "data": {
      "text/plain": [
       "array([[ 0.99795025,  0.06399456,  0.        , -0.184175  ],\n",
       "       [-0.06399456,  0.99795025,  0.        ,  0.0106894 ],\n",
       "       [ 0.        ,  0.        ,  1.        ,  0.        ],\n",
       "       [ 0.        ,  0.        ,  0.        ,  1.        ]])"
      ]
     },
     "execution_count": 17,
     "metadata": {},
     "output_type": "execute_result"
    }
   ],
   "source": [
    "# USE THIS\n",
    "\n",
    "quaternion_traj_list = [first_pose['q_w '], first_pose['q_x'], first_pose['q_y'], first_pose['q_z']]\n",
    "angles_traj_list = transforms3d.euler.quat2euler(quaternion_traj_list, axes='sxyz')\n",
    "\n",
    "trans_traj_list = [first_pose['x'], first_pose['y'], 0]\n",
    "rot_traj_list   = [0, 0, np.rad2deg(angles_traj_list[-1])]\n",
    "first_traj_pose_transform = pose2matrix(trans_traj_list, rot_traj_list)\n",
    "first_traj_pose_transform"
   ]
  },
  {
   "cell_type": "code",
   "execution_count": null,
   "metadata": {},
   "outputs": [],
   "source": []
  },
  {
   "cell_type": "code",
   "execution_count": 18,
   "metadata": {
    "ExecuteTime": {
     "end_time": "2020-03-02T22:40:24.644278Z",
     "start_time": "2020-03-02T22:40:22.349679Z"
    }
   },
   "outputs": [
    {
     "name": "stderr",
     "output_type": "stream",
     "text": [
      "/home/saby/anaconda3/envs/ati/lib/python3.6/site-packages/ipykernel_launcher.py:13: TqdmDeprecationWarning: This function will be removed in tqdm==5.0.0\n",
      "Please use `tqdm.notebook.tqdm` instead of `tqdm.tqdm_notebook`\n",
      "  del sys.path[0]\n"
     ]
    },
    {
     "data": {
      "application/vnd.jupyter.widget-view+json": {
       "model_id": "b715e2f8eb014cba934d48d05b325b67",
       "version_major": 2,
       "version_minor": 0
      },
      "text/plain": [
       "HBox(children=(FloatProgress(value=0.0, max=2883.0), HTML(value='')))"
      ]
     },
     "metadata": {},
     "output_type": "display_data"
    },
    {
     "name": "stdout",
     "output_type": "stream",
     "text": [
      "\n"
     ]
    }
   ],
   "source": [
    "step_list = []\n",
    "\n",
    "x_gt_list = []\n",
    "y_gt_list = []\n",
    "yaw_gt_list = []\n",
    "gt_pose_transform_local_list = []\n",
    "\n",
    "x_traj_list = []\n",
    "y_traj_list = []\n",
    "yaw_traj_list = []\n",
    "traj_pose_transform_local_list = []\n",
    "\n",
    "for idx, row in tqdm_notebook(df_merged.iterrows(), total=df_merged.shape[0]):\n",
    "    step_list.append(row['step'])\n",
    "    trans_gt_list = [row['location_x'], row['location_y'], 0]\n",
    "    rot_gt_list   = [0, 0, row['rotation_yaw']]\n",
    "    gt_pose_transform = pose2matrix(trans_gt_list, rot_gt_list)\n",
    "    gt_pose_transform_local = np.matmul(np.linalg.inv(first_gt_pose_transform), gt_pose_transform)\n",
    "\n",
    "    trans_gt_local_arr, rot_gt_local_arr = matrix2pose(gt_pose_transform_local)\n",
    "    x_gt_list.append(trans_gt_local_arr[0])\n",
    "    y_gt_list.append(trans_gt_local_arr[1])\n",
    "    yaw_gt_list.append(rot_gt_local_arr[-1])\n",
    "    gt_pose_transform_local_list.append(gt_pose_transform_local)\n",
    "\n",
    "    quaternion_traj_list = [row['q_w '], row['q_x'], row['q_y'], row['q_z']]\n",
    "    angles_traj_list = transforms3d.euler.quat2euler(quaternion_traj_list, axes='sxyz')\n",
    "    trans_traj_list = [row['x'], row['y'], 0]\n",
    "    rot_traj_list   = [0, 0, np.rad2deg(angles_traj_list[-1])]\n",
    "    traj_pose_transform = pose2matrix(trans_traj_list, rot_traj_list)\n",
    "    traj_pose_transform_local = np.matmul(np.linalg.inv(first_traj_pose_transform), traj_pose_transform)\n",
    "\n",
    "    trans_traj_local_arr, rot_traj_local_arr = matrix2pose(traj_pose_transform_local)\n",
    "    x_traj_list.append(trans_traj_local_arr[0])\n",
    "#         y_traj_list.append(trans_traj_local_arr[1])\n",
    "    y_traj_list.append(-trans_traj_local_arr[1])\n",
    "    yaw_traj_list.append(rot_traj_local_arr[-1])\n",
    "    traj_pose_transform_local_list.append(traj_pose_transform_local)"
   ]
  },
  {
   "cell_type": "code",
   "execution_count": 19,
   "metadata": {
    "ExecuteTime": {
     "end_time": "2020-03-02T22:40:24.650430Z",
     "start_time": "2020-03-02T22:40:24.645638Z"
    }
   },
   "outputs": [],
   "source": [
    "e_x = np.array(x_traj_list) - np.array(x_gt_list)\n",
    "e_y = np.array(y_traj_list) - np.array(y_gt_list)\n",
    "\n",
    "vehicle_x = np.array(x_gt_list) - e_x\n",
    "vehicle_y = np.array(y_gt_list) - e_y"
   ]
  },
  {
   "cell_type": "code",
   "execution_count": null,
   "metadata": {},
   "outputs": [],
   "source": []
  },
  {
   "cell_type": "code",
   "execution_count": null,
   "metadata": {},
   "outputs": [],
   "source": []
  },
  {
   "cell_type": "code",
   "execution_count": null,
   "metadata": {},
   "outputs": [],
   "source": []
  },
  {
   "cell_type": "raw",
   "metadata": {
    "ExecuteTime": {
     "end_time": "2020-03-02T21:39:23.207086Z",
     "start_time": "2020-03-02T21:39:23.196743Z"
    }
   },
   "source": [
    "%matplotlib notebook"
   ]
  },
  {
   "cell_type": "code",
   "execution_count": 20,
   "metadata": {
    "ExecuteTime": {
     "end_time": "2020-03-02T22:40:24.865061Z",
     "start_time": "2020-03-02T22:40:24.651885Z"
    }
   },
   "outputs": [
    {
     "data": {
      "text/plain": [
       "<matplotlib.legend.Legend at 0x7f6ae3b76080>"
      ]
     },
     "execution_count": 20,
     "metadata": {},
     "output_type": "execute_result"
    },
    {
     "data": {
      "image/png": "[encoded data removed]",
      "text/plain": [
       "<Figure size 432x288 with 1 Axes>"
      ]
     },
     "metadata": {
      "needs_background": "light"
     },
     "output_type": "display_data"
    }
   ],
   "source": [
    "plt.figure()\n",
    "plt.grid()\n",
    "# plt.plot(df_gt['location_x'], df_gt['location_y'], label='gt')\n",
    "plt.plot(x_gt_list, y_gt_list, label='gt_transformed')\n",
    "plt.plot(x_traj_list, y_traj_list, label='traj_transformed')\n",
    "plt.plot(vehicle_x, vehicle_y, label='vehicle_location')\n",
    "# plt.plot(df_traj['x'], df_traj['y'], label='traj')\n",
    "plt.legend()"
   ]
  },
  {
   "cell_type": "code",
   "execution_count": null,
   "metadata": {},
   "outputs": [],
   "source": []
  },
  {
   "cell_type": "code",
   "execution_count": 21,
   "metadata": {
    "ExecuteTime": {
     "end_time": "2020-03-02T22:40:24.871131Z",
     "start_time": "2020-03-02T22:40:24.866682Z"
    }
   },
   "outputs": [],
   "source": [
    "def correct_for_z(this_pcd):\n",
    "    pcd = copy.deepcopy(this_pcd)\n",
    "    pt_arr = np.asarray(pcd.points)\n",
    "    new_pt_arr = np.array([np.array([-y,x,-z]) for x, y, z in pt_arr])\n",
    "    pcd.points = o3d.utility.Vector3dVector(new_pt_arr)\n",
    "    return pcd"
   ]
  },
  {
   "cell_type": "code",
   "execution_count": 22,
   "metadata": {
    "ExecuteTime": {
     "end_time": "2020-03-02T22:40:24.875004Z",
     "start_time": "2020-03-02T22:40:24.872575Z"
    }
   },
   "outputs": [],
   "source": [
    "VOXEL_SZ = 0.02"
   ]
  },
  {
   "cell_type": "code",
   "execution_count": 23,
   "metadata": {
    "ExecuteTime": {
     "end_time": "2020-03-02T22:40:24.919172Z",
     "start_time": "2020-03-02T22:40:24.877574Z"
    }
   },
   "outputs": [],
   "source": [
    "def parallel_thread(idx):\n",
    "    gt_transform = pose2matrix([x_gt_list[idx], y_gt_list[idx], 0], [0,0,yaw_gt_list[idx]])\n",
    "    fname = str(int(step_list[idx])) + \".ply\"\n",
    "    out_path = os.path.join(OUT_PATH, fname)\n",
    "    this_pcd = o3d.io.read_point_cloud(out_path)\n",
    "    this_pcd = this_pcd.voxel_down_sample(VOXEL_SZ)\n",
    "    this_pcd = correct_for_z(this_pcd)\n",
    "    this_arr = np.asarray(this_pcd.points)\n",
    "    pt_arr = np.concatenate((this_arr, np.ones((this_arr.shape[0],1))), axis=-1).T\n",
    "    transform_arr = np.matmul(gt_transform, pt_arr).T[:,:3]\n",
    "    \n",
    "    plt.figure(figsize=(20,20))\n",
    "#     axes = plt.gca()\n",
    "#     axes.set_xlim([-120,120])\n",
    "#     axes.set_ylim([-120,120])\n",
    "    plt.grid()\n",
    "    plt.plot(transform_arr[:,0], transform_arr[:,1], '.', c='b', label='local_lidar_points')\n",
    "    plt.plot(x_gt_list[idx], y_gt_list[idx], '*', c='g', label='gt_location')\n",
    "    plt.plot(x_gt_list[:idx+1], y_gt_list[:idx+1], c='g', label='gt_path')\n",
    "#     plt.plot(x_traj_list[:idx+1], y_traj_list[:idx+1], label='traj_transformed')\n",
    "    plt.plot(vehicle_x[idx], vehicle_y[idx], '*', c='r', label='vehicle_location')\n",
    "    plt.plot(vehicle_x[:idx+1], vehicle_y[:idx+1], c='r', label='vehicle_path')\n",
    "    plt.legend()\n",
    "    img_fname = str(idx) + \".png\"\n",
    "    img_path = os.path.join(OUTPUT_PATH, img_fname)\n",
    "    plt.savefig(img_path)\n",
    "    plt.close()\n",
    "#     break"
   ]
  },
  {
   "cell_type": "code",
   "execution_count": 24,
   "metadata": {
    "ExecuteTime": {
     "end_time": "2020-03-02T22:45:52.977485Z",
     "start_time": "2020-03-02T22:40:24.920973Z"
    }
   },
   "outputs": [
    {
     "name": "stderr",
     "output_type": "stream",
     "text": [
      "/home/saby/anaconda3/envs/ati/lib/python3.6/site-packages/ipykernel_launcher.py:5: TqdmDeprecationWarning: This function will be removed in tqdm==5.0.0\n",
      "Please use `tqdm.notebook.tqdm` instead of `tqdm.tqdm_notebook`\n",
      "  \"\"\"\n"
     ]
    },
    {
     "data": {
      "application/vnd.jupyter.widget-view+json": {
       "model_id": "0bbe4fb4e4914aff828870a9b113e06a",
       "version_major": 2,
       "version_minor": 0
      },
      "text/plain": [
       "HBox(children=(FloatProgress(value=0.0, max=2883.0), HTML(value='')))"
      ]
     },
     "metadata": {},
     "output_type": "display_data"
    },
    {
     "name": "stdout",
     "output_type": "stream",
     "text": [
      "\n"
     ]
    },
    {
     "data": {
      "text/plain": [
       "12"
      ]
     },
     "execution_count": 24,
     "metadata": {},
     "output_type": "execute_result"
    }
   ],
   "source": [
    "parallel_args = range(len(x_gt_list))\n",
    "process_pool = Pool(cpu_count()-1)\n",
    "__ = [each for each in tqdm_notebook(process_pool.imap(parallel_thread,\n",
    "                                                       parallel_args),\n",
    "                                     total = len(parallel_args))]\n",
    "process_pool.terminate()\n",
    "gc.collect()"
   ]
  },
  {
   "cell_type": "raw",
   "metadata": {
    "ExecuteTime": {
     "start_time": "2020-03-02T22:02:18.186Z"
    }
   },
   "source": [
    "for idx in tqdm_notebook(range(len(x_gt_list))):\n",
    "    gt_transform = pose2matrix([x_gt_list[idx], y_gt_list[idx], 0], [0,0,yaw_gt_list[idx]])\n",
    "    fname = str(int(step_list[idx])) + \".ply\"\n",
    "    out_path = os.path.join(OUT_PATH, fname)\n",
    "    this_pcd = o3d.io.read_point_cloud(out_path)\n",
    "    this_pcd = this_pcd.voxel_down_sample(VOXEL_SZ)\n",
    "    this_pcd = correct_for_z(this_pcd)\n",
    "    this_arr = np.asarray(this_pcd.points)\n",
    "    pt_arr = np.concatenate((this_arr, np.ones((this_arr.shape[0],1))), axis=-1).T\n",
    "    transform_arr = np.matmul(gt_transform, pt_arr).T[:,:3]\n",
    "    \n",
    "    plt.figure(figsize=(20,20))\n",
    "#     axes = plt.gca()\n",
    "#     axes.set_xlim([-120,120])\n",
    "#     axes.set_ylim([-120,120])\n",
    "    plt.grid()\n",
    "    plt.plot(x_gt_list[idx], y_gt_list[idx], '*', c='g', label='gt_location')\n",
    "    plt.plot(x_gt_list[:idx+1], y_gt_list[:idx+1], c='g', label='gt_path')\n",
    "#     plt.plot(x_traj_list[:idx+1], y_traj_list[:idx+1], label='traj_transformed')\n",
    "    plt.plot(vehicle_x[idx], vehicle_y[idx], '*', c='r', label='vehicle_location')\n",
    "    plt.plot(vehicle_x[:idx+1], vehicle_y[:idx+1], c='r', label='vehicle_path')\n",
    "    plt.plot(transform_arr[:,0], transform_arr[:,1], '.', c='b', label='local_lidar_points')\n",
    "    plt.legend()\n",
    "    img_fname = str(idx) + \".png\"\n",
    "    img_path = os.path.join(OUTPUT_PATH, img_fname)\n",
    "    plt.savefig(img_path)\n",
    "    plt.close()\n",
    "#     break"
   ]
  },
  {
   "cell_type": "code",
   "execution_count": 25,
   "metadata": {
    "ExecuteTime": {
     "end_time": "2020-03-02T22:48:18.405225Z",
     "start_time": "2020-03-02T22:45:52.978814Z"
    }
   },
   "outputs": [
    {
     "name": "stderr",
     "output_type": "stream",
     "text": [
      "/home/saby/anaconda3/envs/ati/lib/python3.6/site-packages/ipykernel_launcher.py:16: TqdmDeprecationWarning: This function will be removed in tqdm==5.0.0\n",
      "Please use `tqdm.notebook.tqdm` instead of `tqdm.tqdm_notebook`\n",
      "  app.launch_new_instance()\n"
     ]
    },
    {
     "data": {
      "application/vnd.jupyter.widget-view+json": {
       "model_id": "854bfc61d8714fe69eb9b8edd679ceb2",
       "version_major": 2,
       "version_minor": 0
      },
      "text/plain": [
       "HBox(children=(FloatProgress(value=0.0, max=2883.0), HTML(value='')))"
      ]
     },
     "metadata": {},
     "output_type": "display_data"
    },
    {
     "name": "stdout",
     "output_type": "stream",
     "text": [
      "\n"
     ]
    }
   ],
   "source": [
    "# USE THIS\n",
    "\n",
    "video_path = OUTPUT_VIDEO_PATH\n",
    "\n",
    "imgs_path = os.path.join(OUTPUT_PATH)\n",
    "\n",
    "img_files = sorted(os.listdir(imgs_path), key=getint)\n",
    "\n",
    "some_file_path = os.path.join(OUTPUT_PATH, img_files[0])\n",
    "some_img = cv2.imread(some_file_path)\n",
    "height, width, layers = some_img.shape\n",
    "\n",
    "video_size = (width,height)\n",
    "video_fps  = 10\n",
    "\n",
    "out = cv2.VideoWriter(video_path, cv2.VideoWriter_fourcc(*'DIVX'), video_fps, video_size)\n",
    "\n",
    "for img_file in tqdm_notebook(img_files):\n",
    "    merged_file_path = os.path.join(OUTPUT_PATH, img_file)\n",
    "    merged_img_arr = cv2.imread(merged_file_path)\n",
    "    out.write(merged_img_arr)\n",
    "\n",
    "out.release()"
   ]
  },
  {
   "cell_type": "code",
   "execution_count": null,
   "metadata": {},
   "outputs": [],
   "source": []
  },
  {
   "cell_type": "code",
   "execution_count": null,
   "metadata": {},
   "outputs": [],
   "source": []
  },
  {
   "cell_type": "code",
   "execution_count": null,
   "metadata": {},
   "outputs": [],
   "source": []
  },
  {
   "cell_type": "code",
   "execution_count": null,
   "metadata": {},
   "outputs": [],
   "source": []
  },
  {
   "cell_type": "code",
   "execution_count": null,
   "metadata": {},
   "outputs": [],
   "source": []
  },
  {
   "cell_type": "code",
   "execution_count": null,
   "metadata": {},
   "outputs": [],
   "source": []
  },
  {
   "cell_type": "code",
   "execution_count": null,
   "metadata": {},
   "outputs": [],
   "source": []
  },
  {
   "cell_type": "code",
   "execution_count": null,
   "metadata": {},
   "outputs": [],
   "source": []
  },
  {
   "cell_type": "code",
   "execution_count": null,
   "metadata": {},
   "outputs": [],
   "source": []
  },
  {
   "cell_type": "code",
   "execution_count": null,
   "metadata": {},
   "outputs": [],
   "source": []
  },
  {
   "cell_type": "code",
   "execution_count": null,
   "metadata": {},
   "outputs": [],
   "source": []
  },
  {
   "cell_type": "code",
   "execution_count": null,
   "metadata": {},
   "outputs": [],
   "source": []
  },
  {
   "cell_type": "code",
   "execution_count": null,
   "metadata": {},
   "outputs": [],
   "source": []
  },
  {
   "cell_type": "code",
   "execution_count": null,
   "metadata": {},
   "outputs": [],
   "source": []
  },
  {
   "cell_type": "code",
   "execution_count": null,
   "metadata": {},
   "outputs": [],
   "source": []
  },
  {
   "cell_type": "code",
   "execution_count": null,
   "metadata": {},
   "outputs": [],
   "source": []
  },
  {
   "cell_type": "code",
   "execution_count": null,
   "metadata": {},
   "outputs": [],
   "source": []
  }
 ],
 "metadata": {
  "kernelspec": {
   "display_name": "Python 3",
   "language": "python",
   "name": "python3"
  },
  "language_info": {
   "codemirror_mode": {
    "name": "ipython",
    "version": 3
   },
   "file_extension": ".py",
   "mimetype": "text/x-python",
   "name": "python",
   "nbconvert_exporter": "python",
   "pygments_lexer": "ipython3",
   "version": "3.6.10"
  },
  "toc": {
   "base_numbering": 1,
   "nav_menu": {},
   "number_sections": true,
   "sideBar": true,
   "skip_h1_title": false,
   "title_cell": "Table of Contents",
   "title_sidebar": "Contents",
   "toc_cell": false,
   "toc_position": {},
   "toc_section_display": true,
   "toc_window_display": false
  }
 },
 "nbformat": 4,
 "nbformat_minor": 4
}
