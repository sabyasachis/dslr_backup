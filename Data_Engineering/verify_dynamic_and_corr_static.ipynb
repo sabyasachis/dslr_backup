{
 "cells": [
  {
   "cell_type": "code",
   "execution_count": 1,
   "metadata": {
    "ExecuteTime": {
     "end_time": "2020-09-16T16:13:58.361072Z",
     "start_time": "2020-09-16T16:13:57.440006Z"
    }
   },
   "outputs": [],
   "source": [
    "import open3d as o3d\n",
    "import gc\n",
    "import numpy as np\n",
    "import pandas as pd\n",
    "import matplotlib.pyplot as plt\n",
    "import transforms3d\n",
    "import copy"
   ]
  },
  {
   "cell_type": "code",
   "execution_count": 2,
   "metadata": {
    "ExecuteTime": {
     "end_time": "2020-09-16T16:13:58.945332Z",
     "start_time": "2020-09-16T16:13:58.937159Z"
    }
   },
   "outputs": [],
   "source": [
    "def from_polar_np(velo):\n",
    "    angles = np.linspace(0, np.pi * 2, velo.shape[-1])\n",
    "    dist, z = velo[:, 0], velo[:, 1]\n",
    "    x = np.cos(angles) * dist\n",
    "    y = np.sin(angles) * dist\n",
    "    out = np.stack([x,y,z], axis=1)\n",
    "    return out.astype('float32')"
   ]
  },
  {
   "cell_type": "code",
   "execution_count": 29,
   "metadata": {
    "ExecuteTime": {
     "end_time": "2020-09-16T16:25:01.810751Z",
     "start_time": "2020-09-16T16:24:59.402337Z"
    }
   },
   "outputs": [
    {
     "name": "stdout",
     "output_type": "stream",
     "text": [
      "starting\n",
      "static done\n",
      "dynamic done\n"
     ]
    }
   ],
   "source": [
    "# static_npy = \"/home/saby/Projects/ati/data/data/datasets/Carla/64beam-Data/testing/testing_data/_corr_static/18.npy\"\n",
    "# dynamic_npy = \"/home/saby/Projects/ati/data/data/datasets/Carla/64beam-Data/testing/testing_data/_corr_dynamic/18.npy\"\n",
    "\n",
    "# dynamic_npy = \"/home/saby/Projects/ati/data/data/datasets/Carla/64beam-Data/pair_transform_dynseg_all/emptycities_preprocess/test/d/emptycities_testd15.npy\"\n",
    "# static_npy = \"/home/saby/Projects/ati/data/data/datasets/Carla/64beam-Data/pair_transform_dynseg_all/emptycities_preprocess/test/rs/emptycities_testrs15.npy\"\n",
    "\n",
    "# dynamic_npy = \"/home/saby/Projects/ati/data/data/datasets/Carla/64beam-Data/pair_transform_dynseg_all/dynamic_out_npy/2.npy\"\n",
    "# static_npy = \"/home/saby/Projects/ati/data/data/datasets/Carla/64beam-Data/pair_transform_dynseg_all/static_out_npy/2.npy\"\n",
    "\n",
    "###################\n",
    "dynamic_npy = \"/home/saby/Projects/ati/data/data/datasets/Carla/64beam-Data/pair_transform_dynseg_all/segmentation_preprocess/dslrseg_test/dslrseg_testd15.npy\"\n",
    "static_npy = \"/home/saby/Projects/ati/data/data/datasets/Carla/64beam-Data/pair_transform_dynseg_all/segmentation_preprocess/dslrseg_test/dslrseg_tests15.npy\"\n",
    "\n",
    "# dynamic_npy = \"/home/saby/Projects/ati/data/data/datasets/Carla/64beam-Data/pair_transform_dynseg_all/segmentation_preprocess_bu/dynamic_preprocessed/16.npy\"\n",
    "# static_npy = \"/home/saby/Projects/ati/data/data/datasets/Carla/64beam-Data/pair_transform_dynseg_all/segmentation_preprocess_bu/static_preprocessed/16.npy\"\n",
    "\n",
    "\n",
    "print(\"starting\")\n",
    "static_arr = np.load(static_npy)\n",
    "print(\"static done\")\n",
    "dynamic_arr = np.load(dynamic_npy)\n",
    "print(\"dynamic done\")"
   ]
  },
  {
   "cell_type": "code",
   "execution_count": 30,
   "metadata": {
    "ExecuteTime": {
     "end_time": "2020-09-16T16:25:14.344453Z",
     "start_time": "2020-09-16T16:25:04.001371Z"
    }
   },
   "outputs": [],
   "source": [
    "static_arr = from_polar_np(static_arr).transpose(0,2,3,1)\n",
    "dynamic_arr = from_polar_np(dynamic_arr).transpose(0,2,3,1)\n",
    "\n",
    "img_size = static_arr.shape\n",
    "static_arr = np.concatenate([static_arr, np.zeros((img_size[0],img_size[1],img_size[2],1))], axis=-1)\n",
    "img_size = dynamic_arr.shape\n",
    "dynamic_arr = np.concatenate([dynamic_arr, np.zeros((img_size[0],img_size[1],img_size[2],1))], axis=-1)"
   ]
  },
  {
   "cell_type": "code",
   "execution_count": 31,
   "metadata": {
    "ExecuteTime": {
     "end_time": "2020-09-16T16:25:15.998642Z",
     "start_time": "2020-09-16T16:25:15.993500Z"
    }
   },
   "outputs": [
    {
     "data": {
      "text/plain": [
       "(1274, 64, 1024, 4)"
      ]
     },
     "execution_count": 31,
     "metadata": {},
     "output_type": "execute_result"
    }
   ],
   "source": [
    "static_arr.shape"
   ]
  },
  {
   "cell_type": "code",
   "execution_count": 32,
   "metadata": {
    "ExecuteTime": {
     "end_time": "2020-09-16T16:25:16.761955Z",
     "start_time": "2020-09-16T16:25:16.754680Z"
    }
   },
   "outputs": [
    {
     "data": {
      "text/plain": [
       "(1274, 64, 1024, 4)"
      ]
     },
     "execution_count": 32,
     "metadata": {},
     "output_type": "execute_result"
    }
   ],
   "source": [
    "dynamic_arr.shape"
   ]
  },
  {
   "cell_type": "code",
   "execution_count": 33,
   "metadata": {
    "ExecuteTime": {
     "end_time": "2020-09-16T16:25:17.289111Z",
     "start_time": "2020-09-16T16:25:17.282444Z"
    }
   },
   "outputs": [],
   "source": [
    "static_img = static_arr[-1]\n",
    "# static_img = static_arr[2033]\n",
    "# dynamic_img = dynamic_arr[2033]\n",
    "# dynamic_img = dynamic_arr[50,5:45,::2]\n",
    "# dynamic_img = dynamic_arr[50,:,::2]\n",
    "dynamic_img = dynamic_arr[-1]\n",
    "\n"
   ]
  },
  {
   "cell_type": "code",
   "execution_count": 34,
   "metadata": {
    "ExecuteTime": {
     "end_time": "2020-09-16T16:25:18.103318Z",
     "start_time": "2020-09-16T16:25:18.088028Z"
    }
   },
   "outputs": [
    {
     "data": {
      "text/plain": [
       "{False, True}"
      ]
     },
     "execution_count": 34,
     "metadata": {},
     "output_type": "execute_result"
    }
   ],
   "source": [
    "set((static_img == dynamic_img).reshape(1,-1)[0])"
   ]
  },
  {
   "cell_type": "code",
   "execution_count": 35,
   "metadata": {
    "ExecuteTime": {
     "end_time": "2020-09-16T16:25:18.673678Z",
     "start_time": "2020-09-16T16:25:18.646945Z"
    }
   },
   "outputs": [
    {
     "data": {
      "text/html": [
       "<div>\n",
       "<style scoped>\n",
       "    .dataframe tbody tr th:only-of-type {\n",
       "        vertical-align: middle;\n",
       "    }\n",
       "\n",
       "    .dataframe tbody tr th {\n",
       "        vertical-align: top;\n",
       "    }\n",
       "\n",
       "    .dataframe thead th {\n",
       "        text-align: right;\n",
       "    }\n",
       "</style>\n",
       "<table border=\"1\" class=\"dataframe\">\n",
       "  <thead>\n",
       "    <tr style=\"text-align: right;\">\n",
       "      <th></th>\n",
       "      <th>0</th>\n",
       "    </tr>\n",
       "  </thead>\n",
       "  <tbody>\n",
       "    <tr>\n",
       "      <th>count</th>\n",
       "      <td>262144.000000</td>\n",
       "    </tr>\n",
       "    <tr>\n",
       "      <th>mean</th>\n",
       "      <td>0.002191</td>\n",
       "    </tr>\n",
       "    <tr>\n",
       "      <th>std</th>\n",
       "      <td>0.014189</td>\n",
       "    </tr>\n",
       "    <tr>\n",
       "      <th>min</th>\n",
       "      <td>0.000000</td>\n",
       "    </tr>\n",
       "    <tr>\n",
       "      <th>25%</th>\n",
       "      <td>0.000000</td>\n",
       "    </tr>\n",
       "    <tr>\n",
       "      <th>50%</th>\n",
       "      <td>0.000000</td>\n",
       "    </tr>\n",
       "    <tr>\n",
       "      <th>75%</th>\n",
       "      <td>0.000000</td>\n",
       "    </tr>\n",
       "    <tr>\n",
       "      <th>max</th>\n",
       "      <td>0.404000</td>\n",
       "    </tr>\n",
       "  </tbody>\n",
       "</table>\n",
       "</div>"
      ],
      "text/plain": [
       "                   0\n",
       "count  262144.000000\n",
       "mean        0.002191\n",
       "std         0.014189\n",
       "min         0.000000\n",
       "25%         0.000000\n",
       "50%         0.000000\n",
       "75%         0.000000\n",
       "max         0.404000"
      ]
     },
     "execution_count": 35,
     "metadata": {},
     "output_type": "execute_result"
    }
   ],
   "source": [
    "pd.DataFrame(np.abs((static_img - dynamic_img).reshape(1,-1)[0])).describe()"
   ]
  },
  {
   "cell_type": "code",
   "execution_count": null,
   "metadata": {},
   "outputs": [],
   "source": []
  },
  {
   "cell_type": "code",
   "execution_count": 36,
   "metadata": {
    "ExecuteTime": {
     "end_time": "2020-09-16T16:25:19.789548Z",
     "start_time": "2020-09-16T16:25:19.774206Z"
    }
   },
   "outputs": [],
   "source": [
    "static_pcd = o3d.geometry.PointCloud()\n",
    "static_arr = static_img.reshape(-1,4)[:,:3]\n",
    "static_arr = np.concatenate((static_arr[:,1:2], -static_arr[:,0:1], static_arr[:,2:3]),axis=-1)\n",
    "static_pcd.points = o3d.utility.Vector3dVector(static_arr)\n",
    "\n",
    "dynamic_pcd = o3d.geometry.PointCloud()\n",
    "dynamic_arr = dynamic_img.reshape(-1,4)[:,:3]\n",
    "dynamic_arr = np.concatenate((dynamic_arr[:,1:2], -dynamic_arr[:,0:1], dynamic_arr[:,2:3]),axis=-1)\n",
    "dynamic_pcd.points = o3d.utility.Vector3dVector(dynamic_arr)"
   ]
  },
  {
   "cell_type": "code",
   "execution_count": 37,
   "metadata": {
    "ExecuteTime": {
     "end_time": "2020-09-16T16:25:20.322119Z",
     "start_time": "2020-09-16T16:25:20.311807Z"
    }
   },
   "outputs": [],
   "source": [
    "# Function to get transformation matrix for a given pose\n",
    "def pose2matrix(translation_list, rotation_angle_list, zoom_list=[1,1,1]):\n",
    "    # trans_vec = np.array(translation_list)\n",
    "    rot_ang = [np.deg2rad(ang) for ang in rotation_angle_list ]\n",
    "    rot_mat = transforms3d.euler.euler2mat(rot_ang[0], rot_ang[1], rot_ang[2])\n",
    "    zoom_vec = np.array(zoom_list)\n",
    "    # transform_mat = transforms3d.affines.compose(trans_vec, rot_mat, zoom_vec)\n",
    "    transform_mat = transforms3d.affines.compose(translation_list, rot_mat, zoom_list)\n",
    "    return transform_mat\n",
    "\n",
    "def draw_registration_result(src_pcd, dst_pcd, x_pt, y_pt, theta):\n",
    "    src_pcd_tmp = copy.deepcopy(src_pcd)\n",
    "    dst_pcd_tmp = copy.deepcopy(dst_pcd)\n",
    "    \n",
    "    src_pcd_tmp.paint_uniform_color([0, 0, 0])  # black source\n",
    "    dst_pcd_tmp.paint_uniform_color([1, 0, 0])  # red target\n",
    "    \n",
    "    transform_mat = pose2matrix([x_pt, y_pt, 0], [0,0,theta])\n",
    "    dst_pcd_tmp.transform(transform_mat)\n",
    "    \n",
    "    visualizer = o3d.JVisualizer()\n",
    "    visualizer.add_geometry(src_pcd_tmp)\n",
    "    visualizer.add_geometry(dst_pcd_tmp)\n",
    "    visualizer.show()"
   ]
  },
  {
   "cell_type": "code",
   "execution_count": 38,
   "metadata": {
    "ExecuteTime": {
     "end_time": "2020-09-16T16:25:25.831890Z",
     "start_time": "2020-09-16T16:25:21.531931Z"
    }
   },
   "outputs": [
    {
     "data": {
      "application/vnd.jupyter.widget-view+json": {
       "model_id": "8c613150226e47499f0fe0bf7ac4cb2c",
       "version_major": 2,
       "version_minor": 0
      },
      "text/plain": [
       "JVisualizer with 2 geometries"
      ]
     },
     "metadata": {},
     "output_type": "display_data"
    }
   ],
   "source": [
    "draw_registration_result(static_pcd, dynamic_pcd, 0, 0, 0)\n",
    "# static is black\n",
    "# dynamic is red"
   ]
  },
  {
   "cell_type": "code",
   "execution_count": null,
   "metadata": {},
   "outputs": [],
   "source": []
  },
  {
   "cell_type": "code",
   "execution_count": null,
   "metadata": {},
   "outputs": [],
   "source": []
  }
 ],
 "metadata": {
  "kernelspec": {
   "display_name": "Python 3",
   "language": "python",
   "name": "python3"
  },
  "language_info": {
   "codemirror_mode": {
    "name": "ipython",
    "version": 3
   },
   "file_extension": ".py",
   "mimetype": "text/x-python",
   "name": "python",
   "nbconvert_exporter": "python",
   "pygments_lexer": "ipython3",
   "version": "3.6.10"
  },
  "toc": {
   "base_numbering": 1,
   "nav_menu": {},
   "number_sections": true,
   "sideBar": true,
   "skip_h1_title": false,
   "title_cell": "Table of Contents",
   "title_sidebar": "Contents",
   "toc_cell": false,
   "toc_position": {},
   "toc_section_display": true,
   "toc_window_display": false
  }
 },
 "nbformat": 4,
 "nbformat_minor": 4
}
