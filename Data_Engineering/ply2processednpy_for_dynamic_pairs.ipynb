{
 "cells": [
  {
   "cell_type": "markdown",
   "metadata": {},
   "source": [
    "Imports"
   ]
  },
  {
   "cell_type": "code",
   "execution_count": 11,
   "metadata": {
    "ExecuteTime": {
     "end_time": "2019-12-20T15:12:27.136781Z",
     "start_time": "2019-12-20T15:12:27.132627Z"
    }
   },
   "outputs": [
    {
     "data": {
      "text/plain": [
       "'0.7.0.0'"
      ]
     },
     "execution_count": 11,
     "metadata": {},
     "output_type": "execute_result"
    }
   ],
   "source": [
    "import open3d as o3d\n",
    "o3d.__version__"
   ]
  },
  {
   "cell_type": "code",
   "execution_count": 1,
   "metadata": {
    "ExecuteTime": {
     "end_time": "2019-12-20T12:28:03.545736Z",
     "start_time": "2019-12-20T12:28:02.980189Z"
    }
   },
   "outputs": [],
   "source": [
    "import pdb\n",
    "import numpy as np\n",
    "import os, shutil\n",
    "from tqdm import tqdm_notebook\n",
    "import pandas as pd\n",
    "import open3d as o3d\n",
    "import gc\n",
    "import zipfile\n",
    "from multiprocessing import Pool, cpu_count\n",
    "# from IPython.core.display import display, HTML\n",
    "# display(HTML(\"<style>.container { width:80% !important; }</style>\"))"
   ]
  },
  {
   "cell_type": "markdown",
   "metadata": {},
   "source": [
    "Set Paths and constants"
   ]
  },
  {
   "cell_type": "code",
   "execution_count": 2,
   "metadata": {
    "ExecuteTime": {
     "end_time": "2019-12-20T12:28:03.550410Z",
     "start_time": "2019-12-20T12:28:03.547650Z"
    }
   },
   "outputs": [],
   "source": [
    "# pcd_folder='/home/sabyasachi/Projects/ati/data/data/datasets/Carla/lidarParam1/pair_corrupt/dynamic/'\n",
    "# npy_folder='/home/sabyasachi/Projects/ati/data/data/datasets/Carla/lidarParam1/pair_corrupt/dynamic_NPY/'\n",
    "\n",
    "BASE_PATH = '/home/sabyasachi/Projects/ati/data/data/datasets/Carla/small_map/110k/'\n",
    "STATIC_FOLDER = \"static\"\n",
    "# Do for both\n",
    "PCD_FOLDER = \"_out\"\n",
    "# PCD_FOLDER = \"dynamic\"\n",
    "EXTRACTED_ARRAY_FNAME = \"arr_0.npy\"\n",
    "\n",
    "# BATCH_SIZE = 80000\n",
    "# BATCH_SIZE = 2048\n",
    "RANGE_IMAGE_HEIGHT = 32\n",
    "RANGE_IMAGE_WIDTH = 512"
   ]
  },
  {
   "cell_type": "markdown",
   "metadata": {},
   "source": [
    "Preprocessing functions from the paper source code"
   ]
  },
  {
   "cell_type": "code",
   "execution_count": 3,
   "metadata": {
    "ExecuteTime": {
     "end_time": "2019-12-20T12:28:03.580803Z",
     "start_time": "2019-12-20T12:28:03.552040Z"
    },
    "code_folding": [
     0,
     13,
     20,
     65,
     90,
     130
    ]
   },
   "outputs": [],
   "source": [
    "def get_quadrant(point):\n",
    "    if point[0] >= 0. and point[1] >= 0. :\n",
    "        return 0\n",
    "    elif point[0] <= 0. and point[1] >= 0. : \n",
    "        return 1\n",
    "    elif point[0] <= 0. and point[1] <= 0. : \n",
    "        return 2\n",
    "    elif point[0] >= 0. and point[1] <= 0. : \n",
    "        return 3\n",
    "    else :\n",
    "        raise Exception('invalid input %s', point) \n",
    "\n",
    "\n",
    "def passed_origin(x_t, x_t1):\n",
    "    if get_quadrant(x_t1) == 3 and get_quadrant(x_t) == 0: \n",
    "        return True\n",
    "    else : \n",
    "        return False\n",
    "\n",
    "\n",
    "def fit_quadrant(points, quadrant, desired_amt):\n",
    "    \n",
    "    \n",
    "    points = np.asarray(points)\n",
    "    slots = []\n",
    "    slot_size = np.pi / (2 * desired_amt)\n",
    "    for i in range(int(desired_amt)) : slots.append([])\n",
    "    if quadrant == 0: \n",
    "        points = points[::-1]\n",
    "    elif quadrant == 1 : \n",
    "        points[:, 0] = - points[:, 0]\n",
    "    elif quadrant == 2 :\n",
    "        points = points[::-1] \n",
    "        points[:, 0] = - points[:, 0]\n",
    "        points[:, 1] = - points[:, 1]\n",
    "    elif quadrant == 3 : \n",
    "        points[:, 1] = - points[:, 1]\n",
    "\n",
    "    # import pdb; pdb.set_trace()\n",
    "    for point in points :\n",
    "        angle = np.arctan(point[1] / (point[0]+0.000001))\n",
    "        index = min(int(angle / slot_size), desired_amt - 1)\n",
    "        slots[int(index)].append(point)\n",
    "\n",
    "    for i in range(len(slots)):\n",
    "        if len(slots[i]) == 0 : \n",
    "            slots[i] = np.array([0., 0., 0., 0.])\n",
    "        else :\n",
    "            full_slot = np.asarray(slots[i])\n",
    "            slots[i] = full_slot.mean(axis=0)\n",
    "\n",
    "    points = np.asarray(slots)\n",
    "    if quadrant == 0: \n",
    "        points = points[::-1]\n",
    "    elif quadrant == 1 : \n",
    "        points[:, 0] = - points[:, 0]\n",
    "    elif quadrant == 2 : \n",
    "        points = points[::-1]\n",
    "        points[:, 0] = - points[:, 0]\n",
    "        points[:, 1] = - points[:, 1]\n",
    "    elif quadrant == 3 : \n",
    "        points[:, 1] = - points[:, 1]\n",
    "\n",
    "    return points\n",
    "\n",
    "def parse_velo(velo):\n",
    "    # points closer to the origin (0,0,0) are at the end of the point cloud.\n",
    "    # invert the point cloud such that we begin near the origin. \n",
    "    \n",
    "    # returns: a H x 4 x ? array, split into quadrants\n",
    "    velo = velo[::-1]\n",
    "    lines = []\n",
    "    current_point = velo[0]\n",
    "    current_quadrant = get_quadrant(current_point)\n",
    "    current_line = [[], [], [], []]\n",
    "    quadrant_switches = 0\n",
    "    for point in velo :\n",
    "        point_quadrant = get_quadrant(point)\n",
    "        \n",
    "        if passed_origin(current_point, point):\n",
    "            lines.append(current_line)\n",
    "            current_line = [[], [], [], []]\n",
    "\n",
    "        current_line[point_quadrant].append(point)\n",
    "        current_quadrant = point_quadrant\n",
    "        current_point = point\n",
    "\n",
    "    return lines\n",
    "\n",
    "\n",
    "def setmatch(lines,lenLines):\n",
    "    arr=[[np.array([0,0,0,0]),np.array([0,0,0,0])]]\n",
    "    if len(lines) > lenLines:\n",
    "        return lines[:lenLines]\n",
    "    else:\n",
    "        for i in range(abs(len(lines)-lenLines)):\n",
    "            lines.append(arr)\n",
    "    return lines\n",
    "\n",
    "def process_velo(velo, points_per_layer, stop=False):\n",
    "    \n",
    "    lenLines=RANGE_IMAGE_HEIGHT\n",
    "    lines = parse_velo(velo)\n",
    "    inverse = quad_to_pc_inv(lines)\n",
    "    lines = lines[2:-1]\n",
    "#     print(lines[])\n",
    "#     print((lines[0]))\n",
    "#     raise SystemError\n",
    "    if(len(lines)!=lenLines):\n",
    "        lines=setmatch(lines,lenLines)\n",
    "#     print(len(lines), flush=True)\n",
    "    if len(lines) != RANGE_IMAGE_HEIGHT : raise Exception('invalid nb un of lines')\n",
    "    out_tensor = np.zeros((RANGE_IMAGE_HEIGHT, points_per_layer, 4))\n",
    "    if stop:\n",
    "        import pdb; pdb.set_trace()\n",
    "        x = 1\n",
    "    for j in range(len(lines)):\n",
    "        line = lines[j]\n",
    "        out_line = np.zeros((points_per_layer, 4))\n",
    "        for i in range(len(line)):\n",
    "            if(len(line[i])==0):\n",
    "                line[i]=[np.array([0.0,0.0,0.0,0.0])]\n",
    "            gridded = fit_quadrant(line[i], i, points_per_layer / 4)\n",
    "            out_tensor[j][i*int(points_per_layer/4):(i+1)*int(points_per_layer/4), :] = gridded[::-1]\n",
    "\n",
    "    return out_tensor, inverse\n",
    "\n",
    "\n",
    "def quad_to_pc_inv(lines, th=3.):\n",
    "    # lines is a 63 x 4 array, where each slot has an array of 4d/3d points\n",
    "    # goal : get an array of points that fills empty spaces\n",
    "    points = []\n",
    "    for i in range(len(lines)) :\n",
    "        line = lines[i] \n",
    "        distance = []\n",
    "        for quad in line : \n",
    "            for point in quad : \n",
    "                x, y, z = point[:3]\n",
    "                distance.append(x**2 + y**2)\n",
    "        distance = np.array(distance)\n",
    "        std = distance.std()\n",
    "        sorted_indices = np.argsort(distance)\n",
    "        median_index = sorted_indices[int(sorted_indices.shape[0]*0.95)]\n",
    "        median = distance[median_index]\n",
    "\n",
    "        for quad in line : \n",
    "            for point in quad : \n",
    "                x, y, z = point[:3]\n",
    "                dist = x ** 2 + y ** 2 \n",
    "                if dist < median and (median/dist-1.) > th:#*std : \n",
    "                    # blocked point --> scale to get real pt\n",
    "                    scale = np.sqrt(median / dist)\n",
    "                    scaled = scale * point\n",
    "                    points.append(scaled)\n",
    "\n",
    "\n",
    "    return np.array(points)\n"
   ]
  },
  {
   "cell_type": "code",
   "execution_count": 4,
   "metadata": {
    "ExecuteTime": {
     "end_time": "2019-12-20T12:28:03.586136Z",
     "start_time": "2019-12-20T12:28:03.583067Z"
    },
    "code_folding": []
   },
   "outputs": [],
   "source": [
    "def getint(name):\n",
    "    return int(name.split('.')[0])"
   ]
  },
  {
   "cell_type": "code",
   "execution_count": 5,
   "metadata": {
    "ExecuteTime": {
     "end_time": "2019-12-20T12:28:03.597308Z",
     "start_time": "2019-12-20T12:28:03.588859Z"
    }
   },
   "outputs": [],
   "source": [
    "def parallel_pcd2begin_npy(pcd_fname):\n",
    "    pcd_file_path = os.path.join(PCD_PATH, pcd_fname)\n",
    "    pcd = o3d.read_point_cloud(pcd_file_path)\n",
    "    pcd_arr = np.asarray(pcd.points)\n",
    "    pcd_arr = np.append(pcd_arr, np.zeros((pcd_arr.shape[0],1)), axis=1)\n",
    "    \n",
    "    npy_fname = pcd_fname[:-4] + \".npy\"\n",
    "    npy_file_path = os.path.join(INITIAL_NPY_PATH, npy_fname)\n",
    "    pcd_arr.dump(open(npy_file_path, 'wb'))\n",
    "\n",
    "def parallel_npy2processed(npy_file):\n",
    "    gc.collect()\n",
    "    npy_file_path = os.path.join(INITIAL_NPY_PATH, npy_file)\n",
    "    raw_lidar = np.load(npy_file_path, allow_pickle=True)\n",
    "    processed_lidar, _ = process_velo(raw_lidar, RANGE_IMAGE_WIDTH)\n",
    "    return processed_lidar"
   ]
  },
  {
   "cell_type": "code",
   "execution_count": null,
   "metadata": {},
   "outputs": [],
   "source": []
  },
  {
   "cell_type": "markdown",
   "metadata": {},
   "source": [
    "PCD to NPY files"
   ]
  },
  {
   "cell_type": "code",
   "execution_count": 6,
   "metadata": {
    "ExecuteTime": {
     "end_time": "2019-12-20T12:36:41.899340Z",
     "start_time": "2019-12-20T12:28:03.599430Z"
    },
    "scrolled": false
   },
   "outputs": [
    {
     "name": "stdout",
     "output_type": "stream",
     "text": [
      "Sub folder: 8\n"
     ]
    },
    {
     "data": {
      "application/vnd.jupyter.widget-view+json": {
       "model_id": "a2175b8978674c91a962e7916445513d",
       "version_major": 2,
       "version_minor": 0
      },
      "text/plain": [
       "HBox(children=(IntProgress(value=0, max=1366), HTML(value='')))"
      ]
     },
     "metadata": {},
     "output_type": "display_data"
    },
    {
     "name": "stdout",
     "output_type": "stream",
     "text": [
      "\n",
      "No of npzs: 1\n",
      "1366\n"
     ]
    },
    {
     "data": {
      "application/vnd.jupyter.widget-view+json": {
       "model_id": "83279cd18870494d978bd2c799f2141e",
       "version_major": 2,
       "version_minor": 0
      },
      "text/plain": [
       "HBox(children=(IntProgress(value=0, max=1366), HTML(value='')))"
      ]
     },
     "metadata": {},
     "output_type": "display_data"
    },
    {
     "name": "stdout",
     "output_type": "stream",
     "text": [
      "\n",
      "Extracting out_npys\n"
     ]
    },
    {
     "data": {
      "application/vnd.jupyter.widget-view+json": {
       "model_id": "35a128f40485451fb626e74dfa625fce",
       "version_major": 2,
       "version_minor": 0
      },
      "text/plain": [
       "HBox(children=(IntProgress(value=0, max=1), HTML(value='')))"
      ]
     },
     "metadata": {},
     "output_type": "display_data"
    },
    {
     "name": "stdout",
     "output_type": "stream",
     "text": [
      "\n",
      "Sub folder: 4\n"
     ]
    },
    {
     "data": {
      "application/vnd.jupyter.widget-view+json": {
       "model_id": "a38f99a031cb44eba9fb6b0de42fba64",
       "version_major": 2,
       "version_minor": 0
      },
      "text/plain": [
       "HBox(children=(IntProgress(value=0, max=1452), HTML(value='')))"
      ]
     },
     "metadata": {},
     "output_type": "display_data"
    },
    {
     "name": "stdout",
     "output_type": "stream",
     "text": [
      "\n",
      "No of npzs: 1\n",
      "1452\n"
     ]
    },
    {
     "data": {
      "application/vnd.jupyter.widget-view+json": {
       "model_id": "1dc4eab2fc164552867c1d2da09cd33b",
       "version_major": 2,
       "version_minor": 0
      },
      "text/plain": [
       "HBox(children=(IntProgress(value=0, max=1452), HTML(value='')))"
      ]
     },
     "metadata": {},
     "output_type": "display_data"
    },
    {
     "name": "stdout",
     "output_type": "stream",
     "text": [
      "\n",
      "Extracting out_npys\n"
     ]
    },
    {
     "data": {
      "application/vnd.jupyter.widget-view+json": {
       "model_id": "bc6ed8f904d54e9f9275b1fe343cf240",
       "version_major": 2,
       "version_minor": 0
      },
      "text/plain": [
       "HBox(children=(IntProgress(value=0, max=1), HTML(value='')))"
      ]
     },
     "metadata": {},
     "output_type": "display_data"
    },
    {
     "name": "stdout",
     "output_type": "stream",
     "text": [
      "\n",
      "Sub folder: 1\n"
     ]
    },
    {
     "data": {
      "application/vnd.jupyter.widget-view+json": {
       "model_id": "564263441b97452cad41151906aa3281",
       "version_major": 2,
       "version_minor": 0
      },
      "text/plain": [
       "HBox(children=(IntProgress(value=0, max=3829), HTML(value='')))"
      ]
     },
     "metadata": {},
     "output_type": "display_data"
    },
    {
     "name": "stdout",
     "output_type": "stream",
     "text": [
      "\n",
      "No of npzs: 1\n",
      "3829\n"
     ]
    },
    {
     "data": {
      "application/vnd.jupyter.widget-view+json": {
       "model_id": "d51aa167f9bd4c18a329259dd29d973f",
       "version_major": 2,
       "version_minor": 0
      },
      "text/plain": [
       "HBox(children=(IntProgress(value=0, max=3829), HTML(value='')))"
      ]
     },
     "metadata": {},
     "output_type": "display_data"
    },
    {
     "name": "stdout",
     "output_type": "stream",
     "text": [
      "\n",
      "Extracting out_npys\n"
     ]
    },
    {
     "data": {
      "application/vnd.jupyter.widget-view+json": {
       "model_id": "9b1bacb76df74a949489a766ec470638",
       "version_major": 2,
       "version_minor": 0
      },
      "text/plain": [
       "HBox(children=(IntProgress(value=0, max=1), HTML(value='')))"
      ]
     },
     "metadata": {},
     "output_type": "display_data"
    },
    {
     "name": "stdout",
     "output_type": "stream",
     "text": [
      "\n",
      "Sub folder: 5\n"
     ]
    },
    {
     "data": {
      "application/vnd.jupyter.widget-view+json": {
       "model_id": "dc2ef7b0691c406f9088247b47723bb7",
       "version_major": 2,
       "version_minor": 0
      },
      "text/plain": [
       "HBox(children=(IntProgress(value=0, max=2202), HTML(value='')))"
      ]
     },
     "metadata": {},
     "output_type": "display_data"
    },
    {
     "name": "stdout",
     "output_type": "stream",
     "text": [
      "\n",
      "No of npzs: 1\n",
      "2202\n"
     ]
    },
    {
     "data": {
      "application/vnd.jupyter.widget-view+json": {
       "model_id": "252d9b2731dd435cb5b27ab58eca0e81",
       "version_major": 2,
       "version_minor": 0
      },
      "text/plain": [
       "HBox(children=(IntProgress(value=0, max=2202), HTML(value='')))"
      ]
     },
     "metadata": {},
     "output_type": "display_data"
    },
    {
     "name": "stdout",
     "output_type": "stream",
     "text": [
      "\n",
      "Extracting out_npys\n"
     ]
    },
    {
     "data": {
      "application/vnd.jupyter.widget-view+json": {
       "model_id": "1f6a320588094fb49d0e377314932c45",
       "version_major": 2,
       "version_minor": 0
      },
      "text/plain": [
       "HBox(children=(IntProgress(value=0, max=1), HTML(value='')))"
      ]
     },
     "metadata": {},
     "output_type": "display_data"
    },
    {
     "name": "stdout",
     "output_type": "stream",
     "text": [
      "\n",
      "Sub folder: 6\n"
     ]
    },
    {
     "data": {
      "application/vnd.jupyter.widget-view+json": {
       "model_id": "048188d42ab947498274851e698c46b1",
       "version_major": 2,
       "version_minor": 0
      },
      "text/plain": [
       "HBox(children=(IntProgress(value=0, max=1110), HTML(value='')))"
      ]
     },
     "metadata": {},
     "output_type": "display_data"
    },
    {
     "name": "stdout",
     "output_type": "stream",
     "text": [
      "\n",
      "No of npzs: 1\n",
      "1110\n"
     ]
    },
    {
     "data": {
      "application/vnd.jupyter.widget-view+json": {
       "model_id": "4fc47d81e0f94f13a2e22b347187adc0",
       "version_major": 2,
       "version_minor": 0
      },
      "text/plain": [
       "HBox(children=(IntProgress(value=0, max=1110), HTML(value='')))"
      ]
     },
     "metadata": {},
     "output_type": "display_data"
    },
    {
     "name": "stdout",
     "output_type": "stream",
     "text": [
      "\n",
      "Extracting out_npys\n"
     ]
    },
    {
     "data": {
      "application/vnd.jupyter.widget-view+json": {
       "model_id": "88d12174660e495ba9190846673a775e",
       "version_major": 2,
       "version_minor": 0
      },
      "text/plain": [
       "HBox(children=(IntProgress(value=0, max=1), HTML(value='')))"
      ]
     },
     "metadata": {},
     "output_type": "display_data"
    },
    {
     "name": "stdout",
     "output_type": "stream",
     "text": [
      "\n",
      "Sub folder: 2\n"
     ]
    },
    {
     "data": {
      "application/vnd.jupyter.widget-view+json": {
       "model_id": "34285cce1dc847deb141a65ed7c5ae83",
       "version_major": 2,
       "version_minor": 0
      },
      "text/plain": [
       "HBox(children=(IntProgress(value=0, max=1027), HTML(value='')))"
      ]
     },
     "metadata": {},
     "output_type": "display_data"
    },
    {
     "name": "stdout",
     "output_type": "stream",
     "text": [
      "\n",
      "No of npzs: 1\n",
      "1027\n"
     ]
    },
    {
     "data": {
      "application/vnd.jupyter.widget-view+json": {
       "model_id": "1f2ca41a52e342739ee22bc060401b91",
       "version_major": 2,
       "version_minor": 0
      },
      "text/plain": [
       "HBox(children=(IntProgress(value=0, max=1027), HTML(value='')))"
      ]
     },
     "metadata": {},
     "output_type": "display_data"
    },
    {
     "name": "stdout",
     "output_type": "stream",
     "text": [
      "\n",
      "Extracting out_npys\n"
     ]
    },
    {
     "data": {
      "application/vnd.jupyter.widget-view+json": {
       "model_id": "f35dbf1c495e4ba2a030ba03ba9be43a",
       "version_major": 2,
       "version_minor": 0
      },
      "text/plain": [
       "HBox(children=(IntProgress(value=0, max=1), HTML(value='')))"
      ]
     },
     "metadata": {},
     "output_type": "display_data"
    },
    {
     "name": "stdout",
     "output_type": "stream",
     "text": [
      "\n",
      "Sub folder: 3\n"
     ]
    },
    {
     "data": {
      "application/vnd.jupyter.widget-view+json": {
       "model_id": "9e04f52d639f4940b88e2d2338633127",
       "version_major": 2,
       "version_minor": 0
      },
      "text/plain": [
       "HBox(children=(IntProgress(value=0, max=3835), HTML(value='')))"
      ]
     },
     "metadata": {},
     "output_type": "display_data"
    },
    {
     "name": "stdout",
     "output_type": "stream",
     "text": [
      "\n",
      "No of npzs: 1\n",
      "3835\n"
     ]
    },
    {
     "data": {
      "application/vnd.jupyter.widget-view+json": {
       "model_id": "cb9bd247f2f149ea84c01afed97aa200",
       "version_major": 2,
       "version_minor": 0
      },
      "text/plain": [
       "HBox(children=(IntProgress(value=0, max=3835), HTML(value='')))"
      ]
     },
     "metadata": {},
     "output_type": "display_data"
    },
    {
     "name": "stdout",
     "output_type": "stream",
     "text": [
      "\n",
      "Extracting out_npys\n"
     ]
    },
    {
     "data": {
      "application/vnd.jupyter.widget-view+json": {
       "model_id": "d1b361851cd64fa385679877a40bc256",
       "version_major": 2,
       "version_minor": 0
      },
      "text/plain": [
       "HBox(children=(IntProgress(value=0, max=1), HTML(value='')))"
      ]
     },
     "metadata": {},
     "output_type": "display_data"
    },
    {
     "name": "stdout",
     "output_type": "stream",
     "text": [
      "\n",
      "Sub folder: 7\n"
     ]
    },
    {
     "data": {
      "application/vnd.jupyter.widget-view+json": {
       "model_id": "35debd4cb2404ad29f7ccb922fdf1de6",
       "version_major": 2,
       "version_minor": 0
      },
      "text/plain": [
       "HBox(children=(IntProgress(value=0, max=471), HTML(value='')))"
      ]
     },
     "metadata": {},
     "output_type": "display_data"
    },
    {
     "name": "stdout",
     "output_type": "stream",
     "text": [
      "\n",
      "No of npzs: 1\n",
      "471\n"
     ]
    },
    {
     "data": {
      "application/vnd.jupyter.widget-view+json": {
       "model_id": "3fc1a924eff84d8096815a016532dfef",
       "version_major": 2,
       "version_minor": 0
      },
      "text/plain": [
       "HBox(children=(IntProgress(value=0, max=471), HTML(value='')))"
      ]
     },
     "metadata": {},
     "output_type": "display_data"
    },
    {
     "name": "stdout",
     "output_type": "stream",
     "text": [
      "\n",
      "Extracting out_npys\n"
     ]
    },
    {
     "data": {
      "application/vnd.jupyter.widget-view+json": {
       "model_id": "0c825d00bdae4c96bf35cd17716b5635",
       "version_major": 2,
       "version_minor": 0
      },
      "text/plain": [
       "HBox(children=(IntProgress(value=0, max=1), HTML(value='')))"
      ]
     },
     "metadata": {},
     "output_type": "display_data"
    },
    {
     "name": "stdout",
     "output_type": "stream",
     "text": [
      "\n"
     ]
    }
   ],
   "source": [
    "for sub_folder in os.listdir(os.path.join(BASE_PATH, STATIC_FOLDER)):\n",
    "    print(\"Sub folder: {}\".format(sub_folder))\n",
    "    PCD_PATH = os.path.join(BASE_PATH, STATIC_FOLDER, sub_folder, PCD_FOLDER)\n",
    "    if not os.path.exists(PCD_PATH):\n",
    "        print(\"Did not find : {}\".format(PCD_PATH))\n",
    "\n",
    "    INITIAL_NPY_FOLDER = PCD_FOLDER + \"_begin_npy\"\n",
    "    INITIAL_NPY_PATH = os.path.join(BASE_PATH, STATIC_FOLDER, sub_folder, INITIAL_NPY_FOLDER)\n",
    "    if not os.path.exists(INITIAL_NPY_PATH):\n",
    "        os.makedirs(INITIAL_NPY_PATH)\n",
    "    else:\n",
    "        shutil.rmtree(INITIAL_NPY_PATH)\n",
    "        os.makedirs(INITIAL_NPY_PATH)\n",
    "\n",
    "    NPZ_FOLDER = PCD_FOLDER + \"_npz\"\n",
    "    NPZ_PATH = os.path.join(BASE_PATH, STATIC_FOLDER, sub_folder, NPZ_FOLDER)\n",
    "    if not os.path.exists(NPZ_PATH):\n",
    "        os.makedirs(NPZ_PATH)\n",
    "    else:\n",
    "        shutil.rmtree(NPZ_PATH)\n",
    "        os.makedirs(NPZ_PATH)\n",
    "\n",
    "    OUT_NPY_FOLDER = PCD_FOLDER + \"_out_npy\"\n",
    "    OUT_NPY_PATH = os.path.join(BASE_PATH, STATIC_FOLDER, sub_folder, OUT_NPY_FOLDER)\n",
    "    if not os.path.exists(OUT_NPY_PATH):\n",
    "        os.makedirs(OUT_NPY_PATH)\n",
    "    else:\n",
    "        shutil.rmtree(OUT_NPY_PATH)\n",
    "        os.makedirs(OUT_NPY_PATH)\n",
    "\n",
    "\n",
    "\n",
    "    parallel_npy_args = sorted(os.listdir(PCD_PATH), key=getint)\n",
    "    process_npy_pool = Pool(cpu_count()-1)\n",
    "    __ = [each for each in tqdm_notebook(process_npy_pool.imap(parallel_pcd2begin_npy,\n",
    "                                                           parallel_npy_args),\n",
    "                                         total = len(parallel_npy_args))]\n",
    "    process_npy_pool.terminate()\n",
    "    gc.collect()\n",
    "\n",
    "\n",
    "    npy_folder_size = len(os.listdir(INITIAL_NPY_PATH))\n",
    "#     leftout_size = npy_folder_size % BATCH_SIZE\n",
    "#     n_batches = int(npy_folder_size / BATCH_SIZE)\n",
    "    file_list = sorted(os.listdir(INITIAL_NPY_PATH), key=getint)\n",
    "#     full_npy_file_list = np.split(np.array(file_list)[:-leftout_size], n_batches)\n",
    "#     # To consider last small batch\n",
    "#     full_npy_file_list += [np.array(file_list[-leftout_size:])]\n",
    "    full_npy_file_list = [np.array(file_list)]\n",
    "\n",
    "    print(\"No of npzs: {}\".format(len(full_npy_file_list)))\n",
    "\n",
    "    npz_file_idx = 0\n",
    "    for some_npy_file_list in full_npy_file_list:\n",
    "        print(len(some_npy_file_list))\n",
    "        parallel_processed_args = some_npy_file_list\n",
    "        process_processed_pool = Pool(cpu_count()-1)\n",
    "        one_run_npy_file = [each for each in tqdm_notebook(process_processed_pool.imap(parallel_npy2processed,\n",
    "                                                               parallel_processed_args), total=len(parallel_processed_args))]\n",
    "        process_processed_pool.terminate()\n",
    "        gc.collect()\n",
    "\n",
    "        npz_file_path = os.path.join(NPZ_PATH, str(npz_file_idx))\n",
    "        np.savez(npz_file_path, one_run_npy_file)\n",
    "        npz_file_idx += 1\n",
    "\n",
    "    print(\"Extracting out_npys\")\n",
    "    for npz_fname in tqdm_notebook(sorted(os.listdir(NPZ_PATH), key=getint)):\n",
    "        npz_path = os.path.join(NPZ_PATH, npz_fname)\n",
    "        with zipfile.ZipFile(npz_path, 'r') as zip_ref:\n",
    "            zip_ref.extractall(OUT_NPY_PATH)\n",
    "\n",
    "        out_npy_fname = npz_fname[:-4] + \".npy\"\n",
    "        src_fname = os.path.join(OUT_NPY_PATH, EXTRACTED_ARRAY_FNAME)\n",
    "        dst_fname = os.path.join(OUT_NPY_PATH, out_npy_fname)\n",
    "        os.rename(src_fname, dst_fname)\n",
    "        \n",
    "    shutil.rmtree(INITIAL_NPY_PATH)\n",
    "    shutil.rmtree(NPZ_PATH)"
   ]
  },
  {
   "cell_type": "code",
   "execution_count": 7,
   "metadata": {
    "ExecuteTime": {
     "end_time": "2019-12-20T12:36:41.910622Z",
     "start_time": "2019-12-20T12:36:41.901313Z"
    }
   },
   "outputs": [
    {
     "data": {
      "text/plain": [
       "[array(['1.npy', '2.npy', '3.npy', '4.npy', '5.npy', '6.npy', '7.npy',\n",
       "        '8.npy', '9.npy', '10.npy', '11.npy', '12.npy', '13.npy', '14.npy',\n",
       "        '15.npy', '16.npy', '17.npy', '18.npy', '19.npy', '20.npy',\n",
       "        '21.npy', '22.npy', '23.npy', '24.npy', '25.npy', '26.npy',\n",
       "        '27.npy', '28.npy', '29.npy', '30.npy', '31.npy', '32.npy',\n",
       "        '33.npy', '34.npy', '35.npy', '36.npy', '37.npy', '38.npy',\n",
       "        '39.npy', '40.npy', '41.npy', '42.npy', '43.npy', '44.npy',\n",
       "        '45.npy', '46.npy', '47.npy', '48.npy', '49.npy', '50.npy',\n",
       "        '51.npy', '52.npy', '53.npy', '54.npy', '55.npy', '56.npy',\n",
       "        '57.npy', '58.npy', '59.npy', '60.npy', '61.npy', '62.npy',\n",
       "        '63.npy', '64.npy', '65.npy', '66.npy', '67.npy', '68.npy',\n",
       "        '69.npy', '70.npy', '71.npy', '72.npy', '73.npy', '74.npy',\n",
       "        '75.npy', '76.npy', '77.npy', '78.npy', '79.npy', '80.npy',\n",
       "        '81.npy', '82.npy', '83.npy', '84.npy', '85.npy', '86.npy',\n",
       "        '87.npy', '88.npy', '89.npy', '90.npy', '91.npy', '92.npy',\n",
       "        '93.npy', '94.npy', '95.npy', '96.npy', '97.npy', '98.npy',\n",
       "        '99.npy', '100.npy', '101.npy', '102.npy', '103.npy', '104.npy',\n",
       "        '105.npy', '106.npy', '107.npy', '108.npy', '109.npy', '110.npy',\n",
       "        '111.npy', '112.npy', '113.npy', '114.npy', '115.npy', '116.npy',\n",
       "        '117.npy', '118.npy', '119.npy', '120.npy', '121.npy', '122.npy',\n",
       "        '123.npy', '124.npy', '125.npy', '126.npy', '127.npy', '128.npy',\n",
       "        '129.npy', '130.npy', '131.npy', '132.npy', '133.npy', '134.npy',\n",
       "        '135.npy', '136.npy', '137.npy', '138.npy', '139.npy', '140.npy',\n",
       "        '141.npy', '142.npy', '143.npy', '144.npy', '145.npy', '146.npy',\n",
       "        '147.npy', '148.npy', '149.npy', '150.npy', '151.npy', '152.npy',\n",
       "        '153.npy', '154.npy', '155.npy', '156.npy', '157.npy', '158.npy',\n",
       "        '159.npy', '160.npy', '161.npy', '162.npy', '163.npy', '164.npy',\n",
       "        '165.npy', '166.npy', '167.npy', '168.npy', '169.npy', '170.npy',\n",
       "        '171.npy', '172.npy', '173.npy', '174.npy', '175.npy', '176.npy',\n",
       "        '177.npy', '178.npy', '179.npy', '180.npy', '181.npy', '182.npy',\n",
       "        '183.npy', '184.npy', '185.npy', '186.npy', '187.npy', '188.npy',\n",
       "        '189.npy', '190.npy', '191.npy', '192.npy', '193.npy', '194.npy',\n",
       "        '195.npy', '196.npy', '197.npy', '198.npy', '199.npy', '200.npy',\n",
       "        '201.npy', '202.npy', '203.npy', '204.npy', '205.npy', '206.npy',\n",
       "        '207.npy', '208.npy', '209.npy', '210.npy', '211.npy', '212.npy',\n",
       "        '213.npy', '214.npy', '215.npy', '216.npy', '217.npy', '218.npy',\n",
       "        '219.npy', '220.npy', '221.npy', '222.npy', '223.npy', '224.npy',\n",
       "        '225.npy', '226.npy', '227.npy', '228.npy', '229.npy', '230.npy',\n",
       "        '231.npy', '232.npy', '233.npy', '234.npy', '235.npy', '236.npy',\n",
       "        '237.npy', '238.npy', '239.npy', '240.npy', '241.npy', '242.npy',\n",
       "        '243.npy', '244.npy', '245.npy', '246.npy', '247.npy', '248.npy',\n",
       "        '249.npy', '250.npy', '251.npy', '252.npy', '253.npy', '254.npy',\n",
       "        '255.npy', '256.npy', '257.npy', '258.npy', '259.npy', '260.npy',\n",
       "        '261.npy', '262.npy', '263.npy', '264.npy', '265.npy', '266.npy',\n",
       "        '267.npy', '268.npy', '269.npy', '270.npy', '271.npy', '272.npy',\n",
       "        '273.npy', '274.npy', '275.npy', '276.npy', '277.npy', '278.npy',\n",
       "        '279.npy', '280.npy', '281.npy', '282.npy', '283.npy', '284.npy',\n",
       "        '285.npy', '286.npy', '287.npy', '288.npy', '289.npy', '290.npy',\n",
       "        '291.npy', '292.npy', '293.npy', '294.npy', '295.npy', '296.npy',\n",
       "        '297.npy', '298.npy', '299.npy', '300.npy', '301.npy', '302.npy',\n",
       "        '303.npy', '304.npy', '305.npy', '306.npy', '307.npy', '308.npy',\n",
       "        '309.npy', '310.npy', '311.npy', '312.npy', '313.npy', '314.npy',\n",
       "        '315.npy', '316.npy', '317.npy', '318.npy', '319.npy', '320.npy',\n",
       "        '321.npy', '322.npy', '323.npy', '324.npy', '325.npy', '326.npy',\n",
       "        '327.npy', '328.npy', '329.npy', '330.npy', '331.npy', '332.npy',\n",
       "        '333.npy', '334.npy', '335.npy', '336.npy', '337.npy', '338.npy',\n",
       "        '339.npy', '340.npy', '341.npy', '342.npy', '343.npy', '344.npy',\n",
       "        '345.npy', '346.npy', '347.npy', '348.npy', '349.npy', '350.npy',\n",
       "        '351.npy', '352.npy', '353.npy', '354.npy', '355.npy', '356.npy',\n",
       "        '357.npy', '358.npy', '359.npy', '360.npy', '361.npy', '362.npy',\n",
       "        '363.npy', '364.npy', '365.npy', '366.npy', '367.npy', '368.npy',\n",
       "        '369.npy', '370.npy', '371.npy', '372.npy', '373.npy', '374.npy',\n",
       "        '375.npy', '376.npy', '377.npy', '378.npy', '379.npy', '380.npy',\n",
       "        '381.npy', '382.npy', '383.npy', '384.npy', '385.npy', '386.npy',\n",
       "        '387.npy', '388.npy', '389.npy', '390.npy', '391.npy', '392.npy',\n",
       "        '393.npy', '394.npy', '395.npy', '396.npy', '397.npy', '398.npy',\n",
       "        '399.npy', '400.npy', '401.npy', '402.npy', '403.npy', '404.npy',\n",
       "        '405.npy', '406.npy', '407.npy', '408.npy', '409.npy', '410.npy',\n",
       "        '411.npy', '412.npy', '413.npy', '414.npy', '415.npy', '416.npy',\n",
       "        '417.npy', '418.npy', '419.npy', '420.npy', '421.npy', '422.npy',\n",
       "        '423.npy', '424.npy', '425.npy', '426.npy', '427.npy', '428.npy',\n",
       "        '429.npy', '430.npy', '431.npy', '432.npy', '433.npy', '434.npy',\n",
       "        '435.npy', '436.npy', '437.npy', '438.npy', '439.npy', '440.npy',\n",
       "        '441.npy', '442.npy', '443.npy', '444.npy', '445.npy', '446.npy',\n",
       "        '447.npy', '448.npy', '449.npy', '450.npy', '451.npy', '452.npy',\n",
       "        '453.npy', '454.npy', '455.npy', '456.npy', '457.npy', '458.npy',\n",
       "        '459.npy', '460.npy', '461.npy', '462.npy', '463.npy', '464.npy',\n",
       "        '465.npy', '466.npy', '467.npy', '468.npy', '469.npy', '470.npy',\n",
       "        '471.npy'], dtype='<U7')]"
      ]
     },
     "execution_count": 7,
     "metadata": {},
     "output_type": "execute_result"
    }
   ],
   "source": [
    "full_npy_file_list"
   ]
  },
  {
   "cell_type": "code",
   "execution_count": null,
   "metadata": {},
   "outputs": [],
   "source": []
  },
  {
   "cell_type": "code",
   "execution_count": 8,
   "metadata": {
    "ExecuteTime": {
     "end_time": "2019-12-20T12:36:50.060977Z",
     "start_time": "2019-12-20T12:36:41.912327Z"
    }
   },
   "outputs": [
    {
     "data": {
      "application/vnd.jupyter.widget-view+json": {
       "model_id": "df1f647e660c4a36972c7f2e03df8b8c",
       "version_major": 2,
       "version_minor": 0
      },
      "text/plain": [
       "HBox(children=(IntProgress(value=0, max=8), HTML(value='')))"
      ]
     },
     "metadata": {},
     "output_type": "display_data"
    },
    {
     "name": "stdout",
     "output_type": "stream",
     "text": [
      "\n"
     ]
    }
   ],
   "source": [
    "DST_FOLDER = STATIC_FOLDER + \"_training_data\"\n",
    "DATA_FOLDER = \"npy_data\"\n",
    "\n",
    "DST_DATA_FOLDER_PATH = os.path.join(BASE_PATH, DST_FOLDER, DATA_FOLDER)\n",
    "if not os.path.exists(DST_DATA_FOLDER_PATH):\n",
    "    os.makedirs(DST_DATA_FOLDER_PATH)\n",
    "else:\n",
    "    shutil.rmtree(DST_DATA_FOLDER_PATH)\n",
    "    os.makedirs(DST_DATA_FOLDER_PATH)\n",
    "\n",
    "for sub_folder in tqdm_notebook(sorted(os.listdir(os.path.join(BASE_PATH, STATIC_FOLDER)), key=getint)):\n",
    "#     print(\"Sub folder: {}\".format(sub_folder))\n",
    "    OUT_NPY_FOLDER = PCD_FOLDER + \"_out_npy\"\n",
    "    \n",
    "    extracted_file = \"0.npy\"\n",
    "    extracted_file_path = os.path.join(BASE_PATH, STATIC_FOLDER, sub_folder, OUT_NPY_FOLDER, extracted_file)\n",
    "    if not os.path.exists(extracted_file_path):\n",
    "        print(\"Did not find : {}\".format(extracted_file_path))\n",
    "        \n",
    "    dst_file_name = sub_folder + \".npy\"\n",
    "    dst_file_path = os.path.join(DST_DATA_FOLDER_PATH, dst_file_name)\n",
    "    shutil.copy(extracted_file_path, dst_file_path)\n",
    "    \n",
    "    "
   ]
  },
  {
   "cell_type": "code",
   "execution_count": 9,
   "metadata": {
    "ExecuteTime": {
     "end_time": "2019-12-20T12:36:50.298051Z",
     "start_time": "2019-12-20T12:36:50.063113Z"
    }
   },
   "outputs": [
    {
     "data": {
      "application/vnd.jupyter.widget-view+json": {
       "model_id": "c2c3baaa4ad54f57bf8a2097be0b6700",
       "version_major": 2,
       "version_minor": 0
      },
      "text/plain": [
       "HBox(children=(IntProgress(value=0, max=8), HTML(value='')))"
      ]
     },
     "metadata": {},
     "output_type": "display_data"
    },
    {
     "name": "stdout",
     "output_type": "stream",
     "text": [
      "\n"
     ]
    }
   ],
   "source": [
    "GT_FILE = \"groundTruth.csv\"\n",
    "GT_FOLDER = \"gt\"\n",
    "\n",
    "DST_GT_FOLDER_PATH = os.path.join(BASE_PATH, DST_FOLDER, GT_FOLDER)\n",
    "if not os.path.exists(DST_GT_FOLDER_PATH):\n",
    "    os.makedirs(DST_GT_FOLDER_PATH)\n",
    "else:\n",
    "    shutil.rmtree(DST_GT_FOLDER_PATH)\n",
    "    os.makedirs(DST_GT_FOLDER_PATH)\n",
    "    \n",
    "for sub_folder in tqdm_notebook(sorted(os.listdir(os.path.join(BASE_PATH, STATIC_FOLDER)), key=getint)):\n",
    "#     print(\"Sub folder: {}\".format(sub_folder))\n",
    "    \n",
    "    gt_file_path = os.path.join(BASE_PATH, STATIC_FOLDER, sub_folder, GT_FILE)\n",
    "    if not os.path.exists(gt_file_path):\n",
    "        print(\"Did not find : {}\".format(extracted_file_path))\n",
    "        \n",
    "    dst_file_name = sub_folder + \"_gt.csv\"\n",
    "    dst_file_path = os.path.join(DST_GT_FOLDER_PATH, dst_file_name)\n",
    "    shutil.copy(gt_file_path, dst_file_path)"
   ]
  },
  {
   "cell_type": "code",
   "execution_count": null,
   "metadata": {},
   "outputs": [],
   "source": []
  },
  {
   "cell_type": "code",
   "execution_count": null,
   "metadata": {},
   "outputs": [],
   "source": []
  },
  {
   "cell_type": "code",
   "execution_count": null,
   "metadata": {},
   "outputs": [],
   "source": []
  },
  {
   "cell_type": "code",
   "execution_count": null,
   "metadata": {},
   "outputs": [],
   "source": []
  }
 ],
 "metadata": {
  "kernelspec": {
   "display_name": "Python 3",
   "language": "python",
   "name": "python3"
  },
  "language_info": {
   "codemirror_mode": {
    "name": "ipython",
    "version": 3
   },
   "file_extension": ".py",
   "mimetype": "text/x-python",
   "name": "python",
   "nbconvert_exporter": "python",
   "pygments_lexer": "ipython3",
   "version": "3.6.10"
  },
  "toc": {
   "base_numbering": 1,
   "nav_menu": {},
   "number_sections": true,
   "sideBar": true,
   "skip_h1_title": false,
   "title_cell": "Table of Contents",
   "title_sidebar": "Contents",
   "toc_cell": false,
   "toc_position": {},
   "toc_section_display": true,
   "toc_window_display": false
  }
 },
 "nbformat": 4,
 "nbformat_minor": 2
}
