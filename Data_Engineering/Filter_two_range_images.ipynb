{
 "cells": [
  {
   "cell_type": "code",
   "execution_count": null,
   "metadata": {
    "ExecuteTime": {
     "end_time": "2020-01-27T16:57:59.395776Z",
     "start_time": "2020-01-27T16:57:56.230784Z"
    }
   },
   "outputs": [],
   "source": [
    "import numpy as np\n",
    "import os, shutil\n",
    "from tqdm import tqdm_notebook\n",
    "import pandas as pd\n",
    "import open3d as o3d\n",
    "import gc\n",
    "import matplotlib.pyplot as plt\n",
    "import copy"
   ]
  },
  {
   "cell_type": "code",
   "execution_count": null,
   "metadata": {
    "ExecuteTime": {
     "end_time": "2020-01-27T16:57:59.404608Z",
     "start_time": "2020-01-27T16:57:59.397774Z"
    }
   },
   "outputs": [],
   "source": [
    "%matplotlib notebook"
   ]
  },
  {
   "cell_type": "code",
   "execution_count": null,
   "metadata": {
    "ExecuteTime": {
     "end_time": "2020-01-27T16:57:59.409595Z",
     "start_time": "2020-01-27T16:57:59.406396Z"
    }
   },
   "outputs": [],
   "source": [
    "BASE_PATH = \"/home/sabyasachi/Projects/ati/data/data/datasets/Carla/16beam-Data/small_map/validate_idea/dynamic\"\n",
    "BASE_RANGE_IMAGE_FOLDER = \"_static_only_out_npy\"\n",
    "OVERLAP_RANGE_IMAGE_FOLDER = \"corr_static_transform_stronger_out_npy\"\n",
    "OUTPUT_PCD_FOLDER = \"corr_static_transform_stronger_filtered\"\n",
    "OUTPUT_NPY_FOLDER = \"corr_static_transform_stronger_filtered_out_npy\""
   ]
  },
  {
   "cell_type": "code",
   "execution_count": null,
   "metadata": {
    "ExecuteTime": {
     "end_time": "2020-01-27T17:02:46.973601Z",
     "start_time": "2020-01-27T16:58:29.622648Z"
    }
   },
   "outputs": [],
   "source": [
    "# for MAIN_FOLDER in os.listdir(BASE_PATH):\n",
    "MAIN_FOLDER = \"24\"\n",
    "for _ in range(1):\n",
    "    print(\"\\n************* \\n Subfolder: {}\".format(MAIN_FOLDER))\n",
    "    print(\"Setting paths\")\n",
    "    BASE_RANGE_IMAGE_PATH = os.path.join(BASE_PATH, MAIN_FOLDER, BASE_RANGE_IMAGE_FOLDER)\n",
    "    OVERLAP_RANGE_IMAGE_PATH = os.path.join(BASE_PATH, MAIN_FOLDER, OVERLAP_RANGE_IMAGE_FOLDER)\n",
    "    OUTPUT_PCD_PATH = os.path.join(BASE_PATH, MAIN_FOLDER, OUTPUT_PCD_FOLDER)\n",
    "    if not os.path.exists(OUTPUT_PCD_PATH):\n",
    "        os.makedirs(OUTPUT_PCD_PATH)\n",
    "    else:\n",
    "        shutil.rmtree(OUTPUT_PCD_PATH)\n",
    "        os.makedirs(OUTPUT_PCD_PATH)\n",
    "    OUTPUT_NPY_PATH = os.path.join(BASE_PATH, MAIN_FOLDER, OUTPUT_NPY_FOLDER)\n",
    "    if not os.path.exists(OUTPUT_NPY_PATH):\n",
    "        os.makedirs(OUTPUT_NPY_PATH)\n",
    "    else:\n",
    "        shutil.rmtree(OUTPUT_NPY_PATH)\n",
    "        os.makedirs(OUTPUT_NPY_PATH)\n",
    "    gc.collect()\n",
    "    \n",
    "    print(\"Loading npys\")\n",
    "    base_files = os.listdir(BASE_RANGE_IMAGE_PATH)\n",
    "    overlap_files = os.listdir(OVERLAP_RANGE_IMAGE_PATH)\n",
    "\n",
    "    base_file_path = os.path.join(BASE_RANGE_IMAGE_PATH, base_files[0])\n",
    "    overlap_file_path = os.path.join(OVERLAP_RANGE_IMAGE_PATH, overlap_files[0])\n",
    "\n",
    "    base_arr = np.load(base_file_path)\n",
    "    overlap_arr = np.load(overlap_file_path)\n",
    "    gc.collect()\n",
    "    \n",
    "    print(\"Start looping\")\n",
    "    new_base_list = []\n",
    "    file_idx = 1\n",
    "\n",
    "    for base_img, overlap_img in tqdm_notebook(zip(base_arr, overlap_arr), total=base_arr.shape[0]):\n",
    "        base_set = set([(i,j) for i in range(base_img.shape[0]) \\\n",
    "                                 for j in range(base_img[i].shape[0]) \\\n",
    "                                     if base_img[i,j,0] == base_img[i,j,1] == base_img[i,j,2] == 0.0])\n",
    "        overlap_set = set([(i,j) for i in range(overlap_img.shape[0]) \\\n",
    "                                 for j in range(overlap_img[i].shape[0]) \\\n",
    "                                     if overlap_img[i,j,0] != 0.0 and \\\n",
    "                                        overlap_img[i,j,1] != 0.0 and \\\n",
    "                                        overlap_img[i,j,2] != 0.0])\n",
    "        fill_set = base_set.intersection(overlap_set)\n",
    "\n",
    "        new_base_img = copy.deepcopy(base_img)\n",
    "        for i, j in fill_set:\n",
    "            for k in range(new_base_img.shape[-1]):\n",
    "                new_base_img[i,j,k] = overlap_img[i,j,k]\n",
    "\n",
    "        new_base_list.append(new_base_img)\n",
    "        this_arr = np.reshape(new_base_img, (-1,4))[:,:3]\n",
    "        this_arr = this_arr[~np.array([x == y == z == 0 for x,y,z in this_arr])]\n",
    "\n",
    "        this_pcd = o3d.PointCloud()\n",
    "        this_pcd.points = o3d.utility.Vector3dVector(this_arr)\n",
    "        fname = str(file_idx) + \".ply\"\n",
    "        fpath = os.path.join(OUTPUT_PCD_PATH, fname)\n",
    "\n",
    "        o3d.io.write_point_cloud(fpath, this_pcd, write_ascii=True)\n",
    "        file_idx += 1\n",
    "        gc.collect()\n",
    "#         break\n",
    "    print(\"Saving npy\")\n",
    "    npy_fname = MAIN_FOLDER + \".npy\"\n",
    "    npy_fpath = os.path.join(OUTPUT_NPY_PATH, npy_fname)\n",
    "    np.array(new_base_list).dump(npy_fpath)\n",
    "    gc.collect()\n",
    "#     break"
   ]
  },
  {
   "cell_type": "code",
   "execution_count": null,
   "metadata": {},
   "outputs": [],
   "source": []
  },
  {
   "cell_type": "code",
   "execution_count": null,
   "metadata": {},
   "outputs": [],
   "source": []
  },
  {
   "cell_type": "code",
   "execution_count": null,
   "metadata": {},
   "outputs": [],
   "source": []
  },
  {
   "cell_type": "code",
   "execution_count": null,
   "metadata": {},
   "outputs": [],
   "source": []
  },
  {
   "cell_type": "code",
   "execution_count": null,
   "metadata": {},
   "outputs": [],
   "source": []
  },
  {
   "cell_type": "code",
   "execution_count": null,
   "metadata": {},
   "outputs": [],
   "source": []
  },
  {
   "cell_type": "code",
   "execution_count": null,
   "metadata": {},
   "outputs": [],
   "source": []
  },
  {
   "cell_type": "code",
   "execution_count": null,
   "metadata": {},
   "outputs": [],
   "source": []
  },
  {
   "cell_type": "code",
   "execution_count": null,
   "metadata": {},
   "outputs": [],
   "source": []
  },
  {
   "cell_type": "code",
   "execution_count": null,
   "metadata": {},
   "outputs": [],
   "source": []
  },
  {
   "cell_type": "code",
   "execution_count": null,
   "metadata": {},
   "outputs": [],
   "source": []
  },
  {
   "cell_type": "code",
   "execution_count": null,
   "metadata": {},
   "outputs": [],
   "source": []
  },
  {
   "cell_type": "raw",
   "metadata": {
    "ExecuteTime": {
     "end_time": "2020-01-27T13:40:07.872761Z",
     "start_time": "2020-01-27T13:40:07.813962Z"
    }
   },
   "source": [
    "plt.figure(figsize=(100,5))\n",
    "plt.imshow(np.flip(base_arr[10][:,:,:3]/100, 0))"
   ]
  },
  {
   "cell_type": "raw",
   "metadata": {
    "ExecuteTime": {
     "end_time": "2020-01-27T13:40:12.624422Z",
     "start_time": "2020-01-27T13:40:12.590053Z"
    }
   },
   "source": [
    "plt.figure(figsize=(100,5))\n",
    "plt.imshow(np.flip(overlap_arr[10][:,:,:3]/100, 0))"
   ]
  },
  {
   "cell_type": "code",
   "execution_count": null,
   "metadata": {
    "ExecuteTime": {
     "end_time": "2020-01-27T16:57:59.521213Z",
     "start_time": "2020-01-27T16:57:56.296Z"
    }
   },
   "outputs": [],
   "source": [
    "base_arr[0] - overlap_arr[0]"
   ]
  },
  {
   "cell_type": "code",
   "execution_count": null,
   "metadata": {},
   "outputs": [],
   "source": []
  },
  {
   "cell_type": "code",
   "execution_count": null,
   "metadata": {},
   "outputs": [],
   "source": []
  },
  {
   "cell_type": "code",
   "execution_count": null,
   "metadata": {},
   "outputs": [],
   "source": []
  },
  {
   "cell_type": "code",
   "execution_count": null,
   "metadata": {},
   "outputs": [],
   "source": []
  },
  {
   "cell_type": "code",
   "execution_count": null,
   "metadata": {},
   "outputs": [],
   "source": []
  },
  {
   "cell_type": "code",
   "execution_count": null,
   "metadata": {},
   "outputs": [],
   "source": []
  },
  {
   "cell_type": "code",
   "execution_count": null,
   "metadata": {},
   "outputs": [],
   "source": []
  },
  {
   "cell_type": "code",
   "execution_count": null,
   "metadata": {},
   "outputs": [],
   "source": []
  },
  {
   "cell_type": "raw",
   "metadata": {
    "ExecuteTime": {
     "end_time": "2020-01-27T13:02:28.473184Z",
     "start_time": "2020-01-27T13:02:24.985409Z"
    }
   },
   "source": [
    "import pickle\n",
    "with open(\"/home/sabyasachi/Projects/ati/ati_motors/adversarial_based/training_data/small_map/dynamic_high_med/static_prepreprocess_dir/1.npy\", 'rb') as pkl_file:\n",
    "    static_preprocess_arr = pickle.load(pkl_file)"
   ]
  },
  {
   "cell_type": "raw",
   "metadata": {
    "ExecuteTime": {
     "end_time": "2020-01-27T13:03:14.058792Z",
     "start_time": "2020-01-27T13:03:14.049611Z"
    }
   },
   "source": [
    "def from_polar_np(velo):\n",
    "    angles = np.linspace(0, np.pi * 2, velo.shape[-1])\n",
    "    dist, z = velo[:, 0], velo[:, 1]\n",
    "    x = np.cos(angles) * dist\n",
    "    y = np.sin(angles) * dist\n",
    "    out = np.stack([x,y,z], axis=1)\n",
    "    return out.astype('float32')"
   ]
  },
  {
   "cell_type": "raw",
   "metadata": {
    "ExecuteTime": {
     "end_time": "2020-01-27T13:03:28.983028Z",
     "start_time": "2020-01-27T13:03:28.977209Z"
    }
   },
   "source": [
    "static_preprocess_arr[0].shape"
   ]
  },
  {
   "cell_type": "raw",
   "metadata": {
    "ExecuteTime": {
     "end_time": "2020-01-27T13:04:42.098513Z",
     "start_time": "2020-01-27T13:04:40.017168Z"
    }
   },
   "source": [
    "from_polar_np(static_preprocess_arr).shape"
   ]
  },
  {
   "cell_type": "raw",
   "metadata": {
    "ExecuteTime": {
     "end_time": "2020-01-27T13:04:16.542527Z",
     "start_time": "2020-01-27T13:04:16.536317Z"
    }
   },
   "source": [
    "np.array([static_preprocess_arr[0]]).shape"
   ]
  },
  {
   "cell_type": "code",
   "execution_count": null,
   "metadata": {},
   "outputs": [],
   "source": []
  }
 ],
 "metadata": {
  "kernelspec": {
   "display_name": "Python 3",
   "language": "python",
   "name": "python3"
  },
  "language_info": {
   "codemirror_mode": {
    "name": "ipython",
    "version": 3
   },
   "file_extension": ".py",
   "mimetype": "text/x-python",
   "name": "python",
   "nbconvert_exporter": "python",
   "pygments_lexer": "ipython3",
   "version": "3.7.3"
  },
  "toc": {
   "base_numbering": 1,
   "nav_menu": {},
   "number_sections": true,
   "sideBar": true,
   "skip_h1_title": false,
   "title_cell": "Table of Contents",
   "title_sidebar": "Contents",
   "toc_cell": false,
   "toc_position": {},
   "toc_section_display": true,
   "toc_window_display": false
  }
 },
 "nbformat": 4,
 "nbformat_minor": 2
}
