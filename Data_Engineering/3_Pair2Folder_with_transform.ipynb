{
 "cells": [
  {
   "cell_type": "code",
   "execution_count": null,
   "metadata": {
    "ExecuteTime": {
     "end_time": "2020-08-18T08:27:33.864333Z",
     "start_time": "2020-08-18T08:27:33.071395Z"
    }
   },
   "outputs": [],
   "source": [
    "import pandas as pd\n",
    "import numpy as np\n",
    "import gc\n",
    "import os, shutil\n",
    "import sys\n",
    "import matplotlib.pyplot as plt\n",
    "import open3d as o3d\n",
    "import transforms3d\n",
    "from tqdm import tqdm_notebook\n",
    "import copy"
   ]
  },
  {
   "cell_type": "code",
   "execution_count": null,
   "metadata": {
    "ExecuteTime": {
     "end_time": "2020-08-18T08:27:33.900525Z",
     "start_time": "2020-08-18T08:27:33.866121Z"
    }
   },
   "outputs": [],
   "source": [
    "BASE_PATH = \"/home/saby/Projects/ati/data/data/datasets/Carla/64beam-Data\"\n",
    "OUTPUT_FOLDER = \"pair_transform_dynseg_all\"\n",
    "STATIC_FOLDER = \"static\"\n",
    "DYNAMIC_FOLDER = \"dynamic\"\n",
    "PAIR_FILE = \"pair_with_pose_transform_dynseg_all.csv\"\n",
    "\n",
    "INPUT_PATH = BASE_PATH\n",
    "OUTPUT_PATH = os.path.join(BASE_PATH, OUTPUT_FOLDER)\n",
    "\n",
    "OUTPUT_STATIC_PATH = os.path.join(OUTPUT_PATH, STATIC_FOLDER)\n",
    "OUTPUT_DYNAMIC_PATH = os.path.join(OUTPUT_PATH, DYNAMIC_FOLDER)\n",
    "\n",
    "if not os.path.exists(OUTPUT_PATH):\n",
    "    os.makedirs(OUTPUT_PATH)\n",
    "else:\n",
    "    shutil.rmtree(OUTPUT_PATH)\n",
    "    os.makedirs(OUTPUT_PATH)\n",
    "\n",
    "os.makedirs(OUTPUT_STATIC_PATH)\n",
    "os.makedirs(OUTPUT_DYNAMIC_PATH)"
   ]
  },
  {
   "cell_type": "code",
   "execution_count": null,
   "metadata": {
    "ExecuteTime": {
     "end_time": "2020-08-18T08:27:34.032096Z",
     "start_time": "2020-08-18T08:27:33.903660Z"
    }
   },
   "outputs": [],
   "source": [
    "pair_path = os.path.join(INPUT_PATH, PAIR_FILE)\n",
    "df_pair = pd.read_csv(pair_path)\n",
    "df_pair.shape"
   ]
  },
  {
   "cell_type": "code",
   "execution_count": null,
   "metadata": {
    "ExecuteTime": {
     "end_time": "2020-08-18T08:27:34.051134Z",
     "start_time": "2020-08-18T08:27:34.033681Z"
    }
   },
   "outputs": [],
   "source": [
    "df_pair.sample()"
   ]
  },
  {
   "cell_type": "code",
   "execution_count": null,
   "metadata": {
    "ExecuteTime": {
     "end_time": "2020-08-18T08:27:34.056465Z",
     "start_time": "2020-08-18T08:27:34.052432Z"
    }
   },
   "outputs": [],
   "source": [
    "# Function to get transformation matrix for a given pose\n",
    "def pose2matrix(translation_list, rotation_angle_list, zoom_list=[1,1,1]):\n",
    "    # trans_vec = np.array(translation_list)\n",
    "    rot_ang = [np.deg2rad(ang) for ang in rotation_angle_list ]\n",
    "    rot_mat = transforms3d.euler.euler2mat(rot_ang[0], rot_ang[1], rot_ang[2])\n",
    "    zoom_vec = np.array(zoom_list)\n",
    "    # transform_mat = transforms3d.affines.compose(trans_vec, rot_mat, zoom_vec)\n",
    "    transform_mat = transforms3d.affines.compose(translation_list, rot_mat, zoom_list)\n",
    "    return transform_mat"
   ]
  },
  {
   "cell_type": "code",
   "execution_count": null,
   "metadata": {
    "ExecuteTime": {
     "end_time": "2020-08-18T08:27:34.065943Z",
     "start_time": "2020-08-18T08:27:34.058909Z"
    }
   },
   "outputs": [],
   "source": [
    "# def transform_corr_static_pcd(static_pcd, pair_row):\n",
    "#     # Calculate all the transforms\n",
    "#     transform_lidar   = pose2matrix([0, 0, 0],\n",
    "#                                     [0, 0, 90],\n",
    "#                                     [1, 1, -1])\n",
    "#     transform_static1  = pose2matrix([pair_row['static_x'], pair_row['static_y'], pair_row['static_z']],\n",
    "#                                     [pair_row['static_roll'],pair_row['static_pitch'], pair_row['static_yaw']])\n",
    "#     transform_dynamic1 = pose2matrix([pair_row['dynamic_x'], pair_row['dynamic_y'], pair_row['dynamic_z']],\n",
    "#                                     [pair_row['dynamic_roll'], pair_row['dynamic_pitch'], pair_row['dynamic_yaw']])\n",
    "#     transform1 = np.matmul(np.linalg.inv(transform_dynamic1), transform_static1)\n",
    "    \n",
    "#     transform_static2  = pose2matrix([0, 0, 0],\n",
    "#                                     [pair_row['static_roll'],pair_row['static_pitch'], pair_row['static_yaw']])\n",
    "#     transform_dynamic2 = pose2matrix([0, 0, 0],\n",
    "#                                     [pair_row['dynamic_roll'], pair_row['dynamic_pitch'], pair_row['dynamic_yaw']])\n",
    "#     transform2 = np.matmul(np.linalg.inv(transform_dynamic2), transform_static2)\n",
    "    \n",
    "#     # Apply all the transforms\n",
    "#     static_pcd_tmp = copy.deepcopy(static_pcd)\n",
    "#     static_pcd_tmp.transform(np.linalg.inv(transform_lidar))\n",
    "#     static_pcd_tmp.transform(np.linalg.inv(transform1))\n",
    "#     static_pcd_tmp.transform(transform2)\n",
    "#     static_pcd_tmp.transform(transform2)     # Need to fix this hack\n",
    "#     static_pcd_tmp.transform(transform_lidar)\n",
    "    \n",
    "#     return static_pcd_tmp\n",
    "\n",
    "def transform_corr_static_pcd(static_pcd, pair_row):\n",
    "    # Calculate all the transforms\n",
    "    transform_lidar   = pose2matrix([0, 0, 0],\n",
    "                                    [0, 0, 90],\n",
    "                                    [1, 1, -1])\n",
    "    transform_static1  = pose2matrix([pair_row['static_x'], pair_row['static_y'], 0],\n",
    "                                    [0,0, pair_row['static_yaw']])\n",
    "    transform_dynamic1 = pose2matrix([pair_row['dynamic_x'], pair_row['dynamic_y'], 0],\n",
    "                                    [0, 0, pair_row['dynamic_yaw']])\n",
    "    transform1 = np.matmul(np.linalg.inv(transform_dynamic1), transform_static1)\n",
    "    \n",
    "    transform_static2  = pose2matrix([0, 0, 0],\n",
    "                                    [0,0, pair_row['static_yaw']])\n",
    "    transform_dynamic2 = pose2matrix([0, 0, 0],\n",
    "                                    [0, 0, pair_row['dynamic_yaw']])\n",
    "    transform2 = np.matmul(np.linalg.inv(transform_dynamic2), transform_static2)\n",
    "    \n",
    "    # Apply all the transforms\n",
    "    static_pcd_tmp = copy.deepcopy(static_pcd)\n",
    "    static_pcd_tmp.transform(np.linalg.inv(transform_lidar))\n",
    "    static_pcd_tmp.transform(np.linalg.inv(transform1))\n",
    "    static_pcd_tmp.transform(transform2)\n",
    "    static_pcd_tmp.transform(transform2)     # Need to fix this hack\n",
    "    static_pcd_tmp.transform(transform_lidar)\n",
    "    \n",
    "    return static_pcd_tmp"
   ]
  },
  {
   "cell_type": "code",
   "execution_count": null,
   "metadata": {
    "ExecuteTime": {
     "end_time": "2020-08-18T08:34:54.121888Z",
     "start_time": "2020-08-18T08:27:34.067436Z"
    }
   },
   "outputs": [],
   "source": [
    "output_file_idx = 0\n",
    "\n",
    "for idx, row in tqdm_notebook(df_pair.iterrows(), total=df_pair.shape[0]):\n",
    "    fname = str(output_file_idx) + \".ply\"\n",
    "    \n",
    "    static_src = row['static_path']\n",
    "    static_dst = os.path.join(OUTPUT_STATIC_PATH, fname)\n",
    "    static_pcd = o3d.io.read_point_cloud(static_src)\n",
    "    static_pcd = transform_corr_static_pcd(static_pcd, row)\n",
    "    o3d.io.write_point_cloud(static_dst, static_pcd, write_ascii=True)\n",
    "#     shutil.copyfile(static_src, static_dst)\n",
    "    \n",
    "    dynamic_src = row['dynamic_path']\n",
    "    dynamic_dst = os.path.join(OUTPUT_DYNAMIC_PATH, fname)\n",
    "    shutil.copyfile(dynamic_src, dynamic_dst)\n",
    "    \n",
    "    output_file_idx += 1\n"
   ]
  },
  {
   "cell_type": "markdown",
   "metadata": {},
   "source": [
    "For visualization"
   ]
  },
  {
   "cell_type": "code",
   "execution_count": null,
   "metadata": {
    "ExecuteTime": {
     "end_time": "2020-08-18T08:34:54.123669Z",
     "start_time": "2020-08-18T08:26:11.236Z"
    }
   },
   "outputs": [],
   "source": [
    "def draw_registration_result(src_pcd, dst_pcd, x_pt, y_pt, theta):    \n",
    "    src_pcd_tmp = copy.deepcopy(src_pcd)\n",
    "    dst_pcd_tmp = copy.deepcopy(dst_pcd)\n",
    "    \n",
    "    src_pcd_tmp.paint_uniform_color([1, 0, 0])  # red source\n",
    "    dst_pcd_tmp.paint_uniform_color([0, 0, 1])  # blue target\n",
    "    \n",
    "    transform_mat = pose2matrix([x_pt, y_pt, 0], [0,0,theta])\n",
    "    dst_pcd_tmp.transform(transform_mat)\n",
    "    \n",
    "    visualizer = o3d.JVisualizer()\n",
    "    visualizer.add_geometry(src_pcd_tmp)\n",
    "    visualizer.add_geometry(dst_pcd_tmp)\n",
    "    visualizer.show()"
   ]
  },
  {
   "cell_type": "code",
   "execution_count": null,
   "metadata": {
    "ExecuteTime": {
     "end_time": "2020-08-18T08:34:54.124601Z",
     "start_time": "2020-08-18T08:26:11.238Z"
    }
   },
   "outputs": [],
   "source": [
    "some_idx = np.random.choice(df_pair.shape[0])\n",
    "# some_idx = np.random.choice(1000)\n",
    "# some_idx = 345\n",
    "some_row = df_pair.iloc[some_idx]\n",
    "some_fname = str(some_idx) + \".ply\"\n",
    "some_static_dst = os.path.join(OUTPUT_STATIC_PATH, some_fname)\n",
    "some_dynamic_dst = os.path.join(OUTPUT_DYNAMIC_PATH, some_fname)\n",
    "\n",
    "some_static_pcd = o3d.io.read_point_cloud(some_static_dst)\n",
    "some_dynamic_pcd = o3d.io.read_point_cloud(some_dynamic_dst)\n",
    "\n",
    "print(\"Pose_diff_x: {} | Pose_diff_y: {} | Pose_diff_yaw: {} |\".format(some_row['pose_x'], some_row['pose_y'], some_row['pose_yaw']))\n",
    "draw_registration_result(some_static_pcd, some_dynamic_pcd, 0, 0, 0)"
   ]
  },
  {
   "cell_type": "code",
   "execution_count": null,
   "metadata": {
    "ExecuteTime": {
     "end_time": "2020-08-18T08:34:54.125457Z",
     "start_time": "2020-08-18T08:26:11.240Z"
    }
   },
   "outputs": [],
   "source": [
    "some_idx"
   ]
  },
  {
   "cell_type": "code",
   "execution_count": null,
   "metadata": {
    "ExecuteTime": {
     "end_time": "2020-08-18T08:34:54.126344Z",
     "start_time": "2020-08-18T08:26:11.242Z"
    }
   },
   "outputs": [],
   "source": [
    "some_dynamic_pcd"
   ]
  },
  {
   "cell_type": "code",
   "execution_count": null,
   "metadata": {
    "ExecuteTime": {
     "end_time": "2020-08-18T08:34:54.127198Z",
     "start_time": "2020-08-18T08:26:11.244Z"
    }
   },
   "outputs": [],
   "source": [
    "some_static_pcd"
   ]
  },
  {
   "cell_type": "code",
   "execution_count": null,
   "metadata": {
    "ExecuteTime": {
     "end_time": "2020-08-18T08:34:54.128045Z",
     "start_time": "2020-08-18T08:26:11.246Z"
    }
   },
   "outputs": [],
   "source": [
    "os.path.join(OUTPUT_DYNAMIC_PATH, some_fname)"
   ]
  },
  {
   "cell_type": "code",
   "execution_count": null,
   "metadata": {},
   "outputs": [],
   "source": []
  },
  {
   "cell_type": "code",
   "execution_count": null,
   "metadata": {},
   "outputs": [],
   "source": []
  },
  {
   "cell_type": "code",
   "execution_count": null,
   "metadata": {},
   "outputs": [],
   "source": []
  },
  {
   "cell_type": "raw",
   "metadata": {
    "ExecuteTime": {
     "end_time": "2020-01-23T12:12:37.932550Z",
     "start_time": "2020-01-23T12:12:36.758068Z"
    }
   },
   "source": [
    "some_static_pcd_tmp = copy.deepcopy(some_static_pcd)\n",
    "\n",
    "transform_lidar   = pose2matrix([0, 0, 0],\n",
    "                                [0, 0, 90],\n",
    "                                [1, 1, -1])\n",
    "# transform_static  = pose2matrix([some_row['static_x'], some_row['static_y'], some_row['static_z']],\n",
    "#                                 [some_row['static_roll'],some_row['static_pitch'], some_row['static_yaw']])\n",
    "# transform_dynamic = pose2matrix([some_row['dynamic_x'], some_row['dynamic_y'], some_row['dynamic_z']],\n",
    "#                                 [some_row['dynamic_roll'], some_row['dynamic_pitch'], some_row['dynamic_yaw']])\n",
    "transform_static  = pose2matrix([0, 0, 0],\n",
    "                                [some_row['static_roll'],some_row['static_pitch'], some_row['static_yaw']])\n",
    "transform_dynamic = pose2matrix([0, 0, 0],\n",
    "                                [some_row['dynamic_roll'], some_row['dynamic_pitch'], some_row['dynamic_yaw']])\n",
    "transform = np.matmul(np.linalg.inv(transform_dynamic), transform_static)\n",
    "\n",
    "some_static_pcd_tmp.transform(np.linalg.inv(transform_lidar))\n",
    "some_static_pcd_tmp.transform(transform)\n",
    "some_static_pcd_tmp.transform(transform)\n",
    "some_static_pcd_tmp.transform(transform_lidar)\n",
    "\n",
    "draw_registration_result(some_static_pcd_tmp, some_dynamic_pcd, 0, 0, 0)"
   ]
  },
  {
   "cell_type": "code",
   "execution_count": null,
   "metadata": {},
   "outputs": [],
   "source": []
  }
 ],
 "metadata": {
  "kernelspec": {
   "display_name": "Python 3",
   "language": "python",
   "name": "python3"
  },
  "language_info": {
   "codemirror_mode": {
    "name": "ipython",
    "version": 3
   },
   "file_extension": ".py",
   "mimetype": "text/x-python",
   "name": "python",
   "nbconvert_exporter": "python",
   "pygments_lexer": "ipython3",
   "version": "3.5.2"
  },
  "toc": {
   "base_numbering": 1,
   "nav_menu": {},
   "number_sections": true,
   "sideBar": true,
   "skip_h1_title": false,
   "title_cell": "Table of Contents",
   "title_sidebar": "Contents",
   "toc_cell": false,
   "toc_position": {},
   "toc_section_display": true,
   "toc_window_display": false
  }
 },
 "nbformat": 4,
 "nbformat_minor": 2
}
