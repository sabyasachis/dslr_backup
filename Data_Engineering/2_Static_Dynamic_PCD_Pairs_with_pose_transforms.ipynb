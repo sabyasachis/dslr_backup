{
 "cells": [
  {
   "cell_type": "code",
   "execution_count": 1,
   "metadata": {
    "ExecuteTime": {
     "end_time": "2021-03-18T06:55:44.330851Z",
     "start_time": "2021-03-18T06:55:42.214433Z"
    }
   },
   "outputs": [],
   "source": [
    "import pandas as pd\n",
    "import numpy as np\n",
    "import gc\n",
    "import os\n",
    "import sys\n",
    "import matplotlib.pyplot as plt\n",
    "from tqdm import tqdm_notebook\n",
    "from sklearn.neighbors import NearestNeighbors"
   ]
  },
  {
   "cell_type": "code",
   "execution_count": 2,
   "metadata": {
    "ExecuteTime": {
     "end_time": "2021-03-18T06:55:44.339325Z",
     "start_time": "2021-03-18T06:55:44.333272Z"
    }
   },
   "outputs": [],
   "source": [
    "%matplotlib notebook"
   ]
  },
  {
   "cell_type": "code",
   "execution_count": 3,
   "metadata": {
    "ExecuteTime": {
     "end_time": "2021-03-18T06:55:44.375118Z",
     "start_time": "2021-03-18T06:55:44.343713Z"
    }
   },
   "outputs": [],
   "source": [
    "# BASE_PATH = \"/home/saby/Projects/ati/data/data/datasets/Carla/64beam_height_1m\"\n",
    "# BASE_PATH = \"/home/saby/Projects/ati/data/data/datasets/Carla/64beam-Data/testing\"\n",
    "BASE_PATH = \"/home/saby/Projects/ati/data/data/datasets/Carla/64beam-Data\"\n",
    "# PAIR_DIST_THRESH = 0.25  # in meters\n",
    "PAIR_DIST_THRESH = 2  # in meters\n",
    "PAIR_ANGL_THRESH = 15.0  # in degrees\n",
    "\n",
    "\n",
    "STATIC_FOLDER = \"static\"\n",
    "DYNAMIC_FOLDER = \"dynamic\"\n",
    "PCD_FOLDER = \"_out\"\n",
    "PAIR_FILE = \"pair_with_pose_transform.csv\"\n",
    "\n",
    "GROUNDTRUTH_FILE = \"groundTruth.csv\"\n",
    "PCD_IDX_COLUMN = 'step'\n",
    "\n",
    "USE_DYNAMIC_ANNOTATIONS = False\n",
    "ANNOT_FILE = \"annotation.csv\"\n",
    "# START_ANNOT_COLUMN = 'start'\n",
    "# FINISH_ANNOT_COLUMN = 'end'\n",
    "\n",
    "\n",
    "\n",
    "STATIC_PATH = os.path.join(BASE_PATH, STATIC_FOLDER)\n",
    "DYNAMIC_PATH = os.path.join(BASE_PATH, DYNAMIC_FOLDER)"
   ]
  },
  {
   "cell_type": "code",
   "execution_count": 4,
   "metadata": {
    "ExecuteTime": {
     "end_time": "2021-03-18T06:55:44.387124Z",
     "start_time": "2021-03-18T06:55:44.379021Z"
    }
   },
   "outputs": [],
   "source": [
    "def get_file_int(name):\n",
    "    return int(name.split('.')[0])\n",
    "\n",
    "def get_folder_int(name):\n",
    "    return int(name)"
   ]
  },
  {
   "cell_type": "code",
   "execution_count": 5,
   "metadata": {
    "ExecuteTime": {
     "end_time": "2021-03-18T06:55:44.406375Z",
     "start_time": "2021-03-18T06:55:44.390718Z"
    }
   },
   "outputs": [],
   "source": [
    "def get_all_gt_df(base_folder, use_annot=False):\n",
    "    \n",
    "    pcd_list = []\n",
    "    for sub_folder in sorted(os.listdir(base_folder), key=get_folder_int):\n",
    "        # WARNING : Remove this if condition after use\n",
    "#         if int(sub_folder) > 6:\n",
    "#             continue\n",
    "        pcd_path = os.path.join(base_folder, sub_folder, PCD_FOLDER)\n",
    "\n",
    "        gt_file_path = os.path.join(base_folder, sub_folder, GROUNDTRUTH_FILE)\n",
    "        if os.path.exists(gt_file_path):\n",
    "            df_gt = pd.read_csv(gt_file_path)\n",
    "        else:\n",
    "            print(\"Error: Could not find ground truth csv at path : {}\".format(gt_file_path))\n",
    "            continue\n",
    "        df_gt_pcd = df_gt.set_index(PCD_IDX_COLUMN)\n",
    "        \n",
    "        if use_annot:\n",
    "            annot_file_path = os.path.join(base_folder, sub_folder, ANNOT_FILE)\n",
    "            if os.path.exists(annot_file_path):\n",
    "                df_annot = pd.read_csv(annot_file_path)\n",
    "                feasible_pcd_idx_arr = df_annot[df_annot['annotation']]['step'].values\n",
    "            else:\n",
    "                print(\"Error: Could not find annotation csv at path : {}\".format(annot_file_path))\n",
    "                continue\n",
    "#             feasible_start_list = df_annot[START_ANNOT_COLUMN].values\n",
    "#             feasible_end_list   = df_annot[FINISH_ANNOT_COLUMN].values\n",
    "#             feasible_pcd_idx_arr = np.concatenate([np.arange(start,end+1)\\\n",
    "#                                                    for start, end in zip(feasible_start_list, feasible_end_list)])\n",
    "\n",
    "        for pcd_file in sorted(os.listdir(pcd_path), key=get_file_int):\n",
    "            pcd_idx = int(pcd_file[:-4])\n",
    "            if use_annot:\n",
    "                if pcd_idx not in feasible_pcd_idx_arr:\n",
    "                    continue\n",
    "                    \n",
    "            try:\n",
    "                pcd_dict = df_gt_pcd.loc[pcd_idx]\n",
    "                gt_dict = {}\n",
    "                gt_dict['x'] = pcd_dict['location_x']\n",
    "                gt_dict['y'] = pcd_dict['location_y']\n",
    "#                 gt_dict['z'] = pcd_dict['location_z']\n",
    "#                 gt_dict['roll'] = pcd_dict['rotation_roll']\n",
    "#                 gt_dict['pitch'] = pcd_dict['rotation_pitch']\n",
    "                gt_dict['yaw'] = pcd_dict['rotation_yaw']\n",
    "                gt_dict['path'] = os.path.join(pcd_path, pcd_file)\n",
    "                pcd_list.append(gt_dict)\n",
    "            except Exception as e:\n",
    "                # print(\"Warning: Could not find groundtruth for {} . Ignoring it!\".format(os.path.join(pcd_path, pcd_file)))\n",
    "                pass\n",
    "    return pd.DataFrame(pcd_list)\n",
    "\n",
    "def get_relative_yaw(theta1, theta2):\n",
    "    rel_yaw = theta2 - theta1\n",
    "    if rel_yaw > 180:\n",
    "        actual_rel_yaw = rel_yaw - 360\n",
    "    elif rel_yaw <= -180:\n",
    "        actual_rel_yaw = rel_yaw + 360\n",
    "    else:\n",
    "        actual_rel_yaw = rel_yaw\n",
    "    return actual_rel_yaw"
   ]
  },
  {
   "cell_type": "code",
   "execution_count": 6,
   "metadata": {
    "ExecuteTime": {
     "end_time": "2021-03-18T06:56:02.834256Z",
     "start_time": "2021-03-18T06:55:44.408754Z"
    }
   },
   "outputs": [
    {
     "data": {
      "text/plain": [
       "109"
      ]
     },
     "execution_count": 6,
     "metadata": {},
     "output_type": "execute_result"
    }
   ],
   "source": [
    "df_static = get_all_gt_df(STATIC_PATH)\n",
    "df_dynamic = get_all_gt_df(DYNAMIC_PATH, use_annot=USE_DYNAMIC_ANNOTATIONS)\n",
    "# df_dynamic = get_all_gt_df(DYNAMIC_PATH)\n",
    "gc.collect()"
   ]
  },
  {
   "cell_type": "code",
   "execution_count": 7,
   "metadata": {
    "ExecuteTime": {
     "end_time": "2021-03-18T06:56:02.840220Z",
     "start_time": "2021-03-18T06:56:02.836029Z"
    }
   },
   "outputs": [
    {
     "data": {
      "text/plain": [
       "((24012, 4), (39637, 4))"
      ]
     },
     "execution_count": 7,
     "metadata": {},
     "output_type": "execute_result"
    }
   ],
   "source": [
    "df_static.shape, df_dynamic.shape"
   ]
  },
  {
   "cell_type": "code",
   "execution_count": 8,
   "metadata": {
    "ExecuteTime": {
     "end_time": "2021-03-18T06:56:02.865527Z",
     "start_time": "2021-03-18T06:56:02.843146Z"
    }
   },
   "outputs": [
    {
     "data": {
      "text/html": [
       "<div>\n",
       "<style scoped>\n",
       "    .dataframe tbody tr th:only-of-type {\n",
       "        vertical-align: middle;\n",
       "    }\n",
       "\n",
       "    .dataframe tbody tr th {\n",
       "        vertical-align: top;\n",
       "    }\n",
       "\n",
       "    .dataframe thead th {\n",
       "        text-align: right;\n",
       "    }\n",
       "</style>\n",
       "<table border=\"1\" class=\"dataframe\">\n",
       "  <thead>\n",
       "    <tr style=\"text-align: right;\">\n",
       "      <th></th>\n",
       "      <th>path</th>\n",
       "      <th>x</th>\n",
       "      <th>y</th>\n",
       "      <th>yaw</th>\n",
       "    </tr>\n",
       "  </thead>\n",
       "  <tbody>\n",
       "    <tr>\n",
       "      <th>0</th>\n",
       "      <td>/home/saby/Projects/ati/data/data/datasets/Car...</td>\n",
       "      <td>237.699997</td>\n",
       "      <td>129.75</td>\n",
       "      <td>179.999756</td>\n",
       "    </tr>\n",
       "    <tr>\n",
       "      <th>1</th>\n",
       "      <td>/home/saby/Projects/ati/data/data/datasets/Car...</td>\n",
       "      <td>237.699997</td>\n",
       "      <td>129.75</td>\n",
       "      <td>179.999756</td>\n",
       "    </tr>\n",
       "    <tr>\n",
       "      <th>2</th>\n",
       "      <td>/home/saby/Projects/ati/data/data/datasets/Car...</td>\n",
       "      <td>237.699997</td>\n",
       "      <td>129.75</td>\n",
       "      <td>179.999756</td>\n",
       "    </tr>\n",
       "    <tr>\n",
       "      <th>3</th>\n",
       "      <td>/home/saby/Projects/ati/data/data/datasets/Car...</td>\n",
       "      <td>237.699997</td>\n",
       "      <td>129.75</td>\n",
       "      <td>179.999756</td>\n",
       "    </tr>\n",
       "    <tr>\n",
       "      <th>4</th>\n",
       "      <td>/home/saby/Projects/ati/data/data/datasets/Car...</td>\n",
       "      <td>237.699997</td>\n",
       "      <td>129.75</td>\n",
       "      <td>179.999756</td>\n",
       "    </tr>\n",
       "  </tbody>\n",
       "</table>\n",
       "</div>"
      ],
      "text/plain": [
       "                                                path           x       y  \\\n",
       "0  /home/saby/Projects/ati/data/data/datasets/Car...  237.699997  129.75   \n",
       "1  /home/saby/Projects/ati/data/data/datasets/Car...  237.699997  129.75   \n",
       "2  /home/saby/Projects/ati/data/data/datasets/Car...  237.699997  129.75   \n",
       "3  /home/saby/Projects/ati/data/data/datasets/Car...  237.699997  129.75   \n",
       "4  /home/saby/Projects/ati/data/data/datasets/Car...  237.699997  129.75   \n",
       "\n",
       "          yaw  \n",
       "0  179.999756  \n",
       "1  179.999756  \n",
       "2  179.999756  \n",
       "3  179.999756  \n",
       "4  179.999756  "
      ]
     },
     "execution_count": 8,
     "metadata": {},
     "output_type": "execute_result"
    }
   ],
   "source": [
    "df_static.head()"
   ]
  },
  {
   "cell_type": "code",
   "execution_count": 9,
   "metadata": {
    "ExecuteTime": {
     "end_time": "2021-03-18T06:56:10.913989Z",
     "start_time": "2021-03-18T06:56:02.867908Z"
    }
   },
   "outputs": [],
   "source": [
    "static_gt_arr  = np.array([np.array([row['x'], row['y']]) for idx, row in df_static.iterrows()])\n",
    "dynamic_gt_arr = np.array([np.array([row['x'], row['y']]) for idx, row in df_dynamic.iterrows()])"
   ]
  },
  {
   "cell_type": "code",
   "execution_count": 10,
   "metadata": {
    "ExecuteTime": {
     "end_time": "2021-03-18T06:56:11.234474Z",
     "start_time": "2021-03-18T06:56:10.915745Z"
    }
   },
   "outputs": [
    {
     "data": {
      "text/plain": [
       "24"
      ]
     },
     "execution_count": 10,
     "metadata": {},
     "output_type": "execute_result"
    }
   ],
   "source": [
    "# Get all static points at a threshold radius from each dynamic point\n",
    "nn_static = NearestNeighbors(radius=PAIR_DIST_THRESH)\n",
    "nn_static.fit(static_gt_arr)\n",
    "feasible_distance_list, feasible_distance_idx_list = \\\n",
    "            nn_static.radius_neighbors(dynamic_gt_arr, radius=PAIR_DIST_THRESH)\n",
    "\n",
    "gc.collect()"
   ]
  },
  {
   "cell_type": "code",
   "execution_count": 11,
   "metadata": {
    "ExecuteTime": {
     "end_time": "2021-03-18T06:56:24.137802Z",
     "start_time": "2021-03-18T06:56:11.235991Z"
    }
   },
   "outputs": [
    {
     "name": "stderr",
     "output_type": "stream",
     "text": [
      "/home/saby/.local/lib/python3.5/site-packages/ipykernel_launcher.py:4: TqdmDeprecationWarning: This function will be removed in tqdm==5.0.0\n",
      "Please use `tqdm.notebook.tqdm` instead of `tqdm.tqdm_notebook`\n",
      "  after removing the cwd from sys.path.\n"
     ]
    },
    {
     "data": {
      "application/vnd.jupyter.widget-view+json": {
       "model_id": "423a0d94b7a14d989ac765c6920cd6c9",
       "version_major": 2,
       "version_minor": 0
      },
      "text/plain": [
       "  0%|          | 0/39637 [00:00<?, ?it/s]"
      ]
     },
     "metadata": {},
     "output_type": "display_data"
    },
    {
     "ename": "KeyboardInterrupt",
     "evalue": "",
     "output_type": "error",
     "traceback": [
      "\u001b[0;31m---------------------------------------------------------------------------\u001b[0m",
      "\u001b[0;31mKeyboardInterrupt\u001b[0m                         Traceback (most recent call last)",
      "\u001b[0;32m<ipython-input-11-35976cd936ab>\u001b[0m in \u001b[0;36m<module>\u001b[0;34m\u001b[0m\n\u001b[1;32m     13\u001b[0m         \u001b[0mdynamic_yaw\u001b[0m \u001b[0;34m=\u001b[0m \u001b[0mdf_dynamic\u001b[0m\u001b[0;34m.\u001b[0m\u001b[0miloc\u001b[0m\u001b[0;34m[\u001b[0m\u001b[0mdynamic_idx\u001b[0m\u001b[0;34m]\u001b[0m\u001b[0;34m[\u001b[0m\u001b[0;34m'yaw'\u001b[0m\u001b[0;34m]\u001b[0m\u001b[0;34m\u001b[0m\u001b[0m\n\u001b[1;32m     14\u001b[0m         \u001b[0;32mfor\u001b[0m \u001b[0mstatic_distance\u001b[0m\u001b[0;34m,\u001b[0m \u001b[0mstatic_idx\u001b[0m \u001b[0;32min\u001b[0m \u001b[0mzip\u001b[0m\u001b[0;34m(\u001b[0m\u001b[0mfeasible_distance_list\u001b[0m\u001b[0;34m[\u001b[0m\u001b[0mdynamic_idx\u001b[0m\u001b[0;34m]\u001b[0m\u001b[0;34m,\u001b[0m \u001b[0mfeasible_distance_idx_list\u001b[0m\u001b[0;34m[\u001b[0m\u001b[0mdynamic_idx\u001b[0m\u001b[0;34m]\u001b[0m\u001b[0;34m)\u001b[0m\u001b[0;34m:\u001b[0m\u001b[0;34m\u001b[0m\u001b[0m\n\u001b[0;32m---> 15\u001b[0;31m             \u001b[0mstatic_yaw\u001b[0m \u001b[0;34m=\u001b[0m \u001b[0mdf_static\u001b[0m\u001b[0;34m.\u001b[0m\u001b[0miloc\u001b[0m\u001b[0;34m[\u001b[0m\u001b[0mstatic_idx\u001b[0m\u001b[0;34m]\u001b[0m\u001b[0;34m[\u001b[0m\u001b[0;34m'yaw'\u001b[0m\u001b[0;34m]\u001b[0m\u001b[0;34m\u001b[0m\u001b[0m\n\u001b[0m\u001b[1;32m     16\u001b[0m             \u001b[0mrel_yaw\u001b[0m \u001b[0;34m=\u001b[0m \u001b[0mnp\u001b[0m\u001b[0;34m.\u001b[0m\u001b[0mabs\u001b[0m\u001b[0;34m(\u001b[0m\u001b[0mget_relative_yaw\u001b[0m\u001b[0;34m(\u001b[0m\u001b[0mstatic_yaw\u001b[0m\u001b[0;34m,\u001b[0m \u001b[0mdynamic_yaw\u001b[0m\u001b[0;34m)\u001b[0m\u001b[0;34m)\u001b[0m \u001b[0;31m# we get value between 0 and 180\u001b[0m\u001b[0;34m\u001b[0m\u001b[0m\n\u001b[1;32m     17\u001b[0m             \u001b[0;32mif\u001b[0m \u001b[0mrel_yaw\u001b[0m \u001b[0;34m<\u001b[0m \u001b[0mPAIR_ANGL_THRESH\u001b[0m\u001b[0;34m:\u001b[0m\u001b[0;34m\u001b[0m\u001b[0m\n",
      "\u001b[0;32m~/.local/lib/python3.5/site-packages/pandas/core/indexing.py\u001b[0m in \u001b[0;36m__getitem__\u001b[0;34m(self, key)\u001b[0m\n\u001b[1;32m   1498\u001b[0m \u001b[0;34m\u001b[0m\u001b[0m\n\u001b[1;32m   1499\u001b[0m             \u001b[0mmaybe_callable\u001b[0m \u001b[0;34m=\u001b[0m \u001b[0mcom\u001b[0m\u001b[0;34m.\u001b[0m\u001b[0mapply_if_callable\u001b[0m\u001b[0;34m(\u001b[0m\u001b[0mkey\u001b[0m\u001b[0;34m,\u001b[0m \u001b[0mself\u001b[0m\u001b[0;34m.\u001b[0m\u001b[0mobj\u001b[0m\u001b[0;34m)\u001b[0m\u001b[0;34m\u001b[0m\u001b[0m\n\u001b[0;32m-> 1500\u001b[0;31m             \u001b[0;32mreturn\u001b[0m \u001b[0mself\u001b[0m\u001b[0;34m.\u001b[0m\u001b[0m_getitem_axis\u001b[0m\u001b[0;34m(\u001b[0m\u001b[0mmaybe_callable\u001b[0m\u001b[0;34m,\u001b[0m \u001b[0maxis\u001b[0m\u001b[0;34m=\u001b[0m\u001b[0maxis\u001b[0m\u001b[0;34m)\u001b[0m\u001b[0;34m\u001b[0m\u001b[0m\n\u001b[0m\u001b[1;32m   1501\u001b[0m \u001b[0;34m\u001b[0m\u001b[0m\n\u001b[1;32m   1502\u001b[0m     \u001b[0;32mdef\u001b[0m \u001b[0m_is_scalar_access\u001b[0m\u001b[0;34m(\u001b[0m\u001b[0mself\u001b[0m\u001b[0;34m,\u001b[0m \u001b[0mkey\u001b[0m\u001b[0;34m)\u001b[0m\u001b[0;34m:\u001b[0m\u001b[0;34m\u001b[0m\u001b[0m\n",
      "\u001b[0;32m~/.local/lib/python3.5/site-packages/pandas/core/indexing.py\u001b[0m in \u001b[0;36m_getitem_axis\u001b[0;34m(self, key, axis)\u001b[0m\n\u001b[1;32m   2230\u001b[0m             \u001b[0mself\u001b[0m\u001b[0;34m.\u001b[0m\u001b[0m_validate_integer\u001b[0m\u001b[0;34m(\u001b[0m\u001b[0mkey\u001b[0m\u001b[0;34m,\u001b[0m \u001b[0maxis\u001b[0m\u001b[0;34m)\u001b[0m\u001b[0;34m\u001b[0m\u001b[0m\n\u001b[1;32m   2231\u001b[0m \u001b[0;34m\u001b[0m\u001b[0m\n\u001b[0;32m-> 2232\u001b[0;31m             \u001b[0;32mreturn\u001b[0m \u001b[0mself\u001b[0m\u001b[0;34m.\u001b[0m\u001b[0m_get_loc\u001b[0m\u001b[0;34m(\u001b[0m\u001b[0mkey\u001b[0m\u001b[0;34m,\u001b[0m \u001b[0maxis\u001b[0m\u001b[0;34m=\u001b[0m\u001b[0maxis\u001b[0m\u001b[0;34m)\u001b[0m\u001b[0;34m\u001b[0m\u001b[0m\n\u001b[0m\u001b[1;32m   2233\u001b[0m \u001b[0;34m\u001b[0m\u001b[0m\n\u001b[1;32m   2234\u001b[0m     \u001b[0;32mdef\u001b[0m \u001b[0m_convert_to_indexer\u001b[0m\u001b[0;34m(\u001b[0m\u001b[0mself\u001b[0m\u001b[0;34m,\u001b[0m \u001b[0mobj\u001b[0m\u001b[0;34m,\u001b[0m \u001b[0maxis\u001b[0m\u001b[0;34m=\u001b[0m\u001b[0;32mNone\u001b[0m\u001b[0;34m,\u001b[0m \u001b[0mis_setter\u001b[0m\u001b[0;34m=\u001b[0m\u001b[0;32mFalse\u001b[0m\u001b[0;34m)\u001b[0m\u001b[0;34m:\u001b[0m\u001b[0;34m\u001b[0m\u001b[0m\n",
      "\u001b[0;32m~/.local/lib/python3.5/site-packages/pandas/core/indexing.py\u001b[0m in \u001b[0;36m_get_loc\u001b[0;34m(self, key, axis)\u001b[0m\n\u001b[1;32m    144\u001b[0m         \u001b[0;32mif\u001b[0m \u001b[0maxis\u001b[0m \u001b[0;32mis\u001b[0m \u001b[0;32mNone\u001b[0m\u001b[0;34m:\u001b[0m\u001b[0;34m\u001b[0m\u001b[0m\n\u001b[1;32m    145\u001b[0m             \u001b[0maxis\u001b[0m \u001b[0;34m=\u001b[0m \u001b[0mself\u001b[0m\u001b[0;34m.\u001b[0m\u001b[0maxis\u001b[0m\u001b[0;34m\u001b[0m\u001b[0m\n\u001b[0;32m--> 146\u001b[0;31m         \u001b[0;32mreturn\u001b[0m \u001b[0mself\u001b[0m\u001b[0;34m.\u001b[0m\u001b[0mobj\u001b[0m\u001b[0;34m.\u001b[0m\u001b[0m_ixs\u001b[0m\u001b[0;34m(\u001b[0m\u001b[0mkey\u001b[0m\u001b[0;34m,\u001b[0m \u001b[0maxis\u001b[0m\u001b[0;34m=\u001b[0m\u001b[0maxis\u001b[0m\u001b[0;34m)\u001b[0m\u001b[0;34m\u001b[0m\u001b[0m\n\u001b[0m\u001b[1;32m    147\u001b[0m \u001b[0;34m\u001b[0m\u001b[0m\n\u001b[1;32m    148\u001b[0m     \u001b[0;32mdef\u001b[0m \u001b[0m_slice\u001b[0m\u001b[0;34m(\u001b[0m\u001b[0mself\u001b[0m\u001b[0;34m,\u001b[0m \u001b[0mobj\u001b[0m\u001b[0;34m,\u001b[0m \u001b[0maxis\u001b[0m\u001b[0;34m=\u001b[0m\u001b[0;32mNone\u001b[0m\u001b[0;34m,\u001b[0m \u001b[0mkind\u001b[0m\u001b[0;34m=\u001b[0m\u001b[0;32mNone\u001b[0m\u001b[0;34m)\u001b[0m\u001b[0;34m:\u001b[0m\u001b[0;34m\u001b[0m\u001b[0m\n",
      "\u001b[0;32m~/.local/lib/python3.5/site-packages/pandas/core/frame.py\u001b[0m in \u001b[0;36m_ixs\u001b[0;34m(self, i, axis)\u001b[0m\n\u001b[1;32m   2859\u001b[0m                                                       \u001b[0mindex\u001b[0m\u001b[0;34m=\u001b[0m\u001b[0mself\u001b[0m\u001b[0;34m.\u001b[0m\u001b[0mcolumns\u001b[0m\u001b[0;34m,\u001b[0m\u001b[0;34m\u001b[0m\u001b[0m\n\u001b[1;32m   2860\u001b[0m                                                       \u001b[0mname\u001b[0m\u001b[0;34m=\u001b[0m\u001b[0mself\u001b[0m\u001b[0;34m.\u001b[0m\u001b[0mindex\u001b[0m\u001b[0;34m[\u001b[0m\u001b[0mi\u001b[0m\u001b[0;34m]\u001b[0m\u001b[0;34m,\u001b[0m\u001b[0;34m\u001b[0m\u001b[0m\n\u001b[0;32m-> 2861\u001b[0;31m                                                       dtype=new_values.dtype)\n\u001b[0m\u001b[1;32m   2862\u001b[0m                 \u001b[0mresult\u001b[0m\u001b[0;34m.\u001b[0m\u001b[0m_set_is_copy\u001b[0m\u001b[0;34m(\u001b[0m\u001b[0mself\u001b[0m\u001b[0;34m,\u001b[0m \u001b[0mcopy\u001b[0m\u001b[0;34m=\u001b[0m\u001b[0mcopy\u001b[0m\u001b[0;34m)\u001b[0m\u001b[0;34m\u001b[0m\u001b[0m\n\u001b[1;32m   2863\u001b[0m                 \u001b[0;32mreturn\u001b[0m \u001b[0mresult\u001b[0m\u001b[0;34m\u001b[0m\u001b[0m\n",
      "\u001b[0;32m~/.local/lib/python3.5/site-packages/pandas/core/series.py\u001b[0m in \u001b[0;36m__init__\u001b[0;34m(self, data, index, dtype, name, copy, fastpath)\u001b[0m\n\u001b[1;32m    262\u001b[0m                                       raise_cast_failure=True)\n\u001b[1;32m    263\u001b[0m \u001b[0;34m\u001b[0m\u001b[0m\n\u001b[0;32m--> 264\u001b[0;31m                 \u001b[0mdata\u001b[0m \u001b[0;34m=\u001b[0m \u001b[0mSingleBlockManager\u001b[0m\u001b[0;34m(\u001b[0m\u001b[0mdata\u001b[0m\u001b[0;34m,\u001b[0m \u001b[0mindex\u001b[0m\u001b[0;34m,\u001b[0m \u001b[0mfastpath\u001b[0m\u001b[0;34m=\u001b[0m\u001b[0;32mTrue\u001b[0m\u001b[0;34m)\u001b[0m\u001b[0;34m\u001b[0m\u001b[0m\n\u001b[0m\u001b[1;32m    265\u001b[0m \u001b[0;34m\u001b[0m\u001b[0m\n\u001b[1;32m    266\u001b[0m         \u001b[0mgeneric\u001b[0m\u001b[0;34m.\u001b[0m\u001b[0mNDFrame\u001b[0m\u001b[0;34m.\u001b[0m\u001b[0m__init__\u001b[0m\u001b[0;34m(\u001b[0m\u001b[0mself\u001b[0m\u001b[0;34m,\u001b[0m \u001b[0mdata\u001b[0m\u001b[0;34m,\u001b[0m \u001b[0mfastpath\u001b[0m\u001b[0;34m=\u001b[0m\u001b[0;32mTrue\u001b[0m\u001b[0;34m)\u001b[0m\u001b[0;34m\u001b[0m\u001b[0m\n",
      "\u001b[0;32m~/.local/lib/python3.5/site-packages/pandas/core/internals/managers.py\u001b[0m in \u001b[0;36m__init__\u001b[0;34m(self, block, axis, do_integrity_check, fastpath)\u001b[0m\n\u001b[1;32m   1479\u001b[0m \u001b[0;34m\u001b[0m\u001b[0m\n\u001b[1;32m   1480\u001b[0m         \u001b[0;32mif\u001b[0m \u001b[0;32mnot\u001b[0m \u001b[0misinstance\u001b[0m\u001b[0;34m(\u001b[0m\u001b[0mblock\u001b[0m\u001b[0;34m,\u001b[0m \u001b[0mBlock\u001b[0m\u001b[0;34m)\u001b[0m\u001b[0;34m:\u001b[0m\u001b[0;34m\u001b[0m\u001b[0m\n\u001b[0;32m-> 1481\u001b[0;31m             \u001b[0mblock\u001b[0m \u001b[0;34m=\u001b[0m \u001b[0mmake_block\u001b[0m\u001b[0;34m(\u001b[0m\u001b[0mblock\u001b[0m\u001b[0;34m,\u001b[0m \u001b[0mplacement\u001b[0m\u001b[0;34m=\u001b[0m\u001b[0mslice\u001b[0m\u001b[0;34m(\u001b[0m\u001b[0;36m0\u001b[0m\u001b[0;34m,\u001b[0m \u001b[0mlen\u001b[0m\u001b[0;34m(\u001b[0m\u001b[0maxis\u001b[0m\u001b[0;34m)\u001b[0m\u001b[0;34m)\u001b[0m\u001b[0;34m,\u001b[0m \u001b[0mndim\u001b[0m\u001b[0;34m=\u001b[0m\u001b[0;36m1\u001b[0m\u001b[0;34m)\u001b[0m\u001b[0;34m\u001b[0m\u001b[0m\n\u001b[0m\u001b[1;32m   1482\u001b[0m \u001b[0;34m\u001b[0m\u001b[0m\n\u001b[1;32m   1483\u001b[0m         \u001b[0mself\u001b[0m\u001b[0;34m.\u001b[0m\u001b[0mblocks\u001b[0m \u001b[0;34m=\u001b[0m \u001b[0;34m[\u001b[0m\u001b[0mblock\u001b[0m\u001b[0;34m]\u001b[0m\u001b[0;34m\u001b[0m\u001b[0m\n",
      "\u001b[0;32m~/.local/lib/python3.5/site-packages/pandas/core/internals/blocks.py\u001b[0m in \u001b[0;36mmake_block\u001b[0;34m(values, placement, klass, ndim, dtype, fastpath)\u001b[0m\n\u001b[1;32m   3086\u001b[0m     \u001b[0;32mif\u001b[0m \u001b[0mklass\u001b[0m \u001b[0;32mis\u001b[0m \u001b[0;32mNone\u001b[0m\u001b[0;34m:\u001b[0m\u001b[0;34m\u001b[0m\u001b[0m\n\u001b[1;32m   3087\u001b[0m         \u001b[0mdtype\u001b[0m \u001b[0;34m=\u001b[0m \u001b[0mdtype\u001b[0m \u001b[0;32mor\u001b[0m \u001b[0mvalues\u001b[0m\u001b[0;34m.\u001b[0m\u001b[0mdtype\u001b[0m\u001b[0;34m\u001b[0m\u001b[0m\n\u001b[0;32m-> 3088\u001b[0;31m         \u001b[0mklass\u001b[0m \u001b[0;34m=\u001b[0m \u001b[0mget_block_type\u001b[0m\u001b[0;34m(\u001b[0m\u001b[0mvalues\u001b[0m\u001b[0;34m,\u001b[0m \u001b[0mdtype\u001b[0m\u001b[0;34m)\u001b[0m\u001b[0;34m\u001b[0m\u001b[0m\n\u001b[0m\u001b[1;32m   3089\u001b[0m \u001b[0;34m\u001b[0m\u001b[0m\n\u001b[1;32m   3090\u001b[0m     \u001b[0;32melif\u001b[0m \u001b[0mklass\u001b[0m \u001b[0;32mis\u001b[0m \u001b[0mDatetimeTZBlock\u001b[0m \u001b[0;32mand\u001b[0m \u001b[0;32mnot\u001b[0m \u001b[0mis_datetime64tz_dtype\u001b[0m\u001b[0;34m(\u001b[0m\u001b[0mvalues\u001b[0m\u001b[0;34m)\u001b[0m\u001b[0;34m:\u001b[0m\u001b[0;34m\u001b[0m\u001b[0m\n",
      "\u001b[0;32m~/.local/lib/python3.5/site-packages/pandas/core/internals/blocks.py\u001b[0m in \u001b[0;36mget_block_type\u001b[0;34m(values, dtype)\u001b[0m\n\u001b[1;32m   3058\u001b[0m     \u001b[0;32melif\u001b[0m \u001b[0mis_datetime64tz_dtype\u001b[0m\u001b[0;34m(\u001b[0m\u001b[0mvalues\u001b[0m\u001b[0;34m)\u001b[0m\u001b[0;34m:\u001b[0m\u001b[0;34m\u001b[0m\u001b[0m\n\u001b[1;32m   3059\u001b[0m         \u001b[0mcls\u001b[0m \u001b[0;34m=\u001b[0m \u001b[0mDatetimeTZBlock\u001b[0m\u001b[0;34m\u001b[0m\u001b[0m\n\u001b[0;32m-> 3060\u001b[0;31m     \u001b[0;32melif\u001b[0m \u001b[0mis_interval_dtype\u001b[0m\u001b[0;34m(\u001b[0m\u001b[0mdtype\u001b[0m\u001b[0;34m)\u001b[0m \u001b[0;32mor\u001b[0m \u001b[0mis_period_dtype\u001b[0m\u001b[0;34m(\u001b[0m\u001b[0mdtype\u001b[0m\u001b[0;34m)\u001b[0m\u001b[0;34m:\u001b[0m\u001b[0;34m\u001b[0m\u001b[0m\n\u001b[0m\u001b[1;32m   3061\u001b[0m         \u001b[0mcls\u001b[0m \u001b[0;34m=\u001b[0m \u001b[0mObjectValuesExtensionBlock\u001b[0m\u001b[0;34m\u001b[0m\u001b[0m\n\u001b[1;32m   3062\u001b[0m     \u001b[0;32melif\u001b[0m \u001b[0mis_extension_array_dtype\u001b[0m\u001b[0;34m(\u001b[0m\u001b[0mvalues\u001b[0m\u001b[0;34m)\u001b[0m\u001b[0;34m:\u001b[0m\u001b[0;34m\u001b[0m\u001b[0m\n",
      "\u001b[0;32m~/.local/lib/python3.5/site-packages/pandas/core/dtypes/common.py\u001b[0m in \u001b[0;36mis_period_dtype\u001b[0;34m(arr_or_dtype)\u001b[0m\n\u001b[1;32m    531\u001b[0m     \u001b[0;32mif\u001b[0m \u001b[0marr_or_dtype\u001b[0m \u001b[0;32mis\u001b[0m \u001b[0;32mNone\u001b[0m\u001b[0;34m:\u001b[0m\u001b[0;34m\u001b[0m\u001b[0m\n\u001b[1;32m    532\u001b[0m         \u001b[0;32mreturn\u001b[0m \u001b[0;32mFalse\u001b[0m\u001b[0;34m\u001b[0m\u001b[0m\n\u001b[0;32m--> 533\u001b[0;31m     \u001b[0;32mreturn\u001b[0m \u001b[0mPeriodDtype\u001b[0m\u001b[0;34m.\u001b[0m\u001b[0mis_dtype\u001b[0m\u001b[0;34m(\u001b[0m\u001b[0marr_or_dtype\u001b[0m\u001b[0;34m)\u001b[0m\u001b[0;34m\u001b[0m\u001b[0m\n\u001b[0m\u001b[1;32m    534\u001b[0m \u001b[0;34m\u001b[0m\u001b[0m\n\u001b[1;32m    535\u001b[0m \u001b[0;34m\u001b[0m\u001b[0m\n",
      "\u001b[0;32m~/.local/lib/python3.5/site-packages/pandas/core/dtypes/dtypes.py\u001b[0m in \u001b[0;36mis_dtype\u001b[0;34m(cls, dtype)\u001b[0m\n\u001b[1;32m    845\u001b[0m             \u001b[0;32melse\u001b[0m\u001b[0;34m:\u001b[0m\u001b[0;34m\u001b[0m\u001b[0m\n\u001b[1;32m    846\u001b[0m                 \u001b[0;32mreturn\u001b[0m \u001b[0;32mFalse\u001b[0m\u001b[0;34m\u001b[0m\u001b[0m\n\u001b[0;32m--> 847\u001b[0;31m         \u001b[0;32mreturn\u001b[0m \u001b[0msuper\u001b[0m\u001b[0;34m(\u001b[0m\u001b[0mPeriodDtype\u001b[0m\u001b[0;34m,\u001b[0m \u001b[0mcls\u001b[0m\u001b[0;34m)\u001b[0m\u001b[0;34m.\u001b[0m\u001b[0mis_dtype\u001b[0m\u001b[0;34m(\u001b[0m\u001b[0mdtype\u001b[0m\u001b[0;34m)\u001b[0m\u001b[0;34m\u001b[0m\u001b[0m\n\u001b[0m\u001b[1;32m    848\u001b[0m \u001b[0;34m\u001b[0m\u001b[0m\n\u001b[1;32m    849\u001b[0m     \u001b[0;34m@\u001b[0m\u001b[0mclassmethod\u001b[0m\u001b[0;34m\u001b[0m\u001b[0m\n",
      "\u001b[0;32m~/.local/lib/python3.5/site-packages/pandas/core/dtypes/base.py\u001b[0m in \u001b[0;36mis_dtype\u001b[0;34m(cls, dtype)\u001b[0m\n\u001b[1;32m     99\u001b[0m \u001b[0;34m\u001b[0m\u001b[0m\n\u001b[1;32m    100\u001b[0m         if isinstance(dtype, (ABCSeries, ABCIndexClass,\n\u001b[0;32m--> 101\u001b[0;31m                               ABCDataFrame, np.dtype)):\n\u001b[0m\u001b[1;32m    102\u001b[0m             \u001b[0;31m# https://github.com/pandas-dev/pandas/issues/22960\u001b[0m\u001b[0;34m\u001b[0m\u001b[0;34m\u001b[0m\u001b[0m\n\u001b[1;32m    103\u001b[0m             \u001b[0;31m# avoid passing data to `construct_from_string`. This could\u001b[0m\u001b[0;34m\u001b[0m\u001b[0;34m\u001b[0m\u001b[0m\n",
      "\u001b[0;32m~/.local/lib/python3.5/site-packages/pandas/core/dtypes/generic.py\u001b[0m in \u001b[0;36m_check\u001b[0;34m(cls, inst)\u001b[0m\n\u001b[1;32m      7\u001b[0m     \u001b[0;34m@\u001b[0m\u001b[0mclassmethod\u001b[0m\u001b[0;34m\u001b[0m\u001b[0m\n\u001b[1;32m      8\u001b[0m     \u001b[0;32mdef\u001b[0m \u001b[0m_check\u001b[0m\u001b[0;34m(\u001b[0m\u001b[0mcls\u001b[0m\u001b[0;34m,\u001b[0m \u001b[0minst\u001b[0m\u001b[0;34m)\u001b[0m\u001b[0;34m:\u001b[0m\u001b[0;34m\u001b[0m\u001b[0m\n\u001b[0;32m----> 9\u001b[0;31m         \u001b[0;32mreturn\u001b[0m \u001b[0mgetattr\u001b[0m\u001b[0;34m(\u001b[0m\u001b[0minst\u001b[0m\u001b[0;34m,\u001b[0m \u001b[0mattr\u001b[0m\u001b[0;34m,\u001b[0m \u001b[0;34m'_typ'\u001b[0m\u001b[0;34m)\u001b[0m \u001b[0;32min\u001b[0m \u001b[0mcomp\u001b[0m\u001b[0;34m\u001b[0m\u001b[0m\n\u001b[0m\u001b[1;32m     10\u001b[0m \u001b[0;34m\u001b[0m\u001b[0m\n\u001b[1;32m     11\u001b[0m     \u001b[0mdct\u001b[0m \u001b[0;34m=\u001b[0m \u001b[0mdict\u001b[0m\u001b[0;34m(\u001b[0m\u001b[0m__instancecheck__\u001b[0m\u001b[0;34m=\u001b[0m\u001b[0m_check\u001b[0m\u001b[0;34m,\u001b[0m \u001b[0m__subclasscheck__\u001b[0m\u001b[0;34m=\u001b[0m\u001b[0m_check\u001b[0m\u001b[0;34m)\u001b[0m\u001b[0;34m\u001b[0m\u001b[0m\n",
      "\u001b[0;31mKeyboardInterrupt\u001b[0m: "
     ]
    }
   ],
   "source": [
    "# For all static idxs found for every dynamic point, see if we are in given orientation threshold\n",
    "feasible_static_list = []\n",
    "\n",
    "for dynamic_idx in tqdm_notebook(range(df_dynamic.shape[0])):\n",
    "    feasible_flag = False\n",
    "    \n",
    "    feasible_ang_list = []\n",
    "    feasible_static_idx_list = []\n",
    "    more_feasible_distance_list = []\n",
    "    \n",
    "    \n",
    "    if len(feasible_distance_idx_list[dynamic_idx]) > 0:\n",
    "        dynamic_yaw = df_dynamic.iloc[dynamic_idx]['yaw']\n",
    "        for static_distance, static_idx in zip(feasible_distance_list[dynamic_idx], feasible_distance_idx_list[dynamic_idx]):\n",
    "            static_yaw = df_static.iloc[static_idx]['yaw']\n",
    "            rel_yaw = np.abs(get_relative_yaw(static_yaw, dynamic_yaw)) # we get value between 0 and 180\n",
    "            if rel_yaw < PAIR_ANGL_THRESH:\n",
    "                feasible_flag = True\n",
    "                feasible_ang_list.append(rel_yaw)\n",
    "                feasible_static_idx_list.append(static_idx)\n",
    "                more_feasible_distance_list.append(static_distance)\n",
    "                \n",
    "    feasible_static_dict = {}\n",
    "    feasible_static_dict['flag'] = feasible_flag\n",
    "    feasible_static_dict['dynamic_idx'] = dynamic_idx\n",
    "    feasible_static_dict['static_idx_list'] = feasible_static_idx_list\n",
    "    feasible_static_dict['distance_list'] = more_feasible_distance_list\n",
    "    feasible_static_dict['angle_list'] = feasible_ang_list\n",
    "    feasible_static_list.append(feasible_static_dict)\n",
    "    \n",
    "    \n",
    "gc.collect()"
   ]
  },
  {
   "cell_type": "code",
   "execution_count": null,
   "metadata": {
    "ExecuteTime": {
     "end_time": "2021-03-18T06:56:24.140164Z",
     "start_time": "2021-03-18T06:50:26.231Z"
    }
   },
   "outputs": [],
   "source": [
    "df_feasible = pd.DataFrame(feasible_static_list)\n",
    "df_feasible.shape"
   ]
  },
  {
   "cell_type": "code",
   "execution_count": null,
   "metadata": {
    "ExecuteTime": {
     "end_time": "2021-03-18T06:56:24.141073Z",
     "start_time": "2021-03-18T06:50:26.234Z"
    }
   },
   "outputs": [],
   "source": [
    "# df_feasible[df_feasible['flag']]"
   ]
  },
  {
   "cell_type": "code",
   "execution_count": null,
   "metadata": {
    "ExecuteTime": {
     "end_time": "2021-03-18T06:56:24.142117Z",
     "start_time": "2021-03-18T06:50:26.236Z"
    }
   },
   "outputs": [],
   "source": [
    "corr_static_idx_list = []\n",
    "corr_distance_list = []\n",
    "corr_angle_list = []\n",
    "for idx, row in df_feasible.iterrows():\n",
    "    if row['flag']:\n",
    "        corr_distance_list.append(np.min(row['distance_list']))\n",
    "        which_idx = np.argmin(row['distance_list'])\n",
    "        \n",
    "        corr_static_idx = row['static_idx_list'][which_idx]\n",
    "        corr_static_idx_list.append(corr_static_idx)\n",
    "        \n",
    "        corr_angle_idx = row['angle_list'][which_idx]\n",
    "        corr_angle_list.append(corr_angle_idx)\n",
    "    else:\n",
    "        corr_distance_list.append(np.nan)\n",
    "        corr_static_idx_list.append(-1)\n",
    "        corr_angle_list.append(np.nan)\n",
    "        \n",
    "gc.collect()"
   ]
  },
  {
   "cell_type": "code",
   "execution_count": null,
   "metadata": {
    "ExecuteTime": {
     "end_time": "2021-03-18T06:56:24.143018Z",
     "start_time": "2021-03-18T06:50:26.240Z"
    }
   },
   "outputs": [],
   "source": [
    "df_feasible['static_idx'] = corr_static_idx_list\n",
    "df_feasible['distance'] = corr_distance_list\n",
    "df_feasible['angle'] = corr_angle_list"
   ]
  },
  {
   "cell_type": "code",
   "execution_count": null,
   "metadata": {
    "ExecuteTime": {
     "end_time": "2021-03-18T06:56:24.143940Z",
     "start_time": "2021-03-18T06:50:26.242Z"
    }
   },
   "outputs": [],
   "source": [
    "df_pair = df_feasible[df_feasible['flag']][['dynamic_idx', 'static_idx', 'distance', 'angle']].reset_index().drop(columns=['index'])\n",
    "df_pair.shape"
   ]
  },
  {
   "cell_type": "code",
   "execution_count": null,
   "metadata": {
    "ExecuteTime": {
     "end_time": "2021-03-18T06:56:24.144842Z",
     "start_time": "2021-03-18T06:50:26.247Z"
    }
   },
   "outputs": [],
   "source": [
    "del df_feasible\n",
    "gc.collect()"
   ]
  },
  {
   "cell_type": "code",
   "execution_count": null,
   "metadata": {
    "ExecuteTime": {
     "end_time": "2021-03-18T06:56:24.145715Z",
     "start_time": "2021-03-18T06:50:26.250Z"
    }
   },
   "outputs": [],
   "source": [
    "df_pair.head()"
   ]
  },
  {
   "cell_type": "code",
   "execution_count": null,
   "metadata": {
    "ExecuteTime": {
     "end_time": "2021-03-18T06:56:24.146616Z",
     "start_time": "2021-03-18T06:50:26.253Z"
    }
   },
   "outputs": [],
   "source": [
    "print(\"Getting static poses\")\n",
    "df_pair['static_x'] = [df_static.iloc[int(row['static_idx'])]['x'] for idx, row in df_pair.iterrows()]\n",
    "df_pair['static_y'] = [df_static.iloc[int(row['static_idx'])]['y'] for idx, row in df_pair.iterrows()]\n",
    "# df_pair['static_z'] = [df_static.iloc[int(row['static_idx'])]['z'] for idx, row in df_pair.iterrows()]\n",
    "# df_pair['static_roll'] = [df_static.iloc[int(row['static_idx'])]['roll'] for idx, row in df_pair.iterrows()]\n",
    "# df_pair['static_pitch'] = [df_static.iloc[int(row['static_idx'])]['pitch'] for idx, row in df_pair.iterrows()]\n",
    "df_pair['static_yaw'] = [df_static.iloc[int(row['static_idx'])]['yaw'] for idx, row in df_pair.iterrows()]\n",
    "\n",
    "print(\"Getting dynamic poses\")\n",
    "df_pair['dynamic_x'] = [df_dynamic.iloc[int(row['dynamic_idx'])]['x'] for idx, row in df_pair.iterrows()]\n",
    "df_pair['dynamic_y'] = [df_dynamic.iloc[int(row['dynamic_idx'])]['y'] for idx, row in df_pair.iterrows()]\n",
    "# df_pair['dynamic_z'] = [df_dynamic.iloc[int(row['dynamic_idx'])]['z'] for idx, row in df_pair.iterrows()]\n",
    "# df_pair['dynamic_roll'] = [df_dynamic.iloc[int(row['dynamic_idx'])]['roll'] for idx, row in df_pair.iterrows()]\n",
    "# df_pair['dynamic_pitch'] = [df_dynamic.iloc[int(row['dynamic_idx'])]['pitch'] for idx, row in df_pair.iterrows()]\n",
    "df_pair['dynamic_yaw'] = [df_dynamic.iloc[int(row['dynamic_idx'])]['yaw'] for idx, row in df_pair.iterrows()]"
   ]
  },
  {
   "cell_type": "code",
   "execution_count": null,
   "metadata": {
    "ExecuteTime": {
     "end_time": "2021-03-18T06:56:24.147480Z",
     "start_time": "2021-03-18T06:50:26.256Z"
    }
   },
   "outputs": [],
   "source": [
    "df_pair.head()"
   ]
  },
  {
   "cell_type": "code",
   "execution_count": null,
   "metadata": {
    "ExecuteTime": {
     "end_time": "2021-03-18T06:56:24.148330Z",
     "start_time": "2021-03-18T06:50:26.259Z"
    }
   },
   "outputs": [],
   "source": [
    "df_pair['pose_x'] = df_pair['dynamic_x'] - df_pair['static_x']\n",
    "df_pair['pose_y'] = df_pair['dynamic_y'] - df_pair['static_y']\n",
    "df_pair['pose_yaw'] = [get_relative_yaw(row['static_yaw'], row['dynamic_yaw']) for idx, row in df_pair.iterrows()]"
   ]
  },
  {
   "cell_type": "code",
   "execution_count": null,
   "metadata": {
    "ExecuteTime": {
     "end_time": "2021-03-18T06:56:24.149164Z",
     "start_time": "2021-03-18T06:50:26.271Z"
    }
   },
   "outputs": [],
   "source": [
    "df_pair.shape"
   ]
  },
  {
   "cell_type": "code",
   "execution_count": null,
   "metadata": {
    "ExecuteTime": {
     "end_time": "2021-03-18T06:56:24.150017Z",
     "start_time": "2021-03-18T06:50:26.285Z"
    }
   },
   "outputs": [],
   "source": [
    "df_pair.head()"
   ]
  },
  {
   "cell_type": "code",
   "execution_count": null,
   "metadata": {
    "ExecuteTime": {
     "end_time": "2021-03-18T06:56:24.150883Z",
     "start_time": "2021-03-18T06:50:26.288Z"
    }
   },
   "outputs": [],
   "source": [
    "print(\"Check how many corresponding yaw measurements are wrong:\")\n",
    "# TODO check for distance \n",
    "# TODO check if it is indeed the min\n",
    "np.sum(df_pair['angle'] != np.abs(df_pair['pose_yaw']))"
   ]
  },
  {
   "cell_type": "code",
   "execution_count": null,
   "metadata": {},
   "outputs": [],
   "source": []
  },
  {
   "cell_type": "markdown",
   "metadata": {},
   "source": [
    "Save"
   ]
  },
  {
   "cell_type": "code",
   "execution_count": null,
   "metadata": {
    "ExecuteTime": {
     "end_time": "2021-03-18T06:56:24.151783Z",
     "start_time": "2021-03-18T06:50:26.301Z"
    }
   },
   "outputs": [],
   "source": [
    "df_pair.columns"
   ]
  },
  {
   "cell_type": "code",
   "execution_count": null,
   "metadata": {
    "ExecuteTime": {
     "end_time": "2021-03-18T06:56:24.152640Z",
     "start_time": "2021-03-18T06:50:26.305Z"
    }
   },
   "outputs": [],
   "source": [
    "static_path_list = []\n",
    "dynamic_path_list = []\n",
    "for idx, row in df_pair.iterrows():\n",
    "    static_path_list.append(df_static.iloc[int(row['static_idx'])]['path'])\n",
    "    dynamic_path_list.append(df_dynamic.iloc[int(row['dynamic_idx'])]['path'])\n",
    "    \n",
    "df_pair['static_path'] = static_path_list\n",
    "df_pair['dynamic_path'] = dynamic_path_list"
   ]
  },
  {
   "cell_type": "code",
   "execution_count": null,
   "metadata": {},
   "outputs": [],
   "source": []
  },
  {
   "cell_type": "raw",
   "metadata": {
    "ExecuteTime": {
     "end_time": "2020-01-22T16:55:13.162521Z",
     "start_time": "2020-01-22T16:55:13.154498Z"
    }
   },
   "source": [
    "# Function to get transformation matrix for a given pose\n",
    "def pose2matrix(translation_list, rotation_angle_list, zoom_list=[1,1,1]):\n",
    "    # trans_vec = np.array(translation_list)\n",
    "    rot_ang = [np.deg2rad(ang) for ang in rotation_angle_list ]\n",
    "    rot_mat = transforms3d.euler.euler2mat(rot_ang[0], rot_ang[1], rot_ang[2])\n",
    "    zoom_vec = np.array(zoom_list)\n",
    "    # transform_mat = transforms3d.affines.compose(trans_vec, rot_mat, zoom_vec)\n",
    "    transform_mat = transforms3d.affines.compose(translation_list, rot_mat, zoom_list)\n",
    "    return transform_mat"
   ]
  },
  {
   "cell_type": "code",
   "execution_count": null,
   "metadata": {},
   "outputs": [],
   "source": []
  },
  {
   "cell_type": "raw",
   "metadata": {
    "ExecuteTime": {
     "end_time": "2020-07-29T15:11:31.999381Z",
     "start_time": "2020-07-29T15:11:31.807620Z"
    }
   },
   "source": [
    "fname = os.path.join(BASE_PATH, PAIR_FILE)\n",
    "\n",
    "df_pair[['static_path', 'dynamic_path', 'pose_x', 'pose_y', 'pose_yaw',\\\n",
    "         'static_x','static_y','static_yaw',\\\n",
    "         'dynamic_x','dynamic_y','dynamic_yaw']].to_csv(fname, index=False)"
   ]
  },
  {
   "cell_type": "code",
   "execution_count": null,
   "metadata": {
    "ExecuteTime": {
     "end_time": "2021-03-18T06:56:24.153556Z",
     "start_time": "2021-03-18T06:50:26.468Z"
    }
   },
   "outputs": [],
   "source": [
    "df_pair['dynamic_path'].values"
   ]
  },
  {
   "cell_type": "code",
   "execution_count": null,
   "metadata": {
    "ExecuteTime": {
     "end_time": "2021-03-18T06:56:24.154624Z",
     "start_time": "2021-03-18T06:50:26.471Z"
    }
   },
   "outputs": [],
   "source": [
    "fname"
   ]
  },
  {
   "cell_type": "code",
   "execution_count": null,
   "metadata": {
    "ExecuteTime": {
     "end_time": "2021-03-18T06:56:24.155556Z",
     "start_time": "2021-03-18T06:50:26.475Z"
    }
   },
   "outputs": [],
   "source": [
    "df_pair.shape"
   ]
  },
  {
   "cell_type": "code",
   "execution_count": null,
   "metadata": {},
   "outputs": [],
   "source": []
  },
  {
   "cell_type": "code",
   "execution_count": null,
   "metadata": {},
   "outputs": [],
   "source": []
  },
  {
   "cell_type": "markdown",
   "metadata": {},
   "source": [
    "Visualize any random pair for verification"
   ]
  },
  {
   "cell_type": "code",
   "execution_count": null,
   "metadata": {
    "ExecuteTime": {
     "end_time": "2021-03-18T06:56:24.156396Z",
     "start_time": "2021-03-18T06:50:26.486Z"
    }
   },
   "outputs": [],
   "source": [
    "import open3d as o3d\n",
    "import copy\n",
    "import transforms3d\n",
    "o3d.__version__"
   ]
  },
  {
   "cell_type": "code",
   "execution_count": null,
   "metadata": {
    "ExecuteTime": {
     "end_time": "2021-03-18T06:56:24.157306Z",
     "start_time": "2021-03-18T06:50:26.491Z"
    }
   },
   "outputs": [],
   "source": [
    "# def pose2matrix(translation_list, rotation_angle_list):\n",
    "#     trans_vec = np.array(translation_list)\n",
    "#     rot_ang = [np.deg2rad(ang) for ang in rotation_angle_list ]\n",
    "#     rot_mat = transforms3d.euler.euler2mat(rot_ang[0], rot_ang[1], rot_ang[2])\n",
    "#     zoom = np.ones(3)\n",
    "#     transform_mat = transforms3d.affines.compose(trans_vec, rot_mat, zoom)\n",
    "#     return transform_mat\n",
    "\n",
    "# Function to get transformation matrix for a given pose\n",
    "def pose2matrix(translation_list, rotation_angle_list, zoom_list=[1,1,1]):\n",
    "    # trans_vec = np.array(translation_list)\n",
    "    rot_ang = [np.deg2rad(ang) for ang in rotation_angle_list ]\n",
    "    rot_mat = transforms3d.euler.euler2mat(rot_ang[0], rot_ang[1], rot_ang[2])\n",
    "    zoom_vec = np.array(zoom_list)\n",
    "    # transform_mat = transforms3d.affines.compose(trans_vec, rot_mat, zoom_vec)\n",
    "    transform_mat = transforms3d.affines.compose(translation_list, rot_mat, zoom_list)\n",
    "    return transform_mat\n",
    "\n",
    "def draw_registration_result(src_pcd, dst_pcd, x_pt, y_pt, theta):    \n",
    "    src_pcd_tmp = copy.deepcopy(src_pcd)\n",
    "    dst_pcd_tmp = copy.deepcopy(dst_pcd)\n",
    "    \n",
    "    src_pcd_tmp.paint_uniform_color([1, 0, 0])  # red source\n",
    "    dst_pcd_tmp.paint_uniform_color([0, 0, 1])  # blue target\n",
    "    \n",
    "    transform_mat = pose2matrix([x_pt, y_pt, 0], [0,0,theta])\n",
    "    dst_pcd_tmp.transform(transform_mat)\n",
    "    \n",
    "    visualizer = o3d.JVisualizer()\n",
    "    visualizer.add_geometry(src_pcd_tmp)\n",
    "    visualizer.add_geometry(dst_pcd_tmp)\n",
    "    visualizer.show()"
   ]
  },
  {
   "cell_type": "code",
   "execution_count": null,
   "metadata": {
    "ExecuteTime": {
     "end_time": "2021-03-18T06:56:24.158302Z",
     "start_time": "2021-03-18T06:50:26.495Z"
    }
   },
   "outputs": [],
   "source": [
    "some_row = df_pair.iloc[np.random.choice(df_pair.shape[0])]\n",
    "# some_row = df_pair.iloc[2]\n",
    "\n",
    "print(\"Distance (in m): {} \\nRelative Angle (in deg): {}\".format(some_row['distance'], some_row['angle']))\n",
    "\n",
    "some_static_pcd_path = df_static.iloc[int(some_row['static_idx'])]['path']\n",
    "some_static_pcd = o3d.io.read_point_cloud(some_static_pcd_path)\n",
    "\n",
    "some_dynamic_pcd_path = df_dynamic.iloc[int(some_row['dynamic_idx'])]['path']\n",
    "some_dynamic_pcd = o3d.io.read_point_cloud(some_dynamic_pcd_path)\n",
    "\n",
    "print(\"Without pose difference correction\")\n",
    "draw_registration_result(some_static_pcd, some_dynamic_pcd, 0, 0, 0)\n",
    "# Static is red\n",
    "# dynamic is blue"
   ]
  },
  {
   "cell_type": "code",
   "execution_count": null,
   "metadata": {
    "ExecuteTime": {
     "end_time": "2021-03-18T06:56:24.159239Z",
     "start_time": "2021-03-18T06:50:26.504Z"
    }
   },
   "outputs": [],
   "source": [
    "def transform_corr_static_pcd(static_pcd, pair_row):\n",
    "    # Calculate all the transforms\n",
    "    transform_lidar   = pose2matrix([0, 0, 0],\n",
    "                                    [0, 0, 90],\n",
    "                                    [1, 1, -1])\n",
    "    transform_static1  = pose2matrix([pair_row['static_x'], pair_row['static_y'], 0],\n",
    "                                    [0,0, pair_row['static_yaw']])\n",
    "    transform_dynamic1 = pose2matrix([pair_row['dynamic_x'], pair_row['dynamic_y'], 0],\n",
    "                                    [0, 0, pair_row['dynamic_yaw']])\n",
    "    transform1 = np.matmul(np.linalg.inv(transform_dynamic1), transform_static1)\n",
    "    \n",
    "    transform_static2  = pose2matrix([0, 0, 0],\n",
    "                                    [0,0, pair_row['static_yaw']])\n",
    "    transform_dynamic2 = pose2matrix([0, 0, 0],\n",
    "                                    [0, 0, pair_row['dynamic_yaw']])\n",
    "    transform2 = np.matmul(np.linalg.inv(transform_dynamic2), transform_static2)\n",
    "    \n",
    "    # Apply all the transforms\n",
    "    static_pcd_tmp = copy.deepcopy(static_pcd)\n",
    "    static_pcd_tmp.transform(np.linalg.inv(transform_lidar))\n",
    "    static_pcd_tmp.transform(np.linalg.inv(transform1))\n",
    "    static_pcd_tmp.transform(transform2)\n",
    "    static_pcd_tmp.transform(transform2)     # Need to fix this hack\n",
    "    static_pcd_tmp.transform(transform_lidar)\n",
    "    \n",
    "    return static_pcd_tmp"
   ]
  },
  {
   "cell_type": "code",
   "execution_count": null,
   "metadata": {
    "ExecuteTime": {
     "end_time": "2021-03-18T06:56:24.160197Z",
     "start_time": "2021-03-18T06:50:26.508Z"
    }
   },
   "outputs": [],
   "source": [
    "print(\"With pose difference correction\")\n",
    "some_static_pcd_tmp = transform_corr_static_pcd(some_static_pcd, some_row)\n",
    "draw_registration_result(some_static_pcd_tmp, some_dynamic_pcd, 0, 0, 0)\n",
    "# Static is red\n",
    "# dynamic is blue"
   ]
  },
  {
   "cell_type": "code",
   "execution_count": null,
   "metadata": {},
   "outputs": [],
   "source": []
  },
  {
   "cell_type": "code",
   "execution_count": null,
   "metadata": {},
   "outputs": [],
   "source": []
  },
  {
   "cell_type": "code",
   "execution_count": null,
   "metadata": {},
   "outputs": [],
   "source": []
  },
  {
   "cell_type": "raw",
   "metadata": {
    "ExecuteTime": {
     "end_time": "2020-01-23T10:55:47.415093Z",
     "start_time": "2020-01-23T10:55:46.190396Z"
    }
   },
   "source": [
    "transform_lidar   = pose2matrix([0, 0, 0], [0, 0, 90], [1,1,-1])\n",
    "transform_static  = pose2matrix([some_row['static_x'], some_row['static_y'], some_row['static_z']], [some_row['static_roll'],some_row['static_pitch'], some_row['static_yaw']])\n",
    "transform_dynamic = pose2matrix([some_row['dynamic_x'], some_row['dynamic_y'], some_row['dynamic_z']], [some_row['dynamic_roll'], some_row['dynamic_pitch'], some_row['dynamic_yaw']])\n",
    "\n",
    "transform = np.matmul(np.linalg.inv(transform_dynamic), transform_static)\n",
    "\n",
    "some_static_pcd_tmp = copy.deepcopy(some_static_pcd)\n",
    "some_static_pcd_tmp.transform(np.linalg.inv(tra`nsform_lidar))\n",
    "some_static_pcd_tmp.transform(np.linalg.inv(transform))\n",
    "some_static_pcd_tmp.transform(transform_lidar)\n",
    "\n",
    "some_dynamic_pcd_tmp = copy.deepcopy(some_dynamic_pcd)\n",
    "# some_dynamic_pcd_tmp.transform(np.linalg.inv(transform_lidar))\n",
    "\n",
    "print(\"With pose difference correction\")\n",
    "draw_registration_result(some_static_pcd_tmp, some_dynamic_pcd_tmp, 0, 0, 0)\n",
    "# Static is red\n",
    "# dynamic is bluestat"
   ]
  },
  {
   "cell_type": "code",
   "execution_count": null,
   "metadata": {},
   "outputs": [],
   "source": []
  },
  {
   "cell_type": "code",
   "execution_count": null,
   "metadata": {},
   "outputs": [],
   "source": []
  },
  {
   "cell_type": "code",
   "execution_count": null,
   "metadata": {},
   "outputs": [],
   "source": []
  },
  {
   "cell_type": "code",
   "execution_count": null,
   "metadata": {},
   "outputs": [],
   "source": []
  },
  {
   "cell_type": "code",
   "execution_count": null,
   "metadata": {},
   "outputs": [],
   "source": []
  },
  {
   "cell_type": "code",
   "execution_count": null,
   "metadata": {},
   "outputs": [],
   "source": []
  },
  {
   "cell_type": "code",
   "execution_count": null,
   "metadata": {},
   "outputs": [],
   "source": []
  }
 ],
 "metadata": {
  "kernelspec": {
   "display_name": "Python 3",
   "language": "python",
   "name": "python3"
  },
  "language_info": {
   "codemirror_mode": {
    "name": "ipython",
    "version": 3
   },
   "file_extension": ".py",
   "mimetype": "text/x-python",
   "name": "python",
   "nbconvert_exporter": "python",
   "pygments_lexer": "ipython3",
   "version": "3.5.2"
  },
  "toc": {
   "base_numbering": 1,
   "nav_menu": {},
   "number_sections": true,
   "sideBar": true,
   "skip_h1_title": false,
   "title_cell": "Table of Contents",
   "title_sidebar": "Contents",
   "toc_cell": false,
   "toc_position": {},
   "toc_section_display": true,
   "toc_window_display": false
  }
 },
 "nbformat": 4,
 "nbformat_minor": 2
}
