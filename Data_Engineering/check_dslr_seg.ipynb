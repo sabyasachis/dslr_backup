{
 "cells": [
  {
   "cell_type": "code",
   "execution_count": 1,
   "metadata": {
    "ExecuteTime": {
     "end_time": "2020-09-09T15:05:29.843423Z",
     "start_time": "2020-09-09T15:05:29.029639Z"
    }
   },
   "outputs": [],
   "source": [
    "import pandas as pd\n",
    "import numpy as np\n",
    "import open3d as o3d\n",
    "import gc\n",
    "from tqdm import tqdm_notebook\n",
    "import os\n",
    "import matplotlib.pyplot as plt"
   ]
  },
  {
   "cell_type": "code",
   "execution_count": 2,
   "metadata": {
    "ExecuteTime": {
     "end_time": "2020-09-09T15:05:29.851156Z",
     "start_time": "2020-09-09T15:05:29.845104Z"
    }
   },
   "outputs": [],
   "source": [
    "%matplotlib notebook"
   ]
  },
  {
   "cell_type": "code",
   "execution_count": null,
   "metadata": {
    "ExecuteTime": {
     "end_time": "2020-09-08T21:42:58.845330Z",
     "start_time": "2020-09-08T21:42:58.842556Z"
    }
   },
   "outputs": [],
   "source": [
    "# DYNAMIC_PATH = \"/home/saby/old_sabyasachi/Desktop/Pr/plsDoNotDelVAE/Images/CARLA/visualizeData/recon_ours/2.npy\"\n",
    "DYNAMIC_PATH = \"/home/saby/old_sabyasachi/Desktop/Pr/plsDoNotDelVAE/Images/CARLA/testData/kitti-02.npy\"\n",
    "# DYNAMIC_PATH = \"/home/saby/Projects/ati/data/data/datasets/Carla/64beam-Data/pair_transform_dynseg_all/segmentation_preprocess/d/2.npy\"\n",
    "MODEL_RECON_PATH = \"/home/saby/old_sabyasachi/Desktop/Pr/plsDoNotDelVAE/Images/CARLA/visualizeData/recon_ours/\"\n",
    "# MODEL_RECON_PATH = \"home/saby/old_sabyasachi/Desktop/Pr/plsDoNotDelVAE/Images/CARLA/prediction-baseline/dslrseg_recond2_v2.npy\"\n",
    "MODEL_MASK_PATH = \"/home/saby/old_sabyasachi/Desktop/Pr/plsDoNotDelVAE/Images/CARLA/visualizeData/mask-kitti/02.npy\"\n",
    "# MODEL_MASK_PATH = \"/home/saby/Projects/ati/data/data/datasets/Carla/64beam-Data/pSysFinalSlicData/test/testd15_mask.npy\""
   ]
  },
  {
   "cell_type": "code",
   "execution_count": 56,
   "metadata": {
    "ExecuteTime": {
     "end_time": "2020-09-09T15:23:08.015278Z",
     "start_time": "2020-09-09T15:23:08.010709Z"
    }
   },
   "outputs": [],
   "source": [
    "DYNAMIC_PATH = \"/home/saby/Projects/ati/data/data/datasets/Carla/64beam-Data/pair_transform_dynseg_all/segmentation_preprocess/d/2.npy\"\n",
    "MODEL_RECON_PATH = \"/home/saby/old_sabyasachi/Desktop/Pr/plsDoNotDelVAE/Images/CARLA/prediction-baseline/dslrseg_recond2_v2.npy\"\n",
    "MODEL_MASK_PATH = \"/home/saby/old_sabyasachi/Desktop/Pr/plsDoNotDelVAE/Images/CARLA/visualizeData/mask-carla/2.npy\""
   ]
  },
  {
   "cell_type": "code",
   "execution_count": 57,
   "metadata": {
    "ExecuteTime": {
     "end_time": "2020-09-09T15:23:09.830201Z",
     "start_time": "2020-09-09T15:23:08.419779Z"
    }
   },
   "outputs": [
    {
     "data": {
      "text/plain": [
       "((2048, 2, 64, 1024), (500, 2, 40, 512), (10000, 2, 40, 512))"
      ]
     },
     "execution_count": 57,
     "metadata": {},
     "output_type": "execute_result"
    }
   ],
   "source": [
    "dynamic_arr = np.load(DYNAMIC_PATH)\n",
    "model_recon_arr = np.load(MODEL_RECON_PATH)\n",
    "model_mask_arr = np.load(MODEL_MASK_PATH)\n",
    "model_mask_arr = (model_mask_arr > 0.5).astype('int')\n",
    "dynamic_arr.shape, model_recon_arr.shape, model_mask_arr.shape"
   ]
  },
  {
   "cell_type": "code",
   "execution_count": 58,
   "metadata": {
    "ExecuteTime": {
     "end_time": "2020-09-09T15:23:12.384686Z",
     "start_time": "2020-09-09T15:23:12.369576Z"
    }
   },
   "outputs": [],
   "source": [
    "def from_polar_np(velo):\n",
    "    angles = np.linspace(0, np.pi * 2, velo.shape[-1])\n",
    "    dist, z = velo[:, 0], velo[:, 1]\n",
    "    x = np.cos(angles) * dist\n",
    "    y = np.sin(angles) * dist\n",
    "    out = np.stack([x,y,z], axis=1)\n",
    "    return out.astype('float32')\n",
    "\n",
    "def draw_pcd(pcd, where='mat_3d'):\n",
    "    if where is 'opn_nb':\n",
    "        visualizer = o3d.JVisualizer()\n",
    "        visualizer.add_geometry(pcd)\n",
    "        visualizer.show()\n",
    "    elif where is 'opn_view':\n",
    "        o3d.visualization.draw_geometries([pcd], width=1280, height=800)\n",
    "    elif where is 'mat_3d':\n",
    "        plt.figure()\n",
    "        pts = np.asarray(pcd.points)\n",
    "        plt.scatter(pts[:,0], pts[:,1], pts[:,2])\n",
    "        plt.grid()\n",
    "        plt.show()\n",
    "    elif where is 'mat_2d':\n",
    "        plt.figure()\n",
    "        pts = np.asarray(pcd.points)\n",
    "        plt.scatter(pts[:,0], pts[:,1])\n",
    "        plt.grid()\n",
    "        plt.show()"
   ]
  },
  {
   "cell_type": "code",
   "execution_count": 59,
   "metadata": {
    "ExecuteTime": {
     "end_time": "2020-09-09T15:23:12.919476Z",
     "start_time": "2020-09-09T15:23:12.915310Z"
    }
   },
   "outputs": [],
   "source": [
    "idx = 16"
   ]
  },
  {
   "cell_type": "code",
   "execution_count": 60,
   "metadata": {
    "ExecuteTime": {
     "end_time": "2020-09-09T15:23:15.342210Z",
     "start_time": "2020-09-09T15:23:13.455008Z"
    }
   },
   "outputs": [
    {
     "data": {
      "text/plain": [
       "((20480, 3), (20480, 3), (20480, 3))"
      ]
     },
     "execution_count": 60,
     "metadata": {},
     "output_type": "execute_result"
    }
   ],
   "source": [
    "dynamic_img = from_polar_np(dynamic_arr)[idx,:, 5:45,::2].reshape(3,-1).T\n",
    "model_recon_img = from_polar_np(model_recon_arr)[idx].reshape(3,-1).T\n",
    "size = model_mask_arr[idx,0:1].shape\n",
    "mask_img = np.concatenate([model_mask_arr[idx,0:1], np.zeros(size), np.zeros(size)], axis=0).reshape(3,-1).T\n",
    "dynamic_img.shape, model_recon_img.shape, mask_img.shape"
   ]
  },
  {
   "cell_type": "code",
   "execution_count": 61,
   "metadata": {
    "ExecuteTime": {
     "end_time": "2020-09-09T15:23:15.373708Z",
     "start_time": "2020-09-09T15:23:15.344272Z"
    }
   },
   "outputs": [
    {
     "data": {
      "text/plain": [
       "geometry::PointCloud with 20480 points."
      ]
     },
     "execution_count": 61,
     "metadata": {},
     "output_type": "execute_result"
    }
   ],
   "source": [
    "dynamic_pcd = o3d.geometry.PointCloud()\n",
    "dynamic_pcd.points = o3d.utility.Vector3dVector(dynamic_img)\n",
    "dynamic_pcd.colors = o3d.utility.Vector3dVector(mask_img)\n",
    "dynamic_pcd"
   ]
  },
  {
   "cell_type": "code",
   "execution_count": 62,
   "metadata": {
    "ExecuteTime": {
     "end_time": "2020-09-09T15:23:15.861038Z",
     "start_time": "2020-09-09T15:23:15.416787Z"
    }
   },
   "outputs": [
    {
     "data": {
      "application/vnd.jupyter.widget-view+json": {
       "model_id": "999d44c99c9340d79c3ca90837aea85d",
       "version_major": 2,
       "version_minor": 0
      },
      "text/plain": [
       "JVisualizer with 1 geometries"
      ]
     },
     "metadata": {},
     "output_type": "display_data"
    }
   ],
   "source": [
    "draw_pcd(dynamic_pcd, where='opn_nb')"
   ]
  },
  {
   "cell_type": "code",
   "execution_count": null,
   "metadata": {},
   "outputs": [],
   "source": []
  },
  {
   "cell_type": "code",
   "execution_count": null,
   "metadata": {},
   "outputs": [],
   "source": []
  },
  {
   "cell_type": "code",
   "execution_count": null,
   "metadata": {},
   "outputs": [],
   "source": []
  },
  {
   "cell_type": "code",
   "execution_count": null,
   "metadata": {},
   "outputs": [],
   "source": []
  },
  {
   "cell_type": "code",
   "execution_count": null,
   "metadata": {},
   "outputs": [],
   "source": []
  },
  {
   "cell_type": "code",
   "execution_count": 42,
   "metadata": {
    "ExecuteTime": {
     "end_time": "2020-09-09T15:14:49.757853Z",
     "start_time": "2020-09-09T15:14:49.718561Z"
    }
   },
   "outputs": [
    {
     "data": {
      "text/plain": [
       "geometry::PointCloud with 20480 points."
      ]
     },
     "execution_count": 42,
     "metadata": {},
     "output_type": "execute_result"
    }
   ],
   "source": [
    "recon_pcd = o3d.geometry.PointCloud()\n",
    "recon_pcd.points = o3d.utility.Vector3dVector(model_recon_img)\n",
    "recon_pcd.colors = o3d.utility.Vector3dVector(mask_img)\n",
    "recon_pcd"
   ]
  },
  {
   "cell_type": "code",
   "execution_count": 43,
   "metadata": {
    "ExecuteTime": {
     "end_time": "2020-09-09T15:14:50.837206Z",
     "start_time": "2020-09-09T15:14:50.367222Z"
    }
   },
   "outputs": [
    {
     "data": {
      "application/vnd.jupyter.widget-view+json": {
       "model_id": "4376292df02f4b828e6bb73881b96bca",
       "version_major": 2,
       "version_minor": 0
      },
      "text/plain": [
       "JVisualizer with 1 geometries"
      ]
     },
     "metadata": {},
     "output_type": "display_data"
    }
   ],
   "source": [
    "draw_pcd(recon_pcd, where='opn_nb')"
   ]
  },
  {
   "cell_type": "code",
   "execution_count": null,
   "metadata": {},
   "outputs": [],
   "source": []
  },
  {
   "cell_type": "code",
   "execution_count": null,
   "metadata": {},
   "outputs": [],
   "source": []
  },
  {
   "cell_type": "code",
   "execution_count": null,
   "metadata": {},
   "outputs": [],
   "source": []
  },
  {
   "cell_type": "markdown",
   "metadata": {},
   "source": [
    "DSLR_Seg"
   ]
  },
  {
   "cell_type": "code",
   "execution_count": null,
   "metadata": {
    "ExecuteTime": {
     "end_time": "2020-09-08T21:43:06.695082Z",
     "start_time": "2020-09-08T21:43:06.689887Z"
    }
   },
   "outputs": [],
   "source": [
    "new_mask_img = np.concatenate([model_mask_arr[idx,1:2,5:45,::2], model_mask_arr[idx,1:2,5:45,::2], model_mask_arr[idx,1:2,5:45,::2]], axis=0).reshape(3,-1).T\n",
    "new_mask_img.shape"
   ]
  },
  {
   "cell_type": "code",
   "execution_count": null,
   "metadata": {
    "ExecuteTime": {
     "end_time": "2020-09-08T21:43:06.702562Z",
     "start_time": "2020-09-08T21:43:06.696415Z"
    }
   },
   "outputs": [],
   "source": [
    "new_recon_img = (new_mask_img*model_recon_img) + ((1-new_mask_img)*dynamic_img)\n",
    "new_recon_img.shape"
   ]
  },
  {
   "cell_type": "code",
   "execution_count": null,
   "metadata": {
    "ExecuteTime": {
     "end_time": "2020-09-08T21:43:06.708404Z",
     "start_time": "2020-09-08T21:43:06.703994Z"
    }
   },
   "outputs": [],
   "source": [
    "new_recon_pcd = o3d.geometry.PointCloud()\n",
    "new_recon_pcd.points = o3d.utility.Vector3dVector(new_recon_img)\n",
    "new_recon_pcd.colors = o3d.utility.Vector3dVector(mask_img)\n",
    "new_recon_pcd"
   ]
  },
  {
   "cell_type": "code",
   "execution_count": null,
   "metadata": {
    "ExecuteTime": {
     "end_time": "2020-09-08T21:43:07.200943Z",
     "start_time": "2020-09-08T21:43:06.709763Z"
    },
    "scrolled": false
   },
   "outputs": [],
   "source": [
    "draw_pcd(new_recon_pcd, where='opn_nb')"
   ]
  },
  {
   "cell_type": "code",
   "execution_count": null,
   "metadata": {},
   "outputs": [],
   "source": []
  },
  {
   "cell_type": "code",
   "execution_count": null,
   "metadata": {},
   "outputs": [],
   "source": []
  },
  {
   "cell_type": "code",
   "execution_count": null,
   "metadata": {},
   "outputs": [],
   "source": []
  },
  {
   "cell_type": "code",
   "execution_count": null,
   "metadata": {},
   "outputs": [],
   "source": []
  }
 ],
 "metadata": {
  "kernelspec": {
   "display_name": "Python 3",
   "language": "python",
   "name": "python3"
  },
  "language_info": {
   "codemirror_mode": {
    "name": "ipython",
    "version": 3
   },
   "file_extension": ".py",
   "mimetype": "text/x-python",
   "name": "python",
   "nbconvert_exporter": "python",
   "pygments_lexer": "ipython3",
   "version": "3.6.10"
  },
  "toc": {
   "base_numbering": 1,
   "nav_menu": {},
   "number_sections": true,
   "sideBar": true,
   "skip_h1_title": false,
   "title_cell": "Table of Contents",
   "title_sidebar": "Contents",
   "toc_cell": false,
   "toc_position": {},
   "toc_section_display": true,
   "toc_window_display": false
  }
 },
 "nbformat": 4,
 "nbformat_minor": 4
}
