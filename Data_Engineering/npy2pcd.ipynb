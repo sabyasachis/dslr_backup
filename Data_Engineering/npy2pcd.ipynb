{
 "cells": [
  {
   "cell_type": "code",
   "execution_count": 1,
   "metadata": {
    "ExecuteTime": {
     "end_time": "2020-08-20T21:57:30.678538Z",
     "start_time": "2020-08-20T21:57:30.209585Z"
    }
   },
   "outputs": [],
   "source": [
    "import numpy as np\n",
    "import open3d as o3d\n",
    "from tqdm import tqdm_notebook\n",
    "import os, sys, shutil"
   ]
  },
  {
   "cell_type": "code",
   "execution_count": 2,
   "metadata": {
    "ExecuteTime": {
     "end_time": "2020-08-20T21:57:30.721070Z",
     "start_time": "2020-08-20T21:57:30.680421Z"
    }
   },
   "outputs": [],
   "source": [
    "BASE_PATH = \"/home/saby/Projects/ati/data/data/datasets/Carla/64beam-Data/pair_transform_dynseg_all/iclr_preprocess\"\n",
    "\n",
    "FOLDER = \"d\"\n",
    "OUTPUT_FOLDER = \"d_40_512\"\n",
    "IS_DYNAMIC = True\n",
    "\n",
    "# STATIC_PATH  = os.path.join(BASE_PATH, STATIC_FOLDER)\n",
    "FOLDER_PATH = os.path.join(BASE_PATH, FOLDER)\n",
    "if IS_DYNAMIC:\n",
    "    MASK_PATH = os.path.join(BASE_PATH, \"m\")\n",
    "    if not os.path.exists(MASK_PATH):\n",
    "        assert False\n",
    "OUTPUT_FOLDER_PATH = os.path.join(BASE_PATH, OUTPUT_FOLDER)\n",
    "if not os.path.exists(OUTPUT_FOLDER_PATH):\n",
    "    os.makedirs(OUTPUT_FOLDER_PATH)\n",
    "else:\n",
    "    shutil.rmtree(OUTPUT_FOLDER_PATH)\n",
    "    os.makedirs(OUTPUT_FOLDER_PATH)"
   ]
  },
  {
   "cell_type": "code",
   "execution_count": null,
   "metadata": {},
   "outputs": [],
   "source": []
  },
  {
   "cell_type": "code",
   "execution_count": 3,
   "metadata": {
    "ExecuteTime": {
     "end_time": "2020-08-20T21:57:30.733135Z",
     "start_time": "2020-08-20T21:57:30.722422Z"
    },
    "code_folding": [
     0,
     20,
     40
    ]
   },
   "outputs": [],
   "source": [
    "def from_polar_np(velo):\n",
    "    angles = np.linspace(0, np.pi * 2, velo.shape[-1])\n",
    "    dist, z = velo[:, 0], velo[:, 1]\n",
    "    x = np.cos(angles) * dist\n",
    "    y = np.sin(angles) * dist\n",
    "    out = np.stack([x,y,z], axis=1)\n",
    "    return out.astype('float32')\n",
    "\n",
    "def get_pcd_from_img(img):\n",
    "    img = img * 120\n",
    "    shp = img.shape\n",
    "    img = img.reshape(1, shp[0], shp[1], shp[2])\n",
    "    frame = from_polar_np(img)\n",
    "    # frame_actual = np.array([frame_image[:29] for frame_image in frame])\n",
    "    frame_flat = frame.reshape((3,-1))\n",
    "    some_pcd = o3d.geometry.PointCloud()\n",
    "    some_arr = frame_flat.T\n",
    "    if IS_DYNAMIC:\n",
    "        some_arr = some_arr[~np.array([pt[0]==0 and pt[1]==0 and pt[2]==0 for pt in some_arr])]\n",
    "    some_pcd.points = o3d.utility.Vector3dVector(some_arr)\n",
    "    return some_pcd\n",
    "\n",
    "def draw_pcd(pcd, where='mat_3d'):\n",
    "    if where is 'opn_nb':\n",
    "        visualizer = o3d.JVisualizer()\n",
    "        visualizer.add_geometry(pcd)\n",
    "        visualizer.show()\n",
    "    elif where is 'opn_view':\n",
    "        o3d.visualization.draw_geometries([pcd], width=1280, height=800)\n",
    "    elif where is 'mat_3d':\n",
    "        plt.figure()\n",
    "        pts = np.asarray(pcd.points)\n",
    "        plt.scatter(pts[:,0], pts[:,1], pts[:,2])\n",
    "        plt.grid()\n",
    "        plt.show()\n",
    "    elif where is 'mat_2d':\n",
    "        plt.figure()\n",
    "        pts = np.asarray(pcd.points)\n",
    "        plt.scatter(pts[:,0], pts[:,1])\n",
    "        plt.grid()\n",
    "        plt.show()\n",
    "        \n",
    "def getint(name):\n",
    "    try:\n",
    "        return int(name.split('.')[0])\n",
    "    except Exception as e:\n",
    "        print(\"Error occured while trying to read {}\".format(name))\n",
    "    return None"
   ]
  },
  {
   "cell_type": "code",
   "execution_count": null,
   "metadata": {},
   "outputs": [],
   "source": []
  },
  {
   "cell_type": "raw",
   "metadata": {
    "ExecuteTime": {
     "end_time": "2020-08-20T21:34:56.799855Z",
     "start_time": "2020-08-20T21:34:54.005067Z"
    }
   },
   "source": [
    "npy_file = os.path.join(FOLDER_PATH, \"0.npy\")\n",
    "npy_arr = np.load(npy_file)\n",
    "npy_arr.shape"
   ]
  },
  {
   "cell_type": "raw",
   "metadata": {
    "ExecuteTime": {
     "end_time": "2020-08-08T21:34:16.582945Z",
     "start_time": "2020-08-08T21:34:16.551133Z"
    }
   },
   "source": [
    "draw_pcd(get_pcd_from_img(npy_arr[0][:,5:45,::2][:,::5,::4]), where='opn_nb')"
   ]
  },
  {
   "cell_type": "code",
   "execution_count": 4,
   "metadata": {
    "ExecuteTime": {
     "end_time": "2020-08-20T22:43:25.177241Z",
     "start_time": "2020-08-20T21:57:30.734493Z"
    }
   },
   "outputs": [
    {
     "name": "stdout",
     "output_type": "stream",
     "text": [
      "0.npy\n"
     ]
    },
    {
     "name": "stderr",
     "output_type": "stream",
     "text": [
      "/home/saby/anaconda3/envs/ati/lib/python3.6/site-packages/ipykernel_launcher.py:13: TqdmDeprecationWarning: This function will be removed in tqdm==5.0.0\n",
      "Please use `tqdm.notebook.tqdm` instead of `tqdm.tqdm_notebook`\n",
      "  del sys.path[0]\n"
     ]
    },
    {
     "data": {
      "application/vnd.jupyter.widget-view+json": {
       "model_id": "2d0f1959dfda4da08126ff4e94c91e13",
       "version_major": 2,
       "version_minor": 0
      },
      "text/plain": [
       "HBox(children=(FloatProgress(value=0.0, max=2048.0), HTML(value='')))"
      ]
     },
     "metadata": {},
     "output_type": "display_data"
    },
    {
     "name": "stdout",
     "output_type": "stream",
     "text": [
      "\n",
      "1.npy\n"
     ]
    },
    {
     "data": {
      "application/vnd.jupyter.widget-view+json": {
       "model_id": "b9852a892a204db8857b53481c94e5a8",
       "version_major": 2,
       "version_minor": 0
      },
      "text/plain": [
       "HBox(children=(FloatProgress(value=0.0, max=2048.0), HTML(value='')))"
      ]
     },
     "metadata": {},
     "output_type": "display_data"
    },
    {
     "name": "stdout",
     "output_type": "stream",
     "text": [
      "\n",
      "3.npy\n"
     ]
    },
    {
     "data": {
      "application/vnd.jupyter.widget-view+json": {
       "model_id": "68d5de03a25a49b6be5d1945df3dbb12",
       "version_major": 2,
       "version_minor": 0
      },
      "text/plain": [
       "HBox(children=(FloatProgress(value=0.0, max=2048.0), HTML(value='')))"
      ]
     },
     "metadata": {},
     "output_type": "display_data"
    },
    {
     "name": "stderr",
     "output_type": "stream",
     "text": [
      "IOPub message rate exceeded.\n",
      "The notebook server will temporarily stop sending output\n",
      "to the client in order to avoid crashing it.\n",
      "To change this limit, set the config variable\n",
      "`--NotebookApp.iopub_msg_rate_limit`.\n",
      "\n",
      "Current values:\n",
      "NotebookApp.iopub_msg_rate_limit=1000.0 (msgs/sec)\n",
      "NotebookApp.rate_limit_window=3.0 (secs)\n",
      "\n"
     ]
    },
    {
     "name": "stdout",
     "output_type": "stream",
     "text": [
      "\n",
      "7.npy\n"
     ]
    },
    {
     "data": {
      "application/vnd.jupyter.widget-view+json": {
       "model_id": "0f512b0e2ad848acbef0228db65cefc7",
       "version_major": 2,
       "version_minor": 0
      },
      "text/plain": [
       "HBox(children=(FloatProgress(value=0.0, max=2048.0), HTML(value='')))"
      ]
     },
     "metadata": {},
     "output_type": "display_data"
    },
    {
     "name": "stderr",
     "output_type": "stream",
     "text": [
      "IOPub message rate exceeded.\n",
      "The notebook server will temporarily stop sending output\n",
      "to the client in order to avoid crashing it.\n",
      "To change this limit, set the config variable\n",
      "`--NotebookApp.iopub_msg_rate_limit`.\n",
      "\n",
      "Current values:\n",
      "NotebookApp.iopub_msg_rate_limit=1000.0 (msgs/sec)\n",
      "NotebookApp.rate_limit_window=3.0 (secs)\n",
      "\n"
     ]
    },
    {
     "name": "stdout",
     "output_type": "stream",
     "text": [
      "\n",
      "11.npy\n"
     ]
    },
    {
     "data": {
      "application/vnd.jupyter.widget-view+json": {
       "model_id": "1c354c0f2b1f47d6921d3541e5381beb",
       "version_major": 2,
       "version_minor": 0
      },
      "text/plain": [
       "HBox(children=(FloatProgress(value=0.0, max=2048.0), HTML(value='')))"
      ]
     },
     "metadata": {},
     "output_type": "display_data"
    },
    {
     "name": "stderr",
     "output_type": "stream",
     "text": [
      "IOPub message rate exceeded.\n",
      "The notebook server will temporarily stop sending output\n",
      "to the client in order to avoid crashing it.\n",
      "To change this limit, set the config variable\n",
      "`--NotebookApp.iopub_msg_rate_limit`.\n",
      "\n",
      "Current values:\n",
      "NotebookApp.iopub_msg_rate_limit=1000.0 (msgs/sec)\n",
      "NotebookApp.rate_limit_window=3.0 (secs)\n",
      "\n"
     ]
    },
    {
     "name": "stdout",
     "output_type": "stream",
     "text": [
      "\n",
      "15.npy\n"
     ]
    },
    {
     "data": {
      "application/vnd.jupyter.widget-view+json": {
       "model_id": "58df1e0d0cd147c58160770946c4fc3b",
       "version_major": 2,
       "version_minor": 0
      },
      "text/plain": [
       "HBox(children=(FloatProgress(value=0.0, max=2048.0), HTML(value='')))"
      ]
     },
     "metadata": {},
     "output_type": "display_data"
    },
    {
     "name": "stderr",
     "output_type": "stream",
     "text": [
      "IOPub message rate exceeded.\n",
      "The notebook server will temporarily stop sending output\n",
      "to the client in order to avoid crashing it.\n",
      "To change this limit, set the config variable\n",
      "`--NotebookApp.iopub_msg_rate_limit`.\n",
      "\n",
      "Current values:\n",
      "NotebookApp.iopub_msg_rate_limit=1000.0 (msgs/sec)\n",
      "NotebookApp.rate_limit_window=3.0 (secs)\n",
      "\n"
     ]
    }
   ],
   "source": [
    "file_idx = 1\n",
    "for npy_file in sorted(os.listdir(FOLDER_PATH), key=getint):\n",
    "    print(npy_file)\n",
    "    npy_path = os.path.join(FOLDER_PATH, npy_file)\n",
    "    npy_arr = np.load(npy_path)\n",
    "    if IS_DYNAMIC:\n",
    "        mask_file = os.path.join(MASK_PATH, npy_file)\n",
    "        mask_arr = np.load(mask_file)\n",
    "        new_mask = np.expand_dims(mask_arr[:,0], axis=1)\n",
    "        new_mask_arr = np.concatenate([new_mask, new_mask], axis=1)\n",
    "        npy_arr = npy_arr * new_mask_arr\n",
    "        \n",
    "    for arr in tqdm_notebook(npy_arr):\n",
    "        this_pcd = get_pcd_from_img(arr[:,5:45,::2])\n",
    "        \n",
    "        pcd_file = str(file_idx) + \".ply\"\n",
    "        pcd_path = os.path.join(OUTPUT_FOLDER_PATH, pcd_file)\n",
    "        o3d.io.write_point_cloud(pcd_path, this_pcd, write_ascii=True)\n",
    "        \n",
    "        file_idx += 1"
   ]
  },
  {
   "cell_type": "code",
   "execution_count": null,
   "metadata": {},
   "outputs": [],
   "source": []
  }
 ],
 "metadata": {
  "kernelspec": {
   "display_name": "Python 3",
   "language": "python",
   "name": "python3"
  },
  "language_info": {
   "codemirror_mode": {
    "name": "ipython",
    "version": 3
   },
   "file_extension": ".py",
   "mimetype": "text/x-python",
   "name": "python",
   "nbconvert_exporter": "python",
   "pygments_lexer": "ipython3",
   "version": "3.6.10"
  },
  "toc": {
   "base_numbering": 1,
   "nav_menu": {},
   "number_sections": true,
   "sideBar": true,
   "skip_h1_title": false,
   "title_cell": "Table of Contents",
   "title_sidebar": "Contents",
   "toc_cell": false,
   "toc_position": {},
   "toc_section_display": true,
   "toc_window_display": false
  }
 },
 "nbformat": 4,
 "nbformat_minor": 4
}
