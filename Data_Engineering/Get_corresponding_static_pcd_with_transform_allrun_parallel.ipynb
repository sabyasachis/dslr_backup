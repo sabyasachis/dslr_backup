{
 "cells": [
  {
   "cell_type": "code",
   "execution_count": 1,
   "metadata": {
    "ExecuteTime": {
     "end_time": "2020-08-29T19:36:32.661140Z",
     "start_time": "2020-08-29T19:36:31.102970Z"
    }
   },
   "outputs": [],
   "source": [
    "import pandas as pd\n",
    "import numpy as np\n",
    "import gc\n",
    "import os, shutil\n",
    "import sys\n",
    "import matplotlib.pyplot as plt\n",
    "import open3d as o3d\n",
    "import transforms3d\n",
    "from tqdm import tqdm_notebook\n",
    "import copy\n",
    "from multiprocessing import Pool, cpu_count"
   ]
  },
  {
   "cell_type": "raw",
   "metadata": {
    "ExecuteTime": {
     "end_time": "2020-02-16T18:39:20.789766Z",
     "start_time": "2020-02-16T18:39:20.787167Z"
    }
   },
   "source": [
    "OUTPUT_FOLDER = \"6\"\n",
    "DYNAMICSUBFOLDER = \"6\""
   ]
  },
  {
   "cell_type": "code",
   "execution_count": 2,
   "metadata": {
    "ExecuteTime": {
     "end_time": "2020-08-29T19:36:32.665980Z",
     "start_time": "2020-08-29T19:36:32.662932Z"
    }
   },
   "outputs": [],
   "source": [
    "PATH = \"/home/saby/Projects/ati/data/data/datasets/Carla/64beam-Data/testing\"\n",
    "BASE_FOLDER = \"dynamic\"\n",
    "\n",
    "OUTPUT_STATIC_FOLDER  = \"_corr_static\"\n",
    "OUTPUT_DYNAMIC_FOLDER = \"_corr_dynamic\"\n",
    "PAIR_FILE = \"pair_with_pose_transform_dynseg_testing.csv\"\n",
    "\n",
    "\n",
    "BASE_PATH = os.path.join(PATH, BASE_FOLDER)"
   ]
  },
  {
   "cell_type": "code",
   "execution_count": 3,
   "metadata": {
    "ExecuteTime": {
     "end_time": "2020-08-29T19:36:32.781171Z",
     "start_time": "2020-08-29T19:36:32.668074Z"
    }
   },
   "outputs": [
    {
     "data": {
      "text/plain": [
       "(30390, 11)"
      ]
     },
     "execution_count": 3,
     "metadata": {},
     "output_type": "execute_result"
    }
   ],
   "source": [
    "pair_path = os.path.join(PATH, PAIR_FILE)\n",
    "df_pair = pd.read_csv(pair_path)\n",
    "df_pair.shape"
   ]
  },
  {
   "cell_type": "code",
   "execution_count": 4,
   "metadata": {
    "ExecuteTime": {
     "end_time": "2020-08-29T19:36:32.800815Z",
     "start_time": "2020-08-29T19:36:32.782960Z"
    }
   },
   "outputs": [
    {
     "data": {
      "text/html": [
       "<div>\n",
       "<style scoped>\n",
       "    .dataframe tbody tr th:only-of-type {\n",
       "        vertical-align: middle;\n",
       "    }\n",
       "\n",
       "    .dataframe tbody tr th {\n",
       "        vertical-align: top;\n",
       "    }\n",
       "\n",
       "    .dataframe thead th {\n",
       "        text-align: right;\n",
       "    }\n",
       "</style>\n",
       "<table border=\"1\" class=\"dataframe\">\n",
       "  <thead>\n",
       "    <tr style=\"text-align: right;\">\n",
       "      <th></th>\n",
       "      <th>static_path</th>\n",
       "      <th>dynamic_path</th>\n",
       "      <th>pose_x</th>\n",
       "      <th>pose_y</th>\n",
       "      <th>pose_yaw</th>\n",
       "      <th>static_x</th>\n",
       "      <th>static_y</th>\n",
       "      <th>static_yaw</th>\n",
       "      <th>dynamic_x</th>\n",
       "      <th>dynamic_y</th>\n",
       "      <th>dynamic_yaw</th>\n",
       "    </tr>\n",
       "  </thead>\n",
       "  <tbody>\n",
       "    <tr>\n",
       "      <th>12195</th>\n",
       "      <td>/home/saby/Projects/ati/data/data/datasets/Car...</td>\n",
       "      <td>/home/saby/Projects/ati/data/data/datasets/Car...</td>\n",
       "      <td>-0.194972</td>\n",
       "      <td>-0.113953</td>\n",
       "      <td>-3.970318</td>\n",
       "      <td>7.752102</td>\n",
       "      <td>330.900299</td>\n",
       "      <td>3.694073</td>\n",
       "      <td>7.55713</td>\n",
       "      <td>330.786346</td>\n",
       "      <td>-0.276245</td>\n",
       "    </tr>\n",
       "  </tbody>\n",
       "</table>\n",
       "</div>"
      ],
      "text/plain": [
       "                                             static_path  \\\n",
       "12195  /home/saby/Projects/ati/data/data/datasets/Car...   \n",
       "\n",
       "                                            dynamic_path    pose_x    pose_y  \\\n",
       "12195  /home/saby/Projects/ati/data/data/datasets/Car... -0.194972 -0.113953   \n",
       "\n",
       "       pose_yaw  static_x    static_y  static_yaw  dynamic_x   dynamic_y  \\\n",
       "12195 -3.970318  7.752102  330.900299    3.694073    7.55713  330.786346   \n",
       "\n",
       "       dynamic_yaw  \n",
       "12195    -0.276245  "
      ]
     },
     "execution_count": 4,
     "metadata": {},
     "output_type": "execute_result"
    }
   ],
   "source": [
    "df_pair.sample()"
   ]
  },
  {
   "cell_type": "code",
   "execution_count": 5,
   "metadata": {
    "ExecuteTime": {
     "end_time": "2020-08-29T19:36:32.812076Z",
     "start_time": "2020-08-29T19:36:32.803566Z"
    }
   },
   "outputs": [],
   "source": [
    "# Function to get transformation matrix for a given pose\n",
    "def pose2matrix(translation_list, rotation_angle_list, zoom_list=[1,1,1]):\n",
    "    # trans_vec = np.array(translation_list)\n",
    "    rot_ang = [np.deg2rad(ang) for ang in rotation_angle_list ]\n",
    "    rot_mat = transforms3d.euler.euler2mat(rot_ang[0], rot_ang[1], rot_ang[2])\n",
    "    zoom_vec = np.array(zoom_list)\n",
    "    # transform_mat = transforms3d.affines.compose(trans_vec, rot_mat, zoom_vec)\n",
    "    transform_mat = transforms3d.affines.compose(translation_list, rot_mat, zoom_list)\n",
    "    return transform_mat\n",
    "\n",
    "def getint(name):\n",
    "    return int(name.split('.')[0])"
   ]
  },
  {
   "cell_type": "code",
   "execution_count": 6,
   "metadata": {
    "ExecuteTime": {
     "end_time": "2020-08-29T19:36:32.844081Z",
     "start_time": "2020-08-29T19:36:32.813610Z"
    },
    "code_folding": [
     0,
     27
    ]
   },
   "outputs": [],
   "source": [
    "# def transform_corr_static_pcd(static_pcd, pair_row):\n",
    "#     # Calculate all the transforms\n",
    "#     transform_lidar   = pose2matrix([0, 0, 0],\n",
    "#                                     [0, 0, 90],\n",
    "#                                     [1, 1, -1])\n",
    "#     transform_static1  = pose2matrix([pair_row['static_x'], pair_row['static_y'], pair_row['static_z']],\n",
    "#                                     [pair_row['static_roll'],pair_row['static_pitch'], pair_row['static_yaw']])\n",
    "#     transform_dynamic1 = pose2matrix([pair_row['dynamic_x'], pair_row['dynamic_y'], pair_row['dynamic_z']],\n",
    "#                                     [pair_row['dynamic_roll'], pair_row['dynamic_pitch'], pair_row['dynamic_yaw']])\n",
    "#     transform1 = np.matmul(np.linalg.inv(transform_dynamic1), transform_static1)\n",
    "    \n",
    "#     transform_static2  = pose2matrix([0, 0, 0],\n",
    "#                                     [pair_row['static_roll'],pair_row['static_pitch'], pair_row['static_yaw']])\n",
    "#     transform_dynamic2 = pose2matrix([0, 0, 0],\n",
    "#                                     [pair_row['dynamic_roll'], pair_row['dynamic_pitch'], pair_row['dynamic_yaw']])\n",
    "#     transform2 = np.matmul(np.linalg.inv(transform_dynamic2), transform_static2)\n",
    "    \n",
    "#     # Apply all the transforms\n",
    "#     static_pcd_tmp = copy.deepcopy(static_pcd)\n",
    "#     static_pcd_tmp.transform(np.linalg.inv(transform_lidar))\n",
    "#     static_pcd_tmp.transform(np.linalg.inv(transform1))\n",
    "#     static_pcd_tmp.transform(transform2)\n",
    "#     static_pcd_tmp.transform(transform2)     # Need to fix this hack\n",
    "#     static_pcd_tmp.transform(transform_lidar)\n",
    "    \n",
    "#     return static_pcd_tmp\n",
    "\n",
    "def transform_corr_static_pcd(static_pcd, pair_row):\n",
    "    # Calculate all the transforms\n",
    "    transform_lidar   = pose2matrix([0, 0, 0],\n",
    "                                    [0, 0, 90],\n",
    "                                    [1, 1, -1])\n",
    "    transform_static1  = pose2matrix([pair_row['static_x'], pair_row['static_y'], 0],\n",
    "                                    [0,0, pair_row['static_yaw']])\n",
    "    transform_dynamic1 = pose2matrix([pair_row['dynamic_x'], pair_row['dynamic_y'], 0],\n",
    "                                    [0, 0, pair_row['dynamic_yaw']])\n",
    "    transform1 = np.matmul(np.linalg.inv(transform_dynamic1), transform_static1)\n",
    "    \n",
    "    transform_static2  = pose2matrix([0, 0, 0],\n",
    "                                    [0,0, pair_row['static_yaw']])\n",
    "    transform_dynamic2 = pose2matrix([0, 0, 0],\n",
    "                                    [0, 0, pair_row['dynamic_yaw']])\n",
    "    transform2 = np.matmul(np.linalg.inv(transform_dynamic2), transform_static2)\n",
    "    \n",
    "    # Apply all the transforms\n",
    "    static_pcd_tmp = copy.deepcopy(static_pcd)\n",
    "    static_pcd_tmp.transform(np.linalg.inv(transform_lidar))\n",
    "    static_pcd_tmp.transform(np.linalg.inv(transform1))\n",
    "    static_pcd_tmp.transform(transform2)\n",
    "    static_pcd_tmp.transform(transform2)     # Need to fix this hack\n",
    "    static_pcd_tmp.transform(transform_lidar)\n",
    "    \n",
    "    return static_pcd_tmp"
   ]
  },
  {
   "cell_type": "code",
   "execution_count": 7,
   "metadata": {
    "ExecuteTime": {
     "end_time": "2020-08-29T19:36:32.849058Z",
     "start_time": "2020-08-29T19:36:32.846106Z"
    },
    "code_folding": [
     0
    ]
   },
   "outputs": [],
   "source": [
    "# for DYNAMICSUBFOLDER in os.listdir(os.path.join(BASE_PATH)):\n",
    "#     OUTPUT_STATIC_PATH = os.path.join(BASE_PATH, DYNAMICSUBFOLDER, STATIC_FOLDER)\n",
    "#     if not os.path.exists(OUTPUT_STATIC_PATH):\n",
    "#         os.makedirs(OUTPUT_STATIC_PATH)\n",
    "#     else:\n",
    "#         shutil.rmtree(OUTPUT_STATIC_PATH)\n",
    "#         os.makedirs(OUTPUT_STATIC_PATH)\n",
    "        \n",
    "#     OUTPUT_DYNAMIC_PATH = os.path.join(BASE_PATH, DYNAMICSUBFOLDER, OUTPUT_DYNAMIC_FOLDER)\n",
    "#     if not os.path.exists(OUTPUT_DYNAMIC_PATH):\n",
    "#         os.makedirs(OUTPUT_DYNAMIC_PATH)\n",
    "#     else:\n",
    "#         shutil.rmtree(OUTPUT_DYNAMIC_PATH)\n",
    "#         os.makedirs(OUTPUT_DYNAMIC_PATH)"
   ]
  },
  {
   "cell_type": "code",
   "execution_count": 8,
   "metadata": {
    "ExecuteTime": {
     "end_time": "2020-08-29T19:36:32.860848Z",
     "start_time": "2020-08-29T19:36:32.851740Z"
    }
   },
   "outputs": [],
   "source": [
    "def parallel_thread(arg):\n",
    "    DYNAMICSUBFOLDER = arg\n",
    "    \n",
    "    OUTPUT_STATIC_PATH  = os.path.join(BASE_PATH, DYNAMICSUBFOLDER,  OUTPUT_STATIC_FOLDER)\n",
    "    if not os.path.exists(OUTPUT_STATIC_PATH):\n",
    "        os.makedirs(OUTPUT_STATIC_PATH)\n",
    "    else:\n",
    "        shutil.rmtree(OUTPUT_STATIC_PATH)\n",
    "        os.makedirs(OUTPUT_STATIC_PATH)\n",
    "\n",
    "    OUTPUT_DYNAMIC_PATH = os.path.join(BASE_PATH, DYNAMICSUBFOLDER, OUTPUT_DYNAMIC_FOLDER)\n",
    "    if not os.path.exists(OUTPUT_DYNAMIC_PATH):\n",
    "        os.makedirs(OUTPUT_DYNAMIC_PATH)\n",
    "    else:\n",
    "        shutil.rmtree(OUTPUT_DYNAMIC_PATH)\n",
    "        os.makedirs(OUTPUT_DYNAMIC_PATH)\n",
    "    \n",
    "    file_idx = 0\n",
    "    for idx, row in df_pair.iterrows():\n",
    "        if DYNAMICSUBFOLDER == row['dynamic_path'].split(\"/\")[-3]:\n",
    "            fname = str(file_idx) + \".ply\"\n",
    "            static_src = row['static_path']\n",
    "            static_dst = os.path.join(OUTPUT_STATIC_PATH, fname)\n",
    "            \n",
    "            static_pcd = o3d.io.read_point_cloud(static_src)\n",
    "            static_pcd = transform_corr_static_pcd(static_pcd, row)\n",
    "            o3d.io.write_point_cloud(static_dst, static_pcd, write_ascii=True)\n",
    "            \n",
    "            dynamic_src = row['dynamic_path']\n",
    "            dynamic_dst = os.path.join(OUTPUT_DYNAMIC_PATH, fname)\n",
    "            shutil.copyfile(dynamic_src, dynamic_dst)\n",
    "            file_idx += 1\n",
    "#             if file_idx == 20:\n",
    "#                 break"
   ]
  },
  {
   "cell_type": "code",
   "execution_count": 9,
   "metadata": {
    "ExecuteTime": {
     "end_time": "2020-08-29T20:55:27.778974Z",
     "start_time": "2020-08-29T19:36:32.862677Z"
    }
   },
   "outputs": [
    {
     "name": "stderr",
     "output_type": "stream",
     "text": [
      "/home/saby/anaconda3/envs/ati/lib/python3.6/site-packages/ipykernel_launcher.py:5: TqdmDeprecationWarning: This function will be removed in tqdm==5.0.0\n",
      "Please use `tqdm.notebook.tqdm` instead of `tqdm.tqdm_notebook`\n",
      "  \"\"\"\n"
     ]
    },
    {
     "data": {
      "application/vnd.jupyter.widget-view+json": {
       "model_id": "47741aff3ff94e509e67e49b0a7c246c",
       "version_major": 2,
       "version_minor": 0
      },
      "text/plain": [
       "HBox(children=(FloatProgress(value=0.0, max=8.0), HTML(value='')))"
      ]
     },
     "metadata": {},
     "output_type": "display_data"
    },
    {
     "name": "stdout",
     "output_type": "stream",
     "text": [
      "\n"
     ]
    },
    {
     "data": {
      "text/plain": [
       "12"
      ]
     },
     "execution_count": 9,
     "metadata": {},
     "output_type": "execute_result"
    }
   ],
   "source": [
    "parallel_args = os.listdir(os.path.join(BASE_PATH))\n",
    "process_pool = Pool(cpu_count()-1)\n",
    "# process_pool = Pool(10)\n",
    "__ = [each for each in tqdm_notebook(process_pool.imap(parallel_thread,\n",
    "                                                       parallel_args), total=len(parallel_args))]\n",
    "process_pool.terminate()\n",
    "gc.collect()"
   ]
  },
  {
   "cell_type": "code",
   "execution_count": null,
   "metadata": {},
   "outputs": [],
   "source": []
  },
  {
   "cell_type": "code",
   "execution_count": null,
   "metadata": {},
   "outputs": [],
   "source": []
  },
  {
   "cell_type": "code",
   "execution_count": null,
   "metadata": {},
   "outputs": [],
   "source": []
  },
  {
   "cell_type": "code",
   "execution_count": null,
   "metadata": {},
   "outputs": [],
   "source": []
  },
  {
   "cell_type": "code",
   "execution_count": null,
   "metadata": {},
   "outputs": [],
   "source": []
  },
  {
   "cell_type": "code",
   "execution_count": 10,
   "metadata": {
    "ExecuteTime": {
     "end_time": "2020-08-29T20:55:27.785703Z",
     "start_time": "2020-08-29T20:55:27.780817Z"
    }
   },
   "outputs": [],
   "source": [
    "def draw_registration_result(src_pcd, dst_pcd, x_pt, y_pt, theta):    \n",
    "    src_pcd_tmp = copy.deepcopy(src_pcd)\n",
    "    dst_pcd_tmp = copy.deepcopy(dst_pcd)\n",
    "    \n",
    "    src_pcd_tmp.paint_uniform_color([1, 0, 0])  # red source\n",
    "    dst_pcd_tmp.paint_uniform_color([0, 0, 0])  # blue target\n",
    "    \n",
    "    transform_mat = pose2matrix([x_pt, y_pt, 0], [0,0,theta])\n",
    "    dst_pcd_tmp.transform(transform_mat)\n",
    "    \n",
    "    visualizer = o3d.JVisualizer()\n",
    "    visualizer.add_geometry(src_pcd_tmp)\n",
    "    visualizer.add_geometry(dst_pcd_tmp)\n",
    "    visualizer.show()"
   ]
  },
  {
   "cell_type": "code",
   "execution_count": 11,
   "metadata": {
    "ExecuteTime": {
     "end_time": "2020-08-29T20:55:36.270571Z",
     "start_time": "2020-08-29T20:55:27.787282Z"
    }
   },
   "outputs": [
    {
     "name": "stdout",
     "output_type": "stream",
     "text": [
      "/home/saby/Projects/ati/data/data/datasets/Carla/64beam-Data/testing/dynamic/23/_corr_dynamic/4900.ply /home/saby/Projects/ati/data/data/datasets/Carla/64beam-Data/testing/dynamic/23/_corr_static/4900.ply\n"
     ]
    },
    {
     "data": {
      "application/vnd.jupyter.widget-view+json": {
       "model_id": "0e3c95a4c5704b8b946181043b8b6deb",
       "version_major": 2,
       "version_minor": 0
      },
      "text/plain": [
       "JVisualizer with 2 geometries"
      ]
     },
     "metadata": {},
     "output_type": "display_data"
    }
   ],
   "source": [
    "DYNAMICSUBFOLDER = np.random.choice(os.listdir(os.path.join(BASE_PATH)))\n",
    "OUTPUT_STATIC_PATH  = os.path.join(BASE_PATH, DYNAMICSUBFOLDER,  OUTPUT_STATIC_FOLDER)\n",
    "OUTPUT_DYNAMIC_PATH = os.path.join(BASE_PATH, DYNAMICSUBFOLDER, OUTPUT_DYNAMIC_FOLDER)\n",
    "some_idx = np.random.choice(len(os.listdir(OUTPUT_STATIC_PATH)))\n",
    "some_fname = str(some_idx) + \".ply\"\n",
    "# some_row = df_pair[(df_pair['dynamic_path'].split(\"/\")[-3] == DYNAMICSUBFOLDER) &\\\n",
    "#             (df_pair['dynamic_path'].split(\"/\")[-1] == some_fname)]\n",
    "\n",
    "some_static_dst = os.path.join(OUTPUT_STATIC_PATH, some_fname)\n",
    "some_dynamic_dst = os.path.join(OUTPUT_DYNAMIC_PATH, some_fname)\n",
    "\n",
    "some_static_pcd = o3d.io.read_point_cloud(some_static_dst)\n",
    "some_dynamic_pcd = o3d.io.read_point_cloud(some_dynamic_dst)\n",
    "\n",
    "# print(\"Pose_diff_x: {} | Pose_diff_y: {} | Pose_diff_yaw: {} |\".format(some_row['pose_x'], some_row['pose_y'], some_row['pose_yaw']))\n",
    "print(some_dynamic_dst, some_static_dst)\n",
    "draw_registration_result(some_static_pcd, some_dynamic_pcd, 0, 0, 0)"
   ]
  },
  {
   "cell_type": "code",
   "execution_count": null,
   "metadata": {},
   "outputs": [],
   "source": []
  }
 ],
 "metadata": {
  "kernelspec": {
   "display_name": "Python 3",
   "language": "python",
   "name": "python3"
  },
  "language_info": {
   "codemirror_mode": {
    "name": "ipython",
    "version": 3
   },
   "file_extension": ".py",
   "mimetype": "text/x-python",
   "name": "python",
   "nbconvert_exporter": "python",
   "pygments_lexer": "ipython3",
   "version": "3.6.10"
  },
  "toc": {
   "base_numbering": 1,
   "nav_menu": {},
   "number_sections": true,
   "sideBar": true,
   "skip_h1_title": false,
   "title_cell": "Table of Contents",
   "title_sidebar": "Contents",
   "toc_cell": false,
   "toc_position": {},
   "toc_section_display": true,
   "toc_window_display": false
  }
 },
 "nbformat": 4,
 "nbformat_minor": 2
}
