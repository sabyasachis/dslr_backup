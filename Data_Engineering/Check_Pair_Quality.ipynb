{
 "cells": [
  {
   "cell_type": "code",
   "execution_count": 1,
   "metadata": {
    "ExecuteTime": {
     "end_time": "2020-01-23T19:15:32.288747Z",
     "start_time": "2020-01-23T19:15:31.645428Z"
    }
   },
   "outputs": [],
   "source": [
    "import pandas as pd\n",
    "import numpy as np\n",
    "import gc\n",
    "from tqdm import tqdm_notebook\n",
    "import open3d as o3d"
   ]
  },
  {
   "cell_type": "code",
   "execution_count": 2,
   "metadata": {
    "ExecuteTime": {
     "end_time": "2020-01-23T19:15:39.169722Z",
     "start_time": "2020-01-23T19:15:39.166102Z"
    }
   },
   "outputs": [],
   "source": [
    "PAIR_FILE = \"/home/sabyasachi/Projects/ati/data/data/datasets/Carla/16beam-Data/small_map/pair_with_pose_transform.csv\""
   ]
  },
  {
   "cell_type": "code",
   "execution_count": 3,
   "metadata": {
    "ExecuteTime": {
     "end_time": "2020-01-23T19:15:40.252466Z",
     "start_time": "2020-01-23T19:15:39.980700Z"
    }
   },
   "outputs": [
    {
     "data": {
      "text/plain": [
       "(32616, 17)"
      ]
     },
     "execution_count": 3,
     "metadata": {},
     "output_type": "execute_result"
    }
   ],
   "source": [
    "df_pair = pd.read_csv(PAIR_FILE)\n",
    "df_pair.shape"
   ]
  },
  {
   "cell_type": "code",
   "execution_count": 4,
   "metadata": {
    "ExecuteTime": {
     "end_time": "2020-01-23T19:15:44.983568Z",
     "start_time": "2020-01-23T19:15:44.980230Z"
    }
   },
   "outputs": [],
   "source": [
    "DYNAMICSUBFOLDER = \"8\""
   ]
  },
  {
   "cell_type": "code",
   "execution_count": 5,
   "metadata": {
    "ExecuteTime": {
     "end_time": "2020-01-23T19:15:58.934516Z",
     "start_time": "2020-01-23T19:15:51.412406Z"
    }
   },
   "outputs": [
    {
     "data": {
      "application/vnd.jupyter.widget-view+json": {
       "model_id": "a5e732d2fb9a4702b5bc5b449c5b696a",
       "version_major": 2,
       "version_minor": 0
      },
      "text/plain": [
       "HBox(children=(IntProgress(value=0, max=32616), HTML(value='')))"
      ]
     },
     "metadata": {},
     "output_type": "display_data"
    },
    {
     "name": "stdout",
     "output_type": "stream",
     "text": [
      "\n"
     ]
    },
    {
     "data": {
      "application/vnd.jupyter.widget-view+json": {
       "model_id": "d0edc31a88bf48b4a7dde8ce3ef86b1d",
       "version_major": 2,
       "version_minor": 0
      },
      "text/plain": [
       "HBox(children=(IntProgress(value=0, max=32616), HTML(value='')))"
      ]
     },
     "metadata": {},
     "output_type": "display_data"
    },
    {
     "name": "stdout",
     "output_type": "stream",
     "text": [
      "\n"
     ]
    }
   ],
   "source": [
    "mask_8 = [row['dynamic_path'].split(\"/\")[-3] == \"8\"\\\n",
    "             for idx, row in tqdm_notebook(df_pair.iterrows(), total=df_pair.shape[0])]\n",
    "\n",
    "mask_24 = [row['dynamic_path'].split(\"/\")[-3] == \"24\"\\\n",
    "             for idx, row in tqdm_notebook(df_pair.iterrows(), total=df_pair.shape[0])]"
   ]
  },
  {
   "cell_type": "code",
   "execution_count": 6,
   "metadata": {
    "ExecuteTime": {
     "end_time": "2020-01-23T19:16:00.607763Z",
     "start_time": "2020-01-23T19:16:00.600517Z"
    }
   },
   "outputs": [
    {
     "name": "stdout",
     "output_type": "stream",
     "text": [
      "Average err\n"
     ]
    }
   ],
   "source": [
    "print(\"Average err\")"
   ]
  },
  {
   "cell_type": "code",
   "execution_count": 7,
   "metadata": {
    "ExecuteTime": {
     "end_time": "2020-01-23T19:16:11.118632Z",
     "start_time": "2020-01-23T19:16:11.093011Z"
    },
    "scrolled": true
   },
   "outputs": [
    {
     "data": {
      "text/plain": [
       "array([0.06037218, 0.05684719, 0.58619751])"
      ]
     },
     "execution_count": 7,
     "metadata": {},
     "output_type": "execute_result"
    }
   ],
   "source": [
    "np.array([np.linalg.norm(df_pair[mask_8]['pose_x'].values, 1),\n",
    "np.linalg.norm(df_pair[mask_8]['pose_y'].values, 1),\n",
    "np.linalg.norm(df_pair[mask_8]['pose_yaw'].values, 1)]) / df_pair[mask_8].shape[0]"
   ]
  },
  {
   "cell_type": "code",
   "execution_count": 8,
   "metadata": {
    "ExecuteTime": {
     "end_time": "2020-01-23T19:16:20.195269Z",
     "start_time": "2020-01-23T19:16:20.173705Z"
    }
   },
   "outputs": [
    {
     "data": {
      "text/plain": [
       "array([0.02897164, 0.02195514, 0.26946137])"
      ]
     },
     "execution_count": 8,
     "metadata": {},
     "output_type": "execute_result"
    }
   ],
   "source": [
    "np.array([np.linalg.norm(df_pair[mask_24]['pose_x'].values, 1),\n",
    "np.linalg.norm(df_pair[mask_24]['pose_y'].values, 1),\n",
    "np.linalg.norm(df_pair[mask_24]['pose_yaw'].values, 1)]) / df_pair[mask_24].shape[0]"
   ]
  },
  {
   "cell_type": "code",
   "execution_count": null,
   "metadata": {},
   "outputs": [],
   "source": []
  },
  {
   "cell_type": "code",
   "execution_count": 9,
   "metadata": {
    "ExecuteTime": {
     "end_time": "2020-01-23T19:16:28.178402Z",
     "start_time": "2020-01-23T19:16:28.174652Z"
    }
   },
   "outputs": [
    {
     "name": "stdout",
     "output_type": "stream",
     "text": [
      "Max err\n"
     ]
    }
   ],
   "source": [
    "print(\"Max err\")"
   ]
  },
  {
   "cell_type": "code",
   "execution_count": 10,
   "metadata": {
    "ExecuteTime": {
     "end_time": "2020-01-23T19:16:30.482766Z",
     "start_time": "2020-01-23T19:16:30.466452Z"
    }
   },
   "outputs": [
    {
     "data": {
      "text/plain": [
       "[0.263763427734375, 0.6089096069335938, 9.564315795898438]"
      ]
     },
     "execution_count": 10,
     "metadata": {},
     "output_type": "execute_result"
    }
   ],
   "source": [
    "[df_pair[mask_8]['pose_x'].max(), df_pair[mask_8]['pose_y'].max(), df_pair[mask_8]['pose_yaw'].max()]"
   ]
  },
  {
   "cell_type": "code",
   "execution_count": 11,
   "metadata": {
    "ExecuteTime": {
     "end_time": "2020-01-23T19:16:30.791196Z",
     "start_time": "2020-01-23T19:16:30.772109Z"
    }
   },
   "outputs": [
    {
     "data": {
      "text/plain": [
       "[0.3235321044921733, 0.3218994140625, 8.761062622070312]"
      ]
     },
     "execution_count": 11,
     "metadata": {},
     "output_type": "execute_result"
    }
   ],
   "source": [
    "[df_pair[mask_24]['pose_x'].max(), df_pair[mask_24]['pose_y'].max(), df_pair[mask_24]['pose_yaw'].max()]"
   ]
  },
  {
   "cell_type": "code",
   "execution_count": null,
   "metadata": {},
   "outputs": [],
   "source": []
  },
  {
   "cell_type": "code",
   "execution_count": 12,
   "metadata": {
    "ExecuteTime": {
     "end_time": "2020-01-23T19:16:31.682093Z",
     "start_time": "2020-01-23T19:16:31.678751Z"
    },
    "scrolled": true
   },
   "outputs": [
    {
     "name": "stdout",
     "output_type": "stream",
     "text": [
      "describe all stats\n"
     ]
    }
   ],
   "source": [
    "print(\"describe all stats\")"
   ]
  },
  {
   "cell_type": "code",
   "execution_count": 13,
   "metadata": {
    "ExecuteTime": {
     "end_time": "2020-01-23T19:16:32.230641Z",
     "start_time": "2020-01-23T19:16:32.168054Z"
    }
   },
   "outputs": [],
   "source": [
    "df_pair['abs_pose_x'] = np.abs(df_pair['pose_x'].values)\n",
    "df_pair['abs_pose_y'] = np.abs(df_pair['pose_y'].values)\n",
    "df_pair['abs_pose_yaw'] = np.abs(df_pair['pose_yaw'].values)\n",
    "\n",
    "df_pair['dist'] = np.sqrt(df_pair['pose_x'] ** 2 + df_pair['pose_y'] ** 2)"
   ]
  },
  {
   "cell_type": "code",
   "execution_count": 14,
   "metadata": {
    "ExecuteTime": {
     "end_time": "2020-01-23T19:16:33.261439Z",
     "start_time": "2020-01-23T19:16:33.228949Z"
    }
   },
   "outputs": [
    {
     "data": {
      "text/html": [
       "<div>\n",
       "<style scoped>\n",
       "    .dataframe tbody tr th:only-of-type {\n",
       "        vertical-align: middle;\n",
       "    }\n",
       "\n",
       "    .dataframe tbody tr th {\n",
       "        vertical-align: top;\n",
       "    }\n",
       "\n",
       "    .dataframe thead th {\n",
       "        text-align: right;\n",
       "    }\n",
       "</style>\n",
       "<table border=\"1\" class=\"dataframe\">\n",
       "  <thead>\n",
       "    <tr style=\"text-align: right;\">\n",
       "      <th></th>\n",
       "      <th>dist</th>\n",
       "      <th>abs_pose_x</th>\n",
       "      <th>abs_pose_y</th>\n",
       "      <th>abs_pose_yaw</th>\n",
       "    </tr>\n",
       "  </thead>\n",
       "  <tbody>\n",
       "    <tr>\n",
       "      <th>count</th>\n",
       "      <td>2827.000000</td>\n",
       "      <td>2827.000000</td>\n",
       "      <td>2827.000000</td>\n",
       "      <td>2827.000000</td>\n",
       "    </tr>\n",
       "    <tr>\n",
       "      <th>mean</th>\n",
       "      <td>0.093600</td>\n",
       "      <td>0.060372</td>\n",
       "      <td>0.056847</td>\n",
       "      <td>0.586198</td>\n",
       "    </tr>\n",
       "    <tr>\n",
       "      <th>std</th>\n",
       "      <td>0.064136</td>\n",
       "      <td>0.044810</td>\n",
       "      <td>0.063172</td>\n",
       "      <td>1.877356</td>\n",
       "    </tr>\n",
       "    <tr>\n",
       "      <th>min</th>\n",
       "      <td>0.000555</td>\n",
       "      <td>0.000046</td>\n",
       "      <td>0.000008</td>\n",
       "      <td>0.000000</td>\n",
       "    </tr>\n",
       "    <tr>\n",
       "      <th>25%</th>\n",
       "      <td>0.058827</td>\n",
       "      <td>0.037994</td>\n",
       "      <td>0.009346</td>\n",
       "      <td>0.009384</td>\n",
       "    </tr>\n",
       "    <tr>\n",
       "      <th>50%</th>\n",
       "      <td>0.080999</td>\n",
       "      <td>0.058128</td>\n",
       "      <td>0.029377</td>\n",
       "      <td>0.021332</td>\n",
       "    </tr>\n",
       "    <tr>\n",
       "      <th>75%</th>\n",
       "      <td>0.132290</td>\n",
       "      <td>0.061138</td>\n",
       "      <td>0.086189</td>\n",
       "      <td>0.075871</td>\n",
       "    </tr>\n",
       "    <tr>\n",
       "      <th>max</th>\n",
       "      <td>0.908329</td>\n",
       "      <td>0.878998</td>\n",
       "      <td>0.608910</td>\n",
       "      <td>9.564316</td>\n",
       "    </tr>\n",
       "  </tbody>\n",
       "</table>\n",
       "</div>"
      ],
      "text/plain": [
       "              dist   abs_pose_x   abs_pose_y  abs_pose_yaw\n",
       "count  2827.000000  2827.000000  2827.000000   2827.000000\n",
       "mean      0.093600     0.060372     0.056847      0.586198\n",
       "std       0.064136     0.044810     0.063172      1.877356\n",
       "min       0.000555     0.000046     0.000008      0.000000\n",
       "25%       0.058827     0.037994     0.009346      0.009384\n",
       "50%       0.080999     0.058128     0.029377      0.021332\n",
       "75%       0.132290     0.061138     0.086189      0.075871\n",
       "max       0.908329     0.878998     0.608910      9.564316"
      ]
     },
     "execution_count": 14,
     "metadata": {},
     "output_type": "execute_result"
    }
   ],
   "source": [
    "df_pair[['dist', 'abs_pose_x', 'abs_pose_y', 'abs_pose_yaw']][mask_8].describe()"
   ]
  },
  {
   "cell_type": "code",
   "execution_count": 15,
   "metadata": {
    "ExecuteTime": {
     "end_time": "2020-01-23T19:16:35.351862Z",
     "start_time": "2020-01-23T19:16:35.320917Z"
    }
   },
   "outputs": [
    {
     "data": {
      "text/html": [
       "<div>\n",
       "<style scoped>\n",
       "    .dataframe tbody tr th:only-of-type {\n",
       "        vertical-align: middle;\n",
       "    }\n",
       "\n",
       "    .dataframe tbody tr th {\n",
       "        vertical-align: top;\n",
       "    }\n",
       "\n",
       "    .dataframe thead th {\n",
       "        text-align: right;\n",
       "    }\n",
       "</style>\n",
       "<table border=\"1\" class=\"dataframe\">\n",
       "  <thead>\n",
       "    <tr style=\"text-align: right;\">\n",
       "      <th></th>\n",
       "      <th>dist</th>\n",
       "      <th>abs_pose_x</th>\n",
       "      <th>abs_pose_y</th>\n",
       "      <th>abs_pose_yaw</th>\n",
       "    </tr>\n",
       "  </thead>\n",
       "  <tbody>\n",
       "    <tr>\n",
       "      <th>count</th>\n",
       "      <td>3056.000000</td>\n",
       "      <td>3056.000000</td>\n",
       "      <td>3056.000000</td>\n",
       "      <td>3056.000000</td>\n",
       "    </tr>\n",
       "    <tr>\n",
       "      <th>mean</th>\n",
       "      <td>0.040951</td>\n",
       "      <td>0.028972</td>\n",
       "      <td>0.021955</td>\n",
       "      <td>0.269461</td>\n",
       "    </tr>\n",
       "    <tr>\n",
       "      <th>std</th>\n",
       "      <td>0.035836</td>\n",
       "      <td>0.030167</td>\n",
       "      <td>0.027017</td>\n",
       "      <td>0.863249</td>\n",
       "    </tr>\n",
       "    <tr>\n",
       "      <th>min</th>\n",
       "      <td>0.000000</td>\n",
       "      <td>0.000000</td>\n",
       "      <td>0.000000</td>\n",
       "      <td>0.000000</td>\n",
       "    </tr>\n",
       "    <tr>\n",
       "      <th>25%</th>\n",
       "      <td>0.017101</td>\n",
       "      <td>0.008850</td>\n",
       "      <td>0.004730</td>\n",
       "      <td>0.004730</td>\n",
       "    </tr>\n",
       "    <tr>\n",
       "      <th>50%</th>\n",
       "      <td>0.032665</td>\n",
       "      <td>0.015411</td>\n",
       "      <td>0.014633</td>\n",
       "      <td>0.008324</td>\n",
       "    </tr>\n",
       "    <tr>\n",
       "      <th>75%</th>\n",
       "      <td>0.056253</td>\n",
       "      <td>0.053436</td>\n",
       "      <td>0.028801</td>\n",
       "      <td>0.044820</td>\n",
       "    </tr>\n",
       "    <tr>\n",
       "      <th>max</th>\n",
       "      <td>0.381457</td>\n",
       "      <td>0.323532</td>\n",
       "      <td>0.321899</td>\n",
       "      <td>9.665947</td>\n",
       "    </tr>\n",
       "  </tbody>\n",
       "</table>\n",
       "</div>"
      ],
      "text/plain": [
       "              dist   abs_pose_x   abs_pose_y  abs_pose_yaw\n",
       "count  3056.000000  3056.000000  3056.000000   3056.000000\n",
       "mean      0.040951     0.028972     0.021955      0.269461\n",
       "std       0.035836     0.030167     0.027017      0.863249\n",
       "min       0.000000     0.000000     0.000000      0.000000\n",
       "25%       0.017101     0.008850     0.004730      0.004730\n",
       "50%       0.032665     0.015411     0.014633      0.008324\n",
       "75%       0.056253     0.053436     0.028801      0.044820\n",
       "max       0.381457     0.323532     0.321899      9.665947"
      ]
     },
     "execution_count": 15,
     "metadata": {},
     "output_type": "execute_result"
    }
   ],
   "source": [
    "df_pair[['dist', 'abs_pose_x', 'abs_pose_y', 'abs_pose_yaw']][mask_24].describe()"
   ]
  },
  {
   "cell_type": "code",
   "execution_count": null,
   "metadata": {},
   "outputs": [],
   "source": []
  }
 ],
 "metadata": {
  "kernelspec": {
   "display_name": "Python 3",
   "language": "python",
   "name": "python3"
  },
  "language_info": {
   "codemirror_mode": {
    "name": "ipython",
    "version": 3
   },
   "file_extension": ".py",
   "mimetype": "text/x-python",
   "name": "python",
   "nbconvert_exporter": "python",
   "pygments_lexer": "ipython3",
   "version": "3.7.3"
  },
  "toc": {
   "base_numbering": 1,
   "nav_menu": {},
   "number_sections": true,
   "sideBar": true,
   "skip_h1_title": false,
   "title_cell": "Table of Contents",
   "title_sidebar": "Contents",
   "toc_cell": false,
   "toc_position": {},
   "toc_section_display": true,
   "toc_window_display": false
  }
 },
 "nbformat": 4,
 "nbformat_minor": 2
}
