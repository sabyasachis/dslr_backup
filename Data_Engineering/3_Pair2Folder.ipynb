{
 "cells": [
  {
   "cell_type": "code",
   "execution_count": 1,
   "metadata": {
    "ExecuteTime": {
     "end_time": "2020-07-30T05:47:51.491367Z",
     "start_time": "2020-07-30T05:47:50.697023Z"
    }
   },
   "outputs": [],
   "source": [
    "import pandas as pd\n",
    "import numpy as np\n",
    "import gc\n",
    "import os, shutil\n",
    "import sys\n",
    "import matplotlib.pyplot as plt\n",
    "import open3d as o3d\n",
    "from tqdm import tqdm_notebook"
   ]
  },
  {
   "cell_type": "code",
   "execution_count": 2,
   "metadata": {
    "ExecuteTime": {
     "end_time": "2020-07-30T05:47:51.498293Z",
     "start_time": "2020-07-30T05:47:51.493331Z"
    }
   },
   "outputs": [],
   "source": [
    "BASE_PATH = \"/home/saby/Projects/ati/data/data/datasets/Carla/64beam-Data\"\n",
    "OUTPUT_FOLDER = \"pair\"\n",
    "STATIC_FOLDER = \"static\"\n",
    "DYNAMIC_FOLDER = \"dynamic\"\n",
    "PAIR_FILE = \"pair_with_pose.csv\"\n",
    "\n",
    "INPUT_PATH = BASE_PATH\n",
    "OUTPUT_PATH = os.path.join(BASE_PATH, OUTPUT_FOLDER)\n",
    "\n",
    "OUTPUT_STATIC_PATH = os.path.join(OUTPUT_PATH, STATIC_FOLDER)\n",
    "OUTPUT_DYNAMIC_PATH = os.path.join(OUTPUT_PATH, DYNAMIC_FOLDER)\n",
    "\n",
    "if not os.path.exists(OUTPUT_PATH):\n",
    "    os.makedirs(OUTPUT_PATH)\n",
    "else:\n",
    "    shutil.rmtree(OUTPUT_PATH)\n",
    "    os.makedirs(OUTPUT_PATH)\n",
    "\n",
    "os.makedirs(OUTPUT_STATIC_PATH)\n",
    "os.makedirs(OUTPUT_DYNAMIC_PATH)"
   ]
  },
  {
   "cell_type": "code",
   "execution_count": 3,
   "metadata": {
    "ExecuteTime": {
     "end_time": "2020-07-30T05:47:51.553068Z",
     "start_time": "2020-07-30T05:47:51.499712Z"
    }
   },
   "outputs": [
    {
     "data": {
      "text/plain": [
       "(9951, 5)"
      ]
     },
     "execution_count": 3,
     "metadata": {},
     "output_type": "execute_result"
    }
   ],
   "source": [
    "pair_path = os.path.join(INPUT_PATH, PAIR_FILE)\n",
    "df_pair = pd.read_csv(pair_path)\n",
    "df_pair.shape"
   ]
  },
  {
   "cell_type": "code",
   "execution_count": 4,
   "metadata": {
    "ExecuteTime": {
     "end_time": "2020-07-30T05:47:51.572111Z",
     "start_time": "2020-07-30T05:47:51.554484Z"
    }
   },
   "outputs": [
    {
     "data": {
      "text/plain": [
       "array([['/home/saby/Projects/ati/data/data/datasets/Carla/64beam-Data/static/1/_out/501.ply',\n",
       "        '/home/saby/Projects/ati/data/data/datasets/Carla/64beam-Data/dynamic/6/_out/1047.ply',\n",
       "        0.1296234130859375, 0.06497955322265625, 0.013214110862463713]],\n",
       "      dtype=object)"
      ]
     },
     "execution_count": 4,
     "metadata": {},
     "output_type": "execute_result"
    }
   ],
   "source": [
    "df_pair.sample().values"
   ]
  },
  {
   "cell_type": "code",
   "execution_count": null,
   "metadata": {},
   "outputs": [],
   "source": []
  },
  {
   "cell_type": "code",
   "execution_count": 5,
   "metadata": {
    "ExecuteTime": {
     "end_time": "2020-07-30T06:00:56.081002Z",
     "start_time": "2020-07-30T05:47:51.573390Z"
    }
   },
   "outputs": [
    {
     "name": "stderr",
     "output_type": "stream",
     "text": [
      "/home/saby/anaconda3/envs/ati/lib/python3.6/site-packages/ipykernel_launcher.py:3: TqdmDeprecationWarning: This function will be removed in tqdm==5.0.0\n",
      "Please use `tqdm.notebook.tqdm` instead of `tqdm.tqdm_notebook`\n",
      "  This is separate from the ipykernel package so we can avoid doing imports until\n"
     ]
    },
    {
     "data": {
      "application/vnd.jupyter.widget-view+json": {
       "model_id": "dbb065247cc642ba8509ef4e4e7817eb",
       "version_major": 2,
       "version_minor": 0
      },
      "text/plain": [
       "HBox(children=(FloatProgress(value=0.0, max=9951.0), HTML(value='')))"
      ]
     },
     "metadata": {},
     "output_type": "display_data"
    },
    {
     "name": "stdout",
     "output_type": "stream",
     "text": [
      "\n"
     ]
    }
   ],
   "source": [
    "output_file_idx = 0\n",
    "\n",
    "for idx, row in tqdm_notebook(df_pair.iterrows(), total=df_pair.shape[0]):\n",
    "    fname = str(output_file_idx) + \".ply\"\n",
    "    \n",
    "    static_src = row['static_path']\n",
    "    static_dst = os.path.join(OUTPUT_STATIC_PATH, fname)\n",
    "    shutil.copyfile(static_src, static_dst)\n",
    "\n",
    "    dynamic_src = row['dynamic_path']\n",
    "    dynamic_dst = os.path.join(OUTPUT_DYNAMIC_PATH, fname)\n",
    "    shutil.copyfile(dynamic_src, dynamic_dst)\n",
    "    \n",
    "    output_file_idx += 1\n"
   ]
  },
  {
   "cell_type": "code",
   "execution_count": null,
   "metadata": {},
   "outputs": [],
   "source": []
  },
  {
   "cell_type": "code",
   "execution_count": null,
   "metadata": {},
   "outputs": [],
   "source": []
  },
  {
   "cell_type": "code",
   "execution_count": null,
   "metadata": {},
   "outputs": [],
   "source": []
  },
  {
   "cell_type": "code",
   "execution_count": null,
   "metadata": {},
   "outputs": [],
   "source": []
  },
  {
   "cell_type": "code",
   "execution_count": null,
   "metadata": {},
   "outputs": [],
   "source": []
  }
 ],
 "metadata": {
  "kernelspec": {
   "display_name": "Python 3",
   "language": "python",
   "name": "python3"
  },
  "language_info": {
   "codemirror_mode": {
    "name": "ipython",
    "version": 3
   },
   "file_extension": ".py",
   "mimetype": "text/x-python",
   "name": "python",
   "nbconvert_exporter": "python",
   "pygments_lexer": "ipython3",
   "version": "3.6.10"
  },
  "toc": {
   "base_numbering": 1,
   "nav_menu": {},
   "number_sections": true,
   "sideBar": true,
   "skip_h1_title": false,
   "title_cell": "Table of Contents",
   "title_sidebar": "Contents",
   "toc_cell": false,
   "toc_position": {},
   "toc_section_display": true,
   "toc_window_display": false
  }
 },
 "nbformat": 4,
 "nbformat_minor": 2
}
