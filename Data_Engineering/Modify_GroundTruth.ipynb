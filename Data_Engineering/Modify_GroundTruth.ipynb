{
 "cells": [
  {
   "cell_type": "code",
   "execution_count": 1,
   "metadata": {
    "ExecuteTime": {
     "end_time": "2019-10-29T15:59:12.077967Z",
     "start_time": "2019-10-29T15:59:11.766226Z"
    }
   },
   "outputs": [],
   "source": [
    "import pandas as pd\n",
    "import numpy as np\n",
    "import gc\n",
    "import os\n",
    "import transforms3d"
   ]
  },
  {
   "cell_type": "code",
   "execution_count": 2,
   "metadata": {
    "ExecuteTime": {
     "end_time": "2019-10-29T15:59:12.083023Z",
     "start_time": "2019-10-29T15:59:12.080377Z"
    }
   },
   "outputs": [],
   "source": [
    "BASE_FOLDER = \"/home/sabyasachi/Projects/ati/data/data/datasets/Carla/currentDataforCVPR/template0/dynamic/set5/\""
   ]
  },
  {
   "cell_type": "code",
   "execution_count": 3,
   "metadata": {
    "ExecuteTime": {
     "end_time": "2019-10-29T15:59:12.110030Z",
     "start_time": "2019-10-29T15:59:12.084892Z"
    }
   },
   "outputs": [
    {
     "data": {
      "text/plain": [
       "(355, 28)"
      ]
     },
     "execution_count": 3,
     "metadata": {},
     "output_type": "execute_result"
    }
   ],
   "source": [
    "df_gt = pd.read_csv(os.path.join(BASE_FOLDER, \"groundTruth.csv\"))\n",
    "df_gt.shape"
   ]
  },
  {
   "cell_type": "code",
   "execution_count": 4,
   "metadata": {
    "ExecuteTime": {
     "end_time": "2019-10-29T15:59:12.145806Z",
     "start_time": "2019-10-29T15:59:12.111679Z"
    }
   },
   "outputs": [
    {
     "data": {
      "text/html": [
       "<div>\n",
       "<style scoped>\n",
       "    .dataframe tbody tr th:only-of-type {\n",
       "        vertical-align: middle;\n",
       "    }\n",
       "\n",
       "    .dataframe tbody tr th {\n",
       "        vertical-align: top;\n",
       "    }\n",
       "\n",
       "    .dataframe thead th {\n",
       "        text-align: right;\n",
       "    }\n",
       "</style>\n",
       "<table border=\"1\" class=\"dataframe\">\n",
       "  <thead>\n",
       "    <tr style=\"text-align: right;\">\n",
       "      <th></th>\n",
       "      <th>step</th>\n",
       "      <th>platform_timestamp</th>\n",
       "      <th>platform_timestamp_convert</th>\n",
       "      <th>game_timestamp</th>\n",
       "      <th>game_timestamp_convert</th>\n",
       "      <th>location_x</th>\n",
       "      <th>location_x_convert</th>\n",
       "      <th>location_y</th>\n",
       "      <th>location_y_convert</th>\n",
       "      <th>location_z</th>\n",
       "      <th>...</th>\n",
       "      <th>rotation_yaw_convert</th>\n",
       "      <th>rotation_roll</th>\n",
       "      <th>acceleration_x</th>\n",
       "      <th>acceleration_x_convert</th>\n",
       "      <th>acceleration_y</th>\n",
       "      <th>acceleration_y_convert</th>\n",
       "      <th>acceleration_z</th>\n",
       "      <th>forward_speed</th>\n",
       "      <th>steer</th>\n",
       "      <th>throttle</th>\n",
       "    </tr>\n",
       "  </thead>\n",
       "  <tbody>\n",
       "    <tr>\n",
       "      <th>0</th>\n",
       "      <td>1</td>\n",
       "      <td>2147483648</td>\n",
       "      <td>1.073742e+11</td>\n",
       "      <td>400</td>\n",
       "      <td>20100.0</td>\n",
       "      <td>1.55999</td>\n",
       "      <td>109</td>\n",
       "      <td>149.830017</td>\n",
       "      <td>1011</td>\n",
       "      <td>39.430626</td>\n",
       "      <td>...</td>\n",
       "      <td>-448</td>\n",
       "      <td>0.0</td>\n",
       "      <td>0.000000e+00</td>\n",
       "      <td>100</td>\n",
       "      <td>0.000000e+00</td>\n",
       "      <td>100</td>\n",
       "      <td>0.0</td>\n",
       "      <td>0.000000e+00</td>\n",
       "      <td>0.199770</td>\n",
       "      <td>1.0</td>\n",
       "    </tr>\n",
       "    <tr>\n",
       "      <th>1</th>\n",
       "      <td>2</td>\n",
       "      <td>2147483648</td>\n",
       "      <td>1.073742e+11</td>\n",
       "      <td>800</td>\n",
       "      <td>40100.0</td>\n",
       "      <td>1.55999</td>\n",
       "      <td>109</td>\n",
       "      <td>149.830017</td>\n",
       "      <td>1011</td>\n",
       "      <td>39.373482</td>\n",
       "      <td>...</td>\n",
       "      <td>-448</td>\n",
       "      <td>0.0</td>\n",
       "      <td>-4.409542e-14</td>\n",
       "      <td>100</td>\n",
       "      <td>-5.966116e-09</td>\n",
       "      <td>100</td>\n",
       "      <td>0.0</td>\n",
       "      <td>2.386447e-09</td>\n",
       "      <td>0.199771</td>\n",
       "      <td>1.0</td>\n",
       "    </tr>\n",
       "    <tr>\n",
       "      <th>2</th>\n",
       "      <td>3</td>\n",
       "      <td>2147483648</td>\n",
       "      <td>1.073742e+11</td>\n",
       "      <td>1200</td>\n",
       "      <td>60100.0</td>\n",
       "      <td>1.55999</td>\n",
       "      <td>109</td>\n",
       "      <td>149.830017</td>\n",
       "      <td>1011</td>\n",
       "      <td>39.218452</td>\n",
       "      <td>...</td>\n",
       "      <td>-448</td>\n",
       "      <td>0.0</td>\n",
       "      <td>-4.405135e-14</td>\n",
       "      <td>100</td>\n",
       "      <td>-5.960153e-09</td>\n",
       "      <td>100</td>\n",
       "      <td>0.0</td>\n",
       "      <td>4.770508e-09</td>\n",
       "      <td>0.199771</td>\n",
       "      <td>1.0</td>\n",
       "    </tr>\n",
       "    <tr>\n",
       "      <th>3</th>\n",
       "      <td>4</td>\n",
       "      <td>2147483648</td>\n",
       "      <td>1.073742e+11</td>\n",
       "      <td>1436</td>\n",
       "      <td>71900.0</td>\n",
       "      <td>1.55999</td>\n",
       "      <td>109</td>\n",
       "      <td>149.830017</td>\n",
       "      <td>1011</td>\n",
       "      <td>38.965626</td>\n",
       "      <td>...</td>\n",
       "      <td>-448</td>\n",
       "      <td>0.0</td>\n",
       "      <td>-7.455358e-14</td>\n",
       "      <td>100</td>\n",
       "      <td>-1.008711e-08</td>\n",
       "      <td>100</td>\n",
       "      <td>0.0</td>\n",
       "      <td>7.152187e-09</td>\n",
       "      <td>0.199771</td>\n",
       "      <td>1.0</td>\n",
       "    </tr>\n",
       "    <tr>\n",
       "      <th>4</th>\n",
       "      <td>5</td>\n",
       "      <td>2147483648</td>\n",
       "      <td>1.073742e+11</td>\n",
       "      <td>1589</td>\n",
       "      <td>79550.0</td>\n",
       "      <td>1.55999</td>\n",
       "      <td>109</td>\n",
       "      <td>149.830017</td>\n",
       "      <td>1011</td>\n",
       "      <td>38.615105</td>\n",
       "      <td>...</td>\n",
       "      <td>-448</td>\n",
       "      <td>0.0</td>\n",
       "      <td>-1.150003e-13</td>\n",
       "      <td>100</td>\n",
       "      <td>-1.555955e-08</td>\n",
       "      <td>100</td>\n",
       "      <td>0.0</td>\n",
       "      <td>9.531483e-09</td>\n",
       "      <td>0.199771</td>\n",
       "      <td>1.0</td>\n",
       "    </tr>\n",
       "  </tbody>\n",
       "</table>\n",
       "<p>5 rows × 28 columns</p>\n",
       "</div>"
      ],
      "text/plain": [
       "   step  platform_timestamp  platform_timestamp_convert  game_timestamp  \\\n",
       "0     1          2147483648                1.073742e+11             400   \n",
       "1     2          2147483648                1.073742e+11             800   \n",
       "2     3          2147483648                1.073742e+11            1200   \n",
       "3     4          2147483648                1.073742e+11            1436   \n",
       "4     5          2147483648                1.073742e+11            1589   \n",
       "\n",
       "   game_timestamp_convert  location_x  location_x_convert  location_y  \\\n",
       "0                 20100.0     1.55999                 109  149.830017   \n",
       "1                 40100.0     1.55999                 109  149.830017   \n",
       "2                 60100.0     1.55999                 109  149.830017   \n",
       "3                 71900.0     1.55999                 109  149.830017   \n",
       "4                 79550.0     1.55999                 109  149.830017   \n",
       "\n",
       "   location_y_convert  location_z  ...  rotation_yaw_convert  rotation_roll  \\\n",
       "0                1011   39.430626  ...                  -448            0.0   \n",
       "1                1011   39.373482  ...                  -448            0.0   \n",
       "2                1011   39.218452  ...                  -448            0.0   \n",
       "3                1011   38.965626  ...                  -448            0.0   \n",
       "4                1011   38.615105  ...                  -448            0.0   \n",
       "\n",
       "   acceleration_x  acceleration_x_convert  acceleration_y  \\\n",
       "0    0.000000e+00                     100    0.000000e+00   \n",
       "1   -4.409542e-14                     100   -5.966116e-09   \n",
       "2   -4.405135e-14                     100   -5.960153e-09   \n",
       "3   -7.455358e-14                     100   -1.008711e-08   \n",
       "4   -1.150003e-13                     100   -1.555955e-08   \n",
       "\n",
       "   acceleration_y_convert  acceleration_z  forward_speed     steer  throttle  \n",
       "0                     100             0.0   0.000000e+00  0.199770       1.0  \n",
       "1                     100             0.0   2.386447e-09  0.199771       1.0  \n",
       "2                     100             0.0   4.770508e-09  0.199771       1.0  \n",
       "3                     100             0.0   7.152187e-09  0.199771       1.0  \n",
       "4                     100             0.0   9.531483e-09  0.199771       1.0  \n",
       "\n",
       "[5 rows x 28 columns]"
      ]
     },
     "execution_count": 4,
     "metadata": {},
     "output_type": "execute_result"
    }
   ],
   "source": [
    "df_gt.head()"
   ]
  },
  {
   "cell_type": "code",
   "execution_count": 5,
   "metadata": {
    "ExecuteTime": {
     "end_time": "2019-10-29T15:59:12.205319Z",
     "start_time": "2019-10-29T15:59:12.147682Z"
    }
   },
   "outputs": [],
   "source": [
    "qw_list = []\n",
    "qx_list = []\n",
    "qy_list = []\n",
    "qz_list = []\n",
    "for idx, row in df_gt.iterrows():\n",
    "    roll = np.deg2rad(row['rotation_roll'])\n",
    "    pitch = np.deg2rad(row['rotation_pitch'])\n",
    "    yaw = np.deg2rad(row['rotation_yaw'])\n",
    "    quaternion = transforms3d.euler.euler2quat(roll, pitch, yaw, axes='sxyz')\n",
    "    qw_list.append(quaternion[0])\n",
    "    qx_list.append(quaternion[1])\n",
    "    qy_list.append(quaternion[2])\n",
    "    qz_list.append(quaternion[3])\n",
    "\n",
    "df_gt['qw'] = qw_list\n",
    "df_gt['qx'] = qx_list\n",
    "df_gt['qy'] = qy_list\n",
    "df_gt['qz'] = qz_list"
   ]
  },
  {
   "cell_type": "code",
   "execution_count": 6,
   "metadata": {
    "ExecuteTime": {
     "end_time": "2019-10-29T15:59:12.211553Z",
     "start_time": "2019-10-29T15:59:12.207097Z"
    }
   },
   "outputs": [
    {
     "data": {
      "text/plain": [
       "Index(['step', 'platform_timestamp', 'platform_timestamp_convert',\n",
       "       'game_timestamp', 'game_timestamp_convert', 'location_x',\n",
       "       'location_x_convert', 'location_y', 'location_y_convert', 'location_z',\n",
       "       'orientation_x', 'orientation_x_convert', 'orientation_y',\n",
       "       'orientation_y_convert', 'orientation_z', 'rotation_pitch',\n",
       "       'rotation_pitch_convert', 'rotation_yaw', 'rotation_yaw_convert',\n",
       "       'rotation_roll', 'acceleration_x', 'acceleration_x_convert',\n",
       "       'acceleration_y', 'acceleration_y_convert', 'acceleration_z',\n",
       "       'forward_speed', 'steer', 'throttle', 'qw', 'qx', 'qy', 'qz'],\n",
       "      dtype='object')"
      ]
     },
     "execution_count": 6,
     "metadata": {},
     "output_type": "execute_result"
    }
   ],
   "source": [
    "df_gt.columns"
   ]
  },
  {
   "cell_type": "code",
   "execution_count": 7,
   "metadata": {
    "ExecuteTime": {
     "end_time": "2019-10-29T15:59:12.242821Z",
     "start_time": "2019-10-29T15:59:12.214076Z"
    }
   },
   "outputs": [
    {
     "data": {
      "text/html": [
       "<div>\n",
       "<style scoped>\n",
       "    .dataframe tbody tr th:only-of-type {\n",
       "        vertical-align: middle;\n",
       "    }\n",
       "\n",
       "    .dataframe tbody tr th {\n",
       "        vertical-align: top;\n",
       "    }\n",
       "\n",
       "    .dataframe thead th {\n",
       "        text-align: right;\n",
       "    }\n",
       "</style>\n",
       "<table border=\"1\" class=\"dataframe\">\n",
       "  <thead>\n",
       "    <tr style=\"text-align: right;\">\n",
       "      <th></th>\n",
       "      <th>step</th>\n",
       "      <th>platform_timestamp</th>\n",
       "      <th>platform_timestamp_convert</th>\n",
       "      <th>game_timestamp</th>\n",
       "      <th>game_timestamp_convert</th>\n",
       "      <th>location_x</th>\n",
       "      <th>location_x_convert</th>\n",
       "      <th>location_y</th>\n",
       "      <th>location_y_convert</th>\n",
       "      <th>location_z</th>\n",
       "      <th>...</th>\n",
       "      <th>acceleration_y</th>\n",
       "      <th>acceleration_y_convert</th>\n",
       "      <th>acceleration_z</th>\n",
       "      <th>forward_speed</th>\n",
       "      <th>steer</th>\n",
       "      <th>throttle</th>\n",
       "      <th>qw</th>\n",
       "      <th>qx</th>\n",
       "      <th>qy</th>\n",
       "      <th>qz</th>\n",
       "    </tr>\n",
       "  </thead>\n",
       "  <tbody>\n",
       "    <tr>\n",
       "      <th>0</th>\n",
       "      <td>1</td>\n",
       "      <td>2147483648</td>\n",
       "      <td>1.073742e+11</td>\n",
       "      <td>400</td>\n",
       "      <td>20100.0</td>\n",
       "      <td>1.55999</td>\n",
       "      <td>109</td>\n",
       "      <td>149.830017</td>\n",
       "      <td>1011</td>\n",
       "      <td>39.430626</td>\n",
       "      <td>...</td>\n",
       "      <td>0.000000e+00</td>\n",
       "      <td>100</td>\n",
       "      <td>0.0</td>\n",
       "      <td>0.000000e+00</td>\n",
       "      <td>0.199770</td>\n",
       "      <td>1.0</td>\n",
       "      <td>0.707104</td>\n",
       "      <td>0.0</td>\n",
       "      <td>0.0</td>\n",
       "      <td>-0.707109</td>\n",
       "    </tr>\n",
       "    <tr>\n",
       "      <th>1</th>\n",
       "      <td>2</td>\n",
       "      <td>2147483648</td>\n",
       "      <td>1.073742e+11</td>\n",
       "      <td>800</td>\n",
       "      <td>40100.0</td>\n",
       "      <td>1.55999</td>\n",
       "      <td>109</td>\n",
       "      <td>149.830017</td>\n",
       "      <td>1011</td>\n",
       "      <td>39.373482</td>\n",
       "      <td>...</td>\n",
       "      <td>-5.966116e-09</td>\n",
       "      <td>100</td>\n",
       "      <td>0.0</td>\n",
       "      <td>2.386447e-09</td>\n",
       "      <td>0.199771</td>\n",
       "      <td>1.0</td>\n",
       "      <td>0.707104</td>\n",
       "      <td>0.0</td>\n",
       "      <td>0.0</td>\n",
       "      <td>-0.707109</td>\n",
       "    </tr>\n",
       "    <tr>\n",
       "      <th>2</th>\n",
       "      <td>3</td>\n",
       "      <td>2147483648</td>\n",
       "      <td>1.073742e+11</td>\n",
       "      <td>1200</td>\n",
       "      <td>60100.0</td>\n",
       "      <td>1.55999</td>\n",
       "      <td>109</td>\n",
       "      <td>149.830017</td>\n",
       "      <td>1011</td>\n",
       "      <td>39.218452</td>\n",
       "      <td>...</td>\n",
       "      <td>-5.960153e-09</td>\n",
       "      <td>100</td>\n",
       "      <td>0.0</td>\n",
       "      <td>4.770508e-09</td>\n",
       "      <td>0.199771</td>\n",
       "      <td>1.0</td>\n",
       "      <td>0.707104</td>\n",
       "      <td>0.0</td>\n",
       "      <td>0.0</td>\n",
       "      <td>-0.707109</td>\n",
       "    </tr>\n",
       "    <tr>\n",
       "      <th>3</th>\n",
       "      <td>4</td>\n",
       "      <td>2147483648</td>\n",
       "      <td>1.073742e+11</td>\n",
       "      <td>1436</td>\n",
       "      <td>71900.0</td>\n",
       "      <td>1.55999</td>\n",
       "      <td>109</td>\n",
       "      <td>149.830017</td>\n",
       "      <td>1011</td>\n",
       "      <td>38.965626</td>\n",
       "      <td>...</td>\n",
       "      <td>-1.008711e-08</td>\n",
       "      <td>100</td>\n",
       "      <td>0.0</td>\n",
       "      <td>7.152187e-09</td>\n",
       "      <td>0.199771</td>\n",
       "      <td>1.0</td>\n",
       "      <td>0.707104</td>\n",
       "      <td>0.0</td>\n",
       "      <td>0.0</td>\n",
       "      <td>-0.707109</td>\n",
       "    </tr>\n",
       "    <tr>\n",
       "      <th>4</th>\n",
       "      <td>5</td>\n",
       "      <td>2147483648</td>\n",
       "      <td>1.073742e+11</td>\n",
       "      <td>1589</td>\n",
       "      <td>79550.0</td>\n",
       "      <td>1.55999</td>\n",
       "      <td>109</td>\n",
       "      <td>149.830017</td>\n",
       "      <td>1011</td>\n",
       "      <td>38.615105</td>\n",
       "      <td>...</td>\n",
       "      <td>-1.555955e-08</td>\n",
       "      <td>100</td>\n",
       "      <td>0.0</td>\n",
       "      <td>9.531483e-09</td>\n",
       "      <td>0.199771</td>\n",
       "      <td>1.0</td>\n",
       "      <td>0.707104</td>\n",
       "      <td>0.0</td>\n",
       "      <td>0.0</td>\n",
       "      <td>-0.707109</td>\n",
       "    </tr>\n",
       "  </tbody>\n",
       "</table>\n",
       "<p>5 rows × 32 columns</p>\n",
       "</div>"
      ],
      "text/plain": [
       "   step  platform_timestamp  platform_timestamp_convert  game_timestamp  \\\n",
       "0     1          2147483648                1.073742e+11             400   \n",
       "1     2          2147483648                1.073742e+11             800   \n",
       "2     3          2147483648                1.073742e+11            1200   \n",
       "3     4          2147483648                1.073742e+11            1436   \n",
       "4     5          2147483648                1.073742e+11            1589   \n",
       "\n",
       "   game_timestamp_convert  location_x  location_x_convert  location_y  \\\n",
       "0                 20100.0     1.55999                 109  149.830017   \n",
       "1                 40100.0     1.55999                 109  149.830017   \n",
       "2                 60100.0     1.55999                 109  149.830017   \n",
       "3                 71900.0     1.55999                 109  149.830017   \n",
       "4                 79550.0     1.55999                 109  149.830017   \n",
       "\n",
       "   location_y_convert  location_z  ...  acceleration_y  \\\n",
       "0                1011   39.430626  ...    0.000000e+00   \n",
       "1                1011   39.373482  ...   -5.966116e-09   \n",
       "2                1011   39.218452  ...   -5.960153e-09   \n",
       "3                1011   38.965626  ...   -1.008711e-08   \n",
       "4                1011   38.615105  ...   -1.555955e-08   \n",
       "\n",
       "   acceleration_y_convert  acceleration_z  forward_speed     steer  throttle  \\\n",
       "0                     100             0.0   0.000000e+00  0.199770       1.0   \n",
       "1                     100             0.0   2.386447e-09  0.199771       1.0   \n",
       "2                     100             0.0   4.770508e-09  0.199771       1.0   \n",
       "3                     100             0.0   7.152187e-09  0.199771       1.0   \n",
       "4                     100             0.0   9.531483e-09  0.199771       1.0   \n",
       "\n",
       "         qw   qx   qy        qz  \n",
       "0  0.707104  0.0  0.0 -0.707109  \n",
       "1  0.707104  0.0  0.0 -0.707109  \n",
       "2  0.707104  0.0  0.0 -0.707109  \n",
       "3  0.707104  0.0  0.0 -0.707109  \n",
       "4  0.707104  0.0  0.0 -0.707109  \n",
       "\n",
       "[5 rows x 32 columns]"
      ]
     },
     "execution_count": 7,
     "metadata": {},
     "output_type": "execute_result"
    }
   ],
   "source": [
    "df_gt.head()"
   ]
  },
  {
   "cell_type": "code",
   "execution_count": 8,
   "metadata": {
    "ExecuteTime": {
     "end_time": "2019-10-29T15:59:12.247543Z",
     "start_time": "2019-10-29T15:59:12.244685Z"
    }
   },
   "outputs": [],
   "source": [
    "fname = os.path.join(BASE_FOLDER, \"groundTruthPose.csv\")"
   ]
  },
  {
   "cell_type": "code",
   "execution_count": 9,
   "metadata": {
    "ExecuteTime": {
     "end_time": "2019-10-29T15:59:12.260393Z",
     "start_time": "2019-10-29T15:59:12.249252Z"
    }
   },
   "outputs": [],
   "source": [
    "df_gt[['game_timestamp', 'location_x', 'location_y', 'location_z', 'qx', 'qy','qz', 'qw']].to_csv(fname, index=False)"
   ]
  },
  {
   "cell_type": "code",
   "execution_count": 10,
   "metadata": {
    "ExecuteTime": {
     "end_time": "2019-10-29T15:59:12.265329Z",
     "start_time": "2019-10-29T15:59:12.262139Z"
    }
   },
   "outputs": [
    {
     "data": {
      "text/plain": [
       "'/home/sabyasachi/Projects/ati/data/data/datasets/Carla/currentDataforCVPR/template0/dynamic/set5/groundTruthPose.csv'"
      ]
     },
     "execution_count": 10,
     "metadata": {},
     "output_type": "execute_result"
    }
   ],
   "source": [
    "fname"
   ]
  },
  {
   "cell_type": "code",
   "execution_count": null,
   "metadata": {},
   "outputs": [],
   "source": []
  }
 ],
 "metadata": {
  "kernelspec": {
   "display_name": "Python 3",
   "language": "python",
   "name": "python3"
  },
  "language_info": {
   "codemirror_mode": {
    "name": "ipython",
    "version": 3
   },
   "file_extension": ".py",
   "mimetype": "text/x-python",
   "name": "python",
   "nbconvert_exporter": "python",
   "pygments_lexer": "ipython3",
   "version": "3.7.3"
  },
  "toc": {
   "base_numbering": 1,
   "nav_menu": {},
   "number_sections": true,
   "sideBar": true,
   "skip_h1_title": false,
   "title_cell": "Table of Contents",
   "title_sidebar": "Contents",
   "toc_cell": false,
   "toc_position": {},
   "toc_section_display": true,
   "toc_window_display": false
  }
 },
 "nbformat": 4,
 "nbformat_minor": 2
}
