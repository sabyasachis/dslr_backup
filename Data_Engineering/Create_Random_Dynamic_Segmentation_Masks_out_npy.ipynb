{
 "cells": [
  {
   "cell_type": "code",
   "execution_count": 1,
   "metadata": {
    "ExecuteTime": {
     "end_time": "2020-03-05T16:48:37.829651Z",
     "start_time": "2020-03-05T16:48:37.535696Z"
    }
   },
   "outputs": [],
   "source": [
    "import pandas as pd\n",
    "import numpy as np\n",
    "import gc\n",
    "import os, shutil\n",
    "from tqdm import tqdm_notebook"
   ]
  },
  {
   "cell_type": "code",
   "execution_count": 2,
   "metadata": {
    "ExecuteTime": {
     "end_time": "2020-03-05T16:48:37.834283Z",
     "start_time": "2020-03-05T16:48:37.831578Z"
    }
   },
   "outputs": [],
   "source": [
    "NPY_PATH = \"/home/saby/Projects/ati/data/data/datasets/Carla/64beam-Data/dynamic/6/_segment_out_npy/0.npy\"\n",
    "DYNAMISM_THRESHOLD = 0.5\n",
    "assert DYNAMISM_THRESHOLD >= 0.01 and DYNAMISM_THRESHOLD <= 1\n",
    "OUTPUT_PATH = \"/home/saby/Projects/ati/data/data/datasets/Carla/64beam-Data/dynamic/6/_random_angle_\" + str(DYNAMISM_THRESHOLD) + \"_out_npy\"\n",
    "if not os.path.exists(OUTPUT_PATH):\n",
    "    os.makedirs(OUTPUT_PATH)\n",
    "else:\n",
    "    shutil.rmtree(OUTPUT_PATH)\n",
    "    os.makedirs(OUTPUT_PATH)\n",
    "OUTPUT_FILE_PATH = os.path.join(OUTPUT_PATH, \"0.npy\")"
   ]
  },
  {
   "cell_type": "code",
   "execution_count": 3,
   "metadata": {
    "ExecuteTime": {
     "end_time": "2020-03-05T16:48:41.170052Z",
     "start_time": "2020-03-05T16:48:37.835815Z"
    }
   },
   "outputs": [],
   "source": [
    "npy_arr = np.load(NPY_PATH)"
   ]
  },
  {
   "cell_type": "code",
   "execution_count": 4,
   "metadata": {
    "ExecuteTime": {
     "end_time": "2020-03-05T16:48:41.180570Z",
     "start_time": "2020-03-05T16:48:41.171730Z"
    }
   },
   "outputs": [
    {
     "data": {
      "text/plain": [
       "(6293, 64, 1024, 4)"
      ]
     },
     "execution_count": 4,
     "metadata": {},
     "output_type": "execute_result"
    }
   ],
   "source": [
    "npy_arr.shape"
   ]
  },
  {
   "cell_type": "raw",
   "metadata": {
    "ExecuteTime": {
     "end_time": "2020-03-05T15:49:38.918135Z",
     "start_time": "2020-03-05T15:49:38.914663Z"
    }
   },
   "source": [
    "img_arr = npy_arr[0,:,:,:3]\n",
    "img_arr.shape"
   ]
  },
  {
   "cell_type": "code",
   "execution_count": 5,
   "metadata": {
    "ExecuteTime": {
     "end_time": "2020-03-05T16:48:41.184935Z",
     "start_time": "2020-03-05T16:48:41.182123Z"
    }
   },
   "outputs": [],
   "source": [
    "N_COLS = npy_arr.shape[2]"
   ]
  },
  {
   "cell_type": "code",
   "execution_count": 6,
   "metadata": {
    "ExecuteTime": {
     "end_time": "2020-03-05T16:48:41.193277Z",
     "start_time": "2020-03-05T16:48:41.186268Z"
    }
   },
   "outputs": [
    {
     "data": {
      "text/plain": [
       "(8,)"
      ]
     },
     "execution_count": 6,
     "metadata": {},
     "output_type": "execute_result"
    }
   ],
   "source": [
    "start_idx_arr = np.arange(0, N_COLS, int(N_COLS/8))\n",
    "start_idx_arr.shape"
   ]
  },
  {
   "cell_type": "code",
   "execution_count": 7,
   "metadata": {
    "ExecuteTime": {
     "end_time": "2020-03-05T16:48:41.199891Z",
     "start_time": "2020-03-05T16:48:41.196164Z"
    }
   },
   "outputs": [
    {
     "data": {
      "text/plain": [
       "512"
      ]
     },
     "execution_count": 7,
     "metadata": {},
     "output_type": "execute_result"
    }
   ],
   "source": [
    "N_DEL_COLS = int(DYNAMISM_THRESHOLD * N_COLS)\n",
    "N_DEL_COLS"
   ]
  },
  {
   "cell_type": "code",
   "execution_count": 8,
   "metadata": {
    "ExecuteTime": {
     "end_time": "2020-03-05T16:48:41.205551Z",
     "start_time": "2020-03-05T16:48:41.202049Z"
    }
   },
   "outputs": [
    {
     "data": {
      "text/plain": [
       "65"
      ]
     },
     "execution_count": 8,
     "metadata": {},
     "output_type": "execute_result"
    }
   ],
   "source": [
    "del_offset = int(N_DEL_COLS / start_idx_arr.shape[0])+1\n",
    "del_offset"
   ]
  },
  {
   "cell_type": "code",
   "execution_count": 9,
   "metadata": {
    "ExecuteTime": {
     "end_time": "2020-03-05T16:48:41.210662Z",
     "start_time": "2020-03-05T16:48:41.207127Z"
    }
   },
   "outputs": [
    {
     "data": {
      "text/plain": [
       "(8,)"
      ]
     },
     "execution_count": 9,
     "metadata": {},
     "output_type": "execute_result"
    }
   ],
   "source": [
    "end_idx_arr = start_idx_arr + del_offset\n",
    "end_idx_arr.shape"
   ]
  },
  {
   "cell_type": "code",
   "execution_count": 10,
   "metadata": {
    "ExecuteTime": {
     "end_time": "2020-03-05T16:48:41.216889Z",
     "start_time": "2020-03-05T16:48:41.212239Z"
    },
    "scrolled": true
   },
   "outputs": [
    {
     "data": {
      "text/plain": [
       "520"
      ]
     },
     "execution_count": 10,
     "metadata": {},
     "output_type": "execute_result"
    }
   ],
   "source": [
    "idx_list = []\n",
    "for start_idx, end_idx in zip(start_idx_arr, end_idx_arr):\n",
    "    idx_list += list(range(start_idx, end_idx))\n",
    "len(idx_list)"
   ]
  },
  {
   "cell_type": "code",
   "execution_count": 11,
   "metadata": {
    "ExecuteTime": {
     "end_time": "2020-03-05T16:48:41.222286Z",
     "start_time": "2020-03-05T16:48:41.218654Z"
    }
   },
   "outputs": [
    {
     "data": {
      "text/plain": [
       "8"
      ]
     },
     "execution_count": 11,
     "metadata": {},
     "output_type": "execute_result"
    }
   ],
   "source": [
    "np.abs(N_DEL_COLS-len(idx_list))"
   ]
  },
  {
   "cell_type": "code",
   "execution_count": 12,
   "metadata": {
    "ExecuteTime": {
     "end_time": "2020-03-05T16:48:41.226293Z",
     "start_time": "2020-03-05T16:48:41.223805Z"
    }
   },
   "outputs": [],
   "source": [
    "assert np.abs(N_DEL_COLS-len(idx_list)) <= 10"
   ]
  },
  {
   "cell_type": "code",
   "execution_count": 13,
   "metadata": {
    "ExecuteTime": {
     "end_time": "2020-03-05T16:48:43.936441Z",
     "start_time": "2020-03-05T16:48:41.227806Z"
    }
   },
   "outputs": [],
   "source": [
    "npy_arr[:,:,idx_list,3] = 1"
   ]
  },
  {
   "cell_type": "code",
   "execution_count": null,
   "metadata": {
    "ExecuteTime": {
     "end_time": "2020-03-05T16:33:02.484013Z",
     "start_time": "2020-03-05T16:32:11.298253Z"
    }
   },
   "outputs": [],
   "source": [
    "np.save(OUTPUT_FILE_PATH, npy_arr)"
   ]
  },
  {
   "cell_type": "code",
   "execution_count": 14,
   "metadata": {
    "ExecuteTime": {
     "end_time": "2020-03-05T16:48:43.941643Z",
     "start_time": "2020-03-05T16:48:43.937875Z"
    }
   },
   "outputs": [
    {
     "data": {
      "text/plain": [
       "(6293, 64, 1024, 4)"
      ]
     },
     "execution_count": 14,
     "metadata": {},
     "output_type": "execute_result"
    }
   ],
   "source": [
    "npy_arr.shape"
   ]
  },
  {
   "cell_type": "code",
   "execution_count": 15,
   "metadata": {
    "ExecuteTime": {
     "end_time": "2020-03-05T16:48:43.950416Z",
     "start_time": "2020-03-05T16:48:43.944321Z"
    }
   },
   "outputs": [
    {
     "data": {
      "text/plain": [
       "(64, 1024, 4)"
      ]
     },
     "execution_count": 15,
     "metadata": {},
     "output_type": "execute_result"
    }
   ],
   "source": [
    "img_arr = npy_arr[10]\n",
    "img_arr.shape"
   ]
  },
  {
   "cell_type": "code",
   "execution_count": 16,
   "metadata": {
    "ExecuteTime": {
     "end_time": "2020-03-05T16:48:44.368562Z",
     "start_time": "2020-03-05T16:48:43.952866Z"
    }
   },
   "outputs": [],
   "source": [
    "import open3d as o3d"
   ]
  },
  {
   "cell_type": "code",
   "execution_count": 17,
   "metadata": {
    "ExecuteTime": {
     "end_time": "2020-03-05T16:48:44.374290Z",
     "start_time": "2020-03-05T16:48:44.370192Z"
    }
   },
   "outputs": [
    {
     "data": {
      "text/plain": [
       "(65536, 3)"
      ]
     },
     "execution_count": 17,
     "metadata": {},
     "output_type": "execute_result"
    }
   ],
   "source": [
    "pts_arr = img_arr[:,:,:3].reshape((-1,3))\n",
    "pts_arr.shape"
   ]
  },
  {
   "cell_type": "code",
   "execution_count": 18,
   "metadata": {
    "ExecuteTime": {
     "end_time": "2020-03-05T16:48:44.379054Z",
     "start_time": "2020-03-05T16:48:44.375540Z"
    }
   },
   "outputs": [
    {
     "data": {
      "text/plain": [
       "(64, 1024, 1)"
      ]
     },
     "execution_count": 18,
     "metadata": {},
     "output_type": "execute_result"
    }
   ],
   "source": [
    "clr_arr = np.expand_dims(img_arr[:,:,3], axis=-1)\n",
    "clr_arr.shape"
   ]
  },
  {
   "cell_type": "code",
   "execution_count": 19,
   "metadata": {
    "ExecuteTime": {
     "end_time": "2020-03-05T16:48:44.385733Z",
     "start_time": "2020-03-05T16:48:44.380289Z"
    }
   },
   "outputs": [
    {
     "data": {
      "text/plain": [
       "(65536, 3)"
      ]
     },
     "execution_count": 19,
     "metadata": {},
     "output_type": "execute_result"
    }
   ],
   "source": [
    "clr_arr = np.concatenate((clr_arr, np.zeros(clr_arr.shape), np.zeros(clr_arr.shape)), axis=-1).reshape((-1,3))\n",
    "clr_arr.shape"
   ]
  },
  {
   "cell_type": "code",
   "execution_count": 20,
   "metadata": {
    "ExecuteTime": {
     "end_time": "2020-03-05T16:48:44.393990Z",
     "start_time": "2020-03-05T16:48:44.387046Z"
    }
   },
   "outputs": [
    {
     "data": {
      "text/plain": [
       "geometry::PointCloud with 65536 points."
      ]
     },
     "execution_count": 20,
     "metadata": {},
     "output_type": "execute_result"
    }
   ],
   "source": [
    "this_pcd = o3d.geometry.PointCloud()\n",
    "this_pcd.points = o3d.utility.Vector3dVector(pts_arr)\n",
    "this_pcd.colors = o3d.utility.Vector3dVector(clr_arr)\n",
    "this_pcd"
   ]
  },
  {
   "cell_type": "code",
   "execution_count": 21,
   "metadata": {
    "ExecuteTime": {
     "end_time": "2020-03-05T16:48:44.401034Z",
     "start_time": "2020-03-05T16:48:44.395404Z"
    }
   },
   "outputs": [],
   "source": [
    "def draw_pcd(pcd, where='opn_nb'):\n",
    "    if where is 'opn_nb':\n",
    "        visualizer = o3d.JVisualizer()\n",
    "        visualizer.add_geometry(pcd)\n",
    "        visualizer.show()\n",
    "    elif where is 'opn_view':\n",
    "        o3d.visualization.draw_geometries([pcd], width=1280, height=800)\n",
    "    elif where is 'mat_3d':\n",
    "        plt.figure()\n",
    "        pts = np.asarray(pcd.points)\n",
    "        plt.scatter(pts[:,0], pts[:,1], pts[:,2])\n",
    "        plt.grid()\n",
    "        plt.show()\n",
    "    elif where is 'mat_2d':\n",
    "        plt.figure()\n",
    "        pts = np.asarray(pcd.points)\n",
    "        plt.scatter(pts[:,0], pts[:,1])\n",
    "        plt.grid()\n",
    "        plt.show()"
   ]
  },
  {
   "cell_type": "code",
   "execution_count": 22,
   "metadata": {
    "ExecuteTime": {
     "end_time": "2020-03-05T16:48:45.855695Z",
     "start_time": "2020-03-05T16:48:44.403319Z"
    }
   },
   "outputs": [
    {
     "data": {
      "application/vnd.jupyter.widget-view+json": {
       "model_id": "87ef75e57e2d4d79a8087985a40e8f67",
       "version_major": 2,
       "version_minor": 0
      },
      "text/plain": [
       "JVisualizer with 1 geometries"
      ]
     },
     "metadata": {},
     "output_type": "display_data"
    }
   ],
   "source": [
    "draw_pcd(this_pcd)"
   ]
  },
  {
   "cell_type": "code",
   "execution_count": null,
   "metadata": {},
   "outputs": [],
   "source": []
  }
 ],
 "metadata": {
  "kernelspec": {
   "display_name": "Python 3",
   "language": "python",
   "name": "python3"
  },
  "language_info": {
   "codemirror_mode": {
    "name": "ipython",
    "version": 3
   },
   "file_extension": ".py",
   "mimetype": "text/x-python",
   "name": "python",
   "nbconvert_exporter": "python",
   "pygments_lexer": "ipython3",
   "version": "3.6.10"
  },
  "toc": {
   "base_numbering": 1,
   "nav_menu": {},
   "number_sections": true,
   "sideBar": true,
   "skip_h1_title": false,
   "title_cell": "Table of Contents",
   "title_sidebar": "Contents",
   "toc_cell": false,
   "toc_position": {},
   "toc_section_display": true,
   "toc_window_display": false
  }
 },
 "nbformat": 4,
 "nbformat_minor": 4
}
