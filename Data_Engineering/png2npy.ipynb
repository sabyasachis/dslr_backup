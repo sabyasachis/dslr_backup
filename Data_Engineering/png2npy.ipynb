{
 "cells": [
  {
   "cell_type": "code",
   "execution_count": 1,
   "metadata": {
    "ExecuteTime": {
     "end_time": "2020-09-05T14:44:12.428778Z",
     "start_time": "2020-09-05T14:44:10.430730Z"
    }
   },
   "outputs": [],
   "source": [
    "import numpy as np\n",
    "import open3d as o3d\n",
    "from tqdm import tqdm_notebook\n",
    "import os, sys, shutil\n",
    "import matplotlib.pyplot as plt\n",
    "import cv2"
   ]
  },
  {
   "cell_type": "code",
   "execution_count": 2,
   "metadata": {
    "ExecuteTime": {
     "end_time": "2020-09-05T14:44:12.433591Z",
     "start_time": "2020-09-05T14:44:12.430841Z"
    }
   },
   "outputs": [],
   "source": [
    "IMG_FOLDER_PATH = \"/home/saby/Projects/ati/data/data/datasets/Carla/64beam-Data/pair_transform_dynseg_all/emptycities_preprocess/test/rs_img_40_512/\""
   ]
  },
  {
   "cell_type": "code",
   "execution_count": 3,
   "metadata": {
    "ExecuteTime": {
     "end_time": "2020-09-05T14:44:12.451424Z",
     "start_time": "2020-09-05T14:44:12.436770Z"
    }
   },
   "outputs": [],
   "source": [
    "def linear_transform(sample_img, A=0, B=255, a=-1, b=1):\n",
    "    mul_fact = (b-a)/(B-A)\n",
    "    sub_fact = A\n",
    "    add_fact = a\n",
    "    out_img = (sample_img-sub_fact)*mul_fact + add_fact\n",
    "    return out_img\n",
    "\n",
    "def to_polar_np(velo):\n",
    "    if len(velo.shape) == 4:\n",
    "        velo = velo.transpose(1, 2, 3, 0)\n",
    "\n",
    "    if velo.shape[2] > 4:\n",
    "        assert velo.shape[0] <= 4\n",
    "        velo = velo.transpose(1, 2, 0, 3)\n",
    "        switch=True\n",
    "    else:\n",
    "        switch=False\n",
    "    \n",
    "    # assumes r x n/r x (3,4) velo\n",
    "    dist = np.sqrt(velo[:, :, 0] ** 2 + velo[:, :, 1] ** 2)\n",
    "    # theta = np.arctan2(velo[:, 1], velo[:, 0])\n",
    "    out = np.stack([dist, velo[:, :, 2]], axis=2)\n",
    "    \n",
    "    if switch:\n",
    "        out = out.transpose(2, 0, 1, 3)\n",
    "\n",
    "    if len(velo.shape) == 4: \n",
    "        out = out.transpose(3, 0, 1, 2)\n",
    "    \n",
    "    return out\n",
    "\n",
    "def getint(name):\n",
    "    try:\n",
    "        return int(name.split('.')[0])\n",
    "    except Exception as e:\n",
    "        print(\"Error occured while trying to read {}\".format(name))\n",
    "    return None"
   ]
  },
  {
   "cell_type": "code",
   "execution_count": 4,
   "metadata": {
    "ExecuteTime": {
     "end_time": "2020-09-05T14:44:13.111738Z",
     "start_time": "2020-09-05T14:44:12.454350Z"
    }
   },
   "outputs": [
    {
     "name": "stderr",
     "output_type": "stream",
     "text": [
      "/home/saby/anaconda3/envs/ati/lib/python3.6/site-packages/ipykernel_launcher.py:2: TqdmDeprecationWarning: This function will be removed in tqdm==5.0.0\n",
      "Please use `tqdm.notebook.tqdm` instead of `tqdm.tqdm_notebook`\n",
      "  \n"
     ]
    },
    {
     "data": {
      "application/vnd.jupyter.widget-view+json": {
       "model_id": "8b6111af41294eb5bac00f6beca2f352",
       "version_major": 2,
       "version_minor": 0
      },
      "text/plain": [
       "HBox(children=(FloatProgress(value=0.0, max=1274.0), HTML(value='')))"
      ]
     },
     "metadata": {},
     "output_type": "display_data"
    },
    {
     "name": "stdout",
     "output_type": "stream",
     "text": [
      "\n"
     ]
    }
   ],
   "source": [
    "img_list = []\n",
    "for file in tqdm_notebook(sorted(os.listdir(IMG_FOLDER_PATH), key=getint)):\n",
    "    img_arr = cv2.imread(os.path.join(IMG_FOLDER_PATH, file))\n",
    "    temp_arr = np.concatenate([img_arr[:,:,2:3], img_arr[:,:,1:2], img_arr[:,:,0:1]], axis=-1)\n",
    "    img_list.append(temp_arr)"
   ]
  },
  {
   "cell_type": "code",
   "execution_count": 5,
   "metadata": {
    "ExecuteTime": {
     "end_time": "2020-09-05T14:44:13.134257Z",
     "start_time": "2020-09-05T14:44:13.113259Z"
    }
   },
   "outputs": [
    {
     "data": {
      "text/plain": [
       "(1274, 40, 512, 3)"
      ]
     },
     "execution_count": 5,
     "metadata": {},
     "output_type": "execute_result"
    }
   ],
   "source": [
    "img_list_arr = np.array(img_list)\n",
    "img_list_arr.shape"
   ]
  },
  {
   "cell_type": "code",
   "execution_count": 6,
   "metadata": {
    "ExecuteTime": {
     "end_time": "2020-09-05T14:44:13.142650Z",
     "start_time": "2020-09-05T14:44:13.136510Z"
    }
   },
   "outputs": [
    {
     "data": {
      "text/plain": [
       "(1274, 3, 40, 512)"
      ]
     },
     "execution_count": 6,
     "metadata": {},
     "output_type": "execute_result"
    }
   ],
   "source": [
    "img_transposed_arr = img_list_arr.transpose(0, 3, 1, 2)\n",
    "img_transposed_arr.shape"
   ]
  },
  {
   "cell_type": "code",
   "execution_count": 7,
   "metadata": {
    "ExecuteTime": {
     "end_time": "2020-09-05T14:44:13.375299Z",
     "start_time": "2020-09-05T14:44:13.145427Z"
    }
   },
   "outputs": [
    {
     "data": {
      "text/plain": [
       "(1274, 3, 40, 512)"
      ]
     },
     "execution_count": 7,
     "metadata": {},
     "output_type": "execute_result"
    }
   ],
   "source": [
    "img_orig_arr = linear_transform(img_transposed_arr)\n",
    "img_orig_arr.shape"
   ]
  },
  {
   "cell_type": "code",
   "execution_count": 8,
   "metadata": {
    "ExecuteTime": {
     "end_time": "2020-09-05T14:44:13.726141Z",
     "start_time": "2020-09-05T14:44:13.376849Z"
    }
   },
   "outputs": [
    {
     "data": {
      "text/plain": [
       "(1274, 4, 40, 512)"
      ]
     },
     "execution_count": 8,
     "metadata": {},
     "output_type": "execute_result"
    }
   ],
   "source": [
    "img_size = img_orig_arr.shape\n",
    "npy_3d_arr = np.concatenate([img_orig_arr, np.zeros((img_size[0],1, img_size[2],img_size[3]))], axis=1)\n",
    "npy_3d_arr.shape"
   ]
  },
  {
   "cell_type": "code",
   "execution_count": 9,
   "metadata": {
    "ExecuteTime": {
     "end_time": "2020-09-05T14:44:14.178015Z",
     "start_time": "2020-09-05T14:44:13.727547Z"
    }
   },
   "outputs": [
    {
     "data": {
      "text/plain": [
       "(1274, 2, 40, 512)"
      ]
     },
     "execution_count": 9,
     "metadata": {},
     "output_type": "execute_result"
    }
   ],
   "source": [
    "npy_2d_arr = to_polar_np(npy_3d_arr.transpose(0,2,3,1)).transpose(0, 3, 1, 2)\n",
    "npy_2d_arr.shape"
   ]
  },
  {
   "cell_type": "code",
   "execution_count": 10,
   "metadata": {
    "ExecuteTime": {
     "end_time": "2020-09-05T14:44:15.782347Z",
     "start_time": "2020-09-05T14:44:14.179414Z"
    }
   },
   "outputs": [],
   "source": [
    "np.save(os.path.join(\"/home/saby/Projects/ati/data/data/datasets/Carla/64beam-Data/pair_transform_dynseg_all/emptycities_preprocess/test/rs\", \"emptycities_testrs15.npy\"), npy_2d_arr)"
   ]
  },
  {
   "cell_type": "code",
   "execution_count": null,
   "metadata": {},
   "outputs": [],
   "source": []
  }
 ],
 "metadata": {
  "kernelspec": {
   "display_name": "Python 3",
   "language": "python",
   "name": "python3"
  },
  "language_info": {
   "codemirror_mode": {
    "name": "ipython",
    "version": 3
   },
   "file_extension": ".py",
   "mimetype": "text/x-python",
   "name": "python",
   "nbconvert_exporter": "python",
   "pygments_lexer": "ipython3",
   "version": "3.6.10"
  },
  "toc": {
   "base_numbering": 1,
   "nav_menu": {},
   "number_sections": true,
   "sideBar": true,
   "skip_h1_title": false,
   "title_cell": "Table of Contents",
   "title_sidebar": "Contents",
   "toc_cell": false,
   "toc_position": {},
   "toc_section_display": true,
   "toc_window_display": false
  }
 },
 "nbformat": 4,
 "nbformat_minor": 4
}
