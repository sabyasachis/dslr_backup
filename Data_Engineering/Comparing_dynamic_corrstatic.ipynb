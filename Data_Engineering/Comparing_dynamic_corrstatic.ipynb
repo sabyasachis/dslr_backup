{
 "cells": [
  {
   "cell_type": "code",
   "execution_count": 22,
   "metadata": {
    "ExecuteTime": {
     "end_time": "2020-01-29T10:40:40.921977Z",
     "start_time": "2020-01-29T10:40:40.113389Z"
    }
   },
   "outputs": [],
   "source": [
    "import pandas as pd\n",
    "import numpy as np\n",
    "import gc\n",
    "from tqdm import tqdm_notebook\n",
    "import os\n",
    "import open3d as o3d\n",
    "import pickle\n",
    "import matplotlib.pyplot as plt"
   ]
  },
  {
   "cell_type": "code",
   "execution_count": 23,
   "metadata": {
    "ExecuteTime": {
     "end_time": "2020-01-29T10:41:02.983294Z",
     "start_time": "2020-01-29T10:41:02.926406Z"
    }
   },
   "outputs": [],
   "source": [
    "%matplotlib notebook"
   ]
  },
  {
   "cell_type": "code",
   "execution_count": 5,
   "metadata": {
    "ExecuteTime": {
     "end_time": "2020-01-29T10:34:26.611276Z",
     "start_time": "2020-01-29T10:34:26.606533Z"
    }
   },
   "outputs": [],
   "source": [
    "TRAINING_DATA_PATH = \"/home/sabyasachi/Projects/ati/ati_motors/adversarial_based/training_data/small_map/dynamic_high_med\"\n",
    "DYNAMIC_FOLDER = \"dynamic_prepreprocess_dir\"\n",
    "STATIC_FOLDER = \"static_prepreprocess_dir\"\n",
    "\n",
    "DYNAMIC_PATH = os.path.join(TRAINING_DATA_PATH, DYNAMIC_FOLDER)\n",
    "STATIC_PATH = os.path.join(TRAINING_DATA_PATH, STATIC_FOLDER)"
   ]
  },
  {
   "cell_type": "code",
   "execution_count": 9,
   "metadata": {
    "ExecuteTime": {
     "end_time": "2020-01-29T10:35:02.980598Z",
     "start_time": "2020-01-29T10:35:02.961844Z"
    }
   },
   "outputs": [],
   "source": [
    "dynamic_files = sorted(os.listdir(DYNAMIC_PATH))\n",
    "static_files = sorted(os.listdir(STATIC_PATH))"
   ]
  },
  {
   "cell_type": "code",
   "execution_count": 14,
   "metadata": {
    "ExecuteTime": {
     "end_time": "2020-01-29T10:38:02.203293Z",
     "start_time": "2020-01-29T10:37:49.394735Z"
    }
   },
   "outputs": [],
   "source": [
    "with open(os.path.join(DYNAMIC_PATH, dynamic_files[-1]), 'rb') as pkl_file:\n",
    "    dynamic_arr = pickle.load(pkl_file)\n",
    "        \n",
    "with open(os.path.join(STATIC_PATH, static_files[-1]), 'rb') as pkl_file:\n",
    "    static_arr = pickle.load(pkl_file)"
   ]
  },
  {
   "cell_type": "code",
   "execution_count": 15,
   "metadata": {
    "ExecuteTime": {
     "end_time": "2020-01-29T10:38:07.110465Z",
     "start_time": "2020-01-29T10:38:07.104857Z"
    }
   },
   "outputs": [
    {
     "data": {
      "text/plain": [
       "((4458, 2, 16, 1024), (4458, 2, 16, 1024))"
      ]
     },
     "execution_count": 15,
     "metadata": {},
     "output_type": "execute_result"
    }
   ],
   "source": [
    "dynamic_arr.shape, static_arr.shape"
   ]
  },
  {
   "cell_type": "code",
   "execution_count": 17,
   "metadata": {
    "ExecuteTime": {
     "end_time": "2020-01-29T10:38:52.130970Z",
     "start_time": "2020-01-29T10:38:51.689909Z"
    }
   },
   "outputs": [
    {
     "data": {
      "text/plain": [
       "(4458, 2, 16, 1024)"
      ]
     },
     "execution_count": 17,
     "metadata": {},
     "output_type": "execute_result"
    }
   ],
   "source": [
    "diff_arr = np.abs(dynamic_arr - static_arr)\n",
    "diff_arr.shape"
   ]
  },
  {
   "cell_type": "code",
   "execution_count": 19,
   "metadata": {
    "ExecuteTime": {
     "end_time": "2020-01-29T10:39:29.791344Z",
     "start_time": "2020-01-29T10:39:29.784625Z"
    }
   },
   "outputs": [
    {
     "data": {
      "text/plain": [
       "(2, 16, 1024)"
      ]
     },
     "execution_count": 19,
     "metadata": {},
     "output_type": "execute_result"
    }
   ],
   "source": [
    "diff_img = diff_arr[0]\n",
    "diff_img.shape"
   ]
  },
  {
   "cell_type": "code",
   "execution_count": 21,
   "metadata": {
    "ExecuteTime": {
     "end_time": "2020-01-29T10:40:05.253420Z",
     "start_time": "2020-01-29T10:40:05.249179Z"
    }
   },
   "outputs": [
    {
     "data": {
      "text/plain": [
       "(32768,)"
      ]
     },
     "execution_count": 21,
     "metadata": {},
     "output_type": "execute_result"
    }
   ],
   "source": [
    "diff_img.flatten()"
   ]
  },
  {
   "cell_type": "code",
   "execution_count": 34,
   "metadata": {
    "ExecuteTime": {
     "end_time": "2020-01-29T14:07:35.440940Z",
     "start_time": "2020-01-29T14:07:35.434737Z"
    }
   },
   "outputs": [
    {
     "data": {
      "text/plain": [
       "10511"
      ]
     },
     "execution_count": 34,
     "metadata": {},
     "output_type": "execute_result"
    }
   ],
   "source": [
    "np.array(diff_img.flatten()>0.01).sum()"
   ]
  },
  {
   "cell_type": "code",
   "execution_count": 39,
   "metadata": {
    "ExecuteTime": {
     "end_time": "2020-01-29T14:16:29.723599Z",
     "start_time": "2020-01-29T14:16:29.716982Z"
    }
   },
   "outputs": [
    {
     "data": {
      "text/plain": [
       "(16, 1024)"
      ]
     },
     "execution_count": 39,
     "metadata": {},
     "output_type": "execute_result"
    }
   ],
   "source": [
    "diff_img[0].shape"
   ]
  },
  {
   "cell_type": "code",
   "execution_count": null,
   "metadata": {},
   "outputs": [],
   "source": []
  },
  {
   "cell_type": "code",
   "execution_count": null,
   "metadata": {},
   "outputs": [],
   "source": []
  },
  {
   "cell_type": "code",
   "execution_count": null,
   "metadata": {},
   "outputs": [],
   "source": []
  },
  {
   "cell_type": "code",
   "execution_count": null,
   "metadata": {},
   "outputs": [],
   "source": []
  },
  {
   "cell_type": "code",
   "execution_count": null,
   "metadata": {},
   "outputs": [],
   "source": []
  },
  {
   "cell_type": "code",
   "execution_count": null,
   "metadata": {},
   "outputs": [],
   "source": []
  },
  {
   "cell_type": "code",
   "execution_count": null,
   "metadata": {},
   "outputs": [],
   "source": []
  },
  {
   "cell_type": "code",
   "execution_count": null,
   "metadata": {},
   "outputs": [],
   "source": []
  },
  {
   "cell_type": "code",
   "execution_count": null,
   "metadata": {},
   "outputs": [],
   "source": []
  },
  {
   "cell_type": "code",
   "execution_count": null,
   "metadata": {},
   "outputs": [],
   "source": []
  },
  {
   "cell_type": "code",
   "execution_count": null,
   "metadata": {},
   "outputs": [],
   "source": []
  },
  {
   "cell_type": "code",
   "execution_count": null,
   "metadata": {},
   "outputs": [],
   "source": []
  },
  {
   "cell_type": "code",
   "execution_count": null,
   "metadata": {},
   "outputs": [],
   "source": []
  },
  {
   "cell_type": "code",
   "execution_count": null,
   "metadata": {},
   "outputs": [],
   "source": []
  }
 ],
 "metadata": {
  "kernelspec": {
   "display_name": "Python 3",
   "language": "python",
   "name": "python3"
  },
  "language_info": {
   "codemirror_mode": {
    "name": "ipython",
    "version": 3
   },
   "file_extension": ".py",
   "mimetype": "text/x-python",
   "name": "python",
   "nbconvert_exporter": "python",
   "pygments_lexer": "ipython3",
   "version": "3.6.10"
  },
  "toc": {
   "base_numbering": 1,
   "nav_menu": {},
   "number_sections": true,
   "sideBar": true,
   "skip_h1_title": false,
   "title_cell": "Table of Contents",
   "title_sidebar": "Contents",
   "toc_cell": false,
   "toc_position": {},
   "toc_section_display": true,
   "toc_window_display": false
  }
 },
 "nbformat": 4,
 "nbformat_minor": 2
}
