{
 "cells": [
  {
   "cell_type": "code",
   "execution_count": 1,
   "metadata": {
    "ExecuteTime": {
     "end_time": "2020-09-05T17:39:34.111781Z",
     "start_time": "2020-09-05T17:39:33.071673Z"
    }
   },
   "outputs": [],
   "source": [
    "import numpy as np\n",
    "import open3d as o3d\n",
    "from tqdm import tqdm_notebook\n",
    "import os, sys, shutil\n",
    "import matplotlib.pyplot as plt\n",
    "import pandas as pd\n",
    "import cv2"
   ]
  },
  {
   "cell_type": "code",
   "execution_count": 2,
   "metadata": {
    "ExecuteTime": {
     "end_time": "2020-09-05T17:39:35.848674Z",
     "start_time": "2020-09-05T17:39:35.842605Z"
    }
   },
   "outputs": [],
   "source": [
    "BASE_PATH = \"/home/saby/Projects/ati/data/data/datasets/Carla/64beam-Data/pair_transform_dynseg_all/emptycities_preprocess/test/\"\n",
    "\n",
    "FOLDER = \"d\"\n",
    "# OUTPUT_FOLDER = \"d_img_40_512\"\n",
    "IS_MASK = False\n",
    "\n",
    "# STATIC_PATH  = os.path.join(BASE_PATH, STATIC_FOLDER)\n",
    "FOLDER_PATH = os.path.join(BASE_PATH, FOLDER)\n",
    "# OUTPUT_FOLDER_PATH = os.path.join(BASE_PATH, OUTPUT_FOLDER)\n",
    "# if not os.path.exists(OUTPUT_FOLDER_PATH):\n",
    "#     os.makedirs(OUTPUT_FOLDER_PATH)\n",
    "# else:\n",
    "#     shutil.rmtree(OUTPUT_FOLDER_PATH)\n",
    "#     os.makedirs(OUTPUT_FOLDER_PATH)"
   ]
  },
  {
   "cell_type": "code",
   "execution_count": 3,
   "metadata": {
    "ExecuteTime": {
     "end_time": "2020-09-05T17:39:39.265362Z",
     "start_time": "2020-09-05T17:39:39.241253Z"
    },
    "code_folding": []
   },
   "outputs": [],
   "source": [
    "def from_polar_np(velo):\n",
    "    angles = np.linspace(0, np.pi * 2, velo.shape[-1])\n",
    "    dist, z = velo[:, 0], velo[:, 1]\n",
    "    x = np.cos(angles) * dist\n",
    "    y = np.sin(angles) * dist\n",
    "    out = np.stack([x,y,z], axis=1)\n",
    "    return out.astype('float32')\n",
    "\n",
    "def linear_transform(sample_img, A=-1, B=1, a=0, b=255):\n",
    "    mul_fact = (b-a)/(B-A)\n",
    "    sub_fact = A\n",
    "    add_fact = a\n",
    "    out_img = (sample_img-sub_fact)*mul_fact + add_fact\n",
    "    return out_img\n",
    "\n",
    "def get_rgb_from_img(img, is_mask=IS_MASK):\n",
    "    shp = img.shape\n",
    "    if not is_mask:\n",
    "        img = img.reshape(1, shp[0], shp[1], shp[2])\n",
    "        frame_untransformed = from_polar_np(img)[0]\n",
    "    else:\n",
    "        replicate = img[1].reshape(1,shp[1], shp[2]) # dim 1 is dynamic in the mask npy\n",
    "        frame_untransformed = np.concatenate([replicate, replicate, replicate])\n",
    "        \n",
    "    frame = linear_transform(frame_untransformed)\n",
    "    frame_img = frame.transpose(1,2,0).astype(\"uint8\")\n",
    "    return frame_img\n",
    "\n",
    "def draw_pcd(pcd, where='mat_3d'):\n",
    "    if where is 'opn_nb':\n",
    "        visualizer = o3d.JVisualizer()\n",
    "        visualizer.add_geometry(pcd)\n",
    "        visualizer.show()\n",
    "    elif where is 'opn_view':\n",
    "        o3d.visualization.draw_geometries([pcd], width=1280, height=800)\n",
    "    elif where is 'mat_3d':\n",
    "        plt.figure()\n",
    "        pts = np.asarray(pcd.points)\n",
    "        plt.scatter(pts[:,0], pts[:,1], pts[:,2])\n",
    "        plt.grid()\n",
    "        plt.show()\n",
    "    elif where is 'mat_2d':\n",
    "        plt.figure()\n",
    "        pts = np.asarray(pcd.points)\n",
    "        plt.scatter(pts[:,0], pts[:,1])\n",
    "        plt.grid()\n",
    "        plt.show()\n",
    "        \n",
    "def getint(name):\n",
    "    try:\n",
    "        return int(name.split('.')[0])\n",
    "    except Exception as e:\n",
    "        print(\"Error occured while trying to read {}\".format(name))\n",
    "    return None\n",
    "\n",
    "def get_pcd(idx, pcd_arr, mask_arr=None):\n",
    "    this_arr = pcd_arr[idx].reshape(3,-1).T\n",
    "    this_pcd = o3d.geometry.PointCloud()\n",
    "    this_pcd.points = o3d.utility.Vector3dVector(this_arr)\n",
    "\n",
    "    if mask_arr is not None:\n",
    "        single_clr_arr = mask_arr[idx,1].reshape(1,-1)\n",
    "        clr_arr = np.concatenate([single_clr_arr, np.zeros(single_clr_arr.shape), np.zeros(single_clr_arr.shape)],axis=0).T\n",
    "        this_pcd.colors = o3d.utility.Vector3dVector(clr_arr)\n",
    "    return this_pcd"
   ]
  },
  {
   "cell_type": "code",
   "execution_count": null,
   "metadata": {},
   "outputs": [],
   "source": []
  },
  {
   "cell_type": "raw",
   "metadata": {
    "ExecuteTime": {
     "end_time": "2020-08-08T21:34:16.582945Z",
     "start_time": "2020-08-08T21:34:16.551133Z"
    }
   },
   "source": [
    "draw_pcd(get_pcd_from_img(npy_arr[0][:,5:45,::2][:,::5,::4]), where='opn_nb')"
   ]
  },
  {
   "cell_type": "markdown",
   "metadata": {},
   "source": [
    "1. Load npy"
   ]
  },
  {
   "cell_type": "code",
   "execution_count": 4,
   "metadata": {
    "ExecuteTime": {
     "end_time": "2020-09-05T17:39:44.916528Z",
     "start_time": "2020-09-05T17:39:41.853174Z"
    }
   },
   "outputs": [
    {
     "name": "stdout",
     "output_type": "stream",
     "text": [
      "Error occured while trying to read emptycities_testd15.npy\n",
      "emptycities_testd15.npy\n"
     ]
    },
    {
     "data": {
      "text/plain": [
       "(1274, 2, 64, 1024)"
      ]
     },
     "execution_count": 4,
     "metadata": {},
     "output_type": "execute_result"
    }
   ],
   "source": [
    "npy_file = sorted(os.listdir(FOLDER_PATH), key=getint)[0]\n",
    "print(npy_file)\n",
    "npy_path = os.path.join(FOLDER_PATH, npy_file)\n",
    "# npy_path = \"/home/saby/Projects/ati/data/data/datasets/Carla/64beam-Data/pair_transform_dynseg_all/emptycities_preprocess/test/rs/emptycities_out.npy\"\n",
    "npy_arr = np.load(npy_path)\n",
    "npy_arr.shape"
   ]
  },
  {
   "cell_type": "code",
   "execution_count": null,
   "metadata": {},
   "outputs": [],
   "source": []
  },
  {
   "cell_type": "markdown",
   "metadata": {},
   "source": [
    "2. Load one image from npy"
   ]
  },
  {
   "cell_type": "code",
   "execution_count": 5,
   "metadata": {
    "ExecuteTime": {
     "end_time": "2020-09-05T17:39:47.343593Z",
     "start_time": "2020-09-05T17:39:47.337243Z"
    }
   },
   "outputs": [
    {
     "data": {
      "text/plain": [
       "(2, 64, 1024)"
      ]
     },
     "execution_count": 5,
     "metadata": {},
     "output_type": "execute_result"
    }
   ],
   "source": [
    "img_arr = npy_arr[10]\n",
    "img_arr.shape"
   ]
  },
  {
   "cell_type": "code",
   "execution_count": 6,
   "metadata": {
    "ExecuteTime": {
     "end_time": "2020-09-05T17:39:50.365609Z",
     "start_time": "2020-09-05T17:39:49.541049Z"
    }
   },
   "outputs": [
    {
     "data": {
      "application/vnd.jupyter.widget-view+json": {
       "model_id": "ad8f1193686a407cbdfcb1917573fe0f",
       "version_major": 2,
       "version_minor": 0
      },
      "text/plain": [
       "JVisualizer with 1 geometries"
      ]
     },
     "metadata": {},
     "output_type": "display_data"
    }
   ],
   "source": [
    "temp_arr = from_polar_np(img_arr.reshape(1,img_arr.shape[0],img_arr.shape[1],img_arr.shape[2]))[0].reshape(3,-1).T\n",
    "temp_arr.shape\n",
    "\n",
    "temp_pcd = o3d.geometry.PointCloud()\n",
    "temp_pcd.points = o3d.utility.Vector3dVector(temp_arr)\n",
    "\n",
    "draw_pcd(temp_pcd, where='opn_nb')"
   ]
  },
  {
   "cell_type": "code",
   "execution_count": null,
   "metadata": {},
   "outputs": [],
   "source": []
  },
  {
   "cell_type": "markdown",
   "metadata": {},
   "source": [
    "3. Change to 40,512"
   ]
  },
  {
   "cell_type": "code",
   "execution_count": 7,
   "metadata": {
    "ExecuteTime": {
     "end_time": "2020-09-05T17:40:01.961366Z",
     "start_time": "2020-09-05T17:40:01.953969Z"
    }
   },
   "outputs": [
    {
     "data": {
      "text/plain": [
       "(2, 40, 512)"
      ]
     },
     "execution_count": 7,
     "metadata": {},
     "output_type": "execute_result"
    }
   ],
   "source": [
    "img_40_512_arr = img_arr[:,5:45,::2]\n",
    "img_40_512_arr.shape"
   ]
  },
  {
   "cell_type": "code",
   "execution_count": 8,
   "metadata": {
    "ExecuteTime": {
     "end_time": "2020-09-05T17:40:02.754986Z",
     "start_time": "2020-09-05T17:40:02.466931Z"
    }
   },
   "outputs": [
    {
     "data": {
      "application/vnd.jupyter.widget-view+json": {
       "model_id": "be1c542d4c044efbb6495002254054fe",
       "version_major": 2,
       "version_minor": 0
      },
      "text/plain": [
       "JVisualizer with 1 geometries"
      ]
     },
     "metadata": {},
     "output_type": "display_data"
    }
   ],
   "source": [
    "temp_arr = from_polar_np(img_40_512_arr.reshape(1,img_40_512_arr.shape[0],img_40_512_arr.shape[1],img_40_512_arr.shape[2]))[0].reshape(3,-1).T\n",
    "temp_arr.shape\n",
    "\n",
    "temp_pcd = o3d.geometry.PointCloud()\n",
    "temp_pcd.points = o3d.utility.Vector3dVector(temp_arr)\n",
    "\n",
    "draw_pcd(temp_pcd, where='opn_nb')"
   ]
  },
  {
   "cell_type": "code",
   "execution_count": null,
   "metadata": {},
   "outputs": [],
   "source": []
  },
  {
   "cell_type": "markdown",
   "metadata": {},
   "source": [
    "4 Change to 3d"
   ]
  },
  {
   "cell_type": "code",
   "execution_count": 9,
   "metadata": {
    "ExecuteTime": {
     "end_time": "2020-09-05T17:40:20.051478Z",
     "start_time": "2020-09-05T17:40:20.041838Z"
    }
   },
   "outputs": [
    {
     "data": {
      "text/plain": [
       "(3, 40, 512)"
      ]
     },
     "execution_count": 9,
     "metadata": {},
     "output_type": "execute_result"
    }
   ],
   "source": [
    "shp = img_40_512_arr.shape\n",
    "img_unsqueeze = img_40_512_arr.reshape(1, shp[0], shp[1], shp[2])\n",
    "img_3_40_512_arr = from_polar_np(img_unsqueeze)[0]\n",
    "img_3_40_512_arr.shape"
   ]
  },
  {
   "cell_type": "code",
   "execution_count": 10,
   "metadata": {
    "ExecuteTime": {
     "end_time": "2020-09-05T17:40:24.794621Z",
     "start_time": "2020-09-05T17:40:24.494754Z"
    }
   },
   "outputs": [
    {
     "data": {
      "application/vnd.jupyter.widget-view+json": {
       "model_id": "17c00cef525848f49ad9162cb074eddd",
       "version_major": 2,
       "version_minor": 0
      },
      "text/plain": [
       "JVisualizer with 1 geometries"
      ]
     },
     "metadata": {},
     "output_type": "display_data"
    }
   ],
   "source": [
    "temp_arr = img_3_40_512_arr.reshape(3,-1).T\n",
    "temp_pcd = o3d.geometry.PointCloud()\n",
    "temp_pcd.points = o3d.utility.Vector3dVector(temp_arr)\n",
    "\n",
    "draw_pcd(temp_pcd, where='opn_nb')"
   ]
  },
  {
   "cell_type": "markdown",
   "metadata": {},
   "source": [
    "5 Apply linear transform"
   ]
  },
  {
   "cell_type": "code",
   "execution_count": 11,
   "metadata": {
    "ExecuteTime": {
     "end_time": "2020-09-05T17:40:44.859477Z",
     "start_time": "2020-09-05T17:40:44.851173Z"
    }
   },
   "outputs": [
    {
     "data": {
      "text/plain": [
       "(3, 40, 512)"
      ]
     },
     "execution_count": 11,
     "metadata": {},
     "output_type": "execute_result"
    }
   ],
   "source": [
    "img_transformed = linear_transform(img_3_40_512_arr, A=-1, B=1, a=0, b=255)\n",
    "img_transformed.shape"
   ]
  },
  {
   "cell_type": "code",
   "execution_count": null,
   "metadata": {},
   "outputs": [],
   "source": []
  },
  {
   "cell_type": "code",
   "execution_count": 12,
   "metadata": {
    "ExecuteTime": {
     "end_time": "2020-09-05T17:41:47.119870Z",
     "start_time": "2020-09-05T17:41:47.088177Z"
    }
   },
   "outputs": [
    {
     "data": {
      "text/html": [
       "<div>\n",
       "<style scoped>\n",
       "    .dataframe tbody tr th:only-of-type {\n",
       "        vertical-align: middle;\n",
       "    }\n",
       "\n",
       "    .dataframe tbody tr th {\n",
       "        vertical-align: top;\n",
       "    }\n",
       "\n",
       "    .dataframe thead th {\n",
       "        text-align: right;\n",
       "    }\n",
       "</style>\n",
       "<table border=\"1\" class=\"dataframe\">\n",
       "  <thead>\n",
       "    <tr style=\"text-align: right;\">\n",
       "      <th></th>\n",
       "      <th>0</th>\n",
       "    </tr>\n",
       "  </thead>\n",
       "  <tbody>\n",
       "    <tr>\n",
       "      <th>count</th>\n",
       "      <td>61440.000000</td>\n",
       "    </tr>\n",
       "    <tr>\n",
       "      <th>mean</th>\n",
       "      <td>0.005813</td>\n",
       "    </tr>\n",
       "    <tr>\n",
       "      <th>std</th>\n",
       "      <td>0.052854</td>\n",
       "    </tr>\n",
       "    <tr>\n",
       "      <th>min</th>\n",
       "      <td>-0.195008</td>\n",
       "    </tr>\n",
       "    <tr>\n",
       "      <th>25%</th>\n",
       "      <td>-0.029010</td>\n",
       "    </tr>\n",
       "    <tr>\n",
       "      <th>50%</th>\n",
       "      <td>0.019917</td>\n",
       "    </tr>\n",
       "    <tr>\n",
       "      <th>75%</th>\n",
       "      <td>0.028146</td>\n",
       "    </tr>\n",
       "    <tr>\n",
       "      <th>max</th>\n",
       "      <td>0.211825</td>\n",
       "    </tr>\n",
       "  </tbody>\n",
       "</table>\n",
       "</div>"
      ],
      "text/plain": [
       "                  0\n",
       "count  61440.000000\n",
       "mean       0.005813\n",
       "std        0.052854\n",
       "min       -0.195008\n",
       "25%       -0.029010\n",
       "50%        0.019917\n",
       "75%        0.028146\n",
       "max        0.211825"
      ]
     },
     "execution_count": 12,
     "metadata": {},
     "output_type": "execute_result"
    }
   ],
   "source": [
    "pd.DataFrame(img_3_40_512_arr.reshape(1,-1)[0]).describe()"
   ]
  },
  {
   "cell_type": "code",
   "execution_count": 13,
   "metadata": {
    "ExecuteTime": {
     "end_time": "2020-09-05T17:42:02.340564Z",
     "start_time": "2020-09-05T17:42:02.317683Z"
    }
   },
   "outputs": [
    {
     "data": {
      "text/html": [
       "<div>\n",
       "<style scoped>\n",
       "    .dataframe tbody tr th:only-of-type {\n",
       "        vertical-align: middle;\n",
       "    }\n",
       "\n",
       "    .dataframe tbody tr th {\n",
       "        vertical-align: top;\n",
       "    }\n",
       "\n",
       "    .dataframe thead th {\n",
       "        text-align: right;\n",
       "    }\n",
       "</style>\n",
       "<table border=\"1\" class=\"dataframe\">\n",
       "  <thead>\n",
       "    <tr style=\"text-align: right;\">\n",
       "      <th></th>\n",
       "      <th>0</th>\n",
       "    </tr>\n",
       "  </thead>\n",
       "  <tbody>\n",
       "    <tr>\n",
       "      <th>count</th>\n",
       "      <td>61440.000000</td>\n",
       "    </tr>\n",
       "    <tr>\n",
       "      <th>mean</th>\n",
       "      <td>128.227020</td>\n",
       "    </tr>\n",
       "    <tr>\n",
       "      <th>std</th>\n",
       "      <td>6.738495</td>\n",
       "    </tr>\n",
       "    <tr>\n",
       "      <th>min</th>\n",
       "      <td>102.636520</td>\n",
       "    </tr>\n",
       "    <tr>\n",
       "      <th>25%</th>\n",
       "      <td>123.801287</td>\n",
       "    </tr>\n",
       "    <tr>\n",
       "      <th>50%</th>\n",
       "      <td>130.039368</td>\n",
       "    </tr>\n",
       "    <tr>\n",
       "      <th>75%</th>\n",
       "      <td>131.088558</td>\n",
       "    </tr>\n",
       "    <tr>\n",
       "      <th>max</th>\n",
       "      <td>154.507675</td>\n",
       "    </tr>\n",
       "  </tbody>\n",
       "</table>\n",
       "</div>"
      ],
      "text/plain": [
       "                  0\n",
       "count  61440.000000\n",
       "mean     128.227020\n",
       "std        6.738495\n",
       "min      102.636520\n",
       "25%      123.801287\n",
       "50%      130.039368\n",
       "75%      131.088558\n",
       "max      154.507675"
      ]
     },
     "execution_count": 13,
     "metadata": {},
     "output_type": "execute_result"
    }
   ],
   "source": [
    "pd.DataFrame(img_transformed.reshape(1,-1)[0]).describe()"
   ]
  },
  {
   "cell_type": "code",
   "execution_count": null,
   "metadata": {},
   "outputs": [],
   "source": []
  },
  {
   "cell_type": "code",
   "execution_count": 15,
   "metadata": {
    "ExecuteTime": {
     "end_time": "2020-09-05T17:43:17.947773Z",
     "start_time": "2020-09-05T17:43:17.662614Z"
    }
   },
   "outputs": [
    {
     "data": {
      "application/vnd.jupyter.widget-view+json": {
       "model_id": "4e697ba52e304bce964929d265c52448",
       "version_major": 2,
       "version_minor": 0
      },
      "text/plain": [
       "JVisualizer with 1 geometries"
      ]
     },
     "metadata": {},
     "output_type": "display_data"
    }
   ],
   "source": [
    "temp_arr = img_transformed.reshape(3,-1).T\n",
    "temp_pcd = o3d.geometry.PointCloud()\n",
    "temp_pcd.points = o3d.utility.Vector3dVector(temp_arr)\n",
    "\n",
    "draw_pcd(temp_pcd, where='opn_nb')"
   ]
  },
  {
   "cell_type": "code",
   "execution_count": 16,
   "metadata": {
    "ExecuteTime": {
     "end_time": "2020-09-05T17:43:19.692784Z",
     "start_time": "2020-09-05T17:43:19.430297Z"
    }
   },
   "outputs": [
    {
     "data": {
      "application/vnd.jupyter.widget-view+json": {
       "model_id": "7756210055e14b0ab55ca0d9601c3985",
       "version_major": 2,
       "version_minor": 0
      },
      "text/plain": [
       "JVisualizer with 1 geometries"
      ]
     },
     "metadata": {},
     "output_type": "display_data"
    }
   ],
   "source": [
    "temp_arr = linear_transform(img_transformed, A=0, B=255, a=-1, b=1).reshape(3,-1).T\n",
    "temp_pcd = o3d.geometry.PointCloud()\n",
    "temp_pcd.points = o3d.utility.Vector3dVector(temp_arr)\n",
    "\n",
    "draw_pcd(temp_pcd, where='opn_nb')"
   ]
  },
  {
   "cell_type": "markdown",
   "metadata": {},
   "source": [
    "transformation checks!"
   ]
  },
  {
   "cell_type": "markdown",
   "metadata": {},
   "source": [
    "6 tranpose"
   ]
  },
  {
   "cell_type": "code",
   "execution_count": 17,
   "metadata": {
    "ExecuteTime": {
     "end_time": "2020-09-05T17:43:25.961679Z",
     "start_time": "2020-09-05T17:43:25.953858Z"
    }
   },
   "outputs": [
    {
     "data": {
      "text/plain": [
       "(40, 512, 3)"
      ]
     },
     "execution_count": 17,
     "metadata": {},
     "output_type": "execute_result"
    }
   ],
   "source": [
    "img_transformed_transposed = img_transformed.transpose(1,2,0)\n",
    "img_transformed_transposed.shape"
   ]
  },
  {
   "cell_type": "code",
   "execution_count": null,
   "metadata": {},
   "outputs": [],
   "source": []
  },
  {
   "cell_type": "code",
   "execution_count": 18,
   "metadata": {
    "ExecuteTime": {
     "end_time": "2020-09-05T17:43:27.982592Z",
     "start_time": "2020-09-05T17:43:27.693271Z"
    }
   },
   "outputs": [
    {
     "data": {
      "application/vnd.jupyter.widget-view+json": {
       "model_id": "7fed16a795e44331bd5b5547344f0c96",
       "version_major": 2,
       "version_minor": 0
      },
      "text/plain": [
       "JVisualizer with 1 geometries"
      ]
     },
     "metadata": {},
     "output_type": "display_data"
    }
   ],
   "source": [
    "temp_arr = linear_transform(img_transformed_transposed.transpose(2,0,1), A=0, B=255, a=-1, b=1).reshape(3,-1).T\n",
    "temp_pcd = o3d.geometry.PointCloud()\n",
    "temp_pcd.points = o3d.utility.Vector3dVector(temp_arr)\n",
    "\n",
    "draw_pcd(temp_pcd, where='opn_nb')"
   ]
  },
  {
   "cell_type": "code",
   "execution_count": null,
   "metadata": {},
   "outputs": [],
   "source": []
  },
  {
   "cell_type": "markdown",
   "metadata": {
    "ExecuteTime": {
     "end_time": "2020-09-05T13:04:47.156461Z",
     "start_time": "2020-09-05T13:04:47.151951Z"
    }
   },
   "source": [
    "7 Convert to uint8"
   ]
  },
  {
   "cell_type": "code",
   "execution_count": 21,
   "metadata": {
    "ExecuteTime": {
     "end_time": "2020-09-05T17:44:35.327867Z",
     "start_time": "2020-09-05T17:44:35.320124Z"
    }
   },
   "outputs": [
    {
     "data": {
      "text/plain": [
       "(40, 512, 3)"
      ]
     },
     "execution_count": 21,
     "metadata": {},
     "output_type": "execute_result"
    }
   ],
   "source": [
    "# frame_img = img_transformed_transposed.astype(\"uint8\")\n",
    "frame_img = np.round(img_transformed_transposed)\n",
    "frame_img.shape"
   ]
  },
  {
   "cell_type": "code",
   "execution_count": null,
   "metadata": {},
   "outputs": [],
   "source": []
  },
  {
   "cell_type": "code",
   "execution_count": 22,
   "metadata": {
    "ExecuteTime": {
     "end_time": "2020-09-05T17:44:37.393930Z",
     "start_time": "2020-09-05T17:44:37.104235Z"
    }
   },
   "outputs": [
    {
     "data": {
      "application/vnd.jupyter.widget-view+json": {
       "model_id": "27035733164c412eb2dba2cdc7cdb1f3",
       "version_major": 2,
       "version_minor": 0
      },
      "text/plain": [
       "JVisualizer with 1 geometries"
      ]
     },
     "metadata": {},
     "output_type": "display_data"
    }
   ],
   "source": [
    "temp_arr = linear_transform(frame_img.transpose(2,0,1), A=0, B=255, a=-1, b=1).reshape(3,-1).T\n",
    "temp_pcd = o3d.geometry.PointCloud()\n",
    "temp_pcd.points = o3d.utility.Vector3dVector(temp_arr)\n",
    "\n",
    "draw_pcd(temp_pcd, where='opn_nb')"
   ]
  },
  {
   "cell_type": "code",
   "execution_count": null,
   "metadata": {},
   "outputs": [],
   "source": []
  },
  {
   "cell_type": "markdown",
   "metadata": {},
   "source": [
    "8 Save image"
   ]
  },
  {
   "cell_type": "code",
   "execution_count": null,
   "metadata": {},
   "outputs": [],
   "source": []
  },
  {
   "cell_type": "code",
   "execution_count": 14,
   "metadata": {
    "ExecuteTime": {
     "end_time": "2020-09-05T17:43:12.234749Z",
     "start_time": "2020-09-05T17:43:12.129424Z"
    }
   },
   "outputs": [
    {
     "ename": "NameError",
     "evalue": "name 'frame_img' is not defined",
     "output_type": "error",
     "traceback": [
      "\u001b[0;31m---------------------------------------------------------------------------\u001b[0m",
      "\u001b[0;31mNameError\u001b[0m                                 Traceback (most recent call last)",
      "\u001b[0;32m<ipython-input-14-41428f931b68>\u001b[0m in \u001b[0;36m<module>\u001b[0;34m\u001b[0m\n\u001b[0;32m----> 1\u001b[0;31m \u001b[0mplt\u001b[0m\u001b[0;34m.\u001b[0m\u001b[0mimsave\u001b[0m\u001b[0;34m(\u001b[0m\u001b[0;34m\"temp.png\"\u001b[0m\u001b[0;34m,\u001b[0m \u001b[0mnp\u001b[0m\u001b[0;34m.\u001b[0m\u001b[0mround\u001b[0m\u001b[0;34m(\u001b[0m\u001b[0mframe_img\u001b[0m\u001b[0;34m)\u001b[0m\u001b[0;34m)\u001b[0m\u001b[0;34m\u001b[0m\u001b[0;34m\u001b[0m\u001b[0m\n\u001b[0m",
      "\u001b[0;31mNameError\u001b[0m: name 'frame_img' is not defined"
     ]
    }
   ],
   "source": [
    "plt.imsave(\"temp.png\", np.round(frame_img))"
   ]
  },
  {
   "cell_type": "code",
   "execution_count": null,
   "metadata": {},
   "outputs": [],
   "source": []
  },
  {
   "cell_type": "code",
   "execution_count": 23,
   "metadata": {
    "ExecuteTime": {
     "end_time": "2020-09-05T17:45:01.636635Z",
     "start_time": "2020-09-05T17:45:01.376483Z"
    }
   },
   "outputs": [
    {
     "data": {
      "application/vnd.jupyter.widget-view+json": {
       "model_id": "909f041339334f6aa92b272fdfeafebb",
       "version_major": 2,
       "version_minor": 0
      },
      "text/plain": [
       "JVisualizer with 1 geometries"
      ]
     },
     "metadata": {},
     "output_type": "display_data"
    }
   ],
   "source": [
    "temp2_arr = cv2.imread(\"temp.png\")\n",
    "\n",
    "temp_arr = linear_transform(temp2_arr.transpose(2,0,1), A=0, B=255, a=-1, b=1).reshape(3,-1).T\n",
    "temp_pcd = o3d.geometry.PointCloud()\n",
    "temp_pcd.points = o3d.utility.Vector3dVector(temp_arr)\n",
    "\n",
    "draw_pcd(temp_pcd, where='opn_nb')"
   ]
  },
  {
   "cell_type": "code",
   "execution_count": null,
   "metadata": {},
   "outputs": [],
   "source": []
  },
  {
   "cell_type": "markdown",
   "metadata": {},
   "source": [
    "What is diff between temp2_arr and frame_img array?"
   ]
  },
  {
   "cell_type": "code",
   "execution_count": null,
   "metadata": {
    "ExecuteTime": {
     "end_time": "2020-09-05T13:15:10.470163Z",
     "start_time": "2020-09-05T13:15:10.463208Z"
    }
   },
   "outputs": [],
   "source": [
    "frame_img.shape, temp2_arr.shape"
   ]
  },
  {
   "cell_type": "code",
   "execution_count": null,
   "metadata": {
    "ExecuteTime": {
     "end_time": "2020-09-05T13:16:03.047787Z",
     "start_time": "2020-09-05T13:16:03.038188Z"
    }
   },
   "outputs": [],
   "source": [
    "frame_img[:,:,0], frame_img[:,:,1], frame_img[:,:,2]"
   ]
  },
  {
   "cell_type": "code",
   "execution_count": null,
   "metadata": {
    "ExecuteTime": {
     "end_time": "2020-09-05T13:16:03.692394Z",
     "start_time": "2020-09-05T13:16:03.683427Z"
    }
   },
   "outputs": [],
   "source": [
    "temp2_arr[:,:,0], temp2_arr[:,:,1], temp2_arr[:,:,2]"
   ]
  },
  {
   "cell_type": "code",
   "execution_count": null,
   "metadata": {
    "ExecuteTime": {
     "end_time": "2020-09-05T13:24:16.719934Z",
     "start_time": "2020-09-05T13:24:16.710491Z"
    }
   },
   "outputs": [],
   "source": [
    "temp3_arr = np.concatenate([temp2_arr[:,:,2:3], temp2_arr[:,:,1:2], temp2_arr[:,:,0:1]], axis=-1)\n",
    "temp3_arr.shape"
   ]
  },
  {
   "cell_type": "code",
   "execution_count": null,
   "metadata": {
    "ExecuteTime": {
     "end_time": "2020-09-05T13:24:51.847569Z",
     "start_time": "2020-09-05T13:24:51.835457Z"
    }
   },
   "outputs": [],
   "source": [
    "set((frame_img == temp3_arr).reshape(1,-1)[0])"
   ]
  },
  {
   "cell_type": "code",
   "execution_count": null,
   "metadata": {},
   "outputs": [],
   "source": []
  },
  {
   "cell_type": "code",
   "execution_count": null,
   "metadata": {},
   "outputs": [],
   "source": []
  },
  {
   "cell_type": "code",
   "execution_count": null,
   "metadata": {},
   "outputs": [],
   "source": []
  },
  {
   "cell_type": "code",
   "execution_count": null,
   "metadata": {},
   "outputs": [],
   "source": [
    "frame = linear_transform(frame_untransformed)\n",
    "frame_img = frame.transpose(1,2,0).astype(\"uint8\")"
   ]
  },
  {
   "cell_type": "code",
   "execution_count": null,
   "metadata": {
    "ExecuteTime": {
     "start_time": "2020-09-03T21:18:31.891Z"
    }
   },
   "outputs": [],
   "source": [
    "\n",
    "for npy_file in sorted(os.listdir(FOLDER_PATH), key=getint):\n",
    "    print(npy_file)\n",
    "    npy_path = os.path.join(FOLDER_PATH, npy_file)\n",
    "    npy_arr = np.load(npy_path)\n",
    "    \n",
    "    file_idx = 1\n",
    "    OUTPUT_sub_folder_PATH = os.path.join(OUTPUT_FOLDER_PATH, npy_file.split(\".\")[0])\n",
    "    if not os.path.exists(OUTPUT_sub_folder_PATH):\n",
    "        os.makedirs(OUTPUT_sub_folder_PATH)\n",
    "    else:\n",
    "        shutil.rmtree(OUTPUT_sub_folder_PATH)\n",
    "        os.makedirs(OUTPUT_sub_folder_PATH)\n",
    "    \n",
    "    for arr in tqdm_notebook(npy_arr):\n",
    "        this_arr = get_rgb_from_img(arr[:,5:45,::2])\n",
    "        \n",
    "        png_file = str(file_idx) + \".png\"\n",
    "        png_path = os.path.join(OUTPUT_sub_folder_PATH, png_file)\n",
    "        plt.imsave(png_path, this_arr)\n",
    "        \n",
    "        file_idx += 1"
   ]
  },
  {
   "cell_type": "code",
   "execution_count": null,
   "metadata": {
    "ExecuteTime": {
     "start_time": "2020-09-03T21:18:31.892Z"
    }
   },
   "outputs": [],
   "source": [
    "this_arr.shape"
   ]
  },
  {
   "cell_type": "code",
   "execution_count": null,
   "metadata": {},
   "outputs": [],
   "source": []
  }
 ],
 "metadata": {
  "kernelspec": {
   "display_name": "Python 3",
   "language": "python",
   "name": "python3"
  },
  "language_info": {
   "codemirror_mode": {
    "name": "ipython",
    "version": 3
   },
   "file_extension": ".py",
   "mimetype": "text/x-python",
   "name": "python",
   "nbconvert_exporter": "python",
   "pygments_lexer": "ipython3",
   "version": "3.6.10"
  },
  "toc": {
   "base_numbering": 1,
   "nav_menu": {},
   "number_sections": true,
   "sideBar": true,
   "skip_h1_title": false,
   "title_cell": "Table of Contents",
   "title_sidebar": "Contents",
   "toc_cell": false,
   "toc_position": {},
   "toc_section_display": true,
   "toc_window_display": false
  }
 },
 "nbformat": 4,
 "nbformat_minor": 4
}
