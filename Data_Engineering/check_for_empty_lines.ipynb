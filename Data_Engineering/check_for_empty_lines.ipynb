{
 "cells": [
  {
   "cell_type": "code",
   "execution_count": 1,
   "metadata": {},
   "outputs": [],
   "source": [
    "import numpy as np\n",
    "import os"
   ]
  },
  {
   "cell_type": "code",
   "execution_count": null,
   "metadata": {},
   "outputs": [],
   "source": []
  },
  {
   "cell_type": "code",
   "execution_count": null,
   "metadata": {},
   "outputs": [],
   "source": []
  },
  {
   "cell_type": "code",
   "execution_count": null,
   "metadata": {},
   "outputs": [],
   "source": []
  },
  {
   "cell_type": "code",
   "execution_count": null,
   "metadata": {},
   "outputs": [],
   "source": []
  },
  {
   "cell_type": "code",
   "execution_count": 2,
   "metadata": {},
   "outputs": [],
   "source": [
    "npy_path = \"/home/sabyasachi/Projects/ati/data/data/datasets/Carla/16beam-Data/small_map/dynamic_training_data/npy_data\""
   ]
  },
  {
   "cell_type": "code",
   "execution_count": 6,
   "metadata": {},
   "outputs": [
    {
     "name": "stdout",
     "output_type": "stream",
     "text": [
      "7.npy 1348769.173516667\n",
      "12.npy 4176526.8483833335\n",
      "23.npy 2610570.797433334\n",
      "6.npy 2769960.535316667\n",
      "21.npy 3418173.0278333337\n",
      "13.npy 828102.0110666666\n",
      "20.npy 1029437.0342000001\n",
      "8.npy 5975406.961350001\n",
      "14.npy 3083624.4706500005\n",
      "19.npy 3687444.140433334\n",
      "18.npy 1164227.8869166668\n",
      "11.npy 840992.9588000001\n",
      "16.npy 2634627.962266667\n",
      "15.npy 3459433.604733334\n",
      "2.npy 1003630.2423000003\n",
      "5.npy 2364457.3711000006\n",
      "4.npy 2266844.992966667\n",
      "1.npy 2216952.3918500002\n",
      "17.npy 3191096.9668000005\n",
      "22.npy 1064376.4460333334\n",
      "3.npy 3791899.290466667\n",
      "10.npy 4357184.552033334\n",
      "9.npy 6029197.915366667\n"
     ]
    }
   ],
   "source": [
    "for npy in os.listdir(npy_path):\n",
    "    arr = np.load(os.path.join(npy_path, npy))\n",
    "    full_list = []\n",
    "    for i in range(arr.shape[0]):\n",
    "        full_list.append([arr[i][j].sum() for j in range(arr[i].shape[0])])\n",
    "\n",
    "    sum_arr = np.array(full_list)\n",
    "    sum_arr.shape\n",
    "\n",
    "    print(npy, sum_arr[:,0].sum())"
   ]
  },
  {
   "cell_type": "code",
   "execution_count": null,
   "metadata": {},
   "outputs": [],
   "source": []
  }
 ],
 "metadata": {
  "kernelspec": {
   "display_name": "Python 3",
   "language": "python",
   "name": "python3"
  },
  "language_info": {
   "codemirror_mode": {
    "name": "ipython",
    "version": 3
   },
   "file_extension": ".py",
   "mimetype": "text/x-python",
   "name": "python",
   "nbconvert_exporter": "python",
   "pygments_lexer": "ipython3",
   "version": "3.7.3"
  }
 },
 "nbformat": 4,
 "nbformat_minor": 2
}
