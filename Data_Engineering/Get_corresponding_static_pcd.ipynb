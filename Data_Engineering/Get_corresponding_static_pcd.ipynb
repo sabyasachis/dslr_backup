{
 "cells": [
  {
   "cell_type": "code",
   "execution_count": 1,
   "metadata": {
    "ExecuteTime": {
     "end_time": "2020-01-20T13:12:05.004474Z",
     "start_time": "2020-01-20T13:12:03.774475Z"
    }
   },
   "outputs": [],
   "source": [
    "import pandas as pd\n",
    "import numpy as np\n",
    "import gc\n",
    "import os, shutil\n",
    "import sys\n",
    "import matplotlib.pyplot as plt\n",
    "import open3d as o3d\n",
    "from tqdm import tqdm_notebook"
   ]
  },
  {
   "cell_type": "code",
   "execution_count": 7,
   "metadata": {
    "ExecuteTime": {
     "end_time": "2020-01-20T13:15:46.235982Z",
     "start_time": "2020-01-20T13:15:46.232406Z"
    }
   },
   "outputs": [],
   "source": [
    "OUTPUT_FOLDER = \"dynamic_24\"\n",
    "DYNAMICSUBFOLDER = \"24\""
   ]
  },
  {
   "cell_type": "code",
   "execution_count": 8,
   "metadata": {
    "ExecuteTime": {
     "end_time": "2020-01-20T13:15:46.559853Z",
     "start_time": "2020-01-20T13:15:46.551369Z"
    }
   },
   "outputs": [],
   "source": [
    "BASE_PATH = \"/home/sabyasachi/Projects/ati/data/data/datasets/Carla/16beam-Data/small_map/validate_idea\"\n",
    "\n",
    "STATIC_FOLDER = \"corr_static\"\n",
    "DYNAMIC_FOLDER = \"dynamic\"\n",
    "PAIR_FILE = \"pair_with_pose.csv\"\n",
    "\n",
    "# INPUT_PATH = BASE_PATH\n",
    "OUTPUT_PATH = os.path.join(BASE_PATH, OUTPUT_FOLDER)\n",
    "\n",
    "OUTPUT_STATIC_PATH = os.path.join(OUTPUT_PATH, STATIC_FOLDER)\n",
    "OUTPUT_DYNAMIC_PATH = os.path.join(OUTPUT_PATH, DYNAMIC_FOLDER)\n",
    "\n",
    "# if not os.path.exists(OUTPUT_PATH):\n",
    "#     os.makedirs(OUTPUT_PATH)\n",
    "# else:\n",
    "#     shutil.rmtree(OUTPUT_PATH)\n",
    "#     os.makedirs(OUTPUT_PATH)\n",
    "\n",
    "# os.makedirs(OUTPUT_STATIC_PATH)\n",
    "# os.makedirs(OUTPUT_DYNAMIC_PATH)"
   ]
  },
  {
   "cell_type": "code",
   "execution_count": 9,
   "metadata": {
    "ExecuteTime": {
     "end_time": "2020-01-20T13:15:47.160048Z",
     "start_time": "2020-01-20T13:15:46.991561Z"
    }
   },
   "outputs": [
    {
     "data": {
      "text/plain": [
       "(31292, 5)"
      ]
     },
     "execution_count": 9,
     "metadata": {},
     "output_type": "execute_result"
    }
   ],
   "source": [
    "pair_path = os.path.join(\"/home/sabyasachi/Projects/ati/data/data/datasets/Carla/16beam-Data/small_map\", PAIR_FILE)\n",
    "df_pair = pd.read_csv(pair_path)\n",
    "df_pair.shape"
   ]
  },
  {
   "cell_type": "code",
   "execution_count": 10,
   "metadata": {
    "ExecuteTime": {
     "end_time": "2020-01-20T13:15:48.211194Z",
     "start_time": "2020-01-20T13:15:48.206435Z"
    }
   },
   "outputs": [
    {
     "data": {
      "text/plain": [
       "array([['/home/sabyasachi/Projects/ati/data/data/datasets/Carla/16beam-Data/small_map/static/1/_out/1926.ply',\n",
       "        '/home/sabyasachi/Projects/ati/data/data/datasets/Carla/16beam-Data/small_map/dynamic/8/_out/1870.ply',\n",
       "        0.05765533447265625, -0.07722473144532671, 0.01548004150390625]],\n",
       "      dtype=object)"
      ]
     },
     "execution_count": 10,
     "metadata": {},
     "output_type": "execute_result"
    }
   ],
   "source": [
    "df_pair.sample().values"
   ]
  },
  {
   "cell_type": "code",
   "execution_count": null,
   "metadata": {},
   "outputs": [],
   "source": []
  },
  {
   "cell_type": "code",
   "execution_count": 11,
   "metadata": {
    "ExecuteTime": {
     "end_time": "2020-01-20T13:16:55.568640Z",
     "start_time": "2020-01-20T13:15:51.552217Z"
    }
   },
   "outputs": [
    {
     "data": {
      "application/vnd.jupyter.widget-view+json": {
       "model_id": "c021961c844a47209497ab0257438ea0",
       "version_major": 2,
       "version_minor": 0
      },
      "text/plain": [
       "HBox(children=(IntProgress(value=0, max=31292), HTML(value='')))"
      ]
     },
     "metadata": {},
     "output_type": "display_data"
    },
    {
     "name": "stdout",
     "output_type": "stream",
     "text": [
      "\n"
     ]
    }
   ],
   "source": [
    "for idx, row in tqdm_notebook(df_pair.iterrows(), total=df_pair.shape[0]):\n",
    "    if row['dynamic_path'].split(\"/\")[-3] == DYNAMICSUBFOLDER:\n",
    "        fname = row['dynamic_path'].split(\"/\")[-1]\n",
    "\n",
    "        static_src = row['static_path']\n",
    "        static_dst = os.path.join(OUTPUT_STATIC_PATH, fname)\n",
    "        shutil.copyfile(static_src, static_dst)\n",
    "\n",
    "        dynamic_src = row['dynamic_path']\n",
    "        dynamic_dst = os.path.join(OUTPUT_DYNAMIC_PATH, fname)\n",
    "        shutil.copyfile(dynamic_src, dynamic_dst)"
   ]
  },
  {
   "cell_type": "code",
   "execution_count": null,
   "metadata": {},
   "outputs": [],
   "source": []
  },
  {
   "cell_type": "code",
   "execution_count": null,
   "metadata": {},
   "outputs": [],
   "source": []
  },
  {
   "cell_type": "code",
   "execution_count": null,
   "metadata": {},
   "outputs": [],
   "source": []
  }
 ],
 "metadata": {
  "kernelspec": {
   "display_name": "Python 3",
   "language": "python",
   "name": "python3"
  },
  "language_info": {
   "codemirror_mode": {
    "name": "ipython",
    "version": 3
   },
   "file_extension": ".py",
   "mimetype": "text/x-python",
   "name": "python",
   "nbconvert_exporter": "python",
   "pygments_lexer": "ipython3",
   "version": "3.6.10"
  },
  "toc": {
   "base_numbering": 1,
   "nav_menu": {},
   "number_sections": true,
   "sideBar": true,
   "skip_h1_title": false,
   "title_cell": "Table of Contents",
   "title_sidebar": "Contents",
   "toc_cell": false,
   "toc_position": {},
   "toc_section_display": true,
   "toc_window_display": false
  }
 },
 "nbformat": 4,
 "nbformat_minor": 2
}
