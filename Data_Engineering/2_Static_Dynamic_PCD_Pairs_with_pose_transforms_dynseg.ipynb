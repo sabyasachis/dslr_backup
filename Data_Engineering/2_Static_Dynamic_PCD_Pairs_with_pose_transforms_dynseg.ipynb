{
 "cells": [
  {
   "cell_type": "code",
   "execution_count": 1,
   "metadata": {
    "ExecuteTime": {
     "end_time": "2020-09-06T14:30:42.080247Z",
     "start_time": "2020-09-06T14:30:41.264899Z"
    }
   },
   "outputs": [],
   "source": [
    "import pandas as pd\n",
    "import numpy as np\n",
    "import gc\n",
    "import os\n",
    "import sys\n",
    "import matplotlib.pyplot as plt\n",
    "from tqdm import tqdm_notebook\n",
    "from sklearn.neighbors import NearestNeighbors"
   ]
  },
  {
   "cell_type": "code",
   "execution_count": 2,
   "metadata": {
    "ExecuteTime": {
     "end_time": "2020-09-06T14:30:42.089669Z",
     "start_time": "2020-09-06T14:30:42.082186Z"
    }
   },
   "outputs": [],
   "source": [
    "%matplotlib notebook"
   ]
  },
  {
   "cell_type": "code",
   "execution_count": 3,
   "metadata": {
    "ExecuteTime": {
     "end_time": "2020-09-06T14:30:42.096481Z",
     "start_time": "2020-09-06T14:30:42.091995Z"
    }
   },
   "outputs": [],
   "source": [
    "# BASE_PATH = \"/home/sabyasachi/Projects/ati/data/data/datasets/Carla/16beam-Data/small_map\"\n",
    "# BASE_PATH = \"/home/saby/Projects/ati/data/data/datasets/Carla/16beam-Data/small_map\"\n",
    "BASE_PATH = \"/home/saby/Projects/ati/data/data/datasets/Carla/64beam-Data\"\n",
    "# PAIR_DIST_THRESH = 0.25  # in meters\n",
    "PAIR_DIST_THRESH = 5  # in meters\n",
    "PAIR_ANGL_THRESH = 20.0  # in degrees\n",
    "\n",
    "\n",
    "STATIC_FOLDER = \"static\"\n",
    "DYNAMIC_FOLDER = \"dynamic\"\n",
    "STATIC_PCD_FOLDER = \"_out\"\n",
    "DYNAMIC_PCD_FOLDER = \"_segment\"\n",
    "# PAIR_FILE = \"pair_with_pose_transform_dynseg_testing.csv\"\n",
    "\n",
    "GROUNDTRUTH_FILE = \"groundTruth.csv\"\n",
    "PCD_IDX_COLUMN = 'step'\n",
    "\n",
    "USE_DYNAMIC_ANNOTATIONS = False\n",
    "ANNOT_FILE = \"annotation.csv\"\n",
    "# START_ANNOT_COLUMN = 'start'\n",
    "# FINISH_ANNOT_COLUMN = 'end'\n",
    "\n",
    "\n",
    "\n",
    "STATIC_PATH = os.path.join(BASE_PATH, STATIC_FOLDER)\n",
    "DYNAMIC_PATH = os.path.join(BASE_PATH, DYNAMIC_FOLDER)"
   ]
  },
  {
   "cell_type": "code",
   "execution_count": 4,
   "metadata": {
    "ExecuteTime": {
     "end_time": "2020-09-06T14:30:42.102336Z",
     "start_time": "2020-09-06T14:30:42.098879Z"
    }
   },
   "outputs": [],
   "source": [
    "def get_file_int(name):\n",
    "    return int(name.split('.')[0])\n",
    "\n",
    "def get_folder_int(name):\n",
    "    return int(name)"
   ]
  },
  {
   "cell_type": "code",
   "execution_count": 5,
   "metadata": {
    "ExecuteTime": {
     "end_time": "2020-09-06T14:30:42.115988Z",
     "start_time": "2020-09-06T14:30:42.104526Z"
    }
   },
   "outputs": [],
   "source": [
    "def get_all_gt_df(base_folder, PCD_FOLDER, use_annot=False):\n",
    "    \n",
    "    pcd_list = []\n",
    "    for sub_folder in sorted(os.listdir(base_folder), key=get_folder_int):\n",
    "        # WARNING : Remove this if condition after use\n",
    "        if int(sub_folder) != 5:\n",
    "            continue\n",
    "        pcd_path = os.path.join(base_folder, sub_folder, PCD_FOLDER)\n",
    "\n",
    "        gt_file_path = os.path.join(base_folder, sub_folder, GROUNDTRUTH_FILE)\n",
    "        if os.path.exists(gt_file_path):\n",
    "            df_gt = pd.read_csv(gt_file_path)\n",
    "        else:\n",
    "            print(\"Error: Could not find ground truth csv at path : {}\".format(gt_file_path))\n",
    "            continue\n",
    "        df_gt_pcd = df_gt.set_index(PCD_IDX_COLUMN)\n",
    "        \n",
    "        if use_annot:\n",
    "            annot_file_path = os.path.join(base_folder, sub_folder, ANNOT_FILE)\n",
    "            if os.path.exists(annot_file_path):\n",
    "                df_annot = pd.read_csv(annot_file_path)\n",
    "                feasible_pcd_idx_arr = df_annot[df_annot['annotation']]['step'].values\n",
    "            else:\n",
    "                print(\"Error: Could not find annotation csv at path : {}\".format(annot_file_path))\n",
    "                continue\n",
    "#             feasible_start_list = df_annot[START_ANNOT_COLUMN].values\n",
    "#             feasible_end_list   = df_annot[FINISH_ANNOT_COLUMN].values\n",
    "#             feasible_pcd_idx_arr = np.concatenate([np.arange(start,end+1)\\\n",
    "#                                                    for start, end in zip(feasible_start_list, feasible_end_list)])\n",
    "\n",
    "        for pcd_file in sorted(os.listdir(pcd_path), key=get_file_int):\n",
    "            pcd_idx = int(pcd_file[:-4])\n",
    "            if use_annot:\n",
    "                if pcd_idx not in feasible_pcd_idx_arr:\n",
    "                    continue\n",
    "                    \n",
    "            try:\n",
    "                pcd_dict = df_gt_pcd.loc[pcd_idx]\n",
    "                gt_dict = {}\n",
    "                gt_dict['x'] = pcd_dict['location_x']\n",
    "                gt_dict['y'] = pcd_dict['location_y']\n",
    "#                 gt_dict['z'] = pcd_dict['location_z']\n",
    "#                 gt_dict['roll'] = pcd_dict['rotation_roll']\n",
    "#                 gt_dict['pitch'] = pcd_dict['rotation_pitch']\n",
    "                gt_dict['yaw'] = pcd_dict['rotation_yaw']\n",
    "                gt_dict['path'] = os.path.join(pcd_path, pcd_file)\n",
    "                pcd_list.append(gt_dict)\n",
    "            except Exception as e:\n",
    "                # print(\"Warning: Could not find groundtruth for {} . Ignoring it!\".format(os.path.join(pcd_path, pcd_file)))\n",
    "                pass\n",
    "    return pd.DataFrame(pcd_list)\n",
    "\n",
    "def get_relative_yaw(theta1, theta2):\n",
    "    rel_yaw = theta2 - theta1\n",
    "    if rel_yaw > 180:\n",
    "        actual_rel_yaw = rel_yaw - 360\n",
    "    elif rel_yaw <= -180:\n",
    "        actual_rel_yaw = rel_yaw + 360\n",
    "    else:\n",
    "        actual_rel_yaw = rel_yaw\n",
    "    return actual_rel_yaw"
   ]
  },
  {
   "cell_type": "code",
   "execution_count": 6,
   "metadata": {
    "ExecuteTime": {
     "end_time": "2020-09-06T14:30:43.132251Z",
     "start_time": "2020-09-06T14:30:42.117790Z"
    }
   },
   "outputs": [
    {
     "data": {
      "text/plain": [
       "0"
      ]
     },
     "execution_count": 6,
     "metadata": {},
     "output_type": "execute_result"
    }
   ],
   "source": [
    "df_static = get_all_gt_df(STATIC_PATH, STATIC_PCD_FOLDER)\n",
    "df_dynamic = get_all_gt_df(DYNAMIC_PATH, DYNAMIC_PCD_FOLDER, use_annot=USE_DYNAMIC_ANNOTATIONS)\n",
    "# df_dynamic = get_all_gt_df(DYNAMIC_PATH)\n",
    "gc.collect()"
   ]
  },
  {
   "cell_type": "code",
   "execution_count": 7,
   "metadata": {
    "ExecuteTime": {
     "end_time": "2020-09-06T14:30:43.138816Z",
     "start_time": "2020-09-06T14:30:43.134265Z"
    }
   },
   "outputs": [
    {
     "data": {
      "text/plain": [
       "((1275, 4), (2255, 4))"
      ]
     },
     "execution_count": 7,
     "metadata": {},
     "output_type": "execute_result"
    }
   ],
   "source": [
    "df_static.shape, df_dynamic.shape"
   ]
  },
  {
   "cell_type": "code",
   "execution_count": 8,
   "metadata": {
    "ExecuteTime": {
     "end_time": "2020-09-06T14:30:43.155318Z",
     "start_time": "2020-09-06T14:30:43.142536Z"
    }
   },
   "outputs": [
    {
     "data": {
      "text/html": [
       "<div>\n",
       "<style scoped>\n",
       "    .dataframe tbody tr th:only-of-type {\n",
       "        vertical-align: middle;\n",
       "    }\n",
       "\n",
       "    .dataframe tbody tr th {\n",
       "        vertical-align: top;\n",
       "    }\n",
       "\n",
       "    .dataframe thead th {\n",
       "        text-align: right;\n",
       "    }\n",
       "</style>\n",
       "<table border=\"1\" class=\"dataframe\">\n",
       "  <thead>\n",
       "    <tr style=\"text-align: right;\">\n",
       "      <th></th>\n",
       "      <th>x</th>\n",
       "      <th>y</th>\n",
       "      <th>yaw</th>\n",
       "      <th>path</th>\n",
       "    </tr>\n",
       "  </thead>\n",
       "  <tbody>\n",
       "    <tr>\n",
       "      <th>0</th>\n",
       "      <td>271.040009</td>\n",
       "      <td>129.48999</td>\n",
       "      <td>179.999756</td>\n",
       "      <td>/home/saby/Projects/ati/data/data/datasets/Car...</td>\n",
       "    </tr>\n",
       "    <tr>\n",
       "      <th>1</th>\n",
       "      <td>271.040009</td>\n",
       "      <td>129.48999</td>\n",
       "      <td>179.999756</td>\n",
       "      <td>/home/saby/Projects/ati/data/data/datasets/Car...</td>\n",
       "    </tr>\n",
       "    <tr>\n",
       "      <th>2</th>\n",
       "      <td>271.040009</td>\n",
       "      <td>129.48999</td>\n",
       "      <td>179.999756</td>\n",
       "      <td>/home/saby/Projects/ati/data/data/datasets/Car...</td>\n",
       "    </tr>\n",
       "    <tr>\n",
       "      <th>3</th>\n",
       "      <td>271.040009</td>\n",
       "      <td>129.48999</td>\n",
       "      <td>179.999756</td>\n",
       "      <td>/home/saby/Projects/ati/data/data/datasets/Car...</td>\n",
       "    </tr>\n",
       "    <tr>\n",
       "      <th>4</th>\n",
       "      <td>271.040009</td>\n",
       "      <td>129.48999</td>\n",
       "      <td>179.999756</td>\n",
       "      <td>/home/saby/Projects/ati/data/data/datasets/Car...</td>\n",
       "    </tr>\n",
       "  </tbody>\n",
       "</table>\n",
       "</div>"
      ],
      "text/plain": [
       "            x          y         yaw  \\\n",
       "0  271.040009  129.48999  179.999756   \n",
       "1  271.040009  129.48999  179.999756   \n",
       "2  271.040009  129.48999  179.999756   \n",
       "3  271.040009  129.48999  179.999756   \n",
       "4  271.040009  129.48999  179.999756   \n",
       "\n",
       "                                                path  \n",
       "0  /home/saby/Projects/ati/data/data/datasets/Car...  \n",
       "1  /home/saby/Projects/ati/data/data/datasets/Car...  \n",
       "2  /home/saby/Projects/ati/data/data/datasets/Car...  \n",
       "3  /home/saby/Projects/ati/data/data/datasets/Car...  \n",
       "4  /home/saby/Projects/ati/data/data/datasets/Car...  "
      ]
     },
     "execution_count": 8,
     "metadata": {},
     "output_type": "execute_result"
    }
   ],
   "source": [
    "df_static.head()"
   ]
  },
  {
   "cell_type": "code",
   "execution_count": 9,
   "metadata": {
    "ExecuteTime": {
     "end_time": "2020-09-06T14:30:43.632998Z",
     "start_time": "2020-09-06T14:30:43.157520Z"
    }
   },
   "outputs": [],
   "source": [
    "static_gt_arr  = np.array([np.array([row['x'], row['y']]) for idx, row in df_static.iterrows()])\n",
    "dynamic_gt_arr = np.array([np.array([row['x'], row['y']]) for idx, row in df_dynamic.iterrows()])"
   ]
  },
  {
   "cell_type": "code",
   "execution_count": 10,
   "metadata": {
    "ExecuteTime": {
     "end_time": "2020-09-06T14:30:43.674446Z",
     "start_time": "2020-09-06T14:30:43.634822Z"
    }
   },
   "outputs": [
    {
     "data": {
      "text/plain": [
       "24"
      ]
     },
     "execution_count": 10,
     "metadata": {},
     "output_type": "execute_result"
    }
   ],
   "source": [
    "# Get all static points at a threshold radius from each dynamic point\n",
    "nn_static = NearestNeighbors(radius=PAIR_DIST_THRESH)\n",
    "nn_static.fit(static_gt_arr)\n",
    "feasible_distance_list, feasible_distance_idx_list = \\\n",
    "            nn_static.radius_neighbors(dynamic_gt_arr, radius=PAIR_DIST_THRESH)\n",
    "\n",
    "gc.collect()"
   ]
  },
  {
   "cell_type": "code",
   "execution_count": 11,
   "metadata": {
    "ExecuteTime": {
     "end_time": "2020-09-06T14:30:50.075488Z",
     "start_time": "2020-09-06T14:30:43.676454Z"
    }
   },
   "outputs": [
    {
     "name": "stderr",
     "output_type": "stream",
     "text": [
      "/home/saby/anaconda3/envs/ati/lib/python3.6/site-packages/ipykernel_launcher.py:4: TqdmDeprecationWarning: This function will be removed in tqdm==5.0.0\n",
      "Please use `tqdm.notebook.tqdm` instead of `tqdm.tqdm_notebook`\n",
      "  after removing the cwd from sys.path.\n"
     ]
    },
    {
     "data": {
      "application/vnd.jupyter.widget-view+json": {
       "model_id": "305eee8068d441b5b81d5c1a638b909f",
       "version_major": 2,
       "version_minor": 0
      },
      "text/plain": [
       "HBox(children=(FloatProgress(value=0.0, max=2255.0), HTML(value='')))"
      ]
     },
     "metadata": {},
     "output_type": "display_data"
    },
    {
     "name": "stdout",
     "output_type": "stream",
     "text": [
      "\n"
     ]
    },
    {
     "data": {
      "text/plain": [
       "3"
      ]
     },
     "execution_count": 11,
     "metadata": {},
     "output_type": "execute_result"
    }
   ],
   "source": [
    "# For all static idxs found for every dynamic point, see if we are in given orientation threshold\n",
    "feasible_static_list = []\n",
    "\n",
    "for dynamic_idx in tqdm_notebook(range(df_dynamic.shape[0])):\n",
    "    feasible_flag = False\n",
    "    \n",
    "    feasible_ang_list = []\n",
    "    feasible_static_idx_list = []\n",
    "    more_feasible_distance_list = []\n",
    "    \n",
    "    \n",
    "    if len(feasible_distance_idx_list[dynamic_idx]) > 0:\n",
    "        dynamic_yaw = df_dynamic.iloc[dynamic_idx]['yaw']\n",
    "        for static_distance, static_idx in zip(feasible_distance_list[dynamic_idx], feasible_distance_idx_list[dynamic_idx]):\n",
    "            static_yaw = df_static.iloc[static_idx]['yaw']\n",
    "            rel_yaw = np.abs(get_relative_yaw(static_yaw, dynamic_yaw)) # we get value between 0 and 180\n",
    "            if rel_yaw < PAIR_ANGL_THRESH:\n",
    "                feasible_flag = True\n",
    "                feasible_ang_list.append(rel_yaw)\n",
    "                feasible_static_idx_list.append(static_idx)\n",
    "                more_feasible_distance_list.append(static_distance)\n",
    "                \n",
    "    feasible_static_dict = {}\n",
    "    feasible_static_dict['flag'] = feasible_flag\n",
    "    feasible_static_dict['dynamic_idx'] = dynamic_idx\n",
    "    feasible_static_dict['static_idx_list'] = feasible_static_idx_list\n",
    "    feasible_static_dict['distance_list'] = more_feasible_distance_list\n",
    "    feasible_static_dict['angle_list'] = feasible_ang_list\n",
    "    feasible_static_list.append(feasible_static_dict)\n",
    "    \n",
    "    \n",
    "gc.collect()"
   ]
  },
  {
   "cell_type": "code",
   "execution_count": 12,
   "metadata": {
    "ExecuteTime": {
     "end_time": "2020-09-06T14:30:50.084466Z",
     "start_time": "2020-09-06T14:30:50.076934Z"
    }
   },
   "outputs": [
    {
     "data": {
      "text/plain": [
       "(2255, 5)"
      ]
     },
     "execution_count": 12,
     "metadata": {},
     "output_type": "execute_result"
    }
   ],
   "source": [
    "df_feasible = pd.DataFrame(feasible_static_list)\n",
    "df_feasible.shape"
   ]
  },
  {
   "cell_type": "code",
   "execution_count": 13,
   "metadata": {
    "ExecuteTime": {
     "end_time": "2020-09-06T14:30:50.088086Z",
     "start_time": "2020-09-06T14:30:50.085753Z"
    }
   },
   "outputs": [],
   "source": [
    "# df_feasible[df_feasible['flag']]"
   ]
  },
  {
   "cell_type": "code",
   "execution_count": 14,
   "metadata": {
    "ExecuteTime": {
     "end_time": "2020-09-06T14:30:50.665895Z",
     "start_time": "2020-09-06T14:30:50.089635Z"
    }
   },
   "outputs": [
    {
     "data": {
      "text/plain": [
       "0"
      ]
     },
     "execution_count": 14,
     "metadata": {},
     "output_type": "execute_result"
    }
   ],
   "source": [
    "corr_static_idx_list = []\n",
    "corr_distance_list = []\n",
    "corr_angle_list = []\n",
    "for idx, row in df_feasible.iterrows():\n",
    "    if row['flag']:\n",
    "        corr_distance_list.append(np.min(row['distance_list']))\n",
    "        \n",
    "        which_idx = np.argmin(row['distance_list'])\n",
    "        \n",
    "        corr_static_idx = row['static_idx_list'][which_idx]\n",
    "        corr_static_idx_list.append(corr_static_idx)\n",
    "        \n",
    "        corr_angle_idx = row['angle_list'][which_idx]\n",
    "        corr_angle_list.append(corr_angle_idx)\n",
    "    else:\n",
    "        corr_distance_list.append(np.nan)\n",
    "        corr_static_idx_list.append(-1)\n",
    "        corr_angle_list.append(np.nan)\n",
    "        \n",
    "gc.collect()"
   ]
  },
  {
   "cell_type": "code",
   "execution_count": 15,
   "metadata": {
    "ExecuteTime": {
     "end_time": "2020-09-06T14:30:50.673302Z",
     "start_time": "2020-09-06T14:30:50.667520Z"
    }
   },
   "outputs": [],
   "source": [
    "df_feasible['static_idx'] = corr_static_idx_list\n",
    "df_feasible['distance'] = corr_distance_list\n",
    "df_feasible['angle'] = corr_angle_list"
   ]
  },
  {
   "cell_type": "code",
   "execution_count": 16,
   "metadata": {
    "ExecuteTime": {
     "end_time": "2020-09-06T14:30:50.693071Z",
     "start_time": "2020-09-06T14:30:50.674584Z"
    }
   },
   "outputs": [
    {
     "data": {
      "text/plain": [
       "(1651, 4)"
      ]
     },
     "execution_count": 16,
     "metadata": {},
     "output_type": "execute_result"
    }
   ],
   "source": [
    "df_pair = df_feasible[df_feasible['flag']][['dynamic_idx', 'static_idx', 'distance', 'angle']].reset_index().drop(columns=['index'])\n",
    "df_pair.shape"
   ]
  },
  {
   "cell_type": "code",
   "execution_count": 17,
   "metadata": {
    "ExecuteTime": {
     "end_time": "2020-09-06T14:30:50.727809Z",
     "start_time": "2020-09-06T14:30:50.694751Z"
    }
   },
   "outputs": [
    {
     "data": {
      "text/plain": [
       "0"
      ]
     },
     "execution_count": 17,
     "metadata": {},
     "output_type": "execute_result"
    }
   ],
   "source": [
    "del df_feasible\n",
    "gc.collect()"
   ]
  },
  {
   "cell_type": "code",
   "execution_count": 18,
   "metadata": {
    "ExecuteTime": {
     "end_time": "2020-09-06T14:30:50.736593Z",
     "start_time": "2020-09-06T14:30:50.729324Z"
    }
   },
   "outputs": [
    {
     "data": {
      "text/html": [
       "<div>\n",
       "<style scoped>\n",
       "    .dataframe tbody tr th:only-of-type {\n",
       "        vertical-align: middle;\n",
       "    }\n",
       "\n",
       "    .dataframe tbody tr th {\n",
       "        vertical-align: top;\n",
       "    }\n",
       "\n",
       "    .dataframe thead th {\n",
       "        text-align: right;\n",
       "    }\n",
       "</style>\n",
       "<table border=\"1\" class=\"dataframe\">\n",
       "  <thead>\n",
       "    <tr style=\"text-align: right;\">\n",
       "      <th></th>\n",
       "      <th>dynamic_idx</th>\n",
       "      <th>static_idx</th>\n",
       "      <th>distance</th>\n",
       "      <th>angle</th>\n",
       "    </tr>\n",
       "  </thead>\n",
       "  <tbody>\n",
       "    <tr>\n",
       "      <th>0</th>\n",
       "      <td>0</td>\n",
       "      <td>666</td>\n",
       "      <td>0.491472</td>\n",
       "      <td>4.459915</td>\n",
       "    </tr>\n",
       "    <tr>\n",
       "      <th>1</th>\n",
       "      <td>1</td>\n",
       "      <td>666</td>\n",
       "      <td>0.491472</td>\n",
       "      <td>4.459885</td>\n",
       "    </tr>\n",
       "    <tr>\n",
       "      <th>2</th>\n",
       "      <td>2</td>\n",
       "      <td>666</td>\n",
       "      <td>0.491472</td>\n",
       "      <td>4.459885</td>\n",
       "    </tr>\n",
       "    <tr>\n",
       "      <th>3</th>\n",
       "      <td>3</td>\n",
       "      <td>666</td>\n",
       "      <td>0.491472</td>\n",
       "      <td>4.459885</td>\n",
       "    </tr>\n",
       "    <tr>\n",
       "      <th>4</th>\n",
       "      <td>4</td>\n",
       "      <td>666</td>\n",
       "      <td>0.491472</td>\n",
       "      <td>4.459885</td>\n",
       "    </tr>\n",
       "  </tbody>\n",
       "</table>\n",
       "</div>"
      ],
      "text/plain": [
       "   dynamic_idx  static_idx  distance     angle\n",
       "0            0         666  0.491472  4.459915\n",
       "1            1         666  0.491472  4.459885\n",
       "2            2         666  0.491472  4.459885\n",
       "3            3         666  0.491472  4.459885\n",
       "4            4         666  0.491472  4.459885"
      ]
     },
     "execution_count": 18,
     "metadata": {},
     "output_type": "execute_result"
    }
   ],
   "source": [
    "df_pair.head()"
   ]
  },
  {
   "cell_type": "code",
   "execution_count": 19,
   "metadata": {
    "ExecuteTime": {
     "end_time": "2020-09-06T14:30:53.406970Z",
     "start_time": "2020-09-06T14:30:50.737999Z"
    }
   },
   "outputs": [
    {
     "name": "stdout",
     "output_type": "stream",
     "text": [
      "Getting static poses\n",
      "Getting dynamic poses\n"
     ]
    }
   ],
   "source": [
    "print(\"Getting static poses\")\n",
    "df_pair['static_x'] = [df_static.iloc[int(row['static_idx'])]['x'] for idx, row in df_pair.iterrows()]\n",
    "df_pair['static_y'] = [df_static.iloc[int(row['static_idx'])]['y'] for idx, row in df_pair.iterrows()]\n",
    "# df_pair['static_z'] = [df_static.iloc[int(row['static_idx'])]['z'] for idx, row in df_pair.iterrows()]\n",
    "# df_pair['static_roll'] = [df_static.iloc[int(row['static_idx'])]['roll'] for idx, row in df_pair.iterrows()]\n",
    "# df_pair['static_pitch'] = [df_static.iloc[int(row['static_idx'])]['pitch'] for idx, row in df_pair.iterrows()]\n",
    "df_pair['static_yaw'] = [df_static.iloc[int(row['static_idx'])]['yaw'] for idx, row in df_pair.iterrows()]\n",
    "\n",
    "print(\"Getting dynamic poses\")\n",
    "df_pair['dynamic_x'] = [df_dynamic.iloc[int(row['dynamic_idx'])]['x'] for idx, row in df_pair.iterrows()]\n",
    "df_pair['dynamic_y'] = [df_dynamic.iloc[int(row['dynamic_idx'])]['y'] for idx, row in df_pair.iterrows()]\n",
    "# df_pair['dynamic_z'] = [df_dynamic.iloc[int(row['dynamic_idx'])]['z'] for idx, row in df_pair.iterrows()]\n",
    "# df_pair['dynamic_roll'] = [df_dynamic.iloc[int(row['dynamic_idx'])]['roll'] for idx, row in df_pair.iterrows()]\n",
    "# df_pair['dynamic_pitch'] = [df_dynamic.iloc[int(row['dynamic_idx'])]['pitch'] for idx, row in df_pair.iterrows()]\n",
    "df_pair['dynamic_yaw'] = [df_dynamic.iloc[int(row['dynamic_idx'])]['yaw'] for idx, row in df_pair.iterrows()]"
   ]
  },
  {
   "cell_type": "code",
   "execution_count": 20,
   "metadata": {
    "ExecuteTime": {
     "end_time": "2020-09-06T14:30:53.420465Z",
     "start_time": "2020-09-06T14:30:53.408539Z"
    }
   },
   "outputs": [
    {
     "data": {
      "text/html": [
       "<div>\n",
       "<style scoped>\n",
       "    .dataframe tbody tr th:only-of-type {\n",
       "        vertical-align: middle;\n",
       "    }\n",
       "\n",
       "    .dataframe tbody tr th {\n",
       "        vertical-align: top;\n",
       "    }\n",
       "\n",
       "    .dataframe thead th {\n",
       "        text-align: right;\n",
       "    }\n",
       "</style>\n",
       "<table border=\"1\" class=\"dataframe\">\n",
       "  <thead>\n",
       "    <tr style=\"text-align: right;\">\n",
       "      <th></th>\n",
       "      <th>dynamic_idx</th>\n",
       "      <th>static_idx</th>\n",
       "      <th>distance</th>\n",
       "      <th>angle</th>\n",
       "      <th>static_x</th>\n",
       "      <th>static_y</th>\n",
       "      <th>static_yaw</th>\n",
       "      <th>dynamic_x</th>\n",
       "      <th>dynamic_y</th>\n",
       "      <th>dynamic_yaw</th>\n",
       "    </tr>\n",
       "  </thead>\n",
       "  <tbody>\n",
       "    <tr>\n",
       "      <th>0</th>\n",
       "      <td>0</td>\n",
       "      <td>666</td>\n",
       "      <td>0.491472</td>\n",
       "      <td>4.459915</td>\n",
       "      <td>88.155617</td>\n",
       "      <td>146.000946</td>\n",
       "      <td>94.459961</td>\n",
       "      <td>88.619987</td>\n",
       "      <td>145.839996</td>\n",
       "      <td>90.000046</td>\n",
       "    </tr>\n",
       "    <tr>\n",
       "      <th>1</th>\n",
       "      <td>1</td>\n",
       "      <td>666</td>\n",
       "      <td>0.491472</td>\n",
       "      <td>4.459885</td>\n",
       "      <td>88.155617</td>\n",
       "      <td>146.000946</td>\n",
       "      <td>94.459961</td>\n",
       "      <td>88.619987</td>\n",
       "      <td>145.839996</td>\n",
       "      <td>90.000076</td>\n",
       "    </tr>\n",
       "    <tr>\n",
       "      <th>2</th>\n",
       "      <td>2</td>\n",
       "      <td>666</td>\n",
       "      <td>0.491472</td>\n",
       "      <td>4.459885</td>\n",
       "      <td>88.155617</td>\n",
       "      <td>146.000946</td>\n",
       "      <td>94.459961</td>\n",
       "      <td>88.619987</td>\n",
       "      <td>145.839996</td>\n",
       "      <td>90.000076</td>\n",
       "    </tr>\n",
       "    <tr>\n",
       "      <th>3</th>\n",
       "      <td>3</td>\n",
       "      <td>666</td>\n",
       "      <td>0.491472</td>\n",
       "      <td>4.459885</td>\n",
       "      <td>88.155617</td>\n",
       "      <td>146.000946</td>\n",
       "      <td>94.459961</td>\n",
       "      <td>88.619987</td>\n",
       "      <td>145.839996</td>\n",
       "      <td>90.000076</td>\n",
       "    </tr>\n",
       "    <tr>\n",
       "      <th>4</th>\n",
       "      <td>4</td>\n",
       "      <td>666</td>\n",
       "      <td>0.491472</td>\n",
       "      <td>4.459885</td>\n",
       "      <td>88.155617</td>\n",
       "      <td>146.000946</td>\n",
       "      <td>94.459961</td>\n",
       "      <td>88.619987</td>\n",
       "      <td>145.839996</td>\n",
       "      <td>90.000076</td>\n",
       "    </tr>\n",
       "  </tbody>\n",
       "</table>\n",
       "</div>"
      ],
      "text/plain": [
       "   dynamic_idx  static_idx  distance     angle   static_x    static_y  \\\n",
       "0            0         666  0.491472  4.459915  88.155617  146.000946   \n",
       "1            1         666  0.491472  4.459885  88.155617  146.000946   \n",
       "2            2         666  0.491472  4.459885  88.155617  146.000946   \n",
       "3            3         666  0.491472  4.459885  88.155617  146.000946   \n",
       "4            4         666  0.491472  4.459885  88.155617  146.000946   \n",
       "\n",
       "   static_yaw  dynamic_x   dynamic_y  dynamic_yaw  \n",
       "0   94.459961  88.619987  145.839996    90.000046  \n",
       "1   94.459961  88.619987  145.839996    90.000076  \n",
       "2   94.459961  88.619987  145.839996    90.000076  \n",
       "3   94.459961  88.619987  145.839996    90.000076  \n",
       "4   94.459961  88.619987  145.839996    90.000076  "
      ]
     },
     "execution_count": 20,
     "metadata": {},
     "output_type": "execute_result"
    }
   ],
   "source": [
    "df_pair.head()"
   ]
  },
  {
   "cell_type": "code",
   "execution_count": 21,
   "metadata": {
    "ExecuteTime": {
     "end_time": "2020-09-06T14:30:53.592147Z",
     "start_time": "2020-09-06T14:30:53.421800Z"
    }
   },
   "outputs": [],
   "source": [
    "df_pair['pose_x'] = df_pair['dynamic_x'] - df_pair['static_x']\n",
    "df_pair['pose_y'] = df_pair['dynamic_y'] - df_pair['static_y']\n",
    "df_pair['pose_yaw'] = [get_relative_yaw(row['static_yaw'], row['dynamic_yaw']) for idx, row in df_pair.iterrows()]"
   ]
  },
  {
   "cell_type": "code",
   "execution_count": 22,
   "metadata": {
    "ExecuteTime": {
     "end_time": "2020-09-06T14:30:53.596497Z",
     "start_time": "2020-09-06T14:30:53.593574Z"
    }
   },
   "outputs": [
    {
     "data": {
      "text/plain": [
       "(1651, 13)"
      ]
     },
     "execution_count": 22,
     "metadata": {},
     "output_type": "execute_result"
    }
   ],
   "source": [
    "df_pair.shape"
   ]
  },
  {
   "cell_type": "code",
   "execution_count": 23,
   "metadata": {
    "ExecuteTime": {
     "end_time": "2020-09-06T14:30:53.613937Z",
     "start_time": "2020-09-06T14:30:53.599629Z"
    }
   },
   "outputs": [
    {
     "data": {
      "text/html": [
       "<div>\n",
       "<style scoped>\n",
       "    .dataframe tbody tr th:only-of-type {\n",
       "        vertical-align: middle;\n",
       "    }\n",
       "\n",
       "    .dataframe tbody tr th {\n",
       "        vertical-align: top;\n",
       "    }\n",
       "\n",
       "    .dataframe thead th {\n",
       "        text-align: right;\n",
       "    }\n",
       "</style>\n",
       "<table border=\"1\" class=\"dataframe\">\n",
       "  <thead>\n",
       "    <tr style=\"text-align: right;\">\n",
       "      <th></th>\n",
       "      <th>dynamic_idx</th>\n",
       "      <th>static_idx</th>\n",
       "      <th>distance</th>\n",
       "      <th>angle</th>\n",
       "      <th>static_x</th>\n",
       "      <th>static_y</th>\n",
       "      <th>static_yaw</th>\n",
       "      <th>dynamic_x</th>\n",
       "      <th>dynamic_y</th>\n",
       "      <th>dynamic_yaw</th>\n",
       "      <th>pose_x</th>\n",
       "      <th>pose_y</th>\n",
       "      <th>pose_yaw</th>\n",
       "    </tr>\n",
       "  </thead>\n",
       "  <tbody>\n",
       "    <tr>\n",
       "      <th>0</th>\n",
       "      <td>0</td>\n",
       "      <td>666</td>\n",
       "      <td>0.491472</td>\n",
       "      <td>4.459915</td>\n",
       "      <td>88.155617</td>\n",
       "      <td>146.000946</td>\n",
       "      <td>94.459961</td>\n",
       "      <td>88.619987</td>\n",
       "      <td>145.839996</td>\n",
       "      <td>90.000046</td>\n",
       "      <td>0.464371</td>\n",
       "      <td>-0.16095</td>\n",
       "      <td>-4.459915</td>\n",
       "    </tr>\n",
       "    <tr>\n",
       "      <th>1</th>\n",
       "      <td>1</td>\n",
       "      <td>666</td>\n",
       "      <td>0.491472</td>\n",
       "      <td>4.459885</td>\n",
       "      <td>88.155617</td>\n",
       "      <td>146.000946</td>\n",
       "      <td>94.459961</td>\n",
       "      <td>88.619987</td>\n",
       "      <td>145.839996</td>\n",
       "      <td>90.000076</td>\n",
       "      <td>0.464371</td>\n",
       "      <td>-0.16095</td>\n",
       "      <td>-4.459885</td>\n",
       "    </tr>\n",
       "    <tr>\n",
       "      <th>2</th>\n",
       "      <td>2</td>\n",
       "      <td>666</td>\n",
       "      <td>0.491472</td>\n",
       "      <td>4.459885</td>\n",
       "      <td>88.155617</td>\n",
       "      <td>146.000946</td>\n",
       "      <td>94.459961</td>\n",
       "      <td>88.619987</td>\n",
       "      <td>145.839996</td>\n",
       "      <td>90.000076</td>\n",
       "      <td>0.464371</td>\n",
       "      <td>-0.16095</td>\n",
       "      <td>-4.459885</td>\n",
       "    </tr>\n",
       "    <tr>\n",
       "      <th>3</th>\n",
       "      <td>3</td>\n",
       "      <td>666</td>\n",
       "      <td>0.491472</td>\n",
       "      <td>4.459885</td>\n",
       "      <td>88.155617</td>\n",
       "      <td>146.000946</td>\n",
       "      <td>94.459961</td>\n",
       "      <td>88.619987</td>\n",
       "      <td>145.839996</td>\n",
       "      <td>90.000076</td>\n",
       "      <td>0.464371</td>\n",
       "      <td>-0.16095</td>\n",
       "      <td>-4.459885</td>\n",
       "    </tr>\n",
       "    <tr>\n",
       "      <th>4</th>\n",
       "      <td>4</td>\n",
       "      <td>666</td>\n",
       "      <td>0.491472</td>\n",
       "      <td>4.459885</td>\n",
       "      <td>88.155617</td>\n",
       "      <td>146.000946</td>\n",
       "      <td>94.459961</td>\n",
       "      <td>88.619987</td>\n",
       "      <td>145.839996</td>\n",
       "      <td>90.000076</td>\n",
       "      <td>0.464371</td>\n",
       "      <td>-0.16095</td>\n",
       "      <td>-4.459885</td>\n",
       "    </tr>\n",
       "  </tbody>\n",
       "</table>\n",
       "</div>"
      ],
      "text/plain": [
       "   dynamic_idx  static_idx  distance     angle   static_x    static_y  \\\n",
       "0            0         666  0.491472  4.459915  88.155617  146.000946   \n",
       "1            1         666  0.491472  4.459885  88.155617  146.000946   \n",
       "2            2         666  0.491472  4.459885  88.155617  146.000946   \n",
       "3            3         666  0.491472  4.459885  88.155617  146.000946   \n",
       "4            4         666  0.491472  4.459885  88.155617  146.000946   \n",
       "\n",
       "   static_yaw  dynamic_x   dynamic_y  dynamic_yaw    pose_x   pose_y  pose_yaw  \n",
       "0   94.459961  88.619987  145.839996    90.000046  0.464371 -0.16095 -4.459915  \n",
       "1   94.459961  88.619987  145.839996    90.000076  0.464371 -0.16095 -4.459885  \n",
       "2   94.459961  88.619987  145.839996    90.000076  0.464371 -0.16095 -4.459885  \n",
       "3   94.459961  88.619987  145.839996    90.000076  0.464371 -0.16095 -4.459885  \n",
       "4   94.459961  88.619987  145.839996    90.000076  0.464371 -0.16095 -4.459885  "
      ]
     },
     "execution_count": 23,
     "metadata": {},
     "output_type": "execute_result"
    }
   ],
   "source": [
    "df_pair.head()"
   ]
  },
  {
   "cell_type": "code",
   "execution_count": 24,
   "metadata": {
    "ExecuteTime": {
     "end_time": "2020-09-06T14:30:53.620453Z",
     "start_time": "2020-09-06T14:30:53.615636Z"
    }
   },
   "outputs": [
    {
     "name": "stdout",
     "output_type": "stream",
     "text": [
      "Check how many corresponding yaw measurements are wrong:\n"
     ]
    },
    {
     "data": {
      "text/plain": [
       "0"
      ]
     },
     "execution_count": 24,
     "metadata": {},
     "output_type": "execute_result"
    }
   ],
   "source": [
    "print(\"Check how many corresponding yaw measurements are wrong:\")\n",
    "# TODO check for distance \n",
    "# TODO check if it is indeed the min\n",
    "np.sum(df_pair['angle'] != np.abs(df_pair['pose_yaw']))"
   ]
  },
  {
   "cell_type": "code",
   "execution_count": null,
   "metadata": {},
   "outputs": [],
   "source": []
  },
  {
   "cell_type": "markdown",
   "metadata": {},
   "source": [
    "Save"
   ]
  },
  {
   "cell_type": "code",
   "execution_count": 25,
   "metadata": {
    "ExecuteTime": {
     "end_time": "2020-09-06T14:30:53.625568Z",
     "start_time": "2020-09-06T14:30:53.621699Z"
    }
   },
   "outputs": [
    {
     "data": {
      "text/plain": [
       "Index(['dynamic_idx', 'static_idx', 'distance', 'angle', 'static_x',\n",
       "       'static_y', 'static_yaw', 'dynamic_x', 'dynamic_y', 'dynamic_yaw',\n",
       "       'pose_x', 'pose_y', 'pose_yaw'],\n",
       "      dtype='object')"
      ]
     },
     "execution_count": 25,
     "metadata": {},
     "output_type": "execute_result"
    }
   ],
   "source": [
    "df_pair.columns"
   ]
  },
  {
   "cell_type": "code",
   "execution_count": 26,
   "metadata": {
    "ExecuteTime": {
     "end_time": "2020-09-06T14:30:54.414600Z",
     "start_time": "2020-09-06T14:30:53.627068Z"
    }
   },
   "outputs": [],
   "source": [
    "static_path_list = []\n",
    "dynamic_path_list = []\n",
    "for idx, row in df_pair.iterrows():\n",
    "    static_path_list.append(df_static.iloc[int(row['static_idx'])]['path'])\n",
    "    dynamic_path_list.append(df_dynamic.iloc[int(row['dynamic_idx'])]['path'])\n",
    "    \n",
    "df_pair['static_path'] = static_path_list\n",
    "df_pair['dynamic_path'] = dynamic_path_list"
   ]
  },
  {
   "cell_type": "code",
   "execution_count": null,
   "metadata": {},
   "outputs": [],
   "source": []
  },
  {
   "cell_type": "raw",
   "metadata": {
    "ExecuteTime": {
     "end_time": "2020-01-22T16:55:13.162521Z",
     "start_time": "2020-01-22T16:55:13.154498Z"
    }
   },
   "source": [
    "# Function to get transformation matrix for a given pose\n",
    "def pose2matrix(translation_list, rotation_angle_list, zoom_list=[1,1,1]):\n",
    "    # trans_vec = np.array(translation_list)\n",
    "    rot_ang = [np.deg2rad(ang) for ang in rotation_angle_list ]\n",
    "    rot_mat = transforms3d.euler.euler2mat(rot_ang[0], rot_ang[1], rot_ang[2])\n",
    "    zoom_vec = np.array(zoom_list)\n",
    "    # transform_mat = transforms3d.affines.compose(trans_vec, rot_mat, zoom_vec)\n",
    "    transform_mat = transforms3d.affines.compose(translation_list, rot_mat, zoom_list)\n",
    "    return transform_mat"
   ]
  },
  {
   "cell_type": "code",
   "execution_count": null,
   "metadata": {},
   "outputs": [],
   "source": []
  },
  {
   "cell_type": "raw",
   "metadata": {
    "ExecuteTime": {
     "end_time": "2020-09-06T14:30:14.890310Z",
     "start_time": "2020-09-06T14:30:14.786067Z"
    }
   },
   "source": [
    "fname = os.path.join(BASE_PATH, PAIR_FILE)\n",
    "\n",
    "df_pair[['static_path', 'dynamic_path', 'pose_x', 'pose_y', 'pose_yaw',\\\n",
    "         'static_x','static_y','static_yaw',\\\n",
    "         'dynamic_x','dynamic_y','dynamic_yaw']].to_csv(fname, index=False)"
   ]
  },
  {
   "cell_type": "code",
   "execution_count": 27,
   "metadata": {
    "ExecuteTime": {
     "end_time": "2020-09-06T14:30:54.419716Z",
     "start_time": "2020-09-06T14:30:54.416000Z"
    }
   },
   "outputs": [
    {
     "data": {
      "text/plain": [
       "array(['/home/saby/Projects/ati/data/data/datasets/Carla/64beam-Data/dynamic/5/_segment/1.ply',\n",
       "       '/home/saby/Projects/ati/data/data/datasets/Carla/64beam-Data/dynamic/5/_segment/2.ply',\n",
       "       '/home/saby/Projects/ati/data/data/datasets/Carla/64beam-Data/dynamic/5/_segment/3.ply',\n",
       "       ...,\n",
       "       '/home/saby/Projects/ati/data/data/datasets/Carla/64beam-Data/dynamic/5/_segment/2019.ply',\n",
       "       '/home/saby/Projects/ati/data/data/datasets/Carla/64beam-Data/dynamic/5/_segment/2020.ply',\n",
       "       '/home/saby/Projects/ati/data/data/datasets/Carla/64beam-Data/dynamic/5/_segment/2021.ply'],\n",
       "      dtype=object)"
      ]
     },
     "execution_count": 27,
     "metadata": {},
     "output_type": "execute_result"
    }
   ],
   "source": [
    "df_pair['dynamic_path'].values"
   ]
  },
  {
   "cell_type": "code",
   "execution_count": 28,
   "metadata": {
    "ExecuteTime": {
     "end_time": "2020-09-06T14:30:54.529127Z",
     "start_time": "2020-09-06T14:30:54.421089Z"
    }
   },
   "outputs": [
    {
     "ename": "NameError",
     "evalue": "name 'fname' is not defined",
     "output_type": "error",
     "traceback": [
      "\u001b[0;31m---------------------------------------------------------------------------\u001b[0m",
      "\u001b[0;31mNameError\u001b[0m                                 Traceback (most recent call last)",
      "\u001b[0;32m<ipython-input-28-7fc988ee3c79>\u001b[0m in \u001b[0;36m<module>\u001b[0;34m\u001b[0m\n\u001b[0;32m----> 1\u001b[0;31m \u001b[0mfname\u001b[0m\u001b[0;34m\u001b[0m\u001b[0;34m\u001b[0m\u001b[0m\n\u001b[0m",
      "\u001b[0;31mNameError\u001b[0m: name 'fname' is not defined"
     ]
    }
   ],
   "source": [
    "fname"
   ]
  },
  {
   "cell_type": "code",
   "execution_count": null,
   "metadata": {
    "ExecuteTime": {
     "end_time": "2020-09-06T14:30:54.530501Z",
     "start_time": "2020-09-06T14:28:41.124Z"
    }
   },
   "outputs": [],
   "source": [
    "df_pair.shape"
   ]
  },
  {
   "cell_type": "code",
   "execution_count": null,
   "metadata": {
    "ExecuteTime": {
     "end_time": "2020-09-06T14:30:54.531418Z",
     "start_time": "2020-09-06T14:28:41.128Z"
    }
   },
   "outputs": [],
   "source": [
    "df_pair[df_pair['dynamic_idx'] == 1120]"
   ]
  },
  {
   "cell_type": "code",
   "execution_count": null,
   "metadata": {
    "ExecuteTime": {
     "end_time": "2020-09-06T14:30:54.532440Z",
     "start_time": "2020-09-06T14:28:41.130Z"
    }
   },
   "outputs": [],
   "source": [
    "df_pair['dynamic_idx'][2]"
   ]
  },
  {
   "cell_type": "code",
   "execution_count": null,
   "metadata": {
    "ExecuteTime": {
     "end_time": "2020-09-06T14:30:54.533358Z",
     "start_time": "2020-09-06T14:28:41.132Z"
    }
   },
   "outputs": [],
   "source": [
    "list(df_pair['dynamic_idx'].values[1100:])"
   ]
  },
  {
   "cell_type": "code",
   "execution_count": null,
   "metadata": {},
   "outputs": [],
   "source": []
  },
  {
   "cell_type": "markdown",
   "metadata": {},
   "source": [
    "Visualize any random pair for verification"
   ]
  },
  {
   "cell_type": "code",
   "execution_count": 29,
   "metadata": {
    "ExecuteTime": {
     "end_time": "2020-09-06T14:31:44.646737Z",
     "start_time": "2020-09-06T14:31:44.263088Z"
    }
   },
   "outputs": [
    {
     "data": {
      "text/plain": [
       "'0.9.0.0'"
      ]
     },
     "execution_count": 29,
     "metadata": {},
     "output_type": "execute_result"
    }
   ],
   "source": [
    "import open3d as o3d\n",
    "import copy\n",
    "import transforms3d\n",
    "o3d.__version__"
   ]
  },
  {
   "cell_type": "code",
   "execution_count": 30,
   "metadata": {
    "ExecuteTime": {
     "end_time": "2020-09-06T14:31:44.873827Z",
     "start_time": "2020-09-06T14:31:44.862429Z"
    }
   },
   "outputs": [],
   "source": [
    "# def pose2matrix(translation_list, rotation_angle_list):\n",
    "#     trans_vec = np.array(translation_list)\n",
    "#     rot_ang = [np.deg2rad(ang) for ang in rotation_angle_list ]\n",
    "#     rot_mat = transforms3d.euler.euler2mat(rot_ang[0], rot_ang[1], rot_ang[2])\n",
    "#     zoom = np.ones(3)\n",
    "#     transform_mat = transforms3d.affines.compose(trans_vec, rot_mat, zoom)\n",
    "#     return transform_mat\n",
    "\n",
    "# Function to get transformation matrix for a given pose\n",
    "def pose2matrix(translation_list, rotation_angle_list, zoom_list=[1,1,1]):\n",
    "    # trans_vec = np.array(translation_list)\n",
    "    rot_ang = [np.deg2rad(ang) for ang in rotation_angle_list ]\n",
    "    rot_mat = transforms3d.euler.euler2mat(rot_ang[0], rot_ang[1], rot_ang[2])\n",
    "    zoom_vec = np.array(zoom_list)\n",
    "    # transform_mat = transforms3d.affines.compose(trans_vec, rot_mat, zoom_vec)\n",
    "    transform_mat = transforms3d.affines.compose(translation_list, rot_mat, zoom_list)\n",
    "    return transform_mat\n",
    "\n",
    "def draw_registration_result(src_pcd, dst_pcd, x_pt, y_pt, theta):    \n",
    "    src_pcd_tmp = copy.deepcopy(src_pcd)\n",
    "    dst_pcd_tmp = copy.deepcopy(dst_pcd)\n",
    "    \n",
    "    src_pcd_tmp.paint_uniform_color([0, 0, 0])  # black source\n",
    "    dst_pcd_tmp.paint_uniform_color([1, 0, 0])  # red target\n",
    "    \n",
    "    transform_mat = pose2matrix([x_pt, y_pt, 0], [0,0,theta])\n",
    "    dst_pcd_tmp.transform(transform_mat)\n",
    "    \n",
    "    visualizer = o3d.JVisualizer()\n",
    "    visualizer.add_geometry(src_pcd_tmp)\n",
    "    visualizer.add_geometry(dst_pcd_tmp)\n",
    "    visualizer.show()"
   ]
  },
  {
   "cell_type": "code",
   "execution_count": 31,
   "metadata": {
    "ExecuteTime": {
     "end_time": "2020-09-06T14:31:53.598300Z",
     "start_time": "2020-09-06T14:31:45.731587Z"
    }
   },
   "outputs": [
    {
     "name": "stdout",
     "output_type": "stream",
     "text": [
      "Distance (in m): 0.18964991721176092 \n",
      "Relative Angle (in deg): 6.051867485046387\n",
      "Without pose difference correction\n"
     ]
    },
    {
     "data": {
      "application/vnd.jupyter.widget-view+json": {
       "model_id": "c606a41c21ec47bf8f6783467428bd19",
       "version_major": 2,
       "version_minor": 0
      },
      "text/plain": [
       "JVisualizer with 2 geometries"
      ]
     },
     "metadata": {},
     "output_type": "display_data"
    }
   ],
   "source": [
    "# some_row = df_pair.iloc[np.random.choice(df_pair.shape[0])]\n",
    "some_row = df_pair.iloc[1107]\n",
    "\n",
    "print(\"Distance (in m): {} \\nRelative Angle (in deg): {}\".format(some_row['distance'], some_row['angle']))\n",
    "\n",
    "some_static_pcd_path = df_static.iloc[int(some_row['static_idx'])]['path']\n",
    "some_static_pcd = o3d.io.read_point_cloud(some_static_pcd_path)\n",
    "\n",
    "some_dynamic_pcd_path = df_dynamic.iloc[int(some_row['dynamic_idx'])]['path']\n",
    "some_dynamic_pcd = o3d.io.read_point_cloud(some_dynamic_pcd_path)\n",
    "\n",
    "print(\"Without pose difference correction\")\n",
    "draw_registration_result(some_static_pcd, some_dynamic_pcd, 0, 0, 0)\n",
    "# Static is red\n",
    "# dynamic is blue"
   ]
  },
  {
   "cell_type": "code",
   "execution_count": 32,
   "metadata": {
    "ExecuteTime": {
     "end_time": "2020-09-06T14:31:53.608667Z",
     "start_time": "2020-09-06T14:31:53.600619Z"
    }
   },
   "outputs": [],
   "source": [
    "def transform_corr_static_pcd(static_pcd, pair_row):\n",
    "    # Calculate all the transforms\n",
    "    transform_lidar   = pose2matrix([0, 0, 0],\n",
    "                                    [0, 0, 90],\n",
    "                                    [1, 1, -1])\n",
    "    transform_static1  = pose2matrix([pair_row['static_x'], pair_row['static_y'], 0],\n",
    "                                    [0,0, pair_row['static_yaw']])\n",
    "    transform_dynamic1 = pose2matrix([pair_row['dynamic_x'], pair_row['dynamic_y'], 0],\n",
    "                                    [0, 0, pair_row['dynamic_yaw']])\n",
    "    transform1 = np.matmul(np.linalg.inv(transform_dynamic1), transform_static1)\n",
    "    \n",
    "    transform_static2  = pose2matrix([0, 0, 0],\n",
    "                                    [0,0, pair_row['static_yaw']])\n",
    "    transform_dynamic2 = pose2matrix([0, 0, 0],\n",
    "                                    [0, 0, pair_row['dynamic_yaw']])\n",
    "    transform2 = np.matmul(np.linalg.inv(transform_dynamic2), transform_static2)\n",
    "    \n",
    "    # Apply all the transforms\n",
    "    static_pcd_tmp = copy.deepcopy(static_pcd)\n",
    "    static_pcd_tmp.transform(np.linalg.inv(transform_lidar))\n",
    "    static_pcd_tmp.transform(np.linalg.inv(transform1))\n",
    "    static_pcd_tmp.transform(transform2)\n",
    "    static_pcd_tmp.transform(transform2)     # Need to fix this hack\n",
    "    static_pcd_tmp.transform(transform_lidar)\n",
    "    \n",
    "    return static_pcd_tmp"
   ]
  },
  {
   "cell_type": "code",
   "execution_count": 33,
   "metadata": {
    "ExecuteTime": {
     "end_time": "2020-09-06T14:32:01.296103Z",
     "start_time": "2020-09-06T14:31:53.612172Z"
    }
   },
   "outputs": [
    {
     "name": "stdout",
     "output_type": "stream",
     "text": [
      "With pose difference correction\n"
     ]
    },
    {
     "data": {
      "application/vnd.jupyter.widget-view+json": {
       "model_id": "3b0243fe5bc34e12b5b70ba372fd9897",
       "version_major": 2,
       "version_minor": 0
      },
      "text/plain": [
       "JVisualizer with 2 geometries"
      ]
     },
     "metadata": {},
     "output_type": "display_data"
    }
   ],
   "source": [
    "print(\"With pose difference correction\")\n",
    "some_static_pcd_tmp = transform_corr_static_pcd(some_static_pcd, some_row)\n",
    "draw_registration_result(some_static_pcd_tmp, some_dynamic_pcd, 0, 0, 0)\n",
    "# Static is red\n",
    "# dynamic is blue"
   ]
  },
  {
   "cell_type": "code",
   "execution_count": null,
   "metadata": {},
   "outputs": [],
   "source": []
  },
  {
   "cell_type": "code",
   "execution_count": null,
   "metadata": {},
   "outputs": [],
   "source": []
  },
  {
   "cell_type": "code",
   "execution_count": null,
   "metadata": {},
   "outputs": [],
   "source": []
  },
  {
   "cell_type": "raw",
   "metadata": {
    "ExecuteTime": {
     "end_time": "2020-01-23T10:55:47.415093Z",
     "start_time": "2020-01-23T10:55:46.190396Z"
    }
   },
   "source": [
    "transform_lidar   = pose2matrix([0, 0, 0], [0, 0, 90], [1,1,-1])\n",
    "transform_static  = pose2matrix([some_row['static_x'], some_row['static_y'], some_row['static_z']], [some_row['static_roll'],some_row['static_pitch'], some_row['static_yaw']])\n",
    "transform_dynamic = pose2matrix([some_row['dynamic_x'], some_row['dynamic_y'], some_row['dynamic_z']], [some_row['dynamic_roll'], some_row['dynamic_pitch'], some_row['dynamic_yaw']])\n",
    "\n",
    "transform = np.matmul(np.linalg.inv(transform_dynamic), transform_static)\n",
    "\n",
    "some_static_pcd_tmp = copy.deepcopy(some_static_pcd)\n",
    "some_static_pcd_tmp.transform(np.linalg.inv(tra`nsform_lidar))\n",
    "some_static_pcd_tmp.transform(np.linalg.inv(transform))\n",
    "some_static_pcd_tmp.transform(transform_lidar)\n",
    "\n",
    "some_dynamic_pcd_tmp = copy.deepcopy(some_dynamic_pcd)\n",
    "# some_dynamic_pcd_tmp.transform(np.linalg.inv(transform_lidar))\n",
    "\n",
    "print(\"With pose difference correction\")\n",
    "draw_registration_result(some_static_pcd_tmp, some_dynamic_pcd_tmp, 0, 0, 0)\n",
    "# Static is red\n",
    "# dynamic is bluestat"
   ]
  },
  {
   "cell_type": "code",
   "execution_count": null,
   "metadata": {},
   "outputs": [],
   "source": []
  },
  {
   "cell_type": "code",
   "execution_count": null,
   "metadata": {},
   "outputs": [],
   "source": []
  },
  {
   "cell_type": "code",
   "execution_count": null,
   "metadata": {},
   "outputs": [],
   "source": []
  },
  {
   "cell_type": "code",
   "execution_count": null,
   "metadata": {},
   "outputs": [],
   "source": []
  },
  {
   "cell_type": "code",
   "execution_count": null,
   "metadata": {},
   "outputs": [],
   "source": []
  },
  {
   "cell_type": "code",
   "execution_count": null,
   "metadata": {},
   "outputs": [],
   "source": []
  },
  {
   "cell_type": "code",
   "execution_count": null,
   "metadata": {},
   "outputs": [],
   "source": []
  }
 ],
 "metadata": {
  "kernelspec": {
   "display_name": "Python 3",
   "language": "python",
   "name": "python3"
  },
  "language_info": {
   "codemirror_mode": {
    "name": "ipython",
    "version": 3
   },
   "file_extension": ".py",
   "mimetype": "text/x-python",
   "name": "python",
   "nbconvert_exporter": "python",
   "pygments_lexer": "ipython3",
   "version": "3.6.10"
  },
  "toc": {
   "base_numbering": 1,
   "nav_menu": {},
   "number_sections": true,
   "sideBar": true,
   "skip_h1_title": false,
   "title_cell": "Table of Contents",
   "title_sidebar": "Contents",
   "toc_cell": false,
   "toc_position": {},
   "toc_section_display": true,
   "toc_window_display": false
  }
 },
 "nbformat": 4,
 "nbformat_minor": 2
}
