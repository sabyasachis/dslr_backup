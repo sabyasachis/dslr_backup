{
 "cells": [
  {
   "cell_type": "code",
   "execution_count": 2,
   "metadata": {
    "ExecuteTime": {
     "end_time": "2020-08-19T14:39:07.652422Z",
     "start_time": "2020-08-19T14:39:06.309876Z"
    }
   },
   "outputs": [],
   "source": [
    "import pandas as pd\n",
    "import numpy as np\n",
    "import gc\n",
    "import os, shutil\n",
    "import sys\n",
    "import matplotlib.pyplot as plt\n",
    "import open3d as o3d\n",
    "import transforms3d\n",
    "from tqdm import tqdm_notebook\n",
    "import copy"
   ]
  },
  {
   "cell_type": "raw",
   "metadata": {
    "ExecuteTime": {
     "end_time": "2020-02-16T18:39:20.789766Z",
     "start_time": "2020-02-16T18:39:20.787167Z"
    }
   },
   "source": [
    "OUTPUT_FOLDER = \"6\"\n",
    "DYNAMICSUBFOLDER = \"6\""
   ]
  },
  {
   "cell_type": "code",
   "execution_count": 3,
   "metadata": {
    "ExecuteTime": {
     "end_time": "2020-08-19T14:39:07.657261Z",
     "start_time": "2020-08-19T14:39:07.654003Z"
    }
   },
   "outputs": [],
   "source": [
    "PATH = \"/home/saby/Projects/ati/data/data/datasets/Carla/64beam-Data/\"\n",
    "BASE_FOLDER = \"dynamic\"\n",
    "\n",
    "STATIC_FOLDER = \"_corr_static\"\n",
    "DYNAMIC_FOLDER = \"_segment\"\n",
    "PAIR_FILE = \"pair_with_pose_transform_dynseg_all.csv\"\n",
    "\n",
    "\n",
    "BASE_PATH = os.path.join(PATH, BASE_FOLDER)"
   ]
  },
  {
   "cell_type": "code",
   "execution_count": null,
   "metadata": {
    "ExecuteTime": {
     "end_time": "2020-08-19T14:17:26.394580Z",
     "start_time": "2020-08-19T14:17:26.290038Z"
    }
   },
   "outputs": [],
   "source": [
    "pair_path = os.path.join(PATH, PAIR_FILE)\n",
    "df_pair = pd.read_csv(pair_path)\n",
    "df_pair.shape"
   ]
  },
  {
   "cell_type": "code",
   "execution_count": null,
   "metadata": {
    "ExecuteTime": {
     "end_time": "2020-08-19T14:17:26.413561Z",
     "start_time": "2020-08-19T14:17:26.396071Z"
    }
   },
   "outputs": [],
   "source": [
    "df_pair.sample()"
   ]
  },
  {
   "cell_type": "code",
   "execution_count": null,
   "metadata": {
    "ExecuteTime": {
     "end_time": "2020-08-19T14:17:26.420202Z",
     "start_time": "2020-08-19T14:17:26.415244Z"
    }
   },
   "outputs": [],
   "source": [
    "# Function to get transformation matrix for a given pose\n",
    "def pose2matrix(translation_list, rotation_angle_list, zoom_list=[1,1,1]):\n",
    "    # trans_vec = np.array(translation_list)\n",
    "    rot_ang = [np.deg2rad(ang) for ang in rotation_angle_list ]\n",
    "    rot_mat = transforms3d.euler.euler2mat(rot_ang[0], rot_ang[1], rot_ang[2])\n",
    "    zoom_vec = np.array(zoom_list)\n",
    "    # transform_mat = transforms3d.affines.compose(trans_vec, rot_mat, zoom_vec)\n",
    "    transform_mat = transforms3d.affines.compose(translation_list, rot_mat, zoom_list)\n",
    "    return transform_mat\n",
    "\n",
    "def getint(name):\n",
    "    return int(name.split('.')[0])"
   ]
  },
  {
   "cell_type": "code",
   "execution_count": null,
   "metadata": {
    "ExecuteTime": {
     "end_time": "2020-08-19T14:17:26.429677Z",
     "start_time": "2020-08-19T14:17:26.422225Z"
    },
    "code_folding": [
     0,
     27
    ]
   },
   "outputs": [],
   "source": [
    "# def transform_corr_static_pcd(static_pcd, pair_row):\n",
    "#     # Calculate all the transforms\n",
    "#     transform_lidar   = pose2matrix([0, 0, 0],\n",
    "#                                     [0, 0, 90],\n",
    "#                                     [1, 1, -1])\n",
    "#     transform_static1  = pose2matrix([pair_row['static_x'], pair_row['static_y'], pair_row['static_z']],\n",
    "#                                     [pair_row['static_roll'],pair_row['static_pitch'], pair_row['static_yaw']])\n",
    "#     transform_dynamic1 = pose2matrix([pair_row['dynamic_x'], pair_row['dynamic_y'], pair_row['dynamic_z']],\n",
    "#                                     [pair_row['dynamic_roll'], pair_row['dynamic_pitch'], pair_row['dynamic_yaw']])\n",
    "#     transform1 = np.matmul(np.linalg.inv(transform_dynamic1), transform_static1)\n",
    "    \n",
    "#     transform_static2  = pose2matrix([0, 0, 0],\n",
    "#                                     [pair_row['static_roll'],pair_row['static_pitch'], pair_row['static_yaw']])\n",
    "#     transform_dynamic2 = pose2matrix([0, 0, 0],\n",
    "#                                     [pair_row['dynamic_roll'], pair_row['dynamic_pitch'], pair_row['dynamic_yaw']])\n",
    "#     transform2 = np.matmul(np.linalg.inv(transform_dynamic2), transform_static2)\n",
    "    \n",
    "#     # Apply all the transforms\n",
    "#     static_pcd_tmp = copy.deepcopy(static_pcd)\n",
    "#     static_pcd_tmp.transform(np.linalg.inv(transform_lidar))\n",
    "#     static_pcd_tmp.transform(np.linalg.inv(transform1))\n",
    "#     static_pcd_tmp.transform(transform2)\n",
    "#     static_pcd_tmp.transform(transform2)     # Need to fix this hack\n",
    "#     static_pcd_tmp.transform(transform_lidar)\n",
    "    \n",
    "#     return static_pcd_tmp\n",
    "\n",
    "def transform_corr_static_pcd(static_pcd, pair_row):\n",
    "    # Calculate all the transforms\n",
    "    transform_lidar   = pose2matrix([0, 0, 0],\n",
    "                                    [0, 0, 90],\n",
    "                                    [1, 1, -1])\n",
    "    transform_static1  = pose2matrix([pair_row['static_x'], pair_row['static_y'], 0],\n",
    "                                    [0,0, pair_row['static_yaw']])\n",
    "    transform_dynamic1 = pose2matrix([pair_row['dynamic_x'], pair_row['dynamic_y'], 0],\n",
    "                                    [0, 0, pair_row['dynamic_yaw']])\n",
    "    transform1 = np.matmul(np.linalg.inv(transform_dynamic1), transform_static1)\n",
    "    \n",
    "    transform_static2  = pose2matrix([0, 0, 0],\n",
    "                                    [0,0, pair_row['static_yaw']])\n",
    "    transform_dynamic2 = pose2matrix([0, 0, 0],\n",
    "                                    [0, 0, pair_row['dynamic_yaw']])\n",
    "    transform2 = np.matmul(np.linalg.inv(transform_dynamic2), transform_static2)\n",
    "    \n",
    "    # Apply all the transforms\n",
    "    static_pcd_tmp = copy.deepcopy(static_pcd)\n",
    "    static_pcd_tmp.transform(np.linalg.inv(transform_lidar))\n",
    "    static_pcd_tmp.transform(np.linalg.inv(transform1))\n",
    "    static_pcd_tmp.transform(transform2)\n",
    "    static_pcd_tmp.transform(transform2)     # Need to fix this hack\n",
    "    static_pcd_tmp.transform(transform_lidar)\n",
    "    \n",
    "    return static_pcd_tmp"
   ]
  },
  {
   "cell_type": "code",
   "execution_count": 4,
   "metadata": {
    "ExecuteTime": {
     "end_time": "2020-08-19T14:39:12.010333Z",
     "start_time": "2020-08-19T14:39:10.894583Z"
    }
   },
   "outputs": [],
   "source": [
    "for DYNAMICSUBFOLDER in os.listdir(os.path.join(BASE_PATH)):\n",
    "    OUTPUT_STATIC_PATH = os.path.join(BASE_PATH, DYNAMICSUBFOLDER, STATIC_FOLDER)\n",
    "    if not os.path.exists(OUTPUT_STATIC_PATH):\n",
    "        os.makedirs(OUTPUT_STATIC_PATH)\n",
    "    else:\n",
    "        shutil.rmtree(OUTPUT_STATIC_PATH)\n",
    "        os.makedirs(OUTPUT_STATIC_PATH)"
   ]
  },
  {
   "cell_type": "code",
   "execution_count": null,
   "metadata": {
    "ExecuteTime": {
     "end_time": "2020-08-19T14:29:39.079790Z",
     "start_time": "2020-08-19T14:17:26.449735Z"
    }
   },
   "outputs": [],
   "source": [
    "for idx, row in tqdm_notebook(df_pair.iterrows(), total=df_pair.shape[0]):\n",
    "    DYNAMICSUBFOLDER = row['dynamic_path'].split(\"/\")[-3]\n",
    "#     print(\"DYNAMICSUBFOLDER : {}\".format(DYNAMICSUBFOLDER))\n",
    "    \n",
    "    OUTPUT_STATIC_PATH = os.path.join(BASE_PATH, DYNAMICSUBFOLDER, STATIC_FOLDER)\n",
    "    if os.path.exists(row['dynamic_path']):\n",
    "        static_file_list = sorted(os.listdir(OUTPUT_STATIC_PATH), key=getint)\n",
    "        if len(static_file_list) <= 0:\n",
    "            file_idx = 0\n",
    "        else:\n",
    "            file_idx = getint(static_file_list[-1]) + 1\n",
    "#         print(file_idx)\n",
    "#         continue\n",
    "        static_src = row['static_path']\n",
    "        static_pcd = o3d.io.read_point_cloud(static_src)\n",
    "        static_pcd = transform_corr_static_pcd(static_pcd, row)\n",
    "        \n",
    "        fname = str(file_idx) + \".ply\"\n",
    "        static_dst = os.path.join(OUTPUT_STATIC_PATH, fname)\n",
    "        o3d.io.write_point_cloud(static_dst, static_pcd, write_ascii=True)\n",
    "#     if file_idx == 20:\n",
    "#         break"
   ]
  },
  {
   "cell_type": "code",
   "execution_count": null,
   "metadata": {},
   "outputs": [],
   "source": []
  },
  {
   "cell_type": "code",
   "execution_count": null,
   "metadata": {},
   "outputs": [],
   "source": []
  },
  {
   "cell_type": "code",
   "execution_count": null,
   "metadata": {},
   "outputs": [],
   "source": []
  },
  {
   "cell_type": "code",
   "execution_count": null,
   "metadata": {},
   "outputs": [],
   "source": []
  },
  {
   "cell_type": "code",
   "execution_count": null,
   "metadata": {},
   "outputs": [],
   "source": []
  },
  {
   "cell_type": "code",
   "execution_count": null,
   "metadata": {},
   "outputs": [],
   "source": []
  },
  {
   "cell_type": "code",
   "execution_count": null,
   "metadata": {
    "ExecuteTime": {
     "end_time": "2020-08-19T14:29:39.081347Z",
     "start_time": "2020-08-19T14:16:05.027Z"
    }
   },
   "outputs": [],
   "source": [
    "def draw_registration_result(src_pcd, dst_pcd, x_pt, y_pt, theta):    \n",
    "    src_pcd_tmp = copy.deepcopy(src_pcd)\n",
    "    dst_pcd_tmp = copy.deepcopy(dst_pcd)\n",
    "    \n",
    "    src_pcd_tmp.paint_uniform_color([1, 0, 0])  # red source\n",
    "    dst_pcd_tmp.paint_uniform_color([0, 0, 1])  # blue target\n",
    "    \n",
    "    transform_mat = pose2matrix([x_pt, y_pt, 0], [0,0,theta])\n",
    "    dst_pcd_tmp.transform(transform_mat)\n",
    "    \n",
    "    visualizer = o3d.JVisualizer()\n",
    "    visualizer.add_geometry(src_pcd_tmp)\n",
    "    visualizer.add_geometry(dst_pcd_tmp)\n",
    "    visualizer.show()"
   ]
  },
  {
   "cell_type": "code",
   "execution_count": null,
   "metadata": {
    "ExecuteTime": {
     "end_time": "2020-08-19T14:29:39.082384Z",
     "start_time": "2020-08-19T14:16:05.029Z"
    }
   },
   "outputs": [],
   "source": [
    "some_idx = np.random.choice(len(os.listdir(OUTPUT_STATIC_PATH)))\n",
    "some_fname = str(some_idx) + \".ply\"\n",
    "# some_row = df_pair[(df_pair['dynamic_path'].split(\"/\")[-3] == DYNAMICSUBFOLDER) &\\\n",
    "#             (df_pair['dynamic_path'].split(\"/\")[-1] == some_fname)]\n",
    "\n",
    "some_static_dst = os.path.join(OUTPUT_STATIC_PATH, some_fname)\n",
    "some_dynamic_dst = os.path.join(os.path.join(OUTPUT_PATH, \"_out\"), some_fname)\n",
    "\n",
    "some_static_pcd = o3d.io.read_point_cloud(some_static_dst)\n",
    "some_dynamic_pcd = o3d.io.read_point_cloud(some_dynamic_dst)\n",
    "\n",
    "# print(\"Pose_diff_x: {} | Pose_diff_y: {} | Pose_diff_yaw: {} |\".format(some_row['pose_x'], some_row['pose_y'], some_row['pose_yaw']))\n",
    "draw_registration_result(some_static_pcd, some_dynamic_pcd, 0, 0, 0)"
   ]
  },
  {
   "cell_type": "code",
   "execution_count": null,
   "metadata": {},
   "outputs": [],
   "source": []
  }
 ],
 "metadata": {
  "kernelspec": {
   "display_name": "Python 3",
   "language": "python",
   "name": "python3"
  },
  "language_info": {
   "codemirror_mode": {
    "name": "ipython",
    "version": 3
   },
   "file_extension": ".py",
   "mimetype": "text/x-python",
   "name": "python",
   "nbconvert_exporter": "python",
   "pygments_lexer": "ipython3",
   "version": "3.6.10"
  },
  "toc": {
   "base_numbering": 1,
   "nav_menu": {},
   "number_sections": true,
   "sideBar": true,
   "skip_h1_title": false,
   "title_cell": "Table of Contents",
   "title_sidebar": "Contents",
   "toc_cell": false,
   "toc_position": {},
   "toc_section_display": true,
   "toc_window_display": false
  }
 },
 "nbformat": 4,
 "nbformat_minor": 2
}
